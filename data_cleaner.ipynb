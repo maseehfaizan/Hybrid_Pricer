{
 "cells": [
  {
   "cell_type": "markdown",
   "metadata": {},
   "source": [
    "# Data Cleaning Notebook\n",
    "\n",
    "### This notebook cleans and merges stock-related data and general Reddit posts.\n",
    "### The process is divided into the following sections:\n",
    "###  1. Data Imports and Setup\n",
    "###  2. Data Cleaning for Stock Posts and Comments\n",
    "###  3. Merging and Exporting the Final DataFrame\n"
   ]
  },
  {
   "cell_type": "code",
   "execution_count": 2,
   "metadata": {},
   "outputs": [],
   "source": [
    "import pandas as pd\n",
    "import numpy as np\n",
    "import os\n",
    "import importlib.util\n",
    "import sys\n",
    "import json"
   ]
  },
  {
   "cell_type": "markdown",
   "metadata": {},
   "source": [
    "## 1. Data Imports and Setup for Stock Data"
   ]
  },
  {
   "cell_type": "code",
   "execution_count": 15,
   "metadata": {},
   "outputs": [],
   "source": [
    "# Loading general and stock specific posts\n",
    "posts = pd.read_csv('./data/reddit/general_posts.csv').dropna(subset='category') ## Making sure to drop any empty cells\n",
    "stock_posts = pd.read_csv('./data/reddit/posts_stock_specific.csv').dropna(subset='category')\n",
    "\n",
    "# Loading comments and stock specific comments\n",
    "comments = pd.read_csv('./data/reddit/general_comments.csv')\n",
    "stock_comments = pd.read_csv('./data/reddit/comments_stock_specific.csv')"
   ]
  },
  {
   "cell_type": "markdown",
   "metadata": {},
   "source": [
    "### Making sure that the scores are considered as actual number and not strings. Moreover, I will sort the comments by score and group them together by their respective post_id. \n",
    "\n",
    "I am only considering the top 15 comments for each post"
   ]
  },
  {
   "cell_type": "code",
   "execution_count": 16,
   "metadata": {},
   "outputs": [],
   "source": [
    "comments['score'] = pd.to_numeric(comments['score'])\n",
    "stock_comments['score'] = pd.to_numeric(stock_comments['score'])"
   ]
  },
  {
   "cell_type": "code",
   "execution_count": 17,
   "metadata": {},
   "outputs": [
    {
     "name": "stderr",
     "output_type": "stream",
     "text": [
      "/var/folders/0w/q70p80s12nz5lpzr087614lw0000gn/T/ipykernel_10913/1312554599.py:2: DeprecationWarning: DataFrameGroupBy.apply operated on the grouping columns. This behavior is deprecated, and in a future version of pandas the grouping columns will be excluded from the operation. Either pass `include_groups=False` to exclude the groupings or explicitly select the grouping columns after groupby to silence this warning.\n",
      "  stock_comments = stock_comments.groupby('post_id').apply(lambda x: x.sort_values(by='score', ascending=False).head(15)).reset_index(drop=True)\n",
      "/var/folders/0w/q70p80s12nz5lpzr087614lw0000gn/T/ipykernel_10913/1312554599.py:4: DeprecationWarning: DataFrameGroupBy.apply operated on the grouping columns. This behavior is deprecated, and in a future version of pandas the grouping columns will be excluded from the operation. Either pass `include_groups=False` to exclude the groupings or explicitly select the grouping columns after groupby to silence this warning.\n",
      "  comments = comments.groupby('post_id').apply(lambda x: x.sort_values(by='score', ascending=False).head(15)).reset_index(drop=True)\n"
     ]
    }
   ],
   "source": [
    "# Group by 'post_id', sort by 'score' within each group, and get the head (top 10)\n",
    "stock_comments = stock_comments.groupby('post_id').apply(lambda x: x.sort_values(by='score', ascending=False).head(15)).reset_index(drop=True)\n",
    "\n",
    "comments = comments.groupby('post_id').apply(lambda x: x.sort_values(by='score', ascending=False).head(15)).reset_index(drop=True)"
   ]
  },
  {
   "cell_type": "markdown",
   "metadata": {},
   "source": [
    "#### I have multiple comments per post_id. I want to make sure that all the comments stay together. I am putting all the comments in a list and will group them together. "
   ]
  },
  {
   "cell_type": "code",
   "execution_count": 18,
   "metadata": {},
   "outputs": [],
   "source": [
    "stock_comments = stock_comments.groupby('post_id')['body'].apply(list).reset_index()\n",
    "comments = comments.groupby('post_id')['body'].apply(list).reset_index()"
   ]
  },
  {
   "cell_type": "markdown",
   "metadata": {},
   "source": [
    "#### Let's now merge the posts and comments together"
   ]
  },
  {
   "cell_type": "code",
   "execution_count": 19,
   "metadata": {},
   "outputs": [],
   "source": [
    "stocks = pd.merge(stock_posts, stock_comments, on='post_id', how='left')\n",
    "general = pd.merge(posts, comments, on='post_id', how='left')"
   ]
  },
  {
   "cell_type": "markdown",
   "metadata": {},
   "source": [
    "#### Making sure the datetime is well structured and removing having a uniform date. (Removing Hours and Seconds)"
   ]
  },
  {
   "cell_type": "code",
   "execution_count": 20,
   "metadata": {},
   "outputs": [],
   "source": [
    "#Convert 'created_utc' to datetime and keep only the date ---\n",
    "stocks['created_utc'] = pd.to_datetime(stocks['created_utc']).dt.date\n",
    "general['created_utc'] = pd.to_datetime(general['created_utc']).dt.date"
   ]
  },
  {
   "cell_type": "code",
   "execution_count": 21,
   "metadata": {},
   "outputs": [
    {
     "data": {
      "text/html": [
       "<div>\n",
       "<style scoped>\n",
       "    .dataframe tbody tr th:only-of-type {\n",
       "        vertical-align: middle;\n",
       "    }\n",
       "\n",
       "    .dataframe tbody tr th {\n",
       "        vertical-align: top;\n",
       "    }\n",
       "\n",
       "    .dataframe thead th {\n",
       "        text-align: right;\n",
       "    }\n",
       "</style>\n",
       "<table border=\"1\" class=\"dataframe\">\n",
       "  <thead>\n",
       "    <tr style=\"text-align: right;\">\n",
       "      <th></th>\n",
       "      <th>post_id</th>\n",
       "      <th>title</th>\n",
       "      <th>selftext</th>\n",
       "      <th>score</th>\n",
       "      <th>upvote_ratio</th>\n",
       "      <th>created_utc</th>\n",
       "      <th>num_comments</th>\n",
       "      <th>author</th>\n",
       "      <th>permalink</th>\n",
       "      <th>url</th>\n",
       "      <th>is_self</th>\n",
       "      <th>flair</th>\n",
       "      <th>subreddit</th>\n",
       "      <th>category</th>\n",
       "      <th>body</th>\n",
       "    </tr>\n",
       "  </thead>\n",
       "  <tbody>\n",
       "    <tr>\n",
       "      <th>0</th>\n",
       "      <td>1esvxig</td>\n",
       "      <td>CNBC: Harris to propose federal ban on 'corpor...</td>\n",
       "      <td>NaN</td>\n",
       "      <td>35612</td>\n",
       "      <td>0.87</td>\n",
       "      <td>2024-08-15</td>\n",
       "      <td>2768</td>\n",
       "      <td>BothZookeepergame612</td>\n",
       "      <td>/r/Economics/comments/1esvxig/cnbc_harris_to_p...</td>\n",
       "      <td>https://www.cnbc.com/2024/08/15/harris-corpora...</td>\n",
       "      <td>False</td>\n",
       "      <td>NaN</td>\n",
       "      <td>Economics</td>\n",
       "      <td>general</td>\n",
       "      <td>[The headline sounds way different than the pr...</td>\n",
       "    </tr>\n",
       "    <tr>\n",
       "      <th>1</th>\n",
       "      <td>1f2eubo</td>\n",
       "      <td>Should the world's richest 1% - who gained $42...</td>\n",
       "      <td>NaN</td>\n",
       "      <td>18133</td>\n",
       "      <td>0.91</td>\n",
       "      <td>2024-08-27</td>\n",
       "      <td>2815</td>\n",
       "      <td>Impressive-Ad1944</td>\n",
       "      <td>/r/Economics/comments/1f2eubo/should_the_world...</td>\n",
       "      <td>https://www.business-standard.com/world-news/w...</td>\n",
       "      <td>False</td>\n",
       "      <td>NaN</td>\n",
       "      <td>Economics</td>\n",
       "      <td>general</td>\n",
       "      <td>[[removed], While the Walton family is one of ...</td>\n",
       "    </tr>\n",
       "    <tr>\n",
       "      <th>2</th>\n",
       "      <td>1ef14i6</td>\n",
       "      <td>Boomers' iron grip on $76 trillion of wealth p...</td>\n",
       "      <td>NaN</td>\n",
       "      <td>13372</td>\n",
       "      <td>0.91</td>\n",
       "      <td>2024-07-29</td>\n",
       "      <td>773</td>\n",
       "      <td>GetRichQuickSchemer_</td>\n",
       "      <td>/r/Economics/comments/1ef14i6/boomers_iron_gri...</td>\n",
       "      <td>https://creditnews.com/economy/boomers-iron-gr...</td>\n",
       "      <td>False</td>\n",
       "      <td>News</td>\n",
       "      <td>Economics</td>\n",
       "      <td>general</td>\n",
       "      <td>[Having a large IRA/401K is understandable. \\n...</td>\n",
       "    </tr>\n",
       "    <tr>\n",
       "      <th>3</th>\n",
       "      <td>1cbzoay</td>\n",
       "      <td>Nate Silver: Go to a state school. The Ivy Lea...</td>\n",
       "      <td>NaN</td>\n",
       "      <td>12639</td>\n",
       "      <td>0.92</td>\n",
       "      <td>2024-04-24</td>\n",
       "      <td>1432</td>\n",
       "      <td>jivatman</td>\n",
       "      <td>/r/Economics/comments/1cbzoay/nate_silver_go_t...</td>\n",
       "      <td>https://www.natesilver.net/p/go-to-a-state-school</td>\n",
       "      <td>False</td>\n",
       "      <td>NaN</td>\n",
       "      <td>Economics</td>\n",
       "      <td>general</td>\n",
       "      <td>[The point of the ivies isn't the quality of t...</td>\n",
       "    </tr>\n",
       "    <tr>\n",
       "      <th>4</th>\n",
       "      <td>1cz1a2v</td>\n",
       "      <td>Some Americans live in a parallel economy wher...</td>\n",
       "      <td>NaN</td>\n",
       "      <td>10761</td>\n",
       "      <td>0.85</td>\n",
       "      <td>2024-05-23</td>\n",
       "      <td>3178</td>\n",
       "      <td>mafco</td>\n",
       "      <td>/r/Economics/comments/1cz1a2v/some_americans_l...</td>\n",
       "      <td>https://finance.yahoo.com/news/some-americans-...</td>\n",
       "      <td>False</td>\n",
       "      <td>News</td>\n",
       "      <td>Economics</td>\n",
       "      <td>general</td>\n",
       "      <td>[The Great Bifurcation occurred right around C...</td>\n",
       "    </tr>\n",
       "  </tbody>\n",
       "</table>\n",
       "</div>"
      ],
      "text/plain": [
       "   post_id                                              title selftext  score  \\\n",
       "0  1esvxig  CNBC: Harris to propose federal ban on 'corpor...      NaN  35612   \n",
       "1  1f2eubo  Should the world's richest 1% - who gained $42...      NaN  18133   \n",
       "2  1ef14i6  Boomers' iron grip on $76 trillion of wealth p...      NaN  13372   \n",
       "3  1cbzoay  Nate Silver: Go to a state school. The Ivy Lea...      NaN  12639   \n",
       "4  1cz1a2v  Some Americans live in a parallel economy wher...      NaN  10761   \n",
       "\n",
       "   upvote_ratio created_utc  num_comments                author  \\\n",
       "0          0.87  2024-08-15          2768  BothZookeepergame612   \n",
       "1          0.91  2024-08-27          2815     Impressive-Ad1944   \n",
       "2          0.91  2024-07-29           773  GetRichQuickSchemer_   \n",
       "3          0.92  2024-04-24          1432              jivatman   \n",
       "4          0.85  2024-05-23          3178                 mafco   \n",
       "\n",
       "                                           permalink  \\\n",
       "0  /r/Economics/comments/1esvxig/cnbc_harris_to_p...   \n",
       "1  /r/Economics/comments/1f2eubo/should_the_world...   \n",
       "2  /r/Economics/comments/1ef14i6/boomers_iron_gri...   \n",
       "3  /r/Economics/comments/1cbzoay/nate_silver_go_t...   \n",
       "4  /r/Economics/comments/1cz1a2v/some_americans_l...   \n",
       "\n",
       "                                                 url  is_self flair  \\\n",
       "0  https://www.cnbc.com/2024/08/15/harris-corpora...    False   NaN   \n",
       "1  https://www.business-standard.com/world-news/w...    False   NaN   \n",
       "2  https://creditnews.com/economy/boomers-iron-gr...    False  News   \n",
       "3  https://www.natesilver.net/p/go-to-a-state-school    False   NaN   \n",
       "4  https://finance.yahoo.com/news/some-americans-...    False  News   \n",
       "\n",
       "   subreddit category                                               body  \n",
       "0  Economics  general  [The headline sounds way different than the pr...  \n",
       "1  Economics  general  [[removed], While the Walton family is one of ...  \n",
       "2  Economics  general  [Having a large IRA/401K is understandable. \\n...  \n",
       "3  Economics  general  [The point of the ivies isn't the quality of t...  \n",
       "4  Economics  general  [The Great Bifurcation occurred right around C...  "
      ]
     },
     "execution_count": 21,
     "metadata": {},
     "output_type": "execute_result"
    }
   ],
   "source": [
    "general.head()"
   ]
  },
  {
   "cell_type": "markdown",
   "metadata": {},
   "source": [
    "#### Renaming The columns to have an appropriate name"
   ]
  },
  {
   "cell_type": "code",
   "execution_count": 22,
   "metadata": {},
   "outputs": [],
   "source": [
    "names = {'selftext':'post','body':'comments'}\n",
    "stocks = stocks.rename(columns=names)\n",
    "general = general.rename(columns=names)"
   ]
  },
  {
   "cell_type": "markdown",
   "metadata": {},
   "source": [
    "###  3. Merging and Exporting the Final DataFrame"
   ]
  },
  {
   "cell_type": "code",
   "execution_count": 23,
   "metadata": {},
   "outputs": [],
   "source": [
    "main_df = pd.concat([stocks,general], ignore_index=True)\n",
    "\n",
    "main_df.to_csv('./data/cleaned_stock.csv')"
   ]
  },
  {
   "cell_type": "markdown",
   "metadata": {},
   "source": [
    "# Financial Data Cleaner (This will only output yearly data for the 10-K NO 10-Qs for now)\n",
    "\n",
    "The Goal in this section is to clean the raw financial data for it to be useful for my needs\n",
    "\n",
    "1. I am importing the raw data\n",
    "2. I am pivoting the data so the account names are columns (Easier to manipulate)\n",
    "3. I am Removing all the accounts that are not part of 10-K or 10-Q. Essentially if the frame is not for either of those the rows will fall (CY20XXQX or CY20XX)\n",
    "4. I am removing all of the columns that are 95% empty. This is because some of the accounts are available but with no information\n",
    "5. I am doing this for all 500 companies so the data is easier to manipulate, once it is done the raw data will be deleted"
   ]
  },
  {
   "cell_type": "markdown",
   "metadata": {},
   "source": [
    "### I am processing different Financial csv data and cleaning the date up\n",
    "- Import the Financial csv data\n",
    "- sort values by date\n",
    "- Pivot the table to make the concept appear as independant columns across different date&Time\n",
    "- Given that during the pivote there were a lot of duplicate that were generated, I group the columns by filed date and remove any NaN cells as to have a cleaned dataframe\n",
    "- To further clean the data, I removed the columns that are 95% empty. I cannot do any meaning full Time Series analysis on those columns\n",
    "\n",
    "### Output in \"Clean\" folder"
   ]
  },
  {
   "cell_type": "code",
   "execution_count": 1,
   "metadata": {},
   "outputs": [
    {
     "name": "stdout",
     "output_type": "stream",
     "text": [
      "Starting data processing...\n",
      "Processing symbol: MMM\n",
      "Successfully read data for MMM\n",
      "Pivoted data for MMM\n"
     ]
    },
    {
     "name": "stderr",
     "output_type": "stream",
     "text": [
      "/var/folders/0w/q70p80s12nz5lpzr087614lw0000gn/T/ipykernel_52557/4138676989.py:41: FutureWarning: The behavior of DataFrame concatenation with empty or all-NA entries is deprecated. In a future version, this will no longer exclude empty or all-NA columns when determining the result dtypes. To retain the old behavior, exclude the relevant entries before the concat operation.\n",
      "  consolidated_df = pd.concat([consolidated_df, pd.DataFrame([row_data])], ignore_index=True)\n"
     ]
    },
    {
     "name": "stdout",
     "output_type": "stream",
     "text": [
      "Filtered by frame format for MMM\n",
      "Filtering columns with >95% empty cells for MMM\n",
      "Removed sparse columns for MMM\n",
      "Successfully processed and saved data for MMM to ./data/clean/MMM.csv\n",
      "Processing symbol: AOS\n",
      "Successfully read data for AOS\n",
      "Pivoted data for AOS\n"
     ]
    },
    {
     "name": "stderr",
     "output_type": "stream",
     "text": [
      "/var/folders/0w/q70p80s12nz5lpzr087614lw0000gn/T/ipykernel_52557/4138676989.py:41: FutureWarning: The behavior of DataFrame concatenation with empty or all-NA entries is deprecated. In a future version, this will no longer exclude empty or all-NA columns when determining the result dtypes. To retain the old behavior, exclude the relevant entries before the concat operation.\n",
      "  consolidated_df = pd.concat([consolidated_df, pd.DataFrame([row_data])], ignore_index=True)\n"
     ]
    },
    {
     "name": "stdout",
     "output_type": "stream",
     "text": [
      "Filtered by frame format for AOS\n",
      "Filtering columns with >95% empty cells for AOS\n",
      "Removed sparse columns for AOS\n",
      "Successfully processed and saved data for AOS to ./data/clean/AOS.csv\n",
      "Processing symbol: ABT\n",
      "Successfully read data for ABT\n",
      "Pivoted data for ABT\n"
     ]
    },
    {
     "name": "stderr",
     "output_type": "stream",
     "text": [
      "/var/folders/0w/q70p80s12nz5lpzr087614lw0000gn/T/ipykernel_52557/4138676989.py:41: FutureWarning: The behavior of DataFrame concatenation with empty or all-NA entries is deprecated. In a future version, this will no longer exclude empty or all-NA columns when determining the result dtypes. To retain the old behavior, exclude the relevant entries before the concat operation.\n",
      "  consolidated_df = pd.concat([consolidated_df, pd.DataFrame([row_data])], ignore_index=True)\n"
     ]
    },
    {
     "name": "stdout",
     "output_type": "stream",
     "text": [
      "Filtered by frame format for ABT\n",
      "Filtering columns with >95% empty cells for ABT\n",
      "Removed sparse columns for ABT\n",
      "Successfully processed and saved data for ABT to ./data/clean/ABT.csv\n",
      "Processing symbol: ABBV\n",
      "Successfully read data for ABBV\n",
      "Pivoted data for ABBV\n"
     ]
    },
    {
     "name": "stderr",
     "output_type": "stream",
     "text": [
      "/var/folders/0w/q70p80s12nz5lpzr087614lw0000gn/T/ipykernel_52557/4138676989.py:41: FutureWarning: The behavior of DataFrame concatenation with empty or all-NA entries is deprecated. In a future version, this will no longer exclude empty or all-NA columns when determining the result dtypes. To retain the old behavior, exclude the relevant entries before the concat operation.\n",
      "  consolidated_df = pd.concat([consolidated_df, pd.DataFrame([row_data])], ignore_index=True)\n"
     ]
    },
    {
     "name": "stdout",
     "output_type": "stream",
     "text": [
      "Filtered by frame format for ABBV\n",
      "Filtering columns with >95% empty cells for ABBV\n",
      "Removed sparse columns for ABBV\n",
      "Successfully processed and saved data for ABBV to ./data/clean/ABBV.csv\n",
      "Processing symbol: ACN\n",
      "Successfully read data for ACN\n",
      "Pivoted data for ACN\n"
     ]
    },
    {
     "name": "stderr",
     "output_type": "stream",
     "text": [
      "/var/folders/0w/q70p80s12nz5lpzr087614lw0000gn/T/ipykernel_52557/4138676989.py:41: FutureWarning: The behavior of DataFrame concatenation with empty or all-NA entries is deprecated. In a future version, this will no longer exclude empty or all-NA columns when determining the result dtypes. To retain the old behavior, exclude the relevant entries before the concat operation.\n",
      "  consolidated_df = pd.concat([consolidated_df, pd.DataFrame([row_data])], ignore_index=True)\n"
     ]
    },
    {
     "name": "stdout",
     "output_type": "stream",
     "text": [
      "Filtered by frame format for ACN\n",
      "Filtering columns with >95% empty cells for ACN\n",
      "Removed sparse columns for ACN\n",
      "Successfully processed and saved data for ACN to ./data/clean/ACN.csv\n",
      "Processing symbol: ADBE\n",
      "Successfully read data for ADBE\n",
      "Pivoted data for ADBE\n"
     ]
    },
    {
     "name": "stderr",
     "output_type": "stream",
     "text": [
      "/var/folders/0w/q70p80s12nz5lpzr087614lw0000gn/T/ipykernel_52557/4138676989.py:41: FutureWarning: The behavior of DataFrame concatenation with empty or all-NA entries is deprecated. In a future version, this will no longer exclude empty or all-NA columns when determining the result dtypes. To retain the old behavior, exclude the relevant entries before the concat operation.\n",
      "  consolidated_df = pd.concat([consolidated_df, pd.DataFrame([row_data])], ignore_index=True)\n"
     ]
    },
    {
     "name": "stdout",
     "output_type": "stream",
     "text": [
      "Filtered by frame format for ADBE\n",
      "Filtering columns with >95% empty cells for ADBE\n",
      "Removed sparse columns for ADBE\n",
      "Successfully processed and saved data for ADBE to ./data/clean/ADBE.csv\n",
      "Processing symbol: AMD\n",
      "Successfully read data for AMD\n",
      "Pivoted data for AMD\n"
     ]
    },
    {
     "name": "stderr",
     "output_type": "stream",
     "text": [
      "/var/folders/0w/q70p80s12nz5lpzr087614lw0000gn/T/ipykernel_52557/4138676989.py:41: FutureWarning: The behavior of DataFrame concatenation with empty or all-NA entries is deprecated. In a future version, this will no longer exclude empty or all-NA columns when determining the result dtypes. To retain the old behavior, exclude the relevant entries before the concat operation.\n",
      "  consolidated_df = pd.concat([consolidated_df, pd.DataFrame([row_data])], ignore_index=True)\n"
     ]
    },
    {
     "name": "stdout",
     "output_type": "stream",
     "text": [
      "Filtered by frame format for AMD\n",
      "Filtering columns with >95% empty cells for AMD\n",
      "Removed sparse columns for AMD\n",
      "Successfully processed and saved data for AMD to ./data/clean/AMD.csv\n",
      "Processing symbol: AES\n",
      "Successfully read data for AES\n",
      "Pivoted data for AES\n"
     ]
    },
    {
     "name": "stderr",
     "output_type": "stream",
     "text": [
      "/var/folders/0w/q70p80s12nz5lpzr087614lw0000gn/T/ipykernel_52557/4138676989.py:41: FutureWarning: The behavior of DataFrame concatenation with empty or all-NA entries is deprecated. In a future version, this will no longer exclude empty or all-NA columns when determining the result dtypes. To retain the old behavior, exclude the relevant entries before the concat operation.\n",
      "  consolidated_df = pd.concat([consolidated_df, pd.DataFrame([row_data])], ignore_index=True)\n"
     ]
    },
    {
     "name": "stdout",
     "output_type": "stream",
     "text": [
      "Filtered by frame format for AES\n",
      "Filtering columns with >95% empty cells for AES\n",
      "Removed sparse columns for AES\n",
      "Successfully processed and saved data for AES to ./data/clean/AES.csv\n",
      "Processing symbol: AFL\n",
      "Successfully read data for AFL\n",
      "Pivoted data for AFL\n"
     ]
    },
    {
     "name": "stderr",
     "output_type": "stream",
     "text": [
      "/var/folders/0w/q70p80s12nz5lpzr087614lw0000gn/T/ipykernel_52557/4138676989.py:41: FutureWarning: The behavior of DataFrame concatenation with empty or all-NA entries is deprecated. In a future version, this will no longer exclude empty or all-NA columns when determining the result dtypes. To retain the old behavior, exclude the relevant entries before the concat operation.\n",
      "  consolidated_df = pd.concat([consolidated_df, pd.DataFrame([row_data])], ignore_index=True)\n"
     ]
    },
    {
     "name": "stdout",
     "output_type": "stream",
     "text": [
      "Filtered by frame format for AFL\n",
      "Filtering columns with >95% empty cells for AFL\n",
      "Removed sparse columns for AFL\n",
      "Successfully processed and saved data for AFL to ./data/clean/AFL.csv\n",
      "Processing symbol: A\n",
      "Successfully read data for A\n",
      "Pivoted data for A\n"
     ]
    },
    {
     "name": "stderr",
     "output_type": "stream",
     "text": [
      "/var/folders/0w/q70p80s12nz5lpzr087614lw0000gn/T/ipykernel_52557/4138676989.py:41: FutureWarning: The behavior of DataFrame concatenation with empty or all-NA entries is deprecated. In a future version, this will no longer exclude empty or all-NA columns when determining the result dtypes. To retain the old behavior, exclude the relevant entries before the concat operation.\n",
      "  consolidated_df = pd.concat([consolidated_df, pd.DataFrame([row_data])], ignore_index=True)\n"
     ]
    },
    {
     "name": "stdout",
     "output_type": "stream",
     "text": [
      "Filtered by frame format for A\n",
      "Filtering columns with >95% empty cells for A\n",
      "Removed sparse columns for A\n",
      "Successfully processed and saved data for A to ./data/clean/A.csv\n",
      "Processing symbol: APD\n",
      "Successfully read data for APD\n",
      "Pivoted data for APD\n"
     ]
    },
    {
     "name": "stderr",
     "output_type": "stream",
     "text": [
      "/var/folders/0w/q70p80s12nz5lpzr087614lw0000gn/T/ipykernel_52557/4138676989.py:41: FutureWarning: The behavior of DataFrame concatenation with empty or all-NA entries is deprecated. In a future version, this will no longer exclude empty or all-NA columns when determining the result dtypes. To retain the old behavior, exclude the relevant entries before the concat operation.\n",
      "  consolidated_df = pd.concat([consolidated_df, pd.DataFrame([row_data])], ignore_index=True)\n"
     ]
    },
    {
     "name": "stdout",
     "output_type": "stream",
     "text": [
      "Filtered by frame format for APD\n",
      "Filtering columns with >95% empty cells for APD\n",
      "Removed sparse columns for APD\n",
      "Successfully processed and saved data for APD to ./data/clean/APD.csv\n",
      "Processing symbol: ABNB\n",
      "Successfully read data for ABNB\n",
      "Pivoted data for ABNB\n"
     ]
    },
    {
     "name": "stderr",
     "output_type": "stream",
     "text": [
      "/var/folders/0w/q70p80s12nz5lpzr087614lw0000gn/T/ipykernel_52557/4138676989.py:41: FutureWarning: The behavior of DataFrame concatenation with empty or all-NA entries is deprecated. In a future version, this will no longer exclude empty or all-NA columns when determining the result dtypes. To retain the old behavior, exclude the relevant entries before the concat operation.\n",
      "  consolidated_df = pd.concat([consolidated_df, pd.DataFrame([row_data])], ignore_index=True)\n"
     ]
    },
    {
     "name": "stdout",
     "output_type": "stream",
     "text": [
      "Filtered by frame format for ABNB\n",
      "Filtering columns with >95% empty cells for ABNB\n",
      "Removed sparse columns for ABNB\n",
      "Successfully processed and saved data for ABNB to ./data/clean/ABNB.csv\n",
      "Processing symbol: AKAM\n",
      "Successfully read data for AKAM\n",
      "Pivoted data for AKAM\n"
     ]
    },
    {
     "name": "stderr",
     "output_type": "stream",
     "text": [
      "/var/folders/0w/q70p80s12nz5lpzr087614lw0000gn/T/ipykernel_52557/4138676989.py:41: FutureWarning: The behavior of DataFrame concatenation with empty or all-NA entries is deprecated. In a future version, this will no longer exclude empty or all-NA columns when determining the result dtypes. To retain the old behavior, exclude the relevant entries before the concat operation.\n",
      "  consolidated_df = pd.concat([consolidated_df, pd.DataFrame([row_data])], ignore_index=True)\n"
     ]
    },
    {
     "name": "stdout",
     "output_type": "stream",
     "text": [
      "Filtered by frame format for AKAM\n",
      "Filtering columns with >95% empty cells for AKAM\n",
      "Removed sparse columns for AKAM\n",
      "Successfully processed and saved data for AKAM to ./data/clean/AKAM.csv\n",
      "Processing symbol: ALB\n",
      "Successfully read data for ALB\n",
      "Pivoted data for ALB\n"
     ]
    },
    {
     "name": "stderr",
     "output_type": "stream",
     "text": [
      "/var/folders/0w/q70p80s12nz5lpzr087614lw0000gn/T/ipykernel_52557/4138676989.py:41: FutureWarning: The behavior of DataFrame concatenation with empty or all-NA entries is deprecated. In a future version, this will no longer exclude empty or all-NA columns when determining the result dtypes. To retain the old behavior, exclude the relevant entries before the concat operation.\n",
      "  consolidated_df = pd.concat([consolidated_df, pd.DataFrame([row_data])], ignore_index=True)\n"
     ]
    },
    {
     "name": "stdout",
     "output_type": "stream",
     "text": [
      "Filtered by frame format for ALB\n",
      "Filtering columns with >95% empty cells for ALB\n",
      "Removed sparse columns for ALB\n",
      "Successfully processed and saved data for ALB to ./data/clean/ALB.csv\n",
      "Processing symbol: ARE\n",
      "Successfully read data for ARE\n",
      "Pivoted data for ARE\n"
     ]
    },
    {
     "name": "stderr",
     "output_type": "stream",
     "text": [
      "/var/folders/0w/q70p80s12nz5lpzr087614lw0000gn/T/ipykernel_52557/4138676989.py:41: FutureWarning: The behavior of DataFrame concatenation with empty or all-NA entries is deprecated. In a future version, this will no longer exclude empty or all-NA columns when determining the result dtypes. To retain the old behavior, exclude the relevant entries before the concat operation.\n",
      "  consolidated_df = pd.concat([consolidated_df, pd.DataFrame([row_data])], ignore_index=True)\n"
     ]
    },
    {
     "name": "stdout",
     "output_type": "stream",
     "text": [
      "Filtered by frame format for ARE\n",
      "Filtering columns with >95% empty cells for ARE\n",
      "Removed sparse columns for ARE\n",
      "Successfully processed and saved data for ARE to ./data/clean/ARE.csv\n",
      "Processing symbol: ALGN\n",
      "Successfully read data for ALGN\n",
      "Pivoted data for ALGN\n"
     ]
    },
    {
     "name": "stderr",
     "output_type": "stream",
     "text": [
      "/var/folders/0w/q70p80s12nz5lpzr087614lw0000gn/T/ipykernel_52557/4138676989.py:41: FutureWarning: The behavior of DataFrame concatenation with empty or all-NA entries is deprecated. In a future version, this will no longer exclude empty or all-NA columns when determining the result dtypes. To retain the old behavior, exclude the relevant entries before the concat operation.\n",
      "  consolidated_df = pd.concat([consolidated_df, pd.DataFrame([row_data])], ignore_index=True)\n"
     ]
    },
    {
     "name": "stdout",
     "output_type": "stream",
     "text": [
      "Filtered by frame format for ALGN\n",
      "Filtering columns with >95% empty cells for ALGN\n",
      "Removed sparse columns for ALGN\n",
      "Successfully processed and saved data for ALGN to ./data/clean/ALGN.csv\n",
      "Processing symbol: ALLE\n",
      "Successfully read data for ALLE\n",
      "Pivoted data for ALLE\n"
     ]
    },
    {
     "name": "stderr",
     "output_type": "stream",
     "text": [
      "/var/folders/0w/q70p80s12nz5lpzr087614lw0000gn/T/ipykernel_52557/4138676989.py:41: FutureWarning: The behavior of DataFrame concatenation with empty or all-NA entries is deprecated. In a future version, this will no longer exclude empty or all-NA columns when determining the result dtypes. To retain the old behavior, exclude the relevant entries before the concat operation.\n",
      "  consolidated_df = pd.concat([consolidated_df, pd.DataFrame([row_data])], ignore_index=True)\n"
     ]
    },
    {
     "name": "stdout",
     "output_type": "stream",
     "text": [
      "Filtered by frame format for ALLE\n",
      "Filtering columns with >95% empty cells for ALLE\n",
      "Removed sparse columns for ALLE\n",
      "Successfully processed and saved data for ALLE to ./data/clean/ALLE.csv\n",
      "Processing symbol: LNT\n",
      "Successfully read data for LNT\n",
      "Pivoted data for LNT\n"
     ]
    },
    {
     "name": "stderr",
     "output_type": "stream",
     "text": [
      "/var/folders/0w/q70p80s12nz5lpzr087614lw0000gn/T/ipykernel_52557/4138676989.py:41: FutureWarning: The behavior of DataFrame concatenation with empty or all-NA entries is deprecated. In a future version, this will no longer exclude empty or all-NA columns when determining the result dtypes. To retain the old behavior, exclude the relevant entries before the concat operation.\n",
      "  consolidated_df = pd.concat([consolidated_df, pd.DataFrame([row_data])], ignore_index=True)\n"
     ]
    },
    {
     "name": "stdout",
     "output_type": "stream",
     "text": [
      "Filtered by frame format for LNT\n",
      "Filtering columns with >95% empty cells for LNT\n",
      "Removed sparse columns for LNT\n",
      "Successfully processed and saved data for LNT to ./data/clean/LNT.csv\n",
      "Processing symbol: ALL\n",
      "Successfully read data for ALL\n",
      "Pivoted data for ALL\n"
     ]
    },
    {
     "name": "stderr",
     "output_type": "stream",
     "text": [
      "/var/folders/0w/q70p80s12nz5lpzr087614lw0000gn/T/ipykernel_52557/4138676989.py:41: FutureWarning: The behavior of DataFrame concatenation with empty or all-NA entries is deprecated. In a future version, this will no longer exclude empty or all-NA columns when determining the result dtypes. To retain the old behavior, exclude the relevant entries before the concat operation.\n",
      "  consolidated_df = pd.concat([consolidated_df, pd.DataFrame([row_data])], ignore_index=True)\n"
     ]
    },
    {
     "name": "stdout",
     "output_type": "stream",
     "text": [
      "Filtered by frame format for ALL\n",
      "Filtering columns with >95% empty cells for ALL\n",
      "Removed sparse columns for ALL\n",
      "Successfully processed and saved data for ALL to ./data/clean/ALL.csv\n",
      "Processing symbol: GOOGL\n",
      "Successfully read data for GOOGL\n",
      "Pivoted data for GOOGL\n"
     ]
    },
    {
     "name": "stderr",
     "output_type": "stream",
     "text": [
      "/var/folders/0w/q70p80s12nz5lpzr087614lw0000gn/T/ipykernel_52557/4138676989.py:41: FutureWarning: The behavior of DataFrame concatenation with empty or all-NA entries is deprecated. In a future version, this will no longer exclude empty or all-NA columns when determining the result dtypes. To retain the old behavior, exclude the relevant entries before the concat operation.\n",
      "  consolidated_df = pd.concat([consolidated_df, pd.DataFrame([row_data])], ignore_index=True)\n"
     ]
    },
    {
     "name": "stdout",
     "output_type": "stream",
     "text": [
      "Filtered by frame format for GOOGL\n",
      "Filtering columns with >95% empty cells for GOOGL\n",
      "Removed sparse columns for GOOGL\n",
      "Successfully processed and saved data for GOOGL to ./data/clean/GOOGL.csv\n",
      "Processing symbol: GOOG\n",
      "Successfully read data for GOOG\n",
      "Pivoted data for GOOG\n"
     ]
    },
    {
     "name": "stderr",
     "output_type": "stream",
     "text": [
      "/var/folders/0w/q70p80s12nz5lpzr087614lw0000gn/T/ipykernel_52557/4138676989.py:41: FutureWarning: The behavior of DataFrame concatenation with empty or all-NA entries is deprecated. In a future version, this will no longer exclude empty or all-NA columns when determining the result dtypes. To retain the old behavior, exclude the relevant entries before the concat operation.\n",
      "  consolidated_df = pd.concat([consolidated_df, pd.DataFrame([row_data])], ignore_index=True)\n"
     ]
    },
    {
     "name": "stdout",
     "output_type": "stream",
     "text": [
      "Filtered by frame format for GOOG\n",
      "Filtering columns with >95% empty cells for GOOG\n",
      "Removed sparse columns for GOOG\n",
      "Successfully processed and saved data for GOOG to ./data/clean/GOOG.csv\n",
      "Processing symbol: MO\n",
      "Successfully read data for MO\n",
      "Pivoted data for MO\n"
     ]
    },
    {
     "name": "stderr",
     "output_type": "stream",
     "text": [
      "/var/folders/0w/q70p80s12nz5lpzr087614lw0000gn/T/ipykernel_52557/4138676989.py:41: FutureWarning: The behavior of DataFrame concatenation with empty or all-NA entries is deprecated. In a future version, this will no longer exclude empty or all-NA columns when determining the result dtypes. To retain the old behavior, exclude the relevant entries before the concat operation.\n",
      "  consolidated_df = pd.concat([consolidated_df, pd.DataFrame([row_data])], ignore_index=True)\n"
     ]
    },
    {
     "name": "stdout",
     "output_type": "stream",
     "text": [
      "Filtered by frame format for MO\n",
      "Filtering columns with >95% empty cells for MO\n",
      "Removed sparse columns for MO\n",
      "Successfully processed and saved data for MO to ./data/clean/MO.csv\n",
      "Processing symbol: AMZN\n",
      "Successfully read data for AMZN\n",
      "Pivoted data for AMZN\n"
     ]
    },
    {
     "name": "stderr",
     "output_type": "stream",
     "text": [
      "/var/folders/0w/q70p80s12nz5lpzr087614lw0000gn/T/ipykernel_52557/4138676989.py:41: FutureWarning: The behavior of DataFrame concatenation with empty or all-NA entries is deprecated. In a future version, this will no longer exclude empty or all-NA columns when determining the result dtypes. To retain the old behavior, exclude the relevant entries before the concat operation.\n",
      "  consolidated_df = pd.concat([consolidated_df, pd.DataFrame([row_data])], ignore_index=True)\n"
     ]
    },
    {
     "name": "stdout",
     "output_type": "stream",
     "text": [
      "Filtered by frame format for AMZN\n",
      "Filtering columns with >95% empty cells for AMZN\n",
      "Removed sparse columns for AMZN\n",
      "Successfully processed and saved data for AMZN to ./data/clean/AMZN.csv\n",
      "Processing symbol: AMCR\n",
      "Successfully read data for AMCR\n",
      "Pivoted data for AMCR\n"
     ]
    },
    {
     "name": "stderr",
     "output_type": "stream",
     "text": [
      "/var/folders/0w/q70p80s12nz5lpzr087614lw0000gn/T/ipykernel_52557/4138676989.py:41: FutureWarning: The behavior of DataFrame concatenation with empty or all-NA entries is deprecated. In a future version, this will no longer exclude empty or all-NA columns when determining the result dtypes. To retain the old behavior, exclude the relevant entries before the concat operation.\n",
      "  consolidated_df = pd.concat([consolidated_df, pd.DataFrame([row_data])], ignore_index=True)\n"
     ]
    },
    {
     "name": "stdout",
     "output_type": "stream",
     "text": [
      "Filtered by frame format for AMCR\n",
      "Filtering columns with >95% empty cells for AMCR\n",
      "Removed sparse columns for AMCR\n",
      "Successfully processed and saved data for AMCR to ./data/clean/AMCR.csv\n",
      "Processing symbol: AEE\n",
      "Successfully read data for AEE\n",
      "Pivoted data for AEE\n"
     ]
    },
    {
     "name": "stderr",
     "output_type": "stream",
     "text": [
      "/var/folders/0w/q70p80s12nz5lpzr087614lw0000gn/T/ipykernel_52557/4138676989.py:41: FutureWarning: The behavior of DataFrame concatenation with empty or all-NA entries is deprecated. In a future version, this will no longer exclude empty or all-NA columns when determining the result dtypes. To retain the old behavior, exclude the relevant entries before the concat operation.\n",
      "  consolidated_df = pd.concat([consolidated_df, pd.DataFrame([row_data])], ignore_index=True)\n"
     ]
    },
    {
     "name": "stdout",
     "output_type": "stream",
     "text": [
      "Filtered by frame format for AEE\n",
      "Filtering columns with >95% empty cells for AEE\n",
      "Removed sparse columns for AEE\n",
      "Successfully processed and saved data for AEE to ./data/clean/AEE.csv\n",
      "Processing symbol: AEP\n",
      "Successfully read data for AEP\n",
      "Pivoted data for AEP\n"
     ]
    },
    {
     "name": "stderr",
     "output_type": "stream",
     "text": [
      "/var/folders/0w/q70p80s12nz5lpzr087614lw0000gn/T/ipykernel_52557/4138676989.py:41: FutureWarning: The behavior of DataFrame concatenation with empty or all-NA entries is deprecated. In a future version, this will no longer exclude empty or all-NA columns when determining the result dtypes. To retain the old behavior, exclude the relevant entries before the concat operation.\n",
      "  consolidated_df = pd.concat([consolidated_df, pd.DataFrame([row_data])], ignore_index=True)\n"
     ]
    },
    {
     "name": "stdout",
     "output_type": "stream",
     "text": [
      "Filtered by frame format for AEP\n",
      "Filtering columns with >95% empty cells for AEP\n",
      "Removed sparse columns for AEP\n",
      "Successfully processed and saved data for AEP to ./data/clean/AEP.csv\n",
      "Processing symbol: AXP\n",
      "Successfully read data for AXP\n",
      "Pivoted data for AXP\n"
     ]
    },
    {
     "name": "stderr",
     "output_type": "stream",
     "text": [
      "/var/folders/0w/q70p80s12nz5lpzr087614lw0000gn/T/ipykernel_52557/4138676989.py:41: FutureWarning: The behavior of DataFrame concatenation with empty or all-NA entries is deprecated. In a future version, this will no longer exclude empty or all-NA columns when determining the result dtypes. To retain the old behavior, exclude the relevant entries before the concat operation.\n",
      "  consolidated_df = pd.concat([consolidated_df, pd.DataFrame([row_data])], ignore_index=True)\n"
     ]
    },
    {
     "name": "stdout",
     "output_type": "stream",
     "text": [
      "Filtered by frame format for AXP\n",
      "Filtering columns with >95% empty cells for AXP\n",
      "Removed sparse columns for AXP\n",
      "Successfully processed and saved data for AXP to ./data/clean/AXP.csv\n",
      "Processing symbol: AIG\n",
      "Successfully read data for AIG\n",
      "Pivoted data for AIG\n"
     ]
    },
    {
     "name": "stderr",
     "output_type": "stream",
     "text": [
      "/var/folders/0w/q70p80s12nz5lpzr087614lw0000gn/T/ipykernel_52557/4138676989.py:41: FutureWarning: The behavior of DataFrame concatenation with empty or all-NA entries is deprecated. In a future version, this will no longer exclude empty or all-NA columns when determining the result dtypes. To retain the old behavior, exclude the relevant entries before the concat operation.\n",
      "  consolidated_df = pd.concat([consolidated_df, pd.DataFrame([row_data])], ignore_index=True)\n"
     ]
    },
    {
     "name": "stdout",
     "output_type": "stream",
     "text": [
      "Filtered by frame format for AIG\n",
      "Filtering columns with >95% empty cells for AIG\n",
      "Removed sparse columns for AIG\n",
      "Successfully processed and saved data for AIG to ./data/clean/AIG.csv\n",
      "Processing symbol: AMT\n",
      "Successfully read data for AMT\n",
      "Pivoted data for AMT\n"
     ]
    },
    {
     "name": "stderr",
     "output_type": "stream",
     "text": [
      "/var/folders/0w/q70p80s12nz5lpzr087614lw0000gn/T/ipykernel_52557/4138676989.py:41: FutureWarning: The behavior of DataFrame concatenation with empty or all-NA entries is deprecated. In a future version, this will no longer exclude empty or all-NA columns when determining the result dtypes. To retain the old behavior, exclude the relevant entries before the concat operation.\n",
      "  consolidated_df = pd.concat([consolidated_df, pd.DataFrame([row_data])], ignore_index=True)\n"
     ]
    },
    {
     "name": "stdout",
     "output_type": "stream",
     "text": [
      "Filtered by frame format for AMT\n",
      "Filtering columns with >95% empty cells for AMT\n",
      "Removed sparse columns for AMT\n",
      "Successfully processed and saved data for AMT to ./data/clean/AMT.csv\n",
      "Processing symbol: AWK\n",
      "Successfully read data for AWK\n",
      "Pivoted data for AWK\n"
     ]
    },
    {
     "name": "stderr",
     "output_type": "stream",
     "text": [
      "/var/folders/0w/q70p80s12nz5lpzr087614lw0000gn/T/ipykernel_52557/4138676989.py:41: FutureWarning: The behavior of DataFrame concatenation with empty or all-NA entries is deprecated. In a future version, this will no longer exclude empty or all-NA columns when determining the result dtypes. To retain the old behavior, exclude the relevant entries before the concat operation.\n",
      "  consolidated_df = pd.concat([consolidated_df, pd.DataFrame([row_data])], ignore_index=True)\n"
     ]
    },
    {
     "name": "stdout",
     "output_type": "stream",
     "text": [
      "Filtered by frame format for AWK\n",
      "Filtering columns with >95% empty cells for AWK\n",
      "Removed sparse columns for AWK\n",
      "Successfully processed and saved data for AWK to ./data/clean/AWK.csv\n",
      "Processing symbol: AMP\n",
      "Successfully read data for AMP\n",
      "Pivoted data for AMP\n"
     ]
    },
    {
     "name": "stderr",
     "output_type": "stream",
     "text": [
      "/var/folders/0w/q70p80s12nz5lpzr087614lw0000gn/T/ipykernel_52557/4138676989.py:41: FutureWarning: The behavior of DataFrame concatenation with empty or all-NA entries is deprecated. In a future version, this will no longer exclude empty or all-NA columns when determining the result dtypes. To retain the old behavior, exclude the relevant entries before the concat operation.\n",
      "  consolidated_df = pd.concat([consolidated_df, pd.DataFrame([row_data])], ignore_index=True)\n"
     ]
    },
    {
     "name": "stdout",
     "output_type": "stream",
     "text": [
      "Filtered by frame format for AMP\n",
      "Filtering columns with >95% empty cells for AMP\n",
      "Removed sparse columns for AMP\n",
      "Successfully processed and saved data for AMP to ./data/clean/AMP.csv\n",
      "Processing symbol: AME\n",
      "Successfully read data for AME\n",
      "Pivoted data for AME\n"
     ]
    },
    {
     "name": "stderr",
     "output_type": "stream",
     "text": [
      "/var/folders/0w/q70p80s12nz5lpzr087614lw0000gn/T/ipykernel_52557/4138676989.py:41: FutureWarning: The behavior of DataFrame concatenation with empty or all-NA entries is deprecated. In a future version, this will no longer exclude empty or all-NA columns when determining the result dtypes. To retain the old behavior, exclude the relevant entries before the concat operation.\n",
      "  consolidated_df = pd.concat([consolidated_df, pd.DataFrame([row_data])], ignore_index=True)\n"
     ]
    },
    {
     "name": "stdout",
     "output_type": "stream",
     "text": [
      "Filtered by frame format for AME\n",
      "Filtering columns with >95% empty cells for AME\n",
      "Removed sparse columns for AME\n",
      "Successfully processed and saved data for AME to ./data/clean/AME.csv\n",
      "Processing symbol: AMGN\n",
      "Successfully read data for AMGN\n",
      "Pivoted data for AMGN\n"
     ]
    },
    {
     "name": "stderr",
     "output_type": "stream",
     "text": [
      "/var/folders/0w/q70p80s12nz5lpzr087614lw0000gn/T/ipykernel_52557/4138676989.py:41: FutureWarning: The behavior of DataFrame concatenation with empty or all-NA entries is deprecated. In a future version, this will no longer exclude empty or all-NA columns when determining the result dtypes. To retain the old behavior, exclude the relevant entries before the concat operation.\n",
      "  consolidated_df = pd.concat([consolidated_df, pd.DataFrame([row_data])], ignore_index=True)\n"
     ]
    },
    {
     "name": "stdout",
     "output_type": "stream",
     "text": [
      "Filtered by frame format for AMGN\n",
      "Filtering columns with >95% empty cells for AMGN\n",
      "Removed sparse columns for AMGN\n",
      "Successfully processed and saved data for AMGN to ./data/clean/AMGN.csv\n",
      "Processing symbol: APH\n",
      "Successfully read data for APH\n",
      "Pivoted data for APH\n"
     ]
    },
    {
     "name": "stderr",
     "output_type": "stream",
     "text": [
      "/var/folders/0w/q70p80s12nz5lpzr087614lw0000gn/T/ipykernel_52557/4138676989.py:41: FutureWarning: The behavior of DataFrame concatenation with empty or all-NA entries is deprecated. In a future version, this will no longer exclude empty or all-NA columns when determining the result dtypes. To retain the old behavior, exclude the relevant entries before the concat operation.\n",
      "  consolidated_df = pd.concat([consolidated_df, pd.DataFrame([row_data])], ignore_index=True)\n"
     ]
    },
    {
     "name": "stdout",
     "output_type": "stream",
     "text": [
      "Filtered by frame format for APH\n",
      "Filtering columns with >95% empty cells for APH\n",
      "Removed sparse columns for APH\n",
      "Successfully processed and saved data for APH to ./data/clean/APH.csv\n",
      "Processing symbol: ADI\n",
      "Successfully read data for ADI\n",
      "Pivoted data for ADI\n"
     ]
    },
    {
     "name": "stderr",
     "output_type": "stream",
     "text": [
      "/var/folders/0w/q70p80s12nz5lpzr087614lw0000gn/T/ipykernel_52557/4138676989.py:41: FutureWarning: The behavior of DataFrame concatenation with empty or all-NA entries is deprecated. In a future version, this will no longer exclude empty or all-NA columns when determining the result dtypes. To retain the old behavior, exclude the relevant entries before the concat operation.\n",
      "  consolidated_df = pd.concat([consolidated_df, pd.DataFrame([row_data])], ignore_index=True)\n"
     ]
    },
    {
     "name": "stdout",
     "output_type": "stream",
     "text": [
      "Filtered by frame format for ADI\n",
      "Filtering columns with >95% empty cells for ADI\n",
      "Removed sparse columns for ADI\n",
      "Successfully processed and saved data for ADI to ./data/clean/ADI.csv\n",
      "Processing symbol: ANSS\n",
      "Successfully read data for ANSS\n",
      "Pivoted data for ANSS\n"
     ]
    },
    {
     "name": "stderr",
     "output_type": "stream",
     "text": [
      "/var/folders/0w/q70p80s12nz5lpzr087614lw0000gn/T/ipykernel_52557/4138676989.py:41: FutureWarning: The behavior of DataFrame concatenation with empty or all-NA entries is deprecated. In a future version, this will no longer exclude empty or all-NA columns when determining the result dtypes. To retain the old behavior, exclude the relevant entries before the concat operation.\n",
      "  consolidated_df = pd.concat([consolidated_df, pd.DataFrame([row_data])], ignore_index=True)\n"
     ]
    },
    {
     "name": "stdout",
     "output_type": "stream",
     "text": [
      "Filtered by frame format for ANSS\n",
      "Filtering columns with >95% empty cells for ANSS\n",
      "Removed sparse columns for ANSS\n",
      "Successfully processed and saved data for ANSS to ./data/clean/ANSS.csv\n",
      "Processing symbol: AON\n",
      "Successfully read data for AON\n",
      "Pivoted data for AON\n"
     ]
    },
    {
     "name": "stderr",
     "output_type": "stream",
     "text": [
      "/var/folders/0w/q70p80s12nz5lpzr087614lw0000gn/T/ipykernel_52557/4138676989.py:41: FutureWarning: The behavior of DataFrame concatenation with empty or all-NA entries is deprecated. In a future version, this will no longer exclude empty or all-NA columns when determining the result dtypes. To retain the old behavior, exclude the relevant entries before the concat operation.\n",
      "  consolidated_df = pd.concat([consolidated_df, pd.DataFrame([row_data])], ignore_index=True)\n"
     ]
    },
    {
     "name": "stdout",
     "output_type": "stream",
     "text": [
      "Filtered by frame format for AON\n",
      "Filtering columns with >95% empty cells for AON\n",
      "Removed sparse columns for AON\n",
      "Successfully processed and saved data for AON to ./data/clean/AON.csv\n",
      "Processing symbol: APA\n",
      "Successfully read data for APA\n",
      "Pivoted data for APA\n"
     ]
    },
    {
     "name": "stderr",
     "output_type": "stream",
     "text": [
      "/var/folders/0w/q70p80s12nz5lpzr087614lw0000gn/T/ipykernel_52557/4138676989.py:41: FutureWarning: The behavior of DataFrame concatenation with empty or all-NA entries is deprecated. In a future version, this will no longer exclude empty or all-NA columns when determining the result dtypes. To retain the old behavior, exclude the relevant entries before the concat operation.\n",
      "  consolidated_df = pd.concat([consolidated_df, pd.DataFrame([row_data])], ignore_index=True)\n"
     ]
    },
    {
     "name": "stdout",
     "output_type": "stream",
     "text": [
      "Filtered by frame format for APA\n",
      "Filtering columns with >95% empty cells for APA\n",
      "Removed sparse columns for APA\n",
      "Successfully processed and saved data for APA to ./data/clean/APA.csv\n",
      "Processing symbol: APO\n",
      "Successfully read data for APO\n",
      "Pivoted data for APO\n"
     ]
    },
    {
     "name": "stderr",
     "output_type": "stream",
     "text": [
      "/var/folders/0w/q70p80s12nz5lpzr087614lw0000gn/T/ipykernel_52557/4138676989.py:41: FutureWarning: The behavior of DataFrame concatenation with empty or all-NA entries is deprecated. In a future version, this will no longer exclude empty or all-NA columns when determining the result dtypes. To retain the old behavior, exclude the relevant entries before the concat operation.\n",
      "  consolidated_df = pd.concat([consolidated_df, pd.DataFrame([row_data])], ignore_index=True)\n"
     ]
    },
    {
     "name": "stdout",
     "output_type": "stream",
     "text": [
      "Filtered by frame format for APO\n",
      "Filtering columns with >95% empty cells for APO\n",
      "Removed sparse columns for APO\n",
      "Successfully processed and saved data for APO to ./data/clean/APO.csv\n",
      "Processing symbol: AAPL\n",
      "Successfully read data for AAPL\n",
      "Pivoted data for AAPL\n"
     ]
    },
    {
     "name": "stderr",
     "output_type": "stream",
     "text": [
      "/var/folders/0w/q70p80s12nz5lpzr087614lw0000gn/T/ipykernel_52557/4138676989.py:41: FutureWarning: The behavior of DataFrame concatenation with empty or all-NA entries is deprecated. In a future version, this will no longer exclude empty or all-NA columns when determining the result dtypes. To retain the old behavior, exclude the relevant entries before the concat operation.\n",
      "  consolidated_df = pd.concat([consolidated_df, pd.DataFrame([row_data])], ignore_index=True)\n"
     ]
    },
    {
     "name": "stdout",
     "output_type": "stream",
     "text": [
      "Filtered by frame format for AAPL\n",
      "Filtering columns with >95% empty cells for AAPL\n",
      "Removed sparse columns for AAPL\n",
      "Successfully processed and saved data for AAPL to ./data/clean/AAPL.csv\n",
      "Processing symbol: AMAT\n",
      "Successfully read data for AMAT\n",
      "Pivoted data for AMAT\n"
     ]
    },
    {
     "name": "stderr",
     "output_type": "stream",
     "text": [
      "/var/folders/0w/q70p80s12nz5lpzr087614lw0000gn/T/ipykernel_52557/4138676989.py:41: FutureWarning: The behavior of DataFrame concatenation with empty or all-NA entries is deprecated. In a future version, this will no longer exclude empty or all-NA columns when determining the result dtypes. To retain the old behavior, exclude the relevant entries before the concat operation.\n",
      "  consolidated_df = pd.concat([consolidated_df, pd.DataFrame([row_data])], ignore_index=True)\n"
     ]
    },
    {
     "name": "stdout",
     "output_type": "stream",
     "text": [
      "Filtered by frame format for AMAT\n",
      "Filtering columns with >95% empty cells for AMAT\n",
      "Removed sparse columns for AMAT\n",
      "Successfully processed and saved data for AMAT to ./data/clean/AMAT.csv\n",
      "Processing symbol: APTV\n",
      "Successfully read data for APTV\n",
      "Pivoted data for APTV\n"
     ]
    },
    {
     "name": "stderr",
     "output_type": "stream",
     "text": [
      "/var/folders/0w/q70p80s12nz5lpzr087614lw0000gn/T/ipykernel_52557/4138676989.py:41: FutureWarning: The behavior of DataFrame concatenation with empty or all-NA entries is deprecated. In a future version, this will no longer exclude empty or all-NA columns when determining the result dtypes. To retain the old behavior, exclude the relevant entries before the concat operation.\n",
      "  consolidated_df = pd.concat([consolidated_df, pd.DataFrame([row_data])], ignore_index=True)\n"
     ]
    },
    {
     "name": "stdout",
     "output_type": "stream",
     "text": [
      "Filtered by frame format for APTV\n",
      "Filtering columns with >95% empty cells for APTV\n",
      "Removed sparse columns for APTV\n",
      "Successfully processed and saved data for APTV to ./data/clean/APTV.csv\n",
      "Processing symbol: ACGL\n",
      "Successfully read data for ACGL\n",
      "Pivoted data for ACGL\n"
     ]
    },
    {
     "name": "stderr",
     "output_type": "stream",
     "text": [
      "/var/folders/0w/q70p80s12nz5lpzr087614lw0000gn/T/ipykernel_52557/4138676989.py:41: FutureWarning: The behavior of DataFrame concatenation with empty or all-NA entries is deprecated. In a future version, this will no longer exclude empty or all-NA columns when determining the result dtypes. To retain the old behavior, exclude the relevant entries before the concat operation.\n",
      "  consolidated_df = pd.concat([consolidated_df, pd.DataFrame([row_data])], ignore_index=True)\n"
     ]
    },
    {
     "name": "stdout",
     "output_type": "stream",
     "text": [
      "Filtered by frame format for ACGL\n",
      "Filtering columns with >95% empty cells for ACGL\n",
      "Removed sparse columns for ACGL\n",
      "Successfully processed and saved data for ACGL to ./data/clean/ACGL.csv\n",
      "Processing symbol: ADM\n",
      "Successfully read data for ADM\n",
      "Pivoted data for ADM\n"
     ]
    },
    {
     "name": "stderr",
     "output_type": "stream",
     "text": [
      "/var/folders/0w/q70p80s12nz5lpzr087614lw0000gn/T/ipykernel_52557/4138676989.py:41: FutureWarning: The behavior of DataFrame concatenation with empty or all-NA entries is deprecated. In a future version, this will no longer exclude empty or all-NA columns when determining the result dtypes. To retain the old behavior, exclude the relevant entries before the concat operation.\n",
      "  consolidated_df = pd.concat([consolidated_df, pd.DataFrame([row_data])], ignore_index=True)\n"
     ]
    },
    {
     "name": "stdout",
     "output_type": "stream",
     "text": [
      "Filtered by frame format for ADM\n",
      "Filtering columns with >95% empty cells for ADM\n",
      "Removed sparse columns for ADM\n",
      "Successfully processed and saved data for ADM to ./data/clean/ADM.csv\n",
      "Processing symbol: ANET\n",
      "Successfully read data for ANET\n",
      "Pivoted data for ANET\n"
     ]
    },
    {
     "name": "stderr",
     "output_type": "stream",
     "text": [
      "/var/folders/0w/q70p80s12nz5lpzr087614lw0000gn/T/ipykernel_52557/4138676989.py:41: FutureWarning: The behavior of DataFrame concatenation with empty or all-NA entries is deprecated. In a future version, this will no longer exclude empty or all-NA columns when determining the result dtypes. To retain the old behavior, exclude the relevant entries before the concat operation.\n",
      "  consolidated_df = pd.concat([consolidated_df, pd.DataFrame([row_data])], ignore_index=True)\n"
     ]
    },
    {
     "name": "stdout",
     "output_type": "stream",
     "text": [
      "Filtered by frame format for ANET\n",
      "Filtering columns with >95% empty cells for ANET\n",
      "Removed sparse columns for ANET\n",
      "Successfully processed and saved data for ANET to ./data/clean/ANET.csv\n",
      "Processing symbol: AJG\n",
      "Successfully read data for AJG\n",
      "Pivoted data for AJG\n"
     ]
    },
    {
     "name": "stderr",
     "output_type": "stream",
     "text": [
      "/var/folders/0w/q70p80s12nz5lpzr087614lw0000gn/T/ipykernel_52557/4138676989.py:41: FutureWarning: The behavior of DataFrame concatenation with empty or all-NA entries is deprecated. In a future version, this will no longer exclude empty or all-NA columns when determining the result dtypes. To retain the old behavior, exclude the relevant entries before the concat operation.\n",
      "  consolidated_df = pd.concat([consolidated_df, pd.DataFrame([row_data])], ignore_index=True)\n"
     ]
    },
    {
     "name": "stdout",
     "output_type": "stream",
     "text": [
      "Filtered by frame format for AJG\n",
      "Filtering columns with >95% empty cells for AJG\n",
      "Removed sparse columns for AJG\n",
      "Successfully processed and saved data for AJG to ./data/clean/AJG.csv\n",
      "Processing symbol: AIZ\n",
      "Successfully read data for AIZ\n",
      "Pivoted data for AIZ\n"
     ]
    },
    {
     "name": "stderr",
     "output_type": "stream",
     "text": [
      "/var/folders/0w/q70p80s12nz5lpzr087614lw0000gn/T/ipykernel_52557/4138676989.py:41: FutureWarning: The behavior of DataFrame concatenation with empty or all-NA entries is deprecated. In a future version, this will no longer exclude empty or all-NA columns when determining the result dtypes. To retain the old behavior, exclude the relevant entries before the concat operation.\n",
      "  consolidated_df = pd.concat([consolidated_df, pd.DataFrame([row_data])], ignore_index=True)\n"
     ]
    },
    {
     "name": "stdout",
     "output_type": "stream",
     "text": [
      "Filtered by frame format for AIZ\n",
      "Filtering columns with >95% empty cells for AIZ\n",
      "Removed sparse columns for AIZ\n",
      "Successfully processed and saved data for AIZ to ./data/clean/AIZ.csv\n",
      "Processing symbol: T\n",
      "Successfully read data for T\n",
      "Pivoted data for T\n"
     ]
    },
    {
     "name": "stderr",
     "output_type": "stream",
     "text": [
      "/var/folders/0w/q70p80s12nz5lpzr087614lw0000gn/T/ipykernel_52557/4138676989.py:41: FutureWarning: The behavior of DataFrame concatenation with empty or all-NA entries is deprecated. In a future version, this will no longer exclude empty or all-NA columns when determining the result dtypes. To retain the old behavior, exclude the relevant entries before the concat operation.\n",
      "  consolidated_df = pd.concat([consolidated_df, pd.DataFrame([row_data])], ignore_index=True)\n"
     ]
    },
    {
     "name": "stdout",
     "output_type": "stream",
     "text": [
      "Filtered by frame format for T\n",
      "Filtering columns with >95% empty cells for T\n",
      "Removed sparse columns for T\n",
      "Successfully processed and saved data for T to ./data/clean/T.csv\n",
      "Processing symbol: ATO\n",
      "Successfully read data for ATO\n",
      "Pivoted data for ATO\n"
     ]
    },
    {
     "name": "stderr",
     "output_type": "stream",
     "text": [
      "/var/folders/0w/q70p80s12nz5lpzr087614lw0000gn/T/ipykernel_52557/4138676989.py:41: FutureWarning: The behavior of DataFrame concatenation with empty or all-NA entries is deprecated. In a future version, this will no longer exclude empty or all-NA columns when determining the result dtypes. To retain the old behavior, exclude the relevant entries before the concat operation.\n",
      "  consolidated_df = pd.concat([consolidated_df, pd.DataFrame([row_data])], ignore_index=True)\n"
     ]
    },
    {
     "name": "stdout",
     "output_type": "stream",
     "text": [
      "Filtered by frame format for ATO\n",
      "Filtering columns with >95% empty cells for ATO\n",
      "Removed sparse columns for ATO\n",
      "Successfully processed and saved data for ATO to ./data/clean/ATO.csv\n",
      "Processing symbol: ADSK\n",
      "Successfully read data for ADSK\n",
      "Pivoted data for ADSK\n"
     ]
    },
    {
     "name": "stderr",
     "output_type": "stream",
     "text": [
      "/var/folders/0w/q70p80s12nz5lpzr087614lw0000gn/T/ipykernel_52557/4138676989.py:41: FutureWarning: The behavior of DataFrame concatenation with empty or all-NA entries is deprecated. In a future version, this will no longer exclude empty or all-NA columns when determining the result dtypes. To retain the old behavior, exclude the relevant entries before the concat operation.\n",
      "  consolidated_df = pd.concat([consolidated_df, pd.DataFrame([row_data])], ignore_index=True)\n"
     ]
    },
    {
     "name": "stdout",
     "output_type": "stream",
     "text": [
      "Filtered by frame format for ADSK\n",
      "Filtering columns with >95% empty cells for ADSK\n",
      "Removed sparse columns for ADSK\n",
      "Successfully processed and saved data for ADSK to ./data/clean/ADSK.csv\n",
      "Processing symbol: ADP\n",
      "Successfully read data for ADP\n",
      "Pivoted data for ADP\n"
     ]
    },
    {
     "name": "stderr",
     "output_type": "stream",
     "text": [
      "/var/folders/0w/q70p80s12nz5lpzr087614lw0000gn/T/ipykernel_52557/4138676989.py:41: FutureWarning: The behavior of DataFrame concatenation with empty or all-NA entries is deprecated. In a future version, this will no longer exclude empty or all-NA columns when determining the result dtypes. To retain the old behavior, exclude the relevant entries before the concat operation.\n",
      "  consolidated_df = pd.concat([consolidated_df, pd.DataFrame([row_data])], ignore_index=True)\n"
     ]
    },
    {
     "name": "stdout",
     "output_type": "stream",
     "text": [
      "Filtered by frame format for ADP\n",
      "Filtering columns with >95% empty cells for ADP\n",
      "Removed sparse columns for ADP\n",
      "Successfully processed and saved data for ADP to ./data/clean/ADP.csv\n",
      "Processing symbol: AZO\n",
      "Successfully read data for AZO\n",
      "Pivoted data for AZO\n"
     ]
    },
    {
     "name": "stderr",
     "output_type": "stream",
     "text": [
      "/var/folders/0w/q70p80s12nz5lpzr087614lw0000gn/T/ipykernel_52557/4138676989.py:41: FutureWarning: The behavior of DataFrame concatenation with empty or all-NA entries is deprecated. In a future version, this will no longer exclude empty or all-NA columns when determining the result dtypes. To retain the old behavior, exclude the relevant entries before the concat operation.\n",
      "  consolidated_df = pd.concat([consolidated_df, pd.DataFrame([row_data])], ignore_index=True)\n"
     ]
    },
    {
     "name": "stdout",
     "output_type": "stream",
     "text": [
      "Filtered by frame format for AZO\n",
      "Filtering columns with >95% empty cells for AZO\n",
      "Removed sparse columns for AZO\n",
      "Successfully processed and saved data for AZO to ./data/clean/AZO.csv\n",
      "Processing symbol: AVB\n",
      "Successfully read data for AVB\n",
      "Pivoted data for AVB\n"
     ]
    },
    {
     "name": "stderr",
     "output_type": "stream",
     "text": [
      "/var/folders/0w/q70p80s12nz5lpzr087614lw0000gn/T/ipykernel_52557/4138676989.py:41: FutureWarning: The behavior of DataFrame concatenation with empty or all-NA entries is deprecated. In a future version, this will no longer exclude empty or all-NA columns when determining the result dtypes. To retain the old behavior, exclude the relevant entries before the concat operation.\n",
      "  consolidated_df = pd.concat([consolidated_df, pd.DataFrame([row_data])], ignore_index=True)\n"
     ]
    },
    {
     "name": "stdout",
     "output_type": "stream",
     "text": [
      "Filtered by frame format for AVB\n",
      "Filtering columns with >95% empty cells for AVB\n",
      "Removed sparse columns for AVB\n",
      "Successfully processed and saved data for AVB to ./data/clean/AVB.csv\n",
      "Processing symbol: AVY\n",
      "Successfully read data for AVY\n",
      "Pivoted data for AVY\n"
     ]
    },
    {
     "name": "stderr",
     "output_type": "stream",
     "text": [
      "/var/folders/0w/q70p80s12nz5lpzr087614lw0000gn/T/ipykernel_52557/4138676989.py:41: FutureWarning: The behavior of DataFrame concatenation with empty or all-NA entries is deprecated. In a future version, this will no longer exclude empty or all-NA columns when determining the result dtypes. To retain the old behavior, exclude the relevant entries before the concat operation.\n",
      "  consolidated_df = pd.concat([consolidated_df, pd.DataFrame([row_data])], ignore_index=True)\n"
     ]
    },
    {
     "name": "stdout",
     "output_type": "stream",
     "text": [
      "Filtered by frame format for AVY\n",
      "Filtering columns with >95% empty cells for AVY\n",
      "Removed sparse columns for AVY\n",
      "Successfully processed and saved data for AVY to ./data/clean/AVY.csv\n",
      "Processing symbol: AXON\n",
      "Successfully read data for AXON\n",
      "Pivoted data for AXON\n"
     ]
    },
    {
     "name": "stderr",
     "output_type": "stream",
     "text": [
      "/var/folders/0w/q70p80s12nz5lpzr087614lw0000gn/T/ipykernel_52557/4138676989.py:41: FutureWarning: The behavior of DataFrame concatenation with empty or all-NA entries is deprecated. In a future version, this will no longer exclude empty or all-NA columns when determining the result dtypes. To retain the old behavior, exclude the relevant entries before the concat operation.\n",
      "  consolidated_df = pd.concat([consolidated_df, pd.DataFrame([row_data])], ignore_index=True)\n"
     ]
    },
    {
     "name": "stdout",
     "output_type": "stream",
     "text": [
      "Filtered by frame format for AXON\n",
      "Filtering columns with >95% empty cells for AXON\n",
      "Removed sparse columns for AXON\n",
      "Successfully processed and saved data for AXON to ./data/clean/AXON.csv\n",
      "Processing symbol: BKR\n",
      "Successfully read data for BKR\n",
      "Pivoted data for BKR\n"
     ]
    },
    {
     "name": "stderr",
     "output_type": "stream",
     "text": [
      "/var/folders/0w/q70p80s12nz5lpzr087614lw0000gn/T/ipykernel_52557/4138676989.py:41: FutureWarning: The behavior of DataFrame concatenation with empty or all-NA entries is deprecated. In a future version, this will no longer exclude empty or all-NA columns when determining the result dtypes. To retain the old behavior, exclude the relevant entries before the concat operation.\n",
      "  consolidated_df = pd.concat([consolidated_df, pd.DataFrame([row_data])], ignore_index=True)\n"
     ]
    },
    {
     "name": "stdout",
     "output_type": "stream",
     "text": [
      "Filtered by frame format for BKR\n",
      "Filtering columns with >95% empty cells for BKR\n",
      "Removed sparse columns for BKR\n",
      "Successfully processed and saved data for BKR to ./data/clean/BKR.csv\n",
      "Processing symbol: BALL\n",
      "Successfully read data for BALL\n",
      "Pivoted data for BALL\n"
     ]
    },
    {
     "name": "stderr",
     "output_type": "stream",
     "text": [
      "/var/folders/0w/q70p80s12nz5lpzr087614lw0000gn/T/ipykernel_52557/4138676989.py:41: FutureWarning: The behavior of DataFrame concatenation with empty or all-NA entries is deprecated. In a future version, this will no longer exclude empty or all-NA columns when determining the result dtypes. To retain the old behavior, exclude the relevant entries before the concat operation.\n",
      "  consolidated_df = pd.concat([consolidated_df, pd.DataFrame([row_data])], ignore_index=True)\n"
     ]
    },
    {
     "name": "stdout",
     "output_type": "stream",
     "text": [
      "Filtered by frame format for BALL\n",
      "Filtering columns with >95% empty cells for BALL\n",
      "Removed sparse columns for BALL\n",
      "Successfully processed and saved data for BALL to ./data/clean/BALL.csv\n",
      "Processing symbol: BAC\n",
      "Successfully read data for BAC\n",
      "Pivoted data for BAC\n"
     ]
    },
    {
     "name": "stderr",
     "output_type": "stream",
     "text": [
      "/var/folders/0w/q70p80s12nz5lpzr087614lw0000gn/T/ipykernel_52557/4138676989.py:41: FutureWarning: The behavior of DataFrame concatenation with empty or all-NA entries is deprecated. In a future version, this will no longer exclude empty or all-NA columns when determining the result dtypes. To retain the old behavior, exclude the relevant entries before the concat operation.\n",
      "  consolidated_df = pd.concat([consolidated_df, pd.DataFrame([row_data])], ignore_index=True)\n"
     ]
    },
    {
     "name": "stdout",
     "output_type": "stream",
     "text": [
      "Filtered by frame format for BAC\n",
      "Filtering columns with >95% empty cells for BAC\n",
      "Removed sparse columns for BAC\n",
      "Successfully processed and saved data for BAC to ./data/clean/BAC.csv\n",
      "Processing symbol: BAX\n",
      "Successfully read data for BAX\n",
      "Pivoted data for BAX\n"
     ]
    },
    {
     "name": "stderr",
     "output_type": "stream",
     "text": [
      "/var/folders/0w/q70p80s12nz5lpzr087614lw0000gn/T/ipykernel_52557/4138676989.py:41: FutureWarning: The behavior of DataFrame concatenation with empty or all-NA entries is deprecated. In a future version, this will no longer exclude empty or all-NA columns when determining the result dtypes. To retain the old behavior, exclude the relevant entries before the concat operation.\n",
      "  consolidated_df = pd.concat([consolidated_df, pd.DataFrame([row_data])], ignore_index=True)\n"
     ]
    },
    {
     "name": "stdout",
     "output_type": "stream",
     "text": [
      "Filtered by frame format for BAX\n",
      "Filtering columns with >95% empty cells for BAX\n",
      "Removed sparse columns for BAX\n",
      "Successfully processed and saved data for BAX to ./data/clean/BAX.csv\n",
      "Processing symbol: BDX\n",
      "Successfully read data for BDX\n",
      "Pivoted data for BDX\n"
     ]
    },
    {
     "name": "stderr",
     "output_type": "stream",
     "text": [
      "/var/folders/0w/q70p80s12nz5lpzr087614lw0000gn/T/ipykernel_52557/4138676989.py:41: FutureWarning: The behavior of DataFrame concatenation with empty or all-NA entries is deprecated. In a future version, this will no longer exclude empty or all-NA columns when determining the result dtypes. To retain the old behavior, exclude the relevant entries before the concat operation.\n",
      "  consolidated_df = pd.concat([consolidated_df, pd.DataFrame([row_data])], ignore_index=True)\n"
     ]
    },
    {
     "name": "stdout",
     "output_type": "stream",
     "text": [
      "Filtered by frame format for BDX\n",
      "Filtering columns with >95% empty cells for BDX\n",
      "Removed sparse columns for BDX\n",
      "Successfully processed and saved data for BDX to ./data/clean/BDX.csv\n",
      "Processing symbol: BRK.B\n",
      "Error: File not found for symbol BRK.B at path: ./data/financial_data/BRK.B_raw_financials.csv. Skipping this symbol.\n",
      "Processing symbol: BBY\n",
      "Successfully read data for BBY\n",
      "Pivoted data for BBY\n"
     ]
    },
    {
     "name": "stderr",
     "output_type": "stream",
     "text": [
      "/var/folders/0w/q70p80s12nz5lpzr087614lw0000gn/T/ipykernel_52557/4138676989.py:41: FutureWarning: The behavior of DataFrame concatenation with empty or all-NA entries is deprecated. In a future version, this will no longer exclude empty or all-NA columns when determining the result dtypes. To retain the old behavior, exclude the relevant entries before the concat operation.\n",
      "  consolidated_df = pd.concat([consolidated_df, pd.DataFrame([row_data])], ignore_index=True)\n"
     ]
    },
    {
     "name": "stdout",
     "output_type": "stream",
     "text": [
      "Filtered by frame format for BBY\n",
      "Filtering columns with >95% empty cells for BBY\n",
      "Removed sparse columns for BBY\n",
      "Successfully processed and saved data for BBY to ./data/clean/BBY.csv\n",
      "Processing symbol: TECH\n",
      "Successfully read data for TECH\n",
      "Pivoted data for TECH\n"
     ]
    },
    {
     "name": "stderr",
     "output_type": "stream",
     "text": [
      "/var/folders/0w/q70p80s12nz5lpzr087614lw0000gn/T/ipykernel_52557/4138676989.py:41: FutureWarning: The behavior of DataFrame concatenation with empty or all-NA entries is deprecated. In a future version, this will no longer exclude empty or all-NA columns when determining the result dtypes. To retain the old behavior, exclude the relevant entries before the concat operation.\n",
      "  consolidated_df = pd.concat([consolidated_df, pd.DataFrame([row_data])], ignore_index=True)\n"
     ]
    },
    {
     "name": "stdout",
     "output_type": "stream",
     "text": [
      "Filtered by frame format for TECH\n",
      "Filtering columns with >95% empty cells for TECH\n",
      "Removed sparse columns for TECH\n",
      "Successfully processed and saved data for TECH to ./data/clean/TECH.csv\n",
      "Processing symbol: BIIB\n",
      "Successfully read data for BIIB\n",
      "Pivoted data for BIIB\n"
     ]
    },
    {
     "name": "stderr",
     "output_type": "stream",
     "text": [
      "/var/folders/0w/q70p80s12nz5lpzr087614lw0000gn/T/ipykernel_52557/4138676989.py:41: FutureWarning: The behavior of DataFrame concatenation with empty or all-NA entries is deprecated. In a future version, this will no longer exclude empty or all-NA columns when determining the result dtypes. To retain the old behavior, exclude the relevant entries before the concat operation.\n",
      "  consolidated_df = pd.concat([consolidated_df, pd.DataFrame([row_data])], ignore_index=True)\n"
     ]
    },
    {
     "name": "stdout",
     "output_type": "stream",
     "text": [
      "Filtered by frame format for BIIB\n",
      "Filtering columns with >95% empty cells for BIIB\n",
      "Removed sparse columns for BIIB\n",
      "Successfully processed and saved data for BIIB to ./data/clean/BIIB.csv\n",
      "Processing symbol: BLK\n",
      "Successfully read data for BLK\n",
      "Pivoted data for BLK\n"
     ]
    },
    {
     "name": "stderr",
     "output_type": "stream",
     "text": [
      "/var/folders/0w/q70p80s12nz5lpzr087614lw0000gn/T/ipykernel_52557/4138676989.py:41: FutureWarning: The behavior of DataFrame concatenation with empty or all-NA entries is deprecated. In a future version, this will no longer exclude empty or all-NA columns when determining the result dtypes. To retain the old behavior, exclude the relevant entries before the concat operation.\n",
      "  consolidated_df = pd.concat([consolidated_df, pd.DataFrame([row_data])], ignore_index=True)\n"
     ]
    },
    {
     "name": "stdout",
     "output_type": "stream",
     "text": [
      "Filtered by frame format for BLK\n",
      "Filtering columns with >95% empty cells for BLK\n",
      "Removed sparse columns for BLK\n",
      "Successfully processed and saved data for BLK to ./data/clean/BLK.csv\n",
      "Processing symbol: BX\n",
      "Successfully read data for BX\n",
      "Pivoted data for BX\n"
     ]
    },
    {
     "name": "stderr",
     "output_type": "stream",
     "text": [
      "/var/folders/0w/q70p80s12nz5lpzr087614lw0000gn/T/ipykernel_52557/4138676989.py:41: FutureWarning: The behavior of DataFrame concatenation with empty or all-NA entries is deprecated. In a future version, this will no longer exclude empty or all-NA columns when determining the result dtypes. To retain the old behavior, exclude the relevant entries before the concat operation.\n",
      "  consolidated_df = pd.concat([consolidated_df, pd.DataFrame([row_data])], ignore_index=True)\n"
     ]
    },
    {
     "name": "stdout",
     "output_type": "stream",
     "text": [
      "Filtered by frame format for BX\n",
      "Filtering columns with >95% empty cells for BX\n",
      "Removed sparse columns for BX\n",
      "Successfully processed and saved data for BX to ./data/clean/BX.csv\n",
      "Processing symbol: BK\n",
      "Successfully read data for BK\n",
      "Pivoted data for BK\n"
     ]
    },
    {
     "name": "stderr",
     "output_type": "stream",
     "text": [
      "/var/folders/0w/q70p80s12nz5lpzr087614lw0000gn/T/ipykernel_52557/4138676989.py:41: FutureWarning: The behavior of DataFrame concatenation with empty or all-NA entries is deprecated. In a future version, this will no longer exclude empty or all-NA columns when determining the result dtypes. To retain the old behavior, exclude the relevant entries before the concat operation.\n",
      "  consolidated_df = pd.concat([consolidated_df, pd.DataFrame([row_data])], ignore_index=True)\n"
     ]
    },
    {
     "name": "stdout",
     "output_type": "stream",
     "text": [
      "Filtered by frame format for BK\n",
      "Filtering columns with >95% empty cells for BK\n",
      "Removed sparse columns for BK\n",
      "Successfully processed and saved data for BK to ./data/clean/BK.csv\n",
      "Processing symbol: BA\n",
      "Successfully read data for BA\n",
      "Pivoted data for BA\n"
     ]
    },
    {
     "name": "stderr",
     "output_type": "stream",
     "text": [
      "/var/folders/0w/q70p80s12nz5lpzr087614lw0000gn/T/ipykernel_52557/4138676989.py:41: FutureWarning: The behavior of DataFrame concatenation with empty or all-NA entries is deprecated. In a future version, this will no longer exclude empty or all-NA columns when determining the result dtypes. To retain the old behavior, exclude the relevant entries before the concat operation.\n",
      "  consolidated_df = pd.concat([consolidated_df, pd.DataFrame([row_data])], ignore_index=True)\n"
     ]
    },
    {
     "name": "stdout",
     "output_type": "stream",
     "text": [
      "Filtered by frame format for BA\n",
      "Filtering columns with >95% empty cells for BA\n",
      "Removed sparse columns for BA\n",
      "Successfully processed and saved data for BA to ./data/clean/BA.csv\n",
      "Processing symbol: BKNG\n",
      "Successfully read data for BKNG\n",
      "Pivoted data for BKNG\n"
     ]
    },
    {
     "name": "stderr",
     "output_type": "stream",
     "text": [
      "/var/folders/0w/q70p80s12nz5lpzr087614lw0000gn/T/ipykernel_52557/4138676989.py:41: FutureWarning: The behavior of DataFrame concatenation with empty or all-NA entries is deprecated. In a future version, this will no longer exclude empty or all-NA columns when determining the result dtypes. To retain the old behavior, exclude the relevant entries before the concat operation.\n",
      "  consolidated_df = pd.concat([consolidated_df, pd.DataFrame([row_data])], ignore_index=True)\n"
     ]
    },
    {
     "name": "stdout",
     "output_type": "stream",
     "text": [
      "Filtered by frame format for BKNG\n",
      "Filtering columns with >95% empty cells for BKNG\n",
      "Removed sparse columns for BKNG\n",
      "Successfully processed and saved data for BKNG to ./data/clean/BKNG.csv\n",
      "Processing symbol: BWA\n",
      "Error: File not found for symbol BWA at path: ./data/financial_data/BWA_raw_financials.csv. Skipping this symbol.\n",
      "Processing symbol: BSX\n",
      "Successfully read data for BSX\n",
      "Pivoted data for BSX\n"
     ]
    },
    {
     "name": "stderr",
     "output_type": "stream",
     "text": [
      "/var/folders/0w/q70p80s12nz5lpzr087614lw0000gn/T/ipykernel_52557/4138676989.py:41: FutureWarning: The behavior of DataFrame concatenation with empty or all-NA entries is deprecated. In a future version, this will no longer exclude empty or all-NA columns when determining the result dtypes. To retain the old behavior, exclude the relevant entries before the concat operation.\n",
      "  consolidated_df = pd.concat([consolidated_df, pd.DataFrame([row_data])], ignore_index=True)\n"
     ]
    },
    {
     "name": "stdout",
     "output_type": "stream",
     "text": [
      "Filtered by frame format for BSX\n",
      "Filtering columns with >95% empty cells for BSX\n",
      "Removed sparse columns for BSX\n",
      "Successfully processed and saved data for BSX to ./data/clean/BSX.csv\n",
      "Processing symbol: BMY\n",
      "Successfully read data for BMY\n",
      "Pivoted data for BMY\n"
     ]
    },
    {
     "name": "stderr",
     "output_type": "stream",
     "text": [
      "/var/folders/0w/q70p80s12nz5lpzr087614lw0000gn/T/ipykernel_52557/4138676989.py:41: FutureWarning: The behavior of DataFrame concatenation with empty or all-NA entries is deprecated. In a future version, this will no longer exclude empty or all-NA columns when determining the result dtypes. To retain the old behavior, exclude the relevant entries before the concat operation.\n",
      "  consolidated_df = pd.concat([consolidated_df, pd.DataFrame([row_data])], ignore_index=True)\n"
     ]
    },
    {
     "name": "stdout",
     "output_type": "stream",
     "text": [
      "Filtered by frame format for BMY\n",
      "Filtering columns with >95% empty cells for BMY\n",
      "Removed sparse columns for BMY\n",
      "Successfully processed and saved data for BMY to ./data/clean/BMY.csv\n",
      "Processing symbol: AVGO\n",
      "Successfully read data for AVGO\n",
      "Pivoted data for AVGO\n"
     ]
    },
    {
     "name": "stderr",
     "output_type": "stream",
     "text": [
      "/var/folders/0w/q70p80s12nz5lpzr087614lw0000gn/T/ipykernel_52557/4138676989.py:41: FutureWarning: The behavior of DataFrame concatenation with empty or all-NA entries is deprecated. In a future version, this will no longer exclude empty or all-NA columns when determining the result dtypes. To retain the old behavior, exclude the relevant entries before the concat operation.\n",
      "  consolidated_df = pd.concat([consolidated_df, pd.DataFrame([row_data])], ignore_index=True)\n"
     ]
    },
    {
     "name": "stdout",
     "output_type": "stream",
     "text": [
      "Filtered by frame format for AVGO\n",
      "Filtering columns with >95% empty cells for AVGO\n",
      "Removed sparse columns for AVGO\n",
      "Successfully processed and saved data for AVGO to ./data/clean/AVGO.csv\n",
      "Processing symbol: BR\n",
      "Successfully read data for BR\n",
      "Pivoted data for BR\n"
     ]
    },
    {
     "name": "stderr",
     "output_type": "stream",
     "text": [
      "/var/folders/0w/q70p80s12nz5lpzr087614lw0000gn/T/ipykernel_52557/4138676989.py:41: FutureWarning: The behavior of DataFrame concatenation with empty or all-NA entries is deprecated. In a future version, this will no longer exclude empty or all-NA columns when determining the result dtypes. To retain the old behavior, exclude the relevant entries before the concat operation.\n",
      "  consolidated_df = pd.concat([consolidated_df, pd.DataFrame([row_data])], ignore_index=True)\n"
     ]
    },
    {
     "name": "stdout",
     "output_type": "stream",
     "text": [
      "Filtered by frame format for BR\n",
      "Filtering columns with >95% empty cells for BR\n",
      "Removed sparse columns for BR\n",
      "Successfully processed and saved data for BR to ./data/clean/BR.csv\n",
      "Processing symbol: BRO\n",
      "Successfully read data for BRO\n",
      "Pivoted data for BRO\n"
     ]
    },
    {
     "name": "stderr",
     "output_type": "stream",
     "text": [
      "/var/folders/0w/q70p80s12nz5lpzr087614lw0000gn/T/ipykernel_52557/4138676989.py:41: FutureWarning: The behavior of DataFrame concatenation with empty or all-NA entries is deprecated. In a future version, this will no longer exclude empty or all-NA columns when determining the result dtypes. To retain the old behavior, exclude the relevant entries before the concat operation.\n",
      "  consolidated_df = pd.concat([consolidated_df, pd.DataFrame([row_data])], ignore_index=True)\n"
     ]
    },
    {
     "name": "stdout",
     "output_type": "stream",
     "text": [
      "Filtered by frame format for BRO\n",
      "Filtering columns with >95% empty cells for BRO\n",
      "Removed sparse columns for BRO\n",
      "Successfully processed and saved data for BRO to ./data/clean/BRO.csv\n",
      "Processing symbol: BF.B\n",
      "Error: File not found for symbol BF.B at path: ./data/financial_data/BF.B_raw_financials.csv. Skipping this symbol.\n",
      "Processing symbol: BLDR\n",
      "Successfully read data for BLDR\n",
      "Pivoted data for BLDR\n"
     ]
    },
    {
     "name": "stderr",
     "output_type": "stream",
     "text": [
      "/var/folders/0w/q70p80s12nz5lpzr087614lw0000gn/T/ipykernel_52557/4138676989.py:41: FutureWarning: The behavior of DataFrame concatenation with empty or all-NA entries is deprecated. In a future version, this will no longer exclude empty or all-NA columns when determining the result dtypes. To retain the old behavior, exclude the relevant entries before the concat operation.\n",
      "  consolidated_df = pd.concat([consolidated_df, pd.DataFrame([row_data])], ignore_index=True)\n"
     ]
    },
    {
     "name": "stdout",
     "output_type": "stream",
     "text": [
      "Filtered by frame format for BLDR\n",
      "Filtering columns with >95% empty cells for BLDR\n",
      "Removed sparse columns for BLDR\n",
      "Successfully processed and saved data for BLDR to ./data/clean/BLDR.csv\n",
      "Processing symbol: BG\n",
      "Successfully read data for BG\n",
      "Pivoted data for BG\n"
     ]
    },
    {
     "name": "stderr",
     "output_type": "stream",
     "text": [
      "/var/folders/0w/q70p80s12nz5lpzr087614lw0000gn/T/ipykernel_52557/4138676989.py:41: FutureWarning: The behavior of DataFrame concatenation with empty or all-NA entries is deprecated. In a future version, this will no longer exclude empty or all-NA columns when determining the result dtypes. To retain the old behavior, exclude the relevant entries before the concat operation.\n",
      "  consolidated_df = pd.concat([consolidated_df, pd.DataFrame([row_data])], ignore_index=True)\n"
     ]
    },
    {
     "name": "stdout",
     "output_type": "stream",
     "text": [
      "Filtered by frame format for BG\n",
      "Filtering columns with >95% empty cells for BG\n",
      "Removed sparse columns for BG\n",
      "Successfully processed and saved data for BG to ./data/clean/BG.csv\n",
      "Processing symbol: BXP\n",
      "Successfully read data for BXP\n",
      "Pivoted data for BXP\n"
     ]
    },
    {
     "name": "stderr",
     "output_type": "stream",
     "text": [
      "/var/folders/0w/q70p80s12nz5lpzr087614lw0000gn/T/ipykernel_52557/4138676989.py:41: FutureWarning: The behavior of DataFrame concatenation with empty or all-NA entries is deprecated. In a future version, this will no longer exclude empty or all-NA columns when determining the result dtypes. To retain the old behavior, exclude the relevant entries before the concat operation.\n",
      "  consolidated_df = pd.concat([consolidated_df, pd.DataFrame([row_data])], ignore_index=True)\n"
     ]
    },
    {
     "name": "stdout",
     "output_type": "stream",
     "text": [
      "Filtered by frame format for BXP\n",
      "Filtering columns with >95% empty cells for BXP\n",
      "Removed sparse columns for BXP\n",
      "Successfully processed and saved data for BXP to ./data/clean/BXP.csv\n",
      "Processing symbol: CHRW\n",
      "Successfully read data for CHRW\n",
      "Pivoted data for CHRW\n"
     ]
    },
    {
     "name": "stderr",
     "output_type": "stream",
     "text": [
      "/var/folders/0w/q70p80s12nz5lpzr087614lw0000gn/T/ipykernel_52557/4138676989.py:41: FutureWarning: The behavior of DataFrame concatenation with empty or all-NA entries is deprecated. In a future version, this will no longer exclude empty or all-NA columns when determining the result dtypes. To retain the old behavior, exclude the relevant entries before the concat operation.\n",
      "  consolidated_df = pd.concat([consolidated_df, pd.DataFrame([row_data])], ignore_index=True)\n"
     ]
    },
    {
     "name": "stdout",
     "output_type": "stream",
     "text": [
      "Filtered by frame format for CHRW\n",
      "Filtering columns with >95% empty cells for CHRW\n",
      "Removed sparse columns for CHRW\n",
      "Successfully processed and saved data for CHRW to ./data/clean/CHRW.csv\n",
      "Processing symbol: CDNS\n",
      "Successfully read data for CDNS\n",
      "Pivoted data for CDNS\n"
     ]
    },
    {
     "name": "stderr",
     "output_type": "stream",
     "text": [
      "/var/folders/0w/q70p80s12nz5lpzr087614lw0000gn/T/ipykernel_52557/4138676989.py:41: FutureWarning: The behavior of DataFrame concatenation with empty or all-NA entries is deprecated. In a future version, this will no longer exclude empty or all-NA columns when determining the result dtypes. To retain the old behavior, exclude the relevant entries before the concat operation.\n",
      "  consolidated_df = pd.concat([consolidated_df, pd.DataFrame([row_data])], ignore_index=True)\n"
     ]
    },
    {
     "name": "stdout",
     "output_type": "stream",
     "text": [
      "Filtered by frame format for CDNS\n",
      "Filtering columns with >95% empty cells for CDNS\n",
      "Removed sparse columns for CDNS\n",
      "Successfully processed and saved data for CDNS to ./data/clean/CDNS.csv\n",
      "Processing symbol: CZR\n",
      "Successfully read data for CZR\n",
      "Pivoted data for CZR\n"
     ]
    },
    {
     "name": "stderr",
     "output_type": "stream",
     "text": [
      "/var/folders/0w/q70p80s12nz5lpzr087614lw0000gn/T/ipykernel_52557/4138676989.py:41: FutureWarning: The behavior of DataFrame concatenation with empty or all-NA entries is deprecated. In a future version, this will no longer exclude empty or all-NA columns when determining the result dtypes. To retain the old behavior, exclude the relevant entries before the concat operation.\n",
      "  consolidated_df = pd.concat([consolidated_df, pd.DataFrame([row_data])], ignore_index=True)\n"
     ]
    },
    {
     "name": "stdout",
     "output_type": "stream",
     "text": [
      "Filtered by frame format for CZR\n",
      "Filtering columns with >95% empty cells for CZR\n",
      "Removed sparse columns for CZR\n",
      "Successfully processed and saved data for CZR to ./data/clean/CZR.csv\n",
      "Processing symbol: CPT\n",
      "Successfully read data for CPT\n",
      "Pivoted data for CPT\n"
     ]
    },
    {
     "name": "stderr",
     "output_type": "stream",
     "text": [
      "/var/folders/0w/q70p80s12nz5lpzr087614lw0000gn/T/ipykernel_52557/4138676989.py:41: FutureWarning: The behavior of DataFrame concatenation with empty or all-NA entries is deprecated. In a future version, this will no longer exclude empty or all-NA columns when determining the result dtypes. To retain the old behavior, exclude the relevant entries before the concat operation.\n",
      "  consolidated_df = pd.concat([consolidated_df, pd.DataFrame([row_data])], ignore_index=True)\n"
     ]
    },
    {
     "name": "stdout",
     "output_type": "stream",
     "text": [
      "Filtered by frame format for CPT\n",
      "Filtering columns with >95% empty cells for CPT\n",
      "Removed sparse columns for CPT\n",
      "Successfully processed and saved data for CPT to ./data/clean/CPT.csv\n",
      "Processing symbol: CPB\n",
      "Successfully read data for CPB\n",
      "Pivoted data for CPB\n"
     ]
    },
    {
     "name": "stderr",
     "output_type": "stream",
     "text": [
      "/var/folders/0w/q70p80s12nz5lpzr087614lw0000gn/T/ipykernel_52557/4138676989.py:41: FutureWarning: The behavior of DataFrame concatenation with empty or all-NA entries is deprecated. In a future version, this will no longer exclude empty or all-NA columns when determining the result dtypes. To retain the old behavior, exclude the relevant entries before the concat operation.\n",
      "  consolidated_df = pd.concat([consolidated_df, pd.DataFrame([row_data])], ignore_index=True)\n"
     ]
    },
    {
     "name": "stdout",
     "output_type": "stream",
     "text": [
      "Filtered by frame format for CPB\n",
      "Filtering columns with >95% empty cells for CPB\n",
      "Removed sparse columns for CPB\n",
      "Successfully processed and saved data for CPB to ./data/clean/CPB.csv\n",
      "Processing symbol: COF\n",
      "Successfully read data for COF\n",
      "Pivoted data for COF\n"
     ]
    },
    {
     "name": "stderr",
     "output_type": "stream",
     "text": [
      "/var/folders/0w/q70p80s12nz5lpzr087614lw0000gn/T/ipykernel_52557/4138676989.py:41: FutureWarning: The behavior of DataFrame concatenation with empty or all-NA entries is deprecated. In a future version, this will no longer exclude empty or all-NA columns when determining the result dtypes. To retain the old behavior, exclude the relevant entries before the concat operation.\n",
      "  consolidated_df = pd.concat([consolidated_df, pd.DataFrame([row_data])], ignore_index=True)\n"
     ]
    },
    {
     "name": "stdout",
     "output_type": "stream",
     "text": [
      "Filtered by frame format for COF\n",
      "Filtering columns with >95% empty cells for COF\n",
      "Removed sparse columns for COF\n",
      "Successfully processed and saved data for COF to ./data/clean/COF.csv\n",
      "Processing symbol: CAH\n",
      "Successfully read data for CAH\n",
      "Pivoted data for CAH\n"
     ]
    },
    {
     "name": "stderr",
     "output_type": "stream",
     "text": [
      "/var/folders/0w/q70p80s12nz5lpzr087614lw0000gn/T/ipykernel_52557/4138676989.py:41: FutureWarning: The behavior of DataFrame concatenation with empty or all-NA entries is deprecated. In a future version, this will no longer exclude empty or all-NA columns when determining the result dtypes. To retain the old behavior, exclude the relevant entries before the concat operation.\n",
      "  consolidated_df = pd.concat([consolidated_df, pd.DataFrame([row_data])], ignore_index=True)\n"
     ]
    },
    {
     "name": "stdout",
     "output_type": "stream",
     "text": [
      "Filtered by frame format for CAH\n",
      "Filtering columns with >95% empty cells for CAH\n",
      "Removed sparse columns for CAH\n",
      "Successfully processed and saved data for CAH to ./data/clean/CAH.csv\n",
      "Processing symbol: KMX\n",
      "Successfully read data for KMX\n",
      "Pivoted data for KMX\n"
     ]
    },
    {
     "name": "stderr",
     "output_type": "stream",
     "text": [
      "/var/folders/0w/q70p80s12nz5lpzr087614lw0000gn/T/ipykernel_52557/4138676989.py:41: FutureWarning: The behavior of DataFrame concatenation with empty or all-NA entries is deprecated. In a future version, this will no longer exclude empty or all-NA columns when determining the result dtypes. To retain the old behavior, exclude the relevant entries before the concat operation.\n",
      "  consolidated_df = pd.concat([consolidated_df, pd.DataFrame([row_data])], ignore_index=True)\n"
     ]
    },
    {
     "name": "stdout",
     "output_type": "stream",
     "text": [
      "Filtered by frame format for KMX\n",
      "Filtering columns with >95% empty cells for KMX\n",
      "Removed sparse columns for KMX\n",
      "Successfully processed and saved data for KMX to ./data/clean/KMX.csv\n",
      "Processing symbol: CCL\n",
      "Successfully read data for CCL\n",
      "Pivoted data for CCL\n"
     ]
    },
    {
     "name": "stderr",
     "output_type": "stream",
     "text": [
      "/var/folders/0w/q70p80s12nz5lpzr087614lw0000gn/T/ipykernel_52557/4138676989.py:41: FutureWarning: The behavior of DataFrame concatenation with empty or all-NA entries is deprecated. In a future version, this will no longer exclude empty or all-NA columns when determining the result dtypes. To retain the old behavior, exclude the relevant entries before the concat operation.\n",
      "  consolidated_df = pd.concat([consolidated_df, pd.DataFrame([row_data])], ignore_index=True)\n"
     ]
    },
    {
     "name": "stdout",
     "output_type": "stream",
     "text": [
      "Filtered by frame format for CCL\n",
      "Filtering columns with >95% empty cells for CCL\n",
      "Removed sparse columns for CCL\n",
      "Successfully processed and saved data for CCL to ./data/clean/CCL.csv\n",
      "Processing symbol: CARR\n",
      "Successfully read data for CARR\n",
      "Pivoted data for CARR\n"
     ]
    },
    {
     "name": "stderr",
     "output_type": "stream",
     "text": [
      "/var/folders/0w/q70p80s12nz5lpzr087614lw0000gn/T/ipykernel_52557/4138676989.py:41: FutureWarning: The behavior of DataFrame concatenation with empty or all-NA entries is deprecated. In a future version, this will no longer exclude empty or all-NA columns when determining the result dtypes. To retain the old behavior, exclude the relevant entries before the concat operation.\n",
      "  consolidated_df = pd.concat([consolidated_df, pd.DataFrame([row_data])], ignore_index=True)\n"
     ]
    },
    {
     "name": "stdout",
     "output_type": "stream",
     "text": [
      "Filtered by frame format for CARR\n",
      "Filtering columns with >95% empty cells for CARR\n",
      "Removed sparse columns for CARR\n",
      "Successfully processed and saved data for CARR to ./data/clean/CARR.csv\n",
      "Processing symbol: CAT\n",
      "Successfully read data for CAT\n",
      "Pivoted data for CAT\n"
     ]
    },
    {
     "name": "stderr",
     "output_type": "stream",
     "text": [
      "/var/folders/0w/q70p80s12nz5lpzr087614lw0000gn/T/ipykernel_52557/4138676989.py:41: FutureWarning: The behavior of DataFrame concatenation with empty or all-NA entries is deprecated. In a future version, this will no longer exclude empty or all-NA columns when determining the result dtypes. To retain the old behavior, exclude the relevant entries before the concat operation.\n",
      "  consolidated_df = pd.concat([consolidated_df, pd.DataFrame([row_data])], ignore_index=True)\n"
     ]
    },
    {
     "name": "stdout",
     "output_type": "stream",
     "text": [
      "Filtered by frame format for CAT\n",
      "Filtering columns with >95% empty cells for CAT\n",
      "Removed sparse columns for CAT\n",
      "Successfully processed and saved data for CAT to ./data/clean/CAT.csv\n",
      "Processing symbol: CBOE\n",
      "Successfully read data for CBOE\n",
      "Pivoted data for CBOE\n"
     ]
    },
    {
     "name": "stderr",
     "output_type": "stream",
     "text": [
      "/var/folders/0w/q70p80s12nz5lpzr087614lw0000gn/T/ipykernel_52557/4138676989.py:41: FutureWarning: The behavior of DataFrame concatenation with empty or all-NA entries is deprecated. In a future version, this will no longer exclude empty or all-NA columns when determining the result dtypes. To retain the old behavior, exclude the relevant entries before the concat operation.\n",
      "  consolidated_df = pd.concat([consolidated_df, pd.DataFrame([row_data])], ignore_index=True)\n"
     ]
    },
    {
     "name": "stdout",
     "output_type": "stream",
     "text": [
      "Filtered by frame format for CBOE\n",
      "Filtering columns with >95% empty cells for CBOE\n",
      "Removed sparse columns for CBOE\n",
      "Successfully processed and saved data for CBOE to ./data/clean/CBOE.csv\n",
      "Processing symbol: CBRE\n",
      "Successfully read data for CBRE\n",
      "Pivoted data for CBRE\n"
     ]
    },
    {
     "name": "stderr",
     "output_type": "stream",
     "text": [
      "/var/folders/0w/q70p80s12nz5lpzr087614lw0000gn/T/ipykernel_52557/4138676989.py:41: FutureWarning: The behavior of DataFrame concatenation with empty or all-NA entries is deprecated. In a future version, this will no longer exclude empty or all-NA columns when determining the result dtypes. To retain the old behavior, exclude the relevant entries before the concat operation.\n",
      "  consolidated_df = pd.concat([consolidated_df, pd.DataFrame([row_data])], ignore_index=True)\n"
     ]
    },
    {
     "name": "stdout",
     "output_type": "stream",
     "text": [
      "Filtered by frame format for CBRE\n",
      "Filtering columns with >95% empty cells for CBRE\n",
      "Removed sparse columns for CBRE\n",
      "Successfully processed and saved data for CBRE to ./data/clean/CBRE.csv\n",
      "Processing symbol: CDW\n",
      "Successfully read data for CDW\n",
      "Pivoted data for CDW\n"
     ]
    },
    {
     "name": "stderr",
     "output_type": "stream",
     "text": [
      "/var/folders/0w/q70p80s12nz5lpzr087614lw0000gn/T/ipykernel_52557/4138676989.py:41: FutureWarning: The behavior of DataFrame concatenation with empty or all-NA entries is deprecated. In a future version, this will no longer exclude empty or all-NA columns when determining the result dtypes. To retain the old behavior, exclude the relevant entries before the concat operation.\n",
      "  consolidated_df = pd.concat([consolidated_df, pd.DataFrame([row_data])], ignore_index=True)\n"
     ]
    },
    {
     "name": "stdout",
     "output_type": "stream",
     "text": [
      "Filtered by frame format for CDW\n",
      "Filtering columns with >95% empty cells for CDW\n",
      "Removed sparse columns for CDW\n",
      "Successfully processed and saved data for CDW to ./data/clean/CDW.csv\n",
      "Processing symbol: CE\n",
      "Error: File not found for symbol CE at path: ./data/financial_data/CE_raw_financials.csv. Skipping this symbol.\n",
      "Processing symbol: COR\n",
      "Successfully read data for COR\n",
      "Pivoted data for COR\n"
     ]
    },
    {
     "name": "stderr",
     "output_type": "stream",
     "text": [
      "/var/folders/0w/q70p80s12nz5lpzr087614lw0000gn/T/ipykernel_52557/4138676989.py:41: FutureWarning: The behavior of DataFrame concatenation with empty or all-NA entries is deprecated. In a future version, this will no longer exclude empty or all-NA columns when determining the result dtypes. To retain the old behavior, exclude the relevant entries before the concat operation.\n",
      "  consolidated_df = pd.concat([consolidated_df, pd.DataFrame([row_data])], ignore_index=True)\n"
     ]
    },
    {
     "name": "stdout",
     "output_type": "stream",
     "text": [
      "Filtered by frame format for COR\n",
      "Filtering columns with >95% empty cells for COR\n",
      "Removed sparse columns for COR\n",
      "Successfully processed and saved data for COR to ./data/clean/COR.csv\n",
      "Processing symbol: CNC\n",
      "Successfully read data for CNC\n",
      "Pivoted data for CNC\n"
     ]
    },
    {
     "name": "stderr",
     "output_type": "stream",
     "text": [
      "/var/folders/0w/q70p80s12nz5lpzr087614lw0000gn/T/ipykernel_52557/4138676989.py:41: FutureWarning: The behavior of DataFrame concatenation with empty or all-NA entries is deprecated. In a future version, this will no longer exclude empty or all-NA columns when determining the result dtypes. To retain the old behavior, exclude the relevant entries before the concat operation.\n",
      "  consolidated_df = pd.concat([consolidated_df, pd.DataFrame([row_data])], ignore_index=True)\n"
     ]
    },
    {
     "name": "stdout",
     "output_type": "stream",
     "text": [
      "Filtered by frame format for CNC\n",
      "Filtering columns with >95% empty cells for CNC\n",
      "Removed sparse columns for CNC\n",
      "Successfully processed and saved data for CNC to ./data/clean/CNC.csv\n",
      "Processing symbol: CNP\n",
      "Successfully read data for CNP\n",
      "Pivoted data for CNP\n"
     ]
    },
    {
     "name": "stderr",
     "output_type": "stream",
     "text": [
      "/var/folders/0w/q70p80s12nz5lpzr087614lw0000gn/T/ipykernel_52557/4138676989.py:41: FutureWarning: The behavior of DataFrame concatenation with empty or all-NA entries is deprecated. In a future version, this will no longer exclude empty or all-NA columns when determining the result dtypes. To retain the old behavior, exclude the relevant entries before the concat operation.\n",
      "  consolidated_df = pd.concat([consolidated_df, pd.DataFrame([row_data])], ignore_index=True)\n"
     ]
    },
    {
     "name": "stdout",
     "output_type": "stream",
     "text": [
      "Filtered by frame format for CNP\n",
      "Filtering columns with >95% empty cells for CNP\n",
      "Removed sparse columns for CNP\n",
      "Successfully processed and saved data for CNP to ./data/clean/CNP.csv\n",
      "Processing symbol: CF\n",
      "Successfully read data for CF\n",
      "Pivoted data for CF\n"
     ]
    },
    {
     "name": "stderr",
     "output_type": "stream",
     "text": [
      "/var/folders/0w/q70p80s12nz5lpzr087614lw0000gn/T/ipykernel_52557/4138676989.py:41: FutureWarning: The behavior of DataFrame concatenation with empty or all-NA entries is deprecated. In a future version, this will no longer exclude empty or all-NA columns when determining the result dtypes. To retain the old behavior, exclude the relevant entries before the concat operation.\n",
      "  consolidated_df = pd.concat([consolidated_df, pd.DataFrame([row_data])], ignore_index=True)\n"
     ]
    },
    {
     "name": "stdout",
     "output_type": "stream",
     "text": [
      "Filtered by frame format for CF\n",
      "Filtering columns with >95% empty cells for CF\n",
      "Removed sparse columns for CF\n",
      "Successfully processed and saved data for CF to ./data/clean/CF.csv\n",
      "Processing symbol: CRL\n",
      "Successfully read data for CRL\n",
      "Pivoted data for CRL\n"
     ]
    },
    {
     "name": "stderr",
     "output_type": "stream",
     "text": [
      "/var/folders/0w/q70p80s12nz5lpzr087614lw0000gn/T/ipykernel_52557/4138676989.py:41: FutureWarning: The behavior of DataFrame concatenation with empty or all-NA entries is deprecated. In a future version, this will no longer exclude empty or all-NA columns when determining the result dtypes. To retain the old behavior, exclude the relevant entries before the concat operation.\n",
      "  consolidated_df = pd.concat([consolidated_df, pd.DataFrame([row_data])], ignore_index=True)\n"
     ]
    },
    {
     "name": "stdout",
     "output_type": "stream",
     "text": [
      "Filtered by frame format for CRL\n",
      "Filtering columns with >95% empty cells for CRL\n",
      "Removed sparse columns for CRL\n",
      "Successfully processed and saved data for CRL to ./data/clean/CRL.csv\n",
      "Processing symbol: SCHW\n",
      "Successfully read data for SCHW\n",
      "Pivoted data for SCHW\n"
     ]
    },
    {
     "name": "stderr",
     "output_type": "stream",
     "text": [
      "/var/folders/0w/q70p80s12nz5lpzr087614lw0000gn/T/ipykernel_52557/4138676989.py:41: FutureWarning: The behavior of DataFrame concatenation with empty or all-NA entries is deprecated. In a future version, this will no longer exclude empty or all-NA columns when determining the result dtypes. To retain the old behavior, exclude the relevant entries before the concat operation.\n",
      "  consolidated_df = pd.concat([consolidated_df, pd.DataFrame([row_data])], ignore_index=True)\n"
     ]
    },
    {
     "name": "stdout",
     "output_type": "stream",
     "text": [
      "Filtered by frame format for SCHW\n",
      "Filtering columns with >95% empty cells for SCHW\n",
      "Removed sparse columns for SCHW\n",
      "Successfully processed and saved data for SCHW to ./data/clean/SCHW.csv\n",
      "Processing symbol: CHTR\n",
      "Successfully read data for CHTR\n",
      "Pivoted data for CHTR\n"
     ]
    },
    {
     "name": "stderr",
     "output_type": "stream",
     "text": [
      "/var/folders/0w/q70p80s12nz5lpzr087614lw0000gn/T/ipykernel_52557/4138676989.py:41: FutureWarning: The behavior of DataFrame concatenation with empty or all-NA entries is deprecated. In a future version, this will no longer exclude empty or all-NA columns when determining the result dtypes. To retain the old behavior, exclude the relevant entries before the concat operation.\n",
      "  consolidated_df = pd.concat([consolidated_df, pd.DataFrame([row_data])], ignore_index=True)\n"
     ]
    },
    {
     "name": "stdout",
     "output_type": "stream",
     "text": [
      "Filtered by frame format for CHTR\n",
      "Filtering columns with >95% empty cells for CHTR\n",
      "Removed sparse columns for CHTR\n",
      "Successfully processed and saved data for CHTR to ./data/clean/CHTR.csv\n",
      "Processing symbol: CVX\n",
      "Successfully read data for CVX\n",
      "Pivoted data for CVX\n"
     ]
    },
    {
     "name": "stderr",
     "output_type": "stream",
     "text": [
      "/var/folders/0w/q70p80s12nz5lpzr087614lw0000gn/T/ipykernel_52557/4138676989.py:41: FutureWarning: The behavior of DataFrame concatenation with empty or all-NA entries is deprecated. In a future version, this will no longer exclude empty or all-NA columns when determining the result dtypes. To retain the old behavior, exclude the relevant entries before the concat operation.\n",
      "  consolidated_df = pd.concat([consolidated_df, pd.DataFrame([row_data])], ignore_index=True)\n"
     ]
    },
    {
     "name": "stdout",
     "output_type": "stream",
     "text": [
      "Filtered by frame format for CVX\n",
      "Filtering columns with >95% empty cells for CVX\n",
      "Removed sparse columns for CVX\n",
      "Successfully processed and saved data for CVX to ./data/clean/CVX.csv\n",
      "Processing symbol: CMG\n",
      "Successfully read data for CMG\n",
      "Pivoted data for CMG\n"
     ]
    },
    {
     "name": "stderr",
     "output_type": "stream",
     "text": [
      "/var/folders/0w/q70p80s12nz5lpzr087614lw0000gn/T/ipykernel_52557/4138676989.py:41: FutureWarning: The behavior of DataFrame concatenation with empty or all-NA entries is deprecated. In a future version, this will no longer exclude empty or all-NA columns when determining the result dtypes. To retain the old behavior, exclude the relevant entries before the concat operation.\n",
      "  consolidated_df = pd.concat([consolidated_df, pd.DataFrame([row_data])], ignore_index=True)\n"
     ]
    },
    {
     "name": "stdout",
     "output_type": "stream",
     "text": [
      "Filtered by frame format for CMG\n",
      "Filtering columns with >95% empty cells for CMG\n",
      "Removed sparse columns for CMG\n",
      "Successfully processed and saved data for CMG to ./data/clean/CMG.csv\n",
      "Processing symbol: CB\n",
      "Successfully read data for CB\n",
      "Pivoted data for CB\n"
     ]
    },
    {
     "name": "stderr",
     "output_type": "stream",
     "text": [
      "/var/folders/0w/q70p80s12nz5lpzr087614lw0000gn/T/ipykernel_52557/4138676989.py:41: FutureWarning: The behavior of DataFrame concatenation with empty or all-NA entries is deprecated. In a future version, this will no longer exclude empty or all-NA columns when determining the result dtypes. To retain the old behavior, exclude the relevant entries before the concat operation.\n",
      "  consolidated_df = pd.concat([consolidated_df, pd.DataFrame([row_data])], ignore_index=True)\n"
     ]
    },
    {
     "name": "stdout",
     "output_type": "stream",
     "text": [
      "Filtered by frame format for CB\n",
      "Filtering columns with >95% empty cells for CB\n",
      "Removed sparse columns for CB\n",
      "Successfully processed and saved data for CB to ./data/clean/CB.csv\n",
      "Processing symbol: CHD\n",
      "Successfully read data for CHD\n",
      "Pivoted data for CHD\n"
     ]
    },
    {
     "name": "stderr",
     "output_type": "stream",
     "text": [
      "/var/folders/0w/q70p80s12nz5lpzr087614lw0000gn/T/ipykernel_52557/4138676989.py:41: FutureWarning: The behavior of DataFrame concatenation with empty or all-NA entries is deprecated. In a future version, this will no longer exclude empty or all-NA columns when determining the result dtypes. To retain the old behavior, exclude the relevant entries before the concat operation.\n",
      "  consolidated_df = pd.concat([consolidated_df, pd.DataFrame([row_data])], ignore_index=True)\n"
     ]
    },
    {
     "name": "stdout",
     "output_type": "stream",
     "text": [
      "Filtered by frame format for CHD\n",
      "Filtering columns with >95% empty cells for CHD\n",
      "Removed sparse columns for CHD\n",
      "Successfully processed and saved data for CHD to ./data/clean/CHD.csv\n",
      "Processing symbol: CI\n",
      "Successfully read data for CI\n",
      "Pivoted data for CI\n"
     ]
    },
    {
     "name": "stderr",
     "output_type": "stream",
     "text": [
      "/var/folders/0w/q70p80s12nz5lpzr087614lw0000gn/T/ipykernel_52557/4138676989.py:41: FutureWarning: The behavior of DataFrame concatenation with empty or all-NA entries is deprecated. In a future version, this will no longer exclude empty or all-NA columns when determining the result dtypes. To retain the old behavior, exclude the relevant entries before the concat operation.\n",
      "  consolidated_df = pd.concat([consolidated_df, pd.DataFrame([row_data])], ignore_index=True)\n"
     ]
    },
    {
     "name": "stdout",
     "output_type": "stream",
     "text": [
      "Filtered by frame format for CI\n",
      "Filtering columns with >95% empty cells for CI\n",
      "Removed sparse columns for CI\n",
      "Successfully processed and saved data for CI to ./data/clean/CI.csv\n",
      "Processing symbol: CINF\n",
      "Successfully read data for CINF\n",
      "Pivoted data for CINF\n"
     ]
    },
    {
     "name": "stderr",
     "output_type": "stream",
     "text": [
      "/var/folders/0w/q70p80s12nz5lpzr087614lw0000gn/T/ipykernel_52557/4138676989.py:41: FutureWarning: The behavior of DataFrame concatenation with empty or all-NA entries is deprecated. In a future version, this will no longer exclude empty or all-NA columns when determining the result dtypes. To retain the old behavior, exclude the relevant entries before the concat operation.\n",
      "  consolidated_df = pd.concat([consolidated_df, pd.DataFrame([row_data])], ignore_index=True)\n"
     ]
    },
    {
     "name": "stdout",
     "output_type": "stream",
     "text": [
      "Filtered by frame format for CINF\n",
      "Filtering columns with >95% empty cells for CINF\n",
      "Removed sparse columns for CINF\n",
      "Successfully processed and saved data for CINF to ./data/clean/CINF.csv\n",
      "Processing symbol: CTAS\n",
      "Successfully read data for CTAS\n",
      "Pivoted data for CTAS\n"
     ]
    },
    {
     "name": "stderr",
     "output_type": "stream",
     "text": [
      "/var/folders/0w/q70p80s12nz5lpzr087614lw0000gn/T/ipykernel_52557/4138676989.py:41: FutureWarning: The behavior of DataFrame concatenation with empty or all-NA entries is deprecated. In a future version, this will no longer exclude empty or all-NA columns when determining the result dtypes. To retain the old behavior, exclude the relevant entries before the concat operation.\n",
      "  consolidated_df = pd.concat([consolidated_df, pd.DataFrame([row_data])], ignore_index=True)\n"
     ]
    },
    {
     "name": "stdout",
     "output_type": "stream",
     "text": [
      "Filtered by frame format for CTAS\n",
      "Filtering columns with >95% empty cells for CTAS\n",
      "Removed sparse columns for CTAS\n",
      "Successfully processed and saved data for CTAS to ./data/clean/CTAS.csv\n",
      "Processing symbol: CSCO\n",
      "Successfully read data for CSCO\n",
      "Pivoted data for CSCO\n"
     ]
    },
    {
     "name": "stderr",
     "output_type": "stream",
     "text": [
      "/var/folders/0w/q70p80s12nz5lpzr087614lw0000gn/T/ipykernel_52557/4138676989.py:41: FutureWarning: The behavior of DataFrame concatenation with empty or all-NA entries is deprecated. In a future version, this will no longer exclude empty or all-NA columns when determining the result dtypes. To retain the old behavior, exclude the relevant entries before the concat operation.\n",
      "  consolidated_df = pd.concat([consolidated_df, pd.DataFrame([row_data])], ignore_index=True)\n"
     ]
    },
    {
     "name": "stdout",
     "output_type": "stream",
     "text": [
      "Filtered by frame format for CSCO\n",
      "Filtering columns with >95% empty cells for CSCO\n",
      "Removed sparse columns for CSCO\n",
      "Successfully processed and saved data for CSCO to ./data/clean/CSCO.csv\n",
      "Processing symbol: C\n",
      "Successfully read data for C\n",
      "Pivoted data for C\n"
     ]
    },
    {
     "name": "stderr",
     "output_type": "stream",
     "text": [
      "/var/folders/0w/q70p80s12nz5lpzr087614lw0000gn/T/ipykernel_52557/4138676989.py:41: FutureWarning: The behavior of DataFrame concatenation with empty or all-NA entries is deprecated. In a future version, this will no longer exclude empty or all-NA columns when determining the result dtypes. To retain the old behavior, exclude the relevant entries before the concat operation.\n",
      "  consolidated_df = pd.concat([consolidated_df, pd.DataFrame([row_data])], ignore_index=True)\n"
     ]
    },
    {
     "name": "stdout",
     "output_type": "stream",
     "text": [
      "Filtered by frame format for C\n",
      "Filtering columns with >95% empty cells for C\n",
      "Removed sparse columns for C\n",
      "Successfully processed and saved data for C to ./data/clean/C.csv\n",
      "Processing symbol: CFG\n",
      "Successfully read data for CFG\n",
      "Pivoted data for CFG\n"
     ]
    },
    {
     "name": "stderr",
     "output_type": "stream",
     "text": [
      "/var/folders/0w/q70p80s12nz5lpzr087614lw0000gn/T/ipykernel_52557/4138676989.py:41: FutureWarning: The behavior of DataFrame concatenation with empty or all-NA entries is deprecated. In a future version, this will no longer exclude empty or all-NA columns when determining the result dtypes. To retain the old behavior, exclude the relevant entries before the concat operation.\n",
      "  consolidated_df = pd.concat([consolidated_df, pd.DataFrame([row_data])], ignore_index=True)\n"
     ]
    },
    {
     "name": "stdout",
     "output_type": "stream",
     "text": [
      "Filtered by frame format for CFG\n",
      "Filtering columns with >95% empty cells for CFG\n",
      "Removed sparse columns for CFG\n",
      "Successfully processed and saved data for CFG to ./data/clean/CFG.csv\n",
      "Processing symbol: CLX\n",
      "Successfully read data for CLX\n",
      "Pivoted data for CLX\n"
     ]
    },
    {
     "name": "stderr",
     "output_type": "stream",
     "text": [
      "/var/folders/0w/q70p80s12nz5lpzr087614lw0000gn/T/ipykernel_52557/4138676989.py:41: FutureWarning: The behavior of DataFrame concatenation with empty or all-NA entries is deprecated. In a future version, this will no longer exclude empty or all-NA columns when determining the result dtypes. To retain the old behavior, exclude the relevant entries before the concat operation.\n",
      "  consolidated_df = pd.concat([consolidated_df, pd.DataFrame([row_data])], ignore_index=True)\n"
     ]
    },
    {
     "name": "stdout",
     "output_type": "stream",
     "text": [
      "Filtered by frame format for CLX\n",
      "Filtering columns with >95% empty cells for CLX\n",
      "Removed sparse columns for CLX\n",
      "Successfully processed and saved data for CLX to ./data/clean/CLX.csv\n",
      "Processing symbol: CME\n",
      "Successfully read data for CME\n",
      "Pivoted data for CME\n"
     ]
    },
    {
     "name": "stderr",
     "output_type": "stream",
     "text": [
      "/var/folders/0w/q70p80s12nz5lpzr087614lw0000gn/T/ipykernel_52557/4138676989.py:41: FutureWarning: The behavior of DataFrame concatenation with empty or all-NA entries is deprecated. In a future version, this will no longer exclude empty or all-NA columns when determining the result dtypes. To retain the old behavior, exclude the relevant entries before the concat operation.\n",
      "  consolidated_df = pd.concat([consolidated_df, pd.DataFrame([row_data])], ignore_index=True)\n"
     ]
    },
    {
     "name": "stdout",
     "output_type": "stream",
     "text": [
      "Filtered by frame format for CME\n",
      "Filtering columns with >95% empty cells for CME\n",
      "Removed sparse columns for CME\n",
      "Successfully processed and saved data for CME to ./data/clean/CME.csv\n",
      "Processing symbol: CMS\n",
      "Successfully read data for CMS\n",
      "Pivoted data for CMS\n"
     ]
    },
    {
     "name": "stderr",
     "output_type": "stream",
     "text": [
      "/var/folders/0w/q70p80s12nz5lpzr087614lw0000gn/T/ipykernel_52557/4138676989.py:41: FutureWarning: The behavior of DataFrame concatenation with empty or all-NA entries is deprecated. In a future version, this will no longer exclude empty or all-NA columns when determining the result dtypes. To retain the old behavior, exclude the relevant entries before the concat operation.\n",
      "  consolidated_df = pd.concat([consolidated_df, pd.DataFrame([row_data])], ignore_index=True)\n"
     ]
    },
    {
     "name": "stdout",
     "output_type": "stream",
     "text": [
      "Filtered by frame format for CMS\n",
      "Filtering columns with >95% empty cells for CMS\n",
      "Removed sparse columns for CMS\n",
      "Successfully processed and saved data for CMS to ./data/clean/CMS.csv\n",
      "Processing symbol: KO\n",
      "Successfully read data for KO\n",
      "Pivoted data for KO\n"
     ]
    },
    {
     "name": "stderr",
     "output_type": "stream",
     "text": [
      "/var/folders/0w/q70p80s12nz5lpzr087614lw0000gn/T/ipykernel_52557/4138676989.py:41: FutureWarning: The behavior of DataFrame concatenation with empty or all-NA entries is deprecated. In a future version, this will no longer exclude empty or all-NA columns when determining the result dtypes. To retain the old behavior, exclude the relevant entries before the concat operation.\n",
      "  consolidated_df = pd.concat([consolidated_df, pd.DataFrame([row_data])], ignore_index=True)\n"
     ]
    },
    {
     "name": "stdout",
     "output_type": "stream",
     "text": [
      "Filtered by frame format for KO\n",
      "Filtering columns with >95% empty cells for KO\n",
      "Removed sparse columns for KO\n",
      "Successfully processed and saved data for KO to ./data/clean/KO.csv\n",
      "Processing symbol: CTSH\n",
      "Successfully read data for CTSH\n",
      "Pivoted data for CTSH\n"
     ]
    },
    {
     "name": "stderr",
     "output_type": "stream",
     "text": [
      "/var/folders/0w/q70p80s12nz5lpzr087614lw0000gn/T/ipykernel_52557/4138676989.py:41: FutureWarning: The behavior of DataFrame concatenation with empty or all-NA entries is deprecated. In a future version, this will no longer exclude empty or all-NA columns when determining the result dtypes. To retain the old behavior, exclude the relevant entries before the concat operation.\n",
      "  consolidated_df = pd.concat([consolidated_df, pd.DataFrame([row_data])], ignore_index=True)\n"
     ]
    },
    {
     "name": "stdout",
     "output_type": "stream",
     "text": [
      "Filtered by frame format for CTSH\n",
      "Filtering columns with >95% empty cells for CTSH\n",
      "Removed sparse columns for CTSH\n",
      "Successfully processed and saved data for CTSH to ./data/clean/CTSH.csv\n",
      "Processing symbol: CL\n",
      "Successfully read data for CL\n",
      "Pivoted data for CL\n"
     ]
    },
    {
     "name": "stderr",
     "output_type": "stream",
     "text": [
      "/var/folders/0w/q70p80s12nz5lpzr087614lw0000gn/T/ipykernel_52557/4138676989.py:41: FutureWarning: The behavior of DataFrame concatenation with empty or all-NA entries is deprecated. In a future version, this will no longer exclude empty or all-NA columns when determining the result dtypes. To retain the old behavior, exclude the relevant entries before the concat operation.\n",
      "  consolidated_df = pd.concat([consolidated_df, pd.DataFrame([row_data])], ignore_index=True)\n"
     ]
    },
    {
     "name": "stdout",
     "output_type": "stream",
     "text": [
      "Filtered by frame format for CL\n",
      "Filtering columns with >95% empty cells for CL\n",
      "Removed sparse columns for CL\n",
      "Successfully processed and saved data for CL to ./data/clean/CL.csv\n",
      "Processing symbol: CMCSA\n",
      "Successfully read data for CMCSA\n",
      "Pivoted data for CMCSA\n"
     ]
    },
    {
     "name": "stderr",
     "output_type": "stream",
     "text": [
      "/var/folders/0w/q70p80s12nz5lpzr087614lw0000gn/T/ipykernel_52557/4138676989.py:41: FutureWarning: The behavior of DataFrame concatenation with empty or all-NA entries is deprecated. In a future version, this will no longer exclude empty or all-NA columns when determining the result dtypes. To retain the old behavior, exclude the relevant entries before the concat operation.\n",
      "  consolidated_df = pd.concat([consolidated_df, pd.DataFrame([row_data])], ignore_index=True)\n"
     ]
    },
    {
     "name": "stdout",
     "output_type": "stream",
     "text": [
      "Filtered by frame format for CMCSA\n",
      "Filtering columns with >95% empty cells for CMCSA\n",
      "Removed sparse columns for CMCSA\n",
      "Successfully processed and saved data for CMCSA to ./data/clean/CMCSA.csv\n",
      "Processing symbol: CAG\n",
      "Successfully read data for CAG\n",
      "Pivoted data for CAG\n"
     ]
    },
    {
     "name": "stderr",
     "output_type": "stream",
     "text": [
      "/var/folders/0w/q70p80s12nz5lpzr087614lw0000gn/T/ipykernel_52557/4138676989.py:41: FutureWarning: The behavior of DataFrame concatenation with empty or all-NA entries is deprecated. In a future version, this will no longer exclude empty or all-NA columns when determining the result dtypes. To retain the old behavior, exclude the relevant entries before the concat operation.\n",
      "  consolidated_df = pd.concat([consolidated_df, pd.DataFrame([row_data])], ignore_index=True)\n"
     ]
    },
    {
     "name": "stdout",
     "output_type": "stream",
     "text": [
      "Filtered by frame format for CAG\n",
      "Filtering columns with >95% empty cells for CAG\n",
      "Removed sparse columns for CAG\n",
      "Successfully processed and saved data for CAG to ./data/clean/CAG.csv\n",
      "Processing symbol: COP\n",
      "Successfully read data for COP\n",
      "Pivoted data for COP\n"
     ]
    },
    {
     "name": "stderr",
     "output_type": "stream",
     "text": [
      "/var/folders/0w/q70p80s12nz5lpzr087614lw0000gn/T/ipykernel_52557/4138676989.py:41: FutureWarning: The behavior of DataFrame concatenation with empty or all-NA entries is deprecated. In a future version, this will no longer exclude empty or all-NA columns when determining the result dtypes. To retain the old behavior, exclude the relevant entries before the concat operation.\n",
      "  consolidated_df = pd.concat([consolidated_df, pd.DataFrame([row_data])], ignore_index=True)\n"
     ]
    },
    {
     "name": "stdout",
     "output_type": "stream",
     "text": [
      "Filtered by frame format for COP\n",
      "Filtering columns with >95% empty cells for COP\n",
      "Removed sparse columns for COP\n",
      "Successfully processed and saved data for COP to ./data/clean/COP.csv\n",
      "Processing symbol: ED\n",
      "Successfully read data for ED\n",
      "Pivoted data for ED\n"
     ]
    },
    {
     "name": "stderr",
     "output_type": "stream",
     "text": [
      "/var/folders/0w/q70p80s12nz5lpzr087614lw0000gn/T/ipykernel_52557/4138676989.py:41: FutureWarning: The behavior of DataFrame concatenation with empty or all-NA entries is deprecated. In a future version, this will no longer exclude empty or all-NA columns when determining the result dtypes. To retain the old behavior, exclude the relevant entries before the concat operation.\n",
      "  consolidated_df = pd.concat([consolidated_df, pd.DataFrame([row_data])], ignore_index=True)\n"
     ]
    },
    {
     "name": "stdout",
     "output_type": "stream",
     "text": [
      "Filtered by frame format for ED\n",
      "Filtering columns with >95% empty cells for ED\n",
      "Removed sparse columns for ED\n",
      "Successfully processed and saved data for ED to ./data/clean/ED.csv\n",
      "Processing symbol: STZ\n",
      "Successfully read data for STZ\n",
      "Pivoted data for STZ\n"
     ]
    },
    {
     "name": "stderr",
     "output_type": "stream",
     "text": [
      "/var/folders/0w/q70p80s12nz5lpzr087614lw0000gn/T/ipykernel_52557/4138676989.py:41: FutureWarning: The behavior of DataFrame concatenation with empty or all-NA entries is deprecated. In a future version, this will no longer exclude empty or all-NA columns when determining the result dtypes. To retain the old behavior, exclude the relevant entries before the concat operation.\n",
      "  consolidated_df = pd.concat([consolidated_df, pd.DataFrame([row_data])], ignore_index=True)\n"
     ]
    },
    {
     "name": "stdout",
     "output_type": "stream",
     "text": [
      "Filtered by frame format for STZ\n",
      "Filtering columns with >95% empty cells for STZ\n",
      "Removed sparse columns for STZ\n",
      "Successfully processed and saved data for STZ to ./data/clean/STZ.csv\n",
      "Processing symbol: CEG\n",
      "Successfully read data for CEG\n",
      "Pivoted data for CEG\n"
     ]
    },
    {
     "name": "stderr",
     "output_type": "stream",
     "text": [
      "/var/folders/0w/q70p80s12nz5lpzr087614lw0000gn/T/ipykernel_52557/4138676989.py:41: FutureWarning: The behavior of DataFrame concatenation with empty or all-NA entries is deprecated. In a future version, this will no longer exclude empty or all-NA columns when determining the result dtypes. To retain the old behavior, exclude the relevant entries before the concat operation.\n",
      "  consolidated_df = pd.concat([consolidated_df, pd.DataFrame([row_data])], ignore_index=True)\n"
     ]
    },
    {
     "name": "stdout",
     "output_type": "stream",
     "text": [
      "Filtered by frame format for CEG\n",
      "Filtering columns with >95% empty cells for CEG\n",
      "Removed sparse columns for CEG\n",
      "Successfully processed and saved data for CEG to ./data/clean/CEG.csv\n",
      "Processing symbol: COO\n",
      "Successfully read data for COO\n",
      "Pivoted data for COO\n"
     ]
    },
    {
     "name": "stderr",
     "output_type": "stream",
     "text": [
      "/var/folders/0w/q70p80s12nz5lpzr087614lw0000gn/T/ipykernel_52557/4138676989.py:41: FutureWarning: The behavior of DataFrame concatenation with empty or all-NA entries is deprecated. In a future version, this will no longer exclude empty or all-NA columns when determining the result dtypes. To retain the old behavior, exclude the relevant entries before the concat operation.\n",
      "  consolidated_df = pd.concat([consolidated_df, pd.DataFrame([row_data])], ignore_index=True)\n"
     ]
    },
    {
     "name": "stdout",
     "output_type": "stream",
     "text": [
      "Filtered by frame format for COO\n",
      "Filtering columns with >95% empty cells for COO\n",
      "Removed sparse columns for COO\n",
      "Successfully processed and saved data for COO to ./data/clean/COO.csv\n",
      "Processing symbol: CPRT\n",
      "Successfully read data for CPRT\n",
      "Pivoted data for CPRT\n"
     ]
    },
    {
     "name": "stderr",
     "output_type": "stream",
     "text": [
      "/var/folders/0w/q70p80s12nz5lpzr087614lw0000gn/T/ipykernel_52557/4138676989.py:41: FutureWarning: The behavior of DataFrame concatenation with empty or all-NA entries is deprecated. In a future version, this will no longer exclude empty or all-NA columns when determining the result dtypes. To retain the old behavior, exclude the relevant entries before the concat operation.\n",
      "  consolidated_df = pd.concat([consolidated_df, pd.DataFrame([row_data])], ignore_index=True)\n"
     ]
    },
    {
     "name": "stdout",
     "output_type": "stream",
     "text": [
      "Filtered by frame format for CPRT\n",
      "Filtering columns with >95% empty cells for CPRT\n",
      "Removed sparse columns for CPRT\n",
      "Successfully processed and saved data for CPRT to ./data/clean/CPRT.csv\n",
      "Processing symbol: GLW\n",
      "Successfully read data for GLW\n",
      "Pivoted data for GLW\n"
     ]
    },
    {
     "name": "stderr",
     "output_type": "stream",
     "text": [
      "/var/folders/0w/q70p80s12nz5lpzr087614lw0000gn/T/ipykernel_52557/4138676989.py:41: FutureWarning: The behavior of DataFrame concatenation with empty or all-NA entries is deprecated. In a future version, this will no longer exclude empty or all-NA columns when determining the result dtypes. To retain the old behavior, exclude the relevant entries before the concat operation.\n",
      "  consolidated_df = pd.concat([consolidated_df, pd.DataFrame([row_data])], ignore_index=True)\n"
     ]
    },
    {
     "name": "stdout",
     "output_type": "stream",
     "text": [
      "Filtered by frame format for GLW\n",
      "Filtering columns with >95% empty cells for GLW\n",
      "Removed sparse columns for GLW\n",
      "Successfully processed and saved data for GLW to ./data/clean/GLW.csv\n",
      "Processing symbol: CPAY\n",
      "Successfully read data for CPAY\n",
      "Pivoted data for CPAY\n"
     ]
    },
    {
     "name": "stderr",
     "output_type": "stream",
     "text": [
      "/var/folders/0w/q70p80s12nz5lpzr087614lw0000gn/T/ipykernel_52557/4138676989.py:41: FutureWarning: The behavior of DataFrame concatenation with empty or all-NA entries is deprecated. In a future version, this will no longer exclude empty or all-NA columns when determining the result dtypes. To retain the old behavior, exclude the relevant entries before the concat operation.\n",
      "  consolidated_df = pd.concat([consolidated_df, pd.DataFrame([row_data])], ignore_index=True)\n"
     ]
    },
    {
     "name": "stdout",
     "output_type": "stream",
     "text": [
      "Filtered by frame format for CPAY\n",
      "Filtering columns with >95% empty cells for CPAY\n",
      "Removed sparse columns for CPAY\n",
      "Successfully processed and saved data for CPAY to ./data/clean/CPAY.csv\n",
      "Processing symbol: CTVA\n",
      "Successfully read data for CTVA\n",
      "Pivoted data for CTVA\n"
     ]
    },
    {
     "name": "stderr",
     "output_type": "stream",
     "text": [
      "/var/folders/0w/q70p80s12nz5lpzr087614lw0000gn/T/ipykernel_52557/4138676989.py:41: FutureWarning: The behavior of DataFrame concatenation with empty or all-NA entries is deprecated. In a future version, this will no longer exclude empty or all-NA columns when determining the result dtypes. To retain the old behavior, exclude the relevant entries before the concat operation.\n",
      "  consolidated_df = pd.concat([consolidated_df, pd.DataFrame([row_data])], ignore_index=True)\n"
     ]
    },
    {
     "name": "stdout",
     "output_type": "stream",
     "text": [
      "Filtered by frame format for CTVA\n",
      "Filtering columns with >95% empty cells for CTVA\n",
      "Removed sparse columns for CTVA\n",
      "Successfully processed and saved data for CTVA to ./data/clean/CTVA.csv\n",
      "Processing symbol: CSGP\n",
      "Successfully read data for CSGP\n",
      "Pivoted data for CSGP\n"
     ]
    },
    {
     "name": "stderr",
     "output_type": "stream",
     "text": [
      "/var/folders/0w/q70p80s12nz5lpzr087614lw0000gn/T/ipykernel_52557/4138676989.py:41: FutureWarning: The behavior of DataFrame concatenation with empty or all-NA entries is deprecated. In a future version, this will no longer exclude empty or all-NA columns when determining the result dtypes. To retain the old behavior, exclude the relevant entries before the concat operation.\n",
      "  consolidated_df = pd.concat([consolidated_df, pd.DataFrame([row_data])], ignore_index=True)\n"
     ]
    },
    {
     "name": "stdout",
     "output_type": "stream",
     "text": [
      "Filtered by frame format for CSGP\n",
      "Filtering columns with >95% empty cells for CSGP\n",
      "Removed sparse columns for CSGP\n",
      "Successfully processed and saved data for CSGP to ./data/clean/CSGP.csv\n",
      "Processing symbol: COST\n",
      "Successfully read data for COST\n",
      "Pivoted data for COST\n"
     ]
    },
    {
     "name": "stderr",
     "output_type": "stream",
     "text": [
      "/var/folders/0w/q70p80s12nz5lpzr087614lw0000gn/T/ipykernel_52557/4138676989.py:41: FutureWarning: The behavior of DataFrame concatenation with empty or all-NA entries is deprecated. In a future version, this will no longer exclude empty or all-NA columns when determining the result dtypes. To retain the old behavior, exclude the relevant entries before the concat operation.\n",
      "  consolidated_df = pd.concat([consolidated_df, pd.DataFrame([row_data])], ignore_index=True)\n"
     ]
    },
    {
     "name": "stdout",
     "output_type": "stream",
     "text": [
      "Filtered by frame format for COST\n",
      "Filtering columns with >95% empty cells for COST\n",
      "Removed sparse columns for COST\n",
      "Successfully processed and saved data for COST to ./data/clean/COST.csv\n",
      "Processing symbol: CTRA\n",
      "Successfully read data for CTRA\n",
      "Pivoted data for CTRA\n"
     ]
    },
    {
     "name": "stderr",
     "output_type": "stream",
     "text": [
      "/var/folders/0w/q70p80s12nz5lpzr087614lw0000gn/T/ipykernel_52557/4138676989.py:41: FutureWarning: The behavior of DataFrame concatenation with empty or all-NA entries is deprecated. In a future version, this will no longer exclude empty or all-NA columns when determining the result dtypes. To retain the old behavior, exclude the relevant entries before the concat operation.\n",
      "  consolidated_df = pd.concat([consolidated_df, pd.DataFrame([row_data])], ignore_index=True)\n"
     ]
    },
    {
     "name": "stdout",
     "output_type": "stream",
     "text": [
      "Filtered by frame format for CTRA\n",
      "Filtering columns with >95% empty cells for CTRA\n",
      "Removed sparse columns for CTRA\n",
      "Successfully processed and saved data for CTRA to ./data/clean/CTRA.csv\n",
      "Processing symbol: CRWD\n",
      "Successfully read data for CRWD\n",
      "Pivoted data for CRWD\n"
     ]
    },
    {
     "name": "stderr",
     "output_type": "stream",
     "text": [
      "/var/folders/0w/q70p80s12nz5lpzr087614lw0000gn/T/ipykernel_52557/4138676989.py:41: FutureWarning: The behavior of DataFrame concatenation with empty or all-NA entries is deprecated. In a future version, this will no longer exclude empty or all-NA columns when determining the result dtypes. To retain the old behavior, exclude the relevant entries before the concat operation.\n",
      "  consolidated_df = pd.concat([consolidated_df, pd.DataFrame([row_data])], ignore_index=True)\n"
     ]
    },
    {
     "name": "stdout",
     "output_type": "stream",
     "text": [
      "Filtered by frame format for CRWD\n",
      "Filtering columns with >95% empty cells for CRWD\n",
      "Removed sparse columns for CRWD\n",
      "Successfully processed and saved data for CRWD to ./data/clean/CRWD.csv\n",
      "Processing symbol: CCI\n",
      "Successfully read data for CCI\n",
      "Pivoted data for CCI\n"
     ]
    },
    {
     "name": "stderr",
     "output_type": "stream",
     "text": [
      "/var/folders/0w/q70p80s12nz5lpzr087614lw0000gn/T/ipykernel_52557/4138676989.py:41: FutureWarning: The behavior of DataFrame concatenation with empty or all-NA entries is deprecated. In a future version, this will no longer exclude empty or all-NA columns when determining the result dtypes. To retain the old behavior, exclude the relevant entries before the concat operation.\n",
      "  consolidated_df = pd.concat([consolidated_df, pd.DataFrame([row_data])], ignore_index=True)\n"
     ]
    },
    {
     "name": "stdout",
     "output_type": "stream",
     "text": [
      "Filtered by frame format for CCI\n",
      "Filtering columns with >95% empty cells for CCI\n",
      "Removed sparse columns for CCI\n",
      "Successfully processed and saved data for CCI to ./data/clean/CCI.csv\n",
      "Processing symbol: CSX\n",
      "Successfully read data for CSX\n",
      "Pivoted data for CSX\n"
     ]
    },
    {
     "name": "stderr",
     "output_type": "stream",
     "text": [
      "/var/folders/0w/q70p80s12nz5lpzr087614lw0000gn/T/ipykernel_52557/4138676989.py:41: FutureWarning: The behavior of DataFrame concatenation with empty or all-NA entries is deprecated. In a future version, this will no longer exclude empty or all-NA columns when determining the result dtypes. To retain the old behavior, exclude the relevant entries before the concat operation.\n",
      "  consolidated_df = pd.concat([consolidated_df, pd.DataFrame([row_data])], ignore_index=True)\n"
     ]
    },
    {
     "name": "stdout",
     "output_type": "stream",
     "text": [
      "Filtered by frame format for CSX\n",
      "Filtering columns with >95% empty cells for CSX\n",
      "Removed sparse columns for CSX\n",
      "Successfully processed and saved data for CSX to ./data/clean/CSX.csv\n",
      "Processing symbol: CMI\n",
      "Successfully read data for CMI\n",
      "Pivoted data for CMI\n"
     ]
    },
    {
     "name": "stderr",
     "output_type": "stream",
     "text": [
      "/var/folders/0w/q70p80s12nz5lpzr087614lw0000gn/T/ipykernel_52557/4138676989.py:41: FutureWarning: The behavior of DataFrame concatenation with empty or all-NA entries is deprecated. In a future version, this will no longer exclude empty or all-NA columns when determining the result dtypes. To retain the old behavior, exclude the relevant entries before the concat operation.\n",
      "  consolidated_df = pd.concat([consolidated_df, pd.DataFrame([row_data])], ignore_index=True)\n"
     ]
    },
    {
     "name": "stdout",
     "output_type": "stream",
     "text": [
      "Filtered by frame format for CMI\n",
      "Filtering columns with >95% empty cells for CMI\n",
      "Removed sparse columns for CMI\n",
      "Successfully processed and saved data for CMI to ./data/clean/CMI.csv\n",
      "Processing symbol: CVS\n",
      "Successfully read data for CVS\n",
      "Pivoted data for CVS\n"
     ]
    },
    {
     "name": "stderr",
     "output_type": "stream",
     "text": [
      "/var/folders/0w/q70p80s12nz5lpzr087614lw0000gn/T/ipykernel_52557/4138676989.py:41: FutureWarning: The behavior of DataFrame concatenation with empty or all-NA entries is deprecated. In a future version, this will no longer exclude empty or all-NA columns when determining the result dtypes. To retain the old behavior, exclude the relevant entries before the concat operation.\n",
      "  consolidated_df = pd.concat([consolidated_df, pd.DataFrame([row_data])], ignore_index=True)\n"
     ]
    },
    {
     "name": "stdout",
     "output_type": "stream",
     "text": [
      "Filtered by frame format for CVS\n",
      "Filtering columns with >95% empty cells for CVS\n",
      "Removed sparse columns for CVS\n",
      "Successfully processed and saved data for CVS to ./data/clean/CVS.csv\n",
      "Processing symbol: DHR\n",
      "Successfully read data for DHR\n",
      "Pivoted data for DHR\n"
     ]
    },
    {
     "name": "stderr",
     "output_type": "stream",
     "text": [
      "/var/folders/0w/q70p80s12nz5lpzr087614lw0000gn/T/ipykernel_52557/4138676989.py:41: FutureWarning: The behavior of DataFrame concatenation with empty or all-NA entries is deprecated. In a future version, this will no longer exclude empty or all-NA columns when determining the result dtypes. To retain the old behavior, exclude the relevant entries before the concat operation.\n",
      "  consolidated_df = pd.concat([consolidated_df, pd.DataFrame([row_data])], ignore_index=True)\n"
     ]
    },
    {
     "name": "stdout",
     "output_type": "stream",
     "text": [
      "Filtered by frame format for DHR\n",
      "Filtering columns with >95% empty cells for DHR\n",
      "Removed sparse columns for DHR\n",
      "Successfully processed and saved data for DHR to ./data/clean/DHR.csv\n",
      "Processing symbol: DRI\n",
      "Successfully read data for DRI\n",
      "Pivoted data for DRI\n"
     ]
    },
    {
     "name": "stderr",
     "output_type": "stream",
     "text": [
      "/var/folders/0w/q70p80s12nz5lpzr087614lw0000gn/T/ipykernel_52557/4138676989.py:41: FutureWarning: The behavior of DataFrame concatenation with empty or all-NA entries is deprecated. In a future version, this will no longer exclude empty or all-NA columns when determining the result dtypes. To retain the old behavior, exclude the relevant entries before the concat operation.\n",
      "  consolidated_df = pd.concat([consolidated_df, pd.DataFrame([row_data])], ignore_index=True)\n"
     ]
    },
    {
     "name": "stdout",
     "output_type": "stream",
     "text": [
      "Filtered by frame format for DRI\n",
      "Filtering columns with >95% empty cells for DRI\n",
      "Removed sparse columns for DRI\n",
      "Successfully processed and saved data for DRI to ./data/clean/DRI.csv\n",
      "Processing symbol: DVA\n",
      "Successfully read data for DVA\n",
      "Pivoted data for DVA\n"
     ]
    },
    {
     "name": "stderr",
     "output_type": "stream",
     "text": [
      "/var/folders/0w/q70p80s12nz5lpzr087614lw0000gn/T/ipykernel_52557/4138676989.py:41: FutureWarning: The behavior of DataFrame concatenation with empty or all-NA entries is deprecated. In a future version, this will no longer exclude empty or all-NA columns when determining the result dtypes. To retain the old behavior, exclude the relevant entries before the concat operation.\n",
      "  consolidated_df = pd.concat([consolidated_df, pd.DataFrame([row_data])], ignore_index=True)\n"
     ]
    },
    {
     "name": "stdout",
     "output_type": "stream",
     "text": [
      "Filtered by frame format for DVA\n",
      "Filtering columns with >95% empty cells for DVA\n",
      "Removed sparse columns for DVA\n",
      "Successfully processed and saved data for DVA to ./data/clean/DVA.csv\n",
      "Processing symbol: DAY\n",
      "Successfully read data for DAY\n",
      "Pivoted data for DAY\n"
     ]
    },
    {
     "name": "stderr",
     "output_type": "stream",
     "text": [
      "/var/folders/0w/q70p80s12nz5lpzr087614lw0000gn/T/ipykernel_52557/4138676989.py:41: FutureWarning: The behavior of DataFrame concatenation with empty or all-NA entries is deprecated. In a future version, this will no longer exclude empty or all-NA columns when determining the result dtypes. To retain the old behavior, exclude the relevant entries before the concat operation.\n",
      "  consolidated_df = pd.concat([consolidated_df, pd.DataFrame([row_data])], ignore_index=True)\n"
     ]
    },
    {
     "name": "stdout",
     "output_type": "stream",
     "text": [
      "Filtered by frame format for DAY\n",
      "Filtering columns with >95% empty cells for DAY\n",
      "Removed sparse columns for DAY\n",
      "Successfully processed and saved data for DAY to ./data/clean/DAY.csv\n",
      "Processing symbol: DECK\n",
      "Successfully read data for DECK\n",
      "Pivoted data for DECK\n"
     ]
    },
    {
     "name": "stderr",
     "output_type": "stream",
     "text": [
      "/var/folders/0w/q70p80s12nz5lpzr087614lw0000gn/T/ipykernel_52557/4138676989.py:41: FutureWarning: The behavior of DataFrame concatenation with empty or all-NA entries is deprecated. In a future version, this will no longer exclude empty or all-NA columns when determining the result dtypes. To retain the old behavior, exclude the relevant entries before the concat operation.\n",
      "  consolidated_df = pd.concat([consolidated_df, pd.DataFrame([row_data])], ignore_index=True)\n"
     ]
    },
    {
     "name": "stdout",
     "output_type": "stream",
     "text": [
      "Filtered by frame format for DECK\n",
      "Filtering columns with >95% empty cells for DECK\n",
      "Removed sparse columns for DECK\n",
      "Successfully processed and saved data for DECK to ./data/clean/DECK.csv\n",
      "Processing symbol: DE\n",
      "Successfully read data for DE\n",
      "Pivoted data for DE\n"
     ]
    },
    {
     "name": "stderr",
     "output_type": "stream",
     "text": [
      "/var/folders/0w/q70p80s12nz5lpzr087614lw0000gn/T/ipykernel_52557/4138676989.py:41: FutureWarning: The behavior of DataFrame concatenation with empty or all-NA entries is deprecated. In a future version, this will no longer exclude empty or all-NA columns when determining the result dtypes. To retain the old behavior, exclude the relevant entries before the concat operation.\n",
      "  consolidated_df = pd.concat([consolidated_df, pd.DataFrame([row_data])], ignore_index=True)\n"
     ]
    },
    {
     "name": "stdout",
     "output_type": "stream",
     "text": [
      "Filtered by frame format for DE\n",
      "Filtering columns with >95% empty cells for DE\n",
      "Removed sparse columns for DE\n",
      "Successfully processed and saved data for DE to ./data/clean/DE.csv\n",
      "Processing symbol: DELL\n",
      "Successfully read data for DELL\n",
      "Pivoted data for DELL\n"
     ]
    },
    {
     "name": "stderr",
     "output_type": "stream",
     "text": [
      "/var/folders/0w/q70p80s12nz5lpzr087614lw0000gn/T/ipykernel_52557/4138676989.py:41: FutureWarning: The behavior of DataFrame concatenation with empty or all-NA entries is deprecated. In a future version, this will no longer exclude empty or all-NA columns when determining the result dtypes. To retain the old behavior, exclude the relevant entries before the concat operation.\n",
      "  consolidated_df = pd.concat([consolidated_df, pd.DataFrame([row_data])], ignore_index=True)\n"
     ]
    },
    {
     "name": "stdout",
     "output_type": "stream",
     "text": [
      "Filtered by frame format for DELL\n",
      "Filtering columns with >95% empty cells for DELL\n",
      "Removed sparse columns for DELL\n",
      "Successfully processed and saved data for DELL to ./data/clean/DELL.csv\n",
      "Processing symbol: DAL\n",
      "Successfully read data for DAL\n",
      "Pivoted data for DAL\n"
     ]
    },
    {
     "name": "stderr",
     "output_type": "stream",
     "text": [
      "/var/folders/0w/q70p80s12nz5lpzr087614lw0000gn/T/ipykernel_52557/4138676989.py:41: FutureWarning: The behavior of DataFrame concatenation with empty or all-NA entries is deprecated. In a future version, this will no longer exclude empty or all-NA columns when determining the result dtypes. To retain the old behavior, exclude the relevant entries before the concat operation.\n",
      "  consolidated_df = pd.concat([consolidated_df, pd.DataFrame([row_data])], ignore_index=True)\n"
     ]
    },
    {
     "name": "stdout",
     "output_type": "stream",
     "text": [
      "Filtered by frame format for DAL\n",
      "Filtering columns with >95% empty cells for DAL\n",
      "Removed sparse columns for DAL\n",
      "Successfully processed and saved data for DAL to ./data/clean/DAL.csv\n",
      "Processing symbol: DVN\n",
      "Successfully read data for DVN\n",
      "Pivoted data for DVN\n"
     ]
    },
    {
     "name": "stderr",
     "output_type": "stream",
     "text": [
      "/var/folders/0w/q70p80s12nz5lpzr087614lw0000gn/T/ipykernel_52557/4138676989.py:41: FutureWarning: The behavior of DataFrame concatenation with empty or all-NA entries is deprecated. In a future version, this will no longer exclude empty or all-NA columns when determining the result dtypes. To retain the old behavior, exclude the relevant entries before the concat operation.\n",
      "  consolidated_df = pd.concat([consolidated_df, pd.DataFrame([row_data])], ignore_index=True)\n"
     ]
    },
    {
     "name": "stdout",
     "output_type": "stream",
     "text": [
      "Filtered by frame format for DVN\n",
      "Filtering columns with >95% empty cells for DVN\n",
      "Removed sparse columns for DVN\n",
      "Successfully processed and saved data for DVN to ./data/clean/DVN.csv\n",
      "Processing symbol: DXCM\n",
      "Successfully read data for DXCM\n",
      "Pivoted data for DXCM\n"
     ]
    },
    {
     "name": "stderr",
     "output_type": "stream",
     "text": [
      "/var/folders/0w/q70p80s12nz5lpzr087614lw0000gn/T/ipykernel_52557/4138676989.py:41: FutureWarning: The behavior of DataFrame concatenation with empty or all-NA entries is deprecated. In a future version, this will no longer exclude empty or all-NA columns when determining the result dtypes. To retain the old behavior, exclude the relevant entries before the concat operation.\n",
      "  consolidated_df = pd.concat([consolidated_df, pd.DataFrame([row_data])], ignore_index=True)\n"
     ]
    },
    {
     "name": "stdout",
     "output_type": "stream",
     "text": [
      "Filtered by frame format for DXCM\n",
      "Filtering columns with >95% empty cells for DXCM\n",
      "Removed sparse columns for DXCM\n",
      "Successfully processed and saved data for DXCM to ./data/clean/DXCM.csv\n",
      "Processing symbol: FANG\n",
      "Successfully read data for FANG\n",
      "Pivoted data for FANG\n"
     ]
    },
    {
     "name": "stderr",
     "output_type": "stream",
     "text": [
      "/var/folders/0w/q70p80s12nz5lpzr087614lw0000gn/T/ipykernel_52557/4138676989.py:41: FutureWarning: The behavior of DataFrame concatenation with empty or all-NA entries is deprecated. In a future version, this will no longer exclude empty or all-NA columns when determining the result dtypes. To retain the old behavior, exclude the relevant entries before the concat operation.\n",
      "  consolidated_df = pd.concat([consolidated_df, pd.DataFrame([row_data])], ignore_index=True)\n"
     ]
    },
    {
     "name": "stdout",
     "output_type": "stream",
     "text": [
      "Filtered by frame format for FANG\n",
      "Filtering columns with >95% empty cells for FANG\n",
      "Removed sparse columns for FANG\n",
      "Successfully processed and saved data for FANG to ./data/clean/FANG.csv\n",
      "Processing symbol: DLR\n",
      "Successfully read data for DLR\n",
      "Pivoted data for DLR\n"
     ]
    },
    {
     "name": "stderr",
     "output_type": "stream",
     "text": [
      "/var/folders/0w/q70p80s12nz5lpzr087614lw0000gn/T/ipykernel_52557/4138676989.py:41: FutureWarning: The behavior of DataFrame concatenation with empty or all-NA entries is deprecated. In a future version, this will no longer exclude empty or all-NA columns when determining the result dtypes. To retain the old behavior, exclude the relevant entries before the concat operation.\n",
      "  consolidated_df = pd.concat([consolidated_df, pd.DataFrame([row_data])], ignore_index=True)\n"
     ]
    },
    {
     "name": "stdout",
     "output_type": "stream",
     "text": [
      "Filtered by frame format for DLR\n",
      "Filtering columns with >95% empty cells for DLR\n",
      "Removed sparse columns for DLR\n",
      "Successfully processed and saved data for DLR to ./data/clean/DLR.csv\n",
      "Processing symbol: DFS\n",
      "Error: File not found for symbol DFS at path: ./data/financial_data/DFS_raw_financials.csv. Skipping this symbol.\n",
      "Processing symbol: DG\n",
      "Successfully read data for DG\n",
      "Pivoted data for DG\n"
     ]
    },
    {
     "name": "stderr",
     "output_type": "stream",
     "text": [
      "/var/folders/0w/q70p80s12nz5lpzr087614lw0000gn/T/ipykernel_52557/4138676989.py:41: FutureWarning: The behavior of DataFrame concatenation with empty or all-NA entries is deprecated. In a future version, this will no longer exclude empty or all-NA columns when determining the result dtypes. To retain the old behavior, exclude the relevant entries before the concat operation.\n",
      "  consolidated_df = pd.concat([consolidated_df, pd.DataFrame([row_data])], ignore_index=True)\n"
     ]
    },
    {
     "name": "stdout",
     "output_type": "stream",
     "text": [
      "Filtered by frame format for DG\n",
      "Filtering columns with >95% empty cells for DG\n",
      "Removed sparse columns for DG\n",
      "Successfully processed and saved data for DG to ./data/clean/DG.csv\n",
      "Processing symbol: DLTR\n",
      "Successfully read data for DLTR\n",
      "Pivoted data for DLTR\n"
     ]
    },
    {
     "name": "stderr",
     "output_type": "stream",
     "text": [
      "/var/folders/0w/q70p80s12nz5lpzr087614lw0000gn/T/ipykernel_52557/4138676989.py:41: FutureWarning: The behavior of DataFrame concatenation with empty or all-NA entries is deprecated. In a future version, this will no longer exclude empty or all-NA columns when determining the result dtypes. To retain the old behavior, exclude the relevant entries before the concat operation.\n",
      "  consolidated_df = pd.concat([consolidated_df, pd.DataFrame([row_data])], ignore_index=True)\n"
     ]
    },
    {
     "name": "stdout",
     "output_type": "stream",
     "text": [
      "Filtered by frame format for DLTR\n",
      "Filtering columns with >95% empty cells for DLTR\n",
      "Removed sparse columns for DLTR\n",
      "Successfully processed and saved data for DLTR to ./data/clean/DLTR.csv\n",
      "Processing symbol: D\n",
      "Successfully read data for D\n",
      "Pivoted data for D\n"
     ]
    },
    {
     "name": "stderr",
     "output_type": "stream",
     "text": [
      "/var/folders/0w/q70p80s12nz5lpzr087614lw0000gn/T/ipykernel_52557/4138676989.py:41: FutureWarning: The behavior of DataFrame concatenation with empty or all-NA entries is deprecated. In a future version, this will no longer exclude empty or all-NA columns when determining the result dtypes. To retain the old behavior, exclude the relevant entries before the concat operation.\n",
      "  consolidated_df = pd.concat([consolidated_df, pd.DataFrame([row_data])], ignore_index=True)\n"
     ]
    },
    {
     "name": "stdout",
     "output_type": "stream",
     "text": [
      "Filtered by frame format for D\n",
      "Filtering columns with >95% empty cells for D\n",
      "Removed sparse columns for D\n",
      "Successfully processed and saved data for D to ./data/clean/D.csv\n",
      "Processing symbol: DPZ\n",
      "Successfully read data for DPZ\n",
      "Pivoted data for DPZ\n"
     ]
    },
    {
     "name": "stderr",
     "output_type": "stream",
     "text": [
      "/var/folders/0w/q70p80s12nz5lpzr087614lw0000gn/T/ipykernel_52557/4138676989.py:41: FutureWarning: The behavior of DataFrame concatenation with empty or all-NA entries is deprecated. In a future version, this will no longer exclude empty or all-NA columns when determining the result dtypes. To retain the old behavior, exclude the relevant entries before the concat operation.\n",
      "  consolidated_df = pd.concat([consolidated_df, pd.DataFrame([row_data])], ignore_index=True)\n"
     ]
    },
    {
     "name": "stdout",
     "output_type": "stream",
     "text": [
      "Filtered by frame format for DPZ\n",
      "Filtering columns with >95% empty cells for DPZ\n",
      "Removed sparse columns for DPZ\n",
      "Successfully processed and saved data for DPZ to ./data/clean/DPZ.csv\n",
      "Processing symbol: DOV\n",
      "Successfully read data for DOV\n",
      "Pivoted data for DOV\n"
     ]
    },
    {
     "name": "stderr",
     "output_type": "stream",
     "text": [
      "/var/folders/0w/q70p80s12nz5lpzr087614lw0000gn/T/ipykernel_52557/4138676989.py:41: FutureWarning: The behavior of DataFrame concatenation with empty or all-NA entries is deprecated. In a future version, this will no longer exclude empty or all-NA columns when determining the result dtypes. To retain the old behavior, exclude the relevant entries before the concat operation.\n",
      "  consolidated_df = pd.concat([consolidated_df, pd.DataFrame([row_data])], ignore_index=True)\n"
     ]
    },
    {
     "name": "stdout",
     "output_type": "stream",
     "text": [
      "Filtered by frame format for DOV\n",
      "Filtering columns with >95% empty cells for DOV\n",
      "Removed sparse columns for DOV\n",
      "Successfully processed and saved data for DOV to ./data/clean/DOV.csv\n",
      "Processing symbol: DOW\n",
      "Successfully read data for DOW\n",
      "Pivoted data for DOW\n"
     ]
    },
    {
     "name": "stderr",
     "output_type": "stream",
     "text": [
      "/var/folders/0w/q70p80s12nz5lpzr087614lw0000gn/T/ipykernel_52557/4138676989.py:41: FutureWarning: The behavior of DataFrame concatenation with empty or all-NA entries is deprecated. In a future version, this will no longer exclude empty or all-NA columns when determining the result dtypes. To retain the old behavior, exclude the relevant entries before the concat operation.\n",
      "  consolidated_df = pd.concat([consolidated_df, pd.DataFrame([row_data])], ignore_index=True)\n"
     ]
    },
    {
     "name": "stdout",
     "output_type": "stream",
     "text": [
      "Filtered by frame format for DOW\n",
      "Filtering columns with >95% empty cells for DOW\n",
      "Removed sparse columns for DOW\n",
      "Successfully processed and saved data for DOW to ./data/clean/DOW.csv\n",
      "Processing symbol: DHI\n",
      "Successfully read data for DHI\n",
      "Pivoted data for DHI\n"
     ]
    },
    {
     "name": "stderr",
     "output_type": "stream",
     "text": [
      "/var/folders/0w/q70p80s12nz5lpzr087614lw0000gn/T/ipykernel_52557/4138676989.py:41: FutureWarning: The behavior of DataFrame concatenation with empty or all-NA entries is deprecated. In a future version, this will no longer exclude empty or all-NA columns when determining the result dtypes. To retain the old behavior, exclude the relevant entries before the concat operation.\n",
      "  consolidated_df = pd.concat([consolidated_df, pd.DataFrame([row_data])], ignore_index=True)\n"
     ]
    },
    {
     "name": "stdout",
     "output_type": "stream",
     "text": [
      "Filtered by frame format for DHI\n",
      "Filtering columns with >95% empty cells for DHI\n",
      "Removed sparse columns for DHI\n",
      "Successfully processed and saved data for DHI to ./data/clean/DHI.csv\n",
      "Processing symbol: DTE\n",
      "Successfully read data for DTE\n",
      "Pivoted data for DTE\n"
     ]
    },
    {
     "name": "stderr",
     "output_type": "stream",
     "text": [
      "/var/folders/0w/q70p80s12nz5lpzr087614lw0000gn/T/ipykernel_52557/4138676989.py:41: FutureWarning: The behavior of DataFrame concatenation with empty or all-NA entries is deprecated. In a future version, this will no longer exclude empty or all-NA columns when determining the result dtypes. To retain the old behavior, exclude the relevant entries before the concat operation.\n",
      "  consolidated_df = pd.concat([consolidated_df, pd.DataFrame([row_data])], ignore_index=True)\n"
     ]
    },
    {
     "name": "stdout",
     "output_type": "stream",
     "text": [
      "Filtered by frame format for DTE\n",
      "Filtering columns with >95% empty cells for DTE\n",
      "Removed sparse columns for DTE\n",
      "Successfully processed and saved data for DTE to ./data/clean/DTE.csv\n",
      "Processing symbol: DUK\n",
      "Successfully read data for DUK\n",
      "Pivoted data for DUK\n"
     ]
    },
    {
     "name": "stderr",
     "output_type": "stream",
     "text": [
      "/var/folders/0w/q70p80s12nz5lpzr087614lw0000gn/T/ipykernel_52557/4138676989.py:41: FutureWarning: The behavior of DataFrame concatenation with empty or all-NA entries is deprecated. In a future version, this will no longer exclude empty or all-NA columns when determining the result dtypes. To retain the old behavior, exclude the relevant entries before the concat operation.\n",
      "  consolidated_df = pd.concat([consolidated_df, pd.DataFrame([row_data])], ignore_index=True)\n"
     ]
    },
    {
     "name": "stdout",
     "output_type": "stream",
     "text": [
      "Filtered by frame format for DUK\n",
      "Filtering columns with >95% empty cells for DUK\n",
      "Removed sparse columns for DUK\n",
      "Successfully processed and saved data for DUK to ./data/clean/DUK.csv\n",
      "Processing symbol: DD\n",
      "Successfully read data for DD\n",
      "Pivoted data for DD\n"
     ]
    },
    {
     "name": "stderr",
     "output_type": "stream",
     "text": [
      "/var/folders/0w/q70p80s12nz5lpzr087614lw0000gn/T/ipykernel_52557/4138676989.py:41: FutureWarning: The behavior of DataFrame concatenation with empty or all-NA entries is deprecated. In a future version, this will no longer exclude empty or all-NA columns when determining the result dtypes. To retain the old behavior, exclude the relevant entries before the concat operation.\n",
      "  consolidated_df = pd.concat([consolidated_df, pd.DataFrame([row_data])], ignore_index=True)\n"
     ]
    },
    {
     "name": "stdout",
     "output_type": "stream",
     "text": [
      "Filtered by frame format for DD\n",
      "Filtering columns with >95% empty cells for DD\n",
      "Removed sparse columns for DD\n",
      "Successfully processed and saved data for DD to ./data/clean/DD.csv\n",
      "Processing symbol: EMN\n",
      "Successfully read data for EMN\n",
      "Pivoted data for EMN\n"
     ]
    },
    {
     "name": "stderr",
     "output_type": "stream",
     "text": [
      "/var/folders/0w/q70p80s12nz5lpzr087614lw0000gn/T/ipykernel_52557/4138676989.py:41: FutureWarning: The behavior of DataFrame concatenation with empty or all-NA entries is deprecated. In a future version, this will no longer exclude empty or all-NA columns when determining the result dtypes. To retain the old behavior, exclude the relevant entries before the concat operation.\n",
      "  consolidated_df = pd.concat([consolidated_df, pd.DataFrame([row_data])], ignore_index=True)\n"
     ]
    },
    {
     "name": "stdout",
     "output_type": "stream",
     "text": [
      "Filtered by frame format for EMN\n",
      "Filtering columns with >95% empty cells for EMN\n",
      "Removed sparse columns for EMN\n",
      "Successfully processed and saved data for EMN to ./data/clean/EMN.csv\n",
      "Processing symbol: ETN\n",
      "Successfully read data for ETN\n",
      "Pivoted data for ETN\n"
     ]
    },
    {
     "name": "stderr",
     "output_type": "stream",
     "text": [
      "/var/folders/0w/q70p80s12nz5lpzr087614lw0000gn/T/ipykernel_52557/4138676989.py:41: FutureWarning: The behavior of DataFrame concatenation with empty or all-NA entries is deprecated. In a future version, this will no longer exclude empty or all-NA columns when determining the result dtypes. To retain the old behavior, exclude the relevant entries before the concat operation.\n",
      "  consolidated_df = pd.concat([consolidated_df, pd.DataFrame([row_data])], ignore_index=True)\n"
     ]
    },
    {
     "name": "stdout",
     "output_type": "stream",
     "text": [
      "Filtered by frame format for ETN\n",
      "Filtering columns with >95% empty cells for ETN\n",
      "Removed sparse columns for ETN\n",
      "Successfully processed and saved data for ETN to ./data/clean/ETN.csv\n",
      "Processing symbol: EBAY\n",
      "Successfully read data for EBAY\n",
      "Pivoted data for EBAY\n"
     ]
    },
    {
     "name": "stderr",
     "output_type": "stream",
     "text": [
      "/var/folders/0w/q70p80s12nz5lpzr087614lw0000gn/T/ipykernel_52557/4138676989.py:41: FutureWarning: The behavior of DataFrame concatenation with empty or all-NA entries is deprecated. In a future version, this will no longer exclude empty or all-NA columns when determining the result dtypes. To retain the old behavior, exclude the relevant entries before the concat operation.\n",
      "  consolidated_df = pd.concat([consolidated_df, pd.DataFrame([row_data])], ignore_index=True)\n"
     ]
    },
    {
     "name": "stdout",
     "output_type": "stream",
     "text": [
      "Filtered by frame format for EBAY\n",
      "Filtering columns with >95% empty cells for EBAY\n",
      "Removed sparse columns for EBAY\n",
      "Successfully processed and saved data for EBAY to ./data/clean/EBAY.csv\n",
      "Processing symbol: ECL\n",
      "Successfully read data for ECL\n",
      "Pivoted data for ECL\n"
     ]
    },
    {
     "name": "stderr",
     "output_type": "stream",
     "text": [
      "/var/folders/0w/q70p80s12nz5lpzr087614lw0000gn/T/ipykernel_52557/4138676989.py:41: FutureWarning: The behavior of DataFrame concatenation with empty or all-NA entries is deprecated. In a future version, this will no longer exclude empty or all-NA columns when determining the result dtypes. To retain the old behavior, exclude the relevant entries before the concat operation.\n",
      "  consolidated_df = pd.concat([consolidated_df, pd.DataFrame([row_data])], ignore_index=True)\n"
     ]
    },
    {
     "name": "stdout",
     "output_type": "stream",
     "text": [
      "Filtered by frame format for ECL\n",
      "Filtering columns with >95% empty cells for ECL\n",
      "Removed sparse columns for ECL\n",
      "Successfully processed and saved data for ECL to ./data/clean/ECL.csv\n",
      "Processing symbol: EIX\n",
      "Successfully read data for EIX\n",
      "Pivoted data for EIX\n"
     ]
    },
    {
     "name": "stderr",
     "output_type": "stream",
     "text": [
      "/var/folders/0w/q70p80s12nz5lpzr087614lw0000gn/T/ipykernel_52557/4138676989.py:41: FutureWarning: The behavior of DataFrame concatenation with empty or all-NA entries is deprecated. In a future version, this will no longer exclude empty or all-NA columns when determining the result dtypes. To retain the old behavior, exclude the relevant entries before the concat operation.\n",
      "  consolidated_df = pd.concat([consolidated_df, pd.DataFrame([row_data])], ignore_index=True)\n"
     ]
    },
    {
     "name": "stdout",
     "output_type": "stream",
     "text": [
      "Filtered by frame format for EIX\n",
      "Filtering columns with >95% empty cells for EIX\n",
      "Removed sparse columns for EIX\n",
      "Successfully processed and saved data for EIX to ./data/clean/EIX.csv\n",
      "Processing symbol: EW\n",
      "Successfully read data for EW\n",
      "Pivoted data for EW\n"
     ]
    },
    {
     "name": "stderr",
     "output_type": "stream",
     "text": [
      "/var/folders/0w/q70p80s12nz5lpzr087614lw0000gn/T/ipykernel_52557/4138676989.py:41: FutureWarning: The behavior of DataFrame concatenation with empty or all-NA entries is deprecated. In a future version, this will no longer exclude empty or all-NA columns when determining the result dtypes. To retain the old behavior, exclude the relevant entries before the concat operation.\n",
      "  consolidated_df = pd.concat([consolidated_df, pd.DataFrame([row_data])], ignore_index=True)\n"
     ]
    },
    {
     "name": "stdout",
     "output_type": "stream",
     "text": [
      "Filtered by frame format for EW\n",
      "Filtering columns with >95% empty cells for EW\n",
      "Removed sparse columns for EW\n",
      "Successfully processed and saved data for EW to ./data/clean/EW.csv\n",
      "Processing symbol: EA\n",
      "Successfully read data for EA\n",
      "Pivoted data for EA\n"
     ]
    },
    {
     "name": "stderr",
     "output_type": "stream",
     "text": [
      "/var/folders/0w/q70p80s12nz5lpzr087614lw0000gn/T/ipykernel_52557/4138676989.py:41: FutureWarning: The behavior of DataFrame concatenation with empty or all-NA entries is deprecated. In a future version, this will no longer exclude empty or all-NA columns when determining the result dtypes. To retain the old behavior, exclude the relevant entries before the concat operation.\n",
      "  consolidated_df = pd.concat([consolidated_df, pd.DataFrame([row_data])], ignore_index=True)\n"
     ]
    },
    {
     "name": "stdout",
     "output_type": "stream",
     "text": [
      "Filtered by frame format for EA\n",
      "Filtering columns with >95% empty cells for EA\n",
      "Removed sparse columns for EA\n",
      "Successfully processed and saved data for EA to ./data/clean/EA.csv\n",
      "Processing symbol: ELV\n",
      "Successfully read data for ELV\n",
      "Pivoted data for ELV\n"
     ]
    },
    {
     "name": "stderr",
     "output_type": "stream",
     "text": [
      "/var/folders/0w/q70p80s12nz5lpzr087614lw0000gn/T/ipykernel_52557/4138676989.py:41: FutureWarning: The behavior of DataFrame concatenation with empty or all-NA entries is deprecated. In a future version, this will no longer exclude empty or all-NA columns when determining the result dtypes. To retain the old behavior, exclude the relevant entries before the concat operation.\n",
      "  consolidated_df = pd.concat([consolidated_df, pd.DataFrame([row_data])], ignore_index=True)\n"
     ]
    },
    {
     "name": "stdout",
     "output_type": "stream",
     "text": [
      "Filtered by frame format for ELV\n",
      "Filtering columns with >95% empty cells for ELV\n",
      "Removed sparse columns for ELV\n",
      "Successfully processed and saved data for ELV to ./data/clean/ELV.csv\n",
      "Processing symbol: EMR\n",
      "Successfully read data for EMR\n",
      "Pivoted data for EMR\n"
     ]
    },
    {
     "name": "stderr",
     "output_type": "stream",
     "text": [
      "/var/folders/0w/q70p80s12nz5lpzr087614lw0000gn/T/ipykernel_52557/4138676989.py:41: FutureWarning: The behavior of DataFrame concatenation with empty or all-NA entries is deprecated. In a future version, this will no longer exclude empty or all-NA columns when determining the result dtypes. To retain the old behavior, exclude the relevant entries before the concat operation.\n",
      "  consolidated_df = pd.concat([consolidated_df, pd.DataFrame([row_data])], ignore_index=True)\n"
     ]
    },
    {
     "name": "stdout",
     "output_type": "stream",
     "text": [
      "Filtered by frame format for EMR\n",
      "Filtering columns with >95% empty cells for EMR\n",
      "Removed sparse columns for EMR\n",
      "Successfully processed and saved data for EMR to ./data/clean/EMR.csv\n",
      "Processing symbol: ENPH\n",
      "Successfully read data for ENPH\n",
      "Pivoted data for ENPH\n"
     ]
    },
    {
     "name": "stderr",
     "output_type": "stream",
     "text": [
      "/var/folders/0w/q70p80s12nz5lpzr087614lw0000gn/T/ipykernel_52557/4138676989.py:41: FutureWarning: The behavior of DataFrame concatenation with empty or all-NA entries is deprecated. In a future version, this will no longer exclude empty or all-NA columns when determining the result dtypes. To retain the old behavior, exclude the relevant entries before the concat operation.\n",
      "  consolidated_df = pd.concat([consolidated_df, pd.DataFrame([row_data])], ignore_index=True)\n"
     ]
    },
    {
     "name": "stdout",
     "output_type": "stream",
     "text": [
      "Filtered by frame format for ENPH\n",
      "Filtering columns with >95% empty cells for ENPH\n",
      "Removed sparse columns for ENPH\n",
      "Successfully processed and saved data for ENPH to ./data/clean/ENPH.csv\n",
      "Processing symbol: ETR\n",
      "Successfully read data for ETR\n",
      "Pivoted data for ETR\n"
     ]
    },
    {
     "name": "stderr",
     "output_type": "stream",
     "text": [
      "/var/folders/0w/q70p80s12nz5lpzr087614lw0000gn/T/ipykernel_52557/4138676989.py:41: FutureWarning: The behavior of DataFrame concatenation with empty or all-NA entries is deprecated. In a future version, this will no longer exclude empty or all-NA columns when determining the result dtypes. To retain the old behavior, exclude the relevant entries before the concat operation.\n",
      "  consolidated_df = pd.concat([consolidated_df, pd.DataFrame([row_data])], ignore_index=True)\n"
     ]
    },
    {
     "name": "stdout",
     "output_type": "stream",
     "text": [
      "Filtered by frame format for ETR\n",
      "Filtering columns with >95% empty cells for ETR\n",
      "Removed sparse columns for ETR\n",
      "Successfully processed and saved data for ETR to ./data/clean/ETR.csv\n",
      "Processing symbol: EOG\n",
      "Successfully read data for EOG\n",
      "Pivoted data for EOG\n"
     ]
    },
    {
     "name": "stderr",
     "output_type": "stream",
     "text": [
      "/var/folders/0w/q70p80s12nz5lpzr087614lw0000gn/T/ipykernel_52557/4138676989.py:41: FutureWarning: The behavior of DataFrame concatenation with empty or all-NA entries is deprecated. In a future version, this will no longer exclude empty or all-NA columns when determining the result dtypes. To retain the old behavior, exclude the relevant entries before the concat operation.\n",
      "  consolidated_df = pd.concat([consolidated_df, pd.DataFrame([row_data])], ignore_index=True)\n"
     ]
    },
    {
     "name": "stdout",
     "output_type": "stream",
     "text": [
      "Filtered by frame format for EOG\n",
      "Filtering columns with >95% empty cells for EOG\n",
      "Removed sparse columns for EOG\n",
      "Successfully processed and saved data for EOG to ./data/clean/EOG.csv\n",
      "Processing symbol: EPAM\n",
      "Successfully read data for EPAM\n",
      "Pivoted data for EPAM\n"
     ]
    },
    {
     "name": "stderr",
     "output_type": "stream",
     "text": [
      "/var/folders/0w/q70p80s12nz5lpzr087614lw0000gn/T/ipykernel_52557/4138676989.py:41: FutureWarning: The behavior of DataFrame concatenation with empty or all-NA entries is deprecated. In a future version, this will no longer exclude empty or all-NA columns when determining the result dtypes. To retain the old behavior, exclude the relevant entries before the concat operation.\n",
      "  consolidated_df = pd.concat([consolidated_df, pd.DataFrame([row_data])], ignore_index=True)\n"
     ]
    },
    {
     "name": "stdout",
     "output_type": "stream",
     "text": [
      "Filtered by frame format for EPAM\n",
      "Filtering columns with >95% empty cells for EPAM\n",
      "Removed sparse columns for EPAM\n",
      "Successfully processed and saved data for EPAM to ./data/clean/EPAM.csv\n",
      "Processing symbol: EQT\n",
      "Successfully read data for EQT\n",
      "Pivoted data for EQT\n"
     ]
    },
    {
     "name": "stderr",
     "output_type": "stream",
     "text": [
      "/var/folders/0w/q70p80s12nz5lpzr087614lw0000gn/T/ipykernel_52557/4138676989.py:41: FutureWarning: The behavior of DataFrame concatenation with empty or all-NA entries is deprecated. In a future version, this will no longer exclude empty or all-NA columns when determining the result dtypes. To retain the old behavior, exclude the relevant entries before the concat operation.\n",
      "  consolidated_df = pd.concat([consolidated_df, pd.DataFrame([row_data])], ignore_index=True)\n"
     ]
    },
    {
     "name": "stdout",
     "output_type": "stream",
     "text": [
      "Filtered by frame format for EQT\n",
      "Filtering columns with >95% empty cells for EQT\n",
      "Removed sparse columns for EQT\n",
      "Successfully processed and saved data for EQT to ./data/clean/EQT.csv\n",
      "Processing symbol: EFX\n",
      "Successfully read data for EFX\n",
      "Pivoted data for EFX\n"
     ]
    },
    {
     "name": "stderr",
     "output_type": "stream",
     "text": [
      "/var/folders/0w/q70p80s12nz5lpzr087614lw0000gn/T/ipykernel_52557/4138676989.py:41: FutureWarning: The behavior of DataFrame concatenation with empty or all-NA entries is deprecated. In a future version, this will no longer exclude empty or all-NA columns when determining the result dtypes. To retain the old behavior, exclude the relevant entries before the concat operation.\n",
      "  consolidated_df = pd.concat([consolidated_df, pd.DataFrame([row_data])], ignore_index=True)\n"
     ]
    },
    {
     "name": "stdout",
     "output_type": "stream",
     "text": [
      "Filtered by frame format for EFX\n",
      "Filtering columns with >95% empty cells for EFX\n",
      "Removed sparse columns for EFX\n",
      "Successfully processed and saved data for EFX to ./data/clean/EFX.csv\n",
      "Processing symbol: EQIX\n",
      "Successfully read data for EQIX\n",
      "Pivoted data for EQIX\n"
     ]
    },
    {
     "name": "stderr",
     "output_type": "stream",
     "text": [
      "/var/folders/0w/q70p80s12nz5lpzr087614lw0000gn/T/ipykernel_52557/4138676989.py:41: FutureWarning: The behavior of DataFrame concatenation with empty or all-NA entries is deprecated. In a future version, this will no longer exclude empty or all-NA columns when determining the result dtypes. To retain the old behavior, exclude the relevant entries before the concat operation.\n",
      "  consolidated_df = pd.concat([consolidated_df, pd.DataFrame([row_data])], ignore_index=True)\n"
     ]
    },
    {
     "name": "stdout",
     "output_type": "stream",
     "text": [
      "Filtered by frame format for EQIX\n",
      "Filtering columns with >95% empty cells for EQIX\n",
      "Removed sparse columns for EQIX\n",
      "Successfully processed and saved data for EQIX to ./data/clean/EQIX.csv\n",
      "Processing symbol: EQR\n",
      "Successfully read data for EQR\n",
      "Pivoted data for EQR\n"
     ]
    },
    {
     "name": "stderr",
     "output_type": "stream",
     "text": [
      "/var/folders/0w/q70p80s12nz5lpzr087614lw0000gn/T/ipykernel_52557/4138676989.py:41: FutureWarning: The behavior of DataFrame concatenation with empty or all-NA entries is deprecated. In a future version, this will no longer exclude empty or all-NA columns when determining the result dtypes. To retain the old behavior, exclude the relevant entries before the concat operation.\n",
      "  consolidated_df = pd.concat([consolidated_df, pd.DataFrame([row_data])], ignore_index=True)\n"
     ]
    },
    {
     "name": "stdout",
     "output_type": "stream",
     "text": [
      "Filtered by frame format for EQR\n",
      "Filtering columns with >95% empty cells for EQR\n",
      "Removed sparse columns for EQR\n",
      "Successfully processed and saved data for EQR to ./data/clean/EQR.csv\n",
      "Processing symbol: ERIE\n",
      "Successfully read data for ERIE\n",
      "Pivoted data for ERIE\n"
     ]
    },
    {
     "name": "stderr",
     "output_type": "stream",
     "text": [
      "/var/folders/0w/q70p80s12nz5lpzr087614lw0000gn/T/ipykernel_52557/4138676989.py:41: FutureWarning: The behavior of DataFrame concatenation with empty or all-NA entries is deprecated. In a future version, this will no longer exclude empty or all-NA columns when determining the result dtypes. To retain the old behavior, exclude the relevant entries before the concat operation.\n",
      "  consolidated_df = pd.concat([consolidated_df, pd.DataFrame([row_data])], ignore_index=True)\n"
     ]
    },
    {
     "name": "stdout",
     "output_type": "stream",
     "text": [
      "Filtered by frame format for ERIE\n",
      "Filtering columns with >95% empty cells for ERIE\n",
      "Removed sparse columns for ERIE\n",
      "Successfully processed and saved data for ERIE to ./data/clean/ERIE.csv\n",
      "Processing symbol: ESS\n",
      "Successfully read data for ESS\n",
      "Pivoted data for ESS\n"
     ]
    },
    {
     "name": "stderr",
     "output_type": "stream",
     "text": [
      "/var/folders/0w/q70p80s12nz5lpzr087614lw0000gn/T/ipykernel_52557/4138676989.py:41: FutureWarning: The behavior of DataFrame concatenation with empty or all-NA entries is deprecated. In a future version, this will no longer exclude empty or all-NA columns when determining the result dtypes. To retain the old behavior, exclude the relevant entries before the concat operation.\n",
      "  consolidated_df = pd.concat([consolidated_df, pd.DataFrame([row_data])], ignore_index=True)\n"
     ]
    },
    {
     "name": "stdout",
     "output_type": "stream",
     "text": [
      "Filtered by frame format for ESS\n",
      "Filtering columns with >95% empty cells for ESS\n",
      "Removed sparse columns for ESS\n",
      "Successfully processed and saved data for ESS to ./data/clean/ESS.csv\n",
      "Processing symbol: EL\n",
      "Successfully read data for EL\n",
      "Pivoted data for EL\n"
     ]
    },
    {
     "name": "stderr",
     "output_type": "stream",
     "text": [
      "/var/folders/0w/q70p80s12nz5lpzr087614lw0000gn/T/ipykernel_52557/4138676989.py:41: FutureWarning: The behavior of DataFrame concatenation with empty or all-NA entries is deprecated. In a future version, this will no longer exclude empty or all-NA columns when determining the result dtypes. To retain the old behavior, exclude the relevant entries before the concat operation.\n",
      "  consolidated_df = pd.concat([consolidated_df, pd.DataFrame([row_data])], ignore_index=True)\n"
     ]
    },
    {
     "name": "stdout",
     "output_type": "stream",
     "text": [
      "Filtered by frame format for EL\n",
      "Filtering columns with >95% empty cells for EL\n",
      "Removed sparse columns for EL\n",
      "Successfully processed and saved data for EL to ./data/clean/EL.csv\n",
      "Processing symbol: EG\n",
      "Successfully read data for EG\n",
      "Pivoted data for EG\n"
     ]
    },
    {
     "name": "stderr",
     "output_type": "stream",
     "text": [
      "/var/folders/0w/q70p80s12nz5lpzr087614lw0000gn/T/ipykernel_52557/4138676989.py:41: FutureWarning: The behavior of DataFrame concatenation with empty or all-NA entries is deprecated. In a future version, this will no longer exclude empty or all-NA columns when determining the result dtypes. To retain the old behavior, exclude the relevant entries before the concat operation.\n",
      "  consolidated_df = pd.concat([consolidated_df, pd.DataFrame([row_data])], ignore_index=True)\n"
     ]
    },
    {
     "name": "stdout",
     "output_type": "stream",
     "text": [
      "Filtered by frame format for EG\n",
      "Filtering columns with >95% empty cells for EG\n",
      "Removed sparse columns for EG\n",
      "Successfully processed and saved data for EG to ./data/clean/EG.csv\n",
      "Processing symbol: EVRG\n",
      "Successfully read data for EVRG\n",
      "Pivoted data for EVRG\n"
     ]
    },
    {
     "name": "stderr",
     "output_type": "stream",
     "text": [
      "/var/folders/0w/q70p80s12nz5lpzr087614lw0000gn/T/ipykernel_52557/4138676989.py:41: FutureWarning: The behavior of DataFrame concatenation with empty or all-NA entries is deprecated. In a future version, this will no longer exclude empty or all-NA columns when determining the result dtypes. To retain the old behavior, exclude the relevant entries before the concat operation.\n",
      "  consolidated_df = pd.concat([consolidated_df, pd.DataFrame([row_data])], ignore_index=True)\n"
     ]
    },
    {
     "name": "stdout",
     "output_type": "stream",
     "text": [
      "Filtered by frame format for EVRG\n",
      "Filtering columns with >95% empty cells for EVRG\n",
      "Removed sparse columns for EVRG\n",
      "Successfully processed and saved data for EVRG to ./data/clean/EVRG.csv\n",
      "Processing symbol: ES\n",
      "Successfully read data for ES\n",
      "Pivoted data for ES\n"
     ]
    },
    {
     "name": "stderr",
     "output_type": "stream",
     "text": [
      "/var/folders/0w/q70p80s12nz5lpzr087614lw0000gn/T/ipykernel_52557/4138676989.py:41: FutureWarning: The behavior of DataFrame concatenation with empty or all-NA entries is deprecated. In a future version, this will no longer exclude empty or all-NA columns when determining the result dtypes. To retain the old behavior, exclude the relevant entries before the concat operation.\n",
      "  consolidated_df = pd.concat([consolidated_df, pd.DataFrame([row_data])], ignore_index=True)\n"
     ]
    },
    {
     "name": "stdout",
     "output_type": "stream",
     "text": [
      "Filtered by frame format for ES\n",
      "Filtering columns with >95% empty cells for ES\n",
      "Removed sparse columns for ES\n",
      "Successfully processed and saved data for ES to ./data/clean/ES.csv\n",
      "Processing symbol: EXC\n",
      "Successfully read data for EXC\n",
      "Pivoted data for EXC\n"
     ]
    },
    {
     "name": "stderr",
     "output_type": "stream",
     "text": [
      "/var/folders/0w/q70p80s12nz5lpzr087614lw0000gn/T/ipykernel_52557/4138676989.py:41: FutureWarning: The behavior of DataFrame concatenation with empty or all-NA entries is deprecated. In a future version, this will no longer exclude empty or all-NA columns when determining the result dtypes. To retain the old behavior, exclude the relevant entries before the concat operation.\n",
      "  consolidated_df = pd.concat([consolidated_df, pd.DataFrame([row_data])], ignore_index=True)\n"
     ]
    },
    {
     "name": "stdout",
     "output_type": "stream",
     "text": [
      "Filtered by frame format for EXC\n",
      "Filtering columns with >95% empty cells for EXC\n",
      "Removed sparse columns for EXC\n",
      "Successfully processed and saved data for EXC to ./data/clean/EXC.csv\n",
      "Processing symbol: EXPE\n",
      "Successfully read data for EXPE\n",
      "Pivoted data for EXPE\n"
     ]
    },
    {
     "name": "stderr",
     "output_type": "stream",
     "text": [
      "/var/folders/0w/q70p80s12nz5lpzr087614lw0000gn/T/ipykernel_52557/4138676989.py:41: FutureWarning: The behavior of DataFrame concatenation with empty or all-NA entries is deprecated. In a future version, this will no longer exclude empty or all-NA columns when determining the result dtypes. To retain the old behavior, exclude the relevant entries before the concat operation.\n",
      "  consolidated_df = pd.concat([consolidated_df, pd.DataFrame([row_data])], ignore_index=True)\n"
     ]
    },
    {
     "name": "stdout",
     "output_type": "stream",
     "text": [
      "Filtered by frame format for EXPE\n",
      "Filtering columns with >95% empty cells for EXPE\n",
      "Removed sparse columns for EXPE\n",
      "Successfully processed and saved data for EXPE to ./data/clean/EXPE.csv\n",
      "Processing symbol: EXPD\n",
      "Successfully read data for EXPD\n",
      "Pivoted data for EXPD\n"
     ]
    },
    {
     "name": "stderr",
     "output_type": "stream",
     "text": [
      "/var/folders/0w/q70p80s12nz5lpzr087614lw0000gn/T/ipykernel_52557/4138676989.py:41: FutureWarning: The behavior of DataFrame concatenation with empty or all-NA entries is deprecated. In a future version, this will no longer exclude empty or all-NA columns when determining the result dtypes. To retain the old behavior, exclude the relevant entries before the concat operation.\n",
      "  consolidated_df = pd.concat([consolidated_df, pd.DataFrame([row_data])], ignore_index=True)\n"
     ]
    },
    {
     "name": "stdout",
     "output_type": "stream",
     "text": [
      "Filtered by frame format for EXPD\n",
      "Filtering columns with >95% empty cells for EXPD\n",
      "Removed sparse columns for EXPD\n",
      "Successfully processed and saved data for EXPD to ./data/clean/EXPD.csv\n",
      "Processing symbol: EXR\n",
      "Successfully read data for EXR\n",
      "Pivoted data for EXR\n"
     ]
    },
    {
     "name": "stderr",
     "output_type": "stream",
     "text": [
      "/var/folders/0w/q70p80s12nz5lpzr087614lw0000gn/T/ipykernel_52557/4138676989.py:41: FutureWarning: The behavior of DataFrame concatenation with empty or all-NA entries is deprecated. In a future version, this will no longer exclude empty or all-NA columns when determining the result dtypes. To retain the old behavior, exclude the relevant entries before the concat operation.\n",
      "  consolidated_df = pd.concat([consolidated_df, pd.DataFrame([row_data])], ignore_index=True)\n"
     ]
    },
    {
     "name": "stdout",
     "output_type": "stream",
     "text": [
      "Filtered by frame format for EXR\n",
      "Filtering columns with >95% empty cells for EXR\n",
      "Removed sparse columns for EXR\n",
      "Successfully processed and saved data for EXR to ./data/clean/EXR.csv\n",
      "Processing symbol: XOM\n",
      "Successfully read data for XOM\n",
      "Pivoted data for XOM\n"
     ]
    },
    {
     "name": "stderr",
     "output_type": "stream",
     "text": [
      "/var/folders/0w/q70p80s12nz5lpzr087614lw0000gn/T/ipykernel_52557/4138676989.py:41: FutureWarning: The behavior of DataFrame concatenation with empty or all-NA entries is deprecated. In a future version, this will no longer exclude empty or all-NA columns when determining the result dtypes. To retain the old behavior, exclude the relevant entries before the concat operation.\n",
      "  consolidated_df = pd.concat([consolidated_df, pd.DataFrame([row_data])], ignore_index=True)\n"
     ]
    },
    {
     "name": "stdout",
     "output_type": "stream",
     "text": [
      "Filtered by frame format for XOM\n",
      "Filtering columns with >95% empty cells for XOM\n",
      "Removed sparse columns for XOM\n",
      "Successfully processed and saved data for XOM to ./data/clean/XOM.csv\n",
      "Processing symbol: FFIV\n",
      "Successfully read data for FFIV\n",
      "Pivoted data for FFIV\n"
     ]
    },
    {
     "name": "stderr",
     "output_type": "stream",
     "text": [
      "/var/folders/0w/q70p80s12nz5lpzr087614lw0000gn/T/ipykernel_52557/4138676989.py:41: FutureWarning: The behavior of DataFrame concatenation with empty or all-NA entries is deprecated. In a future version, this will no longer exclude empty or all-NA columns when determining the result dtypes. To retain the old behavior, exclude the relevant entries before the concat operation.\n",
      "  consolidated_df = pd.concat([consolidated_df, pd.DataFrame([row_data])], ignore_index=True)\n"
     ]
    },
    {
     "name": "stdout",
     "output_type": "stream",
     "text": [
      "Filtered by frame format for FFIV\n",
      "Filtering columns with >95% empty cells for FFIV\n",
      "Removed sparse columns for FFIV\n",
      "Successfully processed and saved data for FFIV to ./data/clean/FFIV.csv\n",
      "Processing symbol: FDS\n",
      "Successfully read data for FDS\n",
      "Pivoted data for FDS\n"
     ]
    },
    {
     "name": "stderr",
     "output_type": "stream",
     "text": [
      "/var/folders/0w/q70p80s12nz5lpzr087614lw0000gn/T/ipykernel_52557/4138676989.py:41: FutureWarning: The behavior of DataFrame concatenation with empty or all-NA entries is deprecated. In a future version, this will no longer exclude empty or all-NA columns when determining the result dtypes. To retain the old behavior, exclude the relevant entries before the concat operation.\n",
      "  consolidated_df = pd.concat([consolidated_df, pd.DataFrame([row_data])], ignore_index=True)\n"
     ]
    },
    {
     "name": "stdout",
     "output_type": "stream",
     "text": [
      "Filtered by frame format for FDS\n",
      "Filtering columns with >95% empty cells for FDS\n",
      "Removed sparse columns for FDS\n",
      "Successfully processed and saved data for FDS to ./data/clean/FDS.csv\n",
      "Processing symbol: FICO\n",
      "Successfully read data for FICO\n",
      "Pivoted data for FICO\n"
     ]
    },
    {
     "name": "stderr",
     "output_type": "stream",
     "text": [
      "/var/folders/0w/q70p80s12nz5lpzr087614lw0000gn/T/ipykernel_52557/4138676989.py:41: FutureWarning: The behavior of DataFrame concatenation with empty or all-NA entries is deprecated. In a future version, this will no longer exclude empty or all-NA columns when determining the result dtypes. To retain the old behavior, exclude the relevant entries before the concat operation.\n",
      "  consolidated_df = pd.concat([consolidated_df, pd.DataFrame([row_data])], ignore_index=True)\n"
     ]
    },
    {
     "name": "stdout",
     "output_type": "stream",
     "text": [
      "Filtered by frame format for FICO\n",
      "Filtering columns with >95% empty cells for FICO\n",
      "Removed sparse columns for FICO\n",
      "Successfully processed and saved data for FICO to ./data/clean/FICO.csv\n",
      "Processing symbol: FAST\n",
      "Successfully read data for FAST\n",
      "Pivoted data for FAST\n"
     ]
    },
    {
     "name": "stderr",
     "output_type": "stream",
     "text": [
      "/var/folders/0w/q70p80s12nz5lpzr087614lw0000gn/T/ipykernel_52557/4138676989.py:41: FutureWarning: The behavior of DataFrame concatenation with empty or all-NA entries is deprecated. In a future version, this will no longer exclude empty or all-NA columns when determining the result dtypes. To retain the old behavior, exclude the relevant entries before the concat operation.\n",
      "  consolidated_df = pd.concat([consolidated_df, pd.DataFrame([row_data])], ignore_index=True)\n"
     ]
    },
    {
     "name": "stdout",
     "output_type": "stream",
     "text": [
      "Filtered by frame format for FAST\n",
      "Filtering columns with >95% empty cells for FAST\n",
      "Removed sparse columns for FAST\n",
      "Successfully processed and saved data for FAST to ./data/clean/FAST.csv\n",
      "Processing symbol: FRT\n",
      "Successfully read data for FRT\n",
      "Pivoted data for FRT\n"
     ]
    },
    {
     "name": "stderr",
     "output_type": "stream",
     "text": [
      "/var/folders/0w/q70p80s12nz5lpzr087614lw0000gn/T/ipykernel_52557/4138676989.py:41: FutureWarning: The behavior of DataFrame concatenation with empty or all-NA entries is deprecated. In a future version, this will no longer exclude empty or all-NA columns when determining the result dtypes. To retain the old behavior, exclude the relevant entries before the concat operation.\n",
      "  consolidated_df = pd.concat([consolidated_df, pd.DataFrame([row_data])], ignore_index=True)\n"
     ]
    },
    {
     "name": "stdout",
     "output_type": "stream",
     "text": [
      "Filtered by frame format for FRT\n",
      "Filtering columns with >95% empty cells for FRT\n",
      "Removed sparse columns for FRT\n",
      "Successfully processed and saved data for FRT to ./data/clean/FRT.csv\n",
      "Processing symbol: FDX\n",
      "Successfully read data for FDX\n",
      "Pivoted data for FDX\n"
     ]
    },
    {
     "name": "stderr",
     "output_type": "stream",
     "text": [
      "/var/folders/0w/q70p80s12nz5lpzr087614lw0000gn/T/ipykernel_52557/4138676989.py:41: FutureWarning: The behavior of DataFrame concatenation with empty or all-NA entries is deprecated. In a future version, this will no longer exclude empty or all-NA columns when determining the result dtypes. To retain the old behavior, exclude the relevant entries before the concat operation.\n",
      "  consolidated_df = pd.concat([consolidated_df, pd.DataFrame([row_data])], ignore_index=True)\n"
     ]
    },
    {
     "name": "stdout",
     "output_type": "stream",
     "text": [
      "Filtered by frame format for FDX\n",
      "Filtering columns with >95% empty cells for FDX\n",
      "Removed sparse columns for FDX\n",
      "Successfully processed and saved data for FDX to ./data/clean/FDX.csv\n",
      "Processing symbol: FIS\n",
      "Successfully read data for FIS\n",
      "Pivoted data for FIS\n"
     ]
    },
    {
     "name": "stderr",
     "output_type": "stream",
     "text": [
      "/var/folders/0w/q70p80s12nz5lpzr087614lw0000gn/T/ipykernel_52557/4138676989.py:41: FutureWarning: The behavior of DataFrame concatenation with empty or all-NA entries is deprecated. In a future version, this will no longer exclude empty or all-NA columns when determining the result dtypes. To retain the old behavior, exclude the relevant entries before the concat operation.\n",
      "  consolidated_df = pd.concat([consolidated_df, pd.DataFrame([row_data])], ignore_index=True)\n"
     ]
    },
    {
     "name": "stdout",
     "output_type": "stream",
     "text": [
      "Filtered by frame format for FIS\n",
      "Filtering columns with >95% empty cells for FIS\n",
      "Removed sparse columns for FIS\n",
      "Successfully processed and saved data for FIS to ./data/clean/FIS.csv\n",
      "Processing symbol: FITB\n",
      "Successfully read data for FITB\n",
      "Pivoted data for FITB\n"
     ]
    },
    {
     "name": "stderr",
     "output_type": "stream",
     "text": [
      "/var/folders/0w/q70p80s12nz5lpzr087614lw0000gn/T/ipykernel_52557/4138676989.py:41: FutureWarning: The behavior of DataFrame concatenation with empty or all-NA entries is deprecated. In a future version, this will no longer exclude empty or all-NA columns when determining the result dtypes. To retain the old behavior, exclude the relevant entries before the concat operation.\n",
      "  consolidated_df = pd.concat([consolidated_df, pd.DataFrame([row_data])], ignore_index=True)\n"
     ]
    },
    {
     "name": "stdout",
     "output_type": "stream",
     "text": [
      "Filtered by frame format for FITB\n",
      "Filtering columns with >95% empty cells for FITB\n",
      "Removed sparse columns for FITB\n",
      "Successfully processed and saved data for FITB to ./data/clean/FITB.csv\n",
      "Processing symbol: FSLR\n",
      "Successfully read data for FSLR\n",
      "Pivoted data for FSLR\n"
     ]
    },
    {
     "name": "stderr",
     "output_type": "stream",
     "text": [
      "/var/folders/0w/q70p80s12nz5lpzr087614lw0000gn/T/ipykernel_52557/4138676989.py:41: FutureWarning: The behavior of DataFrame concatenation with empty or all-NA entries is deprecated. In a future version, this will no longer exclude empty or all-NA columns when determining the result dtypes. To retain the old behavior, exclude the relevant entries before the concat operation.\n",
      "  consolidated_df = pd.concat([consolidated_df, pd.DataFrame([row_data])], ignore_index=True)\n"
     ]
    },
    {
     "name": "stdout",
     "output_type": "stream",
     "text": [
      "Filtered by frame format for FSLR\n",
      "Filtering columns with >95% empty cells for FSLR\n",
      "Removed sparse columns for FSLR\n",
      "Successfully processed and saved data for FSLR to ./data/clean/FSLR.csv\n",
      "Processing symbol: FE\n",
      "Successfully read data for FE\n",
      "Pivoted data for FE\n"
     ]
    },
    {
     "name": "stderr",
     "output_type": "stream",
     "text": [
      "/var/folders/0w/q70p80s12nz5lpzr087614lw0000gn/T/ipykernel_52557/4138676989.py:41: FutureWarning: The behavior of DataFrame concatenation with empty or all-NA entries is deprecated. In a future version, this will no longer exclude empty or all-NA columns when determining the result dtypes. To retain the old behavior, exclude the relevant entries before the concat operation.\n",
      "  consolidated_df = pd.concat([consolidated_df, pd.DataFrame([row_data])], ignore_index=True)\n"
     ]
    },
    {
     "name": "stdout",
     "output_type": "stream",
     "text": [
      "Filtered by frame format for FE\n",
      "Filtering columns with >95% empty cells for FE\n",
      "Removed sparse columns for FE\n",
      "Successfully processed and saved data for FE to ./data/clean/FE.csv\n",
      "Processing symbol: FI\n",
      "Successfully read data for FI\n",
      "Pivoted data for FI\n"
     ]
    },
    {
     "name": "stderr",
     "output_type": "stream",
     "text": [
      "/var/folders/0w/q70p80s12nz5lpzr087614lw0000gn/T/ipykernel_52557/4138676989.py:41: FutureWarning: The behavior of DataFrame concatenation with empty or all-NA entries is deprecated. In a future version, this will no longer exclude empty or all-NA columns when determining the result dtypes. To retain the old behavior, exclude the relevant entries before the concat operation.\n",
      "  consolidated_df = pd.concat([consolidated_df, pd.DataFrame([row_data])], ignore_index=True)\n"
     ]
    },
    {
     "name": "stdout",
     "output_type": "stream",
     "text": [
      "Filtered by frame format for FI\n",
      "Filtering columns with >95% empty cells for FI\n",
      "Removed sparse columns for FI\n",
      "Successfully processed and saved data for FI to ./data/clean/FI.csv\n",
      "Processing symbol: FMC\n",
      "Error: File not found for symbol FMC at path: ./data/financial_data/FMC_raw_financials.csv. Skipping this symbol.\n",
      "Processing symbol: F\n",
      "Successfully read data for F\n",
      "Pivoted data for F\n"
     ]
    },
    {
     "name": "stderr",
     "output_type": "stream",
     "text": [
      "/var/folders/0w/q70p80s12nz5lpzr087614lw0000gn/T/ipykernel_52557/4138676989.py:41: FutureWarning: The behavior of DataFrame concatenation with empty or all-NA entries is deprecated. In a future version, this will no longer exclude empty or all-NA columns when determining the result dtypes. To retain the old behavior, exclude the relevant entries before the concat operation.\n",
      "  consolidated_df = pd.concat([consolidated_df, pd.DataFrame([row_data])], ignore_index=True)\n"
     ]
    },
    {
     "name": "stdout",
     "output_type": "stream",
     "text": [
      "Filtered by frame format for F\n",
      "Filtering columns with >95% empty cells for F\n",
      "Removed sparse columns for F\n",
      "Successfully processed and saved data for F to ./data/clean/F.csv\n",
      "Processing symbol: FTNT\n",
      "Successfully read data for FTNT\n",
      "Pivoted data for FTNT\n"
     ]
    },
    {
     "name": "stderr",
     "output_type": "stream",
     "text": [
      "/var/folders/0w/q70p80s12nz5lpzr087614lw0000gn/T/ipykernel_52557/4138676989.py:41: FutureWarning: The behavior of DataFrame concatenation with empty or all-NA entries is deprecated. In a future version, this will no longer exclude empty or all-NA columns when determining the result dtypes. To retain the old behavior, exclude the relevant entries before the concat operation.\n",
      "  consolidated_df = pd.concat([consolidated_df, pd.DataFrame([row_data])], ignore_index=True)\n"
     ]
    },
    {
     "name": "stdout",
     "output_type": "stream",
     "text": [
      "Filtered by frame format for FTNT\n",
      "Filtering columns with >95% empty cells for FTNT\n",
      "Removed sparse columns for FTNT\n",
      "Successfully processed and saved data for FTNT to ./data/clean/FTNT.csv\n",
      "Processing symbol: FTV\n",
      "Successfully read data for FTV\n",
      "Pivoted data for FTV\n"
     ]
    },
    {
     "name": "stderr",
     "output_type": "stream",
     "text": [
      "/var/folders/0w/q70p80s12nz5lpzr087614lw0000gn/T/ipykernel_52557/4138676989.py:41: FutureWarning: The behavior of DataFrame concatenation with empty or all-NA entries is deprecated. In a future version, this will no longer exclude empty or all-NA columns when determining the result dtypes. To retain the old behavior, exclude the relevant entries before the concat operation.\n",
      "  consolidated_df = pd.concat([consolidated_df, pd.DataFrame([row_data])], ignore_index=True)\n"
     ]
    },
    {
     "name": "stdout",
     "output_type": "stream",
     "text": [
      "Filtered by frame format for FTV\n",
      "Filtering columns with >95% empty cells for FTV\n",
      "Removed sparse columns for FTV\n",
      "Successfully processed and saved data for FTV to ./data/clean/FTV.csv\n",
      "Processing symbol: FOXA\n",
      "Successfully read data for FOXA\n",
      "Pivoted data for FOXA\n"
     ]
    },
    {
     "name": "stderr",
     "output_type": "stream",
     "text": [
      "/var/folders/0w/q70p80s12nz5lpzr087614lw0000gn/T/ipykernel_52557/4138676989.py:41: FutureWarning: The behavior of DataFrame concatenation with empty or all-NA entries is deprecated. In a future version, this will no longer exclude empty or all-NA columns when determining the result dtypes. To retain the old behavior, exclude the relevant entries before the concat operation.\n",
      "  consolidated_df = pd.concat([consolidated_df, pd.DataFrame([row_data])], ignore_index=True)\n"
     ]
    },
    {
     "name": "stdout",
     "output_type": "stream",
     "text": [
      "Filtered by frame format for FOXA\n",
      "Filtering columns with >95% empty cells for FOXA\n",
      "Removed sparse columns for FOXA\n",
      "Successfully processed and saved data for FOXA to ./data/clean/FOXA.csv\n",
      "Processing symbol: FOX\n",
      "Successfully read data for FOX\n",
      "Pivoted data for FOX\n"
     ]
    },
    {
     "name": "stderr",
     "output_type": "stream",
     "text": [
      "/var/folders/0w/q70p80s12nz5lpzr087614lw0000gn/T/ipykernel_52557/4138676989.py:41: FutureWarning: The behavior of DataFrame concatenation with empty or all-NA entries is deprecated. In a future version, this will no longer exclude empty or all-NA columns when determining the result dtypes. To retain the old behavior, exclude the relevant entries before the concat operation.\n",
      "  consolidated_df = pd.concat([consolidated_df, pd.DataFrame([row_data])], ignore_index=True)\n"
     ]
    },
    {
     "name": "stdout",
     "output_type": "stream",
     "text": [
      "Filtered by frame format for FOX\n",
      "Filtering columns with >95% empty cells for FOX\n",
      "Removed sparse columns for FOX\n",
      "Successfully processed and saved data for FOX to ./data/clean/FOX.csv\n",
      "Processing symbol: BEN\n",
      "Successfully read data for BEN\n",
      "Pivoted data for BEN\n"
     ]
    },
    {
     "name": "stderr",
     "output_type": "stream",
     "text": [
      "/var/folders/0w/q70p80s12nz5lpzr087614lw0000gn/T/ipykernel_52557/4138676989.py:41: FutureWarning: The behavior of DataFrame concatenation with empty or all-NA entries is deprecated. In a future version, this will no longer exclude empty or all-NA columns when determining the result dtypes. To retain the old behavior, exclude the relevant entries before the concat operation.\n",
      "  consolidated_df = pd.concat([consolidated_df, pd.DataFrame([row_data])], ignore_index=True)\n"
     ]
    },
    {
     "name": "stdout",
     "output_type": "stream",
     "text": [
      "Filtered by frame format for BEN\n",
      "Filtering columns with >95% empty cells for BEN\n",
      "Removed sparse columns for BEN\n",
      "Successfully processed and saved data for BEN to ./data/clean/BEN.csv\n",
      "Processing symbol: FCX\n",
      "Successfully read data for FCX\n",
      "Pivoted data for FCX\n"
     ]
    },
    {
     "name": "stderr",
     "output_type": "stream",
     "text": [
      "/var/folders/0w/q70p80s12nz5lpzr087614lw0000gn/T/ipykernel_52557/4138676989.py:41: FutureWarning: The behavior of DataFrame concatenation with empty or all-NA entries is deprecated. In a future version, this will no longer exclude empty or all-NA columns when determining the result dtypes. To retain the old behavior, exclude the relevant entries before the concat operation.\n",
      "  consolidated_df = pd.concat([consolidated_df, pd.DataFrame([row_data])], ignore_index=True)\n"
     ]
    },
    {
     "name": "stdout",
     "output_type": "stream",
     "text": [
      "Filtered by frame format for FCX\n",
      "Filtering columns with >95% empty cells for FCX\n",
      "Removed sparse columns for FCX\n",
      "Successfully processed and saved data for FCX to ./data/clean/FCX.csv\n",
      "Processing symbol: GRMN\n",
      "Successfully read data for GRMN\n",
      "Pivoted data for GRMN\n"
     ]
    },
    {
     "name": "stderr",
     "output_type": "stream",
     "text": [
      "/var/folders/0w/q70p80s12nz5lpzr087614lw0000gn/T/ipykernel_52557/4138676989.py:41: FutureWarning: The behavior of DataFrame concatenation with empty or all-NA entries is deprecated. In a future version, this will no longer exclude empty or all-NA columns when determining the result dtypes. To retain the old behavior, exclude the relevant entries before the concat operation.\n",
      "  consolidated_df = pd.concat([consolidated_df, pd.DataFrame([row_data])], ignore_index=True)\n"
     ]
    },
    {
     "name": "stdout",
     "output_type": "stream",
     "text": [
      "Filtered by frame format for GRMN\n",
      "Filtering columns with >95% empty cells for GRMN\n",
      "Removed sparse columns for GRMN\n",
      "Successfully processed and saved data for GRMN to ./data/clean/GRMN.csv\n",
      "Processing symbol: IT\n",
      "Successfully read data for IT\n",
      "Pivoted data for IT\n"
     ]
    },
    {
     "name": "stderr",
     "output_type": "stream",
     "text": [
      "/var/folders/0w/q70p80s12nz5lpzr087614lw0000gn/T/ipykernel_52557/4138676989.py:41: FutureWarning: The behavior of DataFrame concatenation with empty or all-NA entries is deprecated. In a future version, this will no longer exclude empty or all-NA columns when determining the result dtypes. To retain the old behavior, exclude the relevant entries before the concat operation.\n",
      "  consolidated_df = pd.concat([consolidated_df, pd.DataFrame([row_data])], ignore_index=True)\n"
     ]
    },
    {
     "name": "stdout",
     "output_type": "stream",
     "text": [
      "Filtered by frame format for IT\n",
      "Filtering columns with >95% empty cells for IT\n",
      "Removed sparse columns for IT\n",
      "Successfully processed and saved data for IT to ./data/clean/IT.csv\n",
      "Processing symbol: GE\n",
      "Successfully read data for GE\n",
      "Pivoted data for GE\n"
     ]
    },
    {
     "name": "stderr",
     "output_type": "stream",
     "text": [
      "/var/folders/0w/q70p80s12nz5lpzr087614lw0000gn/T/ipykernel_52557/4138676989.py:41: FutureWarning: The behavior of DataFrame concatenation with empty or all-NA entries is deprecated. In a future version, this will no longer exclude empty or all-NA columns when determining the result dtypes. To retain the old behavior, exclude the relevant entries before the concat operation.\n",
      "  consolidated_df = pd.concat([consolidated_df, pd.DataFrame([row_data])], ignore_index=True)\n"
     ]
    },
    {
     "name": "stdout",
     "output_type": "stream",
     "text": [
      "Filtered by frame format for GE\n",
      "Filtering columns with >95% empty cells for GE\n",
      "Removed sparse columns for GE\n",
      "Successfully processed and saved data for GE to ./data/clean/GE.csv\n",
      "Processing symbol: GEHC\n",
      "Successfully read data for GEHC\n",
      "Pivoted data for GEHC\n"
     ]
    },
    {
     "name": "stderr",
     "output_type": "stream",
     "text": [
      "/var/folders/0w/q70p80s12nz5lpzr087614lw0000gn/T/ipykernel_52557/4138676989.py:41: FutureWarning: The behavior of DataFrame concatenation with empty or all-NA entries is deprecated. In a future version, this will no longer exclude empty or all-NA columns when determining the result dtypes. To retain the old behavior, exclude the relevant entries before the concat operation.\n",
      "  consolidated_df = pd.concat([consolidated_df, pd.DataFrame([row_data])], ignore_index=True)\n"
     ]
    },
    {
     "name": "stdout",
     "output_type": "stream",
     "text": [
      "Filtered by frame format for GEHC\n",
      "Filtering columns with >95% empty cells for GEHC\n",
      "Removed sparse columns for GEHC\n",
      "Successfully processed and saved data for GEHC to ./data/clean/GEHC.csv\n",
      "Processing symbol: GEV\n",
      "Successfully read data for GEV\n",
      "Pivoted data for GEV\n",
      "Filtered by frame format for GEV\n",
      "Filtering columns with >95% empty cells for GEV\n",
      "Removed sparse columns for GEV\n",
      "Successfully processed and saved data for GEV to ./data/clean/GEV.csv\n",
      "Processing symbol: GEN\n"
     ]
    },
    {
     "name": "stderr",
     "output_type": "stream",
     "text": [
      "/var/folders/0w/q70p80s12nz5lpzr087614lw0000gn/T/ipykernel_52557/4138676989.py:41: FutureWarning: The behavior of DataFrame concatenation with empty or all-NA entries is deprecated. In a future version, this will no longer exclude empty or all-NA columns when determining the result dtypes. To retain the old behavior, exclude the relevant entries before the concat operation.\n",
      "  consolidated_df = pd.concat([consolidated_df, pd.DataFrame([row_data])], ignore_index=True)\n"
     ]
    },
    {
     "name": "stdout",
     "output_type": "stream",
     "text": [
      "Successfully read data for GEN\n",
      "Pivoted data for GEN\n"
     ]
    },
    {
     "name": "stderr",
     "output_type": "stream",
     "text": [
      "/var/folders/0w/q70p80s12nz5lpzr087614lw0000gn/T/ipykernel_52557/4138676989.py:41: FutureWarning: The behavior of DataFrame concatenation with empty or all-NA entries is deprecated. In a future version, this will no longer exclude empty or all-NA columns when determining the result dtypes. To retain the old behavior, exclude the relevant entries before the concat operation.\n",
      "  consolidated_df = pd.concat([consolidated_df, pd.DataFrame([row_data])], ignore_index=True)\n"
     ]
    },
    {
     "name": "stdout",
     "output_type": "stream",
     "text": [
      "Filtered by frame format for GEN\n",
      "Filtering columns with >95% empty cells for GEN\n",
      "Removed sparse columns for GEN\n",
      "Successfully processed and saved data for GEN to ./data/clean/GEN.csv\n",
      "Processing symbol: GNRC\n",
      "Successfully read data for GNRC\n",
      "Pivoted data for GNRC\n"
     ]
    },
    {
     "name": "stderr",
     "output_type": "stream",
     "text": [
      "/var/folders/0w/q70p80s12nz5lpzr087614lw0000gn/T/ipykernel_52557/4138676989.py:41: FutureWarning: The behavior of DataFrame concatenation with empty or all-NA entries is deprecated. In a future version, this will no longer exclude empty or all-NA columns when determining the result dtypes. To retain the old behavior, exclude the relevant entries before the concat operation.\n",
      "  consolidated_df = pd.concat([consolidated_df, pd.DataFrame([row_data])], ignore_index=True)\n"
     ]
    },
    {
     "name": "stdout",
     "output_type": "stream",
     "text": [
      "Filtered by frame format for GNRC\n",
      "Filtering columns with >95% empty cells for GNRC\n",
      "Removed sparse columns for GNRC\n",
      "Successfully processed and saved data for GNRC to ./data/clean/GNRC.csv\n",
      "Processing symbol: GD\n",
      "Successfully read data for GD\n",
      "Pivoted data for GD\n"
     ]
    },
    {
     "name": "stderr",
     "output_type": "stream",
     "text": [
      "/var/folders/0w/q70p80s12nz5lpzr087614lw0000gn/T/ipykernel_52557/4138676989.py:41: FutureWarning: The behavior of DataFrame concatenation with empty or all-NA entries is deprecated. In a future version, this will no longer exclude empty or all-NA columns when determining the result dtypes. To retain the old behavior, exclude the relevant entries before the concat operation.\n",
      "  consolidated_df = pd.concat([consolidated_df, pd.DataFrame([row_data])], ignore_index=True)\n"
     ]
    },
    {
     "name": "stdout",
     "output_type": "stream",
     "text": [
      "Filtered by frame format for GD\n",
      "Filtering columns with >95% empty cells for GD\n",
      "Removed sparse columns for GD\n",
      "Successfully processed and saved data for GD to ./data/clean/GD.csv\n",
      "Processing symbol: GIS\n",
      "Successfully read data for GIS\n",
      "Pivoted data for GIS\n"
     ]
    },
    {
     "name": "stderr",
     "output_type": "stream",
     "text": [
      "/var/folders/0w/q70p80s12nz5lpzr087614lw0000gn/T/ipykernel_52557/4138676989.py:41: FutureWarning: The behavior of DataFrame concatenation with empty or all-NA entries is deprecated. In a future version, this will no longer exclude empty or all-NA columns when determining the result dtypes. To retain the old behavior, exclude the relevant entries before the concat operation.\n",
      "  consolidated_df = pd.concat([consolidated_df, pd.DataFrame([row_data])], ignore_index=True)\n"
     ]
    },
    {
     "name": "stdout",
     "output_type": "stream",
     "text": [
      "Filtered by frame format for GIS\n",
      "Filtering columns with >95% empty cells for GIS\n",
      "Removed sparse columns for GIS\n",
      "Successfully processed and saved data for GIS to ./data/clean/GIS.csv\n",
      "Processing symbol: GM\n",
      "Successfully read data for GM\n",
      "Pivoted data for GM\n"
     ]
    },
    {
     "name": "stderr",
     "output_type": "stream",
     "text": [
      "/var/folders/0w/q70p80s12nz5lpzr087614lw0000gn/T/ipykernel_52557/4138676989.py:41: FutureWarning: The behavior of DataFrame concatenation with empty or all-NA entries is deprecated. In a future version, this will no longer exclude empty or all-NA columns when determining the result dtypes. To retain the old behavior, exclude the relevant entries before the concat operation.\n",
      "  consolidated_df = pd.concat([consolidated_df, pd.DataFrame([row_data])], ignore_index=True)\n"
     ]
    },
    {
     "name": "stdout",
     "output_type": "stream",
     "text": [
      "Filtered by frame format for GM\n",
      "Filtering columns with >95% empty cells for GM\n",
      "Removed sparse columns for GM\n",
      "Successfully processed and saved data for GM to ./data/clean/GM.csv\n",
      "Processing symbol: GPC\n",
      "Successfully read data for GPC\n",
      "Pivoted data for GPC\n"
     ]
    },
    {
     "name": "stderr",
     "output_type": "stream",
     "text": [
      "/var/folders/0w/q70p80s12nz5lpzr087614lw0000gn/T/ipykernel_52557/4138676989.py:41: FutureWarning: The behavior of DataFrame concatenation with empty or all-NA entries is deprecated. In a future version, this will no longer exclude empty or all-NA columns when determining the result dtypes. To retain the old behavior, exclude the relevant entries before the concat operation.\n",
      "  consolidated_df = pd.concat([consolidated_df, pd.DataFrame([row_data])], ignore_index=True)\n"
     ]
    },
    {
     "name": "stdout",
     "output_type": "stream",
     "text": [
      "Filtered by frame format for GPC\n",
      "Filtering columns with >95% empty cells for GPC\n",
      "Removed sparse columns for GPC\n",
      "Successfully processed and saved data for GPC to ./data/clean/GPC.csv\n",
      "Processing symbol: GILD\n",
      "Successfully read data for GILD\n",
      "Pivoted data for GILD\n"
     ]
    },
    {
     "name": "stderr",
     "output_type": "stream",
     "text": [
      "/var/folders/0w/q70p80s12nz5lpzr087614lw0000gn/T/ipykernel_52557/4138676989.py:41: FutureWarning: The behavior of DataFrame concatenation with empty or all-NA entries is deprecated. In a future version, this will no longer exclude empty or all-NA columns when determining the result dtypes. To retain the old behavior, exclude the relevant entries before the concat operation.\n",
      "  consolidated_df = pd.concat([consolidated_df, pd.DataFrame([row_data])], ignore_index=True)\n"
     ]
    },
    {
     "name": "stdout",
     "output_type": "stream",
     "text": [
      "Filtered by frame format for GILD\n",
      "Filtering columns with >95% empty cells for GILD\n",
      "Removed sparse columns for GILD\n",
      "Successfully processed and saved data for GILD to ./data/clean/GILD.csv\n",
      "Processing symbol: GPN\n",
      "Successfully read data for GPN\n",
      "Pivoted data for GPN\n"
     ]
    },
    {
     "name": "stderr",
     "output_type": "stream",
     "text": [
      "/var/folders/0w/q70p80s12nz5lpzr087614lw0000gn/T/ipykernel_52557/4138676989.py:41: FutureWarning: The behavior of DataFrame concatenation with empty or all-NA entries is deprecated. In a future version, this will no longer exclude empty or all-NA columns when determining the result dtypes. To retain the old behavior, exclude the relevant entries before the concat operation.\n",
      "  consolidated_df = pd.concat([consolidated_df, pd.DataFrame([row_data])], ignore_index=True)\n"
     ]
    },
    {
     "name": "stdout",
     "output_type": "stream",
     "text": [
      "Filtered by frame format for GPN\n",
      "Filtering columns with >95% empty cells for GPN\n",
      "Removed sparse columns for GPN\n",
      "Successfully processed and saved data for GPN to ./data/clean/GPN.csv\n",
      "Processing symbol: GL\n",
      "Successfully read data for GL\n",
      "Pivoted data for GL\n"
     ]
    },
    {
     "name": "stderr",
     "output_type": "stream",
     "text": [
      "/var/folders/0w/q70p80s12nz5lpzr087614lw0000gn/T/ipykernel_52557/4138676989.py:41: FutureWarning: The behavior of DataFrame concatenation with empty or all-NA entries is deprecated. In a future version, this will no longer exclude empty or all-NA columns when determining the result dtypes. To retain the old behavior, exclude the relevant entries before the concat operation.\n",
      "  consolidated_df = pd.concat([consolidated_df, pd.DataFrame([row_data])], ignore_index=True)\n"
     ]
    },
    {
     "name": "stdout",
     "output_type": "stream",
     "text": [
      "Filtered by frame format for GL\n",
      "Filtering columns with >95% empty cells for GL\n",
      "Removed sparse columns for GL\n",
      "Successfully processed and saved data for GL to ./data/clean/GL.csv\n",
      "Processing symbol: GDDY\n",
      "Successfully read data for GDDY\n",
      "Pivoted data for GDDY\n"
     ]
    },
    {
     "name": "stderr",
     "output_type": "stream",
     "text": [
      "/var/folders/0w/q70p80s12nz5lpzr087614lw0000gn/T/ipykernel_52557/4138676989.py:41: FutureWarning: The behavior of DataFrame concatenation with empty or all-NA entries is deprecated. In a future version, this will no longer exclude empty or all-NA columns when determining the result dtypes. To retain the old behavior, exclude the relevant entries before the concat operation.\n",
      "  consolidated_df = pd.concat([consolidated_df, pd.DataFrame([row_data])], ignore_index=True)\n"
     ]
    },
    {
     "name": "stdout",
     "output_type": "stream",
     "text": [
      "Filtered by frame format for GDDY\n",
      "Filtering columns with >95% empty cells for GDDY\n",
      "Removed sparse columns for GDDY\n",
      "Successfully processed and saved data for GDDY to ./data/clean/GDDY.csv\n",
      "Processing symbol: GS\n",
      "Successfully read data for GS\n",
      "Pivoted data for GS\n"
     ]
    },
    {
     "name": "stderr",
     "output_type": "stream",
     "text": [
      "/var/folders/0w/q70p80s12nz5lpzr087614lw0000gn/T/ipykernel_52557/4138676989.py:41: FutureWarning: The behavior of DataFrame concatenation with empty or all-NA entries is deprecated. In a future version, this will no longer exclude empty or all-NA columns when determining the result dtypes. To retain the old behavior, exclude the relevant entries before the concat operation.\n",
      "  consolidated_df = pd.concat([consolidated_df, pd.DataFrame([row_data])], ignore_index=True)\n"
     ]
    },
    {
     "name": "stdout",
     "output_type": "stream",
     "text": [
      "Filtered by frame format for GS\n",
      "Filtering columns with >95% empty cells for GS\n",
      "Removed sparse columns for GS\n",
      "Successfully processed and saved data for GS to ./data/clean/GS.csv\n",
      "Processing symbol: HAL\n",
      "Successfully read data for HAL\n",
      "Pivoted data for HAL\n"
     ]
    },
    {
     "name": "stderr",
     "output_type": "stream",
     "text": [
      "/var/folders/0w/q70p80s12nz5lpzr087614lw0000gn/T/ipykernel_52557/4138676989.py:41: FutureWarning: The behavior of DataFrame concatenation with empty or all-NA entries is deprecated. In a future version, this will no longer exclude empty or all-NA columns when determining the result dtypes. To retain the old behavior, exclude the relevant entries before the concat operation.\n",
      "  consolidated_df = pd.concat([consolidated_df, pd.DataFrame([row_data])], ignore_index=True)\n"
     ]
    },
    {
     "name": "stdout",
     "output_type": "stream",
     "text": [
      "Filtered by frame format for HAL\n",
      "Filtering columns with >95% empty cells for HAL\n",
      "Removed sparse columns for HAL\n",
      "Successfully processed and saved data for HAL to ./data/clean/HAL.csv\n",
      "Processing symbol: HIG\n",
      "Successfully read data for HIG\n",
      "Pivoted data for HIG\n"
     ]
    },
    {
     "name": "stderr",
     "output_type": "stream",
     "text": [
      "/var/folders/0w/q70p80s12nz5lpzr087614lw0000gn/T/ipykernel_52557/4138676989.py:41: FutureWarning: The behavior of DataFrame concatenation with empty or all-NA entries is deprecated. In a future version, this will no longer exclude empty or all-NA columns when determining the result dtypes. To retain the old behavior, exclude the relevant entries before the concat operation.\n",
      "  consolidated_df = pd.concat([consolidated_df, pd.DataFrame([row_data])], ignore_index=True)\n"
     ]
    },
    {
     "name": "stdout",
     "output_type": "stream",
     "text": [
      "Filtered by frame format for HIG\n",
      "Filtering columns with >95% empty cells for HIG\n",
      "Removed sparse columns for HIG\n",
      "Successfully processed and saved data for HIG to ./data/clean/HIG.csv\n",
      "Processing symbol: HAS\n",
      "Successfully read data for HAS\n",
      "Pivoted data for HAS\n"
     ]
    },
    {
     "name": "stderr",
     "output_type": "stream",
     "text": [
      "/var/folders/0w/q70p80s12nz5lpzr087614lw0000gn/T/ipykernel_52557/4138676989.py:41: FutureWarning: The behavior of DataFrame concatenation with empty or all-NA entries is deprecated. In a future version, this will no longer exclude empty or all-NA columns when determining the result dtypes. To retain the old behavior, exclude the relevant entries before the concat operation.\n",
      "  consolidated_df = pd.concat([consolidated_df, pd.DataFrame([row_data])], ignore_index=True)\n"
     ]
    },
    {
     "name": "stdout",
     "output_type": "stream",
     "text": [
      "Filtered by frame format for HAS\n",
      "Filtering columns with >95% empty cells for HAS\n",
      "Removed sparse columns for HAS\n",
      "Successfully processed and saved data for HAS to ./data/clean/HAS.csv\n",
      "Processing symbol: HCA\n",
      "Successfully read data for HCA\n",
      "Pivoted data for HCA\n"
     ]
    },
    {
     "name": "stderr",
     "output_type": "stream",
     "text": [
      "/var/folders/0w/q70p80s12nz5lpzr087614lw0000gn/T/ipykernel_52557/4138676989.py:41: FutureWarning: The behavior of DataFrame concatenation with empty or all-NA entries is deprecated. In a future version, this will no longer exclude empty or all-NA columns when determining the result dtypes. To retain the old behavior, exclude the relevant entries before the concat operation.\n",
      "  consolidated_df = pd.concat([consolidated_df, pd.DataFrame([row_data])], ignore_index=True)\n"
     ]
    },
    {
     "name": "stdout",
     "output_type": "stream",
     "text": [
      "Filtered by frame format for HCA\n",
      "Filtering columns with >95% empty cells for HCA\n",
      "Removed sparse columns for HCA\n",
      "Successfully processed and saved data for HCA to ./data/clean/HCA.csv\n",
      "Processing symbol: DOC\n",
      "Successfully read data for DOC\n",
      "Pivoted data for DOC\n"
     ]
    },
    {
     "name": "stderr",
     "output_type": "stream",
     "text": [
      "/var/folders/0w/q70p80s12nz5lpzr087614lw0000gn/T/ipykernel_52557/4138676989.py:41: FutureWarning: The behavior of DataFrame concatenation with empty or all-NA entries is deprecated. In a future version, this will no longer exclude empty or all-NA columns when determining the result dtypes. To retain the old behavior, exclude the relevant entries before the concat operation.\n",
      "  consolidated_df = pd.concat([consolidated_df, pd.DataFrame([row_data])], ignore_index=True)\n"
     ]
    },
    {
     "name": "stdout",
     "output_type": "stream",
     "text": [
      "Filtered by frame format for DOC\n",
      "Filtering columns with >95% empty cells for DOC\n",
      "Removed sparse columns for DOC\n",
      "Successfully processed and saved data for DOC to ./data/clean/DOC.csv\n",
      "Processing symbol: HSIC\n",
      "Successfully read data for HSIC\n",
      "Pivoted data for HSIC\n"
     ]
    },
    {
     "name": "stderr",
     "output_type": "stream",
     "text": [
      "/var/folders/0w/q70p80s12nz5lpzr087614lw0000gn/T/ipykernel_52557/4138676989.py:41: FutureWarning: The behavior of DataFrame concatenation with empty or all-NA entries is deprecated. In a future version, this will no longer exclude empty or all-NA columns when determining the result dtypes. To retain the old behavior, exclude the relevant entries before the concat operation.\n",
      "  consolidated_df = pd.concat([consolidated_df, pd.DataFrame([row_data])], ignore_index=True)\n"
     ]
    },
    {
     "name": "stdout",
     "output_type": "stream",
     "text": [
      "Filtered by frame format for HSIC\n",
      "Filtering columns with >95% empty cells for HSIC\n",
      "Removed sparse columns for HSIC\n",
      "Successfully processed and saved data for HSIC to ./data/clean/HSIC.csv\n",
      "Processing symbol: HSY\n",
      "Successfully read data for HSY\n",
      "Pivoted data for HSY\n"
     ]
    },
    {
     "name": "stderr",
     "output_type": "stream",
     "text": [
      "/var/folders/0w/q70p80s12nz5lpzr087614lw0000gn/T/ipykernel_52557/4138676989.py:41: FutureWarning: The behavior of DataFrame concatenation with empty or all-NA entries is deprecated. In a future version, this will no longer exclude empty or all-NA columns when determining the result dtypes. To retain the old behavior, exclude the relevant entries before the concat operation.\n",
      "  consolidated_df = pd.concat([consolidated_df, pd.DataFrame([row_data])], ignore_index=True)\n"
     ]
    },
    {
     "name": "stdout",
     "output_type": "stream",
     "text": [
      "Filtered by frame format for HSY\n",
      "Filtering columns with >95% empty cells for HSY\n",
      "Removed sparse columns for HSY\n",
      "Successfully processed and saved data for HSY to ./data/clean/HSY.csv\n",
      "Processing symbol: HES\n",
      "Successfully read data for HES\n",
      "Pivoted data for HES\n"
     ]
    },
    {
     "name": "stderr",
     "output_type": "stream",
     "text": [
      "/var/folders/0w/q70p80s12nz5lpzr087614lw0000gn/T/ipykernel_52557/4138676989.py:41: FutureWarning: The behavior of DataFrame concatenation with empty or all-NA entries is deprecated. In a future version, this will no longer exclude empty or all-NA columns when determining the result dtypes. To retain the old behavior, exclude the relevant entries before the concat operation.\n",
      "  consolidated_df = pd.concat([consolidated_df, pd.DataFrame([row_data])], ignore_index=True)\n"
     ]
    },
    {
     "name": "stdout",
     "output_type": "stream",
     "text": [
      "Filtered by frame format for HES\n",
      "Filtering columns with >95% empty cells for HES\n",
      "Removed sparse columns for HES\n",
      "Successfully processed and saved data for HES to ./data/clean/HES.csv\n",
      "Processing symbol: HPE\n",
      "Successfully read data for HPE\n",
      "Pivoted data for HPE\n"
     ]
    },
    {
     "name": "stderr",
     "output_type": "stream",
     "text": [
      "/var/folders/0w/q70p80s12nz5lpzr087614lw0000gn/T/ipykernel_52557/4138676989.py:41: FutureWarning: The behavior of DataFrame concatenation with empty or all-NA entries is deprecated. In a future version, this will no longer exclude empty or all-NA columns when determining the result dtypes. To retain the old behavior, exclude the relevant entries before the concat operation.\n",
      "  consolidated_df = pd.concat([consolidated_df, pd.DataFrame([row_data])], ignore_index=True)\n"
     ]
    },
    {
     "name": "stdout",
     "output_type": "stream",
     "text": [
      "Filtered by frame format for HPE\n",
      "Filtering columns with >95% empty cells for HPE\n",
      "Removed sparse columns for HPE\n",
      "Successfully processed and saved data for HPE to ./data/clean/HPE.csv\n",
      "Processing symbol: HLT\n",
      "Successfully read data for HLT\n",
      "Pivoted data for HLT\n"
     ]
    },
    {
     "name": "stderr",
     "output_type": "stream",
     "text": [
      "/var/folders/0w/q70p80s12nz5lpzr087614lw0000gn/T/ipykernel_52557/4138676989.py:41: FutureWarning: The behavior of DataFrame concatenation with empty or all-NA entries is deprecated. In a future version, this will no longer exclude empty or all-NA columns when determining the result dtypes. To retain the old behavior, exclude the relevant entries before the concat operation.\n",
      "  consolidated_df = pd.concat([consolidated_df, pd.DataFrame([row_data])], ignore_index=True)\n"
     ]
    },
    {
     "name": "stdout",
     "output_type": "stream",
     "text": [
      "Filtered by frame format for HLT\n",
      "Filtering columns with >95% empty cells for HLT\n",
      "Removed sparse columns for HLT\n",
      "Successfully processed and saved data for HLT to ./data/clean/HLT.csv\n",
      "Processing symbol: HOLX\n",
      "Successfully read data for HOLX\n",
      "Pivoted data for HOLX\n"
     ]
    },
    {
     "name": "stderr",
     "output_type": "stream",
     "text": [
      "/var/folders/0w/q70p80s12nz5lpzr087614lw0000gn/T/ipykernel_52557/4138676989.py:41: FutureWarning: The behavior of DataFrame concatenation with empty or all-NA entries is deprecated. In a future version, this will no longer exclude empty or all-NA columns when determining the result dtypes. To retain the old behavior, exclude the relevant entries before the concat operation.\n",
      "  consolidated_df = pd.concat([consolidated_df, pd.DataFrame([row_data])], ignore_index=True)\n"
     ]
    },
    {
     "name": "stdout",
     "output_type": "stream",
     "text": [
      "Filtered by frame format for HOLX\n",
      "Filtering columns with >95% empty cells for HOLX\n",
      "Removed sparse columns for HOLX\n",
      "Successfully processed and saved data for HOLX to ./data/clean/HOLX.csv\n",
      "Processing symbol: HD\n",
      "Successfully read data for HD\n",
      "Pivoted data for HD\n"
     ]
    },
    {
     "name": "stderr",
     "output_type": "stream",
     "text": [
      "/var/folders/0w/q70p80s12nz5lpzr087614lw0000gn/T/ipykernel_52557/4138676989.py:41: FutureWarning: The behavior of DataFrame concatenation with empty or all-NA entries is deprecated. In a future version, this will no longer exclude empty or all-NA columns when determining the result dtypes. To retain the old behavior, exclude the relevant entries before the concat operation.\n",
      "  consolidated_df = pd.concat([consolidated_df, pd.DataFrame([row_data])], ignore_index=True)\n"
     ]
    },
    {
     "name": "stdout",
     "output_type": "stream",
     "text": [
      "Filtered by frame format for HD\n",
      "Filtering columns with >95% empty cells for HD\n",
      "Removed sparse columns for HD\n",
      "Successfully processed and saved data for HD to ./data/clean/HD.csv\n",
      "Processing symbol: HON\n",
      "Successfully read data for HON\n",
      "Pivoted data for HON\n"
     ]
    },
    {
     "name": "stderr",
     "output_type": "stream",
     "text": [
      "/var/folders/0w/q70p80s12nz5lpzr087614lw0000gn/T/ipykernel_52557/4138676989.py:41: FutureWarning: The behavior of DataFrame concatenation with empty or all-NA entries is deprecated. In a future version, this will no longer exclude empty or all-NA columns when determining the result dtypes. To retain the old behavior, exclude the relevant entries before the concat operation.\n",
      "  consolidated_df = pd.concat([consolidated_df, pd.DataFrame([row_data])], ignore_index=True)\n"
     ]
    },
    {
     "name": "stdout",
     "output_type": "stream",
     "text": [
      "Filtered by frame format for HON\n",
      "Filtering columns with >95% empty cells for HON\n",
      "Removed sparse columns for HON\n",
      "Successfully processed and saved data for HON to ./data/clean/HON.csv\n",
      "Processing symbol: HRL\n",
      "Successfully read data for HRL\n",
      "Pivoted data for HRL\n"
     ]
    },
    {
     "name": "stderr",
     "output_type": "stream",
     "text": [
      "/var/folders/0w/q70p80s12nz5lpzr087614lw0000gn/T/ipykernel_52557/4138676989.py:41: FutureWarning: The behavior of DataFrame concatenation with empty or all-NA entries is deprecated. In a future version, this will no longer exclude empty or all-NA columns when determining the result dtypes. To retain the old behavior, exclude the relevant entries before the concat operation.\n",
      "  consolidated_df = pd.concat([consolidated_df, pd.DataFrame([row_data])], ignore_index=True)\n"
     ]
    },
    {
     "name": "stdout",
     "output_type": "stream",
     "text": [
      "Filtered by frame format for HRL\n",
      "Filtering columns with >95% empty cells for HRL\n",
      "Removed sparse columns for HRL\n",
      "Successfully processed and saved data for HRL to ./data/clean/HRL.csv\n",
      "Processing symbol: HST\n",
      "Successfully read data for HST\n",
      "Pivoted data for HST\n"
     ]
    },
    {
     "name": "stderr",
     "output_type": "stream",
     "text": [
      "/var/folders/0w/q70p80s12nz5lpzr087614lw0000gn/T/ipykernel_52557/4138676989.py:41: FutureWarning: The behavior of DataFrame concatenation with empty or all-NA entries is deprecated. In a future version, this will no longer exclude empty or all-NA columns when determining the result dtypes. To retain the old behavior, exclude the relevant entries before the concat operation.\n",
      "  consolidated_df = pd.concat([consolidated_df, pd.DataFrame([row_data])], ignore_index=True)\n"
     ]
    },
    {
     "name": "stdout",
     "output_type": "stream",
     "text": [
      "Filtered by frame format for HST\n",
      "Filtering columns with >95% empty cells for HST\n",
      "Removed sparse columns for HST\n",
      "Successfully processed and saved data for HST to ./data/clean/HST.csv\n",
      "Processing symbol: HWM\n",
      "Successfully read data for HWM\n",
      "Pivoted data for HWM\n"
     ]
    },
    {
     "name": "stderr",
     "output_type": "stream",
     "text": [
      "/var/folders/0w/q70p80s12nz5lpzr087614lw0000gn/T/ipykernel_52557/4138676989.py:41: FutureWarning: The behavior of DataFrame concatenation with empty or all-NA entries is deprecated. In a future version, this will no longer exclude empty or all-NA columns when determining the result dtypes. To retain the old behavior, exclude the relevant entries before the concat operation.\n",
      "  consolidated_df = pd.concat([consolidated_df, pd.DataFrame([row_data])], ignore_index=True)\n"
     ]
    },
    {
     "name": "stdout",
     "output_type": "stream",
     "text": [
      "Filtered by frame format for HWM\n",
      "Filtering columns with >95% empty cells for HWM\n",
      "Removed sparse columns for HWM\n",
      "Successfully processed and saved data for HWM to ./data/clean/HWM.csv\n",
      "Processing symbol: HPQ\n",
      "Successfully read data for HPQ\n",
      "Pivoted data for HPQ\n"
     ]
    },
    {
     "name": "stderr",
     "output_type": "stream",
     "text": [
      "/var/folders/0w/q70p80s12nz5lpzr087614lw0000gn/T/ipykernel_52557/4138676989.py:41: FutureWarning: The behavior of DataFrame concatenation with empty or all-NA entries is deprecated. In a future version, this will no longer exclude empty or all-NA columns when determining the result dtypes. To retain the old behavior, exclude the relevant entries before the concat operation.\n",
      "  consolidated_df = pd.concat([consolidated_df, pd.DataFrame([row_data])], ignore_index=True)\n"
     ]
    },
    {
     "name": "stdout",
     "output_type": "stream",
     "text": [
      "Filtered by frame format for HPQ\n",
      "Filtering columns with >95% empty cells for HPQ\n",
      "Removed sparse columns for HPQ\n",
      "Successfully processed and saved data for HPQ to ./data/clean/HPQ.csv\n",
      "Processing symbol: HUBB\n",
      "Successfully read data for HUBB\n",
      "Pivoted data for HUBB\n"
     ]
    },
    {
     "name": "stderr",
     "output_type": "stream",
     "text": [
      "/var/folders/0w/q70p80s12nz5lpzr087614lw0000gn/T/ipykernel_52557/4138676989.py:41: FutureWarning: The behavior of DataFrame concatenation with empty or all-NA entries is deprecated. In a future version, this will no longer exclude empty or all-NA columns when determining the result dtypes. To retain the old behavior, exclude the relevant entries before the concat operation.\n",
      "  consolidated_df = pd.concat([consolidated_df, pd.DataFrame([row_data])], ignore_index=True)\n"
     ]
    },
    {
     "name": "stdout",
     "output_type": "stream",
     "text": [
      "Filtered by frame format for HUBB\n",
      "Filtering columns with >95% empty cells for HUBB\n",
      "Removed sparse columns for HUBB\n",
      "Successfully processed and saved data for HUBB to ./data/clean/HUBB.csv\n",
      "Processing symbol: HUM\n",
      "Successfully read data for HUM\n",
      "Pivoted data for HUM\n"
     ]
    },
    {
     "name": "stderr",
     "output_type": "stream",
     "text": [
      "/var/folders/0w/q70p80s12nz5lpzr087614lw0000gn/T/ipykernel_52557/4138676989.py:41: FutureWarning: The behavior of DataFrame concatenation with empty or all-NA entries is deprecated. In a future version, this will no longer exclude empty or all-NA columns when determining the result dtypes. To retain the old behavior, exclude the relevant entries before the concat operation.\n",
      "  consolidated_df = pd.concat([consolidated_df, pd.DataFrame([row_data])], ignore_index=True)\n"
     ]
    },
    {
     "name": "stdout",
     "output_type": "stream",
     "text": [
      "Filtered by frame format for HUM\n",
      "Filtering columns with >95% empty cells for HUM\n",
      "Removed sparse columns for HUM\n",
      "Successfully processed and saved data for HUM to ./data/clean/HUM.csv\n",
      "Processing symbol: HBAN\n",
      "Successfully read data for HBAN\n",
      "Pivoted data for HBAN\n"
     ]
    },
    {
     "name": "stderr",
     "output_type": "stream",
     "text": [
      "/var/folders/0w/q70p80s12nz5lpzr087614lw0000gn/T/ipykernel_52557/4138676989.py:41: FutureWarning: The behavior of DataFrame concatenation with empty or all-NA entries is deprecated. In a future version, this will no longer exclude empty or all-NA columns when determining the result dtypes. To retain the old behavior, exclude the relevant entries before the concat operation.\n",
      "  consolidated_df = pd.concat([consolidated_df, pd.DataFrame([row_data])], ignore_index=True)\n"
     ]
    },
    {
     "name": "stdout",
     "output_type": "stream",
     "text": [
      "Filtered by frame format for HBAN\n",
      "Filtering columns with >95% empty cells for HBAN\n",
      "Removed sparse columns for HBAN\n",
      "Successfully processed and saved data for HBAN to ./data/clean/HBAN.csv\n",
      "Processing symbol: HII\n",
      "Successfully read data for HII\n",
      "Pivoted data for HII\n"
     ]
    },
    {
     "name": "stderr",
     "output_type": "stream",
     "text": [
      "/var/folders/0w/q70p80s12nz5lpzr087614lw0000gn/T/ipykernel_52557/4138676989.py:41: FutureWarning: The behavior of DataFrame concatenation with empty or all-NA entries is deprecated. In a future version, this will no longer exclude empty or all-NA columns when determining the result dtypes. To retain the old behavior, exclude the relevant entries before the concat operation.\n",
      "  consolidated_df = pd.concat([consolidated_df, pd.DataFrame([row_data])], ignore_index=True)\n"
     ]
    },
    {
     "name": "stdout",
     "output_type": "stream",
     "text": [
      "Filtered by frame format for HII\n",
      "Filtering columns with >95% empty cells for HII\n",
      "Removed sparse columns for HII\n",
      "Successfully processed and saved data for HII to ./data/clean/HII.csv\n",
      "Processing symbol: IBM\n",
      "Successfully read data for IBM\n",
      "Pivoted data for IBM\n"
     ]
    },
    {
     "name": "stderr",
     "output_type": "stream",
     "text": [
      "/var/folders/0w/q70p80s12nz5lpzr087614lw0000gn/T/ipykernel_52557/4138676989.py:41: FutureWarning: The behavior of DataFrame concatenation with empty or all-NA entries is deprecated. In a future version, this will no longer exclude empty or all-NA columns when determining the result dtypes. To retain the old behavior, exclude the relevant entries before the concat operation.\n",
      "  consolidated_df = pd.concat([consolidated_df, pd.DataFrame([row_data])], ignore_index=True)\n"
     ]
    },
    {
     "name": "stdout",
     "output_type": "stream",
     "text": [
      "Filtered by frame format for IBM\n",
      "Filtering columns with >95% empty cells for IBM\n",
      "Removed sparse columns for IBM\n",
      "Successfully processed and saved data for IBM to ./data/clean/IBM.csv\n",
      "Processing symbol: IEX\n",
      "Successfully read data for IEX\n",
      "Pivoted data for IEX\n"
     ]
    },
    {
     "name": "stderr",
     "output_type": "stream",
     "text": [
      "/var/folders/0w/q70p80s12nz5lpzr087614lw0000gn/T/ipykernel_52557/4138676989.py:41: FutureWarning: The behavior of DataFrame concatenation with empty or all-NA entries is deprecated. In a future version, this will no longer exclude empty or all-NA columns when determining the result dtypes. To retain the old behavior, exclude the relevant entries before the concat operation.\n",
      "  consolidated_df = pd.concat([consolidated_df, pd.DataFrame([row_data])], ignore_index=True)\n"
     ]
    },
    {
     "name": "stdout",
     "output_type": "stream",
     "text": [
      "Filtered by frame format for IEX\n",
      "Filtering columns with >95% empty cells for IEX\n",
      "Removed sparse columns for IEX\n",
      "Successfully processed and saved data for IEX to ./data/clean/IEX.csv\n",
      "Processing symbol: IDXX\n",
      "Successfully read data for IDXX\n",
      "Pivoted data for IDXX\n"
     ]
    },
    {
     "name": "stderr",
     "output_type": "stream",
     "text": [
      "/var/folders/0w/q70p80s12nz5lpzr087614lw0000gn/T/ipykernel_52557/4138676989.py:41: FutureWarning: The behavior of DataFrame concatenation with empty or all-NA entries is deprecated. In a future version, this will no longer exclude empty or all-NA columns when determining the result dtypes. To retain the old behavior, exclude the relevant entries before the concat operation.\n",
      "  consolidated_df = pd.concat([consolidated_df, pd.DataFrame([row_data])], ignore_index=True)\n"
     ]
    },
    {
     "name": "stdout",
     "output_type": "stream",
     "text": [
      "Filtered by frame format for IDXX\n",
      "Filtering columns with >95% empty cells for IDXX\n",
      "Removed sparse columns for IDXX\n",
      "Successfully processed and saved data for IDXX to ./data/clean/IDXX.csv\n",
      "Processing symbol: ITW\n",
      "Successfully read data for ITW\n",
      "Pivoted data for ITW\n"
     ]
    },
    {
     "name": "stderr",
     "output_type": "stream",
     "text": [
      "/var/folders/0w/q70p80s12nz5lpzr087614lw0000gn/T/ipykernel_52557/4138676989.py:41: FutureWarning: The behavior of DataFrame concatenation with empty or all-NA entries is deprecated. In a future version, this will no longer exclude empty or all-NA columns when determining the result dtypes. To retain the old behavior, exclude the relevant entries before the concat operation.\n",
      "  consolidated_df = pd.concat([consolidated_df, pd.DataFrame([row_data])], ignore_index=True)\n"
     ]
    },
    {
     "name": "stdout",
     "output_type": "stream",
     "text": [
      "Filtered by frame format for ITW\n",
      "Filtering columns with >95% empty cells for ITW\n",
      "Removed sparse columns for ITW\n",
      "Successfully processed and saved data for ITW to ./data/clean/ITW.csv\n",
      "Processing symbol: INCY\n",
      "Successfully read data for INCY\n",
      "Pivoted data for INCY\n"
     ]
    },
    {
     "name": "stderr",
     "output_type": "stream",
     "text": [
      "/var/folders/0w/q70p80s12nz5lpzr087614lw0000gn/T/ipykernel_52557/4138676989.py:41: FutureWarning: The behavior of DataFrame concatenation with empty or all-NA entries is deprecated. In a future version, this will no longer exclude empty or all-NA columns when determining the result dtypes. To retain the old behavior, exclude the relevant entries before the concat operation.\n",
      "  consolidated_df = pd.concat([consolidated_df, pd.DataFrame([row_data])], ignore_index=True)\n"
     ]
    },
    {
     "name": "stdout",
     "output_type": "stream",
     "text": [
      "Filtered by frame format for INCY\n",
      "Filtering columns with >95% empty cells for INCY\n",
      "Removed sparse columns for INCY\n",
      "Successfully processed and saved data for INCY to ./data/clean/INCY.csv\n",
      "Processing symbol: IR\n",
      "Successfully read data for IR\n",
      "Pivoted data for IR\n"
     ]
    },
    {
     "name": "stderr",
     "output_type": "stream",
     "text": [
      "/var/folders/0w/q70p80s12nz5lpzr087614lw0000gn/T/ipykernel_52557/4138676989.py:41: FutureWarning: The behavior of DataFrame concatenation with empty or all-NA entries is deprecated. In a future version, this will no longer exclude empty or all-NA columns when determining the result dtypes. To retain the old behavior, exclude the relevant entries before the concat operation.\n",
      "  consolidated_df = pd.concat([consolidated_df, pd.DataFrame([row_data])], ignore_index=True)\n"
     ]
    },
    {
     "name": "stdout",
     "output_type": "stream",
     "text": [
      "Filtered by frame format for IR\n",
      "Filtering columns with >95% empty cells for IR\n",
      "Removed sparse columns for IR\n",
      "Successfully processed and saved data for IR to ./data/clean/IR.csv\n",
      "Processing symbol: PODD\n",
      "Successfully read data for PODD\n",
      "Pivoted data for PODD\n"
     ]
    },
    {
     "name": "stderr",
     "output_type": "stream",
     "text": [
      "/var/folders/0w/q70p80s12nz5lpzr087614lw0000gn/T/ipykernel_52557/4138676989.py:41: FutureWarning: The behavior of DataFrame concatenation with empty or all-NA entries is deprecated. In a future version, this will no longer exclude empty or all-NA columns when determining the result dtypes. To retain the old behavior, exclude the relevant entries before the concat operation.\n",
      "  consolidated_df = pd.concat([consolidated_df, pd.DataFrame([row_data])], ignore_index=True)\n"
     ]
    },
    {
     "name": "stdout",
     "output_type": "stream",
     "text": [
      "Filtered by frame format for PODD\n",
      "Filtering columns with >95% empty cells for PODD\n",
      "Removed sparse columns for PODD\n",
      "Successfully processed and saved data for PODD to ./data/clean/PODD.csv\n",
      "Processing symbol: INTC\n",
      "Successfully read data for INTC\n",
      "Pivoted data for INTC\n"
     ]
    },
    {
     "name": "stderr",
     "output_type": "stream",
     "text": [
      "/var/folders/0w/q70p80s12nz5lpzr087614lw0000gn/T/ipykernel_52557/4138676989.py:41: FutureWarning: The behavior of DataFrame concatenation with empty or all-NA entries is deprecated. In a future version, this will no longer exclude empty or all-NA columns when determining the result dtypes. To retain the old behavior, exclude the relevant entries before the concat operation.\n",
      "  consolidated_df = pd.concat([consolidated_df, pd.DataFrame([row_data])], ignore_index=True)\n"
     ]
    },
    {
     "name": "stdout",
     "output_type": "stream",
     "text": [
      "Filtered by frame format for INTC\n",
      "Filtering columns with >95% empty cells for INTC\n",
      "Removed sparse columns for INTC\n",
      "Successfully processed and saved data for INTC to ./data/clean/INTC.csv\n",
      "Processing symbol: ICE\n",
      "Successfully read data for ICE\n",
      "Pivoted data for ICE\n"
     ]
    },
    {
     "name": "stderr",
     "output_type": "stream",
     "text": [
      "/var/folders/0w/q70p80s12nz5lpzr087614lw0000gn/T/ipykernel_52557/4138676989.py:41: FutureWarning: The behavior of DataFrame concatenation with empty or all-NA entries is deprecated. In a future version, this will no longer exclude empty or all-NA columns when determining the result dtypes. To retain the old behavior, exclude the relevant entries before the concat operation.\n",
      "  consolidated_df = pd.concat([consolidated_df, pd.DataFrame([row_data])], ignore_index=True)\n"
     ]
    },
    {
     "name": "stdout",
     "output_type": "stream",
     "text": [
      "Filtered by frame format for ICE\n",
      "Filtering columns with >95% empty cells for ICE\n",
      "Removed sparse columns for ICE\n",
      "Successfully processed and saved data for ICE to ./data/clean/ICE.csv\n",
      "Processing symbol: IFF\n",
      "Successfully read data for IFF\n",
      "Pivoted data for IFF\n"
     ]
    },
    {
     "name": "stderr",
     "output_type": "stream",
     "text": [
      "/var/folders/0w/q70p80s12nz5lpzr087614lw0000gn/T/ipykernel_52557/4138676989.py:41: FutureWarning: The behavior of DataFrame concatenation with empty or all-NA entries is deprecated. In a future version, this will no longer exclude empty or all-NA columns when determining the result dtypes. To retain the old behavior, exclude the relevant entries before the concat operation.\n",
      "  consolidated_df = pd.concat([consolidated_df, pd.DataFrame([row_data])], ignore_index=True)\n"
     ]
    },
    {
     "name": "stdout",
     "output_type": "stream",
     "text": [
      "Filtered by frame format for IFF\n",
      "Filtering columns with >95% empty cells for IFF\n",
      "Removed sparse columns for IFF\n",
      "Successfully processed and saved data for IFF to ./data/clean/IFF.csv\n",
      "Processing symbol: IP\n",
      "Successfully read data for IP\n",
      "Pivoted data for IP\n"
     ]
    },
    {
     "name": "stderr",
     "output_type": "stream",
     "text": [
      "/var/folders/0w/q70p80s12nz5lpzr087614lw0000gn/T/ipykernel_52557/4138676989.py:41: FutureWarning: The behavior of DataFrame concatenation with empty or all-NA entries is deprecated. In a future version, this will no longer exclude empty or all-NA columns when determining the result dtypes. To retain the old behavior, exclude the relevant entries before the concat operation.\n",
      "  consolidated_df = pd.concat([consolidated_df, pd.DataFrame([row_data])], ignore_index=True)\n"
     ]
    },
    {
     "name": "stdout",
     "output_type": "stream",
     "text": [
      "Filtered by frame format for IP\n",
      "Filtering columns with >95% empty cells for IP\n",
      "Removed sparse columns for IP\n",
      "Successfully processed and saved data for IP to ./data/clean/IP.csv\n",
      "Processing symbol: IPG\n",
      "Successfully read data for IPG\n",
      "Pivoted data for IPG\n"
     ]
    },
    {
     "name": "stderr",
     "output_type": "stream",
     "text": [
      "/var/folders/0w/q70p80s12nz5lpzr087614lw0000gn/T/ipykernel_52557/4138676989.py:41: FutureWarning: The behavior of DataFrame concatenation with empty or all-NA entries is deprecated. In a future version, this will no longer exclude empty or all-NA columns when determining the result dtypes. To retain the old behavior, exclude the relevant entries before the concat operation.\n",
      "  consolidated_df = pd.concat([consolidated_df, pd.DataFrame([row_data])], ignore_index=True)\n"
     ]
    },
    {
     "name": "stdout",
     "output_type": "stream",
     "text": [
      "Filtered by frame format for IPG\n",
      "Filtering columns with >95% empty cells for IPG\n",
      "Removed sparse columns for IPG\n",
      "Successfully processed and saved data for IPG to ./data/clean/IPG.csv\n",
      "Processing symbol: INTU\n",
      "Successfully read data for INTU\n",
      "Pivoted data for INTU\n"
     ]
    },
    {
     "name": "stderr",
     "output_type": "stream",
     "text": [
      "/var/folders/0w/q70p80s12nz5lpzr087614lw0000gn/T/ipykernel_52557/4138676989.py:41: FutureWarning: The behavior of DataFrame concatenation with empty or all-NA entries is deprecated. In a future version, this will no longer exclude empty or all-NA columns when determining the result dtypes. To retain the old behavior, exclude the relevant entries before the concat operation.\n",
      "  consolidated_df = pd.concat([consolidated_df, pd.DataFrame([row_data])], ignore_index=True)\n"
     ]
    },
    {
     "name": "stdout",
     "output_type": "stream",
     "text": [
      "Filtered by frame format for INTU\n",
      "Filtering columns with >95% empty cells for INTU\n",
      "Removed sparse columns for INTU\n",
      "Successfully processed and saved data for INTU to ./data/clean/INTU.csv\n",
      "Processing symbol: ISRG\n",
      "Successfully read data for ISRG\n",
      "Pivoted data for ISRG\n"
     ]
    },
    {
     "name": "stderr",
     "output_type": "stream",
     "text": [
      "/var/folders/0w/q70p80s12nz5lpzr087614lw0000gn/T/ipykernel_52557/4138676989.py:41: FutureWarning: The behavior of DataFrame concatenation with empty or all-NA entries is deprecated. In a future version, this will no longer exclude empty or all-NA columns when determining the result dtypes. To retain the old behavior, exclude the relevant entries before the concat operation.\n",
      "  consolidated_df = pd.concat([consolidated_df, pd.DataFrame([row_data])], ignore_index=True)\n"
     ]
    },
    {
     "name": "stdout",
     "output_type": "stream",
     "text": [
      "Filtered by frame format for ISRG\n",
      "Filtering columns with >95% empty cells for ISRG\n",
      "Removed sparse columns for ISRG\n",
      "Successfully processed and saved data for ISRG to ./data/clean/ISRG.csv\n",
      "Processing symbol: IVZ\n",
      "Successfully read data for IVZ\n",
      "Pivoted data for IVZ\n"
     ]
    },
    {
     "name": "stderr",
     "output_type": "stream",
     "text": [
      "/var/folders/0w/q70p80s12nz5lpzr087614lw0000gn/T/ipykernel_52557/4138676989.py:41: FutureWarning: The behavior of DataFrame concatenation with empty or all-NA entries is deprecated. In a future version, this will no longer exclude empty or all-NA columns when determining the result dtypes. To retain the old behavior, exclude the relevant entries before the concat operation.\n",
      "  consolidated_df = pd.concat([consolidated_df, pd.DataFrame([row_data])], ignore_index=True)\n"
     ]
    },
    {
     "name": "stdout",
     "output_type": "stream",
     "text": [
      "Filtered by frame format for IVZ\n",
      "Filtering columns with >95% empty cells for IVZ\n",
      "Removed sparse columns for IVZ\n",
      "Successfully processed and saved data for IVZ to ./data/clean/IVZ.csv\n",
      "Processing symbol: INVH\n",
      "Successfully read data for INVH\n",
      "Pivoted data for INVH\n"
     ]
    },
    {
     "name": "stderr",
     "output_type": "stream",
     "text": [
      "/var/folders/0w/q70p80s12nz5lpzr087614lw0000gn/T/ipykernel_52557/4138676989.py:41: FutureWarning: The behavior of DataFrame concatenation with empty or all-NA entries is deprecated. In a future version, this will no longer exclude empty or all-NA columns when determining the result dtypes. To retain the old behavior, exclude the relevant entries before the concat operation.\n",
      "  consolidated_df = pd.concat([consolidated_df, pd.DataFrame([row_data])], ignore_index=True)\n"
     ]
    },
    {
     "name": "stdout",
     "output_type": "stream",
     "text": [
      "Filtered by frame format for INVH\n",
      "Filtering columns with >95% empty cells for INVH\n",
      "Removed sparse columns for INVH\n",
      "Successfully processed and saved data for INVH to ./data/clean/INVH.csv\n",
      "Processing symbol: IQV\n",
      "Successfully read data for IQV\n",
      "Pivoted data for IQV\n"
     ]
    },
    {
     "name": "stderr",
     "output_type": "stream",
     "text": [
      "/var/folders/0w/q70p80s12nz5lpzr087614lw0000gn/T/ipykernel_52557/4138676989.py:41: FutureWarning: The behavior of DataFrame concatenation with empty or all-NA entries is deprecated. In a future version, this will no longer exclude empty or all-NA columns when determining the result dtypes. To retain the old behavior, exclude the relevant entries before the concat operation.\n",
      "  consolidated_df = pd.concat([consolidated_df, pd.DataFrame([row_data])], ignore_index=True)\n"
     ]
    },
    {
     "name": "stdout",
     "output_type": "stream",
     "text": [
      "Filtered by frame format for IQV\n",
      "Filtering columns with >95% empty cells for IQV\n",
      "Removed sparse columns for IQV\n",
      "Successfully processed and saved data for IQV to ./data/clean/IQV.csv\n",
      "Processing symbol: IRM\n",
      "Successfully read data for IRM\n",
      "Pivoted data for IRM\n"
     ]
    },
    {
     "name": "stderr",
     "output_type": "stream",
     "text": [
      "/var/folders/0w/q70p80s12nz5lpzr087614lw0000gn/T/ipykernel_52557/4138676989.py:41: FutureWarning: The behavior of DataFrame concatenation with empty or all-NA entries is deprecated. In a future version, this will no longer exclude empty or all-NA columns when determining the result dtypes. To retain the old behavior, exclude the relevant entries before the concat operation.\n",
      "  consolidated_df = pd.concat([consolidated_df, pd.DataFrame([row_data])], ignore_index=True)\n"
     ]
    },
    {
     "name": "stdout",
     "output_type": "stream",
     "text": [
      "Filtered by frame format for IRM\n",
      "Filtering columns with >95% empty cells for IRM\n",
      "Removed sparse columns for IRM\n",
      "Successfully processed and saved data for IRM to ./data/clean/IRM.csv\n",
      "Processing symbol: JBHT\n",
      "Successfully read data for JBHT\n",
      "Pivoted data for JBHT\n"
     ]
    },
    {
     "name": "stderr",
     "output_type": "stream",
     "text": [
      "/var/folders/0w/q70p80s12nz5lpzr087614lw0000gn/T/ipykernel_52557/4138676989.py:41: FutureWarning: The behavior of DataFrame concatenation with empty or all-NA entries is deprecated. In a future version, this will no longer exclude empty or all-NA columns when determining the result dtypes. To retain the old behavior, exclude the relevant entries before the concat operation.\n",
      "  consolidated_df = pd.concat([consolidated_df, pd.DataFrame([row_data])], ignore_index=True)\n"
     ]
    },
    {
     "name": "stdout",
     "output_type": "stream",
     "text": [
      "Filtered by frame format for JBHT\n",
      "Filtering columns with >95% empty cells for JBHT\n",
      "Removed sparse columns for JBHT\n",
      "Successfully processed and saved data for JBHT to ./data/clean/JBHT.csv\n",
      "Processing symbol: JBL\n",
      "Successfully read data for JBL\n",
      "Pivoted data for JBL\n"
     ]
    },
    {
     "name": "stderr",
     "output_type": "stream",
     "text": [
      "/var/folders/0w/q70p80s12nz5lpzr087614lw0000gn/T/ipykernel_52557/4138676989.py:41: FutureWarning: The behavior of DataFrame concatenation with empty or all-NA entries is deprecated. In a future version, this will no longer exclude empty or all-NA columns when determining the result dtypes. To retain the old behavior, exclude the relevant entries before the concat operation.\n",
      "  consolidated_df = pd.concat([consolidated_df, pd.DataFrame([row_data])], ignore_index=True)\n"
     ]
    },
    {
     "name": "stdout",
     "output_type": "stream",
     "text": [
      "Filtered by frame format for JBL\n",
      "Filtering columns with >95% empty cells for JBL\n",
      "Removed sparse columns for JBL\n",
      "Successfully processed and saved data for JBL to ./data/clean/JBL.csv\n",
      "Processing symbol: JKHY\n",
      "Successfully read data for JKHY\n",
      "Pivoted data for JKHY\n"
     ]
    },
    {
     "name": "stderr",
     "output_type": "stream",
     "text": [
      "/var/folders/0w/q70p80s12nz5lpzr087614lw0000gn/T/ipykernel_52557/4138676989.py:41: FutureWarning: The behavior of DataFrame concatenation with empty or all-NA entries is deprecated. In a future version, this will no longer exclude empty or all-NA columns when determining the result dtypes. To retain the old behavior, exclude the relevant entries before the concat operation.\n",
      "  consolidated_df = pd.concat([consolidated_df, pd.DataFrame([row_data])], ignore_index=True)\n"
     ]
    },
    {
     "name": "stdout",
     "output_type": "stream",
     "text": [
      "Filtered by frame format for JKHY\n",
      "Filtering columns with >95% empty cells for JKHY\n",
      "Removed sparse columns for JKHY\n",
      "Successfully processed and saved data for JKHY to ./data/clean/JKHY.csv\n",
      "Processing symbol: J\n",
      "Successfully read data for J\n",
      "Pivoted data for J\n"
     ]
    },
    {
     "name": "stderr",
     "output_type": "stream",
     "text": [
      "/var/folders/0w/q70p80s12nz5lpzr087614lw0000gn/T/ipykernel_52557/4138676989.py:41: FutureWarning: The behavior of DataFrame concatenation with empty or all-NA entries is deprecated. In a future version, this will no longer exclude empty or all-NA columns when determining the result dtypes. To retain the old behavior, exclude the relevant entries before the concat operation.\n",
      "  consolidated_df = pd.concat([consolidated_df, pd.DataFrame([row_data])], ignore_index=True)\n"
     ]
    },
    {
     "name": "stdout",
     "output_type": "stream",
     "text": [
      "Filtered by frame format for J\n",
      "Filtering columns with >95% empty cells for J\n",
      "Removed sparse columns for J\n",
      "Successfully processed and saved data for J to ./data/clean/J.csv\n",
      "Processing symbol: JNJ\n",
      "Successfully read data for JNJ\n",
      "Pivoted data for JNJ\n"
     ]
    },
    {
     "name": "stderr",
     "output_type": "stream",
     "text": [
      "/var/folders/0w/q70p80s12nz5lpzr087614lw0000gn/T/ipykernel_52557/4138676989.py:41: FutureWarning: The behavior of DataFrame concatenation with empty or all-NA entries is deprecated. In a future version, this will no longer exclude empty or all-NA columns when determining the result dtypes. To retain the old behavior, exclude the relevant entries before the concat operation.\n",
      "  consolidated_df = pd.concat([consolidated_df, pd.DataFrame([row_data])], ignore_index=True)\n"
     ]
    },
    {
     "name": "stdout",
     "output_type": "stream",
     "text": [
      "Filtered by frame format for JNJ\n",
      "Filtering columns with >95% empty cells for JNJ\n",
      "Removed sparse columns for JNJ\n",
      "Successfully processed and saved data for JNJ to ./data/clean/JNJ.csv\n",
      "Processing symbol: JCI\n",
      "Successfully read data for JCI\n",
      "Pivoted data for JCI\n"
     ]
    },
    {
     "name": "stderr",
     "output_type": "stream",
     "text": [
      "/var/folders/0w/q70p80s12nz5lpzr087614lw0000gn/T/ipykernel_52557/4138676989.py:41: FutureWarning: The behavior of DataFrame concatenation with empty or all-NA entries is deprecated. In a future version, this will no longer exclude empty or all-NA columns when determining the result dtypes. To retain the old behavior, exclude the relevant entries before the concat operation.\n",
      "  consolidated_df = pd.concat([consolidated_df, pd.DataFrame([row_data])], ignore_index=True)\n"
     ]
    },
    {
     "name": "stdout",
     "output_type": "stream",
     "text": [
      "Filtered by frame format for JCI\n",
      "Filtering columns with >95% empty cells for JCI\n",
      "Removed sparse columns for JCI\n",
      "Successfully processed and saved data for JCI to ./data/clean/JCI.csv\n",
      "Processing symbol: JPM\n",
      "Successfully read data for JPM\n",
      "Pivoted data for JPM\n"
     ]
    },
    {
     "name": "stderr",
     "output_type": "stream",
     "text": [
      "/var/folders/0w/q70p80s12nz5lpzr087614lw0000gn/T/ipykernel_52557/4138676989.py:41: FutureWarning: The behavior of DataFrame concatenation with empty or all-NA entries is deprecated. In a future version, this will no longer exclude empty or all-NA columns when determining the result dtypes. To retain the old behavior, exclude the relevant entries before the concat operation.\n",
      "  consolidated_df = pd.concat([consolidated_df, pd.DataFrame([row_data])], ignore_index=True)\n"
     ]
    },
    {
     "name": "stdout",
     "output_type": "stream",
     "text": [
      "Filtered by frame format for JPM\n",
      "Filtering columns with >95% empty cells for JPM\n",
      "Removed sparse columns for JPM\n",
      "Successfully processed and saved data for JPM to ./data/clean/JPM.csv\n",
      "Processing symbol: JNPR\n",
      "Successfully read data for JNPR\n",
      "Pivoted data for JNPR\n"
     ]
    },
    {
     "name": "stderr",
     "output_type": "stream",
     "text": [
      "/var/folders/0w/q70p80s12nz5lpzr087614lw0000gn/T/ipykernel_52557/4138676989.py:41: FutureWarning: The behavior of DataFrame concatenation with empty or all-NA entries is deprecated. In a future version, this will no longer exclude empty or all-NA columns when determining the result dtypes. To retain the old behavior, exclude the relevant entries before the concat operation.\n",
      "  consolidated_df = pd.concat([consolidated_df, pd.DataFrame([row_data])], ignore_index=True)\n"
     ]
    },
    {
     "name": "stdout",
     "output_type": "stream",
     "text": [
      "Filtered by frame format for JNPR\n",
      "Filtering columns with >95% empty cells for JNPR\n",
      "Removed sparse columns for JNPR\n",
      "Successfully processed and saved data for JNPR to ./data/clean/JNPR.csv\n",
      "Processing symbol: K\n",
      "Successfully read data for K\n",
      "Pivoted data for K\n"
     ]
    },
    {
     "name": "stderr",
     "output_type": "stream",
     "text": [
      "/var/folders/0w/q70p80s12nz5lpzr087614lw0000gn/T/ipykernel_52557/4138676989.py:41: FutureWarning: The behavior of DataFrame concatenation with empty or all-NA entries is deprecated. In a future version, this will no longer exclude empty or all-NA columns when determining the result dtypes. To retain the old behavior, exclude the relevant entries before the concat operation.\n",
      "  consolidated_df = pd.concat([consolidated_df, pd.DataFrame([row_data])], ignore_index=True)\n"
     ]
    },
    {
     "name": "stdout",
     "output_type": "stream",
     "text": [
      "Filtered by frame format for K\n",
      "Filtering columns with >95% empty cells for K\n",
      "Removed sparse columns for K\n",
      "Successfully processed and saved data for K to ./data/clean/K.csv\n",
      "Processing symbol: KVUE\n",
      "Successfully read data for KVUE\n",
      "Pivoted data for KVUE\n"
     ]
    },
    {
     "name": "stderr",
     "output_type": "stream",
     "text": [
      "/var/folders/0w/q70p80s12nz5lpzr087614lw0000gn/T/ipykernel_52557/4138676989.py:41: FutureWarning: The behavior of DataFrame concatenation with empty or all-NA entries is deprecated. In a future version, this will no longer exclude empty or all-NA columns when determining the result dtypes. To retain the old behavior, exclude the relevant entries before the concat operation.\n",
      "  consolidated_df = pd.concat([consolidated_df, pd.DataFrame([row_data])], ignore_index=True)\n"
     ]
    },
    {
     "name": "stdout",
     "output_type": "stream",
     "text": [
      "Filtered by frame format for KVUE\n",
      "Filtering columns with >95% empty cells for KVUE\n",
      "Removed sparse columns for KVUE\n",
      "Successfully processed and saved data for KVUE to ./data/clean/KVUE.csv\n",
      "Processing symbol: KDP\n",
      "Successfully read data for KDP\n",
      "Pivoted data for KDP\n"
     ]
    },
    {
     "name": "stderr",
     "output_type": "stream",
     "text": [
      "/var/folders/0w/q70p80s12nz5lpzr087614lw0000gn/T/ipykernel_52557/4138676989.py:41: FutureWarning: The behavior of DataFrame concatenation with empty or all-NA entries is deprecated. In a future version, this will no longer exclude empty or all-NA columns when determining the result dtypes. To retain the old behavior, exclude the relevant entries before the concat operation.\n",
      "  consolidated_df = pd.concat([consolidated_df, pd.DataFrame([row_data])], ignore_index=True)\n"
     ]
    },
    {
     "name": "stdout",
     "output_type": "stream",
     "text": [
      "Filtered by frame format for KDP\n",
      "Filtering columns with >95% empty cells for KDP\n",
      "Removed sparse columns for KDP\n",
      "Successfully processed and saved data for KDP to ./data/clean/KDP.csv\n",
      "Processing symbol: KEY\n",
      "Successfully read data for KEY\n",
      "Pivoted data for KEY\n"
     ]
    },
    {
     "name": "stderr",
     "output_type": "stream",
     "text": [
      "/var/folders/0w/q70p80s12nz5lpzr087614lw0000gn/T/ipykernel_52557/4138676989.py:41: FutureWarning: The behavior of DataFrame concatenation with empty or all-NA entries is deprecated. In a future version, this will no longer exclude empty or all-NA columns when determining the result dtypes. To retain the old behavior, exclude the relevant entries before the concat operation.\n",
      "  consolidated_df = pd.concat([consolidated_df, pd.DataFrame([row_data])], ignore_index=True)\n"
     ]
    },
    {
     "name": "stdout",
     "output_type": "stream",
     "text": [
      "Filtered by frame format for KEY\n",
      "Filtering columns with >95% empty cells for KEY\n",
      "Removed sparse columns for KEY\n",
      "Successfully processed and saved data for KEY to ./data/clean/KEY.csv\n",
      "Processing symbol: KEYS\n",
      "Successfully read data for KEYS\n",
      "Pivoted data for KEYS\n"
     ]
    },
    {
     "name": "stderr",
     "output_type": "stream",
     "text": [
      "/var/folders/0w/q70p80s12nz5lpzr087614lw0000gn/T/ipykernel_52557/4138676989.py:41: FutureWarning: The behavior of DataFrame concatenation with empty or all-NA entries is deprecated. In a future version, this will no longer exclude empty or all-NA columns when determining the result dtypes. To retain the old behavior, exclude the relevant entries before the concat operation.\n",
      "  consolidated_df = pd.concat([consolidated_df, pd.DataFrame([row_data])], ignore_index=True)\n"
     ]
    },
    {
     "name": "stdout",
     "output_type": "stream",
     "text": [
      "Filtered by frame format for KEYS\n",
      "Filtering columns with >95% empty cells for KEYS\n",
      "Removed sparse columns for KEYS\n",
      "Successfully processed and saved data for KEYS to ./data/clean/KEYS.csv\n",
      "Processing symbol: KMB\n",
      "Successfully read data for KMB\n",
      "Pivoted data for KMB\n"
     ]
    },
    {
     "name": "stderr",
     "output_type": "stream",
     "text": [
      "/var/folders/0w/q70p80s12nz5lpzr087614lw0000gn/T/ipykernel_52557/4138676989.py:41: FutureWarning: The behavior of DataFrame concatenation with empty or all-NA entries is deprecated. In a future version, this will no longer exclude empty or all-NA columns when determining the result dtypes. To retain the old behavior, exclude the relevant entries before the concat operation.\n",
      "  consolidated_df = pd.concat([consolidated_df, pd.DataFrame([row_data])], ignore_index=True)\n"
     ]
    },
    {
     "name": "stdout",
     "output_type": "stream",
     "text": [
      "Filtered by frame format for KMB\n",
      "Filtering columns with >95% empty cells for KMB\n",
      "Removed sparse columns for KMB\n",
      "Successfully processed and saved data for KMB to ./data/clean/KMB.csv\n",
      "Processing symbol: KIM\n",
      "Successfully read data for KIM\n",
      "Pivoted data for KIM\n"
     ]
    },
    {
     "name": "stderr",
     "output_type": "stream",
     "text": [
      "/var/folders/0w/q70p80s12nz5lpzr087614lw0000gn/T/ipykernel_52557/4138676989.py:41: FutureWarning: The behavior of DataFrame concatenation with empty or all-NA entries is deprecated. In a future version, this will no longer exclude empty or all-NA columns when determining the result dtypes. To retain the old behavior, exclude the relevant entries before the concat operation.\n",
      "  consolidated_df = pd.concat([consolidated_df, pd.DataFrame([row_data])], ignore_index=True)\n"
     ]
    },
    {
     "name": "stdout",
     "output_type": "stream",
     "text": [
      "Filtered by frame format for KIM\n",
      "Filtering columns with >95% empty cells for KIM\n",
      "Removed sparse columns for KIM\n",
      "Successfully processed and saved data for KIM to ./data/clean/KIM.csv\n",
      "Processing symbol: KMI\n",
      "Successfully read data for KMI\n",
      "Pivoted data for KMI\n"
     ]
    },
    {
     "name": "stderr",
     "output_type": "stream",
     "text": [
      "/var/folders/0w/q70p80s12nz5lpzr087614lw0000gn/T/ipykernel_52557/4138676989.py:41: FutureWarning: The behavior of DataFrame concatenation with empty or all-NA entries is deprecated. In a future version, this will no longer exclude empty or all-NA columns when determining the result dtypes. To retain the old behavior, exclude the relevant entries before the concat operation.\n",
      "  consolidated_df = pd.concat([consolidated_df, pd.DataFrame([row_data])], ignore_index=True)\n"
     ]
    },
    {
     "name": "stdout",
     "output_type": "stream",
     "text": [
      "Filtered by frame format for KMI\n",
      "Filtering columns with >95% empty cells for KMI\n",
      "Removed sparse columns for KMI\n",
      "Successfully processed and saved data for KMI to ./data/clean/KMI.csv\n",
      "Processing symbol: KKR\n",
      "Successfully read data for KKR\n",
      "Pivoted data for KKR\n"
     ]
    },
    {
     "name": "stderr",
     "output_type": "stream",
     "text": [
      "/var/folders/0w/q70p80s12nz5lpzr087614lw0000gn/T/ipykernel_52557/4138676989.py:41: FutureWarning: The behavior of DataFrame concatenation with empty or all-NA entries is deprecated. In a future version, this will no longer exclude empty or all-NA columns when determining the result dtypes. To retain the old behavior, exclude the relevant entries before the concat operation.\n",
      "  consolidated_df = pd.concat([consolidated_df, pd.DataFrame([row_data])], ignore_index=True)\n"
     ]
    },
    {
     "name": "stdout",
     "output_type": "stream",
     "text": [
      "Filtered by frame format for KKR\n",
      "Filtering columns with >95% empty cells for KKR\n",
      "Removed sparse columns for KKR\n",
      "Successfully processed and saved data for KKR to ./data/clean/KKR.csv\n",
      "Processing symbol: KLAC\n",
      "Successfully read data for KLAC\n",
      "Pivoted data for KLAC\n"
     ]
    },
    {
     "name": "stderr",
     "output_type": "stream",
     "text": [
      "/var/folders/0w/q70p80s12nz5lpzr087614lw0000gn/T/ipykernel_52557/4138676989.py:41: FutureWarning: The behavior of DataFrame concatenation with empty or all-NA entries is deprecated. In a future version, this will no longer exclude empty or all-NA columns when determining the result dtypes. To retain the old behavior, exclude the relevant entries before the concat operation.\n",
      "  consolidated_df = pd.concat([consolidated_df, pd.DataFrame([row_data])], ignore_index=True)\n"
     ]
    },
    {
     "name": "stdout",
     "output_type": "stream",
     "text": [
      "Filtered by frame format for KLAC\n",
      "Filtering columns with >95% empty cells for KLAC\n",
      "Removed sparse columns for KLAC\n",
      "Successfully processed and saved data for KLAC to ./data/clean/KLAC.csv\n",
      "Processing symbol: KHC\n",
      "Successfully read data for KHC\n",
      "Pivoted data for KHC\n"
     ]
    },
    {
     "name": "stderr",
     "output_type": "stream",
     "text": [
      "/var/folders/0w/q70p80s12nz5lpzr087614lw0000gn/T/ipykernel_52557/4138676989.py:41: FutureWarning: The behavior of DataFrame concatenation with empty or all-NA entries is deprecated. In a future version, this will no longer exclude empty or all-NA columns when determining the result dtypes. To retain the old behavior, exclude the relevant entries before the concat operation.\n",
      "  consolidated_df = pd.concat([consolidated_df, pd.DataFrame([row_data])], ignore_index=True)\n"
     ]
    },
    {
     "name": "stdout",
     "output_type": "stream",
     "text": [
      "Filtered by frame format for KHC\n",
      "Filtering columns with >95% empty cells for KHC\n",
      "Removed sparse columns for KHC\n",
      "Successfully processed and saved data for KHC to ./data/clean/KHC.csv\n",
      "Processing symbol: KR\n",
      "Successfully read data for KR\n",
      "Pivoted data for KR\n"
     ]
    },
    {
     "name": "stderr",
     "output_type": "stream",
     "text": [
      "/var/folders/0w/q70p80s12nz5lpzr087614lw0000gn/T/ipykernel_52557/4138676989.py:41: FutureWarning: The behavior of DataFrame concatenation with empty or all-NA entries is deprecated. In a future version, this will no longer exclude empty or all-NA columns when determining the result dtypes. To retain the old behavior, exclude the relevant entries before the concat operation.\n",
      "  consolidated_df = pd.concat([consolidated_df, pd.DataFrame([row_data])], ignore_index=True)\n"
     ]
    },
    {
     "name": "stdout",
     "output_type": "stream",
     "text": [
      "Filtered by frame format for KR\n",
      "Filtering columns with >95% empty cells for KR\n",
      "Removed sparse columns for KR\n",
      "Successfully processed and saved data for KR to ./data/clean/KR.csv\n",
      "Processing symbol: LHX\n",
      "Successfully read data for LHX\n",
      "Pivoted data for LHX\n"
     ]
    },
    {
     "name": "stderr",
     "output_type": "stream",
     "text": [
      "/var/folders/0w/q70p80s12nz5lpzr087614lw0000gn/T/ipykernel_52557/4138676989.py:41: FutureWarning: The behavior of DataFrame concatenation with empty or all-NA entries is deprecated. In a future version, this will no longer exclude empty or all-NA columns when determining the result dtypes. To retain the old behavior, exclude the relevant entries before the concat operation.\n",
      "  consolidated_df = pd.concat([consolidated_df, pd.DataFrame([row_data])], ignore_index=True)\n"
     ]
    },
    {
     "name": "stdout",
     "output_type": "stream",
     "text": [
      "Filtered by frame format for LHX\n",
      "Filtering columns with >95% empty cells for LHX\n",
      "Removed sparse columns for LHX\n",
      "Successfully processed and saved data for LHX to ./data/clean/LHX.csv\n",
      "Processing symbol: LH\n",
      "Successfully read data for LH\n",
      "Pivoted data for LH\n"
     ]
    },
    {
     "name": "stderr",
     "output_type": "stream",
     "text": [
      "/var/folders/0w/q70p80s12nz5lpzr087614lw0000gn/T/ipykernel_52557/4138676989.py:41: FutureWarning: The behavior of DataFrame concatenation with empty or all-NA entries is deprecated. In a future version, this will no longer exclude empty or all-NA columns when determining the result dtypes. To retain the old behavior, exclude the relevant entries before the concat operation.\n",
      "  consolidated_df = pd.concat([consolidated_df, pd.DataFrame([row_data])], ignore_index=True)\n"
     ]
    },
    {
     "name": "stdout",
     "output_type": "stream",
     "text": [
      "Filtered by frame format for LH\n",
      "Filtering columns with >95% empty cells for LH\n",
      "Removed sparse columns for LH\n",
      "Successfully processed and saved data for LH to ./data/clean/LH.csv\n",
      "Processing symbol: LRCX\n",
      "Successfully read data for LRCX\n",
      "Pivoted data for LRCX\n"
     ]
    },
    {
     "name": "stderr",
     "output_type": "stream",
     "text": [
      "/var/folders/0w/q70p80s12nz5lpzr087614lw0000gn/T/ipykernel_52557/4138676989.py:41: FutureWarning: The behavior of DataFrame concatenation with empty or all-NA entries is deprecated. In a future version, this will no longer exclude empty or all-NA columns when determining the result dtypes. To retain the old behavior, exclude the relevant entries before the concat operation.\n",
      "  consolidated_df = pd.concat([consolidated_df, pd.DataFrame([row_data])], ignore_index=True)\n"
     ]
    },
    {
     "name": "stdout",
     "output_type": "stream",
     "text": [
      "Filtered by frame format for LRCX\n",
      "Filtering columns with >95% empty cells for LRCX\n",
      "Removed sparse columns for LRCX\n",
      "Successfully processed and saved data for LRCX to ./data/clean/LRCX.csv\n",
      "Processing symbol: LW\n",
      "Successfully read data for LW\n",
      "Pivoted data for LW\n"
     ]
    },
    {
     "name": "stderr",
     "output_type": "stream",
     "text": [
      "/var/folders/0w/q70p80s12nz5lpzr087614lw0000gn/T/ipykernel_52557/4138676989.py:41: FutureWarning: The behavior of DataFrame concatenation with empty or all-NA entries is deprecated. In a future version, this will no longer exclude empty or all-NA columns when determining the result dtypes. To retain the old behavior, exclude the relevant entries before the concat operation.\n",
      "  consolidated_df = pd.concat([consolidated_df, pd.DataFrame([row_data])], ignore_index=True)\n"
     ]
    },
    {
     "name": "stdout",
     "output_type": "stream",
     "text": [
      "Filtered by frame format for LW\n",
      "Filtering columns with >95% empty cells for LW\n",
      "Removed sparse columns for LW\n",
      "Successfully processed and saved data for LW to ./data/clean/LW.csv\n",
      "Processing symbol: LVS\n",
      "Successfully read data for LVS\n",
      "Pivoted data for LVS\n"
     ]
    },
    {
     "name": "stderr",
     "output_type": "stream",
     "text": [
      "/var/folders/0w/q70p80s12nz5lpzr087614lw0000gn/T/ipykernel_52557/4138676989.py:41: FutureWarning: The behavior of DataFrame concatenation with empty or all-NA entries is deprecated. In a future version, this will no longer exclude empty or all-NA columns when determining the result dtypes. To retain the old behavior, exclude the relevant entries before the concat operation.\n",
      "  consolidated_df = pd.concat([consolidated_df, pd.DataFrame([row_data])], ignore_index=True)\n"
     ]
    },
    {
     "name": "stdout",
     "output_type": "stream",
     "text": [
      "Filtered by frame format for LVS\n",
      "Filtering columns with >95% empty cells for LVS\n",
      "Removed sparse columns for LVS\n",
      "Successfully processed and saved data for LVS to ./data/clean/LVS.csv\n",
      "Processing symbol: LDOS\n",
      "Successfully read data for LDOS\n",
      "Pivoted data for LDOS\n"
     ]
    },
    {
     "name": "stderr",
     "output_type": "stream",
     "text": [
      "/var/folders/0w/q70p80s12nz5lpzr087614lw0000gn/T/ipykernel_52557/4138676989.py:41: FutureWarning: The behavior of DataFrame concatenation with empty or all-NA entries is deprecated. In a future version, this will no longer exclude empty or all-NA columns when determining the result dtypes. To retain the old behavior, exclude the relevant entries before the concat operation.\n",
      "  consolidated_df = pd.concat([consolidated_df, pd.DataFrame([row_data])], ignore_index=True)\n"
     ]
    },
    {
     "name": "stdout",
     "output_type": "stream",
     "text": [
      "Filtered by frame format for LDOS\n",
      "Filtering columns with >95% empty cells for LDOS\n",
      "Removed sparse columns for LDOS\n",
      "Successfully processed and saved data for LDOS to ./data/clean/LDOS.csv\n",
      "Processing symbol: LEN\n",
      "Successfully read data for LEN\n",
      "Pivoted data for LEN\n"
     ]
    },
    {
     "name": "stderr",
     "output_type": "stream",
     "text": [
      "/var/folders/0w/q70p80s12nz5lpzr087614lw0000gn/T/ipykernel_52557/4138676989.py:41: FutureWarning: The behavior of DataFrame concatenation with empty or all-NA entries is deprecated. In a future version, this will no longer exclude empty or all-NA columns when determining the result dtypes. To retain the old behavior, exclude the relevant entries before the concat operation.\n",
      "  consolidated_df = pd.concat([consolidated_df, pd.DataFrame([row_data])], ignore_index=True)\n"
     ]
    },
    {
     "name": "stdout",
     "output_type": "stream",
     "text": [
      "Filtered by frame format for LEN\n",
      "Filtering columns with >95% empty cells for LEN\n",
      "Removed sparse columns for LEN\n",
      "Successfully processed and saved data for LEN to ./data/clean/LEN.csv\n",
      "Processing symbol: LII\n",
      "Successfully read data for LII\n",
      "Pivoted data for LII\n"
     ]
    },
    {
     "name": "stderr",
     "output_type": "stream",
     "text": [
      "/var/folders/0w/q70p80s12nz5lpzr087614lw0000gn/T/ipykernel_52557/4138676989.py:41: FutureWarning: The behavior of DataFrame concatenation with empty or all-NA entries is deprecated. In a future version, this will no longer exclude empty or all-NA columns when determining the result dtypes. To retain the old behavior, exclude the relevant entries before the concat operation.\n",
      "  consolidated_df = pd.concat([consolidated_df, pd.DataFrame([row_data])], ignore_index=True)\n"
     ]
    },
    {
     "name": "stdout",
     "output_type": "stream",
     "text": [
      "Filtered by frame format for LII\n",
      "Filtering columns with >95% empty cells for LII\n",
      "Removed sparse columns for LII\n",
      "Successfully processed and saved data for LII to ./data/clean/LII.csv\n",
      "Processing symbol: LLY\n",
      "Successfully read data for LLY\n",
      "Pivoted data for LLY\n"
     ]
    },
    {
     "name": "stderr",
     "output_type": "stream",
     "text": [
      "/var/folders/0w/q70p80s12nz5lpzr087614lw0000gn/T/ipykernel_52557/4138676989.py:41: FutureWarning: The behavior of DataFrame concatenation with empty or all-NA entries is deprecated. In a future version, this will no longer exclude empty or all-NA columns when determining the result dtypes. To retain the old behavior, exclude the relevant entries before the concat operation.\n",
      "  consolidated_df = pd.concat([consolidated_df, pd.DataFrame([row_data])], ignore_index=True)\n"
     ]
    },
    {
     "name": "stdout",
     "output_type": "stream",
     "text": [
      "Filtered by frame format for LLY\n",
      "Filtering columns with >95% empty cells for LLY\n",
      "Removed sparse columns for LLY\n",
      "Successfully processed and saved data for LLY to ./data/clean/LLY.csv\n",
      "Processing symbol: LIN\n",
      "Successfully read data for LIN\n",
      "Pivoted data for LIN\n"
     ]
    },
    {
     "name": "stderr",
     "output_type": "stream",
     "text": [
      "/var/folders/0w/q70p80s12nz5lpzr087614lw0000gn/T/ipykernel_52557/4138676989.py:41: FutureWarning: The behavior of DataFrame concatenation with empty or all-NA entries is deprecated. In a future version, this will no longer exclude empty or all-NA columns when determining the result dtypes. To retain the old behavior, exclude the relevant entries before the concat operation.\n",
      "  consolidated_df = pd.concat([consolidated_df, pd.DataFrame([row_data])], ignore_index=True)\n"
     ]
    },
    {
     "name": "stdout",
     "output_type": "stream",
     "text": [
      "Filtered by frame format for LIN\n",
      "Filtering columns with >95% empty cells for LIN\n",
      "Removed sparse columns for LIN\n",
      "Successfully processed and saved data for LIN to ./data/clean/LIN.csv\n",
      "Processing symbol: LYV\n",
      "Successfully read data for LYV\n",
      "Pivoted data for LYV\n"
     ]
    },
    {
     "name": "stderr",
     "output_type": "stream",
     "text": [
      "/var/folders/0w/q70p80s12nz5lpzr087614lw0000gn/T/ipykernel_52557/4138676989.py:41: FutureWarning: The behavior of DataFrame concatenation with empty or all-NA entries is deprecated. In a future version, this will no longer exclude empty or all-NA columns when determining the result dtypes. To retain the old behavior, exclude the relevant entries before the concat operation.\n",
      "  consolidated_df = pd.concat([consolidated_df, pd.DataFrame([row_data])], ignore_index=True)\n"
     ]
    },
    {
     "name": "stdout",
     "output_type": "stream",
     "text": [
      "Filtered by frame format for LYV\n",
      "Filtering columns with >95% empty cells for LYV\n",
      "Removed sparse columns for LYV\n",
      "Successfully processed and saved data for LYV to ./data/clean/LYV.csv\n",
      "Processing symbol: LKQ\n",
      "Successfully read data for LKQ\n",
      "Pivoted data for LKQ\n"
     ]
    },
    {
     "name": "stderr",
     "output_type": "stream",
     "text": [
      "/var/folders/0w/q70p80s12nz5lpzr087614lw0000gn/T/ipykernel_52557/4138676989.py:41: FutureWarning: The behavior of DataFrame concatenation with empty or all-NA entries is deprecated. In a future version, this will no longer exclude empty or all-NA columns when determining the result dtypes. To retain the old behavior, exclude the relevant entries before the concat operation.\n",
      "  consolidated_df = pd.concat([consolidated_df, pd.DataFrame([row_data])], ignore_index=True)\n"
     ]
    },
    {
     "name": "stdout",
     "output_type": "stream",
     "text": [
      "Filtered by frame format for LKQ\n",
      "Filtering columns with >95% empty cells for LKQ\n",
      "Removed sparse columns for LKQ\n",
      "Successfully processed and saved data for LKQ to ./data/clean/LKQ.csv\n",
      "Processing symbol: LMT\n",
      "Successfully read data for LMT\n",
      "Pivoted data for LMT\n"
     ]
    },
    {
     "name": "stderr",
     "output_type": "stream",
     "text": [
      "/var/folders/0w/q70p80s12nz5lpzr087614lw0000gn/T/ipykernel_52557/4138676989.py:41: FutureWarning: The behavior of DataFrame concatenation with empty or all-NA entries is deprecated. In a future version, this will no longer exclude empty or all-NA columns when determining the result dtypes. To retain the old behavior, exclude the relevant entries before the concat operation.\n",
      "  consolidated_df = pd.concat([consolidated_df, pd.DataFrame([row_data])], ignore_index=True)\n"
     ]
    },
    {
     "name": "stdout",
     "output_type": "stream",
     "text": [
      "Filtered by frame format for LMT\n",
      "Filtering columns with >95% empty cells for LMT\n",
      "Removed sparse columns for LMT\n",
      "Successfully processed and saved data for LMT to ./data/clean/LMT.csv\n",
      "Processing symbol: L\n",
      "Successfully read data for L\n",
      "Pivoted data for L\n"
     ]
    },
    {
     "name": "stderr",
     "output_type": "stream",
     "text": [
      "/var/folders/0w/q70p80s12nz5lpzr087614lw0000gn/T/ipykernel_52557/4138676989.py:41: FutureWarning: The behavior of DataFrame concatenation with empty or all-NA entries is deprecated. In a future version, this will no longer exclude empty or all-NA columns when determining the result dtypes. To retain the old behavior, exclude the relevant entries before the concat operation.\n",
      "  consolidated_df = pd.concat([consolidated_df, pd.DataFrame([row_data])], ignore_index=True)\n"
     ]
    },
    {
     "name": "stdout",
     "output_type": "stream",
     "text": [
      "Filtered by frame format for L\n",
      "Filtering columns with >95% empty cells for L\n",
      "Removed sparse columns for L\n",
      "Successfully processed and saved data for L to ./data/clean/L.csv\n",
      "Processing symbol: LOW\n",
      "Successfully read data for LOW\n",
      "Pivoted data for LOW\n"
     ]
    },
    {
     "name": "stderr",
     "output_type": "stream",
     "text": [
      "/var/folders/0w/q70p80s12nz5lpzr087614lw0000gn/T/ipykernel_52557/4138676989.py:41: FutureWarning: The behavior of DataFrame concatenation with empty or all-NA entries is deprecated. In a future version, this will no longer exclude empty or all-NA columns when determining the result dtypes. To retain the old behavior, exclude the relevant entries before the concat operation.\n",
      "  consolidated_df = pd.concat([consolidated_df, pd.DataFrame([row_data])], ignore_index=True)\n"
     ]
    },
    {
     "name": "stdout",
     "output_type": "stream",
     "text": [
      "Filtered by frame format for LOW\n",
      "Filtering columns with >95% empty cells for LOW\n",
      "Removed sparse columns for LOW\n",
      "Successfully processed and saved data for LOW to ./data/clean/LOW.csv\n",
      "Processing symbol: LULU\n",
      "Successfully read data for LULU\n",
      "Pivoted data for LULU\n"
     ]
    },
    {
     "name": "stderr",
     "output_type": "stream",
     "text": [
      "/var/folders/0w/q70p80s12nz5lpzr087614lw0000gn/T/ipykernel_52557/4138676989.py:41: FutureWarning: The behavior of DataFrame concatenation with empty or all-NA entries is deprecated. In a future version, this will no longer exclude empty or all-NA columns when determining the result dtypes. To retain the old behavior, exclude the relevant entries before the concat operation.\n",
      "  consolidated_df = pd.concat([consolidated_df, pd.DataFrame([row_data])], ignore_index=True)\n"
     ]
    },
    {
     "name": "stdout",
     "output_type": "stream",
     "text": [
      "Filtered by frame format for LULU\n",
      "Filtering columns with >95% empty cells for LULU\n",
      "Removed sparse columns for LULU\n",
      "Successfully processed and saved data for LULU to ./data/clean/LULU.csv\n",
      "Processing symbol: LYB\n",
      "Successfully read data for LYB\n",
      "Pivoted data for LYB\n"
     ]
    },
    {
     "name": "stderr",
     "output_type": "stream",
     "text": [
      "/var/folders/0w/q70p80s12nz5lpzr087614lw0000gn/T/ipykernel_52557/4138676989.py:41: FutureWarning: The behavior of DataFrame concatenation with empty or all-NA entries is deprecated. In a future version, this will no longer exclude empty or all-NA columns when determining the result dtypes. To retain the old behavior, exclude the relevant entries before the concat operation.\n",
      "  consolidated_df = pd.concat([consolidated_df, pd.DataFrame([row_data])], ignore_index=True)\n"
     ]
    },
    {
     "name": "stdout",
     "output_type": "stream",
     "text": [
      "Filtered by frame format for LYB\n",
      "Filtering columns with >95% empty cells for LYB\n",
      "Removed sparse columns for LYB\n",
      "Successfully processed and saved data for LYB to ./data/clean/LYB.csv\n",
      "Processing symbol: MTB\n",
      "Successfully read data for MTB\n",
      "Pivoted data for MTB\n"
     ]
    },
    {
     "name": "stderr",
     "output_type": "stream",
     "text": [
      "/var/folders/0w/q70p80s12nz5lpzr087614lw0000gn/T/ipykernel_52557/4138676989.py:41: FutureWarning: The behavior of DataFrame concatenation with empty or all-NA entries is deprecated. In a future version, this will no longer exclude empty or all-NA columns when determining the result dtypes. To retain the old behavior, exclude the relevant entries before the concat operation.\n",
      "  consolidated_df = pd.concat([consolidated_df, pd.DataFrame([row_data])], ignore_index=True)\n"
     ]
    },
    {
     "name": "stdout",
     "output_type": "stream",
     "text": [
      "Filtered by frame format for MTB\n",
      "Filtering columns with >95% empty cells for MTB\n",
      "Removed sparse columns for MTB\n",
      "Successfully processed and saved data for MTB to ./data/clean/MTB.csv\n",
      "Processing symbol: MPC\n",
      "Successfully read data for MPC\n",
      "Pivoted data for MPC\n"
     ]
    },
    {
     "name": "stderr",
     "output_type": "stream",
     "text": [
      "/var/folders/0w/q70p80s12nz5lpzr087614lw0000gn/T/ipykernel_52557/4138676989.py:41: FutureWarning: The behavior of DataFrame concatenation with empty or all-NA entries is deprecated. In a future version, this will no longer exclude empty or all-NA columns when determining the result dtypes. To retain the old behavior, exclude the relevant entries before the concat operation.\n",
      "  consolidated_df = pd.concat([consolidated_df, pd.DataFrame([row_data])], ignore_index=True)\n"
     ]
    },
    {
     "name": "stdout",
     "output_type": "stream",
     "text": [
      "Filtered by frame format for MPC\n",
      "Filtering columns with >95% empty cells for MPC\n",
      "Removed sparse columns for MPC\n",
      "Successfully processed and saved data for MPC to ./data/clean/MPC.csv\n",
      "Processing symbol: MKTX\n",
      "Successfully read data for MKTX\n",
      "Pivoted data for MKTX\n"
     ]
    },
    {
     "name": "stderr",
     "output_type": "stream",
     "text": [
      "/var/folders/0w/q70p80s12nz5lpzr087614lw0000gn/T/ipykernel_52557/4138676989.py:41: FutureWarning: The behavior of DataFrame concatenation with empty or all-NA entries is deprecated. In a future version, this will no longer exclude empty or all-NA columns when determining the result dtypes. To retain the old behavior, exclude the relevant entries before the concat operation.\n",
      "  consolidated_df = pd.concat([consolidated_df, pd.DataFrame([row_data])], ignore_index=True)\n"
     ]
    },
    {
     "name": "stdout",
     "output_type": "stream",
     "text": [
      "Filtered by frame format for MKTX\n",
      "Filtering columns with >95% empty cells for MKTX\n",
      "Removed sparse columns for MKTX\n",
      "Successfully processed and saved data for MKTX to ./data/clean/MKTX.csv\n",
      "Processing symbol: MAR\n",
      "Successfully read data for MAR\n",
      "Pivoted data for MAR\n"
     ]
    },
    {
     "name": "stderr",
     "output_type": "stream",
     "text": [
      "/var/folders/0w/q70p80s12nz5lpzr087614lw0000gn/T/ipykernel_52557/4138676989.py:41: FutureWarning: The behavior of DataFrame concatenation with empty or all-NA entries is deprecated. In a future version, this will no longer exclude empty or all-NA columns when determining the result dtypes. To retain the old behavior, exclude the relevant entries before the concat operation.\n",
      "  consolidated_df = pd.concat([consolidated_df, pd.DataFrame([row_data])], ignore_index=True)\n"
     ]
    },
    {
     "name": "stdout",
     "output_type": "stream",
     "text": [
      "Filtered by frame format for MAR\n",
      "Filtering columns with >95% empty cells for MAR\n",
      "Removed sparse columns for MAR\n",
      "Successfully processed and saved data for MAR to ./data/clean/MAR.csv\n",
      "Processing symbol: MMC\n",
      "Successfully read data for MMC\n",
      "Pivoted data for MMC\n"
     ]
    },
    {
     "name": "stderr",
     "output_type": "stream",
     "text": [
      "/var/folders/0w/q70p80s12nz5lpzr087614lw0000gn/T/ipykernel_52557/4138676989.py:41: FutureWarning: The behavior of DataFrame concatenation with empty or all-NA entries is deprecated. In a future version, this will no longer exclude empty or all-NA columns when determining the result dtypes. To retain the old behavior, exclude the relevant entries before the concat operation.\n",
      "  consolidated_df = pd.concat([consolidated_df, pd.DataFrame([row_data])], ignore_index=True)\n"
     ]
    },
    {
     "name": "stdout",
     "output_type": "stream",
     "text": [
      "Filtered by frame format for MMC\n",
      "Filtering columns with >95% empty cells for MMC\n",
      "Removed sparse columns for MMC\n",
      "Successfully processed and saved data for MMC to ./data/clean/MMC.csv\n",
      "Processing symbol: MLM\n",
      "Successfully read data for MLM\n",
      "Pivoted data for MLM\n"
     ]
    },
    {
     "name": "stderr",
     "output_type": "stream",
     "text": [
      "/var/folders/0w/q70p80s12nz5lpzr087614lw0000gn/T/ipykernel_52557/4138676989.py:41: FutureWarning: The behavior of DataFrame concatenation with empty or all-NA entries is deprecated. In a future version, this will no longer exclude empty or all-NA columns when determining the result dtypes. To retain the old behavior, exclude the relevant entries before the concat operation.\n",
      "  consolidated_df = pd.concat([consolidated_df, pd.DataFrame([row_data])], ignore_index=True)\n"
     ]
    },
    {
     "name": "stdout",
     "output_type": "stream",
     "text": [
      "Filtered by frame format for MLM\n",
      "Filtering columns with >95% empty cells for MLM\n",
      "Removed sparse columns for MLM\n",
      "Successfully processed and saved data for MLM to ./data/clean/MLM.csv\n",
      "Processing symbol: MAS\n",
      "Successfully read data for MAS\n",
      "Pivoted data for MAS\n"
     ]
    },
    {
     "name": "stderr",
     "output_type": "stream",
     "text": [
      "/var/folders/0w/q70p80s12nz5lpzr087614lw0000gn/T/ipykernel_52557/4138676989.py:41: FutureWarning: The behavior of DataFrame concatenation with empty or all-NA entries is deprecated. In a future version, this will no longer exclude empty or all-NA columns when determining the result dtypes. To retain the old behavior, exclude the relevant entries before the concat operation.\n",
      "  consolidated_df = pd.concat([consolidated_df, pd.DataFrame([row_data])], ignore_index=True)\n"
     ]
    },
    {
     "name": "stdout",
     "output_type": "stream",
     "text": [
      "Filtered by frame format for MAS\n",
      "Filtering columns with >95% empty cells for MAS\n",
      "Removed sparse columns for MAS\n",
      "Successfully processed and saved data for MAS to ./data/clean/MAS.csv\n",
      "Processing symbol: MA\n",
      "Successfully read data for MA\n",
      "Pivoted data for MA\n"
     ]
    },
    {
     "name": "stderr",
     "output_type": "stream",
     "text": [
      "/var/folders/0w/q70p80s12nz5lpzr087614lw0000gn/T/ipykernel_52557/4138676989.py:41: FutureWarning: The behavior of DataFrame concatenation with empty or all-NA entries is deprecated. In a future version, this will no longer exclude empty or all-NA columns when determining the result dtypes. To retain the old behavior, exclude the relevant entries before the concat operation.\n",
      "  consolidated_df = pd.concat([consolidated_df, pd.DataFrame([row_data])], ignore_index=True)\n"
     ]
    },
    {
     "name": "stdout",
     "output_type": "stream",
     "text": [
      "Filtered by frame format for MA\n",
      "Filtering columns with >95% empty cells for MA\n",
      "Removed sparse columns for MA\n",
      "Successfully processed and saved data for MA to ./data/clean/MA.csv\n",
      "Processing symbol: MTCH\n",
      "Successfully read data for MTCH\n",
      "Pivoted data for MTCH\n"
     ]
    },
    {
     "name": "stderr",
     "output_type": "stream",
     "text": [
      "/var/folders/0w/q70p80s12nz5lpzr087614lw0000gn/T/ipykernel_52557/4138676989.py:41: FutureWarning: The behavior of DataFrame concatenation with empty or all-NA entries is deprecated. In a future version, this will no longer exclude empty or all-NA columns when determining the result dtypes. To retain the old behavior, exclude the relevant entries before the concat operation.\n",
      "  consolidated_df = pd.concat([consolidated_df, pd.DataFrame([row_data])], ignore_index=True)\n"
     ]
    },
    {
     "name": "stdout",
     "output_type": "stream",
     "text": [
      "Filtered by frame format for MTCH\n",
      "Filtering columns with >95% empty cells for MTCH\n",
      "Removed sparse columns for MTCH\n",
      "Successfully processed and saved data for MTCH to ./data/clean/MTCH.csv\n",
      "Processing symbol: MKC\n",
      "Successfully read data for MKC\n",
      "Pivoted data for MKC\n"
     ]
    },
    {
     "name": "stderr",
     "output_type": "stream",
     "text": [
      "/var/folders/0w/q70p80s12nz5lpzr087614lw0000gn/T/ipykernel_52557/4138676989.py:41: FutureWarning: The behavior of DataFrame concatenation with empty or all-NA entries is deprecated. In a future version, this will no longer exclude empty or all-NA columns when determining the result dtypes. To retain the old behavior, exclude the relevant entries before the concat operation.\n",
      "  consolidated_df = pd.concat([consolidated_df, pd.DataFrame([row_data])], ignore_index=True)\n"
     ]
    },
    {
     "name": "stdout",
     "output_type": "stream",
     "text": [
      "Filtered by frame format for MKC\n",
      "Filtering columns with >95% empty cells for MKC\n",
      "Removed sparse columns for MKC\n",
      "Successfully processed and saved data for MKC to ./data/clean/MKC.csv\n",
      "Processing symbol: MCD\n",
      "Successfully read data for MCD\n",
      "Pivoted data for MCD\n"
     ]
    },
    {
     "name": "stderr",
     "output_type": "stream",
     "text": [
      "/var/folders/0w/q70p80s12nz5lpzr087614lw0000gn/T/ipykernel_52557/4138676989.py:41: FutureWarning: The behavior of DataFrame concatenation with empty or all-NA entries is deprecated. In a future version, this will no longer exclude empty or all-NA columns when determining the result dtypes. To retain the old behavior, exclude the relevant entries before the concat operation.\n",
      "  consolidated_df = pd.concat([consolidated_df, pd.DataFrame([row_data])], ignore_index=True)\n"
     ]
    },
    {
     "name": "stdout",
     "output_type": "stream",
     "text": [
      "Filtered by frame format for MCD\n",
      "Filtering columns with >95% empty cells for MCD\n",
      "Removed sparse columns for MCD\n",
      "Successfully processed and saved data for MCD to ./data/clean/MCD.csv\n",
      "Processing symbol: MCK\n",
      "Successfully read data for MCK\n",
      "Pivoted data for MCK\n"
     ]
    },
    {
     "name": "stderr",
     "output_type": "stream",
     "text": [
      "/var/folders/0w/q70p80s12nz5lpzr087614lw0000gn/T/ipykernel_52557/4138676989.py:41: FutureWarning: The behavior of DataFrame concatenation with empty or all-NA entries is deprecated. In a future version, this will no longer exclude empty or all-NA columns when determining the result dtypes. To retain the old behavior, exclude the relevant entries before the concat operation.\n",
      "  consolidated_df = pd.concat([consolidated_df, pd.DataFrame([row_data])], ignore_index=True)\n"
     ]
    },
    {
     "name": "stdout",
     "output_type": "stream",
     "text": [
      "Filtered by frame format for MCK\n",
      "Filtering columns with >95% empty cells for MCK\n",
      "Removed sparse columns for MCK\n",
      "Successfully processed and saved data for MCK to ./data/clean/MCK.csv\n",
      "Processing symbol: MDT\n",
      "Successfully read data for MDT\n",
      "Pivoted data for MDT\n"
     ]
    },
    {
     "name": "stderr",
     "output_type": "stream",
     "text": [
      "/var/folders/0w/q70p80s12nz5lpzr087614lw0000gn/T/ipykernel_52557/4138676989.py:41: FutureWarning: The behavior of DataFrame concatenation with empty or all-NA entries is deprecated. In a future version, this will no longer exclude empty or all-NA columns when determining the result dtypes. To retain the old behavior, exclude the relevant entries before the concat operation.\n",
      "  consolidated_df = pd.concat([consolidated_df, pd.DataFrame([row_data])], ignore_index=True)\n"
     ]
    },
    {
     "name": "stdout",
     "output_type": "stream",
     "text": [
      "Filtered by frame format for MDT\n",
      "Filtering columns with >95% empty cells for MDT\n",
      "Removed sparse columns for MDT\n",
      "Successfully processed and saved data for MDT to ./data/clean/MDT.csv\n",
      "Processing symbol: MRK\n",
      "Successfully read data for MRK\n",
      "Pivoted data for MRK\n"
     ]
    },
    {
     "name": "stderr",
     "output_type": "stream",
     "text": [
      "/var/folders/0w/q70p80s12nz5lpzr087614lw0000gn/T/ipykernel_52557/4138676989.py:41: FutureWarning: The behavior of DataFrame concatenation with empty or all-NA entries is deprecated. In a future version, this will no longer exclude empty or all-NA columns when determining the result dtypes. To retain the old behavior, exclude the relevant entries before the concat operation.\n",
      "  consolidated_df = pd.concat([consolidated_df, pd.DataFrame([row_data])], ignore_index=True)\n"
     ]
    },
    {
     "name": "stdout",
     "output_type": "stream",
     "text": [
      "Filtered by frame format for MRK\n",
      "Filtering columns with >95% empty cells for MRK\n",
      "Removed sparse columns for MRK\n",
      "Successfully processed and saved data for MRK to ./data/clean/MRK.csv\n",
      "Processing symbol: META\n",
      "Successfully read data for META\n",
      "Pivoted data for META\n"
     ]
    },
    {
     "name": "stderr",
     "output_type": "stream",
     "text": [
      "/var/folders/0w/q70p80s12nz5lpzr087614lw0000gn/T/ipykernel_52557/4138676989.py:41: FutureWarning: The behavior of DataFrame concatenation with empty or all-NA entries is deprecated. In a future version, this will no longer exclude empty or all-NA columns when determining the result dtypes. To retain the old behavior, exclude the relevant entries before the concat operation.\n",
      "  consolidated_df = pd.concat([consolidated_df, pd.DataFrame([row_data])], ignore_index=True)\n"
     ]
    },
    {
     "name": "stdout",
     "output_type": "stream",
     "text": [
      "Filtered by frame format for META\n",
      "Filtering columns with >95% empty cells for META\n",
      "Removed sparse columns for META\n",
      "Successfully processed and saved data for META to ./data/clean/META.csv\n",
      "Processing symbol: MET\n",
      "Successfully read data for MET\n",
      "Pivoted data for MET\n"
     ]
    },
    {
     "name": "stderr",
     "output_type": "stream",
     "text": [
      "/var/folders/0w/q70p80s12nz5lpzr087614lw0000gn/T/ipykernel_52557/4138676989.py:41: FutureWarning: The behavior of DataFrame concatenation with empty or all-NA entries is deprecated. In a future version, this will no longer exclude empty or all-NA columns when determining the result dtypes. To retain the old behavior, exclude the relevant entries before the concat operation.\n",
      "  consolidated_df = pd.concat([consolidated_df, pd.DataFrame([row_data])], ignore_index=True)\n"
     ]
    },
    {
     "name": "stdout",
     "output_type": "stream",
     "text": [
      "Filtered by frame format for MET\n",
      "Filtering columns with >95% empty cells for MET\n",
      "Removed sparse columns for MET\n",
      "Successfully processed and saved data for MET to ./data/clean/MET.csv\n",
      "Processing symbol: MTD\n",
      "Successfully read data for MTD\n",
      "Pivoted data for MTD\n"
     ]
    },
    {
     "name": "stderr",
     "output_type": "stream",
     "text": [
      "/var/folders/0w/q70p80s12nz5lpzr087614lw0000gn/T/ipykernel_52557/4138676989.py:41: FutureWarning: The behavior of DataFrame concatenation with empty or all-NA entries is deprecated. In a future version, this will no longer exclude empty or all-NA columns when determining the result dtypes. To retain the old behavior, exclude the relevant entries before the concat operation.\n",
      "  consolidated_df = pd.concat([consolidated_df, pd.DataFrame([row_data])], ignore_index=True)\n"
     ]
    },
    {
     "name": "stdout",
     "output_type": "stream",
     "text": [
      "Filtered by frame format for MTD\n",
      "Filtering columns with >95% empty cells for MTD\n",
      "Removed sparse columns for MTD\n",
      "Successfully processed and saved data for MTD to ./data/clean/MTD.csv\n",
      "Processing symbol: MGM\n",
      "Successfully read data for MGM\n",
      "Pivoted data for MGM\n"
     ]
    },
    {
     "name": "stderr",
     "output_type": "stream",
     "text": [
      "/var/folders/0w/q70p80s12nz5lpzr087614lw0000gn/T/ipykernel_52557/4138676989.py:41: FutureWarning: The behavior of DataFrame concatenation with empty or all-NA entries is deprecated. In a future version, this will no longer exclude empty or all-NA columns when determining the result dtypes. To retain the old behavior, exclude the relevant entries before the concat operation.\n",
      "  consolidated_df = pd.concat([consolidated_df, pd.DataFrame([row_data])], ignore_index=True)\n"
     ]
    },
    {
     "name": "stdout",
     "output_type": "stream",
     "text": [
      "Filtered by frame format for MGM\n",
      "Filtering columns with >95% empty cells for MGM\n",
      "Removed sparse columns for MGM\n",
      "Successfully processed and saved data for MGM to ./data/clean/MGM.csv\n",
      "Processing symbol: MCHP\n",
      "Successfully read data for MCHP\n",
      "Pivoted data for MCHP\n"
     ]
    },
    {
     "name": "stderr",
     "output_type": "stream",
     "text": [
      "/var/folders/0w/q70p80s12nz5lpzr087614lw0000gn/T/ipykernel_52557/4138676989.py:41: FutureWarning: The behavior of DataFrame concatenation with empty or all-NA entries is deprecated. In a future version, this will no longer exclude empty or all-NA columns when determining the result dtypes. To retain the old behavior, exclude the relevant entries before the concat operation.\n",
      "  consolidated_df = pd.concat([consolidated_df, pd.DataFrame([row_data])], ignore_index=True)\n"
     ]
    },
    {
     "name": "stdout",
     "output_type": "stream",
     "text": [
      "Filtered by frame format for MCHP\n",
      "Filtering columns with >95% empty cells for MCHP\n",
      "Removed sparse columns for MCHP\n",
      "Successfully processed and saved data for MCHP to ./data/clean/MCHP.csv\n",
      "Processing symbol: MU\n",
      "Successfully read data for MU\n",
      "Pivoted data for MU\n"
     ]
    },
    {
     "name": "stderr",
     "output_type": "stream",
     "text": [
      "/var/folders/0w/q70p80s12nz5lpzr087614lw0000gn/T/ipykernel_52557/4138676989.py:41: FutureWarning: The behavior of DataFrame concatenation with empty or all-NA entries is deprecated. In a future version, this will no longer exclude empty or all-NA columns when determining the result dtypes. To retain the old behavior, exclude the relevant entries before the concat operation.\n",
      "  consolidated_df = pd.concat([consolidated_df, pd.DataFrame([row_data])], ignore_index=True)\n"
     ]
    },
    {
     "name": "stdout",
     "output_type": "stream",
     "text": [
      "Filtered by frame format for MU\n",
      "Filtering columns with >95% empty cells for MU\n",
      "Removed sparse columns for MU\n",
      "Successfully processed and saved data for MU to ./data/clean/MU.csv\n",
      "Processing symbol: MSFT\n",
      "Successfully read data for MSFT\n",
      "Pivoted data for MSFT\n"
     ]
    },
    {
     "name": "stderr",
     "output_type": "stream",
     "text": [
      "/var/folders/0w/q70p80s12nz5lpzr087614lw0000gn/T/ipykernel_52557/4138676989.py:41: FutureWarning: The behavior of DataFrame concatenation with empty or all-NA entries is deprecated. In a future version, this will no longer exclude empty or all-NA columns when determining the result dtypes. To retain the old behavior, exclude the relevant entries before the concat operation.\n",
      "  consolidated_df = pd.concat([consolidated_df, pd.DataFrame([row_data])], ignore_index=True)\n"
     ]
    },
    {
     "name": "stdout",
     "output_type": "stream",
     "text": [
      "Filtered by frame format for MSFT\n",
      "Filtering columns with >95% empty cells for MSFT\n",
      "Removed sparse columns for MSFT\n",
      "Successfully processed and saved data for MSFT to ./data/clean/MSFT.csv\n",
      "Processing symbol: MAA\n",
      "Successfully read data for MAA\n",
      "Pivoted data for MAA\n"
     ]
    },
    {
     "name": "stderr",
     "output_type": "stream",
     "text": [
      "/var/folders/0w/q70p80s12nz5lpzr087614lw0000gn/T/ipykernel_52557/4138676989.py:41: FutureWarning: The behavior of DataFrame concatenation with empty or all-NA entries is deprecated. In a future version, this will no longer exclude empty or all-NA columns when determining the result dtypes. To retain the old behavior, exclude the relevant entries before the concat operation.\n",
      "  consolidated_df = pd.concat([consolidated_df, pd.DataFrame([row_data])], ignore_index=True)\n"
     ]
    },
    {
     "name": "stdout",
     "output_type": "stream",
     "text": [
      "Filtered by frame format for MAA\n",
      "Filtering columns with >95% empty cells for MAA\n",
      "Removed sparse columns for MAA\n",
      "Successfully processed and saved data for MAA to ./data/clean/MAA.csv\n",
      "Processing symbol: MRNA\n",
      "Successfully read data for MRNA\n",
      "Pivoted data for MRNA\n"
     ]
    },
    {
     "name": "stderr",
     "output_type": "stream",
     "text": [
      "/var/folders/0w/q70p80s12nz5lpzr087614lw0000gn/T/ipykernel_52557/4138676989.py:41: FutureWarning: The behavior of DataFrame concatenation with empty or all-NA entries is deprecated. In a future version, this will no longer exclude empty or all-NA columns when determining the result dtypes. To retain the old behavior, exclude the relevant entries before the concat operation.\n",
      "  consolidated_df = pd.concat([consolidated_df, pd.DataFrame([row_data])], ignore_index=True)\n"
     ]
    },
    {
     "name": "stdout",
     "output_type": "stream",
     "text": [
      "Filtered by frame format for MRNA\n",
      "Filtering columns with >95% empty cells for MRNA\n",
      "Removed sparse columns for MRNA\n",
      "Successfully processed and saved data for MRNA to ./data/clean/MRNA.csv\n",
      "Processing symbol: MHK\n",
      "Successfully read data for MHK\n",
      "Pivoted data for MHK\n"
     ]
    },
    {
     "name": "stderr",
     "output_type": "stream",
     "text": [
      "/var/folders/0w/q70p80s12nz5lpzr087614lw0000gn/T/ipykernel_52557/4138676989.py:41: FutureWarning: The behavior of DataFrame concatenation with empty or all-NA entries is deprecated. In a future version, this will no longer exclude empty or all-NA columns when determining the result dtypes. To retain the old behavior, exclude the relevant entries before the concat operation.\n",
      "  consolidated_df = pd.concat([consolidated_df, pd.DataFrame([row_data])], ignore_index=True)\n"
     ]
    },
    {
     "name": "stdout",
     "output_type": "stream",
     "text": [
      "Filtered by frame format for MHK\n",
      "Filtering columns with >95% empty cells for MHK\n",
      "Removed sparse columns for MHK\n",
      "Successfully processed and saved data for MHK to ./data/clean/MHK.csv\n",
      "Processing symbol: MOH\n",
      "Successfully read data for MOH\n",
      "Pivoted data for MOH\n"
     ]
    },
    {
     "name": "stderr",
     "output_type": "stream",
     "text": [
      "/var/folders/0w/q70p80s12nz5lpzr087614lw0000gn/T/ipykernel_52557/4138676989.py:41: FutureWarning: The behavior of DataFrame concatenation with empty or all-NA entries is deprecated. In a future version, this will no longer exclude empty or all-NA columns when determining the result dtypes. To retain the old behavior, exclude the relevant entries before the concat operation.\n",
      "  consolidated_df = pd.concat([consolidated_df, pd.DataFrame([row_data])], ignore_index=True)\n"
     ]
    },
    {
     "name": "stdout",
     "output_type": "stream",
     "text": [
      "Filtered by frame format for MOH\n",
      "Filtering columns with >95% empty cells for MOH\n",
      "Removed sparse columns for MOH\n",
      "Successfully processed and saved data for MOH to ./data/clean/MOH.csv\n",
      "Processing symbol: TAP\n",
      "Successfully read data for TAP\n",
      "Pivoted data for TAP\n"
     ]
    },
    {
     "name": "stderr",
     "output_type": "stream",
     "text": [
      "/var/folders/0w/q70p80s12nz5lpzr087614lw0000gn/T/ipykernel_52557/4138676989.py:41: FutureWarning: The behavior of DataFrame concatenation with empty or all-NA entries is deprecated. In a future version, this will no longer exclude empty or all-NA columns when determining the result dtypes. To retain the old behavior, exclude the relevant entries before the concat operation.\n",
      "  consolidated_df = pd.concat([consolidated_df, pd.DataFrame([row_data])], ignore_index=True)\n"
     ]
    },
    {
     "name": "stdout",
     "output_type": "stream",
     "text": [
      "Filtered by frame format for TAP\n",
      "Filtering columns with >95% empty cells for TAP\n",
      "Removed sparse columns for TAP\n",
      "Successfully processed and saved data for TAP to ./data/clean/TAP.csv\n",
      "Processing symbol: MDLZ\n",
      "Successfully read data for MDLZ\n",
      "Pivoted data for MDLZ\n"
     ]
    },
    {
     "name": "stderr",
     "output_type": "stream",
     "text": [
      "/var/folders/0w/q70p80s12nz5lpzr087614lw0000gn/T/ipykernel_52557/4138676989.py:41: FutureWarning: The behavior of DataFrame concatenation with empty or all-NA entries is deprecated. In a future version, this will no longer exclude empty or all-NA columns when determining the result dtypes. To retain the old behavior, exclude the relevant entries before the concat operation.\n",
      "  consolidated_df = pd.concat([consolidated_df, pd.DataFrame([row_data])], ignore_index=True)\n"
     ]
    },
    {
     "name": "stdout",
     "output_type": "stream",
     "text": [
      "Filtered by frame format for MDLZ\n",
      "Filtering columns with >95% empty cells for MDLZ\n",
      "Removed sparse columns for MDLZ\n",
      "Successfully processed and saved data for MDLZ to ./data/clean/MDLZ.csv\n",
      "Processing symbol: MPWR\n",
      "Successfully read data for MPWR\n",
      "Pivoted data for MPWR\n"
     ]
    },
    {
     "name": "stderr",
     "output_type": "stream",
     "text": [
      "/var/folders/0w/q70p80s12nz5lpzr087614lw0000gn/T/ipykernel_52557/4138676989.py:41: FutureWarning: The behavior of DataFrame concatenation with empty or all-NA entries is deprecated. In a future version, this will no longer exclude empty or all-NA columns when determining the result dtypes. To retain the old behavior, exclude the relevant entries before the concat operation.\n",
      "  consolidated_df = pd.concat([consolidated_df, pd.DataFrame([row_data])], ignore_index=True)\n"
     ]
    },
    {
     "name": "stdout",
     "output_type": "stream",
     "text": [
      "Filtered by frame format for MPWR\n",
      "Filtering columns with >95% empty cells for MPWR\n",
      "Removed sparse columns for MPWR\n",
      "Successfully processed and saved data for MPWR to ./data/clean/MPWR.csv\n",
      "Processing symbol: MNST\n",
      "Successfully read data for MNST\n",
      "Pivoted data for MNST\n"
     ]
    },
    {
     "name": "stderr",
     "output_type": "stream",
     "text": [
      "/var/folders/0w/q70p80s12nz5lpzr087614lw0000gn/T/ipykernel_52557/4138676989.py:41: FutureWarning: The behavior of DataFrame concatenation with empty or all-NA entries is deprecated. In a future version, this will no longer exclude empty or all-NA columns when determining the result dtypes. To retain the old behavior, exclude the relevant entries before the concat operation.\n",
      "  consolidated_df = pd.concat([consolidated_df, pd.DataFrame([row_data])], ignore_index=True)\n"
     ]
    },
    {
     "name": "stdout",
     "output_type": "stream",
     "text": [
      "Filtered by frame format for MNST\n",
      "Filtering columns with >95% empty cells for MNST\n",
      "Removed sparse columns for MNST\n",
      "Successfully processed and saved data for MNST to ./data/clean/MNST.csv\n",
      "Processing symbol: MCO\n",
      "Successfully read data for MCO\n",
      "Pivoted data for MCO\n"
     ]
    },
    {
     "name": "stderr",
     "output_type": "stream",
     "text": [
      "/var/folders/0w/q70p80s12nz5lpzr087614lw0000gn/T/ipykernel_52557/4138676989.py:41: FutureWarning: The behavior of DataFrame concatenation with empty or all-NA entries is deprecated. In a future version, this will no longer exclude empty or all-NA columns when determining the result dtypes. To retain the old behavior, exclude the relevant entries before the concat operation.\n",
      "  consolidated_df = pd.concat([consolidated_df, pd.DataFrame([row_data])], ignore_index=True)\n"
     ]
    },
    {
     "name": "stdout",
     "output_type": "stream",
     "text": [
      "Filtered by frame format for MCO\n",
      "Filtering columns with >95% empty cells for MCO\n",
      "Removed sparse columns for MCO\n",
      "Successfully processed and saved data for MCO to ./data/clean/MCO.csv\n",
      "Processing symbol: MS\n",
      "Successfully read data for MS\n",
      "Pivoted data for MS\n"
     ]
    },
    {
     "name": "stderr",
     "output_type": "stream",
     "text": [
      "/var/folders/0w/q70p80s12nz5lpzr087614lw0000gn/T/ipykernel_52557/4138676989.py:41: FutureWarning: The behavior of DataFrame concatenation with empty or all-NA entries is deprecated. In a future version, this will no longer exclude empty or all-NA columns when determining the result dtypes. To retain the old behavior, exclude the relevant entries before the concat operation.\n",
      "  consolidated_df = pd.concat([consolidated_df, pd.DataFrame([row_data])], ignore_index=True)\n"
     ]
    },
    {
     "name": "stdout",
     "output_type": "stream",
     "text": [
      "Filtered by frame format for MS\n",
      "Filtering columns with >95% empty cells for MS\n",
      "Removed sparse columns for MS\n",
      "Successfully processed and saved data for MS to ./data/clean/MS.csv\n",
      "Processing symbol: MOS\n",
      "Successfully read data for MOS\n",
      "Pivoted data for MOS\n"
     ]
    },
    {
     "name": "stderr",
     "output_type": "stream",
     "text": [
      "/var/folders/0w/q70p80s12nz5lpzr087614lw0000gn/T/ipykernel_52557/4138676989.py:41: FutureWarning: The behavior of DataFrame concatenation with empty or all-NA entries is deprecated. In a future version, this will no longer exclude empty or all-NA columns when determining the result dtypes. To retain the old behavior, exclude the relevant entries before the concat operation.\n",
      "  consolidated_df = pd.concat([consolidated_df, pd.DataFrame([row_data])], ignore_index=True)\n"
     ]
    },
    {
     "name": "stdout",
     "output_type": "stream",
     "text": [
      "Filtered by frame format for MOS\n",
      "Filtering columns with >95% empty cells for MOS\n",
      "Removed sparse columns for MOS\n",
      "Successfully processed and saved data for MOS to ./data/clean/MOS.csv\n",
      "Processing symbol: MSI\n",
      "Successfully read data for MSI\n",
      "Pivoted data for MSI\n"
     ]
    },
    {
     "name": "stderr",
     "output_type": "stream",
     "text": [
      "/var/folders/0w/q70p80s12nz5lpzr087614lw0000gn/T/ipykernel_52557/4138676989.py:41: FutureWarning: The behavior of DataFrame concatenation with empty or all-NA entries is deprecated. In a future version, this will no longer exclude empty or all-NA columns when determining the result dtypes. To retain the old behavior, exclude the relevant entries before the concat operation.\n",
      "  consolidated_df = pd.concat([consolidated_df, pd.DataFrame([row_data])], ignore_index=True)\n"
     ]
    },
    {
     "name": "stdout",
     "output_type": "stream",
     "text": [
      "Filtered by frame format for MSI\n",
      "Filtering columns with >95% empty cells for MSI\n",
      "Removed sparse columns for MSI\n",
      "Successfully processed and saved data for MSI to ./data/clean/MSI.csv\n",
      "Processing symbol: MSCI\n",
      "Successfully read data for MSCI\n",
      "Pivoted data for MSCI\n"
     ]
    },
    {
     "name": "stderr",
     "output_type": "stream",
     "text": [
      "/var/folders/0w/q70p80s12nz5lpzr087614lw0000gn/T/ipykernel_52557/4138676989.py:41: FutureWarning: The behavior of DataFrame concatenation with empty or all-NA entries is deprecated. In a future version, this will no longer exclude empty or all-NA columns when determining the result dtypes. To retain the old behavior, exclude the relevant entries before the concat operation.\n",
      "  consolidated_df = pd.concat([consolidated_df, pd.DataFrame([row_data])], ignore_index=True)\n"
     ]
    },
    {
     "name": "stdout",
     "output_type": "stream",
     "text": [
      "Filtered by frame format for MSCI\n",
      "Filtering columns with >95% empty cells for MSCI\n",
      "Removed sparse columns for MSCI\n",
      "Successfully processed and saved data for MSCI to ./data/clean/MSCI.csv\n",
      "Processing symbol: NDAQ\n",
      "Successfully read data for NDAQ\n",
      "Pivoted data for NDAQ\n"
     ]
    },
    {
     "name": "stderr",
     "output_type": "stream",
     "text": [
      "/var/folders/0w/q70p80s12nz5lpzr087614lw0000gn/T/ipykernel_52557/4138676989.py:41: FutureWarning: The behavior of DataFrame concatenation with empty or all-NA entries is deprecated. In a future version, this will no longer exclude empty or all-NA columns when determining the result dtypes. To retain the old behavior, exclude the relevant entries before the concat operation.\n",
      "  consolidated_df = pd.concat([consolidated_df, pd.DataFrame([row_data])], ignore_index=True)\n"
     ]
    },
    {
     "name": "stdout",
     "output_type": "stream",
     "text": [
      "Filtered by frame format for NDAQ\n",
      "Filtering columns with >95% empty cells for NDAQ\n",
      "Removed sparse columns for NDAQ\n",
      "Successfully processed and saved data for NDAQ to ./data/clean/NDAQ.csv\n",
      "Processing symbol: NTAP\n",
      "Successfully read data for NTAP\n",
      "Pivoted data for NTAP\n"
     ]
    },
    {
     "name": "stderr",
     "output_type": "stream",
     "text": [
      "/var/folders/0w/q70p80s12nz5lpzr087614lw0000gn/T/ipykernel_52557/4138676989.py:41: FutureWarning: The behavior of DataFrame concatenation with empty or all-NA entries is deprecated. In a future version, this will no longer exclude empty or all-NA columns when determining the result dtypes. To retain the old behavior, exclude the relevant entries before the concat operation.\n",
      "  consolidated_df = pd.concat([consolidated_df, pd.DataFrame([row_data])], ignore_index=True)\n"
     ]
    },
    {
     "name": "stdout",
     "output_type": "stream",
     "text": [
      "Filtered by frame format for NTAP\n",
      "Filtering columns with >95% empty cells for NTAP\n",
      "Removed sparse columns for NTAP\n",
      "Successfully processed and saved data for NTAP to ./data/clean/NTAP.csv\n",
      "Processing symbol: NFLX\n",
      "Successfully read data for NFLX\n",
      "Pivoted data for NFLX\n"
     ]
    },
    {
     "name": "stderr",
     "output_type": "stream",
     "text": [
      "/var/folders/0w/q70p80s12nz5lpzr087614lw0000gn/T/ipykernel_52557/4138676989.py:41: FutureWarning: The behavior of DataFrame concatenation with empty or all-NA entries is deprecated. In a future version, this will no longer exclude empty or all-NA columns when determining the result dtypes. To retain the old behavior, exclude the relevant entries before the concat operation.\n",
      "  consolidated_df = pd.concat([consolidated_df, pd.DataFrame([row_data])], ignore_index=True)\n"
     ]
    },
    {
     "name": "stdout",
     "output_type": "stream",
     "text": [
      "Filtered by frame format for NFLX\n",
      "Filtering columns with >95% empty cells for NFLX\n",
      "Removed sparse columns for NFLX\n",
      "Successfully processed and saved data for NFLX to ./data/clean/NFLX.csv\n",
      "Processing symbol: NEM\n",
      "Successfully read data for NEM\n",
      "Pivoted data for NEM\n"
     ]
    },
    {
     "name": "stderr",
     "output_type": "stream",
     "text": [
      "/var/folders/0w/q70p80s12nz5lpzr087614lw0000gn/T/ipykernel_52557/4138676989.py:41: FutureWarning: The behavior of DataFrame concatenation with empty or all-NA entries is deprecated. In a future version, this will no longer exclude empty or all-NA columns when determining the result dtypes. To retain the old behavior, exclude the relevant entries before the concat operation.\n",
      "  consolidated_df = pd.concat([consolidated_df, pd.DataFrame([row_data])], ignore_index=True)\n"
     ]
    },
    {
     "name": "stdout",
     "output_type": "stream",
     "text": [
      "Filtered by frame format for NEM\n",
      "Filtering columns with >95% empty cells for NEM\n",
      "Removed sparse columns for NEM\n",
      "Successfully processed and saved data for NEM to ./data/clean/NEM.csv\n",
      "Processing symbol: NWSA\n",
      "Successfully read data for NWSA\n",
      "Pivoted data for NWSA\n"
     ]
    },
    {
     "name": "stderr",
     "output_type": "stream",
     "text": [
      "/var/folders/0w/q70p80s12nz5lpzr087614lw0000gn/T/ipykernel_52557/4138676989.py:41: FutureWarning: The behavior of DataFrame concatenation with empty or all-NA entries is deprecated. In a future version, this will no longer exclude empty or all-NA columns when determining the result dtypes. To retain the old behavior, exclude the relevant entries before the concat operation.\n",
      "  consolidated_df = pd.concat([consolidated_df, pd.DataFrame([row_data])], ignore_index=True)\n"
     ]
    },
    {
     "name": "stdout",
     "output_type": "stream",
     "text": [
      "Filtered by frame format for NWSA\n",
      "Filtering columns with >95% empty cells for NWSA\n",
      "Removed sparse columns for NWSA\n",
      "Successfully processed and saved data for NWSA to ./data/clean/NWSA.csv\n",
      "Processing symbol: NWS\n",
      "Successfully read data for NWS\n",
      "Pivoted data for NWS\n"
     ]
    },
    {
     "name": "stderr",
     "output_type": "stream",
     "text": [
      "/var/folders/0w/q70p80s12nz5lpzr087614lw0000gn/T/ipykernel_52557/4138676989.py:41: FutureWarning: The behavior of DataFrame concatenation with empty or all-NA entries is deprecated. In a future version, this will no longer exclude empty or all-NA columns when determining the result dtypes. To retain the old behavior, exclude the relevant entries before the concat operation.\n",
      "  consolidated_df = pd.concat([consolidated_df, pd.DataFrame([row_data])], ignore_index=True)\n"
     ]
    },
    {
     "name": "stdout",
     "output_type": "stream",
     "text": [
      "Filtered by frame format for NWS\n",
      "Filtering columns with >95% empty cells for NWS\n",
      "Removed sparse columns for NWS\n",
      "Successfully processed and saved data for NWS to ./data/clean/NWS.csv\n",
      "Processing symbol: NEE\n",
      "Successfully read data for NEE\n",
      "Pivoted data for NEE\n"
     ]
    },
    {
     "name": "stderr",
     "output_type": "stream",
     "text": [
      "/var/folders/0w/q70p80s12nz5lpzr087614lw0000gn/T/ipykernel_52557/4138676989.py:41: FutureWarning: The behavior of DataFrame concatenation with empty or all-NA entries is deprecated. In a future version, this will no longer exclude empty or all-NA columns when determining the result dtypes. To retain the old behavior, exclude the relevant entries before the concat operation.\n",
      "  consolidated_df = pd.concat([consolidated_df, pd.DataFrame([row_data])], ignore_index=True)\n"
     ]
    },
    {
     "name": "stdout",
     "output_type": "stream",
     "text": [
      "Filtered by frame format for NEE\n",
      "Filtering columns with >95% empty cells for NEE\n",
      "Removed sparse columns for NEE\n",
      "Successfully processed and saved data for NEE to ./data/clean/NEE.csv\n",
      "Processing symbol: NKE\n",
      "Successfully read data for NKE\n",
      "Pivoted data for NKE\n"
     ]
    },
    {
     "name": "stderr",
     "output_type": "stream",
     "text": [
      "/var/folders/0w/q70p80s12nz5lpzr087614lw0000gn/T/ipykernel_52557/4138676989.py:41: FutureWarning: The behavior of DataFrame concatenation with empty or all-NA entries is deprecated. In a future version, this will no longer exclude empty or all-NA columns when determining the result dtypes. To retain the old behavior, exclude the relevant entries before the concat operation.\n",
      "  consolidated_df = pd.concat([consolidated_df, pd.DataFrame([row_data])], ignore_index=True)\n"
     ]
    },
    {
     "name": "stdout",
     "output_type": "stream",
     "text": [
      "Filtered by frame format for NKE\n",
      "Filtering columns with >95% empty cells for NKE\n",
      "Removed sparse columns for NKE\n",
      "Successfully processed and saved data for NKE to ./data/clean/NKE.csv\n",
      "Processing symbol: NI\n",
      "Successfully read data for NI\n",
      "Pivoted data for NI\n"
     ]
    },
    {
     "name": "stderr",
     "output_type": "stream",
     "text": [
      "/var/folders/0w/q70p80s12nz5lpzr087614lw0000gn/T/ipykernel_52557/4138676989.py:41: FutureWarning: The behavior of DataFrame concatenation with empty or all-NA entries is deprecated. In a future version, this will no longer exclude empty or all-NA columns when determining the result dtypes. To retain the old behavior, exclude the relevant entries before the concat operation.\n",
      "  consolidated_df = pd.concat([consolidated_df, pd.DataFrame([row_data])], ignore_index=True)\n"
     ]
    },
    {
     "name": "stdout",
     "output_type": "stream",
     "text": [
      "Filtered by frame format for NI\n",
      "Filtering columns with >95% empty cells for NI\n",
      "Removed sparse columns for NI\n",
      "Successfully processed and saved data for NI to ./data/clean/NI.csv\n",
      "Processing symbol: NDSN\n",
      "Successfully read data for NDSN\n",
      "Pivoted data for NDSN\n"
     ]
    },
    {
     "name": "stderr",
     "output_type": "stream",
     "text": [
      "/var/folders/0w/q70p80s12nz5lpzr087614lw0000gn/T/ipykernel_52557/4138676989.py:41: FutureWarning: The behavior of DataFrame concatenation with empty or all-NA entries is deprecated. In a future version, this will no longer exclude empty or all-NA columns when determining the result dtypes. To retain the old behavior, exclude the relevant entries before the concat operation.\n",
      "  consolidated_df = pd.concat([consolidated_df, pd.DataFrame([row_data])], ignore_index=True)\n"
     ]
    },
    {
     "name": "stdout",
     "output_type": "stream",
     "text": [
      "Filtered by frame format for NDSN\n",
      "Filtering columns with >95% empty cells for NDSN\n",
      "Removed sparse columns for NDSN\n",
      "Successfully processed and saved data for NDSN to ./data/clean/NDSN.csv\n",
      "Processing symbol: NSC\n",
      "Successfully read data for NSC\n",
      "Pivoted data for NSC\n"
     ]
    },
    {
     "name": "stderr",
     "output_type": "stream",
     "text": [
      "/var/folders/0w/q70p80s12nz5lpzr087614lw0000gn/T/ipykernel_52557/4138676989.py:41: FutureWarning: The behavior of DataFrame concatenation with empty or all-NA entries is deprecated. In a future version, this will no longer exclude empty or all-NA columns when determining the result dtypes. To retain the old behavior, exclude the relevant entries before the concat operation.\n",
      "  consolidated_df = pd.concat([consolidated_df, pd.DataFrame([row_data])], ignore_index=True)\n"
     ]
    },
    {
     "name": "stdout",
     "output_type": "stream",
     "text": [
      "Filtered by frame format for NSC\n",
      "Filtering columns with >95% empty cells for NSC\n",
      "Removed sparse columns for NSC\n",
      "Successfully processed and saved data for NSC to ./data/clean/NSC.csv\n",
      "Processing symbol: NTRS\n",
      "Successfully read data for NTRS\n",
      "Pivoted data for NTRS\n"
     ]
    },
    {
     "name": "stderr",
     "output_type": "stream",
     "text": [
      "/var/folders/0w/q70p80s12nz5lpzr087614lw0000gn/T/ipykernel_52557/4138676989.py:41: FutureWarning: The behavior of DataFrame concatenation with empty or all-NA entries is deprecated. In a future version, this will no longer exclude empty or all-NA columns when determining the result dtypes. To retain the old behavior, exclude the relevant entries before the concat operation.\n",
      "  consolidated_df = pd.concat([consolidated_df, pd.DataFrame([row_data])], ignore_index=True)\n"
     ]
    },
    {
     "name": "stdout",
     "output_type": "stream",
     "text": [
      "Filtered by frame format for NTRS\n",
      "Filtering columns with >95% empty cells for NTRS\n",
      "Removed sparse columns for NTRS\n",
      "Successfully processed and saved data for NTRS to ./data/clean/NTRS.csv\n",
      "Processing symbol: NOC\n",
      "Successfully read data for NOC\n",
      "Pivoted data for NOC\n"
     ]
    },
    {
     "name": "stderr",
     "output_type": "stream",
     "text": [
      "/var/folders/0w/q70p80s12nz5lpzr087614lw0000gn/T/ipykernel_52557/4138676989.py:41: FutureWarning: The behavior of DataFrame concatenation with empty or all-NA entries is deprecated. In a future version, this will no longer exclude empty or all-NA columns when determining the result dtypes. To retain the old behavior, exclude the relevant entries before the concat operation.\n",
      "  consolidated_df = pd.concat([consolidated_df, pd.DataFrame([row_data])], ignore_index=True)\n"
     ]
    },
    {
     "name": "stdout",
     "output_type": "stream",
     "text": [
      "Filtered by frame format for NOC\n",
      "Filtering columns with >95% empty cells for NOC\n",
      "Removed sparse columns for NOC\n",
      "Successfully processed and saved data for NOC to ./data/clean/NOC.csv\n",
      "Processing symbol: NCLH\n",
      "Successfully read data for NCLH\n",
      "Pivoted data for NCLH\n"
     ]
    },
    {
     "name": "stderr",
     "output_type": "stream",
     "text": [
      "/var/folders/0w/q70p80s12nz5lpzr087614lw0000gn/T/ipykernel_52557/4138676989.py:41: FutureWarning: The behavior of DataFrame concatenation with empty or all-NA entries is deprecated. In a future version, this will no longer exclude empty or all-NA columns when determining the result dtypes. To retain the old behavior, exclude the relevant entries before the concat operation.\n",
      "  consolidated_df = pd.concat([consolidated_df, pd.DataFrame([row_data])], ignore_index=True)\n"
     ]
    },
    {
     "name": "stdout",
     "output_type": "stream",
     "text": [
      "Filtered by frame format for NCLH\n",
      "Filtering columns with >95% empty cells for NCLH\n",
      "Removed sparse columns for NCLH\n",
      "Successfully processed and saved data for NCLH to ./data/clean/NCLH.csv\n",
      "Processing symbol: NRG\n",
      "Successfully read data for NRG\n",
      "Pivoted data for NRG\n"
     ]
    },
    {
     "name": "stderr",
     "output_type": "stream",
     "text": [
      "/var/folders/0w/q70p80s12nz5lpzr087614lw0000gn/T/ipykernel_52557/4138676989.py:41: FutureWarning: The behavior of DataFrame concatenation with empty or all-NA entries is deprecated. In a future version, this will no longer exclude empty or all-NA columns when determining the result dtypes. To retain the old behavior, exclude the relevant entries before the concat operation.\n",
      "  consolidated_df = pd.concat([consolidated_df, pd.DataFrame([row_data])], ignore_index=True)\n"
     ]
    },
    {
     "name": "stdout",
     "output_type": "stream",
     "text": [
      "Filtered by frame format for NRG\n",
      "Filtering columns with >95% empty cells for NRG\n",
      "Removed sparse columns for NRG\n",
      "Successfully processed and saved data for NRG to ./data/clean/NRG.csv\n",
      "Processing symbol: NUE\n",
      "Successfully read data for NUE\n",
      "Pivoted data for NUE\n"
     ]
    },
    {
     "name": "stderr",
     "output_type": "stream",
     "text": [
      "/var/folders/0w/q70p80s12nz5lpzr087614lw0000gn/T/ipykernel_52557/4138676989.py:41: FutureWarning: The behavior of DataFrame concatenation with empty or all-NA entries is deprecated. In a future version, this will no longer exclude empty or all-NA columns when determining the result dtypes. To retain the old behavior, exclude the relevant entries before the concat operation.\n",
      "  consolidated_df = pd.concat([consolidated_df, pd.DataFrame([row_data])], ignore_index=True)\n"
     ]
    },
    {
     "name": "stdout",
     "output_type": "stream",
     "text": [
      "Filtered by frame format for NUE\n",
      "Filtering columns with >95% empty cells for NUE\n",
      "Removed sparse columns for NUE\n",
      "Successfully processed and saved data for NUE to ./data/clean/NUE.csv\n",
      "Processing symbol: NVDA\n",
      "Successfully read data for NVDA\n",
      "Pivoted data for NVDA\n"
     ]
    },
    {
     "name": "stderr",
     "output_type": "stream",
     "text": [
      "/var/folders/0w/q70p80s12nz5lpzr087614lw0000gn/T/ipykernel_52557/4138676989.py:41: FutureWarning: The behavior of DataFrame concatenation with empty or all-NA entries is deprecated. In a future version, this will no longer exclude empty or all-NA columns when determining the result dtypes. To retain the old behavior, exclude the relevant entries before the concat operation.\n",
      "  consolidated_df = pd.concat([consolidated_df, pd.DataFrame([row_data])], ignore_index=True)\n"
     ]
    },
    {
     "name": "stdout",
     "output_type": "stream",
     "text": [
      "Filtered by frame format for NVDA\n",
      "Filtering columns with >95% empty cells for NVDA\n",
      "Removed sparse columns for NVDA\n",
      "Successfully processed and saved data for NVDA to ./data/clean/NVDA.csv\n",
      "Processing symbol: NVR\n",
      "Successfully read data for NVR\n",
      "Pivoted data for NVR\n"
     ]
    },
    {
     "name": "stderr",
     "output_type": "stream",
     "text": [
      "/var/folders/0w/q70p80s12nz5lpzr087614lw0000gn/T/ipykernel_52557/4138676989.py:41: FutureWarning: The behavior of DataFrame concatenation with empty or all-NA entries is deprecated. In a future version, this will no longer exclude empty or all-NA columns when determining the result dtypes. To retain the old behavior, exclude the relevant entries before the concat operation.\n",
      "  consolidated_df = pd.concat([consolidated_df, pd.DataFrame([row_data])], ignore_index=True)\n"
     ]
    },
    {
     "name": "stdout",
     "output_type": "stream",
     "text": [
      "Filtered by frame format for NVR\n",
      "Filtering columns with >95% empty cells for NVR\n",
      "Removed sparse columns for NVR\n",
      "Successfully processed and saved data for NVR to ./data/clean/NVR.csv\n",
      "Processing symbol: NXPI\n",
      "Successfully read data for NXPI\n",
      "Pivoted data for NXPI\n"
     ]
    },
    {
     "name": "stderr",
     "output_type": "stream",
     "text": [
      "/var/folders/0w/q70p80s12nz5lpzr087614lw0000gn/T/ipykernel_52557/4138676989.py:41: FutureWarning: The behavior of DataFrame concatenation with empty or all-NA entries is deprecated. In a future version, this will no longer exclude empty or all-NA columns when determining the result dtypes. To retain the old behavior, exclude the relevant entries before the concat operation.\n",
      "  consolidated_df = pd.concat([consolidated_df, pd.DataFrame([row_data])], ignore_index=True)\n"
     ]
    },
    {
     "name": "stdout",
     "output_type": "stream",
     "text": [
      "Filtered by frame format for NXPI\n",
      "Filtering columns with >95% empty cells for NXPI\n",
      "Removed sparse columns for NXPI\n",
      "Successfully processed and saved data for NXPI to ./data/clean/NXPI.csv\n",
      "Processing symbol: ORLY\n",
      "Successfully read data for ORLY\n",
      "Pivoted data for ORLY\n"
     ]
    },
    {
     "name": "stderr",
     "output_type": "stream",
     "text": [
      "/var/folders/0w/q70p80s12nz5lpzr087614lw0000gn/T/ipykernel_52557/4138676989.py:41: FutureWarning: The behavior of DataFrame concatenation with empty or all-NA entries is deprecated. In a future version, this will no longer exclude empty or all-NA columns when determining the result dtypes. To retain the old behavior, exclude the relevant entries before the concat operation.\n",
      "  consolidated_df = pd.concat([consolidated_df, pd.DataFrame([row_data])], ignore_index=True)\n"
     ]
    },
    {
     "name": "stdout",
     "output_type": "stream",
     "text": [
      "Filtered by frame format for ORLY\n",
      "Filtering columns with >95% empty cells for ORLY\n",
      "Removed sparse columns for ORLY\n",
      "Successfully processed and saved data for ORLY to ./data/clean/ORLY.csv\n",
      "Processing symbol: OXY\n",
      "Successfully read data for OXY\n",
      "Pivoted data for OXY\n"
     ]
    },
    {
     "name": "stderr",
     "output_type": "stream",
     "text": [
      "/var/folders/0w/q70p80s12nz5lpzr087614lw0000gn/T/ipykernel_52557/4138676989.py:41: FutureWarning: The behavior of DataFrame concatenation with empty or all-NA entries is deprecated. In a future version, this will no longer exclude empty or all-NA columns when determining the result dtypes. To retain the old behavior, exclude the relevant entries before the concat operation.\n",
      "  consolidated_df = pd.concat([consolidated_df, pd.DataFrame([row_data])], ignore_index=True)\n"
     ]
    },
    {
     "name": "stdout",
     "output_type": "stream",
     "text": [
      "Filtered by frame format for OXY\n",
      "Filtering columns with >95% empty cells for OXY\n",
      "Removed sparse columns for OXY\n",
      "Successfully processed and saved data for OXY to ./data/clean/OXY.csv\n",
      "Processing symbol: ODFL\n",
      "Successfully read data for ODFL\n",
      "Pivoted data for ODFL\n"
     ]
    },
    {
     "name": "stderr",
     "output_type": "stream",
     "text": [
      "/var/folders/0w/q70p80s12nz5lpzr087614lw0000gn/T/ipykernel_52557/4138676989.py:41: FutureWarning: The behavior of DataFrame concatenation with empty or all-NA entries is deprecated. In a future version, this will no longer exclude empty or all-NA columns when determining the result dtypes. To retain the old behavior, exclude the relevant entries before the concat operation.\n",
      "  consolidated_df = pd.concat([consolidated_df, pd.DataFrame([row_data])], ignore_index=True)\n"
     ]
    },
    {
     "name": "stdout",
     "output_type": "stream",
     "text": [
      "Filtered by frame format for ODFL\n",
      "Filtering columns with >95% empty cells for ODFL\n",
      "Removed sparse columns for ODFL\n",
      "Successfully processed and saved data for ODFL to ./data/clean/ODFL.csv\n",
      "Processing symbol: OMC\n",
      "Successfully read data for OMC\n",
      "Pivoted data for OMC\n"
     ]
    },
    {
     "name": "stderr",
     "output_type": "stream",
     "text": [
      "/var/folders/0w/q70p80s12nz5lpzr087614lw0000gn/T/ipykernel_52557/4138676989.py:41: FutureWarning: The behavior of DataFrame concatenation with empty or all-NA entries is deprecated. In a future version, this will no longer exclude empty or all-NA columns when determining the result dtypes. To retain the old behavior, exclude the relevant entries before the concat operation.\n",
      "  consolidated_df = pd.concat([consolidated_df, pd.DataFrame([row_data])], ignore_index=True)\n"
     ]
    },
    {
     "name": "stdout",
     "output_type": "stream",
     "text": [
      "Filtered by frame format for OMC\n",
      "Filtering columns with >95% empty cells for OMC\n",
      "Removed sparse columns for OMC\n",
      "Successfully processed and saved data for OMC to ./data/clean/OMC.csv\n",
      "Processing symbol: ON\n",
      "Successfully read data for ON\n",
      "Pivoted data for ON\n"
     ]
    },
    {
     "name": "stderr",
     "output_type": "stream",
     "text": [
      "/var/folders/0w/q70p80s12nz5lpzr087614lw0000gn/T/ipykernel_52557/4138676989.py:41: FutureWarning: The behavior of DataFrame concatenation with empty or all-NA entries is deprecated. In a future version, this will no longer exclude empty or all-NA columns when determining the result dtypes. To retain the old behavior, exclude the relevant entries before the concat operation.\n",
      "  consolidated_df = pd.concat([consolidated_df, pd.DataFrame([row_data])], ignore_index=True)\n"
     ]
    },
    {
     "name": "stdout",
     "output_type": "stream",
     "text": [
      "Filtered by frame format for ON\n",
      "Filtering columns with >95% empty cells for ON\n",
      "Removed sparse columns for ON\n",
      "Successfully processed and saved data for ON to ./data/clean/ON.csv\n",
      "Processing symbol: OKE\n",
      "Successfully read data for OKE\n",
      "Pivoted data for OKE\n"
     ]
    },
    {
     "name": "stderr",
     "output_type": "stream",
     "text": [
      "/var/folders/0w/q70p80s12nz5lpzr087614lw0000gn/T/ipykernel_52557/4138676989.py:41: FutureWarning: The behavior of DataFrame concatenation with empty or all-NA entries is deprecated. In a future version, this will no longer exclude empty or all-NA columns when determining the result dtypes. To retain the old behavior, exclude the relevant entries before the concat operation.\n",
      "  consolidated_df = pd.concat([consolidated_df, pd.DataFrame([row_data])], ignore_index=True)\n"
     ]
    },
    {
     "name": "stdout",
     "output_type": "stream",
     "text": [
      "Filtered by frame format for OKE\n",
      "Filtering columns with >95% empty cells for OKE\n",
      "Removed sparse columns for OKE\n",
      "Successfully processed and saved data for OKE to ./data/clean/OKE.csv\n",
      "Processing symbol: ORCL\n",
      "Successfully read data for ORCL\n",
      "Pivoted data for ORCL\n"
     ]
    },
    {
     "name": "stderr",
     "output_type": "stream",
     "text": [
      "/var/folders/0w/q70p80s12nz5lpzr087614lw0000gn/T/ipykernel_52557/4138676989.py:41: FutureWarning: The behavior of DataFrame concatenation with empty or all-NA entries is deprecated. In a future version, this will no longer exclude empty or all-NA columns when determining the result dtypes. To retain the old behavior, exclude the relevant entries before the concat operation.\n",
      "  consolidated_df = pd.concat([consolidated_df, pd.DataFrame([row_data])], ignore_index=True)\n"
     ]
    },
    {
     "name": "stdout",
     "output_type": "stream",
     "text": [
      "Filtered by frame format for ORCL\n",
      "Filtering columns with >95% empty cells for ORCL\n",
      "Removed sparse columns for ORCL\n",
      "Successfully processed and saved data for ORCL to ./data/clean/ORCL.csv\n",
      "Processing symbol: OTIS\n",
      "Successfully read data for OTIS\n",
      "Pivoted data for OTIS\n"
     ]
    },
    {
     "name": "stderr",
     "output_type": "stream",
     "text": [
      "/var/folders/0w/q70p80s12nz5lpzr087614lw0000gn/T/ipykernel_52557/4138676989.py:41: FutureWarning: The behavior of DataFrame concatenation with empty or all-NA entries is deprecated. In a future version, this will no longer exclude empty or all-NA columns when determining the result dtypes. To retain the old behavior, exclude the relevant entries before the concat operation.\n",
      "  consolidated_df = pd.concat([consolidated_df, pd.DataFrame([row_data])], ignore_index=True)\n"
     ]
    },
    {
     "name": "stdout",
     "output_type": "stream",
     "text": [
      "Filtered by frame format for OTIS\n",
      "Filtering columns with >95% empty cells for OTIS\n",
      "Removed sparse columns for OTIS\n",
      "Successfully processed and saved data for OTIS to ./data/clean/OTIS.csv\n",
      "Processing symbol: PCAR\n",
      "Successfully read data for PCAR\n",
      "Pivoted data for PCAR\n"
     ]
    },
    {
     "name": "stderr",
     "output_type": "stream",
     "text": [
      "/var/folders/0w/q70p80s12nz5lpzr087614lw0000gn/T/ipykernel_52557/4138676989.py:41: FutureWarning: The behavior of DataFrame concatenation with empty or all-NA entries is deprecated. In a future version, this will no longer exclude empty or all-NA columns when determining the result dtypes. To retain the old behavior, exclude the relevant entries before the concat operation.\n",
      "  consolidated_df = pd.concat([consolidated_df, pd.DataFrame([row_data])], ignore_index=True)\n"
     ]
    },
    {
     "name": "stdout",
     "output_type": "stream",
     "text": [
      "Filtered by frame format for PCAR\n",
      "Filtering columns with >95% empty cells for PCAR\n",
      "Removed sparse columns for PCAR\n",
      "Successfully processed and saved data for PCAR to ./data/clean/PCAR.csv\n",
      "Processing symbol: PKG\n",
      "Successfully read data for PKG\n",
      "Pivoted data for PKG\n"
     ]
    },
    {
     "name": "stderr",
     "output_type": "stream",
     "text": [
      "/var/folders/0w/q70p80s12nz5lpzr087614lw0000gn/T/ipykernel_52557/4138676989.py:41: FutureWarning: The behavior of DataFrame concatenation with empty or all-NA entries is deprecated. In a future version, this will no longer exclude empty or all-NA columns when determining the result dtypes. To retain the old behavior, exclude the relevant entries before the concat operation.\n",
      "  consolidated_df = pd.concat([consolidated_df, pd.DataFrame([row_data])], ignore_index=True)\n"
     ]
    },
    {
     "name": "stdout",
     "output_type": "stream",
     "text": [
      "Filtered by frame format for PKG\n",
      "Filtering columns with >95% empty cells for PKG\n",
      "Removed sparse columns for PKG\n",
      "Successfully processed and saved data for PKG to ./data/clean/PKG.csv\n",
      "Processing symbol: PLTR\n",
      "Successfully read data for PLTR\n",
      "Pivoted data for PLTR\n"
     ]
    },
    {
     "name": "stderr",
     "output_type": "stream",
     "text": [
      "/var/folders/0w/q70p80s12nz5lpzr087614lw0000gn/T/ipykernel_52557/4138676989.py:41: FutureWarning: The behavior of DataFrame concatenation with empty or all-NA entries is deprecated. In a future version, this will no longer exclude empty or all-NA columns when determining the result dtypes. To retain the old behavior, exclude the relevant entries before the concat operation.\n",
      "  consolidated_df = pd.concat([consolidated_df, pd.DataFrame([row_data])], ignore_index=True)\n"
     ]
    },
    {
     "name": "stdout",
     "output_type": "stream",
     "text": [
      "Filtered by frame format for PLTR\n",
      "Filtering columns with >95% empty cells for PLTR\n",
      "Removed sparse columns for PLTR\n",
      "Successfully processed and saved data for PLTR to ./data/clean/PLTR.csv\n",
      "Processing symbol: PANW\n",
      "Successfully read data for PANW\n",
      "Pivoted data for PANW\n"
     ]
    },
    {
     "name": "stderr",
     "output_type": "stream",
     "text": [
      "/var/folders/0w/q70p80s12nz5lpzr087614lw0000gn/T/ipykernel_52557/4138676989.py:41: FutureWarning: The behavior of DataFrame concatenation with empty or all-NA entries is deprecated. In a future version, this will no longer exclude empty or all-NA columns when determining the result dtypes. To retain the old behavior, exclude the relevant entries before the concat operation.\n",
      "  consolidated_df = pd.concat([consolidated_df, pd.DataFrame([row_data])], ignore_index=True)\n"
     ]
    },
    {
     "name": "stdout",
     "output_type": "stream",
     "text": [
      "Filtered by frame format for PANW\n",
      "Filtering columns with >95% empty cells for PANW\n",
      "Removed sparse columns for PANW\n",
      "Successfully processed and saved data for PANW to ./data/clean/PANW.csv\n",
      "Processing symbol: PARA\n",
      "Successfully read data for PARA\n",
      "Pivoted data for PARA\n"
     ]
    },
    {
     "name": "stderr",
     "output_type": "stream",
     "text": [
      "/var/folders/0w/q70p80s12nz5lpzr087614lw0000gn/T/ipykernel_52557/4138676989.py:41: FutureWarning: The behavior of DataFrame concatenation with empty or all-NA entries is deprecated. In a future version, this will no longer exclude empty or all-NA columns when determining the result dtypes. To retain the old behavior, exclude the relevant entries before the concat operation.\n",
      "  consolidated_df = pd.concat([consolidated_df, pd.DataFrame([row_data])], ignore_index=True)\n"
     ]
    },
    {
     "name": "stdout",
     "output_type": "stream",
     "text": [
      "Filtered by frame format for PARA\n",
      "Filtering columns with >95% empty cells for PARA\n",
      "Removed sparse columns for PARA\n",
      "Successfully processed and saved data for PARA to ./data/clean/PARA.csv\n",
      "Processing symbol: PH\n",
      "Successfully read data for PH\n",
      "Pivoted data for PH\n"
     ]
    },
    {
     "name": "stderr",
     "output_type": "stream",
     "text": [
      "/var/folders/0w/q70p80s12nz5lpzr087614lw0000gn/T/ipykernel_52557/4138676989.py:41: FutureWarning: The behavior of DataFrame concatenation with empty or all-NA entries is deprecated. In a future version, this will no longer exclude empty or all-NA columns when determining the result dtypes. To retain the old behavior, exclude the relevant entries before the concat operation.\n",
      "  consolidated_df = pd.concat([consolidated_df, pd.DataFrame([row_data])], ignore_index=True)\n"
     ]
    },
    {
     "name": "stdout",
     "output_type": "stream",
     "text": [
      "Filtered by frame format for PH\n",
      "Filtering columns with >95% empty cells for PH\n",
      "Removed sparse columns for PH\n",
      "Successfully processed and saved data for PH to ./data/clean/PH.csv\n",
      "Processing symbol: PAYX\n",
      "Successfully read data for PAYX\n",
      "Pivoted data for PAYX\n"
     ]
    },
    {
     "name": "stderr",
     "output_type": "stream",
     "text": [
      "/var/folders/0w/q70p80s12nz5lpzr087614lw0000gn/T/ipykernel_52557/4138676989.py:41: FutureWarning: The behavior of DataFrame concatenation with empty or all-NA entries is deprecated. In a future version, this will no longer exclude empty or all-NA columns when determining the result dtypes. To retain the old behavior, exclude the relevant entries before the concat operation.\n",
      "  consolidated_df = pd.concat([consolidated_df, pd.DataFrame([row_data])], ignore_index=True)\n"
     ]
    },
    {
     "name": "stdout",
     "output_type": "stream",
     "text": [
      "Filtered by frame format for PAYX\n",
      "Filtering columns with >95% empty cells for PAYX\n",
      "Removed sparse columns for PAYX\n",
      "Successfully processed and saved data for PAYX to ./data/clean/PAYX.csv\n",
      "Processing symbol: PAYC\n",
      "Successfully read data for PAYC\n",
      "Pivoted data for PAYC\n"
     ]
    },
    {
     "name": "stderr",
     "output_type": "stream",
     "text": [
      "/var/folders/0w/q70p80s12nz5lpzr087614lw0000gn/T/ipykernel_52557/4138676989.py:41: FutureWarning: The behavior of DataFrame concatenation with empty or all-NA entries is deprecated. In a future version, this will no longer exclude empty or all-NA columns when determining the result dtypes. To retain the old behavior, exclude the relevant entries before the concat operation.\n",
      "  consolidated_df = pd.concat([consolidated_df, pd.DataFrame([row_data])], ignore_index=True)\n"
     ]
    },
    {
     "name": "stdout",
     "output_type": "stream",
     "text": [
      "Filtered by frame format for PAYC\n",
      "Filtering columns with >95% empty cells for PAYC\n",
      "Removed sparse columns for PAYC\n",
      "Successfully processed and saved data for PAYC to ./data/clean/PAYC.csv\n",
      "Processing symbol: PYPL\n",
      "Successfully read data for PYPL\n",
      "Pivoted data for PYPL\n"
     ]
    },
    {
     "name": "stderr",
     "output_type": "stream",
     "text": [
      "/var/folders/0w/q70p80s12nz5lpzr087614lw0000gn/T/ipykernel_52557/4138676989.py:41: FutureWarning: The behavior of DataFrame concatenation with empty or all-NA entries is deprecated. In a future version, this will no longer exclude empty or all-NA columns when determining the result dtypes. To retain the old behavior, exclude the relevant entries before the concat operation.\n",
      "  consolidated_df = pd.concat([consolidated_df, pd.DataFrame([row_data])], ignore_index=True)\n"
     ]
    },
    {
     "name": "stdout",
     "output_type": "stream",
     "text": [
      "Filtered by frame format for PYPL\n",
      "Filtering columns with >95% empty cells for PYPL\n",
      "Removed sparse columns for PYPL\n",
      "Successfully processed and saved data for PYPL to ./data/clean/PYPL.csv\n",
      "Processing symbol: PNR\n",
      "Successfully read data for PNR\n",
      "Pivoted data for PNR\n"
     ]
    },
    {
     "name": "stderr",
     "output_type": "stream",
     "text": [
      "/var/folders/0w/q70p80s12nz5lpzr087614lw0000gn/T/ipykernel_52557/4138676989.py:41: FutureWarning: The behavior of DataFrame concatenation with empty or all-NA entries is deprecated. In a future version, this will no longer exclude empty or all-NA columns when determining the result dtypes. To retain the old behavior, exclude the relevant entries before the concat operation.\n",
      "  consolidated_df = pd.concat([consolidated_df, pd.DataFrame([row_data])], ignore_index=True)\n"
     ]
    },
    {
     "name": "stdout",
     "output_type": "stream",
     "text": [
      "Filtered by frame format for PNR\n",
      "Filtering columns with >95% empty cells for PNR\n",
      "Removed sparse columns for PNR\n",
      "Successfully processed and saved data for PNR to ./data/clean/PNR.csv\n",
      "Processing symbol: PEP\n",
      "Successfully read data for PEP\n",
      "Pivoted data for PEP\n"
     ]
    },
    {
     "name": "stderr",
     "output_type": "stream",
     "text": [
      "/var/folders/0w/q70p80s12nz5lpzr087614lw0000gn/T/ipykernel_52557/4138676989.py:41: FutureWarning: The behavior of DataFrame concatenation with empty or all-NA entries is deprecated. In a future version, this will no longer exclude empty or all-NA columns when determining the result dtypes. To retain the old behavior, exclude the relevant entries before the concat operation.\n",
      "  consolidated_df = pd.concat([consolidated_df, pd.DataFrame([row_data])], ignore_index=True)\n"
     ]
    },
    {
     "name": "stdout",
     "output_type": "stream",
     "text": [
      "Filtered by frame format for PEP\n",
      "Filtering columns with >95% empty cells for PEP\n",
      "Removed sparse columns for PEP\n",
      "Successfully processed and saved data for PEP to ./data/clean/PEP.csv\n",
      "Processing symbol: PFE\n",
      "Successfully read data for PFE\n",
      "Pivoted data for PFE\n"
     ]
    },
    {
     "name": "stderr",
     "output_type": "stream",
     "text": [
      "/var/folders/0w/q70p80s12nz5lpzr087614lw0000gn/T/ipykernel_52557/4138676989.py:41: FutureWarning: The behavior of DataFrame concatenation with empty or all-NA entries is deprecated. In a future version, this will no longer exclude empty or all-NA columns when determining the result dtypes. To retain the old behavior, exclude the relevant entries before the concat operation.\n",
      "  consolidated_df = pd.concat([consolidated_df, pd.DataFrame([row_data])], ignore_index=True)\n"
     ]
    },
    {
     "name": "stdout",
     "output_type": "stream",
     "text": [
      "Filtered by frame format for PFE\n",
      "Filtering columns with >95% empty cells for PFE\n",
      "Removed sparse columns for PFE\n",
      "Successfully processed and saved data for PFE to ./data/clean/PFE.csv\n",
      "Processing symbol: PCG\n",
      "Successfully read data for PCG\n",
      "Pivoted data for PCG\n"
     ]
    },
    {
     "name": "stderr",
     "output_type": "stream",
     "text": [
      "/var/folders/0w/q70p80s12nz5lpzr087614lw0000gn/T/ipykernel_52557/4138676989.py:41: FutureWarning: The behavior of DataFrame concatenation with empty or all-NA entries is deprecated. In a future version, this will no longer exclude empty or all-NA columns when determining the result dtypes. To retain the old behavior, exclude the relevant entries before the concat operation.\n",
      "  consolidated_df = pd.concat([consolidated_df, pd.DataFrame([row_data])], ignore_index=True)\n"
     ]
    },
    {
     "name": "stdout",
     "output_type": "stream",
     "text": [
      "Filtered by frame format for PCG\n",
      "Filtering columns with >95% empty cells for PCG\n",
      "Removed sparse columns for PCG\n",
      "Successfully processed and saved data for PCG to ./data/clean/PCG.csv\n",
      "Processing symbol: PM\n",
      "Successfully read data for PM\n",
      "Pivoted data for PM\n"
     ]
    },
    {
     "name": "stderr",
     "output_type": "stream",
     "text": [
      "/var/folders/0w/q70p80s12nz5lpzr087614lw0000gn/T/ipykernel_52557/4138676989.py:41: FutureWarning: The behavior of DataFrame concatenation with empty or all-NA entries is deprecated. In a future version, this will no longer exclude empty or all-NA columns when determining the result dtypes. To retain the old behavior, exclude the relevant entries before the concat operation.\n",
      "  consolidated_df = pd.concat([consolidated_df, pd.DataFrame([row_data])], ignore_index=True)\n"
     ]
    },
    {
     "name": "stdout",
     "output_type": "stream",
     "text": [
      "Filtered by frame format for PM\n",
      "Filtering columns with >95% empty cells for PM\n",
      "Removed sparse columns for PM\n",
      "Successfully processed and saved data for PM to ./data/clean/PM.csv\n",
      "Processing symbol: PSX\n",
      "Successfully read data for PSX\n",
      "Pivoted data for PSX\n"
     ]
    },
    {
     "name": "stderr",
     "output_type": "stream",
     "text": [
      "/var/folders/0w/q70p80s12nz5lpzr087614lw0000gn/T/ipykernel_52557/4138676989.py:41: FutureWarning: The behavior of DataFrame concatenation with empty or all-NA entries is deprecated. In a future version, this will no longer exclude empty or all-NA columns when determining the result dtypes. To retain the old behavior, exclude the relevant entries before the concat operation.\n",
      "  consolidated_df = pd.concat([consolidated_df, pd.DataFrame([row_data])], ignore_index=True)\n"
     ]
    },
    {
     "name": "stdout",
     "output_type": "stream",
     "text": [
      "Filtered by frame format for PSX\n",
      "Filtering columns with >95% empty cells for PSX\n",
      "Removed sparse columns for PSX\n",
      "Successfully processed and saved data for PSX to ./data/clean/PSX.csv\n",
      "Processing symbol: PNW\n",
      "Successfully read data for PNW\n",
      "Pivoted data for PNW\n"
     ]
    },
    {
     "name": "stderr",
     "output_type": "stream",
     "text": [
      "/var/folders/0w/q70p80s12nz5lpzr087614lw0000gn/T/ipykernel_52557/4138676989.py:41: FutureWarning: The behavior of DataFrame concatenation with empty or all-NA entries is deprecated. In a future version, this will no longer exclude empty or all-NA columns when determining the result dtypes. To retain the old behavior, exclude the relevant entries before the concat operation.\n",
      "  consolidated_df = pd.concat([consolidated_df, pd.DataFrame([row_data])], ignore_index=True)\n"
     ]
    },
    {
     "name": "stdout",
     "output_type": "stream",
     "text": [
      "Filtered by frame format for PNW\n",
      "Filtering columns with >95% empty cells for PNW\n",
      "Removed sparse columns for PNW\n",
      "Successfully processed and saved data for PNW to ./data/clean/PNW.csv\n",
      "Processing symbol: PNC\n",
      "Successfully read data for PNC\n",
      "Pivoted data for PNC\n"
     ]
    },
    {
     "name": "stderr",
     "output_type": "stream",
     "text": [
      "/var/folders/0w/q70p80s12nz5lpzr087614lw0000gn/T/ipykernel_52557/4138676989.py:41: FutureWarning: The behavior of DataFrame concatenation with empty or all-NA entries is deprecated. In a future version, this will no longer exclude empty or all-NA columns when determining the result dtypes. To retain the old behavior, exclude the relevant entries before the concat operation.\n",
      "  consolidated_df = pd.concat([consolidated_df, pd.DataFrame([row_data])], ignore_index=True)\n"
     ]
    },
    {
     "name": "stdout",
     "output_type": "stream",
     "text": [
      "Filtered by frame format for PNC\n",
      "Filtering columns with >95% empty cells for PNC\n",
      "Removed sparse columns for PNC\n",
      "Successfully processed and saved data for PNC to ./data/clean/PNC.csv\n",
      "Processing symbol: POOL\n",
      "Successfully read data for POOL\n",
      "Pivoted data for POOL\n"
     ]
    },
    {
     "name": "stderr",
     "output_type": "stream",
     "text": [
      "/var/folders/0w/q70p80s12nz5lpzr087614lw0000gn/T/ipykernel_52557/4138676989.py:41: FutureWarning: The behavior of DataFrame concatenation with empty or all-NA entries is deprecated. In a future version, this will no longer exclude empty or all-NA columns when determining the result dtypes. To retain the old behavior, exclude the relevant entries before the concat operation.\n",
      "  consolidated_df = pd.concat([consolidated_df, pd.DataFrame([row_data])], ignore_index=True)\n"
     ]
    },
    {
     "name": "stdout",
     "output_type": "stream",
     "text": [
      "Filtered by frame format for POOL\n",
      "Filtering columns with >95% empty cells for POOL\n",
      "Removed sparse columns for POOL\n",
      "Successfully processed and saved data for POOL to ./data/clean/POOL.csv\n",
      "Processing symbol: PPG\n",
      "Successfully read data for PPG\n",
      "Pivoted data for PPG\n"
     ]
    },
    {
     "name": "stderr",
     "output_type": "stream",
     "text": [
      "/var/folders/0w/q70p80s12nz5lpzr087614lw0000gn/T/ipykernel_52557/4138676989.py:41: FutureWarning: The behavior of DataFrame concatenation with empty or all-NA entries is deprecated. In a future version, this will no longer exclude empty or all-NA columns when determining the result dtypes. To retain the old behavior, exclude the relevant entries before the concat operation.\n",
      "  consolidated_df = pd.concat([consolidated_df, pd.DataFrame([row_data])], ignore_index=True)\n"
     ]
    },
    {
     "name": "stdout",
     "output_type": "stream",
     "text": [
      "Filtered by frame format for PPG\n",
      "Filtering columns with >95% empty cells for PPG\n",
      "Removed sparse columns for PPG\n",
      "Successfully processed and saved data for PPG to ./data/clean/PPG.csv\n",
      "Processing symbol: PPL\n",
      "Successfully read data for PPL\n",
      "Pivoted data for PPL\n"
     ]
    },
    {
     "name": "stderr",
     "output_type": "stream",
     "text": [
      "/var/folders/0w/q70p80s12nz5lpzr087614lw0000gn/T/ipykernel_52557/4138676989.py:41: FutureWarning: The behavior of DataFrame concatenation with empty or all-NA entries is deprecated. In a future version, this will no longer exclude empty or all-NA columns when determining the result dtypes. To retain the old behavior, exclude the relevant entries before the concat operation.\n",
      "  consolidated_df = pd.concat([consolidated_df, pd.DataFrame([row_data])], ignore_index=True)\n"
     ]
    },
    {
     "name": "stdout",
     "output_type": "stream",
     "text": [
      "Filtered by frame format for PPL\n",
      "Filtering columns with >95% empty cells for PPL\n",
      "Removed sparse columns for PPL\n",
      "Successfully processed and saved data for PPL to ./data/clean/PPL.csv\n",
      "Processing symbol: PFG\n",
      "Successfully read data for PFG\n",
      "Pivoted data for PFG\n"
     ]
    },
    {
     "name": "stderr",
     "output_type": "stream",
     "text": [
      "/var/folders/0w/q70p80s12nz5lpzr087614lw0000gn/T/ipykernel_52557/4138676989.py:41: FutureWarning: The behavior of DataFrame concatenation with empty or all-NA entries is deprecated. In a future version, this will no longer exclude empty or all-NA columns when determining the result dtypes. To retain the old behavior, exclude the relevant entries before the concat operation.\n",
      "  consolidated_df = pd.concat([consolidated_df, pd.DataFrame([row_data])], ignore_index=True)\n"
     ]
    },
    {
     "name": "stdout",
     "output_type": "stream",
     "text": [
      "Filtered by frame format for PFG\n",
      "Filtering columns with >95% empty cells for PFG\n",
      "Removed sparse columns for PFG\n",
      "Successfully processed and saved data for PFG to ./data/clean/PFG.csv\n",
      "Processing symbol: PG\n",
      "Successfully read data for PG\n",
      "Pivoted data for PG\n"
     ]
    },
    {
     "name": "stderr",
     "output_type": "stream",
     "text": [
      "/var/folders/0w/q70p80s12nz5lpzr087614lw0000gn/T/ipykernel_52557/4138676989.py:41: FutureWarning: The behavior of DataFrame concatenation with empty or all-NA entries is deprecated. In a future version, this will no longer exclude empty or all-NA columns when determining the result dtypes. To retain the old behavior, exclude the relevant entries before the concat operation.\n",
      "  consolidated_df = pd.concat([consolidated_df, pd.DataFrame([row_data])], ignore_index=True)\n"
     ]
    },
    {
     "name": "stdout",
     "output_type": "stream",
     "text": [
      "Filtered by frame format for PG\n",
      "Filtering columns with >95% empty cells for PG\n",
      "Removed sparse columns for PG\n",
      "Successfully processed and saved data for PG to ./data/clean/PG.csv\n",
      "Processing symbol: PGR\n",
      "Successfully read data for PGR\n",
      "Pivoted data for PGR\n"
     ]
    },
    {
     "name": "stderr",
     "output_type": "stream",
     "text": [
      "/var/folders/0w/q70p80s12nz5lpzr087614lw0000gn/T/ipykernel_52557/4138676989.py:41: FutureWarning: The behavior of DataFrame concatenation with empty or all-NA entries is deprecated. In a future version, this will no longer exclude empty or all-NA columns when determining the result dtypes. To retain the old behavior, exclude the relevant entries before the concat operation.\n",
      "  consolidated_df = pd.concat([consolidated_df, pd.DataFrame([row_data])], ignore_index=True)\n"
     ]
    },
    {
     "name": "stdout",
     "output_type": "stream",
     "text": [
      "Filtered by frame format for PGR\n",
      "Filtering columns with >95% empty cells for PGR\n",
      "Removed sparse columns for PGR\n",
      "Successfully processed and saved data for PGR to ./data/clean/PGR.csv\n",
      "Processing symbol: PLD\n",
      "Successfully read data for PLD\n",
      "Pivoted data for PLD\n"
     ]
    },
    {
     "name": "stderr",
     "output_type": "stream",
     "text": [
      "/var/folders/0w/q70p80s12nz5lpzr087614lw0000gn/T/ipykernel_52557/4138676989.py:41: FutureWarning: The behavior of DataFrame concatenation with empty or all-NA entries is deprecated. In a future version, this will no longer exclude empty or all-NA columns when determining the result dtypes. To retain the old behavior, exclude the relevant entries before the concat operation.\n",
      "  consolidated_df = pd.concat([consolidated_df, pd.DataFrame([row_data])], ignore_index=True)\n"
     ]
    },
    {
     "name": "stdout",
     "output_type": "stream",
     "text": [
      "Filtered by frame format for PLD\n",
      "Filtering columns with >95% empty cells for PLD\n",
      "Removed sparse columns for PLD\n",
      "Successfully processed and saved data for PLD to ./data/clean/PLD.csv\n",
      "Processing symbol: PRU\n",
      "Successfully read data for PRU\n",
      "Pivoted data for PRU\n"
     ]
    },
    {
     "name": "stderr",
     "output_type": "stream",
     "text": [
      "/var/folders/0w/q70p80s12nz5lpzr087614lw0000gn/T/ipykernel_52557/4138676989.py:41: FutureWarning: The behavior of DataFrame concatenation with empty or all-NA entries is deprecated. In a future version, this will no longer exclude empty or all-NA columns when determining the result dtypes. To retain the old behavior, exclude the relevant entries before the concat operation.\n",
      "  consolidated_df = pd.concat([consolidated_df, pd.DataFrame([row_data])], ignore_index=True)\n"
     ]
    },
    {
     "name": "stdout",
     "output_type": "stream",
     "text": [
      "Filtered by frame format for PRU\n",
      "Filtering columns with >95% empty cells for PRU\n",
      "Removed sparse columns for PRU\n",
      "Successfully processed and saved data for PRU to ./data/clean/PRU.csv\n",
      "Processing symbol: PEG\n",
      "Successfully read data for PEG\n",
      "Pivoted data for PEG\n"
     ]
    },
    {
     "name": "stderr",
     "output_type": "stream",
     "text": [
      "/var/folders/0w/q70p80s12nz5lpzr087614lw0000gn/T/ipykernel_52557/4138676989.py:41: FutureWarning: The behavior of DataFrame concatenation with empty or all-NA entries is deprecated. In a future version, this will no longer exclude empty or all-NA columns when determining the result dtypes. To retain the old behavior, exclude the relevant entries before the concat operation.\n",
      "  consolidated_df = pd.concat([consolidated_df, pd.DataFrame([row_data])], ignore_index=True)\n"
     ]
    },
    {
     "name": "stdout",
     "output_type": "stream",
     "text": [
      "Filtered by frame format for PEG\n",
      "Filtering columns with >95% empty cells for PEG\n",
      "Removed sparse columns for PEG\n",
      "Successfully processed and saved data for PEG to ./data/clean/PEG.csv\n",
      "Processing symbol: PTC\n",
      "Successfully read data for PTC\n",
      "Pivoted data for PTC\n"
     ]
    },
    {
     "name": "stderr",
     "output_type": "stream",
     "text": [
      "/var/folders/0w/q70p80s12nz5lpzr087614lw0000gn/T/ipykernel_52557/4138676989.py:41: FutureWarning: The behavior of DataFrame concatenation with empty or all-NA entries is deprecated. In a future version, this will no longer exclude empty or all-NA columns when determining the result dtypes. To retain the old behavior, exclude the relevant entries before the concat operation.\n",
      "  consolidated_df = pd.concat([consolidated_df, pd.DataFrame([row_data])], ignore_index=True)\n"
     ]
    },
    {
     "name": "stdout",
     "output_type": "stream",
     "text": [
      "Filtered by frame format for PTC\n",
      "Filtering columns with >95% empty cells for PTC\n",
      "Removed sparse columns for PTC\n",
      "Successfully processed and saved data for PTC to ./data/clean/PTC.csv\n",
      "Processing symbol: PSA\n",
      "Successfully read data for PSA\n",
      "Pivoted data for PSA\n"
     ]
    },
    {
     "name": "stderr",
     "output_type": "stream",
     "text": [
      "/var/folders/0w/q70p80s12nz5lpzr087614lw0000gn/T/ipykernel_52557/4138676989.py:41: FutureWarning: The behavior of DataFrame concatenation with empty or all-NA entries is deprecated. In a future version, this will no longer exclude empty or all-NA columns when determining the result dtypes. To retain the old behavior, exclude the relevant entries before the concat operation.\n",
      "  consolidated_df = pd.concat([consolidated_df, pd.DataFrame([row_data])], ignore_index=True)\n"
     ]
    },
    {
     "name": "stdout",
     "output_type": "stream",
     "text": [
      "Filtered by frame format for PSA\n",
      "Filtering columns with >95% empty cells for PSA\n",
      "Removed sparse columns for PSA\n",
      "Successfully processed and saved data for PSA to ./data/clean/PSA.csv\n",
      "Processing symbol: PHM\n",
      "Successfully read data for PHM\n",
      "Pivoted data for PHM\n"
     ]
    },
    {
     "name": "stderr",
     "output_type": "stream",
     "text": [
      "/var/folders/0w/q70p80s12nz5lpzr087614lw0000gn/T/ipykernel_52557/4138676989.py:41: FutureWarning: The behavior of DataFrame concatenation with empty or all-NA entries is deprecated. In a future version, this will no longer exclude empty or all-NA columns when determining the result dtypes. To retain the old behavior, exclude the relevant entries before the concat operation.\n",
      "  consolidated_df = pd.concat([consolidated_df, pd.DataFrame([row_data])], ignore_index=True)\n"
     ]
    },
    {
     "name": "stdout",
     "output_type": "stream",
     "text": [
      "Filtered by frame format for PHM\n",
      "Filtering columns with >95% empty cells for PHM\n",
      "Removed sparse columns for PHM\n",
      "Successfully processed and saved data for PHM to ./data/clean/PHM.csv\n",
      "Processing symbol: PWR\n",
      "Successfully read data for PWR\n",
      "Pivoted data for PWR\n"
     ]
    },
    {
     "name": "stderr",
     "output_type": "stream",
     "text": [
      "/var/folders/0w/q70p80s12nz5lpzr087614lw0000gn/T/ipykernel_52557/4138676989.py:41: FutureWarning: The behavior of DataFrame concatenation with empty or all-NA entries is deprecated. In a future version, this will no longer exclude empty or all-NA columns when determining the result dtypes. To retain the old behavior, exclude the relevant entries before the concat operation.\n",
      "  consolidated_df = pd.concat([consolidated_df, pd.DataFrame([row_data])], ignore_index=True)\n"
     ]
    },
    {
     "name": "stdout",
     "output_type": "stream",
     "text": [
      "Filtered by frame format for PWR\n",
      "Filtering columns with >95% empty cells for PWR\n",
      "Removed sparse columns for PWR\n",
      "Successfully processed and saved data for PWR to ./data/clean/PWR.csv\n",
      "Processing symbol: QCOM\n",
      "Successfully read data for QCOM\n",
      "Pivoted data for QCOM\n"
     ]
    },
    {
     "name": "stderr",
     "output_type": "stream",
     "text": [
      "/var/folders/0w/q70p80s12nz5lpzr087614lw0000gn/T/ipykernel_52557/4138676989.py:41: FutureWarning: The behavior of DataFrame concatenation with empty or all-NA entries is deprecated. In a future version, this will no longer exclude empty or all-NA columns when determining the result dtypes. To retain the old behavior, exclude the relevant entries before the concat operation.\n",
      "  consolidated_df = pd.concat([consolidated_df, pd.DataFrame([row_data])], ignore_index=True)\n"
     ]
    },
    {
     "name": "stdout",
     "output_type": "stream",
     "text": [
      "Filtered by frame format for QCOM\n",
      "Filtering columns with >95% empty cells for QCOM\n",
      "Removed sparse columns for QCOM\n",
      "Successfully processed and saved data for QCOM to ./data/clean/QCOM.csv\n",
      "Processing symbol: DGX\n",
      "Successfully read data for DGX\n",
      "Pivoted data for DGX\n"
     ]
    },
    {
     "name": "stderr",
     "output_type": "stream",
     "text": [
      "/var/folders/0w/q70p80s12nz5lpzr087614lw0000gn/T/ipykernel_52557/4138676989.py:41: FutureWarning: The behavior of DataFrame concatenation with empty or all-NA entries is deprecated. In a future version, this will no longer exclude empty or all-NA columns when determining the result dtypes. To retain the old behavior, exclude the relevant entries before the concat operation.\n",
      "  consolidated_df = pd.concat([consolidated_df, pd.DataFrame([row_data])], ignore_index=True)\n"
     ]
    },
    {
     "name": "stdout",
     "output_type": "stream",
     "text": [
      "Filtered by frame format for DGX\n",
      "Filtering columns with >95% empty cells for DGX\n",
      "Removed sparse columns for DGX\n",
      "Successfully processed and saved data for DGX to ./data/clean/DGX.csv\n",
      "Processing symbol: RL\n",
      "Successfully read data for RL\n",
      "Pivoted data for RL\n"
     ]
    },
    {
     "name": "stderr",
     "output_type": "stream",
     "text": [
      "/var/folders/0w/q70p80s12nz5lpzr087614lw0000gn/T/ipykernel_52557/4138676989.py:41: FutureWarning: The behavior of DataFrame concatenation with empty or all-NA entries is deprecated. In a future version, this will no longer exclude empty or all-NA columns when determining the result dtypes. To retain the old behavior, exclude the relevant entries before the concat operation.\n",
      "  consolidated_df = pd.concat([consolidated_df, pd.DataFrame([row_data])], ignore_index=True)\n"
     ]
    },
    {
     "name": "stdout",
     "output_type": "stream",
     "text": [
      "Filtered by frame format for RL\n",
      "Filtering columns with >95% empty cells for RL\n",
      "Removed sparse columns for RL\n",
      "Successfully processed and saved data for RL to ./data/clean/RL.csv\n",
      "Processing symbol: RJF\n",
      "Successfully read data for RJF\n",
      "Pivoted data for RJF\n"
     ]
    },
    {
     "name": "stderr",
     "output_type": "stream",
     "text": [
      "/var/folders/0w/q70p80s12nz5lpzr087614lw0000gn/T/ipykernel_52557/4138676989.py:41: FutureWarning: The behavior of DataFrame concatenation with empty or all-NA entries is deprecated. In a future version, this will no longer exclude empty or all-NA columns when determining the result dtypes. To retain the old behavior, exclude the relevant entries before the concat operation.\n",
      "  consolidated_df = pd.concat([consolidated_df, pd.DataFrame([row_data])], ignore_index=True)\n"
     ]
    },
    {
     "name": "stdout",
     "output_type": "stream",
     "text": [
      "Filtered by frame format for RJF\n",
      "Filtering columns with >95% empty cells for RJF\n",
      "Removed sparse columns for RJF\n",
      "Successfully processed and saved data for RJF to ./data/clean/RJF.csv\n",
      "Processing symbol: RTX\n",
      "Successfully read data for RTX\n",
      "Pivoted data for RTX\n"
     ]
    },
    {
     "name": "stderr",
     "output_type": "stream",
     "text": [
      "/var/folders/0w/q70p80s12nz5lpzr087614lw0000gn/T/ipykernel_52557/4138676989.py:41: FutureWarning: The behavior of DataFrame concatenation with empty or all-NA entries is deprecated. In a future version, this will no longer exclude empty or all-NA columns when determining the result dtypes. To retain the old behavior, exclude the relevant entries before the concat operation.\n",
      "  consolidated_df = pd.concat([consolidated_df, pd.DataFrame([row_data])], ignore_index=True)\n"
     ]
    },
    {
     "name": "stdout",
     "output_type": "stream",
     "text": [
      "Filtered by frame format for RTX\n",
      "Filtering columns with >95% empty cells for RTX\n",
      "Removed sparse columns for RTX\n",
      "Successfully processed and saved data for RTX to ./data/clean/RTX.csv\n",
      "Processing symbol: O\n",
      "Successfully read data for O\n",
      "Pivoted data for O\n"
     ]
    },
    {
     "name": "stderr",
     "output_type": "stream",
     "text": [
      "/var/folders/0w/q70p80s12nz5lpzr087614lw0000gn/T/ipykernel_52557/4138676989.py:41: FutureWarning: The behavior of DataFrame concatenation with empty or all-NA entries is deprecated. In a future version, this will no longer exclude empty or all-NA columns when determining the result dtypes. To retain the old behavior, exclude the relevant entries before the concat operation.\n",
      "  consolidated_df = pd.concat([consolidated_df, pd.DataFrame([row_data])], ignore_index=True)\n"
     ]
    },
    {
     "name": "stdout",
     "output_type": "stream",
     "text": [
      "Filtered by frame format for O\n",
      "Filtering columns with >95% empty cells for O\n",
      "Removed sparse columns for O\n",
      "Successfully processed and saved data for O to ./data/clean/O.csv\n",
      "Processing symbol: REG\n",
      "Successfully read data for REG\n",
      "Pivoted data for REG\n"
     ]
    },
    {
     "name": "stderr",
     "output_type": "stream",
     "text": [
      "/var/folders/0w/q70p80s12nz5lpzr087614lw0000gn/T/ipykernel_52557/4138676989.py:41: FutureWarning: The behavior of DataFrame concatenation with empty or all-NA entries is deprecated. In a future version, this will no longer exclude empty or all-NA columns when determining the result dtypes. To retain the old behavior, exclude the relevant entries before the concat operation.\n",
      "  consolidated_df = pd.concat([consolidated_df, pd.DataFrame([row_data])], ignore_index=True)\n"
     ]
    },
    {
     "name": "stdout",
     "output_type": "stream",
     "text": [
      "Filtered by frame format for REG\n",
      "Filtering columns with >95% empty cells for REG\n",
      "Removed sparse columns for REG\n",
      "Successfully processed and saved data for REG to ./data/clean/REG.csv\n",
      "Processing symbol: REGN\n",
      "Successfully read data for REGN\n",
      "Pivoted data for REGN\n"
     ]
    },
    {
     "name": "stderr",
     "output_type": "stream",
     "text": [
      "/var/folders/0w/q70p80s12nz5lpzr087614lw0000gn/T/ipykernel_52557/4138676989.py:41: FutureWarning: The behavior of DataFrame concatenation with empty or all-NA entries is deprecated. In a future version, this will no longer exclude empty or all-NA columns when determining the result dtypes. To retain the old behavior, exclude the relevant entries before the concat operation.\n",
      "  consolidated_df = pd.concat([consolidated_df, pd.DataFrame([row_data])], ignore_index=True)\n"
     ]
    },
    {
     "name": "stdout",
     "output_type": "stream",
     "text": [
      "Filtered by frame format for REGN\n",
      "Filtering columns with >95% empty cells for REGN\n",
      "Removed sparse columns for REGN\n",
      "Successfully processed and saved data for REGN to ./data/clean/REGN.csv\n",
      "Processing symbol: RF\n",
      "Successfully read data for RF\n",
      "Pivoted data for RF\n"
     ]
    },
    {
     "name": "stderr",
     "output_type": "stream",
     "text": [
      "/var/folders/0w/q70p80s12nz5lpzr087614lw0000gn/T/ipykernel_52557/4138676989.py:41: FutureWarning: The behavior of DataFrame concatenation with empty or all-NA entries is deprecated. In a future version, this will no longer exclude empty or all-NA columns when determining the result dtypes. To retain the old behavior, exclude the relevant entries before the concat operation.\n",
      "  consolidated_df = pd.concat([consolidated_df, pd.DataFrame([row_data])], ignore_index=True)\n"
     ]
    },
    {
     "name": "stdout",
     "output_type": "stream",
     "text": [
      "Filtered by frame format for RF\n",
      "Filtering columns with >95% empty cells for RF\n",
      "Removed sparse columns for RF\n",
      "Successfully processed and saved data for RF to ./data/clean/RF.csv\n",
      "Processing symbol: RSG\n",
      "Successfully read data for RSG\n",
      "Pivoted data for RSG\n"
     ]
    },
    {
     "name": "stderr",
     "output_type": "stream",
     "text": [
      "/var/folders/0w/q70p80s12nz5lpzr087614lw0000gn/T/ipykernel_52557/4138676989.py:41: FutureWarning: The behavior of DataFrame concatenation with empty or all-NA entries is deprecated. In a future version, this will no longer exclude empty or all-NA columns when determining the result dtypes. To retain the old behavior, exclude the relevant entries before the concat operation.\n",
      "  consolidated_df = pd.concat([consolidated_df, pd.DataFrame([row_data])], ignore_index=True)\n"
     ]
    },
    {
     "name": "stdout",
     "output_type": "stream",
     "text": [
      "Filtered by frame format for RSG\n",
      "Filtering columns with >95% empty cells for RSG\n",
      "Removed sparse columns for RSG\n",
      "Successfully processed and saved data for RSG to ./data/clean/RSG.csv\n",
      "Processing symbol: RMD\n",
      "Successfully read data for RMD\n",
      "Pivoted data for RMD\n"
     ]
    },
    {
     "name": "stderr",
     "output_type": "stream",
     "text": [
      "/var/folders/0w/q70p80s12nz5lpzr087614lw0000gn/T/ipykernel_52557/4138676989.py:41: FutureWarning: The behavior of DataFrame concatenation with empty or all-NA entries is deprecated. In a future version, this will no longer exclude empty or all-NA columns when determining the result dtypes. To retain the old behavior, exclude the relevant entries before the concat operation.\n",
      "  consolidated_df = pd.concat([consolidated_df, pd.DataFrame([row_data])], ignore_index=True)\n"
     ]
    },
    {
     "name": "stdout",
     "output_type": "stream",
     "text": [
      "Filtered by frame format for RMD\n",
      "Filtering columns with >95% empty cells for RMD\n",
      "Removed sparse columns for RMD\n",
      "Successfully processed and saved data for RMD to ./data/clean/RMD.csv\n",
      "Processing symbol: RVTY\n",
      "Successfully read data for RVTY\n",
      "Pivoted data for RVTY\n"
     ]
    },
    {
     "name": "stderr",
     "output_type": "stream",
     "text": [
      "/var/folders/0w/q70p80s12nz5lpzr087614lw0000gn/T/ipykernel_52557/4138676989.py:41: FutureWarning: The behavior of DataFrame concatenation with empty or all-NA entries is deprecated. In a future version, this will no longer exclude empty or all-NA columns when determining the result dtypes. To retain the old behavior, exclude the relevant entries before the concat operation.\n",
      "  consolidated_df = pd.concat([consolidated_df, pd.DataFrame([row_data])], ignore_index=True)\n"
     ]
    },
    {
     "name": "stdout",
     "output_type": "stream",
     "text": [
      "Filtered by frame format for RVTY\n",
      "Filtering columns with >95% empty cells for RVTY\n",
      "Removed sparse columns for RVTY\n",
      "Successfully processed and saved data for RVTY to ./data/clean/RVTY.csv\n",
      "Processing symbol: ROK\n",
      "Successfully read data for ROK\n",
      "Pivoted data for ROK\n"
     ]
    },
    {
     "name": "stderr",
     "output_type": "stream",
     "text": [
      "/var/folders/0w/q70p80s12nz5lpzr087614lw0000gn/T/ipykernel_52557/4138676989.py:41: FutureWarning: The behavior of DataFrame concatenation with empty or all-NA entries is deprecated. In a future version, this will no longer exclude empty or all-NA columns when determining the result dtypes. To retain the old behavior, exclude the relevant entries before the concat operation.\n",
      "  consolidated_df = pd.concat([consolidated_df, pd.DataFrame([row_data])], ignore_index=True)\n"
     ]
    },
    {
     "name": "stdout",
     "output_type": "stream",
     "text": [
      "Filtered by frame format for ROK\n",
      "Filtering columns with >95% empty cells for ROK\n",
      "Removed sparse columns for ROK\n",
      "Successfully processed and saved data for ROK to ./data/clean/ROK.csv\n",
      "Processing symbol: ROL\n",
      "Successfully read data for ROL\n",
      "Pivoted data for ROL\n"
     ]
    },
    {
     "name": "stderr",
     "output_type": "stream",
     "text": [
      "/var/folders/0w/q70p80s12nz5lpzr087614lw0000gn/T/ipykernel_52557/4138676989.py:41: FutureWarning: The behavior of DataFrame concatenation with empty or all-NA entries is deprecated. In a future version, this will no longer exclude empty or all-NA columns when determining the result dtypes. To retain the old behavior, exclude the relevant entries before the concat operation.\n",
      "  consolidated_df = pd.concat([consolidated_df, pd.DataFrame([row_data])], ignore_index=True)\n"
     ]
    },
    {
     "name": "stdout",
     "output_type": "stream",
     "text": [
      "Filtered by frame format for ROL\n",
      "Filtering columns with >95% empty cells for ROL\n",
      "Removed sparse columns for ROL\n",
      "Successfully processed and saved data for ROL to ./data/clean/ROL.csv\n",
      "Processing symbol: ROP\n",
      "Successfully read data for ROP\n",
      "Pivoted data for ROP\n"
     ]
    },
    {
     "name": "stderr",
     "output_type": "stream",
     "text": [
      "/var/folders/0w/q70p80s12nz5lpzr087614lw0000gn/T/ipykernel_52557/4138676989.py:41: FutureWarning: The behavior of DataFrame concatenation with empty or all-NA entries is deprecated. In a future version, this will no longer exclude empty or all-NA columns when determining the result dtypes. To retain the old behavior, exclude the relevant entries before the concat operation.\n",
      "  consolidated_df = pd.concat([consolidated_df, pd.DataFrame([row_data])], ignore_index=True)\n"
     ]
    },
    {
     "name": "stdout",
     "output_type": "stream",
     "text": [
      "Filtered by frame format for ROP\n",
      "Filtering columns with >95% empty cells for ROP\n",
      "Removed sparse columns for ROP\n",
      "Successfully processed and saved data for ROP to ./data/clean/ROP.csv\n",
      "Processing symbol: ROST\n",
      "Successfully read data for ROST\n",
      "Pivoted data for ROST\n"
     ]
    },
    {
     "name": "stderr",
     "output_type": "stream",
     "text": [
      "/var/folders/0w/q70p80s12nz5lpzr087614lw0000gn/T/ipykernel_52557/4138676989.py:41: FutureWarning: The behavior of DataFrame concatenation with empty or all-NA entries is deprecated. In a future version, this will no longer exclude empty or all-NA columns when determining the result dtypes. To retain the old behavior, exclude the relevant entries before the concat operation.\n",
      "  consolidated_df = pd.concat([consolidated_df, pd.DataFrame([row_data])], ignore_index=True)\n"
     ]
    },
    {
     "name": "stdout",
     "output_type": "stream",
     "text": [
      "Filtered by frame format for ROST\n",
      "Filtering columns with >95% empty cells for ROST\n",
      "Removed sparse columns for ROST\n",
      "Successfully processed and saved data for ROST to ./data/clean/ROST.csv\n",
      "Processing symbol: RCL\n",
      "Successfully read data for RCL\n",
      "Pivoted data for RCL\n"
     ]
    },
    {
     "name": "stderr",
     "output_type": "stream",
     "text": [
      "/var/folders/0w/q70p80s12nz5lpzr087614lw0000gn/T/ipykernel_52557/4138676989.py:41: FutureWarning: The behavior of DataFrame concatenation with empty or all-NA entries is deprecated. In a future version, this will no longer exclude empty or all-NA columns when determining the result dtypes. To retain the old behavior, exclude the relevant entries before the concat operation.\n",
      "  consolidated_df = pd.concat([consolidated_df, pd.DataFrame([row_data])], ignore_index=True)\n"
     ]
    },
    {
     "name": "stdout",
     "output_type": "stream",
     "text": [
      "Filtered by frame format for RCL\n",
      "Filtering columns with >95% empty cells for RCL\n",
      "Removed sparse columns for RCL\n",
      "Successfully processed and saved data for RCL to ./data/clean/RCL.csv\n",
      "Processing symbol: SPGI\n",
      "Successfully read data for SPGI\n",
      "Pivoted data for SPGI\n"
     ]
    },
    {
     "name": "stderr",
     "output_type": "stream",
     "text": [
      "/var/folders/0w/q70p80s12nz5lpzr087614lw0000gn/T/ipykernel_52557/4138676989.py:41: FutureWarning: The behavior of DataFrame concatenation with empty or all-NA entries is deprecated. In a future version, this will no longer exclude empty or all-NA columns when determining the result dtypes. To retain the old behavior, exclude the relevant entries before the concat operation.\n",
      "  consolidated_df = pd.concat([consolidated_df, pd.DataFrame([row_data])], ignore_index=True)\n"
     ]
    },
    {
     "name": "stdout",
     "output_type": "stream",
     "text": [
      "Filtered by frame format for SPGI\n",
      "Filtering columns with >95% empty cells for SPGI\n",
      "Removed sparse columns for SPGI\n",
      "Successfully processed and saved data for SPGI to ./data/clean/SPGI.csv\n",
      "Processing symbol: CRM\n",
      "Successfully read data for CRM\n",
      "Pivoted data for CRM\n"
     ]
    },
    {
     "name": "stderr",
     "output_type": "stream",
     "text": [
      "/var/folders/0w/q70p80s12nz5lpzr087614lw0000gn/T/ipykernel_52557/4138676989.py:41: FutureWarning: The behavior of DataFrame concatenation with empty or all-NA entries is deprecated. In a future version, this will no longer exclude empty or all-NA columns when determining the result dtypes. To retain the old behavior, exclude the relevant entries before the concat operation.\n",
      "  consolidated_df = pd.concat([consolidated_df, pd.DataFrame([row_data])], ignore_index=True)\n"
     ]
    },
    {
     "name": "stdout",
     "output_type": "stream",
     "text": [
      "Filtered by frame format for CRM\n",
      "Filtering columns with >95% empty cells for CRM\n",
      "Removed sparse columns for CRM\n",
      "Successfully processed and saved data for CRM to ./data/clean/CRM.csv\n",
      "Processing symbol: SBAC\n",
      "Successfully read data for SBAC\n",
      "Pivoted data for SBAC\n"
     ]
    },
    {
     "name": "stderr",
     "output_type": "stream",
     "text": [
      "/var/folders/0w/q70p80s12nz5lpzr087614lw0000gn/T/ipykernel_52557/4138676989.py:41: FutureWarning: The behavior of DataFrame concatenation with empty or all-NA entries is deprecated. In a future version, this will no longer exclude empty or all-NA columns when determining the result dtypes. To retain the old behavior, exclude the relevant entries before the concat operation.\n",
      "  consolidated_df = pd.concat([consolidated_df, pd.DataFrame([row_data])], ignore_index=True)\n"
     ]
    },
    {
     "name": "stdout",
     "output_type": "stream",
     "text": [
      "Filtered by frame format for SBAC\n",
      "Filtering columns with >95% empty cells for SBAC\n",
      "Removed sparse columns for SBAC\n",
      "Successfully processed and saved data for SBAC to ./data/clean/SBAC.csv\n",
      "Processing symbol: SLB\n",
      "Successfully read data for SLB\n",
      "Pivoted data for SLB\n"
     ]
    },
    {
     "name": "stderr",
     "output_type": "stream",
     "text": [
      "/var/folders/0w/q70p80s12nz5lpzr087614lw0000gn/T/ipykernel_52557/4138676989.py:41: FutureWarning: The behavior of DataFrame concatenation with empty or all-NA entries is deprecated. In a future version, this will no longer exclude empty or all-NA columns when determining the result dtypes. To retain the old behavior, exclude the relevant entries before the concat operation.\n",
      "  consolidated_df = pd.concat([consolidated_df, pd.DataFrame([row_data])], ignore_index=True)\n"
     ]
    },
    {
     "name": "stdout",
     "output_type": "stream",
     "text": [
      "Filtered by frame format for SLB\n",
      "Filtering columns with >95% empty cells for SLB\n",
      "Removed sparse columns for SLB\n",
      "Successfully processed and saved data for SLB to ./data/clean/SLB.csv\n",
      "Processing symbol: STX\n",
      "Successfully read data for STX\n",
      "Pivoted data for STX\n"
     ]
    },
    {
     "name": "stderr",
     "output_type": "stream",
     "text": [
      "/var/folders/0w/q70p80s12nz5lpzr087614lw0000gn/T/ipykernel_52557/4138676989.py:41: FutureWarning: The behavior of DataFrame concatenation with empty or all-NA entries is deprecated. In a future version, this will no longer exclude empty or all-NA columns when determining the result dtypes. To retain the old behavior, exclude the relevant entries before the concat operation.\n",
      "  consolidated_df = pd.concat([consolidated_df, pd.DataFrame([row_data])], ignore_index=True)\n"
     ]
    },
    {
     "name": "stdout",
     "output_type": "stream",
     "text": [
      "Filtered by frame format for STX\n",
      "Filtering columns with >95% empty cells for STX\n",
      "Removed sparse columns for STX\n",
      "Successfully processed and saved data for STX to ./data/clean/STX.csv\n",
      "Processing symbol: SRE\n",
      "Successfully read data for SRE\n",
      "Pivoted data for SRE\n"
     ]
    },
    {
     "name": "stderr",
     "output_type": "stream",
     "text": [
      "/var/folders/0w/q70p80s12nz5lpzr087614lw0000gn/T/ipykernel_52557/4138676989.py:41: FutureWarning: The behavior of DataFrame concatenation with empty or all-NA entries is deprecated. In a future version, this will no longer exclude empty or all-NA columns when determining the result dtypes. To retain the old behavior, exclude the relevant entries before the concat operation.\n",
      "  consolidated_df = pd.concat([consolidated_df, pd.DataFrame([row_data])], ignore_index=True)\n"
     ]
    },
    {
     "name": "stdout",
     "output_type": "stream",
     "text": [
      "Filtered by frame format for SRE\n",
      "Filtering columns with >95% empty cells for SRE\n",
      "Removed sparse columns for SRE\n",
      "Successfully processed and saved data for SRE to ./data/clean/SRE.csv\n",
      "Processing symbol: NOW\n",
      "Successfully read data for NOW\n",
      "Pivoted data for NOW\n"
     ]
    },
    {
     "name": "stderr",
     "output_type": "stream",
     "text": [
      "/var/folders/0w/q70p80s12nz5lpzr087614lw0000gn/T/ipykernel_52557/4138676989.py:41: FutureWarning: The behavior of DataFrame concatenation with empty or all-NA entries is deprecated. In a future version, this will no longer exclude empty or all-NA columns when determining the result dtypes. To retain the old behavior, exclude the relevant entries before the concat operation.\n",
      "  consolidated_df = pd.concat([consolidated_df, pd.DataFrame([row_data])], ignore_index=True)\n"
     ]
    },
    {
     "name": "stdout",
     "output_type": "stream",
     "text": [
      "Filtered by frame format for NOW\n",
      "Filtering columns with >95% empty cells for NOW\n",
      "Removed sparse columns for NOW\n",
      "Successfully processed and saved data for NOW to ./data/clean/NOW.csv\n",
      "Processing symbol: SHW\n",
      "Successfully read data for SHW\n",
      "Pivoted data for SHW\n"
     ]
    },
    {
     "name": "stderr",
     "output_type": "stream",
     "text": [
      "/var/folders/0w/q70p80s12nz5lpzr087614lw0000gn/T/ipykernel_52557/4138676989.py:41: FutureWarning: The behavior of DataFrame concatenation with empty or all-NA entries is deprecated. In a future version, this will no longer exclude empty or all-NA columns when determining the result dtypes. To retain the old behavior, exclude the relevant entries before the concat operation.\n",
      "  consolidated_df = pd.concat([consolidated_df, pd.DataFrame([row_data])], ignore_index=True)\n"
     ]
    },
    {
     "name": "stdout",
     "output_type": "stream",
     "text": [
      "Filtered by frame format for SHW\n",
      "Filtering columns with >95% empty cells for SHW\n",
      "Removed sparse columns for SHW\n",
      "Successfully processed and saved data for SHW to ./data/clean/SHW.csv\n",
      "Processing symbol: SPG\n",
      "Successfully read data for SPG\n",
      "Pivoted data for SPG\n"
     ]
    },
    {
     "name": "stderr",
     "output_type": "stream",
     "text": [
      "/var/folders/0w/q70p80s12nz5lpzr087614lw0000gn/T/ipykernel_52557/4138676989.py:41: FutureWarning: The behavior of DataFrame concatenation with empty or all-NA entries is deprecated. In a future version, this will no longer exclude empty or all-NA columns when determining the result dtypes. To retain the old behavior, exclude the relevant entries before the concat operation.\n",
      "  consolidated_df = pd.concat([consolidated_df, pd.DataFrame([row_data])], ignore_index=True)\n"
     ]
    },
    {
     "name": "stdout",
     "output_type": "stream",
     "text": [
      "Filtered by frame format for SPG\n",
      "Filtering columns with >95% empty cells for SPG\n",
      "Removed sparse columns for SPG\n",
      "Successfully processed and saved data for SPG to ./data/clean/SPG.csv\n",
      "Processing symbol: SWKS\n",
      "Successfully read data for SWKS\n",
      "Pivoted data for SWKS\n"
     ]
    },
    {
     "name": "stderr",
     "output_type": "stream",
     "text": [
      "/var/folders/0w/q70p80s12nz5lpzr087614lw0000gn/T/ipykernel_52557/4138676989.py:41: FutureWarning: The behavior of DataFrame concatenation with empty or all-NA entries is deprecated. In a future version, this will no longer exclude empty or all-NA columns when determining the result dtypes. To retain the old behavior, exclude the relevant entries before the concat operation.\n",
      "  consolidated_df = pd.concat([consolidated_df, pd.DataFrame([row_data])], ignore_index=True)\n"
     ]
    },
    {
     "name": "stdout",
     "output_type": "stream",
     "text": [
      "Filtered by frame format for SWKS\n",
      "Filtering columns with >95% empty cells for SWKS\n",
      "Removed sparse columns for SWKS\n",
      "Successfully processed and saved data for SWKS to ./data/clean/SWKS.csv\n",
      "Processing symbol: SJM\n",
      "Successfully read data for SJM\n",
      "Pivoted data for SJM\n"
     ]
    },
    {
     "name": "stderr",
     "output_type": "stream",
     "text": [
      "/var/folders/0w/q70p80s12nz5lpzr087614lw0000gn/T/ipykernel_52557/4138676989.py:41: FutureWarning: The behavior of DataFrame concatenation with empty or all-NA entries is deprecated. In a future version, this will no longer exclude empty or all-NA columns when determining the result dtypes. To retain the old behavior, exclude the relevant entries before the concat operation.\n",
      "  consolidated_df = pd.concat([consolidated_df, pd.DataFrame([row_data])], ignore_index=True)\n"
     ]
    },
    {
     "name": "stdout",
     "output_type": "stream",
     "text": [
      "Filtered by frame format for SJM\n",
      "Filtering columns with >95% empty cells for SJM\n",
      "Removed sparse columns for SJM\n",
      "Successfully processed and saved data for SJM to ./data/clean/SJM.csv\n",
      "Processing symbol: SW\n",
      "Successfully read data for SW\n",
      "Pivoted data for SW\n"
     ]
    },
    {
     "name": "stderr",
     "output_type": "stream",
     "text": [
      "/var/folders/0w/q70p80s12nz5lpzr087614lw0000gn/T/ipykernel_52557/4138676989.py:41: FutureWarning: The behavior of DataFrame concatenation with empty or all-NA entries is deprecated. In a future version, this will no longer exclude empty or all-NA columns when determining the result dtypes. To retain the old behavior, exclude the relevant entries before the concat operation.\n",
      "  consolidated_df = pd.concat([consolidated_df, pd.DataFrame([row_data])], ignore_index=True)\n"
     ]
    },
    {
     "name": "stdout",
     "output_type": "stream",
     "text": [
      "Filtered by frame format for SW\n",
      "Filtering columns with >95% empty cells for SW\n",
      "Removed sparse columns for SW\n",
      "Successfully processed and saved data for SW to ./data/clean/SW.csv\n",
      "Processing symbol: SNA\n",
      "Successfully read data for SNA\n",
      "Pivoted data for SNA\n"
     ]
    },
    {
     "name": "stderr",
     "output_type": "stream",
     "text": [
      "/var/folders/0w/q70p80s12nz5lpzr087614lw0000gn/T/ipykernel_52557/4138676989.py:41: FutureWarning: The behavior of DataFrame concatenation with empty or all-NA entries is deprecated. In a future version, this will no longer exclude empty or all-NA columns when determining the result dtypes. To retain the old behavior, exclude the relevant entries before the concat operation.\n",
      "  consolidated_df = pd.concat([consolidated_df, pd.DataFrame([row_data])], ignore_index=True)\n"
     ]
    },
    {
     "name": "stdout",
     "output_type": "stream",
     "text": [
      "Filtered by frame format for SNA\n",
      "Filtering columns with >95% empty cells for SNA\n",
      "Removed sparse columns for SNA\n",
      "Successfully processed and saved data for SNA to ./data/clean/SNA.csv\n",
      "Processing symbol: SOLV\n",
      "Successfully read data for SOLV\n",
      "Pivoted data for SOLV\n",
      "Filtered by frame format for SOLV\n",
      "Filtering columns with >95% empty cells for SOLV\n",
      "Removed sparse columns for SOLV\n",
      "Successfully processed and saved data for SOLV to ./data/clean/SOLV.csv\n",
      "Processing symbol: SO\n",
      "Successfully read data for SO\n"
     ]
    },
    {
     "name": "stderr",
     "output_type": "stream",
     "text": [
      "/var/folders/0w/q70p80s12nz5lpzr087614lw0000gn/T/ipykernel_52557/4138676989.py:41: FutureWarning: The behavior of DataFrame concatenation with empty or all-NA entries is deprecated. In a future version, this will no longer exclude empty or all-NA columns when determining the result dtypes. To retain the old behavior, exclude the relevant entries before the concat operation.\n",
      "  consolidated_df = pd.concat([consolidated_df, pd.DataFrame([row_data])], ignore_index=True)\n",
      "/var/folders/0w/q70p80s12nz5lpzr087614lw0000gn/T/ipykernel_52557/4138676989.py:41: FutureWarning: The behavior of DataFrame concatenation with empty or all-NA entries is deprecated. In a future version, this will no longer exclude empty or all-NA columns when determining the result dtypes. To retain the old behavior, exclude the relevant entries before the concat operation.\n",
      "  consolidated_df = pd.concat([consolidated_df, pd.DataFrame([row_data])], ignore_index=True)\n"
     ]
    },
    {
     "name": "stdout",
     "output_type": "stream",
     "text": [
      "Pivoted data for SO\n",
      "Filtered by frame format for SO\n",
      "Filtering columns with >95% empty cells for SO\n",
      "Removed sparse columns for SO\n",
      "Successfully processed and saved data for SO to ./data/clean/SO.csv\n",
      "Processing symbol: LUV\n",
      "Successfully read data for LUV\n",
      "Pivoted data for LUV\n"
     ]
    },
    {
     "name": "stderr",
     "output_type": "stream",
     "text": [
      "/var/folders/0w/q70p80s12nz5lpzr087614lw0000gn/T/ipykernel_52557/4138676989.py:41: FutureWarning: The behavior of DataFrame concatenation with empty or all-NA entries is deprecated. In a future version, this will no longer exclude empty or all-NA columns when determining the result dtypes. To retain the old behavior, exclude the relevant entries before the concat operation.\n",
      "  consolidated_df = pd.concat([consolidated_df, pd.DataFrame([row_data])], ignore_index=True)\n"
     ]
    },
    {
     "name": "stdout",
     "output_type": "stream",
     "text": [
      "Filtered by frame format for LUV\n",
      "Filtering columns with >95% empty cells for LUV\n",
      "Removed sparse columns for LUV\n",
      "Successfully processed and saved data for LUV to ./data/clean/LUV.csv\n",
      "Processing symbol: SWK\n",
      "Successfully read data for SWK\n",
      "Pivoted data for SWK\n"
     ]
    },
    {
     "name": "stderr",
     "output_type": "stream",
     "text": [
      "/var/folders/0w/q70p80s12nz5lpzr087614lw0000gn/T/ipykernel_52557/4138676989.py:41: FutureWarning: The behavior of DataFrame concatenation with empty or all-NA entries is deprecated. In a future version, this will no longer exclude empty or all-NA columns when determining the result dtypes. To retain the old behavior, exclude the relevant entries before the concat operation.\n",
      "  consolidated_df = pd.concat([consolidated_df, pd.DataFrame([row_data])], ignore_index=True)\n"
     ]
    },
    {
     "name": "stdout",
     "output_type": "stream",
     "text": [
      "Filtered by frame format for SWK\n",
      "Filtering columns with >95% empty cells for SWK\n",
      "Removed sparse columns for SWK\n",
      "Successfully processed and saved data for SWK to ./data/clean/SWK.csv\n",
      "Processing symbol: SBUX\n",
      "Successfully read data for SBUX\n",
      "Pivoted data for SBUX\n"
     ]
    },
    {
     "name": "stderr",
     "output_type": "stream",
     "text": [
      "/var/folders/0w/q70p80s12nz5lpzr087614lw0000gn/T/ipykernel_52557/4138676989.py:41: FutureWarning: The behavior of DataFrame concatenation with empty or all-NA entries is deprecated. In a future version, this will no longer exclude empty or all-NA columns when determining the result dtypes. To retain the old behavior, exclude the relevant entries before the concat operation.\n",
      "  consolidated_df = pd.concat([consolidated_df, pd.DataFrame([row_data])], ignore_index=True)\n"
     ]
    },
    {
     "name": "stdout",
     "output_type": "stream",
     "text": [
      "Filtered by frame format for SBUX\n",
      "Filtering columns with >95% empty cells for SBUX\n",
      "Removed sparse columns for SBUX\n",
      "Successfully processed and saved data for SBUX to ./data/clean/SBUX.csv\n",
      "Processing symbol: STT\n",
      "Successfully read data for STT\n",
      "Pivoted data for STT\n"
     ]
    },
    {
     "name": "stderr",
     "output_type": "stream",
     "text": [
      "/var/folders/0w/q70p80s12nz5lpzr087614lw0000gn/T/ipykernel_52557/4138676989.py:41: FutureWarning: The behavior of DataFrame concatenation with empty or all-NA entries is deprecated. In a future version, this will no longer exclude empty or all-NA columns when determining the result dtypes. To retain the old behavior, exclude the relevant entries before the concat operation.\n",
      "  consolidated_df = pd.concat([consolidated_df, pd.DataFrame([row_data])], ignore_index=True)\n"
     ]
    },
    {
     "name": "stdout",
     "output_type": "stream",
     "text": [
      "Filtered by frame format for STT\n",
      "Filtering columns with >95% empty cells for STT\n",
      "Removed sparse columns for STT\n",
      "Successfully processed and saved data for STT to ./data/clean/STT.csv\n",
      "Processing symbol: STLD\n",
      "Successfully read data for STLD\n",
      "Pivoted data for STLD\n"
     ]
    },
    {
     "name": "stderr",
     "output_type": "stream",
     "text": [
      "/var/folders/0w/q70p80s12nz5lpzr087614lw0000gn/T/ipykernel_52557/4138676989.py:41: FutureWarning: The behavior of DataFrame concatenation with empty or all-NA entries is deprecated. In a future version, this will no longer exclude empty or all-NA columns when determining the result dtypes. To retain the old behavior, exclude the relevant entries before the concat operation.\n",
      "  consolidated_df = pd.concat([consolidated_df, pd.DataFrame([row_data])], ignore_index=True)\n"
     ]
    },
    {
     "name": "stdout",
     "output_type": "stream",
     "text": [
      "Filtered by frame format for STLD\n",
      "Filtering columns with >95% empty cells for STLD\n",
      "Removed sparse columns for STLD\n",
      "Successfully processed and saved data for STLD to ./data/clean/STLD.csv\n",
      "Processing symbol: STE\n",
      "Successfully read data for STE\n",
      "Pivoted data for STE\n"
     ]
    },
    {
     "name": "stderr",
     "output_type": "stream",
     "text": [
      "/var/folders/0w/q70p80s12nz5lpzr087614lw0000gn/T/ipykernel_52557/4138676989.py:41: FutureWarning: The behavior of DataFrame concatenation with empty or all-NA entries is deprecated. In a future version, this will no longer exclude empty or all-NA columns when determining the result dtypes. To retain the old behavior, exclude the relevant entries before the concat operation.\n",
      "  consolidated_df = pd.concat([consolidated_df, pd.DataFrame([row_data])], ignore_index=True)\n"
     ]
    },
    {
     "name": "stdout",
     "output_type": "stream",
     "text": [
      "Filtered by frame format for STE\n",
      "Filtering columns with >95% empty cells for STE\n",
      "Removed sparse columns for STE\n",
      "Successfully processed and saved data for STE to ./data/clean/STE.csv\n",
      "Processing symbol: SYK\n",
      "Successfully read data for SYK\n",
      "Pivoted data for SYK\n"
     ]
    },
    {
     "name": "stderr",
     "output_type": "stream",
     "text": [
      "/var/folders/0w/q70p80s12nz5lpzr087614lw0000gn/T/ipykernel_52557/4138676989.py:41: FutureWarning: The behavior of DataFrame concatenation with empty or all-NA entries is deprecated. In a future version, this will no longer exclude empty or all-NA columns when determining the result dtypes. To retain the old behavior, exclude the relevant entries before the concat operation.\n",
      "  consolidated_df = pd.concat([consolidated_df, pd.DataFrame([row_data])], ignore_index=True)\n"
     ]
    },
    {
     "name": "stdout",
     "output_type": "stream",
     "text": [
      "Filtered by frame format for SYK\n",
      "Filtering columns with >95% empty cells for SYK\n",
      "Removed sparse columns for SYK\n",
      "Successfully processed and saved data for SYK to ./data/clean/SYK.csv\n",
      "Processing symbol: SMCI\n",
      "Successfully read data for SMCI\n",
      "Pivoted data for SMCI\n"
     ]
    },
    {
     "name": "stderr",
     "output_type": "stream",
     "text": [
      "/var/folders/0w/q70p80s12nz5lpzr087614lw0000gn/T/ipykernel_52557/4138676989.py:41: FutureWarning: The behavior of DataFrame concatenation with empty or all-NA entries is deprecated. In a future version, this will no longer exclude empty or all-NA columns when determining the result dtypes. To retain the old behavior, exclude the relevant entries before the concat operation.\n",
      "  consolidated_df = pd.concat([consolidated_df, pd.DataFrame([row_data])], ignore_index=True)\n"
     ]
    },
    {
     "name": "stdout",
     "output_type": "stream",
     "text": [
      "Filtered by frame format for SMCI\n",
      "Filtering columns with >95% empty cells for SMCI\n",
      "Removed sparse columns for SMCI\n",
      "Successfully processed and saved data for SMCI to ./data/clean/SMCI.csv\n",
      "Processing symbol: SYF\n",
      "Successfully read data for SYF\n",
      "Pivoted data for SYF\n"
     ]
    },
    {
     "name": "stderr",
     "output_type": "stream",
     "text": [
      "/var/folders/0w/q70p80s12nz5lpzr087614lw0000gn/T/ipykernel_52557/4138676989.py:41: FutureWarning: The behavior of DataFrame concatenation with empty or all-NA entries is deprecated. In a future version, this will no longer exclude empty or all-NA columns when determining the result dtypes. To retain the old behavior, exclude the relevant entries before the concat operation.\n",
      "  consolidated_df = pd.concat([consolidated_df, pd.DataFrame([row_data])], ignore_index=True)\n"
     ]
    },
    {
     "name": "stdout",
     "output_type": "stream",
     "text": [
      "Filtered by frame format for SYF\n",
      "Filtering columns with >95% empty cells for SYF\n",
      "Removed sparse columns for SYF\n",
      "Successfully processed and saved data for SYF to ./data/clean/SYF.csv\n",
      "Processing symbol: SNPS\n",
      "Successfully read data for SNPS\n",
      "Pivoted data for SNPS\n"
     ]
    },
    {
     "name": "stderr",
     "output_type": "stream",
     "text": [
      "/var/folders/0w/q70p80s12nz5lpzr087614lw0000gn/T/ipykernel_52557/4138676989.py:41: FutureWarning: The behavior of DataFrame concatenation with empty or all-NA entries is deprecated. In a future version, this will no longer exclude empty or all-NA columns when determining the result dtypes. To retain the old behavior, exclude the relevant entries before the concat operation.\n",
      "  consolidated_df = pd.concat([consolidated_df, pd.DataFrame([row_data])], ignore_index=True)\n"
     ]
    },
    {
     "name": "stdout",
     "output_type": "stream",
     "text": [
      "Filtered by frame format for SNPS\n",
      "Filtering columns with >95% empty cells for SNPS\n",
      "Removed sparse columns for SNPS\n",
      "Successfully processed and saved data for SNPS to ./data/clean/SNPS.csv\n",
      "Processing symbol: SYY\n",
      "Successfully read data for SYY\n",
      "Pivoted data for SYY\n"
     ]
    },
    {
     "name": "stderr",
     "output_type": "stream",
     "text": [
      "/var/folders/0w/q70p80s12nz5lpzr087614lw0000gn/T/ipykernel_52557/4138676989.py:41: FutureWarning: The behavior of DataFrame concatenation with empty or all-NA entries is deprecated. In a future version, this will no longer exclude empty or all-NA columns when determining the result dtypes. To retain the old behavior, exclude the relevant entries before the concat operation.\n",
      "  consolidated_df = pd.concat([consolidated_df, pd.DataFrame([row_data])], ignore_index=True)\n"
     ]
    },
    {
     "name": "stdout",
     "output_type": "stream",
     "text": [
      "Filtered by frame format for SYY\n",
      "Filtering columns with >95% empty cells for SYY\n",
      "Removed sparse columns for SYY\n",
      "Successfully processed and saved data for SYY to ./data/clean/SYY.csv\n",
      "Processing symbol: TMUS\n",
      "Successfully read data for TMUS\n",
      "Pivoted data for TMUS\n"
     ]
    },
    {
     "name": "stderr",
     "output_type": "stream",
     "text": [
      "/var/folders/0w/q70p80s12nz5lpzr087614lw0000gn/T/ipykernel_52557/4138676989.py:41: FutureWarning: The behavior of DataFrame concatenation with empty or all-NA entries is deprecated. In a future version, this will no longer exclude empty or all-NA columns when determining the result dtypes. To retain the old behavior, exclude the relevant entries before the concat operation.\n",
      "  consolidated_df = pd.concat([consolidated_df, pd.DataFrame([row_data])], ignore_index=True)\n"
     ]
    },
    {
     "name": "stdout",
     "output_type": "stream",
     "text": [
      "Filtered by frame format for TMUS\n",
      "Filtering columns with >95% empty cells for TMUS\n",
      "Removed sparse columns for TMUS\n",
      "Successfully processed and saved data for TMUS to ./data/clean/TMUS.csv\n",
      "Processing symbol: TROW\n",
      "Successfully read data for TROW\n",
      "Pivoted data for TROW\n"
     ]
    },
    {
     "name": "stderr",
     "output_type": "stream",
     "text": [
      "/var/folders/0w/q70p80s12nz5lpzr087614lw0000gn/T/ipykernel_52557/4138676989.py:41: FutureWarning: The behavior of DataFrame concatenation with empty or all-NA entries is deprecated. In a future version, this will no longer exclude empty or all-NA columns when determining the result dtypes. To retain the old behavior, exclude the relevant entries before the concat operation.\n",
      "  consolidated_df = pd.concat([consolidated_df, pd.DataFrame([row_data])], ignore_index=True)\n"
     ]
    },
    {
     "name": "stdout",
     "output_type": "stream",
     "text": [
      "Filtered by frame format for TROW\n",
      "Filtering columns with >95% empty cells for TROW\n",
      "Removed sparse columns for TROW\n",
      "Successfully processed and saved data for TROW to ./data/clean/TROW.csv\n",
      "Processing symbol: TTWO\n",
      "Successfully read data for TTWO\n",
      "Pivoted data for TTWO\n"
     ]
    },
    {
     "name": "stderr",
     "output_type": "stream",
     "text": [
      "/var/folders/0w/q70p80s12nz5lpzr087614lw0000gn/T/ipykernel_52557/4138676989.py:41: FutureWarning: The behavior of DataFrame concatenation with empty or all-NA entries is deprecated. In a future version, this will no longer exclude empty or all-NA columns when determining the result dtypes. To retain the old behavior, exclude the relevant entries before the concat operation.\n",
      "  consolidated_df = pd.concat([consolidated_df, pd.DataFrame([row_data])], ignore_index=True)\n"
     ]
    },
    {
     "name": "stdout",
     "output_type": "stream",
     "text": [
      "Filtered by frame format for TTWO\n",
      "Filtering columns with >95% empty cells for TTWO\n",
      "Removed sparse columns for TTWO\n",
      "Successfully processed and saved data for TTWO to ./data/clean/TTWO.csv\n",
      "Processing symbol: TPR\n",
      "Successfully read data for TPR\n",
      "Pivoted data for TPR\n"
     ]
    },
    {
     "name": "stderr",
     "output_type": "stream",
     "text": [
      "/var/folders/0w/q70p80s12nz5lpzr087614lw0000gn/T/ipykernel_52557/4138676989.py:41: FutureWarning: The behavior of DataFrame concatenation with empty or all-NA entries is deprecated. In a future version, this will no longer exclude empty or all-NA columns when determining the result dtypes. To retain the old behavior, exclude the relevant entries before the concat operation.\n",
      "  consolidated_df = pd.concat([consolidated_df, pd.DataFrame([row_data])], ignore_index=True)\n"
     ]
    },
    {
     "name": "stdout",
     "output_type": "stream",
     "text": [
      "Filtered by frame format for TPR\n",
      "Filtering columns with >95% empty cells for TPR\n",
      "Removed sparse columns for TPR\n",
      "Successfully processed and saved data for TPR to ./data/clean/TPR.csv\n",
      "Processing symbol: TRGP\n",
      "Successfully read data for TRGP\n",
      "Pivoted data for TRGP\n"
     ]
    },
    {
     "name": "stderr",
     "output_type": "stream",
     "text": [
      "/var/folders/0w/q70p80s12nz5lpzr087614lw0000gn/T/ipykernel_52557/4138676989.py:41: FutureWarning: The behavior of DataFrame concatenation with empty or all-NA entries is deprecated. In a future version, this will no longer exclude empty or all-NA columns when determining the result dtypes. To retain the old behavior, exclude the relevant entries before the concat operation.\n",
      "  consolidated_df = pd.concat([consolidated_df, pd.DataFrame([row_data])], ignore_index=True)\n"
     ]
    },
    {
     "name": "stdout",
     "output_type": "stream",
     "text": [
      "Filtered by frame format for TRGP\n",
      "Filtering columns with >95% empty cells for TRGP\n",
      "Removed sparse columns for TRGP\n",
      "Successfully processed and saved data for TRGP to ./data/clean/TRGP.csv\n",
      "Processing symbol: TGT\n",
      "Successfully read data for TGT\n",
      "Pivoted data for TGT\n"
     ]
    },
    {
     "name": "stderr",
     "output_type": "stream",
     "text": [
      "/var/folders/0w/q70p80s12nz5lpzr087614lw0000gn/T/ipykernel_52557/4138676989.py:41: FutureWarning: The behavior of DataFrame concatenation with empty or all-NA entries is deprecated. In a future version, this will no longer exclude empty or all-NA columns when determining the result dtypes. To retain the old behavior, exclude the relevant entries before the concat operation.\n",
      "  consolidated_df = pd.concat([consolidated_df, pd.DataFrame([row_data])], ignore_index=True)\n"
     ]
    },
    {
     "name": "stdout",
     "output_type": "stream",
     "text": [
      "Filtered by frame format for TGT\n",
      "Filtering columns with >95% empty cells for TGT\n",
      "Removed sparse columns for TGT\n",
      "Successfully processed and saved data for TGT to ./data/clean/TGT.csv\n",
      "Processing symbol: TEL\n",
      "Successfully read data for TEL\n",
      "Pivoted data for TEL\n"
     ]
    },
    {
     "name": "stderr",
     "output_type": "stream",
     "text": [
      "/var/folders/0w/q70p80s12nz5lpzr087614lw0000gn/T/ipykernel_52557/4138676989.py:41: FutureWarning: The behavior of DataFrame concatenation with empty or all-NA entries is deprecated. In a future version, this will no longer exclude empty or all-NA columns when determining the result dtypes. To retain the old behavior, exclude the relevant entries before the concat operation.\n",
      "  consolidated_df = pd.concat([consolidated_df, pd.DataFrame([row_data])], ignore_index=True)\n"
     ]
    },
    {
     "name": "stdout",
     "output_type": "stream",
     "text": [
      "Filtered by frame format for TEL\n",
      "Filtering columns with >95% empty cells for TEL\n",
      "Removed sparse columns for TEL\n",
      "Successfully processed and saved data for TEL to ./data/clean/TEL.csv\n",
      "Processing symbol: TDY\n",
      "Successfully read data for TDY\n",
      "Pivoted data for TDY\n"
     ]
    },
    {
     "name": "stderr",
     "output_type": "stream",
     "text": [
      "/var/folders/0w/q70p80s12nz5lpzr087614lw0000gn/T/ipykernel_52557/4138676989.py:41: FutureWarning: The behavior of DataFrame concatenation with empty or all-NA entries is deprecated. In a future version, this will no longer exclude empty or all-NA columns when determining the result dtypes. To retain the old behavior, exclude the relevant entries before the concat operation.\n",
      "  consolidated_df = pd.concat([consolidated_df, pd.DataFrame([row_data])], ignore_index=True)\n"
     ]
    },
    {
     "name": "stdout",
     "output_type": "stream",
     "text": [
      "Filtered by frame format for TDY\n",
      "Filtering columns with >95% empty cells for TDY\n",
      "Removed sparse columns for TDY\n",
      "Successfully processed and saved data for TDY to ./data/clean/TDY.csv\n",
      "Processing symbol: TFX\n",
      "Error: File not found for symbol TFX at path: ./data/financial_data/TFX_raw_financials.csv. Skipping this symbol.\n",
      "Processing symbol: TER\n",
      "Successfully read data for TER\n",
      "Pivoted data for TER\n"
     ]
    },
    {
     "name": "stderr",
     "output_type": "stream",
     "text": [
      "/var/folders/0w/q70p80s12nz5lpzr087614lw0000gn/T/ipykernel_52557/4138676989.py:41: FutureWarning: The behavior of DataFrame concatenation with empty or all-NA entries is deprecated. In a future version, this will no longer exclude empty or all-NA columns when determining the result dtypes. To retain the old behavior, exclude the relevant entries before the concat operation.\n",
      "  consolidated_df = pd.concat([consolidated_df, pd.DataFrame([row_data])], ignore_index=True)\n"
     ]
    },
    {
     "name": "stdout",
     "output_type": "stream",
     "text": [
      "Filtered by frame format for TER\n",
      "Filtering columns with >95% empty cells for TER\n",
      "Removed sparse columns for TER\n",
      "Successfully processed and saved data for TER to ./data/clean/TER.csv\n",
      "Processing symbol: TSLA\n",
      "Successfully read data for TSLA\n",
      "Pivoted data for TSLA\n"
     ]
    },
    {
     "name": "stderr",
     "output_type": "stream",
     "text": [
      "/var/folders/0w/q70p80s12nz5lpzr087614lw0000gn/T/ipykernel_52557/4138676989.py:41: FutureWarning: The behavior of DataFrame concatenation with empty or all-NA entries is deprecated. In a future version, this will no longer exclude empty or all-NA columns when determining the result dtypes. To retain the old behavior, exclude the relevant entries before the concat operation.\n",
      "  consolidated_df = pd.concat([consolidated_df, pd.DataFrame([row_data])], ignore_index=True)\n"
     ]
    },
    {
     "name": "stdout",
     "output_type": "stream",
     "text": [
      "Filtered by frame format for TSLA\n",
      "Filtering columns with >95% empty cells for TSLA\n",
      "Removed sparse columns for TSLA\n",
      "Successfully processed and saved data for TSLA to ./data/clean/TSLA.csv\n",
      "Processing symbol: TXN\n",
      "Successfully read data for TXN\n",
      "Pivoted data for TXN\n"
     ]
    },
    {
     "name": "stderr",
     "output_type": "stream",
     "text": [
      "/var/folders/0w/q70p80s12nz5lpzr087614lw0000gn/T/ipykernel_52557/4138676989.py:41: FutureWarning: The behavior of DataFrame concatenation with empty or all-NA entries is deprecated. In a future version, this will no longer exclude empty or all-NA columns when determining the result dtypes. To retain the old behavior, exclude the relevant entries before the concat operation.\n",
      "  consolidated_df = pd.concat([consolidated_df, pd.DataFrame([row_data])], ignore_index=True)\n"
     ]
    },
    {
     "name": "stdout",
     "output_type": "stream",
     "text": [
      "Filtered by frame format for TXN\n",
      "Filtering columns with >95% empty cells for TXN\n",
      "Removed sparse columns for TXN\n",
      "Successfully processed and saved data for TXN to ./data/clean/TXN.csv\n",
      "Processing symbol: TPL\n",
      "Successfully read data for TPL\n",
      "Pivoted data for TPL\n"
     ]
    },
    {
     "name": "stderr",
     "output_type": "stream",
     "text": [
      "/var/folders/0w/q70p80s12nz5lpzr087614lw0000gn/T/ipykernel_52557/4138676989.py:41: FutureWarning: The behavior of DataFrame concatenation with empty or all-NA entries is deprecated. In a future version, this will no longer exclude empty or all-NA columns when determining the result dtypes. To retain the old behavior, exclude the relevant entries before the concat operation.\n",
      "  consolidated_df = pd.concat([consolidated_df, pd.DataFrame([row_data])], ignore_index=True)\n"
     ]
    },
    {
     "name": "stdout",
     "output_type": "stream",
     "text": [
      "Filtered by frame format for TPL\n",
      "Filtering columns with >95% empty cells for TPL\n",
      "Removed sparse columns for TPL\n",
      "Successfully processed and saved data for TPL to ./data/clean/TPL.csv\n",
      "Processing symbol: TXT\n",
      "Successfully read data for TXT\n",
      "Pivoted data for TXT\n"
     ]
    },
    {
     "name": "stderr",
     "output_type": "stream",
     "text": [
      "/var/folders/0w/q70p80s12nz5lpzr087614lw0000gn/T/ipykernel_52557/4138676989.py:41: FutureWarning: The behavior of DataFrame concatenation with empty or all-NA entries is deprecated. In a future version, this will no longer exclude empty or all-NA columns when determining the result dtypes. To retain the old behavior, exclude the relevant entries before the concat operation.\n",
      "  consolidated_df = pd.concat([consolidated_df, pd.DataFrame([row_data])], ignore_index=True)\n"
     ]
    },
    {
     "name": "stdout",
     "output_type": "stream",
     "text": [
      "Filtered by frame format for TXT\n",
      "Filtering columns with >95% empty cells for TXT\n",
      "Removed sparse columns for TXT\n",
      "Successfully processed and saved data for TXT to ./data/clean/TXT.csv\n",
      "Processing symbol: TMO\n",
      "Successfully read data for TMO\n",
      "Pivoted data for TMO\n"
     ]
    },
    {
     "name": "stderr",
     "output_type": "stream",
     "text": [
      "/var/folders/0w/q70p80s12nz5lpzr087614lw0000gn/T/ipykernel_52557/4138676989.py:41: FutureWarning: The behavior of DataFrame concatenation with empty or all-NA entries is deprecated. In a future version, this will no longer exclude empty or all-NA columns when determining the result dtypes. To retain the old behavior, exclude the relevant entries before the concat operation.\n",
      "  consolidated_df = pd.concat([consolidated_df, pd.DataFrame([row_data])], ignore_index=True)\n"
     ]
    },
    {
     "name": "stdout",
     "output_type": "stream",
     "text": [
      "Filtered by frame format for TMO\n",
      "Filtering columns with >95% empty cells for TMO\n",
      "Removed sparse columns for TMO\n",
      "Successfully processed and saved data for TMO to ./data/clean/TMO.csv\n",
      "Processing symbol: TJX\n",
      "Successfully read data for TJX\n",
      "Pivoted data for TJX\n"
     ]
    },
    {
     "name": "stderr",
     "output_type": "stream",
     "text": [
      "/var/folders/0w/q70p80s12nz5lpzr087614lw0000gn/T/ipykernel_52557/4138676989.py:41: FutureWarning: The behavior of DataFrame concatenation with empty or all-NA entries is deprecated. In a future version, this will no longer exclude empty or all-NA columns when determining the result dtypes. To retain the old behavior, exclude the relevant entries before the concat operation.\n",
      "  consolidated_df = pd.concat([consolidated_df, pd.DataFrame([row_data])], ignore_index=True)\n"
     ]
    },
    {
     "name": "stdout",
     "output_type": "stream",
     "text": [
      "Filtered by frame format for TJX\n",
      "Filtering columns with >95% empty cells for TJX\n",
      "Removed sparse columns for TJX\n",
      "Successfully processed and saved data for TJX to ./data/clean/TJX.csv\n",
      "Processing symbol: TSCO\n",
      "Successfully read data for TSCO\n",
      "Pivoted data for TSCO\n"
     ]
    },
    {
     "name": "stderr",
     "output_type": "stream",
     "text": [
      "/var/folders/0w/q70p80s12nz5lpzr087614lw0000gn/T/ipykernel_52557/4138676989.py:41: FutureWarning: The behavior of DataFrame concatenation with empty or all-NA entries is deprecated. In a future version, this will no longer exclude empty or all-NA columns when determining the result dtypes. To retain the old behavior, exclude the relevant entries before the concat operation.\n",
      "  consolidated_df = pd.concat([consolidated_df, pd.DataFrame([row_data])], ignore_index=True)\n"
     ]
    },
    {
     "name": "stdout",
     "output_type": "stream",
     "text": [
      "Filtered by frame format for TSCO\n",
      "Filtering columns with >95% empty cells for TSCO\n",
      "Removed sparse columns for TSCO\n",
      "Successfully processed and saved data for TSCO to ./data/clean/TSCO.csv\n",
      "Processing symbol: TT\n",
      "Successfully read data for TT\n",
      "Pivoted data for TT\n"
     ]
    },
    {
     "name": "stderr",
     "output_type": "stream",
     "text": [
      "/var/folders/0w/q70p80s12nz5lpzr087614lw0000gn/T/ipykernel_52557/4138676989.py:41: FutureWarning: The behavior of DataFrame concatenation with empty or all-NA entries is deprecated. In a future version, this will no longer exclude empty or all-NA columns when determining the result dtypes. To retain the old behavior, exclude the relevant entries before the concat operation.\n",
      "  consolidated_df = pd.concat([consolidated_df, pd.DataFrame([row_data])], ignore_index=True)\n"
     ]
    },
    {
     "name": "stdout",
     "output_type": "stream",
     "text": [
      "Filtered by frame format for TT\n",
      "Filtering columns with >95% empty cells for TT\n",
      "Removed sparse columns for TT\n",
      "Successfully processed and saved data for TT to ./data/clean/TT.csv\n",
      "Processing symbol: TDG\n",
      "Successfully read data for TDG\n",
      "Pivoted data for TDG\n"
     ]
    },
    {
     "name": "stderr",
     "output_type": "stream",
     "text": [
      "/var/folders/0w/q70p80s12nz5lpzr087614lw0000gn/T/ipykernel_52557/4138676989.py:41: FutureWarning: The behavior of DataFrame concatenation with empty or all-NA entries is deprecated. In a future version, this will no longer exclude empty or all-NA columns when determining the result dtypes. To retain the old behavior, exclude the relevant entries before the concat operation.\n",
      "  consolidated_df = pd.concat([consolidated_df, pd.DataFrame([row_data])], ignore_index=True)\n"
     ]
    },
    {
     "name": "stdout",
     "output_type": "stream",
     "text": [
      "Filtered by frame format for TDG\n",
      "Filtering columns with >95% empty cells for TDG\n",
      "Removed sparse columns for TDG\n",
      "Successfully processed and saved data for TDG to ./data/clean/TDG.csv\n",
      "Processing symbol: TRV\n",
      "Successfully read data for TRV\n",
      "Pivoted data for TRV\n"
     ]
    },
    {
     "name": "stderr",
     "output_type": "stream",
     "text": [
      "/var/folders/0w/q70p80s12nz5lpzr087614lw0000gn/T/ipykernel_52557/4138676989.py:41: FutureWarning: The behavior of DataFrame concatenation with empty or all-NA entries is deprecated. In a future version, this will no longer exclude empty or all-NA columns when determining the result dtypes. To retain the old behavior, exclude the relevant entries before the concat operation.\n",
      "  consolidated_df = pd.concat([consolidated_df, pd.DataFrame([row_data])], ignore_index=True)\n"
     ]
    },
    {
     "name": "stdout",
     "output_type": "stream",
     "text": [
      "Filtered by frame format for TRV\n",
      "Filtering columns with >95% empty cells for TRV\n",
      "Removed sparse columns for TRV\n",
      "Successfully processed and saved data for TRV to ./data/clean/TRV.csv\n",
      "Processing symbol: TRMB\n",
      "Successfully read data for TRMB\n",
      "Pivoted data for TRMB\n"
     ]
    },
    {
     "name": "stderr",
     "output_type": "stream",
     "text": [
      "/var/folders/0w/q70p80s12nz5lpzr087614lw0000gn/T/ipykernel_52557/4138676989.py:41: FutureWarning: The behavior of DataFrame concatenation with empty or all-NA entries is deprecated. In a future version, this will no longer exclude empty or all-NA columns when determining the result dtypes. To retain the old behavior, exclude the relevant entries before the concat operation.\n",
      "  consolidated_df = pd.concat([consolidated_df, pd.DataFrame([row_data])], ignore_index=True)\n"
     ]
    },
    {
     "name": "stdout",
     "output_type": "stream",
     "text": [
      "Filtered by frame format for TRMB\n",
      "Filtering columns with >95% empty cells for TRMB\n",
      "Removed sparse columns for TRMB\n",
      "Successfully processed and saved data for TRMB to ./data/clean/TRMB.csv\n",
      "Processing symbol: TFC\n",
      "Successfully read data for TFC\n",
      "Pivoted data for TFC\n"
     ]
    },
    {
     "name": "stderr",
     "output_type": "stream",
     "text": [
      "/var/folders/0w/q70p80s12nz5lpzr087614lw0000gn/T/ipykernel_52557/4138676989.py:41: FutureWarning: The behavior of DataFrame concatenation with empty or all-NA entries is deprecated. In a future version, this will no longer exclude empty or all-NA columns when determining the result dtypes. To retain the old behavior, exclude the relevant entries before the concat operation.\n",
      "  consolidated_df = pd.concat([consolidated_df, pd.DataFrame([row_data])], ignore_index=True)\n"
     ]
    },
    {
     "name": "stdout",
     "output_type": "stream",
     "text": [
      "Filtered by frame format for TFC\n",
      "Filtering columns with >95% empty cells for TFC\n",
      "Removed sparse columns for TFC\n",
      "Successfully processed and saved data for TFC to ./data/clean/TFC.csv\n",
      "Processing symbol: TYL\n",
      "Successfully read data for TYL\n",
      "Pivoted data for TYL\n"
     ]
    },
    {
     "name": "stderr",
     "output_type": "stream",
     "text": [
      "/var/folders/0w/q70p80s12nz5lpzr087614lw0000gn/T/ipykernel_52557/4138676989.py:41: FutureWarning: The behavior of DataFrame concatenation with empty or all-NA entries is deprecated. In a future version, this will no longer exclude empty or all-NA columns when determining the result dtypes. To retain the old behavior, exclude the relevant entries before the concat operation.\n",
      "  consolidated_df = pd.concat([consolidated_df, pd.DataFrame([row_data])], ignore_index=True)\n"
     ]
    },
    {
     "name": "stdout",
     "output_type": "stream",
     "text": [
      "Filtered by frame format for TYL\n",
      "Filtering columns with >95% empty cells for TYL\n",
      "Removed sparse columns for TYL\n",
      "Successfully processed and saved data for TYL to ./data/clean/TYL.csv\n",
      "Processing symbol: TSN\n",
      "Successfully read data for TSN\n",
      "Pivoted data for TSN\n"
     ]
    },
    {
     "name": "stderr",
     "output_type": "stream",
     "text": [
      "/var/folders/0w/q70p80s12nz5lpzr087614lw0000gn/T/ipykernel_52557/4138676989.py:41: FutureWarning: The behavior of DataFrame concatenation with empty or all-NA entries is deprecated. In a future version, this will no longer exclude empty or all-NA columns when determining the result dtypes. To retain the old behavior, exclude the relevant entries before the concat operation.\n",
      "  consolidated_df = pd.concat([consolidated_df, pd.DataFrame([row_data])], ignore_index=True)\n"
     ]
    },
    {
     "name": "stdout",
     "output_type": "stream",
     "text": [
      "Filtered by frame format for TSN\n",
      "Filtering columns with >95% empty cells for TSN\n",
      "Removed sparse columns for TSN\n",
      "Successfully processed and saved data for TSN to ./data/clean/TSN.csv\n",
      "Processing symbol: USB\n",
      "Successfully read data for USB\n",
      "Pivoted data for USB\n"
     ]
    },
    {
     "name": "stderr",
     "output_type": "stream",
     "text": [
      "/var/folders/0w/q70p80s12nz5lpzr087614lw0000gn/T/ipykernel_52557/4138676989.py:41: FutureWarning: The behavior of DataFrame concatenation with empty or all-NA entries is deprecated. In a future version, this will no longer exclude empty or all-NA columns when determining the result dtypes. To retain the old behavior, exclude the relevant entries before the concat operation.\n",
      "  consolidated_df = pd.concat([consolidated_df, pd.DataFrame([row_data])], ignore_index=True)\n"
     ]
    },
    {
     "name": "stdout",
     "output_type": "stream",
     "text": [
      "Filtered by frame format for USB\n",
      "Filtering columns with >95% empty cells for USB\n",
      "Removed sparse columns for USB\n",
      "Successfully processed and saved data for USB to ./data/clean/USB.csv\n",
      "Processing symbol: UBER\n",
      "Successfully read data for UBER\n",
      "Pivoted data for UBER\n"
     ]
    },
    {
     "name": "stderr",
     "output_type": "stream",
     "text": [
      "/var/folders/0w/q70p80s12nz5lpzr087614lw0000gn/T/ipykernel_52557/4138676989.py:41: FutureWarning: The behavior of DataFrame concatenation with empty or all-NA entries is deprecated. In a future version, this will no longer exclude empty or all-NA columns when determining the result dtypes. To retain the old behavior, exclude the relevant entries before the concat operation.\n",
      "  consolidated_df = pd.concat([consolidated_df, pd.DataFrame([row_data])], ignore_index=True)\n"
     ]
    },
    {
     "name": "stdout",
     "output_type": "stream",
     "text": [
      "Filtered by frame format for UBER\n",
      "Filtering columns with >95% empty cells for UBER\n",
      "Removed sparse columns for UBER\n",
      "Successfully processed and saved data for UBER to ./data/clean/UBER.csv\n",
      "Processing symbol: UDR\n",
      "Successfully read data for UDR\n",
      "Pivoted data for UDR\n"
     ]
    },
    {
     "name": "stderr",
     "output_type": "stream",
     "text": [
      "/var/folders/0w/q70p80s12nz5lpzr087614lw0000gn/T/ipykernel_52557/4138676989.py:41: FutureWarning: The behavior of DataFrame concatenation with empty or all-NA entries is deprecated. In a future version, this will no longer exclude empty or all-NA columns when determining the result dtypes. To retain the old behavior, exclude the relevant entries before the concat operation.\n",
      "  consolidated_df = pd.concat([consolidated_df, pd.DataFrame([row_data])], ignore_index=True)\n"
     ]
    },
    {
     "name": "stdout",
     "output_type": "stream",
     "text": [
      "Filtered by frame format for UDR\n",
      "Filtering columns with >95% empty cells for UDR\n",
      "Removed sparse columns for UDR\n",
      "Successfully processed and saved data for UDR to ./data/clean/UDR.csv\n",
      "Processing symbol: ULTA\n",
      "Successfully read data for ULTA\n",
      "Pivoted data for ULTA\n"
     ]
    },
    {
     "name": "stderr",
     "output_type": "stream",
     "text": [
      "/var/folders/0w/q70p80s12nz5lpzr087614lw0000gn/T/ipykernel_52557/4138676989.py:41: FutureWarning: The behavior of DataFrame concatenation with empty or all-NA entries is deprecated. In a future version, this will no longer exclude empty or all-NA columns when determining the result dtypes. To retain the old behavior, exclude the relevant entries before the concat operation.\n",
      "  consolidated_df = pd.concat([consolidated_df, pd.DataFrame([row_data])], ignore_index=True)\n"
     ]
    },
    {
     "name": "stdout",
     "output_type": "stream",
     "text": [
      "Filtered by frame format for ULTA\n",
      "Filtering columns with >95% empty cells for ULTA\n",
      "Removed sparse columns for ULTA\n",
      "Successfully processed and saved data for ULTA to ./data/clean/ULTA.csv\n",
      "Processing symbol: UNP\n",
      "Successfully read data for UNP\n",
      "Pivoted data for UNP\n"
     ]
    },
    {
     "name": "stderr",
     "output_type": "stream",
     "text": [
      "/var/folders/0w/q70p80s12nz5lpzr087614lw0000gn/T/ipykernel_52557/4138676989.py:41: FutureWarning: The behavior of DataFrame concatenation with empty or all-NA entries is deprecated. In a future version, this will no longer exclude empty or all-NA columns when determining the result dtypes. To retain the old behavior, exclude the relevant entries before the concat operation.\n",
      "  consolidated_df = pd.concat([consolidated_df, pd.DataFrame([row_data])], ignore_index=True)\n"
     ]
    },
    {
     "name": "stdout",
     "output_type": "stream",
     "text": [
      "Filtered by frame format for UNP\n",
      "Filtering columns with >95% empty cells for UNP\n",
      "Removed sparse columns for UNP\n",
      "Successfully processed and saved data for UNP to ./data/clean/UNP.csv\n",
      "Processing symbol: UAL\n",
      "Successfully read data for UAL\n",
      "Pivoted data for UAL\n"
     ]
    },
    {
     "name": "stderr",
     "output_type": "stream",
     "text": [
      "/var/folders/0w/q70p80s12nz5lpzr087614lw0000gn/T/ipykernel_52557/4138676989.py:41: FutureWarning: The behavior of DataFrame concatenation with empty or all-NA entries is deprecated. In a future version, this will no longer exclude empty or all-NA columns when determining the result dtypes. To retain the old behavior, exclude the relevant entries before the concat operation.\n",
      "  consolidated_df = pd.concat([consolidated_df, pd.DataFrame([row_data])], ignore_index=True)\n"
     ]
    },
    {
     "name": "stdout",
     "output_type": "stream",
     "text": [
      "Filtered by frame format for UAL\n",
      "Filtering columns with >95% empty cells for UAL\n",
      "Removed sparse columns for UAL\n",
      "Successfully processed and saved data for UAL to ./data/clean/UAL.csv\n",
      "Processing symbol: UPS\n",
      "Successfully read data for UPS\n",
      "Pivoted data for UPS\n"
     ]
    },
    {
     "name": "stderr",
     "output_type": "stream",
     "text": [
      "/var/folders/0w/q70p80s12nz5lpzr087614lw0000gn/T/ipykernel_52557/4138676989.py:41: FutureWarning: The behavior of DataFrame concatenation with empty or all-NA entries is deprecated. In a future version, this will no longer exclude empty or all-NA columns when determining the result dtypes. To retain the old behavior, exclude the relevant entries before the concat operation.\n",
      "  consolidated_df = pd.concat([consolidated_df, pd.DataFrame([row_data])], ignore_index=True)\n"
     ]
    },
    {
     "name": "stdout",
     "output_type": "stream",
     "text": [
      "Filtered by frame format for UPS\n",
      "Filtering columns with >95% empty cells for UPS\n",
      "Removed sparse columns for UPS\n",
      "Successfully processed and saved data for UPS to ./data/clean/UPS.csv\n",
      "Processing symbol: URI\n",
      "Successfully read data for URI\n",
      "Pivoted data for URI\n"
     ]
    },
    {
     "name": "stderr",
     "output_type": "stream",
     "text": [
      "/var/folders/0w/q70p80s12nz5lpzr087614lw0000gn/T/ipykernel_52557/4138676989.py:41: FutureWarning: The behavior of DataFrame concatenation with empty or all-NA entries is deprecated. In a future version, this will no longer exclude empty or all-NA columns when determining the result dtypes. To retain the old behavior, exclude the relevant entries before the concat operation.\n",
      "  consolidated_df = pd.concat([consolidated_df, pd.DataFrame([row_data])], ignore_index=True)\n"
     ]
    },
    {
     "name": "stdout",
     "output_type": "stream",
     "text": [
      "Filtered by frame format for URI\n",
      "Filtering columns with >95% empty cells for URI\n",
      "Removed sparse columns for URI\n",
      "Successfully processed and saved data for URI to ./data/clean/URI.csv\n",
      "Processing symbol: UNH\n",
      "Successfully read data for UNH\n",
      "Pivoted data for UNH\n"
     ]
    },
    {
     "name": "stderr",
     "output_type": "stream",
     "text": [
      "/var/folders/0w/q70p80s12nz5lpzr087614lw0000gn/T/ipykernel_52557/4138676989.py:41: FutureWarning: The behavior of DataFrame concatenation with empty or all-NA entries is deprecated. In a future version, this will no longer exclude empty or all-NA columns when determining the result dtypes. To retain the old behavior, exclude the relevant entries before the concat operation.\n",
      "  consolidated_df = pd.concat([consolidated_df, pd.DataFrame([row_data])], ignore_index=True)\n"
     ]
    },
    {
     "name": "stdout",
     "output_type": "stream",
     "text": [
      "Filtered by frame format for UNH\n",
      "Filtering columns with >95% empty cells for UNH\n",
      "Removed sparse columns for UNH\n",
      "Successfully processed and saved data for UNH to ./data/clean/UNH.csv\n",
      "Processing symbol: UHS\n",
      "Successfully read data for UHS\n",
      "Pivoted data for UHS\n"
     ]
    },
    {
     "name": "stderr",
     "output_type": "stream",
     "text": [
      "/var/folders/0w/q70p80s12nz5lpzr087614lw0000gn/T/ipykernel_52557/4138676989.py:41: FutureWarning: The behavior of DataFrame concatenation with empty or all-NA entries is deprecated. In a future version, this will no longer exclude empty or all-NA columns when determining the result dtypes. To retain the old behavior, exclude the relevant entries before the concat operation.\n",
      "  consolidated_df = pd.concat([consolidated_df, pd.DataFrame([row_data])], ignore_index=True)\n"
     ]
    },
    {
     "name": "stdout",
     "output_type": "stream",
     "text": [
      "Filtered by frame format for UHS\n",
      "Filtering columns with >95% empty cells for UHS\n",
      "Removed sparse columns for UHS\n",
      "Successfully processed and saved data for UHS to ./data/clean/UHS.csv\n",
      "Processing symbol: VLO\n",
      "Successfully read data for VLO\n",
      "Pivoted data for VLO\n"
     ]
    },
    {
     "name": "stderr",
     "output_type": "stream",
     "text": [
      "/var/folders/0w/q70p80s12nz5lpzr087614lw0000gn/T/ipykernel_52557/4138676989.py:41: FutureWarning: The behavior of DataFrame concatenation with empty or all-NA entries is deprecated. In a future version, this will no longer exclude empty or all-NA columns when determining the result dtypes. To retain the old behavior, exclude the relevant entries before the concat operation.\n",
      "  consolidated_df = pd.concat([consolidated_df, pd.DataFrame([row_data])], ignore_index=True)\n"
     ]
    },
    {
     "name": "stdout",
     "output_type": "stream",
     "text": [
      "Filtered by frame format for VLO\n",
      "Filtering columns with >95% empty cells for VLO\n",
      "Removed sparse columns for VLO\n",
      "Successfully processed and saved data for VLO to ./data/clean/VLO.csv\n",
      "Processing symbol: VTR\n",
      "Successfully read data for VTR\n",
      "Pivoted data for VTR\n"
     ]
    },
    {
     "name": "stderr",
     "output_type": "stream",
     "text": [
      "/var/folders/0w/q70p80s12nz5lpzr087614lw0000gn/T/ipykernel_52557/4138676989.py:41: FutureWarning: The behavior of DataFrame concatenation with empty or all-NA entries is deprecated. In a future version, this will no longer exclude empty or all-NA columns when determining the result dtypes. To retain the old behavior, exclude the relevant entries before the concat operation.\n",
      "  consolidated_df = pd.concat([consolidated_df, pd.DataFrame([row_data])], ignore_index=True)\n"
     ]
    },
    {
     "name": "stdout",
     "output_type": "stream",
     "text": [
      "Filtered by frame format for VTR\n",
      "Filtering columns with >95% empty cells for VTR\n",
      "Removed sparse columns for VTR\n",
      "Successfully processed and saved data for VTR to ./data/clean/VTR.csv\n",
      "Processing symbol: VLTO\n",
      "Successfully read data for VLTO\n",
      "Pivoted data for VLTO\n"
     ]
    },
    {
     "name": "stderr",
     "output_type": "stream",
     "text": [
      "/var/folders/0w/q70p80s12nz5lpzr087614lw0000gn/T/ipykernel_52557/4138676989.py:41: FutureWarning: The behavior of DataFrame concatenation with empty or all-NA entries is deprecated. In a future version, this will no longer exclude empty or all-NA columns when determining the result dtypes. To retain the old behavior, exclude the relevant entries before the concat operation.\n",
      "  consolidated_df = pd.concat([consolidated_df, pd.DataFrame([row_data])], ignore_index=True)\n"
     ]
    },
    {
     "name": "stdout",
     "output_type": "stream",
     "text": [
      "Filtered by frame format for VLTO\n",
      "Filtering columns with >95% empty cells for VLTO\n",
      "Removed sparse columns for VLTO\n",
      "Successfully processed and saved data for VLTO to ./data/clean/VLTO.csv\n",
      "Processing symbol: VRSN\n",
      "Successfully read data for VRSN\n",
      "Pivoted data for VRSN\n"
     ]
    },
    {
     "name": "stderr",
     "output_type": "stream",
     "text": [
      "/var/folders/0w/q70p80s12nz5lpzr087614lw0000gn/T/ipykernel_52557/4138676989.py:41: FutureWarning: The behavior of DataFrame concatenation with empty or all-NA entries is deprecated. In a future version, this will no longer exclude empty or all-NA columns when determining the result dtypes. To retain the old behavior, exclude the relevant entries before the concat operation.\n",
      "  consolidated_df = pd.concat([consolidated_df, pd.DataFrame([row_data])], ignore_index=True)\n"
     ]
    },
    {
     "name": "stdout",
     "output_type": "stream",
     "text": [
      "Filtered by frame format for VRSN\n",
      "Filtering columns with >95% empty cells for VRSN\n",
      "Removed sparse columns for VRSN\n",
      "Successfully processed and saved data for VRSN to ./data/clean/VRSN.csv\n",
      "Processing symbol: VRSK\n",
      "Successfully read data for VRSK\n",
      "Pivoted data for VRSK\n"
     ]
    },
    {
     "name": "stderr",
     "output_type": "stream",
     "text": [
      "/var/folders/0w/q70p80s12nz5lpzr087614lw0000gn/T/ipykernel_52557/4138676989.py:41: FutureWarning: The behavior of DataFrame concatenation with empty or all-NA entries is deprecated. In a future version, this will no longer exclude empty or all-NA columns when determining the result dtypes. To retain the old behavior, exclude the relevant entries before the concat operation.\n",
      "  consolidated_df = pd.concat([consolidated_df, pd.DataFrame([row_data])], ignore_index=True)\n"
     ]
    },
    {
     "name": "stdout",
     "output_type": "stream",
     "text": [
      "Filtered by frame format for VRSK\n",
      "Filtering columns with >95% empty cells for VRSK\n",
      "Removed sparse columns for VRSK\n",
      "Successfully processed and saved data for VRSK to ./data/clean/VRSK.csv\n",
      "Processing symbol: VZ\n",
      "Successfully read data for VZ\n",
      "Pivoted data for VZ\n"
     ]
    },
    {
     "name": "stderr",
     "output_type": "stream",
     "text": [
      "/var/folders/0w/q70p80s12nz5lpzr087614lw0000gn/T/ipykernel_52557/4138676989.py:41: FutureWarning: The behavior of DataFrame concatenation with empty or all-NA entries is deprecated. In a future version, this will no longer exclude empty or all-NA columns when determining the result dtypes. To retain the old behavior, exclude the relevant entries before the concat operation.\n",
      "  consolidated_df = pd.concat([consolidated_df, pd.DataFrame([row_data])], ignore_index=True)\n"
     ]
    },
    {
     "name": "stdout",
     "output_type": "stream",
     "text": [
      "Filtered by frame format for VZ\n",
      "Filtering columns with >95% empty cells for VZ\n",
      "Removed sparse columns for VZ\n",
      "Successfully processed and saved data for VZ to ./data/clean/VZ.csv\n",
      "Processing symbol: VRTX\n",
      "Successfully read data for VRTX\n",
      "Pivoted data for VRTX\n"
     ]
    },
    {
     "name": "stderr",
     "output_type": "stream",
     "text": [
      "/var/folders/0w/q70p80s12nz5lpzr087614lw0000gn/T/ipykernel_52557/4138676989.py:41: FutureWarning: The behavior of DataFrame concatenation with empty or all-NA entries is deprecated. In a future version, this will no longer exclude empty or all-NA columns when determining the result dtypes. To retain the old behavior, exclude the relevant entries before the concat operation.\n",
      "  consolidated_df = pd.concat([consolidated_df, pd.DataFrame([row_data])], ignore_index=True)\n"
     ]
    },
    {
     "name": "stdout",
     "output_type": "stream",
     "text": [
      "Filtered by frame format for VRTX\n",
      "Filtering columns with >95% empty cells for VRTX\n",
      "Removed sparse columns for VRTX\n",
      "Successfully processed and saved data for VRTX to ./data/clean/VRTX.csv\n",
      "Processing symbol: VTRS\n",
      "Successfully read data for VTRS\n",
      "Pivoted data for VTRS\n"
     ]
    },
    {
     "name": "stderr",
     "output_type": "stream",
     "text": [
      "/var/folders/0w/q70p80s12nz5lpzr087614lw0000gn/T/ipykernel_52557/4138676989.py:41: FutureWarning: The behavior of DataFrame concatenation with empty or all-NA entries is deprecated. In a future version, this will no longer exclude empty or all-NA columns when determining the result dtypes. To retain the old behavior, exclude the relevant entries before the concat operation.\n",
      "  consolidated_df = pd.concat([consolidated_df, pd.DataFrame([row_data])], ignore_index=True)\n"
     ]
    },
    {
     "name": "stdout",
     "output_type": "stream",
     "text": [
      "Filtered by frame format for VTRS\n",
      "Filtering columns with >95% empty cells for VTRS\n",
      "Removed sparse columns for VTRS\n",
      "Successfully processed and saved data for VTRS to ./data/clean/VTRS.csv\n",
      "Processing symbol: VICI\n",
      "Successfully read data for VICI\n",
      "Pivoted data for VICI\n"
     ]
    },
    {
     "name": "stderr",
     "output_type": "stream",
     "text": [
      "/var/folders/0w/q70p80s12nz5lpzr087614lw0000gn/T/ipykernel_52557/4138676989.py:41: FutureWarning: The behavior of DataFrame concatenation with empty or all-NA entries is deprecated. In a future version, this will no longer exclude empty or all-NA columns when determining the result dtypes. To retain the old behavior, exclude the relevant entries before the concat operation.\n",
      "  consolidated_df = pd.concat([consolidated_df, pd.DataFrame([row_data])], ignore_index=True)\n"
     ]
    },
    {
     "name": "stdout",
     "output_type": "stream",
     "text": [
      "Filtered by frame format for VICI\n",
      "Filtering columns with >95% empty cells for VICI\n",
      "Removed sparse columns for VICI\n",
      "Successfully processed and saved data for VICI to ./data/clean/VICI.csv\n",
      "Processing symbol: V\n",
      "Successfully read data for V\n",
      "Pivoted data for V\n"
     ]
    },
    {
     "name": "stderr",
     "output_type": "stream",
     "text": [
      "/var/folders/0w/q70p80s12nz5lpzr087614lw0000gn/T/ipykernel_52557/4138676989.py:41: FutureWarning: The behavior of DataFrame concatenation with empty or all-NA entries is deprecated. In a future version, this will no longer exclude empty or all-NA columns when determining the result dtypes. To retain the old behavior, exclude the relevant entries before the concat operation.\n",
      "  consolidated_df = pd.concat([consolidated_df, pd.DataFrame([row_data])], ignore_index=True)\n"
     ]
    },
    {
     "name": "stdout",
     "output_type": "stream",
     "text": [
      "Filtered by frame format for V\n",
      "Filtering columns with >95% empty cells for V\n",
      "Removed sparse columns for V\n",
      "Successfully processed and saved data for V to ./data/clean/V.csv\n",
      "Processing symbol: VST\n",
      "Successfully read data for VST\n",
      "Pivoted data for VST\n"
     ]
    },
    {
     "name": "stderr",
     "output_type": "stream",
     "text": [
      "/var/folders/0w/q70p80s12nz5lpzr087614lw0000gn/T/ipykernel_52557/4138676989.py:41: FutureWarning: The behavior of DataFrame concatenation with empty or all-NA entries is deprecated. In a future version, this will no longer exclude empty or all-NA columns when determining the result dtypes. To retain the old behavior, exclude the relevant entries before the concat operation.\n",
      "  consolidated_df = pd.concat([consolidated_df, pd.DataFrame([row_data])], ignore_index=True)\n"
     ]
    },
    {
     "name": "stdout",
     "output_type": "stream",
     "text": [
      "Filtered by frame format for VST\n",
      "Filtering columns with >95% empty cells for VST\n",
      "Removed sparse columns for VST\n",
      "Successfully processed and saved data for VST to ./data/clean/VST.csv\n",
      "Processing symbol: VMC\n",
      "Successfully read data for VMC\n",
      "Pivoted data for VMC\n"
     ]
    },
    {
     "name": "stderr",
     "output_type": "stream",
     "text": [
      "/var/folders/0w/q70p80s12nz5lpzr087614lw0000gn/T/ipykernel_52557/4138676989.py:41: FutureWarning: The behavior of DataFrame concatenation with empty or all-NA entries is deprecated. In a future version, this will no longer exclude empty or all-NA columns when determining the result dtypes. To retain the old behavior, exclude the relevant entries before the concat operation.\n",
      "  consolidated_df = pd.concat([consolidated_df, pd.DataFrame([row_data])], ignore_index=True)\n"
     ]
    },
    {
     "name": "stdout",
     "output_type": "stream",
     "text": [
      "Filtered by frame format for VMC\n",
      "Filtering columns with >95% empty cells for VMC\n",
      "Removed sparse columns for VMC\n",
      "Successfully processed and saved data for VMC to ./data/clean/VMC.csv\n",
      "Processing symbol: WRB\n",
      "Successfully read data for WRB\n",
      "Pivoted data for WRB\n"
     ]
    },
    {
     "name": "stderr",
     "output_type": "stream",
     "text": [
      "/var/folders/0w/q70p80s12nz5lpzr087614lw0000gn/T/ipykernel_52557/4138676989.py:41: FutureWarning: The behavior of DataFrame concatenation with empty or all-NA entries is deprecated. In a future version, this will no longer exclude empty or all-NA columns when determining the result dtypes. To retain the old behavior, exclude the relevant entries before the concat operation.\n",
      "  consolidated_df = pd.concat([consolidated_df, pd.DataFrame([row_data])], ignore_index=True)\n"
     ]
    },
    {
     "name": "stdout",
     "output_type": "stream",
     "text": [
      "Filtered by frame format for WRB\n",
      "Filtering columns with >95% empty cells for WRB\n",
      "Removed sparse columns for WRB\n",
      "Successfully processed and saved data for WRB to ./data/clean/WRB.csv\n",
      "Processing symbol: GWW\n",
      "Successfully read data for GWW\n",
      "Pivoted data for GWW\n"
     ]
    },
    {
     "name": "stderr",
     "output_type": "stream",
     "text": [
      "/var/folders/0w/q70p80s12nz5lpzr087614lw0000gn/T/ipykernel_52557/4138676989.py:41: FutureWarning: The behavior of DataFrame concatenation with empty or all-NA entries is deprecated. In a future version, this will no longer exclude empty or all-NA columns when determining the result dtypes. To retain the old behavior, exclude the relevant entries before the concat operation.\n",
      "  consolidated_df = pd.concat([consolidated_df, pd.DataFrame([row_data])], ignore_index=True)\n"
     ]
    },
    {
     "name": "stdout",
     "output_type": "stream",
     "text": [
      "Filtered by frame format for GWW\n",
      "Filtering columns with >95% empty cells for GWW\n",
      "Removed sparse columns for GWW\n",
      "Successfully processed and saved data for GWW to ./data/clean/GWW.csv\n",
      "Processing symbol: WAB\n",
      "Successfully read data for WAB\n",
      "Pivoted data for WAB\n"
     ]
    },
    {
     "name": "stderr",
     "output_type": "stream",
     "text": [
      "/var/folders/0w/q70p80s12nz5lpzr087614lw0000gn/T/ipykernel_52557/4138676989.py:41: FutureWarning: The behavior of DataFrame concatenation with empty or all-NA entries is deprecated. In a future version, this will no longer exclude empty or all-NA columns when determining the result dtypes. To retain the old behavior, exclude the relevant entries before the concat operation.\n",
      "  consolidated_df = pd.concat([consolidated_df, pd.DataFrame([row_data])], ignore_index=True)\n"
     ]
    },
    {
     "name": "stdout",
     "output_type": "stream",
     "text": [
      "Filtered by frame format for WAB\n",
      "Filtering columns with >95% empty cells for WAB\n",
      "Removed sparse columns for WAB\n",
      "Successfully processed and saved data for WAB to ./data/clean/WAB.csv\n",
      "Processing symbol: WBA\n",
      "Successfully read data for WBA\n",
      "Pivoted data for WBA\n"
     ]
    },
    {
     "name": "stderr",
     "output_type": "stream",
     "text": [
      "/var/folders/0w/q70p80s12nz5lpzr087614lw0000gn/T/ipykernel_52557/4138676989.py:41: FutureWarning: The behavior of DataFrame concatenation with empty or all-NA entries is deprecated. In a future version, this will no longer exclude empty or all-NA columns when determining the result dtypes. To retain the old behavior, exclude the relevant entries before the concat operation.\n",
      "  consolidated_df = pd.concat([consolidated_df, pd.DataFrame([row_data])], ignore_index=True)\n"
     ]
    },
    {
     "name": "stdout",
     "output_type": "stream",
     "text": [
      "Filtered by frame format for WBA\n",
      "Filtering columns with >95% empty cells for WBA\n",
      "Removed sparse columns for WBA\n",
      "Successfully processed and saved data for WBA to ./data/clean/WBA.csv\n",
      "Processing symbol: WMT\n",
      "Successfully read data for WMT\n",
      "Pivoted data for WMT\n"
     ]
    },
    {
     "name": "stderr",
     "output_type": "stream",
     "text": [
      "/var/folders/0w/q70p80s12nz5lpzr087614lw0000gn/T/ipykernel_52557/4138676989.py:41: FutureWarning: The behavior of DataFrame concatenation with empty or all-NA entries is deprecated. In a future version, this will no longer exclude empty or all-NA columns when determining the result dtypes. To retain the old behavior, exclude the relevant entries before the concat operation.\n",
      "  consolidated_df = pd.concat([consolidated_df, pd.DataFrame([row_data])], ignore_index=True)\n"
     ]
    },
    {
     "name": "stdout",
     "output_type": "stream",
     "text": [
      "Filtered by frame format for WMT\n",
      "Filtering columns with >95% empty cells for WMT\n",
      "Removed sparse columns for WMT\n",
      "Successfully processed and saved data for WMT to ./data/clean/WMT.csv\n",
      "Processing symbol: DIS\n",
      "Successfully read data for DIS\n",
      "Pivoted data for DIS\n"
     ]
    },
    {
     "name": "stderr",
     "output_type": "stream",
     "text": [
      "/var/folders/0w/q70p80s12nz5lpzr087614lw0000gn/T/ipykernel_52557/4138676989.py:41: FutureWarning: The behavior of DataFrame concatenation with empty or all-NA entries is deprecated. In a future version, this will no longer exclude empty or all-NA columns when determining the result dtypes. To retain the old behavior, exclude the relevant entries before the concat operation.\n",
      "  consolidated_df = pd.concat([consolidated_df, pd.DataFrame([row_data])], ignore_index=True)\n"
     ]
    },
    {
     "name": "stdout",
     "output_type": "stream",
     "text": [
      "Filtered by frame format for DIS\n",
      "Filtering columns with >95% empty cells for DIS\n",
      "Removed sparse columns for DIS\n",
      "Successfully processed and saved data for DIS to ./data/clean/DIS.csv\n",
      "Processing symbol: WBD\n",
      "Successfully read data for WBD\n",
      "Pivoted data for WBD\n"
     ]
    },
    {
     "name": "stderr",
     "output_type": "stream",
     "text": [
      "/var/folders/0w/q70p80s12nz5lpzr087614lw0000gn/T/ipykernel_52557/4138676989.py:41: FutureWarning: The behavior of DataFrame concatenation with empty or all-NA entries is deprecated. In a future version, this will no longer exclude empty or all-NA columns when determining the result dtypes. To retain the old behavior, exclude the relevant entries before the concat operation.\n",
      "  consolidated_df = pd.concat([consolidated_df, pd.DataFrame([row_data])], ignore_index=True)\n"
     ]
    },
    {
     "name": "stdout",
     "output_type": "stream",
     "text": [
      "Filtered by frame format for WBD\n",
      "Filtering columns with >95% empty cells for WBD\n",
      "Removed sparse columns for WBD\n",
      "Successfully processed and saved data for WBD to ./data/clean/WBD.csv\n",
      "Processing symbol: WM\n",
      "Successfully read data for WM\n",
      "Pivoted data for WM\n"
     ]
    },
    {
     "name": "stderr",
     "output_type": "stream",
     "text": [
      "/var/folders/0w/q70p80s12nz5lpzr087614lw0000gn/T/ipykernel_52557/4138676989.py:41: FutureWarning: The behavior of DataFrame concatenation with empty or all-NA entries is deprecated. In a future version, this will no longer exclude empty or all-NA columns when determining the result dtypes. To retain the old behavior, exclude the relevant entries before the concat operation.\n",
      "  consolidated_df = pd.concat([consolidated_df, pd.DataFrame([row_data])], ignore_index=True)\n"
     ]
    },
    {
     "name": "stdout",
     "output_type": "stream",
     "text": [
      "Filtered by frame format for WM\n",
      "Filtering columns with >95% empty cells for WM\n",
      "Removed sparse columns for WM\n",
      "Successfully processed and saved data for WM to ./data/clean/WM.csv\n",
      "Processing symbol: WAT\n",
      "Successfully read data for WAT\n",
      "Pivoted data for WAT\n"
     ]
    },
    {
     "name": "stderr",
     "output_type": "stream",
     "text": [
      "/var/folders/0w/q70p80s12nz5lpzr087614lw0000gn/T/ipykernel_52557/4138676989.py:41: FutureWarning: The behavior of DataFrame concatenation with empty or all-NA entries is deprecated. In a future version, this will no longer exclude empty or all-NA columns when determining the result dtypes. To retain the old behavior, exclude the relevant entries before the concat operation.\n",
      "  consolidated_df = pd.concat([consolidated_df, pd.DataFrame([row_data])], ignore_index=True)\n"
     ]
    },
    {
     "name": "stdout",
     "output_type": "stream",
     "text": [
      "Filtered by frame format for WAT\n",
      "Filtering columns with >95% empty cells for WAT\n",
      "Removed sparse columns for WAT\n",
      "Successfully processed and saved data for WAT to ./data/clean/WAT.csv\n",
      "Processing symbol: WEC\n",
      "Successfully read data for WEC\n",
      "Pivoted data for WEC\n"
     ]
    },
    {
     "name": "stderr",
     "output_type": "stream",
     "text": [
      "/var/folders/0w/q70p80s12nz5lpzr087614lw0000gn/T/ipykernel_52557/4138676989.py:41: FutureWarning: The behavior of DataFrame concatenation with empty or all-NA entries is deprecated. In a future version, this will no longer exclude empty or all-NA columns when determining the result dtypes. To retain the old behavior, exclude the relevant entries before the concat operation.\n",
      "  consolidated_df = pd.concat([consolidated_df, pd.DataFrame([row_data])], ignore_index=True)\n"
     ]
    },
    {
     "name": "stdout",
     "output_type": "stream",
     "text": [
      "Filtered by frame format for WEC\n",
      "Filtering columns with >95% empty cells for WEC\n",
      "Removed sparse columns for WEC\n",
      "Successfully processed and saved data for WEC to ./data/clean/WEC.csv\n",
      "Processing symbol: WFC\n",
      "Successfully read data for WFC\n",
      "Pivoted data for WFC\n"
     ]
    },
    {
     "name": "stderr",
     "output_type": "stream",
     "text": [
      "/var/folders/0w/q70p80s12nz5lpzr087614lw0000gn/T/ipykernel_52557/4138676989.py:41: FutureWarning: The behavior of DataFrame concatenation with empty or all-NA entries is deprecated. In a future version, this will no longer exclude empty or all-NA columns when determining the result dtypes. To retain the old behavior, exclude the relevant entries before the concat operation.\n",
      "  consolidated_df = pd.concat([consolidated_df, pd.DataFrame([row_data])], ignore_index=True)\n"
     ]
    },
    {
     "name": "stdout",
     "output_type": "stream",
     "text": [
      "Filtered by frame format for WFC\n",
      "Filtering columns with >95% empty cells for WFC\n",
      "Removed sparse columns for WFC\n",
      "Successfully processed and saved data for WFC to ./data/clean/WFC.csv\n",
      "Processing symbol: WELL\n",
      "Successfully read data for WELL\n",
      "Pivoted data for WELL\n"
     ]
    },
    {
     "name": "stderr",
     "output_type": "stream",
     "text": [
      "/var/folders/0w/q70p80s12nz5lpzr087614lw0000gn/T/ipykernel_52557/4138676989.py:41: FutureWarning: The behavior of DataFrame concatenation with empty or all-NA entries is deprecated. In a future version, this will no longer exclude empty or all-NA columns when determining the result dtypes. To retain the old behavior, exclude the relevant entries before the concat operation.\n",
      "  consolidated_df = pd.concat([consolidated_df, pd.DataFrame([row_data])], ignore_index=True)\n"
     ]
    },
    {
     "name": "stdout",
     "output_type": "stream",
     "text": [
      "Filtered by frame format for WELL\n",
      "Filtering columns with >95% empty cells for WELL\n",
      "Removed sparse columns for WELL\n",
      "Successfully processed and saved data for WELL to ./data/clean/WELL.csv\n",
      "Processing symbol: WST\n",
      "Successfully read data for WST\n",
      "Pivoted data for WST\n"
     ]
    },
    {
     "name": "stderr",
     "output_type": "stream",
     "text": [
      "/var/folders/0w/q70p80s12nz5lpzr087614lw0000gn/T/ipykernel_52557/4138676989.py:41: FutureWarning: The behavior of DataFrame concatenation with empty or all-NA entries is deprecated. In a future version, this will no longer exclude empty or all-NA columns when determining the result dtypes. To retain the old behavior, exclude the relevant entries before the concat operation.\n",
      "  consolidated_df = pd.concat([consolidated_df, pd.DataFrame([row_data])], ignore_index=True)\n"
     ]
    },
    {
     "name": "stdout",
     "output_type": "stream",
     "text": [
      "Filtered by frame format for WST\n",
      "Filtering columns with >95% empty cells for WST\n",
      "Removed sparse columns for WST\n",
      "Successfully processed and saved data for WST to ./data/clean/WST.csv\n",
      "Processing symbol: WDC\n",
      "Successfully read data for WDC\n",
      "Pivoted data for WDC\n"
     ]
    },
    {
     "name": "stderr",
     "output_type": "stream",
     "text": [
      "/var/folders/0w/q70p80s12nz5lpzr087614lw0000gn/T/ipykernel_52557/4138676989.py:41: FutureWarning: The behavior of DataFrame concatenation with empty or all-NA entries is deprecated. In a future version, this will no longer exclude empty or all-NA columns when determining the result dtypes. To retain the old behavior, exclude the relevant entries before the concat operation.\n",
      "  consolidated_df = pd.concat([consolidated_df, pd.DataFrame([row_data])], ignore_index=True)\n"
     ]
    },
    {
     "name": "stdout",
     "output_type": "stream",
     "text": [
      "Filtered by frame format for WDC\n",
      "Filtering columns with >95% empty cells for WDC\n",
      "Removed sparse columns for WDC\n",
      "Successfully processed and saved data for WDC to ./data/clean/WDC.csv\n",
      "Processing symbol: WY\n",
      "Successfully read data for WY\n",
      "Pivoted data for WY\n"
     ]
    },
    {
     "name": "stderr",
     "output_type": "stream",
     "text": [
      "/var/folders/0w/q70p80s12nz5lpzr087614lw0000gn/T/ipykernel_52557/4138676989.py:41: FutureWarning: The behavior of DataFrame concatenation with empty or all-NA entries is deprecated. In a future version, this will no longer exclude empty or all-NA columns when determining the result dtypes. To retain the old behavior, exclude the relevant entries before the concat operation.\n",
      "  consolidated_df = pd.concat([consolidated_df, pd.DataFrame([row_data])], ignore_index=True)\n"
     ]
    },
    {
     "name": "stdout",
     "output_type": "stream",
     "text": [
      "Filtered by frame format for WY\n",
      "Filtering columns with >95% empty cells for WY\n",
      "Removed sparse columns for WY\n",
      "Successfully processed and saved data for WY to ./data/clean/WY.csv\n",
      "Processing symbol: WMB\n",
      "Successfully read data for WMB\n",
      "Pivoted data for WMB\n"
     ]
    },
    {
     "name": "stderr",
     "output_type": "stream",
     "text": [
      "/var/folders/0w/q70p80s12nz5lpzr087614lw0000gn/T/ipykernel_52557/4138676989.py:41: FutureWarning: The behavior of DataFrame concatenation with empty or all-NA entries is deprecated. In a future version, this will no longer exclude empty or all-NA columns when determining the result dtypes. To retain the old behavior, exclude the relevant entries before the concat operation.\n",
      "  consolidated_df = pd.concat([consolidated_df, pd.DataFrame([row_data])], ignore_index=True)\n"
     ]
    },
    {
     "name": "stdout",
     "output_type": "stream",
     "text": [
      "Filtered by frame format for WMB\n",
      "Filtering columns with >95% empty cells for WMB\n",
      "Removed sparse columns for WMB\n",
      "Successfully processed and saved data for WMB to ./data/clean/WMB.csv\n",
      "Processing symbol: WTW\n",
      "Successfully read data for WTW\n",
      "Pivoted data for WTW\n"
     ]
    },
    {
     "name": "stderr",
     "output_type": "stream",
     "text": [
      "/var/folders/0w/q70p80s12nz5lpzr087614lw0000gn/T/ipykernel_52557/4138676989.py:41: FutureWarning: The behavior of DataFrame concatenation with empty or all-NA entries is deprecated. In a future version, this will no longer exclude empty or all-NA columns when determining the result dtypes. To retain the old behavior, exclude the relevant entries before the concat operation.\n",
      "  consolidated_df = pd.concat([consolidated_df, pd.DataFrame([row_data])], ignore_index=True)\n"
     ]
    },
    {
     "name": "stdout",
     "output_type": "stream",
     "text": [
      "Filtered by frame format for WTW\n",
      "Filtering columns with >95% empty cells for WTW\n",
      "Removed sparse columns for WTW\n",
      "Successfully processed and saved data for WTW to ./data/clean/WTW.csv\n",
      "Processing symbol: WDAY\n",
      "Successfully read data for WDAY\n",
      "Pivoted data for WDAY\n"
     ]
    },
    {
     "name": "stderr",
     "output_type": "stream",
     "text": [
      "/var/folders/0w/q70p80s12nz5lpzr087614lw0000gn/T/ipykernel_52557/4138676989.py:41: FutureWarning: The behavior of DataFrame concatenation with empty or all-NA entries is deprecated. In a future version, this will no longer exclude empty or all-NA columns when determining the result dtypes. To retain the old behavior, exclude the relevant entries before the concat operation.\n",
      "  consolidated_df = pd.concat([consolidated_df, pd.DataFrame([row_data])], ignore_index=True)\n"
     ]
    },
    {
     "name": "stdout",
     "output_type": "stream",
     "text": [
      "Filtered by frame format for WDAY\n",
      "Filtering columns with >95% empty cells for WDAY\n",
      "Removed sparse columns for WDAY\n",
      "Successfully processed and saved data for WDAY to ./data/clean/WDAY.csv\n",
      "Processing symbol: WYNN\n",
      "Successfully read data for WYNN\n",
      "Pivoted data for WYNN\n"
     ]
    },
    {
     "name": "stderr",
     "output_type": "stream",
     "text": [
      "/var/folders/0w/q70p80s12nz5lpzr087614lw0000gn/T/ipykernel_52557/4138676989.py:41: FutureWarning: The behavior of DataFrame concatenation with empty or all-NA entries is deprecated. In a future version, this will no longer exclude empty or all-NA columns when determining the result dtypes. To retain the old behavior, exclude the relevant entries before the concat operation.\n",
      "  consolidated_df = pd.concat([consolidated_df, pd.DataFrame([row_data])], ignore_index=True)\n"
     ]
    },
    {
     "name": "stdout",
     "output_type": "stream",
     "text": [
      "Filtered by frame format for WYNN\n",
      "Filtering columns with >95% empty cells for WYNN\n",
      "Removed sparse columns for WYNN\n",
      "Successfully processed and saved data for WYNN to ./data/clean/WYNN.csv\n",
      "Processing symbol: XEL\n",
      "Successfully read data for XEL\n",
      "Pivoted data for XEL\n"
     ]
    },
    {
     "name": "stderr",
     "output_type": "stream",
     "text": [
      "/var/folders/0w/q70p80s12nz5lpzr087614lw0000gn/T/ipykernel_52557/4138676989.py:41: FutureWarning: The behavior of DataFrame concatenation with empty or all-NA entries is deprecated. In a future version, this will no longer exclude empty or all-NA columns when determining the result dtypes. To retain the old behavior, exclude the relevant entries before the concat operation.\n",
      "  consolidated_df = pd.concat([consolidated_df, pd.DataFrame([row_data])], ignore_index=True)\n"
     ]
    },
    {
     "name": "stdout",
     "output_type": "stream",
     "text": [
      "Filtered by frame format for XEL\n",
      "Filtering columns with >95% empty cells for XEL\n",
      "Removed sparse columns for XEL\n",
      "Successfully processed and saved data for XEL to ./data/clean/XEL.csv\n",
      "Processing symbol: XYL\n",
      "Successfully read data for XYL\n",
      "Pivoted data for XYL\n"
     ]
    },
    {
     "name": "stderr",
     "output_type": "stream",
     "text": [
      "/var/folders/0w/q70p80s12nz5lpzr087614lw0000gn/T/ipykernel_52557/4138676989.py:41: FutureWarning: The behavior of DataFrame concatenation with empty or all-NA entries is deprecated. In a future version, this will no longer exclude empty or all-NA columns when determining the result dtypes. To retain the old behavior, exclude the relevant entries before the concat operation.\n",
      "  consolidated_df = pd.concat([consolidated_df, pd.DataFrame([row_data])], ignore_index=True)\n"
     ]
    },
    {
     "name": "stdout",
     "output_type": "stream",
     "text": [
      "Filtered by frame format for XYL\n",
      "Filtering columns with >95% empty cells for XYL\n",
      "Removed sparse columns for XYL\n",
      "Successfully processed and saved data for XYL to ./data/clean/XYL.csv\n",
      "Processing symbol: YUM\n",
      "Successfully read data for YUM\n",
      "Pivoted data for YUM\n"
     ]
    },
    {
     "name": "stderr",
     "output_type": "stream",
     "text": [
      "/var/folders/0w/q70p80s12nz5lpzr087614lw0000gn/T/ipykernel_52557/4138676989.py:41: FutureWarning: The behavior of DataFrame concatenation with empty or all-NA entries is deprecated. In a future version, this will no longer exclude empty or all-NA columns when determining the result dtypes. To retain the old behavior, exclude the relevant entries before the concat operation.\n",
      "  consolidated_df = pd.concat([consolidated_df, pd.DataFrame([row_data])], ignore_index=True)\n"
     ]
    },
    {
     "name": "stdout",
     "output_type": "stream",
     "text": [
      "Filtered by frame format for YUM\n",
      "Filtering columns with >95% empty cells for YUM\n",
      "Removed sparse columns for YUM\n",
      "Successfully processed and saved data for YUM to ./data/clean/YUM.csv\n",
      "Processing symbol: ZBRA\n",
      "Successfully read data for ZBRA\n",
      "Pivoted data for ZBRA\n"
     ]
    },
    {
     "name": "stderr",
     "output_type": "stream",
     "text": [
      "/var/folders/0w/q70p80s12nz5lpzr087614lw0000gn/T/ipykernel_52557/4138676989.py:41: FutureWarning: The behavior of DataFrame concatenation with empty or all-NA entries is deprecated. In a future version, this will no longer exclude empty or all-NA columns when determining the result dtypes. To retain the old behavior, exclude the relevant entries before the concat operation.\n",
      "  consolidated_df = pd.concat([consolidated_df, pd.DataFrame([row_data])], ignore_index=True)\n"
     ]
    },
    {
     "name": "stdout",
     "output_type": "stream",
     "text": [
      "Filtered by frame format for ZBRA\n",
      "Filtering columns with >95% empty cells for ZBRA\n",
      "Removed sparse columns for ZBRA\n",
      "Successfully processed and saved data for ZBRA to ./data/clean/ZBRA.csv\n",
      "Processing symbol: ZBH\n",
      "Successfully read data for ZBH\n",
      "Pivoted data for ZBH\n"
     ]
    },
    {
     "name": "stderr",
     "output_type": "stream",
     "text": [
      "/var/folders/0w/q70p80s12nz5lpzr087614lw0000gn/T/ipykernel_52557/4138676989.py:41: FutureWarning: The behavior of DataFrame concatenation with empty or all-NA entries is deprecated. In a future version, this will no longer exclude empty or all-NA columns when determining the result dtypes. To retain the old behavior, exclude the relevant entries before the concat operation.\n",
      "  consolidated_df = pd.concat([consolidated_df, pd.DataFrame([row_data])], ignore_index=True)\n"
     ]
    },
    {
     "name": "stdout",
     "output_type": "stream",
     "text": [
      "Filtered by frame format for ZBH\n",
      "Filtering columns with >95% empty cells for ZBH\n",
      "Removed sparse columns for ZBH\n",
      "Successfully processed and saved data for ZBH to ./data/clean/ZBH.csv\n",
      "Processing symbol: ZTS\n",
      "Successfully read data for ZTS\n",
      "Pivoted data for ZTS\n"
     ]
    },
    {
     "name": "stderr",
     "output_type": "stream",
     "text": [
      "/var/folders/0w/q70p80s12nz5lpzr087614lw0000gn/T/ipykernel_52557/4138676989.py:41: FutureWarning: The behavior of DataFrame concatenation with empty or all-NA entries is deprecated. In a future version, this will no longer exclude empty or all-NA columns when determining the result dtypes. To retain the old behavior, exclude the relevant entries before the concat operation.\n",
      "  consolidated_df = pd.concat([consolidated_df, pd.DataFrame([row_data])], ignore_index=True)\n"
     ]
    },
    {
     "name": "stdout",
     "output_type": "stream",
     "text": [
      "Filtered by frame format for ZTS\n",
      "Filtering columns with >95% empty cells for ZTS\n",
      "Removed sparse columns for ZTS\n",
      "Successfully processed and saved data for ZTS to ./data/clean/ZTS.csv\n",
      "Finished processing all symbols.\n"
     ]
    }
   ],
   "source": [
    "import os\n",
    "import pandas as pd\n",
    "\n",
    "\n",
    "print(\"Starting data processing...\")\n",
    "sp = pd.read_csv('./data/sp500.csv')\n",
    "sp.head(3)\n",
    "for i in sp['Symbol']:\n",
    "    try:\n",
    "        print(f'Processing symbol: {i}')\n",
    "        file_path = f'./data/financial_data/{i}_raw_financials.csv'\n",
    "\n",
    "        df = pd.read_csv(file_path)\n",
    "        print(f'Successfully read data for {i}')\n",
    "\n",
    "        pivoted_df = df.pivot_table(\n",
    "            index=['cik', 'company_name', 'frame', 'unit', 'end', 'filed', 'form'],\n",
    "            columns='concept',\n",
    "            values='value'\n",
    "        ).reset_index()\n",
    "        print(f'Pivoted data for {i}')\n",
    "\n",
    "        metadata_cols = ['cik', 'company_name', 'form', 'frame', 'end', 'unit','filed']\n",
    "        consolidated_df = pd.DataFrame()\n",
    "        grouped = pivoted_df.groupby('end')\n",
    "\n",
    "        for end_date, group in grouped:\n",
    "            row_data = {'end': end_date}\n",
    "            for col in metadata_cols:\n",
    "                if col in group.columns:\n",
    "                    row_data[col] = group[col].iloc[0]\n",
    "            \n",
    "            for col in pivoted_df.columns:\n",
    "                if col not in metadata_cols and col != 'end':\n",
    "                    non_nan_values = group[col].dropna()\n",
    "                    if not non_nan_values.empty:\n",
    "                        row_data[col] = non_nan_values.iloc[0]\n",
    "                    else:\n",
    "                        row_data[col] = None\n",
    "            \n",
    "            consolidated_df = pd.concat([consolidated_df, pd.DataFrame([row_data])], ignore_index=True)\n",
    "\n",
    "        ##### I only want the yearly data not the quarterly data for now ####\n",
    "        consolidated_df = consolidated_df[consolidated_df['form'] == '10-K']\n",
    "        consolidated_df = consolidated_df[consolidated_df['frame'].astype(str).str.match((r'^CY\\d{4}$'))]\n",
    "        print(f'Filtered by frame format for {i}')\n",
    "\n",
    "\n",
    "        print(f'Filtering columns with >95% empty cells for {i}')\n",
    "        if not consolidated_df.empty:\n",
    "            nan_percentages = consolidated_df.isna().mean()\n",
    "            cleaned_df = consolidated_df.loc[:, nan_percentages < 0.95]\n",
    "            consolidated_df = cleaned_df\n",
    "            print(f'Removed sparse columns for {i}')\n",
    "        else:\n",
    "            print(f'Consolidated dataframe is empty for {i}, skipping NaN column removal.')\n",
    "\n",
    "        output_file_path = f'./data/clean/{i}.csv'\n",
    "        \n",
    "        # Ensure the directory exists before saving\n",
    "        os.makedirs(os.path.dirname(output_file_path), exist_ok=True)\n",
    "        \n",
    "        consolidated_df.to_csv(output_file_path, index=False)\n",
    "        print(f'Successfully processed and saved data for {i} to {output_file_path}')\n",
    "\n",
    "    except FileNotFoundError:\n",
    "        print(f\"Error: File not found for symbol {i} at path: {file_path}. Skipping this symbol.\")\n",
    "    except pd.errors.EmptyDataError:\n",
    "        print(f\"Error: File for symbol {i} is empty: {file_path}. Skipping this symbol.\")\n",
    "    except KeyError as e:\n",
    "        print(f\"Error: A required column is missing for symbol {i} (KeyError: {e}). Skipping this symbol.\")\n",
    "    except Exception as e:\n",
    "        print(f\"An unexpected error occurred while processing symbol {i}: {e}\")\n",
    "        print(f\"Skipping symbol {i} and continuing with the next one.\")\n",
    "\n",
    "print(\"Finished processing all symbols.\")\n"
   ]
  },
  {
   "cell_type": "markdown",
   "metadata": {},
   "source": [
    "# Here I will further clean the data to construct the Balance Sheet, Income Statement and Cash Flow Statement for the Sector / Industry and save them into the csv files\n",
    "\n",
    "\n",
    "- Check each year (Frame) individually for each financial account\n",
    "- If the primary account has a NaN/empty value in a specific year\n",
    "- Look at the alternative account names for that same year\n",
    "- Use the alternative value when available\n",
    "\n",
    "\n",
    "### Output in financial_statement"
   ]
  },
  {
   "cell_type": "code",
   "execution_count": 2,
   "metadata": {},
   "outputs": [
    {
     "name": "stdout",
     "output_type": "stream",
     "text": [
      "\n",
      "Processing MMM (Industrials - Industrial Conglomerates)...\n",
      "Error loading industry mapping for Industrials - Industrial Conglomerates: name 'importlib' is not defined\n",
      "Skipping MMM - Could not load industry mapping.\n",
      "\n",
      "Processing AOS (Industrials - Building Products)...\n",
      "Error loading industry mapping for Industrials - Building Products: name 'importlib' is not defined\n",
      "Skipping AOS - Could not load industry mapping.\n",
      "\n",
      "Processing ABT (Health Care - Health Care Equipment)...\n",
      "Error loading industry mapping for Health Care - Health Care Equipment: name 'importlib' is not defined\n",
      "Skipping ABT - Could not load industry mapping.\n",
      "\n",
      "Processing ABBV (Health Care - Biotechnology)...\n",
      "Error loading industry mapping for Health Care - Biotechnology: name 'importlib' is not defined\n",
      "Skipping ABBV - Could not load industry mapping.\n",
      "\n",
      "Processing ACN (Information Technology - IT Consulting & Other Services)...\n",
      "Error loading industry mapping for Information Technology - IT Consulting & Other Services: name 'importlib' is not defined\n",
      "Skipping ACN - Could not load industry mapping.\n",
      "\n",
      "Processing ADBE (Information Technology - Application Software)...\n",
      "Error loading industry mapping for Information Technology - Application Software: name 'importlib' is not defined\n",
      "Skipping ADBE - Could not load industry mapping.\n",
      "\n",
      "Processing AMD (Information Technology - Semiconductors)...\n",
      "Error loading industry mapping for Information Technology - Semiconductors: name 'importlib' is not defined\n",
      "Skipping AMD - Could not load industry mapping.\n",
      "\n",
      "Processing AES (Utilities - Independent Power Producers & Energy Traders)...\n",
      "Error loading industry mapping for Utilities - Independent Power Producers & Energy Traders: name 'importlib' is not defined\n",
      "Skipping AES - Could not load industry mapping.\n",
      "\n",
      "Processing AFL (Financials - Life & Health Insurance)...\n",
      "Error loading industry mapping for Financials - Life & Health Insurance: name 'importlib' is not defined\n",
      "Skipping AFL - Could not load industry mapping.\n",
      "\n",
      "Processing A (Health Care - Life Sciences Tools & Services)...\n",
      "Error loading industry mapping for Health Care - Life Sciences Tools & Services: name 'importlib' is not defined\n",
      "Skipping A - Could not load industry mapping.\n",
      "\n",
      "Processing APD (Materials - Industrial Gases)...\n",
      "Error loading industry mapping for Materials - Industrial Gases: name 'importlib' is not defined\n",
      "Skipping APD - Could not load industry mapping.\n",
      "\n",
      "Processing ABNB (Consumer Discretionary - Hotels, Resorts & Cruise Lines)...\n",
      "Error loading industry mapping for Consumer Discretionary - Hotels, Resorts & Cruise Lines: name 'importlib' is not defined\n",
      "Skipping ABNB - Could not load industry mapping.\n",
      "\n",
      "Processing AKAM (Information Technology - Internet Services & Infrastructure)...\n",
      "Error loading industry mapping for Information Technology - Internet Services & Infrastructure: name 'importlib' is not defined\n",
      "Skipping AKAM - Could not load industry mapping.\n",
      "\n",
      "Processing ALB (Materials - Specialty Chemicals)...\n",
      "Error loading industry mapping for Materials - Specialty Chemicals: name 'importlib' is not defined\n",
      "Skipping ALB - Could not load industry mapping.\n",
      "\n",
      "Processing ARE (Real Estate - Office REITs)...\n",
      "Error loading industry mapping for Real Estate - Office REITs: name 'importlib' is not defined\n",
      "Skipping ARE - Could not load industry mapping.\n",
      "\n",
      "Processing ALGN (Health Care - Health Care Supplies)...\n",
      "Error loading industry mapping for Health Care - Health Care Supplies: name 'importlib' is not defined\n",
      "Skipping ALGN - Could not load industry mapping.\n",
      "\n",
      "Processing ALLE (Industrials - Building Products)...\n",
      "Error loading industry mapping for Industrials - Building Products: name 'importlib' is not defined\n",
      "Skipping ALLE - Could not load industry mapping.\n",
      "\n",
      "Processing LNT (Utilities - Electric Utilities)...\n",
      "Error loading industry mapping for Utilities - Electric Utilities: name 'importlib' is not defined\n",
      "Skipping LNT - Could not load industry mapping.\n",
      "\n",
      "Processing ALL (Financials - Property & Casualty Insurance)...\n",
      "Error loading industry mapping for Financials - Property & Casualty Insurance: name 'importlib' is not defined\n",
      "Skipping ALL - Could not load industry mapping.\n",
      "\n",
      "Processing GOOGL (Communication Services - Interactive Media & Services)...\n",
      "Error loading industry mapping for Communication Services - Interactive Media & Services: name 'importlib' is not defined\n",
      "Skipping GOOGL - Could not load industry mapping.\n",
      "\n",
      "Processing GOOG (Communication Services - Interactive Media & Services)...\n",
      "Error loading industry mapping for Communication Services - Interactive Media & Services: name 'importlib' is not defined\n",
      "Skipping GOOG - Could not load industry mapping.\n",
      "\n",
      "Processing MO (Consumer Staples - Tobacco)...\n",
      "Error loading industry mapping for Consumer Staples - Tobacco: name 'importlib' is not defined\n",
      "Skipping MO - Could not load industry mapping.\n",
      "\n",
      "Processing AMZN (Consumer Discretionary - Broadline Retail)...\n",
      "Error loading industry mapping for Consumer Discretionary - Broadline Retail: name 'importlib' is not defined\n",
      "Skipping AMZN - Could not load industry mapping.\n",
      "\n",
      "Processing AMCR (Materials - Paper & Plastic Packaging Products & Materials)...\n",
      "Error loading industry mapping for Materials - Paper & Plastic Packaging Products & Materials: name 'importlib' is not defined\n",
      "Skipping AMCR - Could not load industry mapping.\n",
      "\n",
      "Processing AEE (Utilities - Multi-Utilities)...\n",
      "Error loading industry mapping for Utilities - Multi-Utilities: name 'importlib' is not defined\n",
      "Skipping AEE - Could not load industry mapping.\n",
      "\n",
      "Processing AEP (Utilities - Electric Utilities)...\n",
      "Error loading industry mapping for Utilities - Electric Utilities: name 'importlib' is not defined\n",
      "Skipping AEP - Could not load industry mapping.\n",
      "\n",
      "Processing AXP (Financials - Consumer Finance)...\n",
      "Error loading industry mapping for Financials - Consumer Finance: name 'importlib' is not defined\n",
      "Skipping AXP - Could not load industry mapping.\n",
      "\n",
      "Processing AIG (Financials - Multi-line Insurance)...\n",
      "Error loading industry mapping for Financials - Multi-line Insurance: name 'importlib' is not defined\n",
      "Skipping AIG - Could not load industry mapping.\n",
      "\n",
      "Processing AMT (Real Estate - Telecom Tower REITs)...\n",
      "Error loading industry mapping for Real Estate - Telecom Tower REITs: name 'importlib' is not defined\n",
      "Skipping AMT - Could not load industry mapping.\n",
      "\n",
      "Processing AWK (Utilities - Water Utilities)...\n",
      "Error loading industry mapping for Utilities - Water Utilities: name 'importlib' is not defined\n",
      "Skipping AWK - Could not load industry mapping.\n",
      "\n",
      "Processing AMP (Financials - Asset Management & Custody Banks)...\n",
      "Error loading industry mapping for Financials - Asset Management & Custody Banks: name 'importlib' is not defined\n",
      "Skipping AMP - Could not load industry mapping.\n",
      "\n",
      "Processing AME (Industrials - Electrical Components & Equipment)...\n",
      "Error loading industry mapping for Industrials - Electrical Components & Equipment: name 'importlib' is not defined\n",
      "Skipping AME - Could not load industry mapping.\n",
      "\n",
      "Processing AMGN (Health Care - Biotechnology)...\n",
      "Error loading industry mapping for Health Care - Biotechnology: name 'importlib' is not defined\n",
      "Skipping AMGN - Could not load industry mapping.\n",
      "\n",
      "Processing APH (Information Technology - Electronic Components)...\n",
      "Error loading industry mapping for Information Technology - Electronic Components: name 'importlib' is not defined\n",
      "Skipping APH - Could not load industry mapping.\n",
      "\n",
      "Processing ADI (Information Technology - Semiconductors)...\n",
      "Error loading industry mapping for Information Technology - Semiconductors: name 'importlib' is not defined\n",
      "Skipping ADI - Could not load industry mapping.\n",
      "\n",
      "Processing ANSS (Information Technology - Application Software)...\n",
      "Error loading industry mapping for Information Technology - Application Software: name 'importlib' is not defined\n",
      "Skipping ANSS - Could not load industry mapping.\n",
      "\n",
      "Processing AON (Financials - Insurance Brokers)...\n",
      "Error loading industry mapping for Financials - Insurance Brokers: name 'importlib' is not defined\n",
      "Skipping AON - Could not load industry mapping.\n",
      "\n",
      "Processing APA (Energy - Oil & Gas Exploration & Production)...\n",
      "Error loading industry mapping for Energy - Oil & Gas Exploration & Production: name 'importlib' is not defined\n",
      "Skipping APA - Could not load industry mapping.\n",
      "\n",
      "Processing APO (Financials - Asset Management & Custody Banks)...\n",
      "Error loading industry mapping for Financials - Asset Management & Custody Banks: name 'importlib' is not defined\n",
      "Skipping APO - Could not load industry mapping.\n",
      "\n",
      "Processing AAPL (Information Technology - Technology Hardware, Storage & Peripherals)...\n",
      "Error loading industry mapping for Information Technology - Technology Hardware, Storage & Peripherals: name 'importlib' is not defined\n",
      "Skipping AAPL - Could not load industry mapping.\n",
      "\n",
      "Processing AMAT (Information Technology - Semiconductor Materials & Equipment)...\n",
      "Error loading industry mapping for Information Technology - Semiconductor Materials & Equipment: name 'importlib' is not defined\n",
      "Skipping AMAT - Could not load industry mapping.\n",
      "\n",
      "Processing APTV (Consumer Discretionary - Automotive Parts & Equipment)...\n",
      "Error loading industry mapping for Consumer Discretionary - Automotive Parts & Equipment: name 'importlib' is not defined\n",
      "Skipping APTV - Could not load industry mapping.\n",
      "\n",
      "Processing ACGL (Financials - Property & Casualty Insurance)...\n",
      "Error loading industry mapping for Financials - Property & Casualty Insurance: name 'importlib' is not defined\n",
      "Skipping ACGL - Could not load industry mapping.\n",
      "\n",
      "Processing ADM (Consumer Staples - Agricultural Products & Services)...\n",
      "Error loading industry mapping for Consumer Staples - Agricultural Products & Services: name 'importlib' is not defined\n",
      "Skipping ADM - Could not load industry mapping.\n",
      "\n",
      "Processing ANET (Information Technology - Communications Equipment)...\n",
      "Error loading industry mapping for Information Technology - Communications Equipment: name 'importlib' is not defined\n",
      "Skipping ANET - Could not load industry mapping.\n",
      "\n",
      "Processing AJG (Financials - Insurance Brokers)...\n",
      "Error loading industry mapping for Financials - Insurance Brokers: name 'importlib' is not defined\n",
      "Skipping AJG - Could not load industry mapping.\n",
      "\n",
      "Processing AIZ (Financials - Multi-line Insurance)...\n",
      "Error loading industry mapping for Financials - Multi-line Insurance: name 'importlib' is not defined\n",
      "Skipping AIZ - Could not load industry mapping.\n",
      "\n",
      "Processing T (Communication Services - Integrated Telecommunication Services)...\n",
      "Error loading industry mapping for Communication Services - Integrated Telecommunication Services: name 'importlib' is not defined\n",
      "Skipping T - Could not load industry mapping.\n",
      "\n",
      "Processing ATO (Utilities - Gas Utilities)...\n",
      "Error loading industry mapping for Utilities - Gas Utilities: name 'importlib' is not defined\n",
      "Skipping ATO - Could not load industry mapping.\n",
      "\n",
      "Processing ADSK (Information Technology - Application Software)...\n",
      "Error loading industry mapping for Information Technology - Application Software: name 'importlib' is not defined\n",
      "Skipping ADSK - Could not load industry mapping.\n",
      "\n",
      "Processing ADP (Industrials - Human Resource & Employment Services)...\n",
      "Error loading industry mapping for Industrials - Human Resource & Employment Services: name 'importlib' is not defined\n",
      "Skipping ADP - Could not load industry mapping.\n",
      "\n",
      "Processing AZO (Consumer Discretionary - Automotive Retail)...\n",
      "Error loading industry mapping for Consumer Discretionary - Automotive Retail: name 'importlib' is not defined\n",
      "Skipping AZO - Could not load industry mapping.\n",
      "\n",
      "Processing AVB (Real Estate - Multi-Family Residential REITs)...\n",
      "Error loading industry mapping for Real Estate - Multi-Family Residential REITs: name 'importlib' is not defined\n",
      "Skipping AVB - Could not load industry mapping.\n",
      "\n",
      "Processing AVY (Materials - Paper & Plastic Packaging Products & Materials)...\n",
      "Error loading industry mapping for Materials - Paper & Plastic Packaging Products & Materials: name 'importlib' is not defined\n",
      "Skipping AVY - Could not load industry mapping.\n",
      "\n",
      "Processing AXON (Industrials - Aerospace & Defense)...\n",
      "Error loading industry mapping for Industrials - Aerospace & Defense: name 'importlib' is not defined\n",
      "Skipping AXON - Could not load industry mapping.\n",
      "\n",
      "Processing BKR (Energy - Oil & Gas Equipment & Services)...\n",
      "Error loading industry mapping for Energy - Oil & Gas Equipment & Services: name 'importlib' is not defined\n",
      "Skipping BKR - Could not load industry mapping.\n",
      "\n",
      "Processing BALL (Materials - Metal, Glass & Plastic Containers)...\n",
      "Error loading industry mapping for Materials - Metal, Glass & Plastic Containers: name 'importlib' is not defined\n",
      "Skipping BALL - Could not load industry mapping.\n",
      "\n",
      "Processing BAC (Financials - Diversified Banks)...\n",
      "Error loading industry mapping for Financials - Diversified Banks: name 'importlib' is not defined\n",
      "Skipping BAC - Could not load industry mapping.\n",
      "\n",
      "Processing BAX (Health Care - Health Care Equipment)...\n",
      "Error loading industry mapping for Health Care - Health Care Equipment: name 'importlib' is not defined\n",
      "Skipping BAX - Could not load industry mapping.\n",
      "\n",
      "Processing BDX (Health Care - Health Care Equipment)...\n",
      "Error loading industry mapping for Health Care - Health Care Equipment: name 'importlib' is not defined\n",
      "Skipping BDX - Could not load industry mapping.\n",
      "\n",
      "Processing BRK.B (Financials - Multi-Sector Holdings)...\n",
      "Error loading data for BRK.B: [Errno 2] No such file or directory: '/Users/maseehfaizan/Desktop/Maseeh/Projects/Hybrid_Pricer/data/clean/BRK.B.csv'\n",
      "Skipping BRK.B - Could not load data.\n",
      "\n",
      "Processing BBY (Consumer Discretionary - Computer & Electronics Retail)...\n",
      "Error loading industry mapping for Consumer Discretionary - Computer & Electronics Retail: name 'importlib' is not defined\n",
      "Skipping BBY - Could not load industry mapping.\n",
      "\n",
      "Processing TECH (Health Care - Life Sciences Tools & Services)...\n",
      "Error loading industry mapping for Health Care - Life Sciences Tools & Services: name 'importlib' is not defined\n",
      "Skipping TECH - Could not load industry mapping.\n",
      "\n",
      "Processing BIIB (Health Care - Biotechnology)...\n",
      "Error loading industry mapping for Health Care - Biotechnology: name 'importlib' is not defined\n",
      "Skipping BIIB - Could not load industry mapping.\n",
      "\n",
      "Processing BLK (Financials - Asset Management & Custody Banks)...\n",
      "Error loading industry mapping for Financials - Asset Management & Custody Banks: name 'importlib' is not defined\n",
      "Skipping BLK - Could not load industry mapping.\n",
      "\n",
      "Processing BX (Financials - Asset Management & Custody Banks)...\n",
      "Error loading industry mapping for Financials - Asset Management & Custody Banks: name 'importlib' is not defined\n",
      "Skipping BX - Could not load industry mapping.\n",
      "\n",
      "Processing BK (Financials - Asset Management & Custody Banks)...\n",
      "Error loading industry mapping for Financials - Asset Management & Custody Banks: name 'importlib' is not defined\n",
      "Skipping BK - Could not load industry mapping.\n",
      "\n",
      "Processing BA (Industrials - Aerospace & Defense)...\n",
      "Error loading industry mapping for Industrials - Aerospace & Defense: name 'importlib' is not defined\n",
      "Skipping BA - Could not load industry mapping.\n",
      "\n",
      "Processing BKNG (Consumer Discretionary - Hotels, Resorts & Cruise Lines)...\n",
      "Error loading industry mapping for Consumer Discretionary - Hotels, Resorts & Cruise Lines: name 'importlib' is not defined\n",
      "Skipping BKNG - Could not load industry mapping.\n",
      "\n",
      "Processing BWA (Consumer Discretionary - Automotive Parts & Equipment)...\n",
      "Error loading industry mapping for Consumer Discretionary - Automotive Parts & Equipment: name 'importlib' is not defined\n",
      "Skipping BWA - Could not load industry mapping.\n",
      "\n",
      "Processing BSX (Health Care - Health Care Equipment)...\n",
      "Error loading industry mapping for Health Care - Health Care Equipment: name 'importlib' is not defined\n",
      "Skipping BSX - Could not load industry mapping.\n",
      "\n",
      "Processing BMY (Health Care - Pharmaceuticals)...\n",
      "Error loading industry mapping for Health Care - Pharmaceuticals: name 'importlib' is not defined\n",
      "Skipping BMY - Could not load industry mapping.\n",
      "\n",
      "Processing AVGO (Information Technology - Semiconductors)...\n",
      "Error loading industry mapping for Information Technology - Semiconductors: name 'importlib' is not defined\n",
      "Skipping AVGO - Could not load industry mapping.\n",
      "\n",
      "Processing BR (Industrials - Data Processing & Outsourced Services)...\n",
      "Error loading industry mapping for Industrials - Data Processing & Outsourced Services: name 'importlib' is not defined\n",
      "Skipping BR - Could not load industry mapping.\n",
      "\n",
      "Processing BRO (Financials - Insurance Brokers)...\n",
      "Error loading industry mapping for Financials - Insurance Brokers: name 'importlib' is not defined\n",
      "Skipping BRO - Could not load industry mapping.\n",
      "\n",
      "Processing BF.B (Consumer Staples - Distillers & Vintners)...\n",
      "Error loading data for BF.B: [Errno 2] No such file or directory: '/Users/maseehfaizan/Desktop/Maseeh/Projects/Hybrid_Pricer/data/clean/BF.B.csv'\n",
      "Skipping BF.B - Could not load data.\n",
      "\n",
      "Processing BLDR (Industrials - Building Products)...\n",
      "Error loading industry mapping for Industrials - Building Products: name 'importlib' is not defined\n",
      "Skipping BLDR - Could not load industry mapping.\n",
      "\n",
      "Processing BG (Consumer Staples - Agricultural Products & Services)...\n",
      "Error loading industry mapping for Consumer Staples - Agricultural Products & Services: name 'importlib' is not defined\n",
      "Skipping BG - Could not load industry mapping.\n",
      "\n",
      "Processing BXP (Real Estate - Office REITs)...\n",
      "Error loading industry mapping for Real Estate - Office REITs: name 'importlib' is not defined\n",
      "Skipping BXP - Could not load industry mapping.\n",
      "\n",
      "Processing CHRW (Industrials - Air Freight & Logistics)...\n",
      "Error loading industry mapping for Industrials - Air Freight & Logistics: name 'importlib' is not defined\n",
      "Skipping CHRW - Could not load industry mapping.\n",
      "\n",
      "Processing CDNS (Information Technology - Application Software)...\n",
      "Error loading industry mapping for Information Technology - Application Software: name 'importlib' is not defined\n",
      "Skipping CDNS - Could not load industry mapping.\n",
      "\n",
      "Processing CZR (Consumer Discretionary - Casinos & Gaming)...\n",
      "Error loading industry mapping for Consumer Discretionary - Casinos & Gaming: name 'importlib' is not defined\n",
      "Skipping CZR - Could not load industry mapping.\n",
      "\n",
      "Processing CPT (Real Estate - Multi-Family Residential REITs)...\n",
      "Error loading industry mapping for Real Estate - Multi-Family Residential REITs: name 'importlib' is not defined\n",
      "Skipping CPT - Could not load industry mapping.\n",
      "\n",
      "Processing CPB (Consumer Staples - Packaged Foods & Meats)...\n",
      "Error loading industry mapping for Consumer Staples - Packaged Foods & Meats: name 'importlib' is not defined\n",
      "Skipping CPB - Could not load industry mapping.\n",
      "\n",
      "Processing COF (Financials - Consumer Finance)...\n",
      "Error loading industry mapping for Financials - Consumer Finance: name 'importlib' is not defined\n",
      "Skipping COF - Could not load industry mapping.\n",
      "\n",
      "Processing CAH (Health Care - Health Care Distributors)...\n",
      "Error loading industry mapping for Health Care - Health Care Distributors: name 'importlib' is not defined\n",
      "Skipping CAH - Could not load industry mapping.\n",
      "\n",
      "Processing KMX (Consumer Discretionary - Automotive Retail)...\n",
      "Error loading industry mapping for Consumer Discretionary - Automotive Retail: name 'importlib' is not defined\n",
      "Skipping KMX - Could not load industry mapping.\n",
      "\n",
      "Processing CCL (Consumer Discretionary - Hotels, Resorts & Cruise Lines)...\n",
      "Error loading industry mapping for Consumer Discretionary - Hotels, Resorts & Cruise Lines: name 'importlib' is not defined\n",
      "Skipping CCL - Could not load industry mapping.\n",
      "\n",
      "Processing CARR (Industrials - Building Products)...\n",
      "Error loading industry mapping for Industrials - Building Products: name 'importlib' is not defined\n",
      "Skipping CARR - Could not load industry mapping.\n",
      "\n",
      "Processing CAT (Industrials - Construction Machinery & Heavy Transportation Equipment)...\n",
      "Error loading industry mapping for Industrials - Construction Machinery & Heavy Transportation Equipment: name 'importlib' is not defined\n",
      "Skipping CAT - Could not load industry mapping.\n",
      "\n",
      "Processing CBOE (Financials - Financial Exchanges & Data)...\n",
      "Error loading industry mapping for Financials - Financial Exchanges & Data: name 'importlib' is not defined\n",
      "Skipping CBOE - Could not load industry mapping.\n",
      "\n",
      "Processing CBRE (Real Estate - Real Estate Services)...\n",
      "Error loading industry mapping for Real Estate - Real Estate Services: name 'importlib' is not defined\n",
      "Skipping CBRE - Could not load industry mapping.\n",
      "\n",
      "Processing CDW (Information Technology - Technology Distributors)...\n",
      "Error loading industry mapping for Information Technology - Technology Distributors: name 'importlib' is not defined\n",
      "Skipping CDW - Could not load industry mapping.\n",
      "\n",
      "Processing CE (Materials - Specialty Chemicals)...\n",
      "Error loading industry mapping for Materials - Specialty Chemicals: name 'importlib' is not defined\n",
      "Skipping CE - Could not load industry mapping.\n",
      "\n",
      "Processing COR (Health Care - Health Care Distributors)...\n",
      "Error loading industry mapping for Health Care - Health Care Distributors: name 'importlib' is not defined\n",
      "Skipping COR - Could not load industry mapping.\n",
      "\n",
      "Processing CNC (Health Care - Managed Health Care)...\n",
      "Error loading industry mapping for Health Care - Managed Health Care: name 'importlib' is not defined\n",
      "Skipping CNC - Could not load industry mapping.\n",
      "\n",
      "Processing CNP (Utilities - Multi-Utilities)...\n",
      "Error loading industry mapping for Utilities - Multi-Utilities: name 'importlib' is not defined\n",
      "Skipping CNP - Could not load industry mapping.\n",
      "\n",
      "Processing CF (Materials - Fertilizers & Agricultural Chemicals)...\n",
      "Error loading industry mapping for Materials - Fertilizers & Agricultural Chemicals: name 'importlib' is not defined\n",
      "Skipping CF - Could not load industry mapping.\n",
      "\n",
      "Processing CRL (Health Care - Life Sciences Tools & Services)...\n",
      "Error loading industry mapping for Health Care - Life Sciences Tools & Services: name 'importlib' is not defined\n",
      "Skipping CRL - Could not load industry mapping.\n",
      "\n",
      "Processing SCHW (Financials - Investment Banking & Brokerage)...\n",
      "Error loading industry mapping for Financials - Investment Banking & Brokerage: name 'importlib' is not defined\n",
      "Skipping SCHW - Could not load industry mapping.\n",
      "\n",
      "Processing CHTR (Communication Services - Cable & Satellite)...\n",
      "Error loading industry mapping for Communication Services - Cable & Satellite: name 'importlib' is not defined\n",
      "Skipping CHTR - Could not load industry mapping.\n",
      "\n",
      "Processing CVX (Energy - Integrated Oil & Gas)...\n",
      "Error loading industry mapping for Energy - Integrated Oil & Gas: name 'importlib' is not defined\n",
      "Skipping CVX - Could not load industry mapping.\n",
      "\n",
      "Processing CMG (Consumer Discretionary - Restaurants)...\n",
      "Error loading industry mapping for Consumer Discretionary - Restaurants: name 'importlib' is not defined\n",
      "Skipping CMG - Could not load industry mapping.\n",
      "\n",
      "Processing CB (Financials - Property & Casualty Insurance)...\n",
      "Error loading industry mapping for Financials - Property & Casualty Insurance: name 'importlib' is not defined\n",
      "Skipping CB - Could not load industry mapping.\n",
      "\n",
      "Processing CHD (Consumer Staples - Household Products)...\n",
      "Error loading industry mapping for Consumer Staples - Household Products: name 'importlib' is not defined\n",
      "Skipping CHD - Could not load industry mapping.\n",
      "\n",
      "Processing CI (Health Care - Health Care Services)...\n",
      "Error loading industry mapping for Health Care - Health Care Services: name 'importlib' is not defined\n",
      "Skipping CI - Could not load industry mapping.\n",
      "\n",
      "Processing CINF (Financials - Property & Casualty Insurance)...\n",
      "Error loading industry mapping for Financials - Property & Casualty Insurance: name 'importlib' is not defined\n",
      "Skipping CINF - Could not load industry mapping.\n",
      "\n",
      "Processing CTAS (Industrials - Diversified Support Services)...\n",
      "Error loading industry mapping for Industrials - Diversified Support Services: name 'importlib' is not defined\n",
      "Skipping CTAS - Could not load industry mapping.\n",
      "\n",
      "Processing CSCO (Information Technology - Communications Equipment)...\n",
      "Error loading industry mapping for Information Technology - Communications Equipment: name 'importlib' is not defined\n",
      "Skipping CSCO - Could not load industry mapping.\n",
      "\n",
      "Processing C (Financials - Diversified Banks)...\n",
      "Error loading industry mapping for Financials - Diversified Banks: name 'importlib' is not defined\n",
      "Skipping C - Could not load industry mapping.\n",
      "\n",
      "Processing CFG (Financials - Regional Banks)...\n",
      "Error loading industry mapping for Financials - Regional Banks: name 'importlib' is not defined\n",
      "Skipping CFG - Could not load industry mapping.\n",
      "\n",
      "Processing CLX (Consumer Staples - Household Products)...\n",
      "Error loading industry mapping for Consumer Staples - Household Products: name 'importlib' is not defined\n",
      "Skipping CLX - Could not load industry mapping.\n",
      "\n",
      "Processing CME (Financials - Financial Exchanges & Data)...\n",
      "Error loading industry mapping for Financials - Financial Exchanges & Data: name 'importlib' is not defined\n",
      "Skipping CME - Could not load industry mapping.\n",
      "\n",
      "Processing CMS (Utilities - Multi-Utilities)...\n",
      "Error loading industry mapping for Utilities - Multi-Utilities: name 'importlib' is not defined\n",
      "Skipping CMS - Could not load industry mapping.\n",
      "\n",
      "Processing KO (Consumer Staples - Soft Drinks & Non-alcoholic Beverages)...\n",
      "Error loading industry mapping for Consumer Staples - Soft Drinks & Non-alcoholic Beverages: name 'importlib' is not defined\n",
      "Skipping KO - Could not load industry mapping.\n",
      "\n",
      "Processing CTSH (Information Technology - IT Consulting & Other Services)...\n",
      "Error loading industry mapping for Information Technology - IT Consulting & Other Services: name 'importlib' is not defined\n",
      "Skipping CTSH - Could not load industry mapping.\n",
      "\n",
      "Processing CL (Consumer Staples - Household Products)...\n",
      "Error loading industry mapping for Consumer Staples - Household Products: name 'importlib' is not defined\n",
      "Skipping CL - Could not load industry mapping.\n",
      "\n",
      "Processing CMCSA (Communication Services - Cable & Satellite)...\n",
      "Error loading industry mapping for Communication Services - Cable & Satellite: name 'importlib' is not defined\n",
      "Skipping CMCSA - Could not load industry mapping.\n",
      "\n",
      "Processing CAG (Consumer Staples - Packaged Foods & Meats)...\n",
      "Error loading industry mapping for Consumer Staples - Packaged Foods & Meats: name 'importlib' is not defined\n",
      "Skipping CAG - Could not load industry mapping.\n",
      "\n",
      "Processing COP (Energy - Oil & Gas Exploration & Production)...\n",
      "Error loading industry mapping for Energy - Oil & Gas Exploration & Production: name 'importlib' is not defined\n",
      "Skipping COP - Could not load industry mapping.\n",
      "\n",
      "Processing ED (Utilities - Multi-Utilities)...\n",
      "Error loading industry mapping for Utilities - Multi-Utilities: name 'importlib' is not defined\n",
      "Skipping ED - Could not load industry mapping.\n",
      "\n",
      "Processing STZ (Consumer Staples - Distillers & Vintners)...\n",
      "Error loading industry mapping for Consumer Staples - Distillers & Vintners: name 'importlib' is not defined\n",
      "Skipping STZ - Could not load industry mapping.\n",
      "\n",
      "Processing CEG (Utilities - Electric Utilities)...\n",
      "Error loading industry mapping for Utilities - Electric Utilities: name 'importlib' is not defined\n",
      "Skipping CEG - Could not load industry mapping.\n",
      "\n",
      "Processing COO (Health Care - Health Care Supplies)...\n",
      "Error loading industry mapping for Health Care - Health Care Supplies: name 'importlib' is not defined\n",
      "Skipping COO - Could not load industry mapping.\n",
      "\n",
      "Processing CPRT (Industrials - Diversified Support Services)...\n",
      "Error loading industry mapping for Industrials - Diversified Support Services: name 'importlib' is not defined\n",
      "Skipping CPRT - Could not load industry mapping.\n",
      "\n",
      "Processing GLW (Information Technology - Electronic Components)...\n",
      "Error loading industry mapping for Information Technology - Electronic Components: name 'importlib' is not defined\n",
      "Skipping GLW - Could not load industry mapping.\n",
      "\n",
      "Processing CPAY (Financials - Transaction & Payment Processing Services)...\n",
      "Error loading industry mapping for Financials - Transaction & Payment Processing Services: name 'importlib' is not defined\n",
      "Skipping CPAY - Could not load industry mapping.\n",
      "\n",
      "Processing CTVA (Materials - Fertilizers & Agricultural Chemicals)...\n",
      "Error loading industry mapping for Materials - Fertilizers & Agricultural Chemicals: name 'importlib' is not defined\n",
      "Skipping CTVA - Could not load industry mapping.\n",
      "\n",
      "Processing CSGP (Real Estate - Real Estate Services)...\n",
      "Error loading industry mapping for Real Estate - Real Estate Services: name 'importlib' is not defined\n",
      "Skipping CSGP - Could not load industry mapping.\n",
      "\n",
      "Processing COST (Consumer Staples - Consumer Staples Merchandise Retail)...\n",
      "Error loading industry mapping for Consumer Staples - Consumer Staples Merchandise Retail: name 'importlib' is not defined\n",
      "Skipping COST - Could not load industry mapping.\n",
      "\n",
      "Processing CTRA (Energy - Oil & Gas Exploration & Production)...\n",
      "Error loading industry mapping for Energy - Oil & Gas Exploration & Production: name 'importlib' is not defined\n",
      "Skipping CTRA - Could not load industry mapping.\n",
      "\n",
      "Processing CRWD (Information Technology - Systems Software)...\n",
      "Error loading industry mapping for Information Technology - Systems Software: name 'importlib' is not defined\n",
      "Skipping CRWD - Could not load industry mapping.\n",
      "\n",
      "Processing CCI (Real Estate - Telecom Tower REITs)...\n",
      "Error loading industry mapping for Real Estate - Telecom Tower REITs: name 'importlib' is not defined\n",
      "Skipping CCI - Could not load industry mapping.\n",
      "\n",
      "Processing CSX (Industrials - Rail Transportation)...\n",
      "Error loading industry mapping for Industrials - Rail Transportation: name 'importlib' is not defined\n",
      "Skipping CSX - Could not load industry mapping.\n",
      "\n",
      "Processing CMI (Industrials - Construction Machinery & Heavy Transportation Equipment)...\n",
      "Error loading industry mapping for Industrials - Construction Machinery & Heavy Transportation Equipment: name 'importlib' is not defined\n",
      "Skipping CMI - Could not load industry mapping.\n",
      "\n",
      "Processing CVS (Health Care - Health Care Services)...\n",
      "Error loading industry mapping for Health Care - Health Care Services: name 'importlib' is not defined\n",
      "Skipping CVS - Could not load industry mapping.\n",
      "\n",
      "Processing DHR (Health Care - Life Sciences Tools & Services)...\n",
      "Error loading industry mapping for Health Care - Life Sciences Tools & Services: name 'importlib' is not defined\n",
      "Skipping DHR - Could not load industry mapping.\n",
      "\n",
      "Processing DRI (Consumer Discretionary - Restaurants)...\n",
      "Error loading industry mapping for Consumer Discretionary - Restaurants: name 'importlib' is not defined\n",
      "Skipping DRI - Could not load industry mapping.\n",
      "\n",
      "Processing DVA (Health Care - Health Care Services)...\n",
      "Error loading industry mapping for Health Care - Health Care Services: name 'importlib' is not defined\n",
      "Skipping DVA - Could not load industry mapping.\n",
      "\n",
      "Processing DAY (Industrials - Human Resource & Employment Services)...\n",
      "Error loading industry mapping for Industrials - Human Resource & Employment Services: name 'importlib' is not defined\n",
      "Skipping DAY - Could not load industry mapping.\n",
      "\n",
      "Processing DECK (Consumer Discretionary - Footwear)...\n",
      "Error loading industry mapping for Consumer Discretionary - Footwear: name 'importlib' is not defined\n",
      "Skipping DECK - Could not load industry mapping.\n",
      "\n",
      "Processing DE (Industrials - Agricultural & Farm Machinery)...\n",
      "Error loading industry mapping for Industrials - Agricultural & Farm Machinery: name 'importlib' is not defined\n",
      "Skipping DE - Could not load industry mapping.\n",
      "\n",
      "Processing DELL (Information Technology - Technology Hardware, Storage & Peripherals)...\n",
      "Error loading industry mapping for Information Technology - Technology Hardware, Storage & Peripherals: name 'importlib' is not defined\n",
      "Skipping DELL - Could not load industry mapping.\n",
      "\n",
      "Processing DAL (Industrials - Passenger Airlines)...\n",
      "Error loading industry mapping for Industrials - Passenger Airlines: name 'importlib' is not defined\n",
      "Skipping DAL - Could not load industry mapping.\n",
      "\n",
      "Processing DVN (Energy - Oil & Gas Exploration & Production)...\n",
      "Error loading industry mapping for Energy - Oil & Gas Exploration & Production: name 'importlib' is not defined\n",
      "Skipping DVN - Could not load industry mapping.\n",
      "\n",
      "Processing DXCM (Health Care - Health Care Equipment)...\n",
      "Error loading industry mapping for Health Care - Health Care Equipment: name 'importlib' is not defined\n",
      "Skipping DXCM - Could not load industry mapping.\n",
      "\n",
      "Processing FANG (Energy - Oil & Gas Exploration & Production)...\n",
      "Error loading industry mapping for Energy - Oil & Gas Exploration & Production: name 'importlib' is not defined\n",
      "Skipping FANG - Could not load industry mapping.\n",
      "\n",
      "Processing DLR (Real Estate - Data Center REITs)...\n",
      "Error loading industry mapping for Real Estate - Data Center REITs: name 'importlib' is not defined\n",
      "Skipping DLR - Could not load industry mapping.\n",
      "\n",
      "Processing DFS (Financials - Consumer Finance)...\n",
      "Error loading industry mapping for Financials - Consumer Finance: name 'importlib' is not defined\n",
      "Skipping DFS - Could not load industry mapping.\n",
      "\n",
      "Processing DG (Consumer Staples - Consumer Staples Merchandise Retail)...\n",
      "Error loading industry mapping for Consumer Staples - Consumer Staples Merchandise Retail: name 'importlib' is not defined\n",
      "Skipping DG - Could not load industry mapping.\n",
      "\n",
      "Processing DLTR (Consumer Staples - Consumer Staples Merchandise Retail)...\n",
      "Error loading industry mapping for Consumer Staples - Consumer Staples Merchandise Retail: name 'importlib' is not defined\n",
      "Skipping DLTR - Could not load industry mapping.\n",
      "\n",
      "Processing D (Utilities - Multi-Utilities)...\n",
      "Error loading industry mapping for Utilities - Multi-Utilities: name 'importlib' is not defined\n",
      "Skipping D - Could not load industry mapping.\n",
      "\n",
      "Processing DPZ (Consumer Discretionary - Restaurants)...\n",
      "Error loading industry mapping for Consumer Discretionary - Restaurants: name 'importlib' is not defined\n",
      "Skipping DPZ - Could not load industry mapping.\n",
      "\n",
      "Processing DOV (Industrials - Industrial Machinery & Supplies & Components)...\n",
      "Error loading industry mapping for Industrials - Industrial Machinery & Supplies & Components: name 'importlib' is not defined\n",
      "Skipping DOV - Could not load industry mapping.\n",
      "\n",
      "Processing DOW (Materials - Commodity Chemicals)...\n",
      "Error loading industry mapping for Materials - Commodity Chemicals: name 'importlib' is not defined\n",
      "Skipping DOW - Could not load industry mapping.\n",
      "\n",
      "Processing DHI (Consumer Discretionary - Homebuilding)...\n",
      "Error loading industry mapping for Consumer Discretionary - Homebuilding: name 'importlib' is not defined\n",
      "Skipping DHI - Could not load industry mapping.\n",
      "\n",
      "Processing DTE (Utilities - Multi-Utilities)...\n",
      "Error loading industry mapping for Utilities - Multi-Utilities: name 'importlib' is not defined\n",
      "Skipping DTE - Could not load industry mapping.\n",
      "\n",
      "Processing DUK (Utilities - Electric Utilities)...\n",
      "Error loading industry mapping for Utilities - Electric Utilities: name 'importlib' is not defined\n",
      "Skipping DUK - Could not load industry mapping.\n",
      "\n",
      "Processing DD (Materials - Specialty Chemicals)...\n",
      "Error loading industry mapping for Materials - Specialty Chemicals: name 'importlib' is not defined\n",
      "Skipping DD - Could not load industry mapping.\n",
      "\n",
      "Processing EMN (Materials - Specialty Chemicals)...\n",
      "Error loading industry mapping for Materials - Specialty Chemicals: name 'importlib' is not defined\n",
      "Skipping EMN - Could not load industry mapping.\n",
      "\n",
      "Processing ETN (Industrials - Electrical Components & Equipment)...\n",
      "Error loading industry mapping for Industrials - Electrical Components & Equipment: name 'importlib' is not defined\n",
      "Skipping ETN - Could not load industry mapping.\n",
      "\n",
      "Processing EBAY (Consumer Discretionary - Broadline Retail)...\n",
      "Error loading industry mapping for Consumer Discretionary - Broadline Retail: name 'importlib' is not defined\n",
      "Skipping EBAY - Could not load industry mapping.\n",
      "\n",
      "Processing ECL (Materials - Specialty Chemicals)...\n",
      "Error loading industry mapping for Materials - Specialty Chemicals: name 'importlib' is not defined\n",
      "Skipping ECL - Could not load industry mapping.\n",
      "\n",
      "Processing EIX (Utilities - Electric Utilities)...\n",
      "Error loading industry mapping for Utilities - Electric Utilities: name 'importlib' is not defined\n",
      "Skipping EIX - Could not load industry mapping.\n",
      "\n",
      "Processing EW (Health Care - Health Care Equipment)...\n",
      "Error loading industry mapping for Health Care - Health Care Equipment: name 'importlib' is not defined\n",
      "Skipping EW - Could not load industry mapping.\n",
      "\n",
      "Processing EA (Communication Services - Interactive Home Entertainment)...\n",
      "Error loading industry mapping for Communication Services - Interactive Home Entertainment: name 'importlib' is not defined\n",
      "Skipping EA - Could not load industry mapping.\n",
      "\n",
      "Processing ELV (Health Care - Managed Health Care)...\n",
      "Error loading industry mapping for Health Care - Managed Health Care: name 'importlib' is not defined\n",
      "Skipping ELV - Could not load industry mapping.\n",
      "\n",
      "Processing EMR (Industrials - Electrical Components & Equipment)...\n",
      "Error loading industry mapping for Industrials - Electrical Components & Equipment: name 'importlib' is not defined\n",
      "Skipping EMR - Could not load industry mapping.\n",
      "\n",
      "Processing ENPH (Information Technology - Semiconductor Materials & Equipment)...\n",
      "Error loading industry mapping for Information Technology - Semiconductor Materials & Equipment: name 'importlib' is not defined\n",
      "Skipping ENPH - Could not load industry mapping.\n",
      "\n",
      "Processing ETR (Utilities - Electric Utilities)...\n",
      "Error loading industry mapping for Utilities - Electric Utilities: name 'importlib' is not defined\n",
      "Skipping ETR - Could not load industry mapping.\n",
      "\n",
      "Processing EOG (Energy - Oil & Gas Exploration & Production)...\n",
      "Error loading industry mapping for Energy - Oil & Gas Exploration & Production: name 'importlib' is not defined\n",
      "Skipping EOG - Could not load industry mapping.\n",
      "\n",
      "Processing EPAM (Information Technology - IT Consulting & Other Services)...\n",
      "Error loading industry mapping for Information Technology - IT Consulting & Other Services: name 'importlib' is not defined\n",
      "Skipping EPAM - Could not load industry mapping.\n",
      "\n",
      "Processing EQT (Energy - Oil & Gas Exploration & Production)...\n",
      "Error loading industry mapping for Energy - Oil & Gas Exploration & Production: name 'importlib' is not defined\n",
      "Skipping EQT - Could not load industry mapping.\n",
      "\n",
      "Processing EFX (Industrials - Research & Consulting Services)...\n",
      "Error loading industry mapping for Industrials - Research & Consulting Services: name 'importlib' is not defined\n",
      "Skipping EFX - Could not load industry mapping.\n",
      "\n",
      "Processing EQIX (Real Estate - Data Center REITs)...\n",
      "Error loading industry mapping for Real Estate - Data Center REITs: name 'importlib' is not defined\n",
      "Skipping EQIX - Could not load industry mapping.\n",
      "\n",
      "Processing EQR (Real Estate - Multi-Family Residential REITs)...\n",
      "Error loading industry mapping for Real Estate - Multi-Family Residential REITs: name 'importlib' is not defined\n",
      "Skipping EQR - Could not load industry mapping.\n",
      "\n",
      "Processing ERIE (Financials - Insurance Brokers)...\n",
      "Error loading industry mapping for Financials - Insurance Brokers: name 'importlib' is not defined\n",
      "Skipping ERIE - Could not load industry mapping.\n",
      "\n",
      "Processing ESS (Real Estate - Multi-Family Residential REITs)...\n",
      "Error loading industry mapping for Real Estate - Multi-Family Residential REITs: name 'importlib' is not defined\n",
      "Skipping ESS - Could not load industry mapping.\n",
      "\n",
      "Processing EL (Consumer Staples - Personal Care Products)...\n",
      "Error loading industry mapping for Consumer Staples - Personal Care Products: name 'importlib' is not defined\n",
      "Skipping EL - Could not load industry mapping.\n",
      "\n",
      "Processing EG (Financials - Reinsurance)...\n",
      "Error loading industry mapping for Financials - Reinsurance: name 'importlib' is not defined\n",
      "Skipping EG - Could not load industry mapping.\n",
      "\n",
      "Processing EVRG (Utilities - Electric Utilities)...\n",
      "Error loading industry mapping for Utilities - Electric Utilities: name 'importlib' is not defined\n",
      "Skipping EVRG - Could not load industry mapping.\n",
      "\n",
      "Processing ES (Utilities - Electric Utilities)...\n",
      "Error loading industry mapping for Utilities - Electric Utilities: name 'importlib' is not defined\n",
      "Skipping ES - Could not load industry mapping.\n",
      "\n",
      "Processing EXC (Utilities - Electric Utilities)...\n",
      "Error loading industry mapping for Utilities - Electric Utilities: name 'importlib' is not defined\n",
      "Skipping EXC - Could not load industry mapping.\n",
      "\n",
      "Processing EXPE (Consumer Discretionary - Hotels, Resorts & Cruise Lines)...\n",
      "Error loading industry mapping for Consumer Discretionary - Hotels, Resorts & Cruise Lines: name 'importlib' is not defined\n",
      "Skipping EXPE - Could not load industry mapping.\n",
      "\n",
      "Processing EXPD (Industrials - Air Freight & Logistics)...\n",
      "Error loading industry mapping for Industrials - Air Freight & Logistics: name 'importlib' is not defined\n",
      "Skipping EXPD - Could not load industry mapping.\n",
      "\n",
      "Processing EXR (Real Estate - Self-Storage REITs)...\n",
      "Error loading industry mapping for Real Estate - Self-Storage REITs: name 'importlib' is not defined\n",
      "Skipping EXR - Could not load industry mapping.\n",
      "\n",
      "Processing XOM (Energy - Integrated Oil & Gas)...\n",
      "Error loading industry mapping for Energy - Integrated Oil & Gas: name 'importlib' is not defined\n",
      "Skipping XOM - Could not load industry mapping.\n",
      "\n",
      "Processing FFIV (Information Technology - Communications Equipment)...\n",
      "Error loading industry mapping for Information Technology - Communications Equipment: name 'importlib' is not defined\n",
      "Skipping FFIV - Could not load industry mapping.\n",
      "\n",
      "Processing FDS (Financials - Financial Exchanges & Data)...\n",
      "Error loading industry mapping for Financials - Financial Exchanges & Data: name 'importlib' is not defined\n",
      "Skipping FDS - Could not load industry mapping.\n",
      "\n",
      "Processing FICO (Information Technology - Application Software)...\n",
      "Error loading industry mapping for Information Technology - Application Software: name 'importlib' is not defined\n",
      "Skipping FICO - Could not load industry mapping.\n",
      "\n",
      "Processing FAST (Industrials - Trading Companies & Distributors)...\n",
      "Error loading industry mapping for Industrials - Trading Companies & Distributors: name 'importlib' is not defined\n",
      "Skipping FAST - Could not load industry mapping.\n",
      "\n",
      "Processing FRT (Real Estate - Retail REITs)...\n",
      "Error loading industry mapping for Real Estate - Retail REITs: name 'importlib' is not defined\n",
      "Skipping FRT - Could not load industry mapping.\n",
      "\n",
      "Processing FDX (Industrials - Air Freight & Logistics)...\n",
      "Error loading industry mapping for Industrials - Air Freight & Logistics: name 'importlib' is not defined\n",
      "Skipping FDX - Could not load industry mapping.\n",
      "\n",
      "Processing FIS (Financials - Transaction & Payment Processing Services)...\n",
      "Error loading industry mapping for Financials - Transaction & Payment Processing Services: name 'importlib' is not defined\n",
      "Skipping FIS - Could not load industry mapping.\n",
      "\n",
      "Processing FITB (Financials - Regional Banks)...\n",
      "Error loading industry mapping for Financials - Regional Banks: name 'importlib' is not defined\n",
      "Skipping FITB - Could not load industry mapping.\n",
      "\n",
      "Processing FSLR (Information Technology - Semiconductors)...\n",
      "Error loading industry mapping for Information Technology - Semiconductors: name 'importlib' is not defined\n",
      "Skipping FSLR - Could not load industry mapping.\n",
      "\n",
      "Processing FE (Utilities - Electric Utilities)...\n",
      "Error loading industry mapping for Utilities - Electric Utilities: name 'importlib' is not defined\n",
      "Skipping FE - Could not load industry mapping.\n",
      "\n",
      "Processing FI (Financials - Transaction & Payment Processing Services)...\n",
      "Error loading industry mapping for Financials - Transaction & Payment Processing Services: name 'importlib' is not defined\n",
      "Skipping FI - Could not load industry mapping.\n",
      "\n",
      "Processing FMC (Materials - Fertilizers & Agricultural Chemicals)...\n",
      "Error loading industry mapping for Materials - Fertilizers & Agricultural Chemicals: name 'importlib' is not defined\n",
      "Skipping FMC - Could not load industry mapping.\n",
      "\n",
      "Processing F (Consumer Discretionary - Automobile Manufacturers)...\n",
      "Error loading industry mapping for Consumer Discretionary - Automobile Manufacturers: name 'importlib' is not defined\n",
      "Skipping F - Could not load industry mapping.\n",
      "\n",
      "Processing FTNT (Information Technology - Systems Software)...\n",
      "Error loading industry mapping for Information Technology - Systems Software: name 'importlib' is not defined\n",
      "Skipping FTNT - Could not load industry mapping.\n",
      "\n",
      "Processing FTV (Industrials - Industrial Machinery & Supplies & Components)...\n",
      "Error loading industry mapping for Industrials - Industrial Machinery & Supplies & Components: name 'importlib' is not defined\n",
      "Skipping FTV - Could not load industry mapping.\n",
      "\n",
      "Processing FOXA (Communication Services - Broadcasting)...\n",
      "Error loading industry mapping for Communication Services - Broadcasting: name 'importlib' is not defined\n",
      "Skipping FOXA - Could not load industry mapping.\n",
      "\n",
      "Processing FOX (Communication Services - Broadcasting)...\n",
      "Error loading industry mapping for Communication Services - Broadcasting: name 'importlib' is not defined\n",
      "Skipping FOX - Could not load industry mapping.\n",
      "\n",
      "Processing BEN (Financials - Asset Management & Custody Banks)...\n",
      "Error loading industry mapping for Financials - Asset Management & Custody Banks: name 'importlib' is not defined\n",
      "Skipping BEN - Could not load industry mapping.\n",
      "\n",
      "Processing FCX (Materials - Copper)...\n",
      "Error loading industry mapping for Materials - Copper: name 'importlib' is not defined\n",
      "Skipping FCX - Could not load industry mapping.\n",
      "\n",
      "Processing GRMN (Consumer Discretionary - Consumer Electronics)...\n",
      "Error loading industry mapping for Consumer Discretionary - Consumer Electronics: name 'importlib' is not defined\n",
      "Skipping GRMN - Could not load industry mapping.\n",
      "\n",
      "Processing IT (Information Technology - IT Consulting & Other Services)...\n",
      "Error loading industry mapping for Information Technology - IT Consulting & Other Services: name 'importlib' is not defined\n",
      "Skipping IT - Could not load industry mapping.\n",
      "\n",
      "Processing GE (Industrials - Aerospace & Defense)...\n",
      "Error loading industry mapping for Industrials - Aerospace & Defense: name 'importlib' is not defined\n",
      "Skipping GE - Could not load industry mapping.\n",
      "\n",
      "Processing GEHC (Health Care - Health Care Equipment)...\n",
      "Error loading industry mapping for Health Care - Health Care Equipment: name 'importlib' is not defined\n",
      "Skipping GEHC - Could not load industry mapping.\n",
      "\n",
      "Processing GEV (Industrials - Heavy Electrical Equipment)...\n",
      "Error loading industry mapping for Industrials - Heavy Electrical Equipment: name 'importlib' is not defined\n",
      "Skipping GEV - Could not load industry mapping.\n",
      "\n",
      "Processing GEN (Information Technology - Systems Software)...\n",
      "Error loading industry mapping for Information Technology - Systems Software: name 'importlib' is not defined\n",
      "Skipping GEN - Could not load industry mapping.\n",
      "\n",
      "Processing GNRC (Industrials - Electrical Components & Equipment)...\n",
      "Error loading industry mapping for Industrials - Electrical Components & Equipment: name 'importlib' is not defined\n",
      "Skipping GNRC - Could not load industry mapping.\n",
      "\n",
      "Processing GD (Industrials - Aerospace & Defense)...\n",
      "Error loading industry mapping for Industrials - Aerospace & Defense: name 'importlib' is not defined\n",
      "Skipping GD - Could not load industry mapping.\n",
      "\n",
      "Processing GIS (Consumer Staples - Packaged Foods & Meats)...\n",
      "Error loading industry mapping for Consumer Staples - Packaged Foods & Meats: name 'importlib' is not defined\n",
      "Skipping GIS - Could not load industry mapping.\n",
      "\n",
      "Processing GM (Consumer Discretionary - Automobile Manufacturers)...\n",
      "Error loading industry mapping for Consumer Discretionary - Automobile Manufacturers: name 'importlib' is not defined\n",
      "Skipping GM - Could not load industry mapping.\n",
      "\n",
      "Processing GPC (Consumer Discretionary - Distributors)...\n",
      "Error loading industry mapping for Consumer Discretionary - Distributors: name 'importlib' is not defined\n",
      "Skipping GPC - Could not load industry mapping.\n",
      "\n",
      "Processing GILD (Health Care - Biotechnology)...\n",
      "Error loading industry mapping for Health Care - Biotechnology: name 'importlib' is not defined\n",
      "Skipping GILD - Could not load industry mapping.\n",
      "\n",
      "Processing GPN (Financials - Transaction & Payment Processing Services)...\n",
      "Error loading industry mapping for Financials - Transaction & Payment Processing Services: name 'importlib' is not defined\n",
      "Skipping GPN - Could not load industry mapping.\n",
      "\n",
      "Processing GL (Financials - Life & Health Insurance)...\n",
      "Error loading industry mapping for Financials - Life & Health Insurance: name 'importlib' is not defined\n",
      "Skipping GL - Could not load industry mapping.\n",
      "\n",
      "Processing GDDY (Information Technology - Internet Services & Infrastructure)...\n",
      "Error loading industry mapping for Information Technology - Internet Services & Infrastructure: name 'importlib' is not defined\n",
      "Skipping GDDY - Could not load industry mapping.\n",
      "\n",
      "Processing GS (Financials - Investment Banking & Brokerage)...\n",
      "Error loading industry mapping for Financials - Investment Banking & Brokerage: name 'importlib' is not defined\n",
      "Skipping GS - Could not load industry mapping.\n",
      "\n",
      "Processing HAL (Energy - Oil & Gas Equipment & Services)...\n",
      "Error loading industry mapping for Energy - Oil & Gas Equipment & Services: name 'importlib' is not defined\n",
      "Skipping HAL - Could not load industry mapping.\n",
      "\n",
      "Processing HIG (Financials - Property & Casualty Insurance)...\n",
      "Error loading industry mapping for Financials - Property & Casualty Insurance: name 'importlib' is not defined\n",
      "Skipping HIG - Could not load industry mapping.\n",
      "\n",
      "Processing HAS (Consumer Discretionary - Leisure Products)...\n",
      "Error loading industry mapping for Consumer Discretionary - Leisure Products: name 'importlib' is not defined\n",
      "Skipping HAS - Could not load industry mapping.\n",
      "\n",
      "Processing HCA (Health Care - Health Care Facilities)...\n",
      "Error loading industry mapping for Health Care - Health Care Facilities: name 'importlib' is not defined\n",
      "Skipping HCA - Could not load industry mapping.\n",
      "\n",
      "Processing DOC (Real Estate - Health Care REITs)...\n",
      "Error loading industry mapping for Real Estate - Health Care REITs: name 'importlib' is not defined\n",
      "Skipping DOC - Could not load industry mapping.\n",
      "\n",
      "Processing HSIC (Health Care - Health Care Distributors)...\n",
      "Error loading industry mapping for Health Care - Health Care Distributors: name 'importlib' is not defined\n",
      "Skipping HSIC - Could not load industry mapping.\n",
      "\n",
      "Processing HSY (Consumer Staples - Packaged Foods & Meats)...\n",
      "Error loading industry mapping for Consumer Staples - Packaged Foods & Meats: name 'importlib' is not defined\n",
      "Skipping HSY - Could not load industry mapping.\n",
      "\n",
      "Processing HES (Energy - Integrated Oil & Gas)...\n",
      "Error loading industry mapping for Energy - Integrated Oil & Gas: name 'importlib' is not defined\n",
      "Skipping HES - Could not load industry mapping.\n",
      "\n",
      "Processing HPE (Information Technology - Technology Hardware, Storage & Peripherals)...\n",
      "Error loading industry mapping for Information Technology - Technology Hardware, Storage & Peripherals: name 'importlib' is not defined\n",
      "Skipping HPE - Could not load industry mapping.\n",
      "\n",
      "Processing HLT (Consumer Discretionary - Hotels, Resorts & Cruise Lines)...\n",
      "Error loading industry mapping for Consumer Discretionary - Hotels, Resorts & Cruise Lines: name 'importlib' is not defined\n",
      "Skipping HLT - Could not load industry mapping.\n",
      "\n",
      "Processing HOLX (Health Care - Health Care Equipment)...\n",
      "Error loading industry mapping for Health Care - Health Care Equipment: name 'importlib' is not defined\n",
      "Skipping HOLX - Could not load industry mapping.\n",
      "\n",
      "Processing HD (Consumer Discretionary - Home Improvement Retail)...\n",
      "Error loading industry mapping for Consumer Discretionary - Home Improvement Retail: name 'importlib' is not defined\n",
      "Skipping HD - Could not load industry mapping.\n",
      "\n",
      "Processing HON (Industrials - Industrial Conglomerates)...\n",
      "Error loading industry mapping for Industrials - Industrial Conglomerates: name 'importlib' is not defined\n",
      "Skipping HON - Could not load industry mapping.\n",
      "\n",
      "Processing HRL (Consumer Staples - Packaged Foods & Meats)...\n",
      "Error loading industry mapping for Consumer Staples - Packaged Foods & Meats: name 'importlib' is not defined\n",
      "Skipping HRL - Could not load industry mapping.\n",
      "\n",
      "Processing HST (Real Estate - Hotel & Resort REITs)...\n",
      "Error loading industry mapping for Real Estate - Hotel & Resort REITs: name 'importlib' is not defined\n",
      "Skipping HST - Could not load industry mapping.\n",
      "\n",
      "Processing HWM (Industrials - Aerospace & Defense)...\n",
      "Error loading industry mapping for Industrials - Aerospace & Defense: name 'importlib' is not defined\n",
      "Skipping HWM - Could not load industry mapping.\n",
      "\n",
      "Processing HPQ (Information Technology - Technology Hardware, Storage & Peripherals)...\n",
      "Error loading industry mapping for Information Technology - Technology Hardware, Storage & Peripherals: name 'importlib' is not defined\n",
      "Skipping HPQ - Could not load industry mapping.\n",
      "\n",
      "Processing HUBB (Industrials - Industrial Machinery & Supplies & Components)...\n",
      "Error loading industry mapping for Industrials - Industrial Machinery & Supplies & Components: name 'importlib' is not defined\n",
      "Skipping HUBB - Could not load industry mapping.\n",
      "\n",
      "Processing HUM (Health Care - Managed Health Care)...\n",
      "Error loading industry mapping for Health Care - Managed Health Care: name 'importlib' is not defined\n",
      "Skipping HUM - Could not load industry mapping.\n",
      "\n",
      "Processing HBAN (Financials - Regional Banks)...\n",
      "Error loading industry mapping for Financials - Regional Banks: name 'importlib' is not defined\n",
      "Skipping HBAN - Could not load industry mapping.\n",
      "\n",
      "Processing HII (Industrials - Aerospace & Defense)...\n",
      "Error loading industry mapping for Industrials - Aerospace & Defense: name 'importlib' is not defined\n",
      "Skipping HII - Could not load industry mapping.\n",
      "\n",
      "Processing IBM (Information Technology - IT Consulting & Other Services)...\n",
      "Error loading industry mapping for Information Technology - IT Consulting & Other Services: name 'importlib' is not defined\n",
      "Skipping IBM - Could not load industry mapping.\n",
      "\n",
      "Processing IEX (Industrials - Industrial Machinery & Supplies & Components)...\n",
      "Error loading industry mapping for Industrials - Industrial Machinery & Supplies & Components: name 'importlib' is not defined\n",
      "Skipping IEX - Could not load industry mapping.\n",
      "\n",
      "Processing IDXX (Health Care - Health Care Equipment)...\n",
      "Error loading industry mapping for Health Care - Health Care Equipment: name 'importlib' is not defined\n",
      "Skipping IDXX - Could not load industry mapping.\n",
      "\n",
      "Processing ITW (Industrials - Industrial Machinery & Supplies & Components)...\n",
      "Error loading industry mapping for Industrials - Industrial Machinery & Supplies & Components: name 'importlib' is not defined\n",
      "Skipping ITW - Could not load industry mapping.\n",
      "\n",
      "Processing INCY (Health Care - Biotechnology)...\n",
      "Error loading industry mapping for Health Care - Biotechnology: name 'importlib' is not defined\n",
      "Skipping INCY - Could not load industry mapping.\n",
      "\n",
      "Processing IR (Industrials - Industrial Machinery & Supplies & Components)...\n",
      "Error loading industry mapping for Industrials - Industrial Machinery & Supplies & Components: name 'importlib' is not defined\n",
      "Skipping IR - Could not load industry mapping.\n",
      "\n",
      "Processing PODD (Health Care - Health Care Equipment)...\n",
      "Error loading industry mapping for Health Care - Health Care Equipment: name 'importlib' is not defined\n",
      "Skipping PODD - Could not load industry mapping.\n",
      "\n",
      "Processing INTC (Information Technology - Semiconductors)...\n",
      "Error loading industry mapping for Information Technology - Semiconductors: name 'importlib' is not defined\n",
      "Skipping INTC - Could not load industry mapping.\n",
      "\n",
      "Processing ICE (Financials - Financial Exchanges & Data)...\n",
      "Error loading industry mapping for Financials - Financial Exchanges & Data: name 'importlib' is not defined\n",
      "Skipping ICE - Could not load industry mapping.\n",
      "\n",
      "Processing IFF (Materials - Specialty Chemicals)...\n",
      "Error loading industry mapping for Materials - Specialty Chemicals: name 'importlib' is not defined\n",
      "Skipping IFF - Could not load industry mapping.\n",
      "\n",
      "Processing IP (Materials - Paper & Plastic Packaging Products & Materials)...\n",
      "Error loading industry mapping for Materials - Paper & Plastic Packaging Products & Materials: name 'importlib' is not defined\n",
      "Skipping IP - Could not load industry mapping.\n",
      "\n",
      "Processing IPG (Communication Services - Advertising)...\n",
      "Error loading industry mapping for Communication Services - Advertising: name 'importlib' is not defined\n",
      "Skipping IPG - Could not load industry mapping.\n",
      "\n",
      "Processing INTU (Information Technology - Application Software)...\n",
      "Error loading industry mapping for Information Technology - Application Software: name 'importlib' is not defined\n",
      "Skipping INTU - Could not load industry mapping.\n",
      "\n",
      "Processing ISRG (Health Care - Health Care Equipment)...\n",
      "Error loading industry mapping for Health Care - Health Care Equipment: name 'importlib' is not defined\n",
      "Skipping ISRG - Could not load industry mapping.\n",
      "\n",
      "Processing IVZ (Financials - Asset Management & Custody Banks)...\n",
      "Error loading industry mapping for Financials - Asset Management & Custody Banks: name 'importlib' is not defined\n",
      "Skipping IVZ - Could not load industry mapping.\n",
      "\n",
      "Processing INVH (Real Estate - Single-Family Residential REITs)...\n",
      "Error loading industry mapping for Real Estate - Single-Family Residential REITs: name 'importlib' is not defined\n",
      "Skipping INVH - Could not load industry mapping.\n",
      "\n",
      "Processing IQV (Health Care - Life Sciences Tools & Services)...\n",
      "Error loading industry mapping for Health Care - Life Sciences Tools & Services: name 'importlib' is not defined\n",
      "Skipping IQV - Could not load industry mapping.\n",
      "\n",
      "Processing IRM (Real Estate - Other Specialized REITs)...\n",
      "Error loading industry mapping for Real Estate - Other Specialized REITs: name 'importlib' is not defined\n",
      "Skipping IRM - Could not load industry mapping.\n",
      "\n",
      "Processing JBHT (Industrials - Cargo Ground Transportation)...\n",
      "Error loading industry mapping for Industrials - Cargo Ground Transportation: name 'importlib' is not defined\n",
      "Skipping JBHT - Could not load industry mapping.\n",
      "\n",
      "Processing JBL (Information Technology - Electronic Manufacturing Services)...\n",
      "Error loading industry mapping for Information Technology - Electronic Manufacturing Services: name 'importlib' is not defined\n",
      "Skipping JBL - Could not load industry mapping.\n",
      "\n",
      "Processing JKHY (Financials - Transaction & Payment Processing Services)...\n",
      "Error loading industry mapping for Financials - Transaction & Payment Processing Services: name 'importlib' is not defined\n",
      "Skipping JKHY - Could not load industry mapping.\n",
      "\n",
      "Processing J (Industrials - Construction & Engineering)...\n",
      "Error loading industry mapping for Industrials - Construction & Engineering: name 'importlib' is not defined\n",
      "Skipping J - Could not load industry mapping.\n",
      "\n",
      "Processing JNJ (Health Care - Pharmaceuticals)...\n",
      "Error loading industry mapping for Health Care - Pharmaceuticals: name 'importlib' is not defined\n",
      "Skipping JNJ - Could not load industry mapping.\n",
      "\n",
      "Processing JCI (Industrials - Building Products)...\n",
      "Error loading industry mapping for Industrials - Building Products: name 'importlib' is not defined\n",
      "Skipping JCI - Could not load industry mapping.\n",
      "\n",
      "Processing JPM (Financials - Diversified Banks)...\n",
      "Error loading industry mapping for Financials - Diversified Banks: name 'importlib' is not defined\n",
      "Skipping JPM - Could not load industry mapping.\n",
      "\n",
      "Processing JNPR (Information Technology - Communications Equipment)...\n",
      "Error loading industry mapping for Information Technology - Communications Equipment: name 'importlib' is not defined\n",
      "Skipping JNPR - Could not load industry mapping.\n",
      "\n",
      "Processing K (Consumer Staples - Packaged Foods & Meats)...\n",
      "Error loading industry mapping for Consumer Staples - Packaged Foods & Meats: name 'importlib' is not defined\n",
      "Skipping K - Could not load industry mapping.\n",
      "\n",
      "Processing KVUE (Consumer Staples - Personal Care Products)...\n",
      "Error loading industry mapping for Consumer Staples - Personal Care Products: name 'importlib' is not defined\n",
      "Skipping KVUE - Could not load industry mapping.\n",
      "\n",
      "Processing KDP (Consumer Staples - Soft Drinks & Non-alcoholic Beverages)...\n",
      "Error loading industry mapping for Consumer Staples - Soft Drinks & Non-alcoholic Beverages: name 'importlib' is not defined\n",
      "Skipping KDP - Could not load industry mapping.\n",
      "\n",
      "Processing KEY (Financials - Regional Banks)...\n",
      "Error loading industry mapping for Financials - Regional Banks: name 'importlib' is not defined\n",
      "Skipping KEY - Could not load industry mapping.\n",
      "\n",
      "Processing KEYS (Information Technology - Electronic Equipment & Instruments)...\n",
      "Error loading industry mapping for Information Technology - Electronic Equipment & Instruments: name 'importlib' is not defined\n",
      "Skipping KEYS - Could not load industry mapping.\n",
      "\n",
      "Processing KMB (Consumer Staples - Household Products)...\n",
      "Error loading industry mapping for Consumer Staples - Household Products: name 'importlib' is not defined\n",
      "Skipping KMB - Could not load industry mapping.\n",
      "\n",
      "Processing KIM (Real Estate - Retail REITs)...\n",
      "Error loading industry mapping for Real Estate - Retail REITs: name 'importlib' is not defined\n",
      "Skipping KIM - Could not load industry mapping.\n",
      "\n",
      "Processing KMI (Energy - Oil & Gas Storage & Transportation)...\n",
      "Error loading industry mapping for Energy - Oil & Gas Storage & Transportation: name 'importlib' is not defined\n",
      "Skipping KMI - Could not load industry mapping.\n",
      "\n",
      "Processing KKR (Financials - Asset Management & Custody Banks)...\n",
      "Error loading industry mapping for Financials - Asset Management & Custody Banks: name 'importlib' is not defined\n",
      "Skipping KKR - Could not load industry mapping.\n",
      "\n",
      "Processing KLAC (Information Technology - Semiconductor Materials & Equipment)...\n",
      "Error loading industry mapping for Information Technology - Semiconductor Materials & Equipment: name 'importlib' is not defined\n",
      "Skipping KLAC - Could not load industry mapping.\n",
      "\n",
      "Processing KHC (Consumer Staples - Packaged Foods & Meats)...\n",
      "Error loading industry mapping for Consumer Staples - Packaged Foods & Meats: name 'importlib' is not defined\n",
      "Skipping KHC - Could not load industry mapping.\n",
      "\n",
      "Processing KR (Consumer Staples - Food Retail)...\n",
      "Error loading industry mapping for Consumer Staples - Food Retail: name 'importlib' is not defined\n",
      "Skipping KR - Could not load industry mapping.\n",
      "\n",
      "Processing LHX (Industrials - Aerospace & Defense)...\n",
      "Error loading industry mapping for Industrials - Aerospace & Defense: name 'importlib' is not defined\n",
      "Skipping LHX - Could not load industry mapping.\n",
      "\n",
      "Processing LH (Health Care - Health Care Services)...\n",
      "Error loading industry mapping for Health Care - Health Care Services: name 'importlib' is not defined\n",
      "Skipping LH - Could not load industry mapping.\n",
      "\n",
      "Processing LRCX (Information Technology - Semiconductor Materials & Equipment)...\n",
      "Error loading industry mapping for Information Technology - Semiconductor Materials & Equipment: name 'importlib' is not defined\n",
      "Skipping LRCX - Could not load industry mapping.\n",
      "\n",
      "Processing LW (Consumer Staples - Packaged Foods & Meats)...\n",
      "Error loading industry mapping for Consumer Staples - Packaged Foods & Meats: name 'importlib' is not defined\n",
      "Skipping LW - Could not load industry mapping.\n",
      "\n",
      "Processing LVS (Consumer Discretionary - Casinos & Gaming)...\n",
      "Error loading industry mapping for Consumer Discretionary - Casinos & Gaming: name 'importlib' is not defined\n",
      "Skipping LVS - Could not load industry mapping.\n",
      "\n",
      "Processing LDOS (Industrials - Diversified Support Services)...\n",
      "Error loading industry mapping for Industrials - Diversified Support Services: name 'importlib' is not defined\n",
      "Skipping LDOS - Could not load industry mapping.\n",
      "\n",
      "Processing LEN (Consumer Discretionary - Homebuilding)...\n",
      "Error loading industry mapping for Consumer Discretionary - Homebuilding: name 'importlib' is not defined\n",
      "Skipping LEN - Could not load industry mapping.\n",
      "\n",
      "Processing LII (Industrials - Building Products)...\n",
      "Error loading industry mapping for Industrials - Building Products: name 'importlib' is not defined\n",
      "Skipping LII - Could not load industry mapping.\n",
      "\n",
      "Processing LLY (Health Care - Pharmaceuticals)...\n",
      "Error loading industry mapping for Health Care - Pharmaceuticals: name 'importlib' is not defined\n",
      "Skipping LLY - Could not load industry mapping.\n",
      "\n",
      "Processing LIN (Materials - Industrial Gases)...\n",
      "Error loading industry mapping for Materials - Industrial Gases: name 'importlib' is not defined\n",
      "Skipping LIN - Could not load industry mapping.\n",
      "\n",
      "Processing LYV (Communication Services - Movies & Entertainment)...\n",
      "Error loading industry mapping for Communication Services - Movies & Entertainment: name 'importlib' is not defined\n",
      "Skipping LYV - Could not load industry mapping.\n",
      "\n",
      "Processing LKQ (Consumer Discretionary - Distributors)...\n",
      "Error loading industry mapping for Consumer Discretionary - Distributors: name 'importlib' is not defined\n",
      "Skipping LKQ - Could not load industry mapping.\n",
      "\n",
      "Processing LMT (Industrials - Aerospace & Defense)...\n",
      "Error loading industry mapping for Industrials - Aerospace & Defense: name 'importlib' is not defined\n",
      "Skipping LMT - Could not load industry mapping.\n",
      "\n",
      "Processing L (Financials - Multi-line Insurance)...\n",
      "Error loading industry mapping for Financials - Multi-line Insurance: name 'importlib' is not defined\n",
      "Skipping L - Could not load industry mapping.\n",
      "\n",
      "Processing LOW (Consumer Discretionary - Home Improvement Retail)...\n",
      "Error loading industry mapping for Consumer Discretionary - Home Improvement Retail: name 'importlib' is not defined\n",
      "Skipping LOW - Could not load industry mapping.\n",
      "\n",
      "Processing LULU (Consumer Discretionary - Apparel, Accessories & Luxury Goods)...\n",
      "Error loading industry mapping for Consumer Discretionary - Apparel, Accessories & Luxury Goods: name 'importlib' is not defined\n",
      "Skipping LULU - Could not load industry mapping.\n",
      "\n",
      "Processing LYB (Materials - Specialty Chemicals)...\n",
      "Error loading industry mapping for Materials - Specialty Chemicals: name 'importlib' is not defined\n",
      "Skipping LYB - Could not load industry mapping.\n",
      "\n",
      "Processing MTB (Financials - Regional Banks)...\n",
      "Error loading industry mapping for Financials - Regional Banks: name 'importlib' is not defined\n",
      "Skipping MTB - Could not load industry mapping.\n",
      "\n",
      "Processing MPC (Energy - Oil & Gas Refining & Marketing)...\n",
      "Error loading industry mapping for Energy - Oil & Gas Refining & Marketing: name 'importlib' is not defined\n",
      "Skipping MPC - Could not load industry mapping.\n",
      "\n",
      "Processing MKTX (Financials - Financial Exchanges & Data)...\n",
      "Error loading industry mapping for Financials - Financial Exchanges & Data: name 'importlib' is not defined\n",
      "Skipping MKTX - Could not load industry mapping.\n",
      "\n",
      "Processing MAR (Consumer Discretionary - Hotels, Resorts & Cruise Lines)...\n",
      "Error loading industry mapping for Consumer Discretionary - Hotels, Resorts & Cruise Lines: name 'importlib' is not defined\n",
      "Skipping MAR - Could not load industry mapping.\n",
      "\n",
      "Processing MMC (Financials - Insurance Brokers)...\n",
      "Error loading industry mapping for Financials - Insurance Brokers: name 'importlib' is not defined\n",
      "Skipping MMC - Could not load industry mapping.\n",
      "\n",
      "Processing MLM (Materials - Construction Materials)...\n",
      "Error loading industry mapping for Materials - Construction Materials: name 'importlib' is not defined\n",
      "Skipping MLM - Could not load industry mapping.\n",
      "\n",
      "Processing MAS (Industrials - Building Products)...\n",
      "Error loading industry mapping for Industrials - Building Products: name 'importlib' is not defined\n",
      "Skipping MAS - Could not load industry mapping.\n",
      "\n",
      "Processing MA (Financials - Transaction & Payment Processing Services)...\n",
      "Error loading industry mapping for Financials - Transaction & Payment Processing Services: name 'importlib' is not defined\n",
      "Skipping MA - Could not load industry mapping.\n",
      "\n",
      "Processing MTCH (Communication Services - Interactive Media & Services)...\n",
      "Error loading industry mapping for Communication Services - Interactive Media & Services: name 'importlib' is not defined\n",
      "Skipping MTCH - Could not load industry mapping.\n",
      "\n",
      "Processing MKC (Consumer Staples - Packaged Foods & Meats)...\n",
      "Error loading industry mapping for Consumer Staples - Packaged Foods & Meats: name 'importlib' is not defined\n",
      "Skipping MKC - Could not load industry mapping.\n",
      "\n",
      "Processing MCD (Consumer Discretionary - Restaurants)...\n",
      "Error loading industry mapping for Consumer Discretionary - Restaurants: name 'importlib' is not defined\n",
      "Skipping MCD - Could not load industry mapping.\n",
      "\n",
      "Processing MCK (Health Care - Health Care Distributors)...\n",
      "Error loading industry mapping for Health Care - Health Care Distributors: name 'importlib' is not defined\n",
      "Skipping MCK - Could not load industry mapping.\n",
      "\n",
      "Processing MDT (Health Care - Health Care Equipment)...\n",
      "Error loading industry mapping for Health Care - Health Care Equipment: name 'importlib' is not defined\n",
      "Skipping MDT - Could not load industry mapping.\n",
      "\n",
      "Processing MRK (Health Care - Pharmaceuticals)...\n",
      "Error loading industry mapping for Health Care - Pharmaceuticals: name 'importlib' is not defined\n",
      "Skipping MRK - Could not load industry mapping.\n",
      "\n",
      "Processing META (Communication Services - Interactive Media & Services)...\n",
      "Error loading industry mapping for Communication Services - Interactive Media & Services: name 'importlib' is not defined\n",
      "Skipping META - Could not load industry mapping.\n",
      "\n",
      "Processing MET (Financials - Life & Health Insurance)...\n",
      "Error loading industry mapping for Financials - Life & Health Insurance: name 'importlib' is not defined\n",
      "Skipping MET - Could not load industry mapping.\n",
      "\n",
      "Processing MTD (Health Care - Life Sciences Tools & Services)...\n",
      "Error loading industry mapping for Health Care - Life Sciences Tools & Services: name 'importlib' is not defined\n",
      "Skipping MTD - Could not load industry mapping.\n",
      "\n",
      "Processing MGM (Consumer Discretionary - Casinos & Gaming)...\n",
      "Error loading industry mapping for Consumer Discretionary - Casinos & Gaming: name 'importlib' is not defined\n",
      "Skipping MGM - Could not load industry mapping.\n",
      "\n",
      "Processing MCHP (Information Technology - Semiconductors)...\n",
      "Error loading industry mapping for Information Technology - Semiconductors: name 'importlib' is not defined\n",
      "Skipping MCHP - Could not load industry mapping.\n",
      "\n",
      "Processing MU (Information Technology - Semiconductors)...\n",
      "Error loading industry mapping for Information Technology - Semiconductors: name 'importlib' is not defined\n",
      "Skipping MU - Could not load industry mapping.\n",
      "\n",
      "Processing MSFT (Information Technology - Systems Software)...\n",
      "Error loading industry mapping for Information Technology - Systems Software: name 'importlib' is not defined\n",
      "Skipping MSFT - Could not load industry mapping.\n",
      "\n",
      "Processing MAA (Real Estate - Multi-Family Residential REITs)...\n",
      "Error loading industry mapping for Real Estate - Multi-Family Residential REITs: name 'importlib' is not defined\n",
      "Skipping MAA - Could not load industry mapping.\n",
      "\n",
      "Processing MRNA (Health Care - Biotechnology)...\n",
      "Error loading industry mapping for Health Care - Biotechnology: name 'importlib' is not defined\n",
      "Skipping MRNA - Could not load industry mapping.\n",
      "\n",
      "Processing MHK (Consumer Discretionary - Home Furnishings)...\n",
      "Error loading industry mapping for Consumer Discretionary - Home Furnishings: name 'importlib' is not defined\n",
      "Skipping MHK - Could not load industry mapping.\n",
      "\n",
      "Processing MOH (Health Care - Managed Health Care)...\n",
      "Error loading industry mapping for Health Care - Managed Health Care: name 'importlib' is not defined\n",
      "Skipping MOH - Could not load industry mapping.\n",
      "\n",
      "Processing TAP (Consumer Staples - Brewers)...\n",
      "Error loading industry mapping for Consumer Staples - Brewers: name 'importlib' is not defined\n",
      "Skipping TAP - Could not load industry mapping.\n",
      "\n",
      "Processing MDLZ (Consumer Staples - Packaged Foods & Meats)...\n",
      "Error loading industry mapping for Consumer Staples - Packaged Foods & Meats: name 'importlib' is not defined\n",
      "Skipping MDLZ - Could not load industry mapping.\n",
      "\n",
      "Processing MPWR (Information Technology - Semiconductors)...\n",
      "Error loading industry mapping for Information Technology - Semiconductors: name 'importlib' is not defined\n",
      "Skipping MPWR - Could not load industry mapping.\n",
      "\n",
      "Processing MNST (Consumer Staples - Soft Drinks & Non-alcoholic Beverages)...\n",
      "Error loading industry mapping for Consumer Staples - Soft Drinks & Non-alcoholic Beverages: name 'importlib' is not defined\n",
      "Skipping MNST - Could not load industry mapping.\n",
      "\n",
      "Processing MCO (Financials - Financial Exchanges & Data)...\n",
      "Error loading industry mapping for Financials - Financial Exchanges & Data: name 'importlib' is not defined\n",
      "Skipping MCO - Could not load industry mapping.\n",
      "\n",
      "Processing MS (Financials - Investment Banking & Brokerage)...\n",
      "Error loading industry mapping for Financials - Investment Banking & Brokerage: name 'importlib' is not defined\n",
      "Skipping MS - Could not load industry mapping.\n",
      "\n",
      "Processing MOS (Materials - Fertilizers & Agricultural Chemicals)...\n",
      "Error loading industry mapping for Materials - Fertilizers & Agricultural Chemicals: name 'importlib' is not defined\n",
      "Skipping MOS - Could not load industry mapping.\n",
      "\n",
      "Processing MSI (Information Technology - Communications Equipment)...\n",
      "Error loading industry mapping for Information Technology - Communications Equipment: name 'importlib' is not defined\n",
      "Skipping MSI - Could not load industry mapping.\n",
      "\n",
      "Processing MSCI (Financials - Financial Exchanges & Data)...\n",
      "Error loading industry mapping for Financials - Financial Exchanges & Data: name 'importlib' is not defined\n",
      "Skipping MSCI - Could not load industry mapping.\n",
      "\n",
      "Processing NDAQ (Financials - Financial Exchanges & Data)...\n",
      "Error loading industry mapping for Financials - Financial Exchanges & Data: name 'importlib' is not defined\n",
      "Skipping NDAQ - Could not load industry mapping.\n",
      "\n",
      "Processing NTAP (Information Technology - Technology Hardware, Storage & Peripherals)...\n",
      "Error loading industry mapping for Information Technology - Technology Hardware, Storage & Peripherals: name 'importlib' is not defined\n",
      "Skipping NTAP - Could not load industry mapping.\n",
      "\n",
      "Processing NFLX (Communication Services - Movies & Entertainment)...\n",
      "Error loading industry mapping for Communication Services - Movies & Entertainment: name 'importlib' is not defined\n",
      "Skipping NFLX - Could not load industry mapping.\n",
      "\n",
      "Processing NEM (Materials - Gold)...\n",
      "Error loading industry mapping for Materials - Gold: name 'importlib' is not defined\n",
      "Skipping NEM - Could not load industry mapping.\n",
      "\n",
      "Processing NWSA (Communication Services - Publishing)...\n",
      "Error loading industry mapping for Communication Services - Publishing: name 'importlib' is not defined\n",
      "Skipping NWSA - Could not load industry mapping.\n",
      "\n",
      "Processing NWS (Communication Services - Publishing)...\n",
      "Error loading industry mapping for Communication Services - Publishing: name 'importlib' is not defined\n",
      "Skipping NWS - Could not load industry mapping.\n",
      "\n",
      "Processing NEE (Utilities - Multi-Utilities)...\n",
      "Error loading industry mapping for Utilities - Multi-Utilities: name 'importlib' is not defined\n",
      "Skipping NEE - Could not load industry mapping.\n",
      "\n",
      "Processing NKE (Consumer Discretionary - Apparel, Accessories & Luxury Goods)...\n",
      "Error loading industry mapping for Consumer Discretionary - Apparel, Accessories & Luxury Goods: name 'importlib' is not defined\n",
      "Skipping NKE - Could not load industry mapping.\n",
      "\n",
      "Processing NI (Utilities - Multi-Utilities)...\n",
      "Error loading industry mapping for Utilities - Multi-Utilities: name 'importlib' is not defined\n",
      "Skipping NI - Could not load industry mapping.\n",
      "\n",
      "Processing NDSN (Industrials - Industrial Machinery & Supplies & Components)...\n",
      "Error loading industry mapping for Industrials - Industrial Machinery & Supplies & Components: name 'importlib' is not defined\n",
      "Skipping NDSN - Could not load industry mapping.\n",
      "\n",
      "Processing NSC (Industrials - Rail Transportation)...\n",
      "Error loading industry mapping for Industrials - Rail Transportation: name 'importlib' is not defined\n",
      "Skipping NSC - Could not load industry mapping.\n",
      "\n",
      "Processing NTRS (Financials - Asset Management & Custody Banks)...\n",
      "Error loading industry mapping for Financials - Asset Management & Custody Banks: name 'importlib' is not defined\n",
      "Skipping NTRS - Could not load industry mapping.\n",
      "\n",
      "Processing NOC (Industrials - Aerospace & Defense)...\n",
      "Error loading industry mapping for Industrials - Aerospace & Defense: name 'importlib' is not defined\n",
      "Skipping NOC - Could not load industry mapping.\n",
      "\n",
      "Processing NCLH (Consumer Discretionary - Hotels, Resorts & Cruise Lines)...\n",
      "Error loading industry mapping for Consumer Discretionary - Hotels, Resorts & Cruise Lines: name 'importlib' is not defined\n",
      "Skipping NCLH - Could not load industry mapping.\n",
      "\n",
      "Processing NRG (Utilities - Independent Power Producers & Energy Traders)...\n",
      "Error loading industry mapping for Utilities - Independent Power Producers & Energy Traders: name 'importlib' is not defined\n",
      "Skipping NRG - Could not load industry mapping.\n",
      "\n",
      "Processing NUE (Materials - Steel)...\n",
      "Error loading industry mapping for Materials - Steel: name 'importlib' is not defined\n",
      "Skipping NUE - Could not load industry mapping.\n",
      "\n",
      "Processing NVDA (Information Technology - Semiconductors)...\n",
      "Error loading industry mapping for Information Technology - Semiconductors: name 'importlib' is not defined\n",
      "Skipping NVDA - Could not load industry mapping.\n",
      "\n",
      "Processing NVR (Consumer Discretionary - Homebuilding)...\n",
      "Error loading industry mapping for Consumer Discretionary - Homebuilding: name 'importlib' is not defined\n",
      "Skipping NVR - Could not load industry mapping.\n",
      "\n",
      "Processing NXPI (Information Technology - Semiconductors)...\n",
      "Error loading industry mapping for Information Technology - Semiconductors: name 'importlib' is not defined\n",
      "Skipping NXPI - Could not load industry mapping.\n",
      "\n",
      "Processing ORLY (Consumer Discretionary - Automotive Retail)...\n",
      "Error loading industry mapping for Consumer Discretionary - Automotive Retail: name 'importlib' is not defined\n",
      "Skipping ORLY - Could not load industry mapping.\n",
      "\n",
      "Processing OXY (Energy - Oil & Gas Exploration & Production)...\n",
      "Error loading industry mapping for Energy - Oil & Gas Exploration & Production: name 'importlib' is not defined\n",
      "Skipping OXY - Could not load industry mapping.\n",
      "\n",
      "Processing ODFL (Industrials - Cargo Ground Transportation)...\n",
      "Error loading industry mapping for Industrials - Cargo Ground Transportation: name 'importlib' is not defined\n",
      "Skipping ODFL - Could not load industry mapping.\n",
      "\n",
      "Processing OMC (Communication Services - Advertising)...\n",
      "Error loading industry mapping for Communication Services - Advertising: name 'importlib' is not defined\n",
      "Skipping OMC - Could not load industry mapping.\n",
      "\n",
      "Processing ON (Information Technology - Semiconductors)...\n",
      "Error loading industry mapping for Information Technology - Semiconductors: name 'importlib' is not defined\n",
      "Skipping ON - Could not load industry mapping.\n",
      "\n",
      "Processing OKE (Energy - Oil & Gas Storage & Transportation)...\n",
      "Error loading industry mapping for Energy - Oil & Gas Storage & Transportation: name 'importlib' is not defined\n",
      "Skipping OKE - Could not load industry mapping.\n",
      "\n",
      "Processing ORCL (Information Technology - Application Software)...\n",
      "Error loading industry mapping for Information Technology - Application Software: name 'importlib' is not defined\n",
      "Skipping ORCL - Could not load industry mapping.\n",
      "\n",
      "Processing OTIS (Industrials - Industrial Machinery & Supplies & Components)...\n",
      "Error loading industry mapping for Industrials - Industrial Machinery & Supplies & Components: name 'importlib' is not defined\n",
      "Skipping OTIS - Could not load industry mapping.\n",
      "\n",
      "Processing PCAR (Industrials - Construction Machinery & Heavy Transportation Equipment)...\n",
      "Error loading industry mapping for Industrials - Construction Machinery & Heavy Transportation Equipment: name 'importlib' is not defined\n",
      "Skipping PCAR - Could not load industry mapping.\n",
      "\n",
      "Processing PKG (Materials - Paper & Plastic Packaging Products & Materials)...\n",
      "Error loading industry mapping for Materials - Paper & Plastic Packaging Products & Materials: name 'importlib' is not defined\n",
      "Skipping PKG - Could not load industry mapping.\n",
      "\n",
      "Processing PLTR (Information Technology - Internet Services & Infrastructure)...\n",
      "Error loading industry mapping for Information Technology - Internet Services & Infrastructure: name 'importlib' is not defined\n",
      "Skipping PLTR - Could not load industry mapping.\n",
      "\n",
      "Processing PANW (Information Technology - Systems Software)...\n",
      "Error loading industry mapping for Information Technology - Systems Software: name 'importlib' is not defined\n",
      "Skipping PANW - Could not load industry mapping.\n",
      "\n",
      "Processing PARA (Communication Services - Movies & Entertainment)...\n",
      "Error loading industry mapping for Communication Services - Movies & Entertainment: name 'importlib' is not defined\n",
      "Skipping PARA - Could not load industry mapping.\n",
      "\n",
      "Processing PH (Industrials - Industrial Machinery & Supplies & Components)...\n",
      "Error loading industry mapping for Industrials - Industrial Machinery & Supplies & Components: name 'importlib' is not defined\n",
      "Skipping PH - Could not load industry mapping.\n",
      "\n",
      "Processing PAYX (Industrials - Human Resource & Employment Services)...\n",
      "Error loading industry mapping for Industrials - Human Resource & Employment Services: name 'importlib' is not defined\n",
      "Skipping PAYX - Could not load industry mapping.\n",
      "\n",
      "Processing PAYC (Industrials - Human Resource & Employment Services)...\n",
      "Error loading industry mapping for Industrials - Human Resource & Employment Services: name 'importlib' is not defined\n",
      "Skipping PAYC - Could not load industry mapping.\n",
      "\n",
      "Processing PYPL (Financials - Transaction & Payment Processing Services)...\n",
      "Error loading industry mapping for Financials - Transaction & Payment Processing Services: name 'importlib' is not defined\n",
      "Skipping PYPL - Could not load industry mapping.\n",
      "\n",
      "Processing PNR (Industrials - Industrial Machinery & Supplies & Components)...\n",
      "Error loading industry mapping for Industrials - Industrial Machinery & Supplies & Components: name 'importlib' is not defined\n",
      "Skipping PNR - Could not load industry mapping.\n",
      "\n",
      "Processing PEP (Consumer Staples - Soft Drinks & Non-alcoholic Beverages)...\n",
      "Error loading industry mapping for Consumer Staples - Soft Drinks & Non-alcoholic Beverages: name 'importlib' is not defined\n",
      "Skipping PEP - Could not load industry mapping.\n",
      "\n",
      "Processing PFE (Health Care - Pharmaceuticals)...\n",
      "Error loading industry mapping for Health Care - Pharmaceuticals: name 'importlib' is not defined\n",
      "Skipping PFE - Could not load industry mapping.\n",
      "\n",
      "Processing PCG (Utilities - Multi-Utilities)...\n",
      "Error loading industry mapping for Utilities - Multi-Utilities: name 'importlib' is not defined\n",
      "Skipping PCG - Could not load industry mapping.\n",
      "\n",
      "Processing PM (Consumer Staples - Tobacco)...\n",
      "Error loading industry mapping for Consumer Staples - Tobacco: name 'importlib' is not defined\n",
      "Skipping PM - Could not load industry mapping.\n",
      "\n",
      "Processing PSX (Energy - Oil & Gas Refining & Marketing)...\n",
      "Error loading industry mapping for Energy - Oil & Gas Refining & Marketing: name 'importlib' is not defined\n",
      "Skipping PSX - Could not load industry mapping.\n",
      "\n",
      "Processing PNW (Utilities - Multi-Utilities)...\n",
      "Error loading industry mapping for Utilities - Multi-Utilities: name 'importlib' is not defined\n",
      "Skipping PNW - Could not load industry mapping.\n",
      "\n",
      "Processing PNC (Financials - Diversified Banks)...\n",
      "Error loading industry mapping for Financials - Diversified Banks: name 'importlib' is not defined\n",
      "Skipping PNC - Could not load industry mapping.\n",
      "\n",
      "Processing POOL (Consumer Discretionary - Distributors)...\n",
      "Error loading industry mapping for Consumer Discretionary - Distributors: name 'importlib' is not defined\n",
      "Skipping POOL - Could not load industry mapping.\n",
      "\n",
      "Processing PPG (Materials - Specialty Chemicals)...\n",
      "Error loading industry mapping for Materials - Specialty Chemicals: name 'importlib' is not defined\n",
      "Skipping PPG - Could not load industry mapping.\n",
      "\n",
      "Processing PPL (Utilities - Electric Utilities)...\n",
      "Error loading industry mapping for Utilities - Electric Utilities: name 'importlib' is not defined\n",
      "Skipping PPL - Could not load industry mapping.\n",
      "\n",
      "Processing PFG (Financials - Life & Health Insurance)...\n",
      "Error loading industry mapping for Financials - Life & Health Insurance: name 'importlib' is not defined\n",
      "Skipping PFG - Could not load industry mapping.\n",
      "\n",
      "Processing PG (Consumer Staples - Personal Care Products)...\n",
      "Error loading industry mapping for Consumer Staples - Personal Care Products: name 'importlib' is not defined\n",
      "Skipping PG - Could not load industry mapping.\n",
      "\n",
      "Processing PGR (Financials - Property & Casualty Insurance)...\n",
      "Error loading industry mapping for Financials - Property & Casualty Insurance: name 'importlib' is not defined\n",
      "Skipping PGR - Could not load industry mapping.\n",
      "\n",
      "Processing PLD (Real Estate - Industrial REITs)...\n",
      "Error loading industry mapping for Real Estate - Industrial REITs: name 'importlib' is not defined\n",
      "Skipping PLD - Could not load industry mapping.\n",
      "\n",
      "Processing PRU (Financials - Life & Health Insurance)...\n",
      "Error loading industry mapping for Financials - Life & Health Insurance: name 'importlib' is not defined\n",
      "Skipping PRU - Could not load industry mapping.\n",
      "\n",
      "Processing PEG (Utilities - Electric Utilities)...\n",
      "Error loading industry mapping for Utilities - Electric Utilities: name 'importlib' is not defined\n",
      "Skipping PEG - Could not load industry mapping.\n",
      "\n",
      "Processing PTC (Information Technology - Application Software)...\n",
      "Error loading industry mapping for Information Technology - Application Software: name 'importlib' is not defined\n",
      "Skipping PTC - Could not load industry mapping.\n",
      "\n",
      "Processing PSA (Real Estate - Self-Storage REITs)...\n",
      "Error loading industry mapping for Real Estate - Self-Storage REITs: name 'importlib' is not defined\n",
      "Skipping PSA - Could not load industry mapping.\n",
      "\n",
      "Processing PHM (Consumer Discretionary - Homebuilding)...\n",
      "Error loading industry mapping for Consumer Discretionary - Homebuilding: name 'importlib' is not defined\n",
      "Skipping PHM - Could not load industry mapping.\n",
      "\n",
      "Processing PWR (Industrials - Construction & Engineering)...\n",
      "Error loading industry mapping for Industrials - Construction & Engineering: name 'importlib' is not defined\n",
      "Skipping PWR - Could not load industry mapping.\n",
      "\n",
      "Processing QCOM (Information Technology - Semiconductors)...\n",
      "Error loading industry mapping for Information Technology - Semiconductors: name 'importlib' is not defined\n",
      "Skipping QCOM - Could not load industry mapping.\n",
      "\n",
      "Processing DGX (Health Care - Health Care Services)...\n",
      "Error loading industry mapping for Health Care - Health Care Services: name 'importlib' is not defined\n",
      "Skipping DGX - Could not load industry mapping.\n",
      "\n",
      "Processing RL (Consumer Discretionary - Apparel, Accessories & Luxury Goods)...\n",
      "Error loading industry mapping for Consumer Discretionary - Apparel, Accessories & Luxury Goods: name 'importlib' is not defined\n",
      "Skipping RL - Could not load industry mapping.\n",
      "\n",
      "Processing RJF (Financials - Investment Banking & Brokerage)...\n",
      "Error loading industry mapping for Financials - Investment Banking & Brokerage: name 'importlib' is not defined\n",
      "Skipping RJF - Could not load industry mapping.\n",
      "\n",
      "Processing RTX (Industrials - Aerospace & Defense)...\n",
      "Error loading industry mapping for Industrials - Aerospace & Defense: name 'importlib' is not defined\n",
      "Skipping RTX - Could not load industry mapping.\n",
      "\n",
      "Processing O (Real Estate - Retail REITs)...\n",
      "Error loading industry mapping for Real Estate - Retail REITs: name 'importlib' is not defined\n",
      "Skipping O - Could not load industry mapping.\n",
      "\n",
      "Processing REG (Real Estate - Retail REITs)...\n",
      "Error loading industry mapping for Real Estate - Retail REITs: name 'importlib' is not defined\n",
      "Skipping REG - Could not load industry mapping.\n",
      "\n",
      "Processing REGN (Health Care - Biotechnology)...\n",
      "Error loading industry mapping for Health Care - Biotechnology: name 'importlib' is not defined\n",
      "Skipping REGN - Could not load industry mapping.\n",
      "\n",
      "Processing RF (Financials - Regional Banks)...\n",
      "Error loading industry mapping for Financials - Regional Banks: name 'importlib' is not defined\n",
      "Skipping RF - Could not load industry mapping.\n",
      "\n",
      "Processing RSG (Industrials - Environmental & Facilities Services)...\n",
      "Error loading industry mapping for Industrials - Environmental & Facilities Services: name 'importlib' is not defined\n",
      "Skipping RSG - Could not load industry mapping.\n",
      "\n",
      "Processing RMD (Health Care - Health Care Equipment)...\n",
      "Error loading industry mapping for Health Care - Health Care Equipment: name 'importlib' is not defined\n",
      "Skipping RMD - Could not load industry mapping.\n",
      "\n",
      "Processing RVTY (Health Care - Health Care Equipment)...\n",
      "Error loading industry mapping for Health Care - Health Care Equipment: name 'importlib' is not defined\n",
      "Skipping RVTY - Could not load industry mapping.\n",
      "\n",
      "Processing ROK (Industrials - Electrical Components & Equipment)...\n",
      "Error loading industry mapping for Industrials - Electrical Components & Equipment: name 'importlib' is not defined\n",
      "Skipping ROK - Could not load industry mapping.\n",
      "\n",
      "Processing ROL (Industrials - Environmental & Facilities Services)...\n",
      "Error loading industry mapping for Industrials - Environmental & Facilities Services: name 'importlib' is not defined\n",
      "Skipping ROL - Could not load industry mapping.\n",
      "\n",
      "Processing ROP (Information Technology - Electronic Equipment & Instruments)...\n",
      "Error loading industry mapping for Information Technology - Electronic Equipment & Instruments: name 'importlib' is not defined\n",
      "Skipping ROP - Could not load industry mapping.\n",
      "\n",
      "Processing ROST (Consumer Discretionary - Apparel Retail)...\n",
      "Error loading industry mapping for Consumer Discretionary - Apparel Retail: name 'importlib' is not defined\n",
      "Skipping ROST - Could not load industry mapping.\n",
      "\n",
      "Processing RCL (Consumer Discretionary - Hotels, Resorts & Cruise Lines)...\n",
      "Error loading industry mapping for Consumer Discretionary - Hotels, Resorts & Cruise Lines: name 'importlib' is not defined\n",
      "Skipping RCL - Could not load industry mapping.\n",
      "\n",
      "Processing SPGI (Financials - Financial Exchanges & Data)...\n",
      "Error loading industry mapping for Financials - Financial Exchanges & Data: name 'importlib' is not defined\n",
      "Skipping SPGI - Could not load industry mapping.\n",
      "\n",
      "Processing CRM (Information Technology - Application Software)...\n",
      "Error loading industry mapping for Information Technology - Application Software: name 'importlib' is not defined\n",
      "Skipping CRM - Could not load industry mapping.\n",
      "\n",
      "Processing SBAC (Real Estate - Telecom Tower REITs)...\n",
      "Error loading industry mapping for Real Estate - Telecom Tower REITs: name 'importlib' is not defined\n",
      "Skipping SBAC - Could not load industry mapping.\n",
      "\n",
      "Processing SLB (Energy - Oil & Gas Equipment & Services)...\n",
      "Error loading industry mapping for Energy - Oil & Gas Equipment & Services: name 'importlib' is not defined\n",
      "Skipping SLB - Could not load industry mapping.\n",
      "\n",
      "Processing STX (Information Technology - Technology Hardware, Storage & Peripherals)...\n",
      "Error loading industry mapping for Information Technology - Technology Hardware, Storage & Peripherals: name 'importlib' is not defined\n",
      "Skipping STX - Could not load industry mapping.\n",
      "\n",
      "Processing SRE (Utilities - Multi-Utilities)...\n",
      "Error loading industry mapping for Utilities - Multi-Utilities: name 'importlib' is not defined\n",
      "Skipping SRE - Could not load industry mapping.\n",
      "\n",
      "Processing NOW (Information Technology - Systems Software)...\n",
      "Error loading industry mapping for Information Technology - Systems Software: name 'importlib' is not defined\n",
      "Skipping NOW - Could not load industry mapping.\n",
      "\n",
      "Processing SHW (Materials - Specialty Chemicals)...\n",
      "Error loading industry mapping for Materials - Specialty Chemicals: name 'importlib' is not defined\n",
      "Skipping SHW - Could not load industry mapping.\n",
      "\n",
      "Processing SPG (Real Estate - Retail REITs)...\n",
      "Error loading industry mapping for Real Estate - Retail REITs: name 'importlib' is not defined\n",
      "Skipping SPG - Could not load industry mapping.\n",
      "\n",
      "Processing SWKS (Information Technology - Semiconductors)...\n",
      "Error loading industry mapping for Information Technology - Semiconductors: name 'importlib' is not defined\n",
      "Skipping SWKS - Could not load industry mapping.\n",
      "\n",
      "Processing SJM (Consumer Staples - Packaged Foods & Meats)...\n",
      "Error loading industry mapping for Consumer Staples - Packaged Foods & Meats: name 'importlib' is not defined\n",
      "Skipping SJM - Could not load industry mapping.\n",
      "\n",
      "Processing SW (Materials - Paper & Plastic Packaging Products & Materials)...\n",
      "Error loading industry mapping for Materials - Paper & Plastic Packaging Products & Materials: name 'importlib' is not defined\n",
      "Skipping SW - Could not load industry mapping.\n",
      "\n",
      "Processing SNA (Industrials - Industrial Machinery & Supplies & Components)...\n",
      "Error loading industry mapping for Industrials - Industrial Machinery & Supplies & Components: name 'importlib' is not defined\n",
      "Skipping SNA - Could not load industry mapping.\n",
      "\n",
      "Processing SOLV (Health Care - Health Care Technology)...\n",
      "Error loading industry mapping for Health Care - Health Care Technology: name 'importlib' is not defined\n",
      "Skipping SOLV - Could not load industry mapping.\n",
      "\n",
      "Processing SO (Utilities - Electric Utilities)...\n",
      "Error loading industry mapping for Utilities - Electric Utilities: name 'importlib' is not defined\n",
      "Skipping SO - Could not load industry mapping.\n",
      "\n",
      "Processing LUV (Industrials - Passenger Airlines)...\n",
      "Error loading industry mapping for Industrials - Passenger Airlines: name 'importlib' is not defined\n",
      "Skipping LUV - Could not load industry mapping.\n",
      "\n",
      "Processing SWK (Industrials - Industrial Machinery & Supplies & Components)...\n",
      "Error loading industry mapping for Industrials - Industrial Machinery & Supplies & Components: name 'importlib' is not defined\n",
      "Skipping SWK - Could not load industry mapping.\n",
      "\n",
      "Processing SBUX (Consumer Discretionary - Restaurants)...\n",
      "Error loading industry mapping for Consumer Discretionary - Restaurants: name 'importlib' is not defined\n",
      "Skipping SBUX - Could not load industry mapping.\n",
      "\n",
      "Processing STT (Financials - Asset Management & Custody Banks)...\n",
      "Error loading industry mapping for Financials - Asset Management & Custody Banks: name 'importlib' is not defined\n",
      "Skipping STT - Could not load industry mapping.\n",
      "\n",
      "Processing STLD (Materials - Steel)...\n",
      "Error loading industry mapping for Materials - Steel: name 'importlib' is not defined\n",
      "Skipping STLD - Could not load industry mapping.\n",
      "\n",
      "Processing STE (Health Care - Health Care Equipment)...\n",
      "Error loading industry mapping for Health Care - Health Care Equipment: name 'importlib' is not defined\n",
      "Skipping STE - Could not load industry mapping.\n",
      "\n",
      "Processing SYK (Health Care - Health Care Equipment)...\n",
      "Error loading industry mapping for Health Care - Health Care Equipment: name 'importlib' is not defined\n",
      "Skipping SYK - Could not load industry mapping.\n",
      "\n",
      "Processing SMCI (Information Technology - Technology Hardware, Storage & Peripherals)...\n",
      "Error loading industry mapping for Information Technology - Technology Hardware, Storage & Peripherals: name 'importlib' is not defined\n",
      "Skipping SMCI - Could not load industry mapping.\n",
      "\n",
      "Processing SYF (Financials - Consumer Finance)...\n",
      "Error loading industry mapping for Financials - Consumer Finance: name 'importlib' is not defined\n",
      "Skipping SYF - Could not load industry mapping.\n",
      "\n",
      "Processing SNPS (Information Technology - Application Software)...\n",
      "Error loading industry mapping for Information Technology - Application Software: name 'importlib' is not defined\n",
      "Skipping SNPS - Could not load industry mapping.\n",
      "\n",
      "Processing SYY (Consumer Staples - Food Distributors)...\n",
      "Error loading industry mapping for Consumer Staples - Food Distributors: name 'importlib' is not defined\n",
      "Skipping SYY - Could not load industry mapping.\n",
      "\n",
      "Processing TMUS (Communication Services - Wireless Telecommunication Services)...\n",
      "Error loading industry mapping for Communication Services - Wireless Telecommunication Services: name 'importlib' is not defined\n",
      "Skipping TMUS - Could not load industry mapping.\n",
      "\n",
      "Processing TROW (Financials - Asset Management & Custody Banks)...\n",
      "Error loading industry mapping for Financials - Asset Management & Custody Banks: name 'importlib' is not defined\n",
      "Skipping TROW - Could not load industry mapping.\n",
      "\n",
      "Processing TTWO (Communication Services - Interactive Home Entertainment)...\n",
      "Error loading industry mapping for Communication Services - Interactive Home Entertainment: name 'importlib' is not defined\n",
      "Skipping TTWO - Could not load industry mapping.\n",
      "\n",
      "Processing TPR (Consumer Discretionary - Apparel, Accessories & Luxury Goods)...\n",
      "Error loading industry mapping for Consumer Discretionary - Apparel, Accessories & Luxury Goods: name 'importlib' is not defined\n",
      "Skipping TPR - Could not load industry mapping.\n",
      "\n",
      "Processing TRGP (Energy - Oil & Gas Storage & Transportation)...\n",
      "Error loading industry mapping for Energy - Oil & Gas Storage & Transportation: name 'importlib' is not defined\n",
      "Skipping TRGP - Could not load industry mapping.\n",
      "\n",
      "Processing TGT (Consumer Staples - Consumer Staples Merchandise Retail)...\n",
      "Error loading industry mapping for Consumer Staples - Consumer Staples Merchandise Retail: name 'importlib' is not defined\n",
      "Skipping TGT - Could not load industry mapping.\n",
      "\n",
      "Processing TEL (Information Technology - Electronic Manufacturing Services)...\n",
      "Error loading industry mapping for Information Technology - Electronic Manufacturing Services: name 'importlib' is not defined\n",
      "Skipping TEL - Could not load industry mapping.\n",
      "\n",
      "Processing TDY (Information Technology - Electronic Equipment & Instruments)...\n",
      "Error loading industry mapping for Information Technology - Electronic Equipment & Instruments: name 'importlib' is not defined\n",
      "Skipping TDY - Could not load industry mapping.\n",
      "\n",
      "Processing TFX (Health Care - Health Care Equipment)...\n",
      "Error loading industry mapping for Health Care - Health Care Equipment: name 'importlib' is not defined\n",
      "Skipping TFX - Could not load industry mapping.\n",
      "\n",
      "Processing TER (Information Technology - Semiconductor Materials & Equipment)...\n",
      "Error loading industry mapping for Information Technology - Semiconductor Materials & Equipment: name 'importlib' is not defined\n",
      "Skipping TER - Could not load industry mapping.\n",
      "\n",
      "Processing TSLA (Consumer Discretionary - Automobile Manufacturers)...\n",
      "Error loading industry mapping for Consumer Discretionary - Automobile Manufacturers: name 'importlib' is not defined\n",
      "Skipping TSLA - Could not load industry mapping.\n",
      "\n",
      "Processing TXN (Information Technology - Semiconductors)...\n",
      "Error loading industry mapping for Information Technology - Semiconductors: name 'importlib' is not defined\n",
      "Skipping TXN - Could not load industry mapping.\n",
      "\n",
      "Processing TPL (Energy - Oil & Gas Exploration & Production)...\n",
      "Error loading industry mapping for Energy - Oil & Gas Exploration & Production: name 'importlib' is not defined\n",
      "Skipping TPL - Could not load industry mapping.\n",
      "\n",
      "Processing TXT (Industrials - Aerospace & Defense)...\n",
      "Error loading industry mapping for Industrials - Aerospace & Defense: name 'importlib' is not defined\n",
      "Skipping TXT - Could not load industry mapping.\n",
      "\n",
      "Processing TMO (Health Care - Life Sciences Tools & Services)...\n",
      "Error loading industry mapping for Health Care - Life Sciences Tools & Services: name 'importlib' is not defined\n",
      "Skipping TMO - Could not load industry mapping.\n",
      "\n",
      "Processing TJX (Consumer Discretionary - Apparel Retail)...\n",
      "Error loading industry mapping for Consumer Discretionary - Apparel Retail: name 'importlib' is not defined\n",
      "Skipping TJX - Could not load industry mapping.\n",
      "\n",
      "Processing TSCO (Consumer Discretionary - Other Specialty Retail)...\n",
      "Error loading industry mapping for Consumer Discretionary - Other Specialty Retail: name 'importlib' is not defined\n",
      "Skipping TSCO - Could not load industry mapping.\n",
      "\n",
      "Processing TT (Industrials - Building Products)...\n",
      "Error loading industry mapping for Industrials - Building Products: name 'importlib' is not defined\n",
      "Skipping TT - Could not load industry mapping.\n",
      "\n",
      "Processing TDG (Industrials - Aerospace & Defense)...\n",
      "Error loading industry mapping for Industrials - Aerospace & Defense: name 'importlib' is not defined\n",
      "Skipping TDG - Could not load industry mapping.\n",
      "\n",
      "Processing TRV (Financials - Property & Casualty Insurance)...\n",
      "Error loading industry mapping for Financials - Property & Casualty Insurance: name 'importlib' is not defined\n",
      "Skipping TRV - Could not load industry mapping.\n",
      "\n",
      "Processing TRMB (Information Technology - Electronic Equipment & Instruments)...\n",
      "Error loading industry mapping for Information Technology - Electronic Equipment & Instruments: name 'importlib' is not defined\n",
      "Skipping TRMB - Could not load industry mapping.\n",
      "\n",
      "Processing TFC (Financials - Diversified Banks)...\n",
      "Error loading industry mapping for Financials - Diversified Banks: name 'importlib' is not defined\n",
      "Skipping TFC - Could not load industry mapping.\n",
      "\n",
      "Processing TYL (Information Technology - Application Software)...\n",
      "Error loading industry mapping for Information Technology - Application Software: name 'importlib' is not defined\n",
      "Skipping TYL - Could not load industry mapping.\n",
      "\n",
      "Processing TSN (Consumer Staples - Packaged Foods & Meats)...\n",
      "Error loading industry mapping for Consumer Staples - Packaged Foods & Meats: name 'importlib' is not defined\n",
      "Skipping TSN - Could not load industry mapping.\n",
      "\n",
      "Processing USB (Financials - Diversified Banks)...\n",
      "Error loading industry mapping for Financials - Diversified Banks: name 'importlib' is not defined\n",
      "Skipping USB - Could not load industry mapping.\n",
      "\n",
      "Processing UBER (Industrials - Passenger Ground Transportation)...\n",
      "Error loading industry mapping for Industrials - Passenger Ground Transportation: name 'importlib' is not defined\n",
      "Skipping UBER - Could not load industry mapping.\n",
      "\n",
      "Processing UDR (Real Estate - Multi-Family Residential REITs)...\n",
      "Error loading industry mapping for Real Estate - Multi-Family Residential REITs: name 'importlib' is not defined\n",
      "Skipping UDR - Could not load industry mapping.\n",
      "\n",
      "Processing ULTA (Consumer Discretionary - Other Specialty Retail)...\n",
      "Error loading industry mapping for Consumer Discretionary - Other Specialty Retail: name 'importlib' is not defined\n",
      "Skipping ULTA - Could not load industry mapping.\n",
      "\n",
      "Processing UNP (Industrials - Rail Transportation)...\n",
      "Error loading industry mapping for Industrials - Rail Transportation: name 'importlib' is not defined\n",
      "Skipping UNP - Could not load industry mapping.\n",
      "\n",
      "Processing UAL (Industrials - Passenger Airlines)...\n",
      "Error loading industry mapping for Industrials - Passenger Airlines: name 'importlib' is not defined\n",
      "Skipping UAL - Could not load industry mapping.\n",
      "\n",
      "Processing UPS (Industrials - Air Freight & Logistics)...\n",
      "Error loading industry mapping for Industrials - Air Freight & Logistics: name 'importlib' is not defined\n",
      "Skipping UPS - Could not load industry mapping.\n",
      "\n",
      "Processing URI (Industrials - Trading Companies & Distributors)...\n",
      "Error loading industry mapping for Industrials - Trading Companies & Distributors: name 'importlib' is not defined\n",
      "Skipping URI - Could not load industry mapping.\n",
      "\n",
      "Processing UNH (Health Care - Managed Health Care)...\n",
      "Error loading industry mapping for Health Care - Managed Health Care: name 'importlib' is not defined\n",
      "Skipping UNH - Could not load industry mapping.\n",
      "\n",
      "Processing UHS (Health Care - Health Care Facilities)...\n",
      "Error loading industry mapping for Health Care - Health Care Facilities: name 'importlib' is not defined\n",
      "Skipping UHS - Could not load industry mapping.\n",
      "\n",
      "Processing VLO (Energy - Oil & Gas Refining & Marketing)...\n",
      "Error loading industry mapping for Energy - Oil & Gas Refining & Marketing: name 'importlib' is not defined\n",
      "Skipping VLO - Could not load industry mapping.\n",
      "\n",
      "Processing VTR (Real Estate - Health Care REITs)...\n",
      "Error loading industry mapping for Real Estate - Health Care REITs: name 'importlib' is not defined\n",
      "Skipping VTR - Could not load industry mapping.\n",
      "\n",
      "Processing VLTO (Industrials - Environmental & Facilities Services)...\n",
      "Error loading industry mapping for Industrials - Environmental & Facilities Services: name 'importlib' is not defined\n",
      "Skipping VLTO - Could not load industry mapping.\n",
      "\n",
      "Processing VRSN (Information Technology - Internet Services & Infrastructure)...\n",
      "Error loading industry mapping for Information Technology - Internet Services & Infrastructure: name 'importlib' is not defined\n",
      "Skipping VRSN - Could not load industry mapping.\n",
      "\n",
      "Processing VRSK (Industrials - Research & Consulting Services)...\n",
      "Error loading industry mapping for Industrials - Research & Consulting Services: name 'importlib' is not defined\n",
      "Skipping VRSK - Could not load industry mapping.\n",
      "\n",
      "Processing VZ (Communication Services - Integrated Telecommunication Services)...\n",
      "Error loading industry mapping for Communication Services - Integrated Telecommunication Services: name 'importlib' is not defined\n",
      "Skipping VZ - Could not load industry mapping.\n",
      "\n",
      "Processing VRTX (Health Care - Biotechnology)...\n",
      "Error loading industry mapping for Health Care - Biotechnology: name 'importlib' is not defined\n",
      "Skipping VRTX - Could not load industry mapping.\n",
      "\n",
      "Processing VTRS (Health Care - Pharmaceuticals)...\n",
      "Error loading industry mapping for Health Care - Pharmaceuticals: name 'importlib' is not defined\n",
      "Skipping VTRS - Could not load industry mapping.\n",
      "\n",
      "Processing VICI (Real Estate - Hotel & Resort REITs)...\n",
      "Error loading industry mapping for Real Estate - Hotel & Resort REITs: name 'importlib' is not defined\n",
      "Skipping VICI - Could not load industry mapping.\n",
      "\n",
      "Processing V (Financials - Transaction & Payment Processing Services)...\n",
      "Error loading industry mapping for Financials - Transaction & Payment Processing Services: name 'importlib' is not defined\n",
      "Skipping V - Could not load industry mapping.\n",
      "\n",
      "Processing VST (Utilities - Electric Utilities)...\n",
      "Error loading industry mapping for Utilities - Electric Utilities: name 'importlib' is not defined\n",
      "Skipping VST - Could not load industry mapping.\n",
      "\n",
      "Processing VMC (Materials - Construction Materials)...\n",
      "Error loading industry mapping for Materials - Construction Materials: name 'importlib' is not defined\n",
      "Skipping VMC - Could not load industry mapping.\n",
      "\n",
      "Processing WRB (Financials - Property & Casualty Insurance)...\n",
      "Error loading industry mapping for Financials - Property & Casualty Insurance: name 'importlib' is not defined\n",
      "Skipping WRB - Could not load industry mapping.\n",
      "\n",
      "Processing GWW (Industrials - Industrial Machinery & Supplies & Components)...\n",
      "Error loading industry mapping for Industrials - Industrial Machinery & Supplies & Components: name 'importlib' is not defined\n",
      "Skipping GWW - Could not load industry mapping.\n",
      "\n",
      "Processing WAB (Industrials - Construction Machinery & Heavy Transportation Equipment)...\n",
      "Error loading industry mapping for Industrials - Construction Machinery & Heavy Transportation Equipment: name 'importlib' is not defined\n",
      "Skipping WAB - Could not load industry mapping.\n",
      "\n",
      "Processing WBA (Consumer Staples - Drug Retail)...\n",
      "Error loading industry mapping for Consumer Staples - Drug Retail: name 'importlib' is not defined\n",
      "Skipping WBA - Could not load industry mapping.\n",
      "\n",
      "Processing WMT (Consumer Staples - Consumer Staples Merchandise Retail)...\n",
      "Error loading industry mapping for Consumer Staples - Consumer Staples Merchandise Retail: name 'importlib' is not defined\n",
      "Skipping WMT - Could not load industry mapping.\n",
      "\n",
      "Processing DIS (Communication Services - Movies & Entertainment)...\n",
      "Error loading industry mapping for Communication Services - Movies & Entertainment: name 'importlib' is not defined\n",
      "Skipping DIS - Could not load industry mapping.\n",
      "\n",
      "Processing WBD (Communication Services - Broadcasting)...\n",
      "Error loading industry mapping for Communication Services - Broadcasting: name 'importlib' is not defined\n",
      "Skipping WBD - Could not load industry mapping.\n",
      "\n",
      "Processing WM (Industrials - Environmental & Facilities Services)...\n",
      "Error loading industry mapping for Industrials - Environmental & Facilities Services: name 'importlib' is not defined\n",
      "Skipping WM - Could not load industry mapping.\n",
      "\n",
      "Processing WAT (Health Care - Life Sciences Tools & Services)...\n",
      "Error loading industry mapping for Health Care - Life Sciences Tools & Services: name 'importlib' is not defined\n",
      "Skipping WAT - Could not load industry mapping.\n",
      "\n",
      "Processing WEC (Utilities - Electric Utilities)...\n",
      "Error loading industry mapping for Utilities - Electric Utilities: name 'importlib' is not defined\n",
      "Skipping WEC - Could not load industry mapping.\n",
      "\n",
      "Processing WFC (Financials - Diversified Banks)...\n",
      "Error loading industry mapping for Financials - Diversified Banks: name 'importlib' is not defined\n",
      "Skipping WFC - Could not load industry mapping.\n",
      "\n",
      "Processing WELL (Real Estate - Health Care REITs)...\n",
      "Error loading industry mapping for Real Estate - Health Care REITs: name 'importlib' is not defined\n",
      "Skipping WELL - Could not load industry mapping.\n",
      "\n",
      "Processing WST (Health Care - Health Care Supplies)...\n",
      "Error loading industry mapping for Health Care - Health Care Supplies: name 'importlib' is not defined\n",
      "Skipping WST - Could not load industry mapping.\n",
      "\n",
      "Processing WDC (Information Technology - Technology Hardware, Storage & Peripherals)...\n",
      "Error loading industry mapping for Information Technology - Technology Hardware, Storage & Peripherals: name 'importlib' is not defined\n",
      "Skipping WDC - Could not load industry mapping.\n",
      "\n",
      "Processing WY (Real Estate - Timber REITs)...\n",
      "Error loading industry mapping for Real Estate - Timber REITs: name 'importlib' is not defined\n",
      "Skipping WY - Could not load industry mapping.\n",
      "\n",
      "Processing WMB (Energy - Oil & Gas Storage & Transportation)...\n",
      "Error loading industry mapping for Energy - Oil & Gas Storage & Transportation: name 'importlib' is not defined\n",
      "Skipping WMB - Could not load industry mapping.\n",
      "\n",
      "Processing WTW (Financials - Insurance Brokers)...\n",
      "Error loading industry mapping for Financials - Insurance Brokers: name 'importlib' is not defined\n",
      "Skipping WTW - Could not load industry mapping.\n",
      "\n",
      "Processing WDAY (Information Technology - Application Software)...\n",
      "Error loading industry mapping for Information Technology - Application Software: name 'importlib' is not defined\n",
      "Skipping WDAY - Could not load industry mapping.\n",
      "\n",
      "Processing WYNN (Consumer Discretionary - Casinos & Gaming)...\n",
      "Error loading industry mapping for Consumer Discretionary - Casinos & Gaming: name 'importlib' is not defined\n",
      "Skipping WYNN - Could not load industry mapping.\n",
      "\n",
      "Processing XEL (Utilities - Multi-Utilities)...\n",
      "Error loading industry mapping for Utilities - Multi-Utilities: name 'importlib' is not defined\n",
      "Skipping XEL - Could not load industry mapping.\n",
      "\n",
      "Processing XYL (Industrials - Industrial Machinery & Supplies & Components)...\n",
      "Error loading industry mapping for Industrials - Industrial Machinery & Supplies & Components: name 'importlib' is not defined\n",
      "Skipping XYL - Could not load industry mapping.\n",
      "\n",
      "Processing YUM (Consumer Discretionary - Restaurants)...\n",
      "Error loading industry mapping for Consumer Discretionary - Restaurants: name 'importlib' is not defined\n",
      "Skipping YUM - Could not load industry mapping.\n",
      "\n",
      "Processing ZBRA (Information Technology - Electronic Equipment & Instruments)...\n",
      "Error loading industry mapping for Information Technology - Electronic Equipment & Instruments: name 'importlib' is not defined\n",
      "Skipping ZBRA - Could not load industry mapping.\n",
      "\n",
      "Processing ZBH (Health Care - Health Care Equipment)...\n",
      "Error loading industry mapping for Health Care - Health Care Equipment: name 'importlib' is not defined\n",
      "Skipping ZBH - Could not load industry mapping.\n",
      "\n",
      "Processing ZTS (Health Care - Pharmaceuticals)...\n",
      "Error loading industry mapping for Health Care - Pharmaceuticals: name 'importlib' is not defined\n",
      "Skipping ZTS - Could not load industry mapping.\n",
      "\n",
      "Debug information saved to: /Users/maseehfaizan/Desktop/Maseeh/Projects/Hybrid_Pricer/data/financial_statement/mapping_debug_results.json\n"
     ]
    },
    {
     "data": {
      "text/plain": [
       "{'processed_successfully': [],\n",
       " 'failed_processing': [{'ticker': 'MMM',\n",
       "   'sector': 'Industrials',\n",
       "   'sub_industry': 'Industrial Conglomerates',\n",
       "   'reason': 'Mapping load failure'},\n",
       "  {'ticker': 'AOS',\n",
       "   'sector': 'Industrials',\n",
       "   'sub_industry': 'Building Products',\n",
       "   'reason': 'Mapping load failure'},\n",
       "  {'ticker': 'ABT',\n",
       "   'sector': 'Health Care',\n",
       "   'sub_industry': 'Health Care Equipment',\n",
       "   'reason': 'Mapping load failure'},\n",
       "  {'ticker': 'ABBV',\n",
       "   'sector': 'Health Care',\n",
       "   'sub_industry': 'Biotechnology',\n",
       "   'reason': 'Mapping load failure'},\n",
       "  {'ticker': 'ACN',\n",
       "   'sector': 'Information Technology',\n",
       "   'sub_industry': 'IT Consulting & Other Services',\n",
       "   'reason': 'Mapping load failure'},\n",
       "  {'ticker': 'ADBE',\n",
       "   'sector': 'Information Technology',\n",
       "   'sub_industry': 'Application Software',\n",
       "   'reason': 'Mapping load failure'},\n",
       "  {'ticker': 'AMD',\n",
       "   'sector': 'Information Technology',\n",
       "   'sub_industry': 'Semiconductors',\n",
       "   'reason': 'Mapping load failure'},\n",
       "  {'ticker': 'AES',\n",
       "   'sector': 'Utilities',\n",
       "   'sub_industry': 'Independent Power Producers & Energy Traders',\n",
       "   'reason': 'Mapping load failure'},\n",
       "  {'ticker': 'AFL',\n",
       "   'sector': 'Financials',\n",
       "   'sub_industry': 'Life & Health Insurance',\n",
       "   'reason': 'Mapping load failure'},\n",
       "  {'ticker': 'A',\n",
       "   'sector': 'Health Care',\n",
       "   'sub_industry': 'Life Sciences Tools & Services',\n",
       "   'reason': 'Mapping load failure'},\n",
       "  {'ticker': 'APD',\n",
       "   'sector': 'Materials',\n",
       "   'sub_industry': 'Industrial Gases',\n",
       "   'reason': 'Mapping load failure'},\n",
       "  {'ticker': 'ABNB',\n",
       "   'sector': 'Consumer Discretionary',\n",
       "   'sub_industry': 'Hotels, Resorts & Cruise Lines',\n",
       "   'reason': 'Mapping load failure'},\n",
       "  {'ticker': 'AKAM',\n",
       "   'sector': 'Information Technology',\n",
       "   'sub_industry': 'Internet Services & Infrastructure',\n",
       "   'reason': 'Mapping load failure'},\n",
       "  {'ticker': 'ALB',\n",
       "   'sector': 'Materials',\n",
       "   'sub_industry': 'Specialty Chemicals',\n",
       "   'reason': 'Mapping load failure'},\n",
       "  {'ticker': 'ARE',\n",
       "   'sector': 'Real Estate',\n",
       "   'sub_industry': 'Office REITs',\n",
       "   'reason': 'Mapping load failure'},\n",
       "  {'ticker': 'ALGN',\n",
       "   'sector': 'Health Care',\n",
       "   'sub_industry': 'Health Care Supplies',\n",
       "   'reason': 'Mapping load failure'},\n",
       "  {'ticker': 'ALLE',\n",
       "   'sector': 'Industrials',\n",
       "   'sub_industry': 'Building Products',\n",
       "   'reason': 'Mapping load failure'},\n",
       "  {'ticker': 'LNT',\n",
       "   'sector': 'Utilities',\n",
       "   'sub_industry': 'Electric Utilities',\n",
       "   'reason': 'Mapping load failure'},\n",
       "  {'ticker': 'ALL',\n",
       "   'sector': 'Financials',\n",
       "   'sub_industry': 'Property & Casualty Insurance',\n",
       "   'reason': 'Mapping load failure'},\n",
       "  {'ticker': 'GOOGL',\n",
       "   'sector': 'Communication Services',\n",
       "   'sub_industry': 'Interactive Media & Services',\n",
       "   'reason': 'Mapping load failure'},\n",
       "  {'ticker': 'GOOG',\n",
       "   'sector': 'Communication Services',\n",
       "   'sub_industry': 'Interactive Media & Services',\n",
       "   'reason': 'Mapping load failure'},\n",
       "  {'ticker': 'MO',\n",
       "   'sector': 'Consumer Staples',\n",
       "   'sub_industry': 'Tobacco',\n",
       "   'reason': 'Mapping load failure'},\n",
       "  {'ticker': 'AMZN',\n",
       "   'sector': 'Consumer Discretionary',\n",
       "   'sub_industry': 'Broadline Retail',\n",
       "   'reason': 'Mapping load failure'},\n",
       "  {'ticker': 'AMCR',\n",
       "   'sector': 'Materials',\n",
       "   'sub_industry': 'Paper & Plastic Packaging Products & Materials',\n",
       "   'reason': 'Mapping load failure'},\n",
       "  {'ticker': 'AEE',\n",
       "   'sector': 'Utilities',\n",
       "   'sub_industry': 'Multi-Utilities',\n",
       "   'reason': 'Mapping load failure'},\n",
       "  {'ticker': 'AEP',\n",
       "   'sector': 'Utilities',\n",
       "   'sub_industry': 'Electric Utilities',\n",
       "   'reason': 'Mapping load failure'},\n",
       "  {'ticker': 'AXP',\n",
       "   'sector': 'Financials',\n",
       "   'sub_industry': 'Consumer Finance',\n",
       "   'reason': 'Mapping load failure'},\n",
       "  {'ticker': 'AIG',\n",
       "   'sector': 'Financials',\n",
       "   'sub_industry': 'Multi-line Insurance',\n",
       "   'reason': 'Mapping load failure'},\n",
       "  {'ticker': 'AMT',\n",
       "   'sector': 'Real Estate',\n",
       "   'sub_industry': 'Telecom Tower REITs',\n",
       "   'reason': 'Mapping load failure'},\n",
       "  {'ticker': 'AWK',\n",
       "   'sector': 'Utilities',\n",
       "   'sub_industry': 'Water Utilities',\n",
       "   'reason': 'Mapping load failure'},\n",
       "  {'ticker': 'AMP',\n",
       "   'sector': 'Financials',\n",
       "   'sub_industry': 'Asset Management & Custody Banks',\n",
       "   'reason': 'Mapping load failure'},\n",
       "  {'ticker': 'AME',\n",
       "   'sector': 'Industrials',\n",
       "   'sub_industry': 'Electrical Components & Equipment',\n",
       "   'reason': 'Mapping load failure'},\n",
       "  {'ticker': 'AMGN',\n",
       "   'sector': 'Health Care',\n",
       "   'sub_industry': 'Biotechnology',\n",
       "   'reason': 'Mapping load failure'},\n",
       "  {'ticker': 'APH',\n",
       "   'sector': 'Information Technology',\n",
       "   'sub_industry': 'Electronic Components',\n",
       "   'reason': 'Mapping load failure'},\n",
       "  {'ticker': 'ADI',\n",
       "   'sector': 'Information Technology',\n",
       "   'sub_industry': 'Semiconductors',\n",
       "   'reason': 'Mapping load failure'},\n",
       "  {'ticker': 'ANSS',\n",
       "   'sector': 'Information Technology',\n",
       "   'sub_industry': 'Application Software',\n",
       "   'reason': 'Mapping load failure'},\n",
       "  {'ticker': 'AON',\n",
       "   'sector': 'Financials',\n",
       "   'sub_industry': 'Insurance Brokers',\n",
       "   'reason': 'Mapping load failure'},\n",
       "  {'ticker': 'APA',\n",
       "   'sector': 'Energy',\n",
       "   'sub_industry': 'Oil & Gas Exploration & Production',\n",
       "   'reason': 'Mapping load failure'},\n",
       "  {'ticker': 'APO',\n",
       "   'sector': 'Financials',\n",
       "   'sub_industry': 'Asset Management & Custody Banks',\n",
       "   'reason': 'Mapping load failure'},\n",
       "  {'ticker': 'AAPL',\n",
       "   'sector': 'Information Technology',\n",
       "   'sub_industry': 'Technology Hardware, Storage & Peripherals',\n",
       "   'reason': 'Mapping load failure'},\n",
       "  {'ticker': 'AMAT',\n",
       "   'sector': 'Information Technology',\n",
       "   'sub_industry': 'Semiconductor Materials & Equipment',\n",
       "   'reason': 'Mapping load failure'},\n",
       "  {'ticker': 'APTV',\n",
       "   'sector': 'Consumer Discretionary',\n",
       "   'sub_industry': 'Automotive Parts & Equipment',\n",
       "   'reason': 'Mapping load failure'},\n",
       "  {'ticker': 'ACGL',\n",
       "   'sector': 'Financials',\n",
       "   'sub_industry': 'Property & Casualty Insurance',\n",
       "   'reason': 'Mapping load failure'},\n",
       "  {'ticker': 'ADM',\n",
       "   'sector': 'Consumer Staples',\n",
       "   'sub_industry': 'Agricultural Products & Services',\n",
       "   'reason': 'Mapping load failure'},\n",
       "  {'ticker': 'ANET',\n",
       "   'sector': 'Information Technology',\n",
       "   'sub_industry': 'Communications Equipment',\n",
       "   'reason': 'Mapping load failure'},\n",
       "  {'ticker': 'AJG',\n",
       "   'sector': 'Financials',\n",
       "   'sub_industry': 'Insurance Brokers',\n",
       "   'reason': 'Mapping load failure'},\n",
       "  {'ticker': 'AIZ',\n",
       "   'sector': 'Financials',\n",
       "   'sub_industry': 'Multi-line Insurance',\n",
       "   'reason': 'Mapping load failure'},\n",
       "  {'ticker': 'T',\n",
       "   'sector': 'Communication Services',\n",
       "   'sub_industry': 'Integrated Telecommunication Services',\n",
       "   'reason': 'Mapping load failure'},\n",
       "  {'ticker': 'ATO',\n",
       "   'sector': 'Utilities',\n",
       "   'sub_industry': 'Gas Utilities',\n",
       "   'reason': 'Mapping load failure'},\n",
       "  {'ticker': 'ADSK',\n",
       "   'sector': 'Information Technology',\n",
       "   'sub_industry': 'Application Software',\n",
       "   'reason': 'Mapping load failure'},\n",
       "  {'ticker': 'ADP',\n",
       "   'sector': 'Industrials',\n",
       "   'sub_industry': 'Human Resource & Employment Services',\n",
       "   'reason': 'Mapping load failure'},\n",
       "  {'ticker': 'AZO',\n",
       "   'sector': 'Consumer Discretionary',\n",
       "   'sub_industry': 'Automotive Retail',\n",
       "   'reason': 'Mapping load failure'},\n",
       "  {'ticker': 'AVB',\n",
       "   'sector': 'Real Estate',\n",
       "   'sub_industry': 'Multi-Family Residential REITs',\n",
       "   'reason': 'Mapping load failure'},\n",
       "  {'ticker': 'AVY',\n",
       "   'sector': 'Materials',\n",
       "   'sub_industry': 'Paper & Plastic Packaging Products & Materials',\n",
       "   'reason': 'Mapping load failure'},\n",
       "  {'ticker': 'AXON',\n",
       "   'sector': 'Industrials',\n",
       "   'sub_industry': 'Aerospace & Defense',\n",
       "   'reason': 'Mapping load failure'},\n",
       "  {'ticker': 'BKR',\n",
       "   'sector': 'Energy',\n",
       "   'sub_industry': 'Oil & Gas Equipment & Services',\n",
       "   'reason': 'Mapping load failure'},\n",
       "  {'ticker': 'BALL',\n",
       "   'sector': 'Materials',\n",
       "   'sub_industry': 'Metal, Glass & Plastic Containers',\n",
       "   'reason': 'Mapping load failure'},\n",
       "  {'ticker': 'BAC',\n",
       "   'sector': 'Financials',\n",
       "   'sub_industry': 'Diversified Banks',\n",
       "   'reason': 'Mapping load failure'},\n",
       "  {'ticker': 'BAX',\n",
       "   'sector': 'Health Care',\n",
       "   'sub_industry': 'Health Care Equipment',\n",
       "   'reason': 'Mapping load failure'},\n",
       "  {'ticker': 'BDX',\n",
       "   'sector': 'Health Care',\n",
       "   'sub_industry': 'Health Care Equipment',\n",
       "   'reason': 'Mapping load failure'},\n",
       "  {'ticker': 'BRK.B',\n",
       "   'sector': 'Financials',\n",
       "   'sub_industry': 'Multi-Sector Holdings',\n",
       "   'reason': 'Data load failure'},\n",
       "  {'ticker': 'BBY',\n",
       "   'sector': 'Consumer Discretionary',\n",
       "   'sub_industry': 'Computer & Electronics Retail',\n",
       "   'reason': 'Mapping load failure'},\n",
       "  {'ticker': 'TECH',\n",
       "   'sector': 'Health Care',\n",
       "   'sub_industry': 'Life Sciences Tools & Services',\n",
       "   'reason': 'Mapping load failure'},\n",
       "  {'ticker': 'BIIB',\n",
       "   'sector': 'Health Care',\n",
       "   'sub_industry': 'Biotechnology',\n",
       "   'reason': 'Mapping load failure'},\n",
       "  {'ticker': 'BLK',\n",
       "   'sector': 'Financials',\n",
       "   'sub_industry': 'Asset Management & Custody Banks',\n",
       "   'reason': 'Mapping load failure'},\n",
       "  {'ticker': 'BX',\n",
       "   'sector': 'Financials',\n",
       "   'sub_industry': 'Asset Management & Custody Banks',\n",
       "   'reason': 'Mapping load failure'},\n",
       "  {'ticker': 'BK',\n",
       "   'sector': 'Financials',\n",
       "   'sub_industry': 'Asset Management & Custody Banks',\n",
       "   'reason': 'Mapping load failure'},\n",
       "  {'ticker': 'BA',\n",
       "   'sector': 'Industrials',\n",
       "   'sub_industry': 'Aerospace & Defense',\n",
       "   'reason': 'Mapping load failure'},\n",
       "  {'ticker': 'BKNG',\n",
       "   'sector': 'Consumer Discretionary',\n",
       "   'sub_industry': 'Hotels, Resorts & Cruise Lines',\n",
       "   'reason': 'Mapping load failure'},\n",
       "  {'ticker': 'BWA',\n",
       "   'sector': 'Consumer Discretionary',\n",
       "   'sub_industry': 'Automotive Parts & Equipment',\n",
       "   'reason': 'Mapping load failure'},\n",
       "  {'ticker': 'BSX',\n",
       "   'sector': 'Health Care',\n",
       "   'sub_industry': 'Health Care Equipment',\n",
       "   'reason': 'Mapping load failure'},\n",
       "  {'ticker': 'BMY',\n",
       "   'sector': 'Health Care',\n",
       "   'sub_industry': 'Pharmaceuticals',\n",
       "   'reason': 'Mapping load failure'},\n",
       "  {'ticker': 'AVGO',\n",
       "   'sector': 'Information Technology',\n",
       "   'sub_industry': 'Semiconductors',\n",
       "   'reason': 'Mapping load failure'},\n",
       "  {'ticker': 'BR',\n",
       "   'sector': 'Industrials',\n",
       "   'sub_industry': 'Data Processing & Outsourced Services',\n",
       "   'reason': 'Mapping load failure'},\n",
       "  {'ticker': 'BRO',\n",
       "   'sector': 'Financials',\n",
       "   'sub_industry': 'Insurance Brokers',\n",
       "   'reason': 'Mapping load failure'},\n",
       "  {'ticker': 'BF.B',\n",
       "   'sector': 'Consumer Staples',\n",
       "   'sub_industry': 'Distillers & Vintners',\n",
       "   'reason': 'Data load failure'},\n",
       "  {'ticker': 'BLDR',\n",
       "   'sector': 'Industrials',\n",
       "   'sub_industry': 'Building Products',\n",
       "   'reason': 'Mapping load failure'},\n",
       "  {'ticker': 'BG',\n",
       "   'sector': 'Consumer Staples',\n",
       "   'sub_industry': 'Agricultural Products & Services',\n",
       "   'reason': 'Mapping load failure'},\n",
       "  {'ticker': 'BXP',\n",
       "   'sector': 'Real Estate',\n",
       "   'sub_industry': 'Office REITs',\n",
       "   'reason': 'Mapping load failure'},\n",
       "  {'ticker': 'CHRW',\n",
       "   'sector': 'Industrials',\n",
       "   'sub_industry': 'Air Freight & Logistics',\n",
       "   'reason': 'Mapping load failure'},\n",
       "  {'ticker': 'CDNS',\n",
       "   'sector': 'Information Technology',\n",
       "   'sub_industry': 'Application Software',\n",
       "   'reason': 'Mapping load failure'},\n",
       "  {'ticker': 'CZR',\n",
       "   'sector': 'Consumer Discretionary',\n",
       "   'sub_industry': 'Casinos & Gaming',\n",
       "   'reason': 'Mapping load failure'},\n",
       "  {'ticker': 'CPT',\n",
       "   'sector': 'Real Estate',\n",
       "   'sub_industry': 'Multi-Family Residential REITs',\n",
       "   'reason': 'Mapping load failure'},\n",
       "  {'ticker': 'CPB',\n",
       "   'sector': 'Consumer Staples',\n",
       "   'sub_industry': 'Packaged Foods & Meats',\n",
       "   'reason': 'Mapping load failure'},\n",
       "  {'ticker': 'COF',\n",
       "   'sector': 'Financials',\n",
       "   'sub_industry': 'Consumer Finance',\n",
       "   'reason': 'Mapping load failure'},\n",
       "  {'ticker': 'CAH',\n",
       "   'sector': 'Health Care',\n",
       "   'sub_industry': 'Health Care Distributors',\n",
       "   'reason': 'Mapping load failure'},\n",
       "  {'ticker': 'KMX',\n",
       "   'sector': 'Consumer Discretionary',\n",
       "   'sub_industry': 'Automotive Retail',\n",
       "   'reason': 'Mapping load failure'},\n",
       "  {'ticker': 'CCL',\n",
       "   'sector': 'Consumer Discretionary',\n",
       "   'sub_industry': 'Hotels, Resorts & Cruise Lines',\n",
       "   'reason': 'Mapping load failure'},\n",
       "  {'ticker': 'CARR',\n",
       "   'sector': 'Industrials',\n",
       "   'sub_industry': 'Building Products',\n",
       "   'reason': 'Mapping load failure'},\n",
       "  {'ticker': 'CAT',\n",
       "   'sector': 'Industrials',\n",
       "   'sub_industry': 'Construction Machinery & Heavy Transportation Equipment',\n",
       "   'reason': 'Mapping load failure'},\n",
       "  {'ticker': 'CBOE',\n",
       "   'sector': 'Financials',\n",
       "   'sub_industry': 'Financial Exchanges & Data',\n",
       "   'reason': 'Mapping load failure'},\n",
       "  {'ticker': 'CBRE',\n",
       "   'sector': 'Real Estate',\n",
       "   'sub_industry': 'Real Estate Services',\n",
       "   'reason': 'Mapping load failure'},\n",
       "  {'ticker': 'CDW',\n",
       "   'sector': 'Information Technology',\n",
       "   'sub_industry': 'Technology Distributors',\n",
       "   'reason': 'Mapping load failure'},\n",
       "  {'ticker': 'CE',\n",
       "   'sector': 'Materials',\n",
       "   'sub_industry': 'Specialty Chemicals',\n",
       "   'reason': 'Mapping load failure'},\n",
       "  {'ticker': 'COR',\n",
       "   'sector': 'Health Care',\n",
       "   'sub_industry': 'Health Care Distributors',\n",
       "   'reason': 'Mapping load failure'},\n",
       "  {'ticker': 'CNC',\n",
       "   'sector': 'Health Care',\n",
       "   'sub_industry': 'Managed Health Care',\n",
       "   'reason': 'Mapping load failure'},\n",
       "  {'ticker': 'CNP',\n",
       "   'sector': 'Utilities',\n",
       "   'sub_industry': 'Multi-Utilities',\n",
       "   'reason': 'Mapping load failure'},\n",
       "  {'ticker': 'CF',\n",
       "   'sector': 'Materials',\n",
       "   'sub_industry': 'Fertilizers & Agricultural Chemicals',\n",
       "   'reason': 'Mapping load failure'},\n",
       "  {'ticker': 'CRL',\n",
       "   'sector': 'Health Care',\n",
       "   'sub_industry': 'Life Sciences Tools & Services',\n",
       "   'reason': 'Mapping load failure'},\n",
       "  {'ticker': 'SCHW',\n",
       "   'sector': 'Financials',\n",
       "   'sub_industry': 'Investment Banking & Brokerage',\n",
       "   'reason': 'Mapping load failure'},\n",
       "  {'ticker': 'CHTR',\n",
       "   'sector': 'Communication Services',\n",
       "   'sub_industry': 'Cable & Satellite',\n",
       "   'reason': 'Mapping load failure'},\n",
       "  {'ticker': 'CVX',\n",
       "   'sector': 'Energy',\n",
       "   'sub_industry': 'Integrated Oil & Gas',\n",
       "   'reason': 'Mapping load failure'},\n",
       "  {'ticker': 'CMG',\n",
       "   'sector': 'Consumer Discretionary',\n",
       "   'sub_industry': 'Restaurants',\n",
       "   'reason': 'Mapping load failure'},\n",
       "  {'ticker': 'CB',\n",
       "   'sector': 'Financials',\n",
       "   'sub_industry': 'Property & Casualty Insurance',\n",
       "   'reason': 'Mapping load failure'},\n",
       "  {'ticker': 'CHD',\n",
       "   'sector': 'Consumer Staples',\n",
       "   'sub_industry': 'Household Products',\n",
       "   'reason': 'Mapping load failure'},\n",
       "  {'ticker': 'CI',\n",
       "   'sector': 'Health Care',\n",
       "   'sub_industry': 'Health Care Services',\n",
       "   'reason': 'Mapping load failure'},\n",
       "  {'ticker': 'CINF',\n",
       "   'sector': 'Financials',\n",
       "   'sub_industry': 'Property & Casualty Insurance',\n",
       "   'reason': 'Mapping load failure'},\n",
       "  {'ticker': 'CTAS',\n",
       "   'sector': 'Industrials',\n",
       "   'sub_industry': 'Diversified Support Services',\n",
       "   'reason': 'Mapping load failure'},\n",
       "  {'ticker': 'CSCO',\n",
       "   'sector': 'Information Technology',\n",
       "   'sub_industry': 'Communications Equipment',\n",
       "   'reason': 'Mapping load failure'},\n",
       "  {'ticker': 'C',\n",
       "   'sector': 'Financials',\n",
       "   'sub_industry': 'Diversified Banks',\n",
       "   'reason': 'Mapping load failure'},\n",
       "  {'ticker': 'CFG',\n",
       "   'sector': 'Financials',\n",
       "   'sub_industry': 'Regional Banks',\n",
       "   'reason': 'Mapping load failure'},\n",
       "  {'ticker': 'CLX',\n",
       "   'sector': 'Consumer Staples',\n",
       "   'sub_industry': 'Household Products',\n",
       "   'reason': 'Mapping load failure'},\n",
       "  {'ticker': 'CME',\n",
       "   'sector': 'Financials',\n",
       "   'sub_industry': 'Financial Exchanges & Data',\n",
       "   'reason': 'Mapping load failure'},\n",
       "  {'ticker': 'CMS',\n",
       "   'sector': 'Utilities',\n",
       "   'sub_industry': 'Multi-Utilities',\n",
       "   'reason': 'Mapping load failure'},\n",
       "  {'ticker': 'KO',\n",
       "   'sector': 'Consumer Staples',\n",
       "   'sub_industry': 'Soft Drinks & Non-alcoholic Beverages',\n",
       "   'reason': 'Mapping load failure'},\n",
       "  {'ticker': 'CTSH',\n",
       "   'sector': 'Information Technology',\n",
       "   'sub_industry': 'IT Consulting & Other Services',\n",
       "   'reason': 'Mapping load failure'},\n",
       "  {'ticker': 'CL',\n",
       "   'sector': 'Consumer Staples',\n",
       "   'sub_industry': 'Household Products',\n",
       "   'reason': 'Mapping load failure'},\n",
       "  {'ticker': 'CMCSA',\n",
       "   'sector': 'Communication Services',\n",
       "   'sub_industry': 'Cable & Satellite',\n",
       "   'reason': 'Mapping load failure'},\n",
       "  {'ticker': 'CAG',\n",
       "   'sector': 'Consumer Staples',\n",
       "   'sub_industry': 'Packaged Foods & Meats',\n",
       "   'reason': 'Mapping load failure'},\n",
       "  {'ticker': 'COP',\n",
       "   'sector': 'Energy',\n",
       "   'sub_industry': 'Oil & Gas Exploration & Production',\n",
       "   'reason': 'Mapping load failure'},\n",
       "  {'ticker': 'ED',\n",
       "   'sector': 'Utilities',\n",
       "   'sub_industry': 'Multi-Utilities',\n",
       "   'reason': 'Mapping load failure'},\n",
       "  {'ticker': 'STZ',\n",
       "   'sector': 'Consumer Staples',\n",
       "   'sub_industry': 'Distillers & Vintners',\n",
       "   'reason': 'Mapping load failure'},\n",
       "  {'ticker': 'CEG',\n",
       "   'sector': 'Utilities',\n",
       "   'sub_industry': 'Electric Utilities',\n",
       "   'reason': 'Mapping load failure'},\n",
       "  {'ticker': 'COO',\n",
       "   'sector': 'Health Care',\n",
       "   'sub_industry': 'Health Care Supplies',\n",
       "   'reason': 'Mapping load failure'},\n",
       "  {'ticker': 'CPRT',\n",
       "   'sector': 'Industrials',\n",
       "   'sub_industry': 'Diversified Support Services',\n",
       "   'reason': 'Mapping load failure'},\n",
       "  {'ticker': 'GLW',\n",
       "   'sector': 'Information Technology',\n",
       "   'sub_industry': 'Electronic Components',\n",
       "   'reason': 'Mapping load failure'},\n",
       "  {'ticker': 'CPAY',\n",
       "   'sector': 'Financials',\n",
       "   'sub_industry': 'Transaction & Payment Processing Services',\n",
       "   'reason': 'Mapping load failure'},\n",
       "  {'ticker': 'CTVA',\n",
       "   'sector': 'Materials',\n",
       "   'sub_industry': 'Fertilizers & Agricultural Chemicals',\n",
       "   'reason': 'Mapping load failure'},\n",
       "  {'ticker': 'CSGP',\n",
       "   'sector': 'Real Estate',\n",
       "   'sub_industry': 'Real Estate Services',\n",
       "   'reason': 'Mapping load failure'},\n",
       "  {'ticker': 'COST',\n",
       "   'sector': 'Consumer Staples',\n",
       "   'sub_industry': 'Consumer Staples Merchandise Retail',\n",
       "   'reason': 'Mapping load failure'},\n",
       "  {'ticker': 'CTRA',\n",
       "   'sector': 'Energy',\n",
       "   'sub_industry': 'Oil & Gas Exploration & Production',\n",
       "   'reason': 'Mapping load failure'},\n",
       "  {'ticker': 'CRWD',\n",
       "   'sector': 'Information Technology',\n",
       "   'sub_industry': 'Systems Software',\n",
       "   'reason': 'Mapping load failure'},\n",
       "  {'ticker': 'CCI',\n",
       "   'sector': 'Real Estate',\n",
       "   'sub_industry': 'Telecom Tower REITs',\n",
       "   'reason': 'Mapping load failure'},\n",
       "  {'ticker': 'CSX',\n",
       "   'sector': 'Industrials',\n",
       "   'sub_industry': 'Rail Transportation',\n",
       "   'reason': 'Mapping load failure'},\n",
       "  {'ticker': 'CMI',\n",
       "   'sector': 'Industrials',\n",
       "   'sub_industry': 'Construction Machinery & Heavy Transportation Equipment',\n",
       "   'reason': 'Mapping load failure'},\n",
       "  {'ticker': 'CVS',\n",
       "   'sector': 'Health Care',\n",
       "   'sub_industry': 'Health Care Services',\n",
       "   'reason': 'Mapping load failure'},\n",
       "  {'ticker': 'DHR',\n",
       "   'sector': 'Health Care',\n",
       "   'sub_industry': 'Life Sciences Tools & Services',\n",
       "   'reason': 'Mapping load failure'},\n",
       "  {'ticker': 'DRI',\n",
       "   'sector': 'Consumer Discretionary',\n",
       "   'sub_industry': 'Restaurants',\n",
       "   'reason': 'Mapping load failure'},\n",
       "  {'ticker': 'DVA',\n",
       "   'sector': 'Health Care',\n",
       "   'sub_industry': 'Health Care Services',\n",
       "   'reason': 'Mapping load failure'},\n",
       "  {'ticker': 'DAY',\n",
       "   'sector': 'Industrials',\n",
       "   'sub_industry': 'Human Resource & Employment Services',\n",
       "   'reason': 'Mapping load failure'},\n",
       "  {'ticker': 'DECK',\n",
       "   'sector': 'Consumer Discretionary',\n",
       "   'sub_industry': 'Footwear',\n",
       "   'reason': 'Mapping load failure'},\n",
       "  {'ticker': 'DE',\n",
       "   'sector': 'Industrials',\n",
       "   'sub_industry': 'Agricultural & Farm Machinery',\n",
       "   'reason': 'Mapping load failure'},\n",
       "  {'ticker': 'DELL',\n",
       "   'sector': 'Information Technology',\n",
       "   'sub_industry': 'Technology Hardware, Storage & Peripherals',\n",
       "   'reason': 'Mapping load failure'},\n",
       "  {'ticker': 'DAL',\n",
       "   'sector': 'Industrials',\n",
       "   'sub_industry': 'Passenger Airlines',\n",
       "   'reason': 'Mapping load failure'},\n",
       "  {'ticker': 'DVN',\n",
       "   'sector': 'Energy',\n",
       "   'sub_industry': 'Oil & Gas Exploration & Production',\n",
       "   'reason': 'Mapping load failure'},\n",
       "  {'ticker': 'DXCM',\n",
       "   'sector': 'Health Care',\n",
       "   'sub_industry': 'Health Care Equipment',\n",
       "   'reason': 'Mapping load failure'},\n",
       "  {'ticker': 'FANG',\n",
       "   'sector': 'Energy',\n",
       "   'sub_industry': 'Oil & Gas Exploration & Production',\n",
       "   'reason': 'Mapping load failure'},\n",
       "  {'ticker': 'DLR',\n",
       "   'sector': 'Real Estate',\n",
       "   'sub_industry': 'Data Center REITs',\n",
       "   'reason': 'Mapping load failure'},\n",
       "  {'ticker': 'DFS',\n",
       "   'sector': 'Financials',\n",
       "   'sub_industry': 'Consumer Finance',\n",
       "   'reason': 'Mapping load failure'},\n",
       "  {'ticker': 'DG',\n",
       "   'sector': 'Consumer Staples',\n",
       "   'sub_industry': 'Consumer Staples Merchandise Retail',\n",
       "   'reason': 'Mapping load failure'},\n",
       "  {'ticker': 'DLTR',\n",
       "   'sector': 'Consumer Staples',\n",
       "   'sub_industry': 'Consumer Staples Merchandise Retail',\n",
       "   'reason': 'Mapping load failure'},\n",
       "  {'ticker': 'D',\n",
       "   'sector': 'Utilities',\n",
       "   'sub_industry': 'Multi-Utilities',\n",
       "   'reason': 'Mapping load failure'},\n",
       "  {'ticker': 'DPZ',\n",
       "   'sector': 'Consumer Discretionary',\n",
       "   'sub_industry': 'Restaurants',\n",
       "   'reason': 'Mapping load failure'},\n",
       "  {'ticker': 'DOV',\n",
       "   'sector': 'Industrials',\n",
       "   'sub_industry': 'Industrial Machinery & Supplies & Components',\n",
       "   'reason': 'Mapping load failure'},\n",
       "  {'ticker': 'DOW',\n",
       "   'sector': 'Materials',\n",
       "   'sub_industry': 'Commodity Chemicals',\n",
       "   'reason': 'Mapping load failure'},\n",
       "  {'ticker': 'DHI',\n",
       "   'sector': 'Consumer Discretionary',\n",
       "   'sub_industry': 'Homebuilding',\n",
       "   'reason': 'Mapping load failure'},\n",
       "  {'ticker': 'DTE',\n",
       "   'sector': 'Utilities',\n",
       "   'sub_industry': 'Multi-Utilities',\n",
       "   'reason': 'Mapping load failure'},\n",
       "  {'ticker': 'DUK',\n",
       "   'sector': 'Utilities',\n",
       "   'sub_industry': 'Electric Utilities',\n",
       "   'reason': 'Mapping load failure'},\n",
       "  {'ticker': 'DD',\n",
       "   'sector': 'Materials',\n",
       "   'sub_industry': 'Specialty Chemicals',\n",
       "   'reason': 'Mapping load failure'},\n",
       "  {'ticker': 'EMN',\n",
       "   'sector': 'Materials',\n",
       "   'sub_industry': 'Specialty Chemicals',\n",
       "   'reason': 'Mapping load failure'},\n",
       "  {'ticker': 'ETN',\n",
       "   'sector': 'Industrials',\n",
       "   'sub_industry': 'Electrical Components & Equipment',\n",
       "   'reason': 'Mapping load failure'},\n",
       "  {'ticker': 'EBAY',\n",
       "   'sector': 'Consumer Discretionary',\n",
       "   'sub_industry': 'Broadline Retail',\n",
       "   'reason': 'Mapping load failure'},\n",
       "  {'ticker': 'ECL',\n",
       "   'sector': 'Materials',\n",
       "   'sub_industry': 'Specialty Chemicals',\n",
       "   'reason': 'Mapping load failure'},\n",
       "  {'ticker': 'EIX',\n",
       "   'sector': 'Utilities',\n",
       "   'sub_industry': 'Electric Utilities',\n",
       "   'reason': 'Mapping load failure'},\n",
       "  {'ticker': 'EW',\n",
       "   'sector': 'Health Care',\n",
       "   'sub_industry': 'Health Care Equipment',\n",
       "   'reason': 'Mapping load failure'},\n",
       "  {'ticker': 'EA',\n",
       "   'sector': 'Communication Services',\n",
       "   'sub_industry': 'Interactive Home Entertainment',\n",
       "   'reason': 'Mapping load failure'},\n",
       "  {'ticker': 'ELV',\n",
       "   'sector': 'Health Care',\n",
       "   'sub_industry': 'Managed Health Care',\n",
       "   'reason': 'Mapping load failure'},\n",
       "  {'ticker': 'EMR',\n",
       "   'sector': 'Industrials',\n",
       "   'sub_industry': 'Electrical Components & Equipment',\n",
       "   'reason': 'Mapping load failure'},\n",
       "  {'ticker': 'ENPH',\n",
       "   'sector': 'Information Technology',\n",
       "   'sub_industry': 'Semiconductor Materials & Equipment',\n",
       "   'reason': 'Mapping load failure'},\n",
       "  {'ticker': 'ETR',\n",
       "   'sector': 'Utilities',\n",
       "   'sub_industry': 'Electric Utilities',\n",
       "   'reason': 'Mapping load failure'},\n",
       "  {'ticker': 'EOG',\n",
       "   'sector': 'Energy',\n",
       "   'sub_industry': 'Oil & Gas Exploration & Production',\n",
       "   'reason': 'Mapping load failure'},\n",
       "  {'ticker': 'EPAM',\n",
       "   'sector': 'Information Technology',\n",
       "   'sub_industry': 'IT Consulting & Other Services',\n",
       "   'reason': 'Mapping load failure'},\n",
       "  {'ticker': 'EQT',\n",
       "   'sector': 'Energy',\n",
       "   'sub_industry': 'Oil & Gas Exploration & Production',\n",
       "   'reason': 'Mapping load failure'},\n",
       "  {'ticker': 'EFX',\n",
       "   'sector': 'Industrials',\n",
       "   'sub_industry': 'Research & Consulting Services',\n",
       "   'reason': 'Mapping load failure'},\n",
       "  {'ticker': 'EQIX',\n",
       "   'sector': 'Real Estate',\n",
       "   'sub_industry': 'Data Center REITs',\n",
       "   'reason': 'Mapping load failure'},\n",
       "  {'ticker': 'EQR',\n",
       "   'sector': 'Real Estate',\n",
       "   'sub_industry': 'Multi-Family Residential REITs',\n",
       "   'reason': 'Mapping load failure'},\n",
       "  {'ticker': 'ERIE',\n",
       "   'sector': 'Financials',\n",
       "   'sub_industry': 'Insurance Brokers',\n",
       "   'reason': 'Mapping load failure'},\n",
       "  {'ticker': 'ESS',\n",
       "   'sector': 'Real Estate',\n",
       "   'sub_industry': 'Multi-Family Residential REITs',\n",
       "   'reason': 'Mapping load failure'},\n",
       "  {'ticker': 'EL',\n",
       "   'sector': 'Consumer Staples',\n",
       "   'sub_industry': 'Personal Care Products',\n",
       "   'reason': 'Mapping load failure'},\n",
       "  {'ticker': 'EG',\n",
       "   'sector': 'Financials',\n",
       "   'sub_industry': 'Reinsurance',\n",
       "   'reason': 'Mapping load failure'},\n",
       "  {'ticker': 'EVRG',\n",
       "   'sector': 'Utilities',\n",
       "   'sub_industry': 'Electric Utilities',\n",
       "   'reason': 'Mapping load failure'},\n",
       "  {'ticker': 'ES',\n",
       "   'sector': 'Utilities',\n",
       "   'sub_industry': 'Electric Utilities',\n",
       "   'reason': 'Mapping load failure'},\n",
       "  {'ticker': 'EXC',\n",
       "   'sector': 'Utilities',\n",
       "   'sub_industry': 'Electric Utilities',\n",
       "   'reason': 'Mapping load failure'},\n",
       "  {'ticker': 'EXPE',\n",
       "   'sector': 'Consumer Discretionary',\n",
       "   'sub_industry': 'Hotels, Resorts & Cruise Lines',\n",
       "   'reason': 'Mapping load failure'},\n",
       "  {'ticker': 'EXPD',\n",
       "   'sector': 'Industrials',\n",
       "   'sub_industry': 'Air Freight & Logistics',\n",
       "   'reason': 'Mapping load failure'},\n",
       "  {'ticker': 'EXR',\n",
       "   'sector': 'Real Estate',\n",
       "   'sub_industry': 'Self-Storage REITs',\n",
       "   'reason': 'Mapping load failure'},\n",
       "  {'ticker': 'XOM',\n",
       "   'sector': 'Energy',\n",
       "   'sub_industry': 'Integrated Oil & Gas',\n",
       "   'reason': 'Mapping load failure'},\n",
       "  {'ticker': 'FFIV',\n",
       "   'sector': 'Information Technology',\n",
       "   'sub_industry': 'Communications Equipment',\n",
       "   'reason': 'Mapping load failure'},\n",
       "  {'ticker': 'FDS',\n",
       "   'sector': 'Financials',\n",
       "   'sub_industry': 'Financial Exchanges & Data',\n",
       "   'reason': 'Mapping load failure'},\n",
       "  {'ticker': 'FICO',\n",
       "   'sector': 'Information Technology',\n",
       "   'sub_industry': 'Application Software',\n",
       "   'reason': 'Mapping load failure'},\n",
       "  {'ticker': 'FAST',\n",
       "   'sector': 'Industrials',\n",
       "   'sub_industry': 'Trading Companies & Distributors',\n",
       "   'reason': 'Mapping load failure'},\n",
       "  {'ticker': 'FRT',\n",
       "   'sector': 'Real Estate',\n",
       "   'sub_industry': 'Retail REITs',\n",
       "   'reason': 'Mapping load failure'},\n",
       "  {'ticker': 'FDX',\n",
       "   'sector': 'Industrials',\n",
       "   'sub_industry': 'Air Freight & Logistics',\n",
       "   'reason': 'Mapping load failure'},\n",
       "  {'ticker': 'FIS',\n",
       "   'sector': 'Financials',\n",
       "   'sub_industry': 'Transaction & Payment Processing Services',\n",
       "   'reason': 'Mapping load failure'},\n",
       "  {'ticker': 'FITB',\n",
       "   'sector': 'Financials',\n",
       "   'sub_industry': 'Regional Banks',\n",
       "   'reason': 'Mapping load failure'},\n",
       "  {'ticker': 'FSLR',\n",
       "   'sector': 'Information Technology',\n",
       "   'sub_industry': 'Semiconductors',\n",
       "   'reason': 'Mapping load failure'},\n",
       "  {'ticker': 'FE',\n",
       "   'sector': 'Utilities',\n",
       "   'sub_industry': 'Electric Utilities',\n",
       "   'reason': 'Mapping load failure'},\n",
       "  {'ticker': 'FI',\n",
       "   'sector': 'Financials',\n",
       "   'sub_industry': 'Transaction & Payment Processing Services',\n",
       "   'reason': 'Mapping load failure'},\n",
       "  {'ticker': 'FMC',\n",
       "   'sector': 'Materials',\n",
       "   'sub_industry': 'Fertilizers & Agricultural Chemicals',\n",
       "   'reason': 'Mapping load failure'},\n",
       "  {'ticker': 'F',\n",
       "   'sector': 'Consumer Discretionary',\n",
       "   'sub_industry': 'Automobile Manufacturers',\n",
       "   'reason': 'Mapping load failure'},\n",
       "  {'ticker': 'FTNT',\n",
       "   'sector': 'Information Technology',\n",
       "   'sub_industry': 'Systems Software',\n",
       "   'reason': 'Mapping load failure'},\n",
       "  {'ticker': 'FTV',\n",
       "   'sector': 'Industrials',\n",
       "   'sub_industry': 'Industrial Machinery & Supplies & Components',\n",
       "   'reason': 'Mapping load failure'},\n",
       "  {'ticker': 'FOXA',\n",
       "   'sector': 'Communication Services',\n",
       "   'sub_industry': 'Broadcasting',\n",
       "   'reason': 'Mapping load failure'},\n",
       "  {'ticker': 'FOX',\n",
       "   'sector': 'Communication Services',\n",
       "   'sub_industry': 'Broadcasting',\n",
       "   'reason': 'Mapping load failure'},\n",
       "  {'ticker': 'BEN',\n",
       "   'sector': 'Financials',\n",
       "   'sub_industry': 'Asset Management & Custody Banks',\n",
       "   'reason': 'Mapping load failure'},\n",
       "  {'ticker': 'FCX',\n",
       "   'sector': 'Materials',\n",
       "   'sub_industry': 'Copper',\n",
       "   'reason': 'Mapping load failure'},\n",
       "  {'ticker': 'GRMN',\n",
       "   'sector': 'Consumer Discretionary',\n",
       "   'sub_industry': 'Consumer Electronics',\n",
       "   'reason': 'Mapping load failure'},\n",
       "  {'ticker': 'IT',\n",
       "   'sector': 'Information Technology',\n",
       "   'sub_industry': 'IT Consulting & Other Services',\n",
       "   'reason': 'Mapping load failure'},\n",
       "  {'ticker': 'GE',\n",
       "   'sector': 'Industrials',\n",
       "   'sub_industry': 'Aerospace & Defense',\n",
       "   'reason': 'Mapping load failure'},\n",
       "  {'ticker': 'GEHC',\n",
       "   'sector': 'Health Care',\n",
       "   'sub_industry': 'Health Care Equipment',\n",
       "   'reason': 'Mapping load failure'},\n",
       "  {'ticker': 'GEV',\n",
       "   'sector': 'Industrials',\n",
       "   'sub_industry': 'Heavy Electrical Equipment',\n",
       "   'reason': 'Mapping load failure'},\n",
       "  {'ticker': 'GEN',\n",
       "   'sector': 'Information Technology',\n",
       "   'sub_industry': 'Systems Software',\n",
       "   'reason': 'Mapping load failure'},\n",
       "  {'ticker': 'GNRC',\n",
       "   'sector': 'Industrials',\n",
       "   'sub_industry': 'Electrical Components & Equipment',\n",
       "   'reason': 'Mapping load failure'},\n",
       "  {'ticker': 'GD',\n",
       "   'sector': 'Industrials',\n",
       "   'sub_industry': 'Aerospace & Defense',\n",
       "   'reason': 'Mapping load failure'},\n",
       "  {'ticker': 'GIS',\n",
       "   'sector': 'Consumer Staples',\n",
       "   'sub_industry': 'Packaged Foods & Meats',\n",
       "   'reason': 'Mapping load failure'},\n",
       "  {'ticker': 'GM',\n",
       "   'sector': 'Consumer Discretionary',\n",
       "   'sub_industry': 'Automobile Manufacturers',\n",
       "   'reason': 'Mapping load failure'},\n",
       "  {'ticker': 'GPC',\n",
       "   'sector': 'Consumer Discretionary',\n",
       "   'sub_industry': 'Distributors',\n",
       "   'reason': 'Mapping load failure'},\n",
       "  {'ticker': 'GILD',\n",
       "   'sector': 'Health Care',\n",
       "   'sub_industry': 'Biotechnology',\n",
       "   'reason': 'Mapping load failure'},\n",
       "  {'ticker': 'GPN',\n",
       "   'sector': 'Financials',\n",
       "   'sub_industry': 'Transaction & Payment Processing Services',\n",
       "   'reason': 'Mapping load failure'},\n",
       "  {'ticker': 'GL',\n",
       "   'sector': 'Financials',\n",
       "   'sub_industry': 'Life & Health Insurance',\n",
       "   'reason': 'Mapping load failure'},\n",
       "  {'ticker': 'GDDY',\n",
       "   'sector': 'Information Technology',\n",
       "   'sub_industry': 'Internet Services & Infrastructure',\n",
       "   'reason': 'Mapping load failure'},\n",
       "  {'ticker': 'GS',\n",
       "   'sector': 'Financials',\n",
       "   'sub_industry': 'Investment Banking & Brokerage',\n",
       "   'reason': 'Mapping load failure'},\n",
       "  {'ticker': 'HAL',\n",
       "   'sector': 'Energy',\n",
       "   'sub_industry': 'Oil & Gas Equipment & Services',\n",
       "   'reason': 'Mapping load failure'},\n",
       "  {'ticker': 'HIG',\n",
       "   'sector': 'Financials',\n",
       "   'sub_industry': 'Property & Casualty Insurance',\n",
       "   'reason': 'Mapping load failure'},\n",
       "  {'ticker': 'HAS',\n",
       "   'sector': 'Consumer Discretionary',\n",
       "   'sub_industry': 'Leisure Products',\n",
       "   'reason': 'Mapping load failure'},\n",
       "  {'ticker': 'HCA',\n",
       "   'sector': 'Health Care',\n",
       "   'sub_industry': 'Health Care Facilities',\n",
       "   'reason': 'Mapping load failure'},\n",
       "  {'ticker': 'DOC',\n",
       "   'sector': 'Real Estate',\n",
       "   'sub_industry': 'Health Care REITs',\n",
       "   'reason': 'Mapping load failure'},\n",
       "  {'ticker': 'HSIC',\n",
       "   'sector': 'Health Care',\n",
       "   'sub_industry': 'Health Care Distributors',\n",
       "   'reason': 'Mapping load failure'},\n",
       "  {'ticker': 'HSY',\n",
       "   'sector': 'Consumer Staples',\n",
       "   'sub_industry': 'Packaged Foods & Meats',\n",
       "   'reason': 'Mapping load failure'},\n",
       "  {'ticker': 'HES',\n",
       "   'sector': 'Energy',\n",
       "   'sub_industry': 'Integrated Oil & Gas',\n",
       "   'reason': 'Mapping load failure'},\n",
       "  {'ticker': 'HPE',\n",
       "   'sector': 'Information Technology',\n",
       "   'sub_industry': 'Technology Hardware, Storage & Peripherals',\n",
       "   'reason': 'Mapping load failure'},\n",
       "  {'ticker': 'HLT',\n",
       "   'sector': 'Consumer Discretionary',\n",
       "   'sub_industry': 'Hotels, Resorts & Cruise Lines',\n",
       "   'reason': 'Mapping load failure'},\n",
       "  {'ticker': 'HOLX',\n",
       "   'sector': 'Health Care',\n",
       "   'sub_industry': 'Health Care Equipment',\n",
       "   'reason': 'Mapping load failure'},\n",
       "  {'ticker': 'HD',\n",
       "   'sector': 'Consumer Discretionary',\n",
       "   'sub_industry': 'Home Improvement Retail',\n",
       "   'reason': 'Mapping load failure'},\n",
       "  {'ticker': 'HON',\n",
       "   'sector': 'Industrials',\n",
       "   'sub_industry': 'Industrial Conglomerates',\n",
       "   'reason': 'Mapping load failure'},\n",
       "  {'ticker': 'HRL',\n",
       "   'sector': 'Consumer Staples',\n",
       "   'sub_industry': 'Packaged Foods & Meats',\n",
       "   'reason': 'Mapping load failure'},\n",
       "  {'ticker': 'HST',\n",
       "   'sector': 'Real Estate',\n",
       "   'sub_industry': 'Hotel & Resort REITs',\n",
       "   'reason': 'Mapping load failure'},\n",
       "  {'ticker': 'HWM',\n",
       "   'sector': 'Industrials',\n",
       "   'sub_industry': 'Aerospace & Defense',\n",
       "   'reason': 'Mapping load failure'},\n",
       "  {'ticker': 'HPQ',\n",
       "   'sector': 'Information Technology',\n",
       "   'sub_industry': 'Technology Hardware, Storage & Peripherals',\n",
       "   'reason': 'Mapping load failure'},\n",
       "  {'ticker': 'HUBB',\n",
       "   'sector': 'Industrials',\n",
       "   'sub_industry': 'Industrial Machinery & Supplies & Components',\n",
       "   'reason': 'Mapping load failure'},\n",
       "  {'ticker': 'HUM',\n",
       "   'sector': 'Health Care',\n",
       "   'sub_industry': 'Managed Health Care',\n",
       "   'reason': 'Mapping load failure'},\n",
       "  {'ticker': 'HBAN',\n",
       "   'sector': 'Financials',\n",
       "   'sub_industry': 'Regional Banks',\n",
       "   'reason': 'Mapping load failure'},\n",
       "  {'ticker': 'HII',\n",
       "   'sector': 'Industrials',\n",
       "   'sub_industry': 'Aerospace & Defense',\n",
       "   'reason': 'Mapping load failure'},\n",
       "  {'ticker': 'IBM',\n",
       "   'sector': 'Information Technology',\n",
       "   'sub_industry': 'IT Consulting & Other Services',\n",
       "   'reason': 'Mapping load failure'},\n",
       "  {'ticker': 'IEX',\n",
       "   'sector': 'Industrials',\n",
       "   'sub_industry': 'Industrial Machinery & Supplies & Components',\n",
       "   'reason': 'Mapping load failure'},\n",
       "  {'ticker': 'IDXX',\n",
       "   'sector': 'Health Care',\n",
       "   'sub_industry': 'Health Care Equipment',\n",
       "   'reason': 'Mapping load failure'},\n",
       "  {'ticker': 'ITW',\n",
       "   'sector': 'Industrials',\n",
       "   'sub_industry': 'Industrial Machinery & Supplies & Components',\n",
       "   'reason': 'Mapping load failure'},\n",
       "  {'ticker': 'INCY',\n",
       "   'sector': 'Health Care',\n",
       "   'sub_industry': 'Biotechnology',\n",
       "   'reason': 'Mapping load failure'},\n",
       "  {'ticker': 'IR',\n",
       "   'sector': 'Industrials',\n",
       "   'sub_industry': 'Industrial Machinery & Supplies & Components',\n",
       "   'reason': 'Mapping load failure'},\n",
       "  {'ticker': 'PODD',\n",
       "   'sector': 'Health Care',\n",
       "   'sub_industry': 'Health Care Equipment',\n",
       "   'reason': 'Mapping load failure'},\n",
       "  {'ticker': 'INTC',\n",
       "   'sector': 'Information Technology',\n",
       "   'sub_industry': 'Semiconductors',\n",
       "   'reason': 'Mapping load failure'},\n",
       "  {'ticker': 'ICE',\n",
       "   'sector': 'Financials',\n",
       "   'sub_industry': 'Financial Exchanges & Data',\n",
       "   'reason': 'Mapping load failure'},\n",
       "  {'ticker': 'IFF',\n",
       "   'sector': 'Materials',\n",
       "   'sub_industry': 'Specialty Chemicals',\n",
       "   'reason': 'Mapping load failure'},\n",
       "  {'ticker': 'IP',\n",
       "   'sector': 'Materials',\n",
       "   'sub_industry': 'Paper & Plastic Packaging Products & Materials',\n",
       "   'reason': 'Mapping load failure'},\n",
       "  {'ticker': 'IPG',\n",
       "   'sector': 'Communication Services',\n",
       "   'sub_industry': 'Advertising',\n",
       "   'reason': 'Mapping load failure'},\n",
       "  {'ticker': 'INTU',\n",
       "   'sector': 'Information Technology',\n",
       "   'sub_industry': 'Application Software',\n",
       "   'reason': 'Mapping load failure'},\n",
       "  {'ticker': 'ISRG',\n",
       "   'sector': 'Health Care',\n",
       "   'sub_industry': 'Health Care Equipment',\n",
       "   'reason': 'Mapping load failure'},\n",
       "  {'ticker': 'IVZ',\n",
       "   'sector': 'Financials',\n",
       "   'sub_industry': 'Asset Management & Custody Banks',\n",
       "   'reason': 'Mapping load failure'},\n",
       "  {'ticker': 'INVH',\n",
       "   'sector': 'Real Estate',\n",
       "   'sub_industry': 'Single-Family Residential REITs',\n",
       "   'reason': 'Mapping load failure'},\n",
       "  {'ticker': 'IQV',\n",
       "   'sector': 'Health Care',\n",
       "   'sub_industry': 'Life Sciences Tools & Services',\n",
       "   'reason': 'Mapping load failure'},\n",
       "  {'ticker': 'IRM',\n",
       "   'sector': 'Real Estate',\n",
       "   'sub_industry': 'Other Specialized REITs',\n",
       "   'reason': 'Mapping load failure'},\n",
       "  {'ticker': 'JBHT',\n",
       "   'sector': 'Industrials',\n",
       "   'sub_industry': 'Cargo Ground Transportation',\n",
       "   'reason': 'Mapping load failure'},\n",
       "  {'ticker': 'JBL',\n",
       "   'sector': 'Information Technology',\n",
       "   'sub_industry': 'Electronic Manufacturing Services',\n",
       "   'reason': 'Mapping load failure'},\n",
       "  {'ticker': 'JKHY',\n",
       "   'sector': 'Financials',\n",
       "   'sub_industry': 'Transaction & Payment Processing Services',\n",
       "   'reason': 'Mapping load failure'},\n",
       "  {'ticker': 'J',\n",
       "   'sector': 'Industrials',\n",
       "   'sub_industry': 'Construction & Engineering',\n",
       "   'reason': 'Mapping load failure'},\n",
       "  {'ticker': 'JNJ',\n",
       "   'sector': 'Health Care',\n",
       "   'sub_industry': 'Pharmaceuticals',\n",
       "   'reason': 'Mapping load failure'},\n",
       "  {'ticker': 'JCI',\n",
       "   'sector': 'Industrials',\n",
       "   'sub_industry': 'Building Products',\n",
       "   'reason': 'Mapping load failure'},\n",
       "  {'ticker': 'JPM',\n",
       "   'sector': 'Financials',\n",
       "   'sub_industry': 'Diversified Banks',\n",
       "   'reason': 'Mapping load failure'},\n",
       "  {'ticker': 'JNPR',\n",
       "   'sector': 'Information Technology',\n",
       "   'sub_industry': 'Communications Equipment',\n",
       "   'reason': 'Mapping load failure'},\n",
       "  {'ticker': 'K',\n",
       "   'sector': 'Consumer Staples',\n",
       "   'sub_industry': 'Packaged Foods & Meats',\n",
       "   'reason': 'Mapping load failure'},\n",
       "  {'ticker': 'KVUE',\n",
       "   'sector': 'Consumer Staples',\n",
       "   'sub_industry': 'Personal Care Products',\n",
       "   'reason': 'Mapping load failure'},\n",
       "  {'ticker': 'KDP',\n",
       "   'sector': 'Consumer Staples',\n",
       "   'sub_industry': 'Soft Drinks & Non-alcoholic Beverages',\n",
       "   'reason': 'Mapping load failure'},\n",
       "  {'ticker': 'KEY',\n",
       "   'sector': 'Financials',\n",
       "   'sub_industry': 'Regional Banks',\n",
       "   'reason': 'Mapping load failure'},\n",
       "  {'ticker': 'KEYS',\n",
       "   'sector': 'Information Technology',\n",
       "   'sub_industry': 'Electronic Equipment & Instruments',\n",
       "   'reason': 'Mapping load failure'},\n",
       "  {'ticker': 'KMB',\n",
       "   'sector': 'Consumer Staples',\n",
       "   'sub_industry': 'Household Products',\n",
       "   'reason': 'Mapping load failure'},\n",
       "  {'ticker': 'KIM',\n",
       "   'sector': 'Real Estate',\n",
       "   'sub_industry': 'Retail REITs',\n",
       "   'reason': 'Mapping load failure'},\n",
       "  {'ticker': 'KMI',\n",
       "   'sector': 'Energy',\n",
       "   'sub_industry': 'Oil & Gas Storage & Transportation',\n",
       "   'reason': 'Mapping load failure'},\n",
       "  {'ticker': 'KKR',\n",
       "   'sector': 'Financials',\n",
       "   'sub_industry': 'Asset Management & Custody Banks',\n",
       "   'reason': 'Mapping load failure'},\n",
       "  {'ticker': 'KLAC',\n",
       "   'sector': 'Information Technology',\n",
       "   'sub_industry': 'Semiconductor Materials & Equipment',\n",
       "   'reason': 'Mapping load failure'},\n",
       "  {'ticker': 'KHC',\n",
       "   'sector': 'Consumer Staples',\n",
       "   'sub_industry': 'Packaged Foods & Meats',\n",
       "   'reason': 'Mapping load failure'},\n",
       "  {'ticker': 'KR',\n",
       "   'sector': 'Consumer Staples',\n",
       "   'sub_industry': 'Food Retail',\n",
       "   'reason': 'Mapping load failure'},\n",
       "  {'ticker': 'LHX',\n",
       "   'sector': 'Industrials',\n",
       "   'sub_industry': 'Aerospace & Defense',\n",
       "   'reason': 'Mapping load failure'},\n",
       "  {'ticker': 'LH',\n",
       "   'sector': 'Health Care',\n",
       "   'sub_industry': 'Health Care Services',\n",
       "   'reason': 'Mapping load failure'},\n",
       "  {'ticker': 'LRCX',\n",
       "   'sector': 'Information Technology',\n",
       "   'sub_industry': 'Semiconductor Materials & Equipment',\n",
       "   'reason': 'Mapping load failure'},\n",
       "  {'ticker': 'LW',\n",
       "   'sector': 'Consumer Staples',\n",
       "   'sub_industry': 'Packaged Foods & Meats',\n",
       "   'reason': 'Mapping load failure'},\n",
       "  {'ticker': 'LVS',\n",
       "   'sector': 'Consumer Discretionary',\n",
       "   'sub_industry': 'Casinos & Gaming',\n",
       "   'reason': 'Mapping load failure'},\n",
       "  {'ticker': 'LDOS',\n",
       "   'sector': 'Industrials',\n",
       "   'sub_industry': 'Diversified Support Services',\n",
       "   'reason': 'Mapping load failure'},\n",
       "  {'ticker': 'LEN',\n",
       "   'sector': 'Consumer Discretionary',\n",
       "   'sub_industry': 'Homebuilding',\n",
       "   'reason': 'Mapping load failure'},\n",
       "  {'ticker': 'LII',\n",
       "   'sector': 'Industrials',\n",
       "   'sub_industry': 'Building Products',\n",
       "   'reason': 'Mapping load failure'},\n",
       "  {'ticker': 'LLY',\n",
       "   'sector': 'Health Care',\n",
       "   'sub_industry': 'Pharmaceuticals',\n",
       "   'reason': 'Mapping load failure'},\n",
       "  {'ticker': 'LIN',\n",
       "   'sector': 'Materials',\n",
       "   'sub_industry': 'Industrial Gases',\n",
       "   'reason': 'Mapping load failure'},\n",
       "  {'ticker': 'LYV',\n",
       "   'sector': 'Communication Services',\n",
       "   'sub_industry': 'Movies & Entertainment',\n",
       "   'reason': 'Mapping load failure'},\n",
       "  {'ticker': 'LKQ',\n",
       "   'sector': 'Consumer Discretionary',\n",
       "   'sub_industry': 'Distributors',\n",
       "   'reason': 'Mapping load failure'},\n",
       "  {'ticker': 'LMT',\n",
       "   'sector': 'Industrials',\n",
       "   'sub_industry': 'Aerospace & Defense',\n",
       "   'reason': 'Mapping load failure'},\n",
       "  {'ticker': 'L',\n",
       "   'sector': 'Financials',\n",
       "   'sub_industry': 'Multi-line Insurance',\n",
       "   'reason': 'Mapping load failure'},\n",
       "  {'ticker': 'LOW',\n",
       "   'sector': 'Consumer Discretionary',\n",
       "   'sub_industry': 'Home Improvement Retail',\n",
       "   'reason': 'Mapping load failure'},\n",
       "  {'ticker': 'LULU',\n",
       "   'sector': 'Consumer Discretionary',\n",
       "   'sub_industry': 'Apparel, Accessories & Luxury Goods',\n",
       "   'reason': 'Mapping load failure'},\n",
       "  {'ticker': 'LYB',\n",
       "   'sector': 'Materials',\n",
       "   'sub_industry': 'Specialty Chemicals',\n",
       "   'reason': 'Mapping load failure'},\n",
       "  {'ticker': 'MTB',\n",
       "   'sector': 'Financials',\n",
       "   'sub_industry': 'Regional Banks',\n",
       "   'reason': 'Mapping load failure'},\n",
       "  {'ticker': 'MPC',\n",
       "   'sector': 'Energy',\n",
       "   'sub_industry': 'Oil & Gas Refining & Marketing',\n",
       "   'reason': 'Mapping load failure'},\n",
       "  {'ticker': 'MKTX',\n",
       "   'sector': 'Financials',\n",
       "   'sub_industry': 'Financial Exchanges & Data',\n",
       "   'reason': 'Mapping load failure'},\n",
       "  {'ticker': 'MAR',\n",
       "   'sector': 'Consumer Discretionary',\n",
       "   'sub_industry': 'Hotels, Resorts & Cruise Lines',\n",
       "   'reason': 'Mapping load failure'},\n",
       "  {'ticker': 'MMC',\n",
       "   'sector': 'Financials',\n",
       "   'sub_industry': 'Insurance Brokers',\n",
       "   'reason': 'Mapping load failure'},\n",
       "  {'ticker': 'MLM',\n",
       "   'sector': 'Materials',\n",
       "   'sub_industry': 'Construction Materials',\n",
       "   'reason': 'Mapping load failure'},\n",
       "  {'ticker': 'MAS',\n",
       "   'sector': 'Industrials',\n",
       "   'sub_industry': 'Building Products',\n",
       "   'reason': 'Mapping load failure'},\n",
       "  {'ticker': 'MA',\n",
       "   'sector': 'Financials',\n",
       "   'sub_industry': 'Transaction & Payment Processing Services',\n",
       "   'reason': 'Mapping load failure'},\n",
       "  {'ticker': 'MTCH',\n",
       "   'sector': 'Communication Services',\n",
       "   'sub_industry': 'Interactive Media & Services',\n",
       "   'reason': 'Mapping load failure'},\n",
       "  {'ticker': 'MKC',\n",
       "   'sector': 'Consumer Staples',\n",
       "   'sub_industry': 'Packaged Foods & Meats',\n",
       "   'reason': 'Mapping load failure'},\n",
       "  {'ticker': 'MCD',\n",
       "   'sector': 'Consumer Discretionary',\n",
       "   'sub_industry': 'Restaurants',\n",
       "   'reason': 'Mapping load failure'},\n",
       "  {'ticker': 'MCK',\n",
       "   'sector': 'Health Care',\n",
       "   'sub_industry': 'Health Care Distributors',\n",
       "   'reason': 'Mapping load failure'},\n",
       "  {'ticker': 'MDT',\n",
       "   'sector': 'Health Care',\n",
       "   'sub_industry': 'Health Care Equipment',\n",
       "   'reason': 'Mapping load failure'},\n",
       "  {'ticker': 'MRK',\n",
       "   'sector': 'Health Care',\n",
       "   'sub_industry': 'Pharmaceuticals',\n",
       "   'reason': 'Mapping load failure'},\n",
       "  {'ticker': 'META',\n",
       "   'sector': 'Communication Services',\n",
       "   'sub_industry': 'Interactive Media & Services',\n",
       "   'reason': 'Mapping load failure'},\n",
       "  {'ticker': 'MET',\n",
       "   'sector': 'Financials',\n",
       "   'sub_industry': 'Life & Health Insurance',\n",
       "   'reason': 'Mapping load failure'},\n",
       "  {'ticker': 'MTD',\n",
       "   'sector': 'Health Care',\n",
       "   'sub_industry': 'Life Sciences Tools & Services',\n",
       "   'reason': 'Mapping load failure'},\n",
       "  {'ticker': 'MGM',\n",
       "   'sector': 'Consumer Discretionary',\n",
       "   'sub_industry': 'Casinos & Gaming',\n",
       "   'reason': 'Mapping load failure'},\n",
       "  {'ticker': 'MCHP',\n",
       "   'sector': 'Information Technology',\n",
       "   'sub_industry': 'Semiconductors',\n",
       "   'reason': 'Mapping load failure'},\n",
       "  {'ticker': 'MU',\n",
       "   'sector': 'Information Technology',\n",
       "   'sub_industry': 'Semiconductors',\n",
       "   'reason': 'Mapping load failure'},\n",
       "  {'ticker': 'MSFT',\n",
       "   'sector': 'Information Technology',\n",
       "   'sub_industry': 'Systems Software',\n",
       "   'reason': 'Mapping load failure'},\n",
       "  {'ticker': 'MAA',\n",
       "   'sector': 'Real Estate',\n",
       "   'sub_industry': 'Multi-Family Residential REITs',\n",
       "   'reason': 'Mapping load failure'},\n",
       "  {'ticker': 'MRNA',\n",
       "   'sector': 'Health Care',\n",
       "   'sub_industry': 'Biotechnology',\n",
       "   'reason': 'Mapping load failure'},\n",
       "  {'ticker': 'MHK',\n",
       "   'sector': 'Consumer Discretionary',\n",
       "   'sub_industry': 'Home Furnishings',\n",
       "   'reason': 'Mapping load failure'},\n",
       "  {'ticker': 'MOH',\n",
       "   'sector': 'Health Care',\n",
       "   'sub_industry': 'Managed Health Care',\n",
       "   'reason': 'Mapping load failure'},\n",
       "  {'ticker': 'TAP',\n",
       "   'sector': 'Consumer Staples',\n",
       "   'sub_industry': 'Brewers',\n",
       "   'reason': 'Mapping load failure'},\n",
       "  {'ticker': 'MDLZ',\n",
       "   'sector': 'Consumer Staples',\n",
       "   'sub_industry': 'Packaged Foods & Meats',\n",
       "   'reason': 'Mapping load failure'},\n",
       "  {'ticker': 'MPWR',\n",
       "   'sector': 'Information Technology',\n",
       "   'sub_industry': 'Semiconductors',\n",
       "   'reason': 'Mapping load failure'},\n",
       "  {'ticker': 'MNST',\n",
       "   'sector': 'Consumer Staples',\n",
       "   'sub_industry': 'Soft Drinks & Non-alcoholic Beverages',\n",
       "   'reason': 'Mapping load failure'},\n",
       "  {'ticker': 'MCO',\n",
       "   'sector': 'Financials',\n",
       "   'sub_industry': 'Financial Exchanges & Data',\n",
       "   'reason': 'Mapping load failure'},\n",
       "  {'ticker': 'MS',\n",
       "   'sector': 'Financials',\n",
       "   'sub_industry': 'Investment Banking & Brokerage',\n",
       "   'reason': 'Mapping load failure'},\n",
       "  {'ticker': 'MOS',\n",
       "   'sector': 'Materials',\n",
       "   'sub_industry': 'Fertilizers & Agricultural Chemicals',\n",
       "   'reason': 'Mapping load failure'},\n",
       "  {'ticker': 'MSI',\n",
       "   'sector': 'Information Technology',\n",
       "   'sub_industry': 'Communications Equipment',\n",
       "   'reason': 'Mapping load failure'},\n",
       "  {'ticker': 'MSCI',\n",
       "   'sector': 'Financials',\n",
       "   'sub_industry': 'Financial Exchanges & Data',\n",
       "   'reason': 'Mapping load failure'},\n",
       "  {'ticker': 'NDAQ',\n",
       "   'sector': 'Financials',\n",
       "   'sub_industry': 'Financial Exchanges & Data',\n",
       "   'reason': 'Mapping load failure'},\n",
       "  {'ticker': 'NTAP',\n",
       "   'sector': 'Information Technology',\n",
       "   'sub_industry': 'Technology Hardware, Storage & Peripherals',\n",
       "   'reason': 'Mapping load failure'},\n",
       "  {'ticker': 'NFLX',\n",
       "   'sector': 'Communication Services',\n",
       "   'sub_industry': 'Movies & Entertainment',\n",
       "   'reason': 'Mapping load failure'},\n",
       "  {'ticker': 'NEM',\n",
       "   'sector': 'Materials',\n",
       "   'sub_industry': 'Gold',\n",
       "   'reason': 'Mapping load failure'},\n",
       "  {'ticker': 'NWSA',\n",
       "   'sector': 'Communication Services',\n",
       "   'sub_industry': 'Publishing',\n",
       "   'reason': 'Mapping load failure'},\n",
       "  {'ticker': 'NWS',\n",
       "   'sector': 'Communication Services',\n",
       "   'sub_industry': 'Publishing',\n",
       "   'reason': 'Mapping load failure'},\n",
       "  {'ticker': 'NEE',\n",
       "   'sector': 'Utilities',\n",
       "   'sub_industry': 'Multi-Utilities',\n",
       "   'reason': 'Mapping load failure'},\n",
       "  {'ticker': 'NKE',\n",
       "   'sector': 'Consumer Discretionary',\n",
       "   'sub_industry': 'Apparel, Accessories & Luxury Goods',\n",
       "   'reason': 'Mapping load failure'},\n",
       "  {'ticker': 'NI',\n",
       "   'sector': 'Utilities',\n",
       "   'sub_industry': 'Multi-Utilities',\n",
       "   'reason': 'Mapping load failure'},\n",
       "  {'ticker': 'NDSN',\n",
       "   'sector': 'Industrials',\n",
       "   'sub_industry': 'Industrial Machinery & Supplies & Components',\n",
       "   'reason': 'Mapping load failure'},\n",
       "  {'ticker': 'NSC',\n",
       "   'sector': 'Industrials',\n",
       "   'sub_industry': 'Rail Transportation',\n",
       "   'reason': 'Mapping load failure'},\n",
       "  {'ticker': 'NTRS',\n",
       "   'sector': 'Financials',\n",
       "   'sub_industry': 'Asset Management & Custody Banks',\n",
       "   'reason': 'Mapping load failure'},\n",
       "  {'ticker': 'NOC',\n",
       "   'sector': 'Industrials',\n",
       "   'sub_industry': 'Aerospace & Defense',\n",
       "   'reason': 'Mapping load failure'},\n",
       "  {'ticker': 'NCLH',\n",
       "   'sector': 'Consumer Discretionary',\n",
       "   'sub_industry': 'Hotels, Resorts & Cruise Lines',\n",
       "   'reason': 'Mapping load failure'},\n",
       "  {'ticker': 'NRG',\n",
       "   'sector': 'Utilities',\n",
       "   'sub_industry': 'Independent Power Producers & Energy Traders',\n",
       "   'reason': 'Mapping load failure'},\n",
       "  {'ticker': 'NUE',\n",
       "   'sector': 'Materials',\n",
       "   'sub_industry': 'Steel',\n",
       "   'reason': 'Mapping load failure'},\n",
       "  {'ticker': 'NVDA',\n",
       "   'sector': 'Information Technology',\n",
       "   'sub_industry': 'Semiconductors',\n",
       "   'reason': 'Mapping load failure'},\n",
       "  {'ticker': 'NVR',\n",
       "   'sector': 'Consumer Discretionary',\n",
       "   'sub_industry': 'Homebuilding',\n",
       "   'reason': 'Mapping load failure'},\n",
       "  {'ticker': 'NXPI',\n",
       "   'sector': 'Information Technology',\n",
       "   'sub_industry': 'Semiconductors',\n",
       "   'reason': 'Mapping load failure'},\n",
       "  {'ticker': 'ORLY',\n",
       "   'sector': 'Consumer Discretionary',\n",
       "   'sub_industry': 'Automotive Retail',\n",
       "   'reason': 'Mapping load failure'},\n",
       "  {'ticker': 'OXY',\n",
       "   'sector': 'Energy',\n",
       "   'sub_industry': 'Oil & Gas Exploration & Production',\n",
       "   'reason': 'Mapping load failure'},\n",
       "  {'ticker': 'ODFL',\n",
       "   'sector': 'Industrials',\n",
       "   'sub_industry': 'Cargo Ground Transportation',\n",
       "   'reason': 'Mapping load failure'},\n",
       "  {'ticker': 'OMC',\n",
       "   'sector': 'Communication Services',\n",
       "   'sub_industry': 'Advertising',\n",
       "   'reason': 'Mapping load failure'},\n",
       "  {'ticker': 'ON',\n",
       "   'sector': 'Information Technology',\n",
       "   'sub_industry': 'Semiconductors',\n",
       "   'reason': 'Mapping load failure'},\n",
       "  {'ticker': 'OKE',\n",
       "   'sector': 'Energy',\n",
       "   'sub_industry': 'Oil & Gas Storage & Transportation',\n",
       "   'reason': 'Mapping load failure'},\n",
       "  {'ticker': 'ORCL',\n",
       "   'sector': 'Information Technology',\n",
       "   'sub_industry': 'Application Software',\n",
       "   'reason': 'Mapping load failure'},\n",
       "  {'ticker': 'OTIS',\n",
       "   'sector': 'Industrials',\n",
       "   'sub_industry': 'Industrial Machinery & Supplies & Components',\n",
       "   'reason': 'Mapping load failure'},\n",
       "  {'ticker': 'PCAR',\n",
       "   'sector': 'Industrials',\n",
       "   'sub_industry': 'Construction Machinery & Heavy Transportation Equipment',\n",
       "   'reason': 'Mapping load failure'},\n",
       "  {'ticker': 'PKG',\n",
       "   'sector': 'Materials',\n",
       "   'sub_industry': 'Paper & Plastic Packaging Products & Materials',\n",
       "   'reason': 'Mapping load failure'},\n",
       "  {'ticker': 'PLTR',\n",
       "   'sector': 'Information Technology',\n",
       "   'sub_industry': 'Internet Services & Infrastructure',\n",
       "   'reason': 'Mapping load failure'},\n",
       "  {'ticker': 'PANW',\n",
       "   'sector': 'Information Technology',\n",
       "   'sub_industry': 'Systems Software',\n",
       "   'reason': 'Mapping load failure'},\n",
       "  {'ticker': 'PARA',\n",
       "   'sector': 'Communication Services',\n",
       "   'sub_industry': 'Movies & Entertainment',\n",
       "   'reason': 'Mapping load failure'},\n",
       "  {'ticker': 'PH',\n",
       "   'sector': 'Industrials',\n",
       "   'sub_industry': 'Industrial Machinery & Supplies & Components',\n",
       "   'reason': 'Mapping load failure'},\n",
       "  {'ticker': 'PAYX',\n",
       "   'sector': 'Industrials',\n",
       "   'sub_industry': 'Human Resource & Employment Services',\n",
       "   'reason': 'Mapping load failure'},\n",
       "  {'ticker': 'PAYC',\n",
       "   'sector': 'Industrials',\n",
       "   'sub_industry': 'Human Resource & Employment Services',\n",
       "   'reason': 'Mapping load failure'},\n",
       "  {'ticker': 'PYPL',\n",
       "   'sector': 'Financials',\n",
       "   'sub_industry': 'Transaction & Payment Processing Services',\n",
       "   'reason': 'Mapping load failure'},\n",
       "  {'ticker': 'PNR',\n",
       "   'sector': 'Industrials',\n",
       "   'sub_industry': 'Industrial Machinery & Supplies & Components',\n",
       "   'reason': 'Mapping load failure'},\n",
       "  {'ticker': 'PEP',\n",
       "   'sector': 'Consumer Staples',\n",
       "   'sub_industry': 'Soft Drinks & Non-alcoholic Beverages',\n",
       "   'reason': 'Mapping load failure'},\n",
       "  {'ticker': 'PFE',\n",
       "   'sector': 'Health Care',\n",
       "   'sub_industry': 'Pharmaceuticals',\n",
       "   'reason': 'Mapping load failure'},\n",
       "  {'ticker': 'PCG',\n",
       "   'sector': 'Utilities',\n",
       "   'sub_industry': 'Multi-Utilities',\n",
       "   'reason': 'Mapping load failure'},\n",
       "  {'ticker': 'PM',\n",
       "   'sector': 'Consumer Staples',\n",
       "   'sub_industry': 'Tobacco',\n",
       "   'reason': 'Mapping load failure'},\n",
       "  {'ticker': 'PSX',\n",
       "   'sector': 'Energy',\n",
       "   'sub_industry': 'Oil & Gas Refining & Marketing',\n",
       "   'reason': 'Mapping load failure'},\n",
       "  {'ticker': 'PNW',\n",
       "   'sector': 'Utilities',\n",
       "   'sub_industry': 'Multi-Utilities',\n",
       "   'reason': 'Mapping load failure'},\n",
       "  {'ticker': 'PNC',\n",
       "   'sector': 'Financials',\n",
       "   'sub_industry': 'Diversified Banks',\n",
       "   'reason': 'Mapping load failure'},\n",
       "  {'ticker': 'POOL',\n",
       "   'sector': 'Consumer Discretionary',\n",
       "   'sub_industry': 'Distributors',\n",
       "   'reason': 'Mapping load failure'},\n",
       "  {'ticker': 'PPG',\n",
       "   'sector': 'Materials',\n",
       "   'sub_industry': 'Specialty Chemicals',\n",
       "   'reason': 'Mapping load failure'},\n",
       "  {'ticker': 'PPL',\n",
       "   'sector': 'Utilities',\n",
       "   'sub_industry': 'Electric Utilities',\n",
       "   'reason': 'Mapping load failure'},\n",
       "  {'ticker': 'PFG',\n",
       "   'sector': 'Financials',\n",
       "   'sub_industry': 'Life & Health Insurance',\n",
       "   'reason': 'Mapping load failure'},\n",
       "  {'ticker': 'PG',\n",
       "   'sector': 'Consumer Staples',\n",
       "   'sub_industry': 'Personal Care Products',\n",
       "   'reason': 'Mapping load failure'},\n",
       "  {'ticker': 'PGR',\n",
       "   'sector': 'Financials',\n",
       "   'sub_industry': 'Property & Casualty Insurance',\n",
       "   'reason': 'Mapping load failure'},\n",
       "  {'ticker': 'PLD',\n",
       "   'sector': 'Real Estate',\n",
       "   'sub_industry': 'Industrial REITs',\n",
       "   'reason': 'Mapping load failure'},\n",
       "  {'ticker': 'PRU',\n",
       "   'sector': 'Financials',\n",
       "   'sub_industry': 'Life & Health Insurance',\n",
       "   'reason': 'Mapping load failure'},\n",
       "  {'ticker': 'PEG',\n",
       "   'sector': 'Utilities',\n",
       "   'sub_industry': 'Electric Utilities',\n",
       "   'reason': 'Mapping load failure'},\n",
       "  {'ticker': 'PTC',\n",
       "   'sector': 'Information Technology',\n",
       "   'sub_industry': 'Application Software',\n",
       "   'reason': 'Mapping load failure'},\n",
       "  {'ticker': 'PSA',\n",
       "   'sector': 'Real Estate',\n",
       "   'sub_industry': 'Self-Storage REITs',\n",
       "   'reason': 'Mapping load failure'},\n",
       "  {'ticker': 'PHM',\n",
       "   'sector': 'Consumer Discretionary',\n",
       "   'sub_industry': 'Homebuilding',\n",
       "   'reason': 'Mapping load failure'},\n",
       "  {'ticker': 'PWR',\n",
       "   'sector': 'Industrials',\n",
       "   'sub_industry': 'Construction & Engineering',\n",
       "   'reason': 'Mapping load failure'},\n",
       "  {'ticker': 'QCOM',\n",
       "   'sector': 'Information Technology',\n",
       "   'sub_industry': 'Semiconductors',\n",
       "   'reason': 'Mapping load failure'},\n",
       "  {'ticker': 'DGX',\n",
       "   'sector': 'Health Care',\n",
       "   'sub_industry': 'Health Care Services',\n",
       "   'reason': 'Mapping load failure'},\n",
       "  {'ticker': 'RL',\n",
       "   'sector': 'Consumer Discretionary',\n",
       "   'sub_industry': 'Apparel, Accessories & Luxury Goods',\n",
       "   'reason': 'Mapping load failure'},\n",
       "  {'ticker': 'RJF',\n",
       "   'sector': 'Financials',\n",
       "   'sub_industry': 'Investment Banking & Brokerage',\n",
       "   'reason': 'Mapping load failure'},\n",
       "  {'ticker': 'RTX',\n",
       "   'sector': 'Industrials',\n",
       "   'sub_industry': 'Aerospace & Defense',\n",
       "   'reason': 'Mapping load failure'},\n",
       "  {'ticker': 'O',\n",
       "   'sector': 'Real Estate',\n",
       "   'sub_industry': 'Retail REITs',\n",
       "   'reason': 'Mapping load failure'},\n",
       "  {'ticker': 'REG',\n",
       "   'sector': 'Real Estate',\n",
       "   'sub_industry': 'Retail REITs',\n",
       "   'reason': 'Mapping load failure'},\n",
       "  {'ticker': 'REGN',\n",
       "   'sector': 'Health Care',\n",
       "   'sub_industry': 'Biotechnology',\n",
       "   'reason': 'Mapping load failure'},\n",
       "  {'ticker': 'RF',\n",
       "   'sector': 'Financials',\n",
       "   'sub_industry': 'Regional Banks',\n",
       "   'reason': 'Mapping load failure'},\n",
       "  {'ticker': 'RSG',\n",
       "   'sector': 'Industrials',\n",
       "   'sub_industry': 'Environmental & Facilities Services',\n",
       "   'reason': 'Mapping load failure'},\n",
       "  {'ticker': 'RMD',\n",
       "   'sector': 'Health Care',\n",
       "   'sub_industry': 'Health Care Equipment',\n",
       "   'reason': 'Mapping load failure'},\n",
       "  {'ticker': 'RVTY',\n",
       "   'sector': 'Health Care',\n",
       "   'sub_industry': 'Health Care Equipment',\n",
       "   'reason': 'Mapping load failure'},\n",
       "  {'ticker': 'ROK',\n",
       "   'sector': 'Industrials',\n",
       "   'sub_industry': 'Electrical Components & Equipment',\n",
       "   'reason': 'Mapping load failure'},\n",
       "  {'ticker': 'ROL',\n",
       "   'sector': 'Industrials',\n",
       "   'sub_industry': 'Environmental & Facilities Services',\n",
       "   'reason': 'Mapping load failure'},\n",
       "  {'ticker': 'ROP',\n",
       "   'sector': 'Information Technology',\n",
       "   'sub_industry': 'Electronic Equipment & Instruments',\n",
       "   'reason': 'Mapping load failure'},\n",
       "  {'ticker': 'ROST',\n",
       "   'sector': 'Consumer Discretionary',\n",
       "   'sub_industry': 'Apparel Retail',\n",
       "   'reason': 'Mapping load failure'},\n",
       "  {'ticker': 'RCL',\n",
       "   'sector': 'Consumer Discretionary',\n",
       "   'sub_industry': 'Hotels, Resorts & Cruise Lines',\n",
       "   'reason': 'Mapping load failure'},\n",
       "  {'ticker': 'SPGI',\n",
       "   'sector': 'Financials',\n",
       "   'sub_industry': 'Financial Exchanges & Data',\n",
       "   'reason': 'Mapping load failure'},\n",
       "  {'ticker': 'CRM',\n",
       "   'sector': 'Information Technology',\n",
       "   'sub_industry': 'Application Software',\n",
       "   'reason': 'Mapping load failure'},\n",
       "  {'ticker': 'SBAC',\n",
       "   'sector': 'Real Estate',\n",
       "   'sub_industry': 'Telecom Tower REITs',\n",
       "   'reason': 'Mapping load failure'},\n",
       "  {'ticker': 'SLB',\n",
       "   'sector': 'Energy',\n",
       "   'sub_industry': 'Oil & Gas Equipment & Services',\n",
       "   'reason': 'Mapping load failure'},\n",
       "  {'ticker': 'STX',\n",
       "   'sector': 'Information Technology',\n",
       "   'sub_industry': 'Technology Hardware, Storage & Peripherals',\n",
       "   'reason': 'Mapping load failure'},\n",
       "  {'ticker': 'SRE',\n",
       "   'sector': 'Utilities',\n",
       "   'sub_industry': 'Multi-Utilities',\n",
       "   'reason': 'Mapping load failure'},\n",
       "  {'ticker': 'NOW',\n",
       "   'sector': 'Information Technology',\n",
       "   'sub_industry': 'Systems Software',\n",
       "   'reason': 'Mapping load failure'},\n",
       "  {'ticker': 'SHW',\n",
       "   'sector': 'Materials',\n",
       "   'sub_industry': 'Specialty Chemicals',\n",
       "   'reason': 'Mapping load failure'},\n",
       "  {'ticker': 'SPG',\n",
       "   'sector': 'Real Estate',\n",
       "   'sub_industry': 'Retail REITs',\n",
       "   'reason': 'Mapping load failure'},\n",
       "  {'ticker': 'SWKS',\n",
       "   'sector': 'Information Technology',\n",
       "   'sub_industry': 'Semiconductors',\n",
       "   'reason': 'Mapping load failure'},\n",
       "  {'ticker': 'SJM',\n",
       "   'sector': 'Consumer Staples',\n",
       "   'sub_industry': 'Packaged Foods & Meats',\n",
       "   'reason': 'Mapping load failure'},\n",
       "  {'ticker': 'SW',\n",
       "   'sector': 'Materials',\n",
       "   'sub_industry': 'Paper & Plastic Packaging Products & Materials',\n",
       "   'reason': 'Mapping load failure'},\n",
       "  {'ticker': 'SNA',\n",
       "   'sector': 'Industrials',\n",
       "   'sub_industry': 'Industrial Machinery & Supplies & Components',\n",
       "   'reason': 'Mapping load failure'},\n",
       "  {'ticker': 'SOLV',\n",
       "   'sector': 'Health Care',\n",
       "   'sub_industry': 'Health Care Technology',\n",
       "   'reason': 'Mapping load failure'},\n",
       "  {'ticker': 'SO',\n",
       "   'sector': 'Utilities',\n",
       "   'sub_industry': 'Electric Utilities',\n",
       "   'reason': 'Mapping load failure'},\n",
       "  {'ticker': 'LUV',\n",
       "   'sector': 'Industrials',\n",
       "   'sub_industry': 'Passenger Airlines',\n",
       "   'reason': 'Mapping load failure'},\n",
       "  {'ticker': 'SWK',\n",
       "   'sector': 'Industrials',\n",
       "   'sub_industry': 'Industrial Machinery & Supplies & Components',\n",
       "   'reason': 'Mapping load failure'},\n",
       "  {'ticker': 'SBUX',\n",
       "   'sector': 'Consumer Discretionary',\n",
       "   'sub_industry': 'Restaurants',\n",
       "   'reason': 'Mapping load failure'},\n",
       "  {'ticker': 'STT',\n",
       "   'sector': 'Financials',\n",
       "   'sub_industry': 'Asset Management & Custody Banks',\n",
       "   'reason': 'Mapping load failure'},\n",
       "  {'ticker': 'STLD',\n",
       "   'sector': 'Materials',\n",
       "   'sub_industry': 'Steel',\n",
       "   'reason': 'Mapping load failure'},\n",
       "  {'ticker': 'STE',\n",
       "   'sector': 'Health Care',\n",
       "   'sub_industry': 'Health Care Equipment',\n",
       "   'reason': 'Mapping load failure'},\n",
       "  {'ticker': 'SYK',\n",
       "   'sector': 'Health Care',\n",
       "   'sub_industry': 'Health Care Equipment',\n",
       "   'reason': 'Mapping load failure'},\n",
       "  {'ticker': 'SMCI',\n",
       "   'sector': 'Information Technology',\n",
       "   'sub_industry': 'Technology Hardware, Storage & Peripherals',\n",
       "   'reason': 'Mapping load failure'},\n",
       "  {'ticker': 'SYF',\n",
       "   'sector': 'Financials',\n",
       "   'sub_industry': 'Consumer Finance',\n",
       "   'reason': 'Mapping load failure'},\n",
       "  {'ticker': 'SNPS',\n",
       "   'sector': 'Information Technology',\n",
       "   'sub_industry': 'Application Software',\n",
       "   'reason': 'Mapping load failure'},\n",
       "  {'ticker': 'SYY',\n",
       "   'sector': 'Consumer Staples',\n",
       "   'sub_industry': 'Food Distributors',\n",
       "   'reason': 'Mapping load failure'},\n",
       "  {'ticker': 'TMUS',\n",
       "   'sector': 'Communication Services',\n",
       "   'sub_industry': 'Wireless Telecommunication Services',\n",
       "   'reason': 'Mapping load failure'},\n",
       "  {'ticker': 'TROW',\n",
       "   'sector': 'Financials',\n",
       "   'sub_industry': 'Asset Management & Custody Banks',\n",
       "   'reason': 'Mapping load failure'},\n",
       "  {'ticker': 'TTWO',\n",
       "   'sector': 'Communication Services',\n",
       "   'sub_industry': 'Interactive Home Entertainment',\n",
       "   'reason': 'Mapping load failure'},\n",
       "  {'ticker': 'TPR',\n",
       "   'sector': 'Consumer Discretionary',\n",
       "   'sub_industry': 'Apparel, Accessories & Luxury Goods',\n",
       "   'reason': 'Mapping load failure'},\n",
       "  {'ticker': 'TRGP',\n",
       "   'sector': 'Energy',\n",
       "   'sub_industry': 'Oil & Gas Storage & Transportation',\n",
       "   'reason': 'Mapping load failure'},\n",
       "  {'ticker': 'TGT',\n",
       "   'sector': 'Consumer Staples',\n",
       "   'sub_industry': 'Consumer Staples Merchandise Retail',\n",
       "   'reason': 'Mapping load failure'},\n",
       "  {'ticker': 'TEL',\n",
       "   'sector': 'Information Technology',\n",
       "   'sub_industry': 'Electronic Manufacturing Services',\n",
       "   'reason': 'Mapping load failure'},\n",
       "  {'ticker': 'TDY',\n",
       "   'sector': 'Information Technology',\n",
       "   'sub_industry': 'Electronic Equipment & Instruments',\n",
       "   'reason': 'Mapping load failure'},\n",
       "  {'ticker': 'TFX',\n",
       "   'sector': 'Health Care',\n",
       "   'sub_industry': 'Health Care Equipment',\n",
       "   'reason': 'Mapping load failure'},\n",
       "  {'ticker': 'TER',\n",
       "   'sector': 'Information Technology',\n",
       "   'sub_industry': 'Semiconductor Materials & Equipment',\n",
       "   'reason': 'Mapping load failure'},\n",
       "  {'ticker': 'TSLA',\n",
       "   'sector': 'Consumer Discretionary',\n",
       "   'sub_industry': 'Automobile Manufacturers',\n",
       "   'reason': 'Mapping load failure'},\n",
       "  {'ticker': 'TXN',\n",
       "   'sector': 'Information Technology',\n",
       "   'sub_industry': 'Semiconductors',\n",
       "   'reason': 'Mapping load failure'},\n",
       "  {'ticker': 'TPL',\n",
       "   'sector': 'Energy',\n",
       "   'sub_industry': 'Oil & Gas Exploration & Production',\n",
       "   'reason': 'Mapping load failure'},\n",
       "  {'ticker': 'TXT',\n",
       "   'sector': 'Industrials',\n",
       "   'sub_industry': 'Aerospace & Defense',\n",
       "   'reason': 'Mapping load failure'},\n",
       "  {'ticker': 'TMO',\n",
       "   'sector': 'Health Care',\n",
       "   'sub_industry': 'Life Sciences Tools & Services',\n",
       "   'reason': 'Mapping load failure'},\n",
       "  {'ticker': 'TJX',\n",
       "   'sector': 'Consumer Discretionary',\n",
       "   'sub_industry': 'Apparel Retail',\n",
       "   'reason': 'Mapping load failure'},\n",
       "  {'ticker': 'TSCO',\n",
       "   'sector': 'Consumer Discretionary',\n",
       "   'sub_industry': 'Other Specialty Retail',\n",
       "   'reason': 'Mapping load failure'},\n",
       "  {'ticker': 'TT',\n",
       "   'sector': 'Industrials',\n",
       "   'sub_industry': 'Building Products',\n",
       "   'reason': 'Mapping load failure'},\n",
       "  {'ticker': 'TDG',\n",
       "   'sector': 'Industrials',\n",
       "   'sub_industry': 'Aerospace & Defense',\n",
       "   'reason': 'Mapping load failure'},\n",
       "  {'ticker': 'TRV',\n",
       "   'sector': 'Financials',\n",
       "   'sub_industry': 'Property & Casualty Insurance',\n",
       "   'reason': 'Mapping load failure'},\n",
       "  {'ticker': 'TRMB',\n",
       "   'sector': 'Information Technology',\n",
       "   'sub_industry': 'Electronic Equipment & Instruments',\n",
       "   'reason': 'Mapping load failure'},\n",
       "  {'ticker': 'TFC',\n",
       "   'sector': 'Financials',\n",
       "   'sub_industry': 'Diversified Banks',\n",
       "   'reason': 'Mapping load failure'},\n",
       "  {'ticker': 'TYL',\n",
       "   'sector': 'Information Technology',\n",
       "   'sub_industry': 'Application Software',\n",
       "   'reason': 'Mapping load failure'},\n",
       "  {'ticker': 'TSN',\n",
       "   'sector': 'Consumer Staples',\n",
       "   'sub_industry': 'Packaged Foods & Meats',\n",
       "   'reason': 'Mapping load failure'},\n",
       "  {'ticker': 'USB',\n",
       "   'sector': 'Financials',\n",
       "   'sub_industry': 'Diversified Banks',\n",
       "   'reason': 'Mapping load failure'},\n",
       "  {'ticker': 'UBER',\n",
       "   'sector': 'Industrials',\n",
       "   'sub_industry': 'Passenger Ground Transportation',\n",
       "   'reason': 'Mapping load failure'},\n",
       "  {'ticker': 'UDR',\n",
       "   'sector': 'Real Estate',\n",
       "   'sub_industry': 'Multi-Family Residential REITs',\n",
       "   'reason': 'Mapping load failure'},\n",
       "  {'ticker': 'ULTA',\n",
       "   'sector': 'Consumer Discretionary',\n",
       "   'sub_industry': 'Other Specialty Retail',\n",
       "   'reason': 'Mapping load failure'},\n",
       "  {'ticker': 'UNP',\n",
       "   'sector': 'Industrials',\n",
       "   'sub_industry': 'Rail Transportation',\n",
       "   'reason': 'Mapping load failure'},\n",
       "  {'ticker': 'UAL',\n",
       "   'sector': 'Industrials',\n",
       "   'sub_industry': 'Passenger Airlines',\n",
       "   'reason': 'Mapping load failure'},\n",
       "  {'ticker': 'UPS',\n",
       "   'sector': 'Industrials',\n",
       "   'sub_industry': 'Air Freight & Logistics',\n",
       "   'reason': 'Mapping load failure'},\n",
       "  {'ticker': 'URI',\n",
       "   'sector': 'Industrials',\n",
       "   'sub_industry': 'Trading Companies & Distributors',\n",
       "   'reason': 'Mapping load failure'},\n",
       "  {'ticker': 'UNH',\n",
       "   'sector': 'Health Care',\n",
       "   'sub_industry': 'Managed Health Care',\n",
       "   'reason': 'Mapping load failure'},\n",
       "  {'ticker': 'UHS',\n",
       "   'sector': 'Health Care',\n",
       "   'sub_industry': 'Health Care Facilities',\n",
       "   'reason': 'Mapping load failure'},\n",
       "  {'ticker': 'VLO',\n",
       "   'sector': 'Energy',\n",
       "   'sub_industry': 'Oil & Gas Refining & Marketing',\n",
       "   'reason': 'Mapping load failure'},\n",
       "  {'ticker': 'VTR',\n",
       "   'sector': 'Real Estate',\n",
       "   'sub_industry': 'Health Care REITs',\n",
       "   'reason': 'Mapping load failure'},\n",
       "  {'ticker': 'VLTO',\n",
       "   'sector': 'Industrials',\n",
       "   'sub_industry': 'Environmental & Facilities Services',\n",
       "   'reason': 'Mapping load failure'},\n",
       "  {'ticker': 'VRSN',\n",
       "   'sector': 'Information Technology',\n",
       "   'sub_industry': 'Internet Services & Infrastructure',\n",
       "   'reason': 'Mapping load failure'},\n",
       "  {'ticker': 'VRSK',\n",
       "   'sector': 'Industrials',\n",
       "   'sub_industry': 'Research & Consulting Services',\n",
       "   'reason': 'Mapping load failure'},\n",
       "  {'ticker': 'VZ',\n",
       "   'sector': 'Communication Services',\n",
       "   'sub_industry': 'Integrated Telecommunication Services',\n",
       "   'reason': 'Mapping load failure'},\n",
       "  {'ticker': 'VRTX',\n",
       "   'sector': 'Health Care',\n",
       "   'sub_industry': 'Biotechnology',\n",
       "   'reason': 'Mapping load failure'},\n",
       "  {'ticker': 'VTRS',\n",
       "   'sector': 'Health Care',\n",
       "   'sub_industry': 'Pharmaceuticals',\n",
       "   'reason': 'Mapping load failure'},\n",
       "  {'ticker': 'VICI',\n",
       "   'sector': 'Real Estate',\n",
       "   'sub_industry': 'Hotel & Resort REITs',\n",
       "   'reason': 'Mapping load failure'},\n",
       "  {'ticker': 'V',\n",
       "   'sector': 'Financials',\n",
       "   'sub_industry': 'Transaction & Payment Processing Services',\n",
       "   'reason': 'Mapping load failure'},\n",
       "  {'ticker': 'VST',\n",
       "   'sector': 'Utilities',\n",
       "   'sub_industry': 'Electric Utilities',\n",
       "   'reason': 'Mapping load failure'},\n",
       "  {'ticker': 'VMC',\n",
       "   'sector': 'Materials',\n",
       "   'sub_industry': 'Construction Materials',\n",
       "   'reason': 'Mapping load failure'},\n",
       "  {'ticker': 'WRB',\n",
       "   'sector': 'Financials',\n",
       "   'sub_industry': 'Property & Casualty Insurance',\n",
       "   'reason': 'Mapping load failure'},\n",
       "  {'ticker': 'GWW',\n",
       "   'sector': 'Industrials',\n",
       "   'sub_industry': 'Industrial Machinery & Supplies & Components',\n",
       "   'reason': 'Mapping load failure'},\n",
       "  {'ticker': 'WAB',\n",
       "   'sector': 'Industrials',\n",
       "   'sub_industry': 'Construction Machinery & Heavy Transportation Equipment',\n",
       "   'reason': 'Mapping load failure'},\n",
       "  {'ticker': 'WBA',\n",
       "   'sector': 'Consumer Staples',\n",
       "   'sub_industry': 'Drug Retail',\n",
       "   'reason': 'Mapping load failure'},\n",
       "  {'ticker': 'WMT',\n",
       "   'sector': 'Consumer Staples',\n",
       "   'sub_industry': 'Consumer Staples Merchandise Retail',\n",
       "   'reason': 'Mapping load failure'},\n",
       "  {'ticker': 'DIS',\n",
       "   'sector': 'Communication Services',\n",
       "   'sub_industry': 'Movies & Entertainment',\n",
       "   'reason': 'Mapping load failure'},\n",
       "  {'ticker': 'WBD',\n",
       "   'sector': 'Communication Services',\n",
       "   'sub_industry': 'Broadcasting',\n",
       "   'reason': 'Mapping load failure'},\n",
       "  {'ticker': 'WM',\n",
       "   'sector': 'Industrials',\n",
       "   'sub_industry': 'Environmental & Facilities Services',\n",
       "   'reason': 'Mapping load failure'},\n",
       "  {'ticker': 'WAT',\n",
       "   'sector': 'Health Care',\n",
       "   'sub_industry': 'Life Sciences Tools & Services',\n",
       "   'reason': 'Mapping load failure'},\n",
       "  {'ticker': 'WEC',\n",
       "   'sector': 'Utilities',\n",
       "   'sub_industry': 'Electric Utilities',\n",
       "   'reason': 'Mapping load failure'},\n",
       "  {'ticker': 'WFC',\n",
       "   'sector': 'Financials',\n",
       "   'sub_industry': 'Diversified Banks',\n",
       "   'reason': 'Mapping load failure'},\n",
       "  {'ticker': 'WELL',\n",
       "   'sector': 'Real Estate',\n",
       "   'sub_industry': 'Health Care REITs',\n",
       "   'reason': 'Mapping load failure'},\n",
       "  {'ticker': 'WST',\n",
       "   'sector': 'Health Care',\n",
       "   'sub_industry': 'Health Care Supplies',\n",
       "   'reason': 'Mapping load failure'},\n",
       "  {'ticker': 'WDC',\n",
       "   'sector': 'Information Technology',\n",
       "   'sub_industry': 'Technology Hardware, Storage & Peripherals',\n",
       "   'reason': 'Mapping load failure'},\n",
       "  {'ticker': 'WY',\n",
       "   'sector': 'Real Estate',\n",
       "   'sub_industry': 'Timber REITs',\n",
       "   'reason': 'Mapping load failure'},\n",
       "  {'ticker': 'WMB',\n",
       "   'sector': 'Energy',\n",
       "   'sub_industry': 'Oil & Gas Storage & Transportation',\n",
       "   'reason': 'Mapping load failure'},\n",
       "  {'ticker': 'WTW',\n",
       "   'sector': 'Financials',\n",
       "   'sub_industry': 'Insurance Brokers',\n",
       "   'reason': 'Mapping load failure'},\n",
       "  {'ticker': 'WDAY',\n",
       "   'sector': 'Information Technology',\n",
       "   'sub_industry': 'Application Software',\n",
       "   'reason': 'Mapping load failure'},\n",
       "  {'ticker': 'WYNN',\n",
       "   'sector': 'Consumer Discretionary',\n",
       "   'sub_industry': 'Casinos & Gaming',\n",
       "   'reason': 'Mapping load failure'},\n",
       "  {'ticker': 'XEL',\n",
       "   'sector': 'Utilities',\n",
       "   'sub_industry': 'Multi-Utilities',\n",
       "   'reason': 'Mapping load failure'},\n",
       "  {'ticker': 'XYL',\n",
       "   'sector': 'Industrials',\n",
       "   'sub_industry': 'Industrial Machinery & Supplies & Components',\n",
       "   'reason': 'Mapping load failure'},\n",
       "  {'ticker': 'YUM',\n",
       "   'sector': 'Consumer Discretionary',\n",
       "   'sub_industry': 'Restaurants',\n",
       "   'reason': 'Mapping load failure'},\n",
       "  {'ticker': 'ZBRA',\n",
       "   'sector': 'Information Technology',\n",
       "   'sub_industry': 'Electronic Equipment & Instruments',\n",
       "   'reason': 'Mapping load failure'},\n",
       "  {'ticker': 'ZBH',\n",
       "   'sector': 'Health Care',\n",
       "   'sub_industry': 'Health Care Equipment',\n",
       "   'reason': 'Mapping load failure'},\n",
       "  {'ticker': 'ZTS',\n",
       "   'sector': 'Health Care',\n",
       "   'sub_industry': 'Pharmaceuticals',\n",
       "   'reason': 'Mapping load failure'}],\n",
       " 'mapping_issues': []}"
      ]
     },
     "execution_count": 2,
     "metadata": {},
     "output_type": "execute_result"
    }
   ],
   "source": [
    "# Global list to store mapping debug information\n",
    "mapping_debug_log = []\n",
    "\n",
    "# Function to load industry mappings from sector-specific Python files\n",
    "# Function to load industry mappings from sector-specific Python files\n",
    "def load_industry_mapping(sector, sub_industry, mappings_dir='.'):\n",
    "    \"\"\"\n",
    "    Load the appropriate industry mapping based on sector and sub-industry.\n",
    "    \n",
    "    Args:\n",
    "        sector (str): GICS Sector \n",
    "        sub_industry (str): GICS Sub-Industry\n",
    "        mappings_dir (str): Directory containing the mapping Python files\n",
    "        \n",
    "    Returns:\n",
    "        dict: The mapping dictionary for the specified sector and sub-industry\n",
    "    \"\"\"\n",
    "    try:\n",
    "        # Convert sector name to filename format\n",
    "        sector_file = sector.lower().replace(' ', '').replace('&', '').replace('-', '') + '.py'\n",
    "        \n",
    "        # Check if file exists (using the specified directory)\n",
    "        sector_file_path = os.path.join(mappings_dir, sector_file)\n",
    "        if not os.path.exists(sector_file_path):\n",
    "            debug_msg = f\"Warning: Mapping file {sector_file_path} not found for {sector} - {sub_industry}.\"\n",
    "            print(debug_msg)\n",
    "            mapping_debug_log.append(debug_msg)\n",
    "            return None\n",
    "        \n",
    "        # Load the module dynamically\n",
    "        spec = importlib.util.spec_from_file_location(sector.lower(), sector_file_path)\n",
    "        module = importlib.util.module_from_spec(spec)\n",
    "        spec.loader.exec_module(module)\n",
    "        \n",
    "        # Get the industry mappings\n",
    "        if hasattr(module, 'industry_mappings'):\n",
    "            industry_mappings = module.industry_mappings\n",
    "            \n",
    "            # Log available keys for debugging\n",
    "            available_keys = list(industry_mappings.keys())\n",
    "            debug_msg = f\"Processing {sector} - {sub_industry}... dict_keys({available_keys})\"\n",
    "            print(debug_msg)\n",
    "            mapping_debug_log.append(debug_msg)\n",
    "            \n",
    "            # Try multiple normalization strategies to find a match\n",
    "            \n",
    "            # Strategy 1: Direct key lookup without normalization\n",
    "            if sub_industry in industry_mappings:\n",
    "                debug_msg = f\"Found direct mapping for {sub_industry}\"\n",
    "                print(debug_msg)\n",
    "                mapping_debug_log.append(debug_msg)\n",
    "                return industry_mappings[sub_industry]\n",
    "            \n",
    "            # Generate different normalized versions of the sub_industry\n",
    "            normalized_versions = [\n",
    "                # Strategy 2: PascalCase with '&' → 'And'\n",
    "                ''.join(word.capitalize() for word in sub_industry.replace('&', ' And ').split()),\n",
    "                \n",
    "                # Strategy 3: PascalCase with '&' removed\n",
    "                ''.join(word.capitalize() for word in sub_industry.replace('&', ' ').split()),\n",
    "                \n",
    "                # Strategy 4: PascalCase with all punctuation removed\n",
    "                ''.join(word.capitalize() for word in ''.join(c if c.isalnum() or c.isspace() else ' ' for c in sub_industry).split()),\n",
    "            ]\n",
    "            \n",
    "            # Try each normalized version\n",
    "            for normalized in normalized_versions:\n",
    "                if normalized in industry_mappings:\n",
    "                    debug_msg = f\"Found mapping for {sub_industry} → {normalized}\"\n",
    "                    print(debug_msg)\n",
    "                    mapping_debug_log.append(debug_msg)\n",
    "                    return industry_mappings[normalized]\n",
    "            \n",
    "            # Try more aggressive partial matching approaches\n",
    "            # Create multiple normalized versions for comparison\n",
    "            sub_variants = [\n",
    "                # Remove spaces, convert to lowercase\n",
    "                sub_industry.lower().replace(' ', ''),\n",
    "                \n",
    "                # Remove spaces, '&', convert to lowercase\n",
    "                sub_industry.lower().replace(' ', '').replace('&', ''),\n",
    "                \n",
    "                # Replace '&' with 'and', remove spaces, convert to lowercase\n",
    "                sub_industry.lower().replace(' ', '').replace('&', 'and'),\n",
    "                \n",
    "                # Remove all non-alphanumeric chars, convert to lowercase\n",
    "                ''.join(c.lower() for c in sub_industry if c.isalnum())\n",
    "            ]\n",
    "            \n",
    "            # Try to match with each key using the variants\n",
    "            for key in industry_mappings:\n",
    "                # Create similar variants for the key\n",
    "                key_variants = [\n",
    "                    # Remove spaces, convert to lowercase\n",
    "                    key.lower().replace(' ', ''),\n",
    "                    \n",
    "                    # Remove spaces, 'And', convert to lowercase\n",
    "                    key.lower().replace(' ', '').replace('and', ''),\n",
    "                    \n",
    "                    # Remove all non-alphanumeric chars, convert to lowercase\n",
    "                    ''.join(c.lower() for c in key if c.isalnum())\n",
    "                ]\n",
    "                \n",
    "                # Check if any variant of sub_industry matches any variant of key\n",
    "                for sub_var in sub_variants:\n",
    "                    for key_var in key_variants:\n",
    "                        if sub_var == key_var or sub_var in key_var or key_var in sub_var:\n",
    "                            debug_msg = f\"Using mapping for {key} (variant match with {sub_industry})\"\n",
    "                            print(debug_msg)\n",
    "                            mapping_debug_log.append(debug_msg)\n",
    "                            return industry_mappings[key]\n",
    "                \n",
    "                # Special case for 'Accounts' suffix\n",
    "                if 'accounts' in key.lower():\n",
    "                    key_no_accounts = key.lower().replace('accounts', '')\n",
    "                    for sub_var in sub_variants:\n",
    "                        if sub_var in key_no_accounts or key_no_accounts in sub_var:\n",
    "                            debug_msg = f\"Using mapping for {key} (matched after removing 'Accounts')\"\n",
    "                            print(debug_msg)\n",
    "                            mapping_debug_log.append(debug_msg)\n",
    "                            return industry_mappings[key]\n",
    "            \n",
    "            # Use first industry mapping as fallback\n",
    "            default_key = next(iter(industry_mappings.keys()))\n",
    "            debug_msg = f\"No specific mapping found for {sub_industry}. Using default mapping for {sector}: {default_key}\"\n",
    "            print(debug_msg)\n",
    "            mapping_debug_log.append(debug_msg)\n",
    "            return industry_mappings[default_key]\n",
    "        else:\n",
    "            debug_msg = f\"No industry_mappings found in {sector_file} for {sector} - {sub_industry}.\"\n",
    "            print(debug_msg)\n",
    "            mapping_debug_log.append(debug_msg)\n",
    "            return None\n",
    "    except Exception as e:\n",
    "        debug_msg = f\"Error loading industry mapping for {sector} - {sub_industry}: {str(e)}\"\n",
    "        print(debug_msg)\n",
    "        mapping_debug_log.append(debug_msg)\n",
    "        return None\n",
    "\n",
    "# Load company data from CSV\n",
    "def load_company_data(ticker, data_dir='clean'):\n",
    "    \"\"\"\n",
    "    Load financial data for a specific company.\n",
    "    \n",
    "    Args:\n",
    "        ticker (str): Company ticker symbol\n",
    "        \n",
    "    Returns:\n",
    "        DataFrame: Financial data for the company\n",
    "    \"\"\"\n",
    "    try:\n",
    "        filepath = os.path.join(data_dir, f\"{ticker}.csv\")\n",
    "        df = pd.read_csv(filepath)\n",
    "        return df\n",
    "    except Exception as e:\n",
    "        print(f\"Error loading data for {ticker}: {str(e)}\")\n",
    "        return None\n",
    "\n",
    "# Helper function to extract account value using mapping info\n",
    "# Updated helper function to extract account value using mapping info\n",
    "def extract_account_value(df, account_info, available_columns):\n",
    "    \"\"\"\n",
    "    Extract account value from financial data using mapping information.\n",
    "    Checks cell by cell, using alternatives if primary value is NaN.\n",
    "    \n",
    "    Args:\n",
    "        df (DataFrame): Company financial data\n",
    "        account_info (dict): Account mapping information\n",
    "        available_columns (set): Available columns in the DataFrame\n",
    "        \n",
    "    Returns:\n",
    "        Series: Account value from primary or alternatives\n",
    "    \"\"\"\n",
    "    # Initialize result series with NaN values\n",
    "    result = pd.Series(np.nan, index=df.index)\n",
    "    \n",
    "    # Iterate through each row (each reporting period)\n",
    "    for idx in df.index:\n",
    "        # Check primary tag first\n",
    "        if 'primary' in account_info and account_info['primary'] in available_columns:\n",
    "            primary_value = df.at[idx, account_info['primary']]\n",
    "            \n",
    "            # If primary value exists and is not NaN, use it\n",
    "            if pd.notna(primary_value):\n",
    "                result.at[idx] = primary_value\n",
    "                continue\n",
    "        \n",
    "        # If primary is NaN or missing, check alternatives\n",
    "        if 'alternatives' in account_info:\n",
    "            for alt in account_info['alternatives']:\n",
    "                if alt in available_columns:\n",
    "                    alt_value = df.at[idx, alt]\n",
    "                    if pd.notna(alt_value):\n",
    "                        result.at[idx] = alt_value\n",
    "                        break  # Use first non-NaN alternative\n",
    "        \n",
    "        # If still NaN, try children as a sum if available\n",
    "        if pd.isna(result.at[idx]) and 'children' in account_info and account_info['children']:\n",
    "            child_values = []\n",
    "            for child in account_info['children']:\n",
    "                if child in available_columns and pd.notna(df.at[idx, child]):\n",
    "                    child_values.append(df.at[idx, child])\n",
    "            \n",
    "            # If we found any child values, sum them\n",
    "            if child_values:\n",
    "                result.at[idx] = sum(child_values)\n",
    "    \n",
    "    return result\n",
    "\n",
    "# Function to reconstruct balance sheet\n",
    "def reconstruct_balance_sheet(df, industry_mapping):\n",
    "    \"\"\"\n",
    "    Reconstruct balance sheet using industry-specific mappings.\n",
    "    \n",
    "    Args:\n",
    "        df (DataFrame): Company financial data\n",
    "        industry_mapping (dict): Industry-specific mappings\n",
    "        \n",
    "    Returns:\n",
    "        DataFrame: Reconstructed balance sheet\n",
    "    \"\"\"\n",
    "    # Create new DataFrame for balance sheet\n",
    "    balance_sheet = pd.DataFrame(index=df.index)\n",
    "    \n",
    "    # Copy metadata columns\n",
    "    id_columns = ['filed', 'company_name', 'end', 'unit', 'form', 'frame', 'cik']\n",
    "    for col in id_columns:\n",
    "        if col in df.columns:\n",
    "            balance_sheet[col] = df[col]\n",
    "    \n",
    "    # Get available columns\n",
    "    available_columns = set(df.columns)\n",
    "    \n",
    "    # Process balance sheet sections dynamically\n",
    "    balance_sheet_sections = ['Assets', 'Liabilities', 'Equity']\n",
    "    \n",
    "    for section in balance_sheet_sections:\n",
    "        if section in industry_mapping:\n",
    "            # Iterate through all sub-accounts in this section as defined in the mapping\n",
    "            for account_name, account_info in industry_mapping[section].items():\n",
    "                value = extract_account_value(df, account_info, available_columns)\n",
    "                balance_sheet[f\"{section} - {account_name}\"] = value\n",
    "    \n",
    "    # Add missing totals and validate\n",
    "    balance_sheet = add_missing_balance_sheet_totals(balance_sheet)\n",
    "    \n",
    "    # Remove columns with only NaN values\n",
    "    balance_sheet = remove_nan_only_columns(balance_sheet)\n",
    "    \n",
    "    return balance_sheet\n",
    "\n",
    "# Function to reconstruct income statement\n",
    "def reconstruct_income_statement(df, industry_mapping):\n",
    "    \"\"\"\n",
    "    Reconstruct income statement using industry-specific mappings.\n",
    "    \n",
    "    Args:\n",
    "        df (DataFrame): Company financial data\n",
    "        industry_mapping (dict): Industry-specific mappings\n",
    "        \n",
    "    Returns:\n",
    "        DataFrame: Reconstructed income statement\n",
    "    \"\"\"\n",
    "    # Create new DataFrame for income statement\n",
    "    income_statement = pd.DataFrame(index=df.index)\n",
    "    \n",
    "    # Copy metadata columns\n",
    "    id_columns = ['filed', 'company_name', 'end', 'unit', 'form', 'frame', 'cik']\n",
    "    for col in id_columns:\n",
    "        if col in df.columns:\n",
    "            income_statement[col] = df[col]\n",
    "    \n",
    "    # Get available columns\n",
    "    available_columns = set(df.columns)\n",
    "    \n",
    "    # Process Income Statement dynamically\n",
    "    if 'IncomeStatement' in industry_mapping:\n",
    "        income_mapping = industry_mapping['IncomeStatement']\n",
    "        \n",
    "        # Iterate through all sections in the income statement mapping\n",
    "        for section_name, section_data in income_mapping.items():\n",
    "            # Check if this is a nested structure or direct account mapping\n",
    "            if isinstance(section_data, dict) and 'primary' in section_data:\n",
    "                # Direct account mapping (unnested)\n",
    "                value = extract_account_value(df, section_data, available_columns)\n",
    "                income_statement[f\"IncomeStatement - {section_name}\"] = value\n",
    "            else:\n",
    "                # Nested structure - process each account in the section\n",
    "                for account_name, account_info in section_data.items():\n",
    "                    # Check if this is a further nested structure\n",
    "                    if isinstance(account_info, dict) and 'primary' in account_info:\n",
    "                        # Direct account mapping\n",
    "                        value = extract_account_value(df, account_info, available_columns)\n",
    "                        income_statement[f\"IncomeStatement - {section_name} - {account_name}\"] = value\n",
    "                    else:\n",
    "                        # Further nested structure\n",
    "                        for sub_account_name, sub_account_info in account_info.items():\n",
    "                            value = extract_account_value(df, sub_account_info, available_columns)\n",
    "                            income_statement[f\"IncomeStatement - {section_name} - {account_name} - {sub_account_name}\"] = value\n",
    "    \n",
    "    # Remove columns with only NaN values\n",
    "    income_statement = remove_nan_only_columns(income_statement)\n",
    "    \n",
    "    return income_statement\n",
    "\n",
    "# Function to reconstruct cash flow statement\n",
    "def reconstruct_cash_flow_statement(df, industry_mapping):\n",
    "    \"\"\"\n",
    "    Reconstruct cash flow statement using industry-specific mappings.\n",
    "    \n",
    "    Args:\n",
    "        df (DataFrame): Company financial data\n",
    "        industry_mapping (dict): Industry-specific mappings\n",
    "        \n",
    "    Returns:\n",
    "        DataFrame: Reconstructed cash flow statement\n",
    "    \"\"\"\n",
    "    # Create new DataFrame for cash flow statement\n",
    "    cash_flow = pd.DataFrame(index=df.index)\n",
    "    \n",
    "    # Copy metadata columns\n",
    "    id_columns = ['filed', 'company_name', 'end', 'unit', 'form', 'frame', 'cik']\n",
    "    for col in id_columns:\n",
    "        if col in df.columns:\n",
    "            cash_flow[col] = df[col]\n",
    "    \n",
    "    # Get available columns\n",
    "    available_columns = set(df.columns)\n",
    "    \n",
    "    # Process Cash Flow Statement dynamically\n",
    "    if 'CashFlowStatement' in industry_mapping:\n",
    "        cf_mapping = industry_mapping['CashFlowStatement']\n",
    "        \n",
    "        # Iterate through all sections in the cash flow mapping\n",
    "        for section_name, section_data in cf_mapping.items():\n",
    "            # Process each account in the section\n",
    "            for account_name, account_info in section_data.items():\n",
    "                # Check if this is a nested structure\n",
    "                if isinstance(account_info, dict) and 'primary' in account_info:\n",
    "                    # Direct account mapping\n",
    "                    value = extract_account_value(df, account_info, available_columns)\n",
    "                    cash_flow[f\"CashFlow - {section_name} - {account_name}\"] = value\n",
    "                else:\n",
    "                    # Nested structure\n",
    "                    for sub_account_name, sub_account_info in account_info.items():\n",
    "                        value = extract_account_value(df, sub_account_info, available_columns)\n",
    "                        cash_flow[f\"CashFlow - {section_name} - {account_name} - {sub_account_name}\"] = value\n",
    "    \n",
    "    # Remove columns with only NaN values\n",
    "    cash_flow = remove_nan_only_columns(cash_flow)\n",
    "    \n",
    "    return cash_flow\n",
    "\n",
    "# Function to add missing balance sheet totals (including your validation logic)\n",
    "def add_missing_balance_sheet_totals(balance_sheet):\n",
    "    \"\"\"\n",
    "    Adds missing total columns according to accounting relationships.\n",
    "    \n",
    "    Args:\n",
    "        balance_sheet: DataFrame with reconstructed balance sheet\n",
    "        \n",
    "    Returns:\n",
    "        DataFrame with missing totals computed where possible and validation columns\n",
    "    \"\"\"\n",
    "    # Make a copy to avoid modifying the original\n",
    "    result = balance_sheet.copy()\n",
    "    \n",
    "    # Define key total column names\n",
    "    total_assets_col = 'Assets - Total Assets'\n",
    "    total_liabilities_col = 'Liabilities - TotalLiabilities'\n",
    "    total_equity_col = 'Equity - TotalStockholdersEquity'\n",
    "    total_liab_equity_col = 'Equity - TotalLiabilitiesandEquity'\n",
    "    \n",
    "    # Ensure total columns exist before attempting calculations row-wise\n",
    "    for col in [total_assets_col, total_liabilities_col, total_equity_col, total_liab_equity_col]:\n",
    "        if col not in result.columns:\n",
    "            result[col] = pd.NA\n",
    "    \n",
    "    # Process row by row to handle NaN values in specific cells\n",
    "    for idx, row in result.iterrows():\n",
    "        # Case 1: Compute missing Total Liabilities\n",
    "        if (pd.notna(row[total_liab_equity_col]) and\n",
    "            pd.notna(row[total_equity_col]) and\n",
    "            pd.isna(row[total_liabilities_col])):\n",
    "            result.at[idx, total_liabilities_col] = (row[total_liab_equity_col] -\n",
    "                                                    row[total_equity_col])\n",
    "        \n",
    "        # Case 2: Compute missing Total Stockholders Equity\n",
    "        if (pd.notna(row[total_liab_equity_col]) and\n",
    "            pd.notna(row[total_liabilities_col]) and\n",
    "            pd.isna(row[total_equity_col])):\n",
    "            result.at[idx, total_equity_col] = (row[total_liab_equity_col] -\n",
    "                                              row[total_liabilities_col])\n",
    "        \n",
    "        # Case 3: Compute missing Total Liabilities and Equity\n",
    "        if pd.isna(row[total_liab_equity_col]):\n",
    "            if pd.notna(row[total_assets_col]):\n",
    "                # Set Total Liabilities and Equity = Total Assets (accounting equality)\n",
    "                result.at[idx, total_liab_equity_col] = row[total_assets_col]\n",
    "            elif (pd.notna(row[total_liabilities_col]) and\n",
    "                  pd.notna(row[total_equity_col])):\n",
    "                # Compute Total Liabilities and Equity as sum of components\n",
    "                result.at[idx, total_liab_equity_col] = (row[total_liabilities_col] +\n",
    "                                                       row[total_equity_col])\n",
    "    \n",
    "    # Add validation columns\n",
    "    result['Validation - A = L+E Difference'] = (result[total_assets_col] -\n",
    "                                               result[total_liab_equity_col])\n",
    "    \n",
    "    # This check validates if the sum of Liabilities and Equity components equals Total Liabilities and Equity\n",
    "    if total_liabilities_col in result.columns and total_equity_col in result.columns:\n",
    "        result['Validation - L+E Components Sum Difference'] = (result[total_liabilities_col] +\n",
    "                                                              result[total_equity_col] -\n",
    "                                                              result[total_liab_equity_col])\n",
    "    else:\n",
    "        result['Validation - L+E Components Sum Difference'] = pd.NA\n",
    "    \n",
    "    return result\n",
    "\n",
    "# Function to remove columns that only contain NaN values\n",
    "def remove_nan_only_columns(df):\n",
    "    \"\"\"\n",
    "    Removes columns that contain only NaN values.\n",
    "    \n",
    "    Args:\n",
    "        df: DataFrame to clean\n",
    "        \n",
    "    Returns:\n",
    "        DataFrame with NaN-only columns removed\n",
    "    \"\"\"\n",
    "    nan_cols = df.columns[df.isnull().all()].tolist()\n",
    "    return df.drop(columns=nan_cols)\n",
    "\n",
    "# Function to process SP500 companies with debug logging\n",
    "def process_sp500_companies(sp500_df, data_dir='clean', mappings_dir='.', output_dir='output'):\n",
    "    \"\"\"\n",
    "    Process all S&P 500 companies to generate financial statements.\n",
    "    \n",
    "    Args:\n",
    "        sp500_df (DataFrame): S&P 500 companies data\n",
    "        data_dir (str): Directory containing company CSV files\n",
    "        mappings_dir (str): Directory containing mapping Python files\n",
    "        output_dir (str): Directory to save output files\n",
    "        \n",
    "    Returns:\n",
    "        dict: Debug information including mapping issues\n",
    "    \"\"\"\n",
    "    # Create output directory if it doesn't exist\n",
    "    os.makedirs(output_dir, exist_ok=True)\n",
    "    \n",
    "    # Track success and failures\n",
    "    results = {\n",
    "        'processed_successfully': [],\n",
    "        'failed_processing': [],\n",
    "        'mapping_issues': []\n",
    "    }\n",
    "    \n",
    "    # Process each company\n",
    "    for idx, row in sp500_df.iterrows():\n",
    "        ticker = row['Symbol']\n",
    "        sector = row['GICS Sector']\n",
    "        sub_industry = row['GICS Sub-Industry']\n",
    "        \n",
    "        # Clear previous entries in the global debug log for this company\n",
    "        global mapping_debug_log\n",
    "        mapping_debug_log = []\n",
    "        \n",
    "        print(f\"\\nProcessing {ticker} ({sector} - {sub_industry})...\")\n",
    "        \n",
    "        # Load company data with specified directory\n",
    "        df = load_company_data(ticker, data_dir=data_dir)\n",
    "        if df is None:\n",
    "            debug_msg = f\"Skipping {ticker} - Could not load data.\"\n",
    "            print(debug_msg)\n",
    "            results['failed_processing'].append({\n",
    "                'ticker': ticker,\n",
    "                'sector': sector,\n",
    "                'sub_industry': sub_industry,\n",
    "                'reason': 'Data load failure'\n",
    "            })\n",
    "            continue\n",
    "        \n",
    "        # Load industry mapping with specified directory\n",
    "        industry_mapping = load_industry_mapping(sector, sub_industry, mappings_dir=mappings_dir)\n",
    "        if industry_mapping is None:\n",
    "            debug_msg = f\"Skipping {ticker} - Could not load industry mapping.\"\n",
    "            print(debug_msg)\n",
    "            results['failed_processing'].append({\n",
    "                'ticker': ticker,\n",
    "                'sector': sector,\n",
    "                'sub_industry': sub_industry,\n",
    "                'reason': 'Mapping load failure'\n",
    "            })\n",
    "            continue\n",
    "        \n",
    "        try:\n",
    "            # Generate balance sheet\n",
    "            balance_sheet = reconstruct_balance_sheet(df, industry_mapping)\n",
    "            balance_sheet_path = os.path.join(output_dir, f\"{ticker}_balance_sheet.csv\")\n",
    "            balance_sheet.to_csv(balance_sheet_path, index=False)\n",
    "            \n",
    "            # Generate income statement\n",
    "            income_statement = reconstruct_income_statement(df, industry_mapping)\n",
    "            income_statement_path = os.path.join(output_dir, f\"{ticker}_income_statement.csv\")\n",
    "            income_statement.to_csv(income_statement_path, index=False)\n",
    "            \n",
    "            # Generate cash flow statement\n",
    "            cash_flow = reconstruct_cash_flow_statement(df, industry_mapping)\n",
    "            cash_flow_path = os.path.join(output_dir, f\"{ticker}_cash_flow.csv\")\n",
    "            cash_flow.to_csv(cash_flow_path, index=False)\n",
    "            \n",
    "            success_msg = f\"Successfully generated financial statements for {ticker}\"\n",
    "            print(success_msg)\n",
    "            \n",
    "            # Record success\n",
    "            results['processed_successfully'].append({\n",
    "                'ticker': ticker,\n",
    "                'sector': sector,\n",
    "                'sub_industry': sub_industry\n",
    "            })\n",
    "            \n",
    "            # If we used default mapping, record this as a mapping issue\n",
    "            if any(\"No specific mapping found\" in log for log in mapping_debug_log):\n",
    "                results['mapping_issues'].append({\n",
    "                    'ticker': ticker,\n",
    "                    'sector': sector,\n",
    "                    'sub_industry': sub_industry,\n",
    "                    'debug_logs': mapping_debug_log.copy()\n",
    "                })\n",
    "        \n",
    "        except Exception as e:\n",
    "            error_msg = f\"Error processing {ticker}: {str(e)}\"\n",
    "            print(error_msg)\n",
    "            results['failed_processing'].append({\n",
    "                'ticker': ticker,\n",
    "                'sector': sector,\n",
    "                'sub_industry': sub_industry,\n",
    "                'reason': str(e)\n",
    "            })\n",
    "            continue\n",
    "    \n",
    "    # Save the debug results to a JSON file\n",
    "    debug_file_path = os.path.join(output_dir, \"mapping_debug_results.json\")\n",
    "    import json\n",
    "    with open(debug_file_path, 'w') as f:\n",
    "        json.dump(results, f, indent=2)\n",
    "    \n",
    "    print(f\"\\nDebug information saved to: {debug_file_path}\")\n",
    "    return results\n",
    "\n",
    "# Function to extract and show mapping issues\n",
    "def show_mapping_issues(results=None):\n",
    "    \"\"\"\n",
    "    Display mapping issues from processing results.\n",
    "    \n",
    "    Args:\n",
    "        results: Results dictionary from process_sp500_companies\n",
    "        \n",
    "    Returns:\n",
    "        DataFrame with mapping issues\n",
    "    \"\"\"\n",
    "    if results is None:\n",
    "        # Try to load results from the default location\n",
    "        import json\n",
    "        try:\n",
    "            with open(\"output/mapping_debug_results.json\", 'r') as f:\n",
    "                results = json.load(f)\n",
    "        except:\n",
    "            print(\"No results file found. Run process_sp500_companies first.\")\n",
    "            return None\n",
    "    \n",
    "    # Extract mapping issues\n",
    "    issues_data = []\n",
    "    for issue in results['mapping_issues']:\n",
    "        for log in issue['debug_logs']:\n",
    "            if \"No specific mapping found\" in log:\n",
    "                issues_data.append({\n",
    "                    'ticker': issue['ticker'],\n",
    "                    'sector': issue['sector'],\n",
    "                    'sub_industry': issue['sub_industry'],\n",
    "                    'log_message': log\n",
    "                })\n",
    "    \n",
    "    # Convert to DataFrame\n",
    "    if issues_data:\n",
    "        import pandas as pd\n",
    "        issues_df = pd.DataFrame(issues_data)\n",
    "        return issues_df\n",
    "    else:\n",
    "        print(\"No mapping issues found.\")\n",
    "        return None\n",
    "\n",
    "# Display formatted balance sheet (optional for visualization)\n",
    "def display_balance_sheet(balance_sheet, in_billions=True):\n",
    "    \"\"\"\n",
    "    Display balance sheet in a readable format.\n",
    "    \n",
    "    Args:\n",
    "        balance_sheet: DataFrame with balance sheet data\n",
    "        in_billions: If True, display in billions; otherwise in millions\n",
    "        \n",
    "    Returns:\n",
    "        DataFrame with formatted balance sheet\n",
    "    \"\"\"\n",
    "    # Make a copy to avoid modifying the original\n",
    "    formatted_bs = balance_sheet.copy()\n",
    "    \n",
    "    # Identify numeric columns\n",
    "    numeric_cols = [col for col in formatted_bs.columns \n",
    "                   if any(col.startswith(prefix) for prefix in ['Assets', 'Liabilities', 'Equity', 'Validation'])]\n",
    "    \n",
    "    # Convert to billions or millions\n",
    "    divisor = 1_000_000_000 if in_billions else 1_000_000\n",
    "    \n",
    "    for col in numeric_cols:\n",
    "        # Check if the column is numeric before dividing\n",
    "        if pd.api.types.is_numeric_dtype(formatted_bs[col]):\n",
    "            formatted_bs[col] = formatted_bs[col] / divisor\n",
    "    \n",
    "    # Format the date column if it exists\n",
    "    if 'end' in formatted_bs.columns:\n",
    "        try:\n",
    "            formatted_bs['end'] = pd.to_datetime(formatted_bs['end']).dt.strftime('%Y-%m-%d')\n",
    "        except:\n",
    "            pass  # Keep original format if conversion fails\n",
    "    \n",
    "    # Organize columns by section\n",
    "    metadata_cols = ['filed', 'company_name', 'end', 'unit', 'form', 'frame', 'cik']\n",
    "    asset_cols = [col for col in formatted_bs.columns if col.startswith('Assets')]\n",
    "    liability_cols = [col for col in formatted_bs.columns if col.startswith('Liabilities')]\n",
    "    equity_cols = [col for col in formatted_bs.columns if col.startswith('Equity')]\n",
    "    validation_cols = [col for col in formatted_bs.columns if col.startswith('Validation')]\n",
    "    \n",
    "    # Create ordered list of columns\n",
    "    ordered_cols = (\n",
    "        [col for col in metadata_cols if col in formatted_bs.columns] +\n",
    "        sorted([col for col in asset_cols if 'Total' not in col]) +\n",
    "        sorted([col for col in asset_cols if 'Total' in col]) +\n",
    "        sorted([col for col in liability_cols if 'Total' not in col]) +\n",
    "        sorted([col for col in liability_cols if 'Total' in col]) +\n",
    "        sorted([col for col in equity_cols if 'Total' not in col and 'Liabilities and Equity' not in col]) +\n",
    "        sorted([col for col in equity_cols if 'Total Stockholders Equity' in col]) +\n",
    "        sorted([col for col in equity_cols if 'Liabilities and Equity' in col]) +\n",
    "        validation_cols\n",
    "    )\n",
    "    \n",
    "    # Only include columns that actually exist\n",
    "    final_cols = [col for col in ordered_cols if col in formatted_bs.columns]\n",
    "    \n",
    "    return formatted_bs[final_cols]\n",
    "\n",
    "# Main execution\n",
    "# Load S&P 500 companies data\n",
    "# Load S&P 500 companies data\n",
    "sp500 = pd.read_csv('./data/sp500.csv')\n",
    "\n",
    "# Process all companies with specified directories\n",
    "process_sp500_companies(\n",
    "    sp500_df=sp500,\n",
    "    data_dir='/Users/maseehfaizan/Desktop/Maseeh/Projects/Hybrid_Pricer/data/clean', \n",
    "    mappings_dir='./data/XBRL_dic',  \n",
    "    output_dir='/Users/maseehfaizan/Desktop/Maseeh/Projects/Hybrid_Pricer/data/financial_statement'     \n",
    ")"
   ]
  },
  {
   "cell_type": "code",
   "execution_count": 3,
   "metadata": {},
   "outputs": [
    {
     "name": "stdout",
     "output_type": "stream",
     "text": [
      "Processing ticker: MTCH\n",
      "Files: ['MTCH_cash_flow.csv', 'MTCH_income_statement.csv', 'MTCH_balance_sheet.csv']\n",
      "Saved: MTCH_master.csv\n",
      "Processing ticker: HWM\n",
      "Files: ['HWM_cash_flow.csv', 'HWM_balance_sheet.csv', 'HWM_income_statement.csv']\n",
      "Saved: HWM_master.csv\n",
      "Processing ticker: IRM\n",
      "Files: ['IRM_cash_flow.csv', 'IRM_balance_sheet.csv', 'IRM_income_statement.csv']\n",
      "Saved: IRM_master.csv\n",
      "Processing ticker: AWK\n",
      "Files: ['AWK_balance_sheet.csv', 'AWK_cash_flow.csv', 'AWK_income_statement.csv']\n",
      "Saved: AWK_master.csv\n",
      "Processing ticker: MMM\n",
      "Files: ['MMM_balance_sheet.csv', 'MMM_cash_flow.csv', 'MMM_income_statement.csv']\n",
      "Saved: MMM_master.csv\n",
      "Processing ticker: AMD\n",
      "Files: ['AMD_income_statement.csv', 'AMD_balance_sheet.csv', 'AMD_cash_flow.csv']\n",
      "Saved: AMD_master.csv\n",
      "Processing ticker: ESS\n",
      "Files: ['ESS_cash_flow.csv', 'ESS_income_statement.csv', 'ESS_balance_sheet.csv']\n",
      "Saved: ESS_master.csv\n",
      "Processing ticker: DGX\n",
      "Files: ['DGX_cash_flow.csv', 'DGX_balance_sheet.csv', 'DGX_income_statement.csv']\n",
      "Saved: DGX_master.csv\n",
      "Processing ticker: SYK\n",
      "Files: ['SYK_income_statement.csv', 'SYK_balance_sheet.csv', 'SYK_cash_flow.csv']\n",
      "Saved: SYK_master.csv\n",
      "Processing ticker: EBAY\n",
      "Files: ['EBAY_cash_flow.csv', 'EBAY_balance_sheet.csv', 'EBAY_income_statement.csv']\n",
      "Saved: EBAY_master.csv\n",
      "Processing ticker: NVR\n",
      "Files: ['NVR_cash_flow.csv', 'NVR_balance_sheet.csv', 'NVR_income_statement.csv']\n",
      "Saved: NVR_master.csv\n",
      "Processing ticker: TRV\n",
      "Files: ['TRV_balance_sheet.csv', 'TRV_cash_flow.csv', 'TRV_income_statement.csv']\n",
      "Saved: TRV_master.csv\n",
      "Processing ticker: SLB\n",
      "Files: ['SLB_cash_flow.csv', 'SLB_balance_sheet.csv', 'SLB_income_statement.csv']\n",
      "Saved: SLB_master.csv\n",
      "Processing ticker: ALLE\n",
      "Files: ['ALLE_balance_sheet.csv', 'ALLE_cash_flow.csv', 'ALLE_income_statement.csv']\n",
      "Saved: ALLE_master.csv\n",
      "Processing ticker: NFLX\n",
      "Files: ['NFLX_cash_flow.csv', 'NFLX_balance_sheet.csv', 'NFLX_income_statement.csv']\n",
      "Saved: NFLX_master.csv\n",
      "Processing ticker: NDAQ\n",
      "Files: ['NDAQ_income_statement.csv', 'NDAQ_balance_sheet.csv', 'NDAQ_cash_flow.csv']\n",
      "Saved: NDAQ_master.csv\n",
      "Processing ticker: BK\n",
      "Files: ['BK_income_statement.csv', 'BK_balance_sheet.csv', 'BK_cash_flow.csv']\n",
      "Saved: BK_master.csv\n",
      "Processing ticker: DELL\n",
      "Files: ['DELL_cash_flow.csv', 'DELL_balance_sheet.csv', 'DELL_income_statement.csv']\n",
      "Saved: DELL_master.csv\n",
      "Processing ticker: GL\n",
      "Files: ['GL_cash_flow.csv', 'GL_balance_sheet.csv', 'GL_income_statement.csv']\n",
      "Saved: GL_master.csv\n",
      "Processing ticker: CRL\n",
      "Files: ['CRL_cash_flow.csv', 'CRL_balance_sheet.csv', 'CRL_income_statement.csv']\n",
      "Saved: CRL_master.csv\n",
      "Processing ticker: HSY\n",
      "Files: ['HSY_income_statement.csv', 'HSY_balance_sheet.csv', 'HSY_cash_flow.csv']\n",
      "Saved: HSY_master.csv\n",
      "Processing ticker: AVY\n",
      "Files: ['AVY_balance_sheet.csv', 'AVY_cash_flow.csv', 'AVY_income_statement.csv']\n",
      "Saved: AVY_master.csv\n",
      "Processing ticker: NKE\n",
      "Files: ['NKE_cash_flow.csv', 'NKE_income_statement.csv', 'NKE_balance_sheet.csv']\n",
      "Saved: NKE_master.csv\n",
      "Processing ticker: EXPE\n",
      "Files: ['EXPE_balance_sheet.csv', 'EXPE_cash_flow.csv', 'EXPE_income_statement.csv']\n",
      "Saved: EXPE_master.csv\n",
      "Processing ticker: CPB\n",
      "Files: ['CPB_cash_flow.csv', 'CPB_balance_sheet.csv', 'CPB_income_statement.csv']\n",
      "Saved: CPB_master.csv\n",
      "Processing ticker: XEL\n",
      "Files: ['XEL_income_statement.csv', 'XEL_balance_sheet.csv', 'XEL_cash_flow.csv']\n",
      "Saved: XEL_master.csv\n",
      "Processing ticker: FITB\n",
      "Files: ['FITB_balance_sheet.csv', 'FITB_income_statement.csv', 'FITB_cash_flow.csv']\n",
      "Saved: FITB_master.csv\n",
      "Processing ticker: REGN\n",
      "Files: ['REGN_cash_flow.csv', 'REGN_balance_sheet.csv', 'REGN_income_statement.csv']\n",
      "Saved: REGN_master.csv\n",
      "Processing ticker: ZTS\n",
      "Files: ['ZTS_balance_sheet.csv', 'ZTS_income_statement.csv', 'ZTS_cash_flow.csv']\n",
      "Saved: ZTS_master.csv\n",
      "Processing ticker: WMB\n",
      "Files: ['WMB_income_statement.csv', 'WMB_cash_flow.csv', 'WMB_balance_sheet.csv']\n",
      "Saved: WMB_master.csv\n",
      "Processing ticker: EVRG\n",
      "Files: ['EVRG_cash_flow.csv', 'EVRG_income_statement.csv', 'EVRG_balance_sheet.csv']\n",
      "Saved: EVRG_master.csv\n",
      "Processing ticker: ETN\n",
      "Files: ['ETN_balance_sheet.csv', 'ETN_income_statement.csv', 'ETN_cash_flow.csv']\n",
      "Saved: ETN_master.csv\n",
      "Processing ticker: WBA\n",
      "Files: ['WBA_income_statement.csv', 'WBA_balance_sheet.csv', 'WBA_cash_flow.csv']\n",
      "Saved: WBA_master.csv\n",
      "Processing ticker: FRT\n",
      "Files: ['FRT_income_statement.csv', 'FRT_balance_sheet.csv', 'FRT_cash_flow.csv']\n",
      "Saved: FRT_master.csv\n",
      "Processing ticker: FDX\n",
      "Files: ['FDX_income_statement.csv', 'FDX_balance_sheet.csv', 'FDX_cash_flow.csv']\n",
      "Saved: FDX_master.csv\n",
      "Processing ticker: COST\n",
      "Files: ['COST_income_statement.csv', 'COST_balance_sheet.csv', 'COST_cash_flow.csv']\n",
      "Saved: COST_master.csv\n",
      "Processing ticker: STT\n",
      "Files: ['STT_balance_sheet.csv', 'STT_cash_flow.csv', 'STT_income_statement.csv']\n",
      "Saved: STT_master.csv\n",
      "Processing ticker: INTC\n",
      "Files: ['INTC_cash_flow.csv', 'INTC_balance_sheet.csv', 'INTC_income_statement.csv']\n",
      "Saved: INTC_master.csv\n",
      "Processing ticker: BIIB\n",
      "Files: ['BIIB_cash_flow.csv', 'BIIB_balance_sheet.csv', 'BIIB_income_statement.csv']\n",
      "Saved: BIIB_master.csv\n",
      "Processing ticker: FICO\n",
      "Files: ['FICO_cash_flow.csv', 'FICO_income_statement.csv', 'FICO_balance_sheet.csv']\n",
      "Saved: FICO_master.csv\n",
      "Processing ticker: WFC\n",
      "Files: ['WFC_cash_flow.csv', 'WFC_balance_sheet.csv', 'WFC_income_statement.csv']\n",
      "Saved: WFC_master.csv\n",
      "Processing ticker: EQR\n",
      "Files: ['EQR_balance_sheet.csv', 'EQR_income_statement.csv', 'EQR_cash_flow.csv']\n",
      "Saved: EQR_master.csv\n",
      "Processing ticker: MCD\n",
      "Files: ['MCD_income_statement.csv', 'MCD_cash_flow.csv', 'MCD_balance_sheet.csv']\n",
      "Saved: MCD_master.csv\n",
      "Processing ticker: HPQ\n",
      "Files: ['HPQ_income_statement.csv', 'HPQ_cash_flow.csv', 'HPQ_balance_sheet.csv']\n",
      "Saved: HPQ_master.csv\n",
      "Processing ticker: COF\n",
      "Files: ['COF_balance_sheet.csv', 'COF_cash_flow.csv', 'COF_income_statement.csv']\n",
      "Saved: COF_master.csv\n",
      "Processing ticker: LYV\n",
      "Files: ['LYV_income_statement.csv', 'LYV_balance_sheet.csv', 'LYV_cash_flow.csv']\n",
      "Saved: LYV_master.csv\n",
      "Processing ticker: BEN\n",
      "Files: ['BEN_cash_flow.csv', 'BEN_income_statement.csv', 'BEN_balance_sheet.csv']\n",
      "Saved: BEN_master.csv\n",
      "Processing ticker: KLAC\n",
      "Files: ['KLAC_income_statement.csv', 'KLAC_balance_sheet.csv', 'KLAC_cash_flow.csv']\n",
      "Saved: KLAC_master.csv\n",
      "Processing ticker: DE\n",
      "Files: ['DE_cash_flow.csv', 'DE_income_statement.csv', 'DE_balance_sheet.csv']\n",
      "Saved: DE_master.csv\n",
      "Processing ticker: CRWD\n",
      "Files: ['CRWD_balance_sheet.csv', 'CRWD_cash_flow.csv', 'CRWD_income_statement.csv']\n",
      "Saved: CRWD_master.csv\n",
      "Processing ticker: EQIX\n",
      "Files: ['EQIX_balance_sheet.csv', 'EQIX_income_statement.csv', 'EQIX_cash_flow.csv']\n",
      "Saved: EQIX_master.csv\n",
      "Processing ticker: NCLH\n",
      "Files: ['NCLH_cash_flow.csv', 'NCLH_income_statement.csv', 'NCLH_balance_sheet.csv']\n",
      "Saved: NCLH_master.csv\n",
      "Processing ticker: CF\n",
      "Files: ['CF_balance_sheet.csv', 'CF_income_statement.csv', 'CF_cash_flow.csv']\n",
      "Saved: CF_master.csv\n",
      "Processing ticker: AMZN\n",
      "Files: ['AMZN_cash_flow.csv', 'AMZN_balance_sheet.csv', 'AMZN_income_statement.csv']\n",
      "Saved: AMZN_master.csv\n",
      "Processing ticker: PLTR\n",
      "Files: ['PLTR_balance_sheet.csv', 'PLTR_cash_flow.csv', 'PLTR_income_statement.csv']\n",
      "Saved: PLTR_master.csv\n",
      "Processing ticker: ATO\n",
      "Files: ['ATO_balance_sheet.csv', 'ATO_income_statement.csv', 'ATO_cash_flow.csv']\n",
      "Saved: ATO_master.csv\n",
      "Processing ticker: SOLV\n",
      "Files: ['SOLV_balance_sheet.csv', 'SOLV_income_statement.csv', 'SOLV_cash_flow.csv']\n",
      "Saved: SOLV_master.csv\n",
      "Processing ticker: WST\n",
      "Files: ['WST_cash_flow.csv', 'WST_income_statement.csv', 'WST_balance_sheet.csv']\n",
      "Saved: WST_master.csv\n",
      "Processing ticker: APA\n",
      "Files: ['APA_balance_sheet.csv', 'APA_income_statement.csv', 'APA_cash_flow.csv']\n",
      "Saved: APA_master.csv\n",
      "Processing ticker: EOG\n",
      "Files: ['EOG_cash_flow.csv', 'EOG_balance_sheet.csv', 'EOG_income_statement.csv']\n",
      "Saved: EOG_master.csv\n",
      "Processing ticker: VRSN\n",
      "Files: ['VRSN_cash_flow.csv', 'VRSN_balance_sheet.csv', 'VRSN_income_statement.csv']\n",
      "Saved: VRSN_master.csv\n",
      "Processing ticker: VRTX\n",
      "Files: ['VRTX_balance_sheet.csv', 'VRTX_cash_flow.csv', 'VRTX_income_statement.csv']\n",
      "Saved: VRTX_master.csv\n",
      "Processing ticker: PEG\n",
      "Files: ['PEG_income_statement.csv', 'PEG_cash_flow.csv', 'PEG_balance_sheet.csv']\n",
      "Saved: PEG_master.csv\n",
      "Processing ticker: LDOS\n",
      "Files: ['LDOS_balance_sheet.csv', 'LDOS_income_statement.csv', 'LDOS_cash_flow.csv']\n",
      "Saved: LDOS_master.csv\n",
      "Processing ticker: SMCI\n",
      "Files: ['SMCI_cash_flow.csv', 'SMCI_income_statement.csv', 'SMCI_balance_sheet.csv']\n",
      "Saved: SMCI_master.csv\n",
      "Processing ticker: KMI\n",
      "Files: ['KMI_balance_sheet.csv', 'KMI_cash_flow.csv', 'KMI_income_statement.csv']\n",
      "Saved: KMI_master.csv\n",
      "Processing ticker: EG\n",
      "Files: ['EG_income_statement.csv', 'EG_balance_sheet.csv', 'EG_cash_flow.csv']\n",
      "Saved: EG_master.csv\n",
      "Processing ticker: MSFT\n",
      "Files: ['MSFT_cash_flow.csv', 'MSFT_income_statement.csv', 'MSFT_balance_sheet.csv']\n",
      "Saved: MSFT_master.csv\n",
      "Processing ticker: ORCL\n",
      "Files: ['ORCL_balance_sheet.csv', 'ORCL_income_statement.csv', 'ORCL_cash_flow.csv']\n",
      "Saved: ORCL_master.csv\n",
      "Processing ticker: RCL\n",
      "Files: ['RCL_cash_flow.csv', 'RCL_balance_sheet.csv', 'RCL_income_statement.csv']\n",
      "Saved: RCL_master.csv\n",
      "Processing ticker: ODFL\n",
      "Files: ['ODFL_cash_flow.csv', 'ODFL_balance_sheet.csv', 'ODFL_income_statement.csv']\n",
      "Saved: ODFL_master.csv\n",
      "Processing ticker: UNP\n",
      "Files: ['UNP_balance_sheet.csv', 'UNP_cash_flow.csv', 'UNP_income_statement.csv']\n",
      "Saved: UNP_master.csv\n",
      "Processing ticker: NSC\n",
      "Files: ['NSC_income_statement.csv', 'NSC_balance_sheet.csv', 'NSC_cash_flow.csv']\n",
      "Saved: NSC_master.csv\n",
      "Processing ticker: CHTR\n",
      "Files: ['CHTR_income_statement.csv', 'CHTR_cash_flow.csv', 'CHTR_balance_sheet.csv']\n",
      "Saved: CHTR_master.csv\n",
      "Processing ticker: HAS\n",
      "Files: ['HAS_cash_flow.csv', 'HAS_income_statement.csv', 'HAS_balance_sheet.csv']\n",
      "Saved: HAS_master.csv\n",
      "Processing ticker: WYNN\n",
      "Files: ['WYNN_cash_flow.csv', 'WYNN_income_statement.csv', 'WYNN_balance_sheet.csv']\n",
      "Saved: WYNN_master.csv\n",
      "Processing ticker: CTRA\n",
      "Files: ['CTRA_income_statement.csv', 'CTRA_balance_sheet.csv', 'CTRA_cash_flow.csv']\n",
      "Saved: CTRA_master.csv\n",
      "Processing ticker: ROP\n",
      "Files: ['ROP_cash_flow.csv', 'ROP_income_statement.csv', 'ROP_balance_sheet.csv']\n",
      "Saved: ROP_master.csv\n",
      "Processing ticker: A\n",
      "Files: ['A_cash_flow.csv', 'A_income_statement.csv', 'A_balance_sheet.csv']\n",
      "Saved: A_master.csv\n",
      "Processing ticker: VST\n",
      "Files: ['VST_income_statement.csv', 'VST_cash_flow.csv', 'VST_balance_sheet.csv']\n",
      "Saved: VST_master.csv\n",
      "Processing ticker: EPAM\n",
      "Files: ['EPAM_income_statement.csv', 'EPAM_cash_flow.csv', 'EPAM_balance_sheet.csv']\n",
      "Saved: EPAM_master.csv\n",
      "Processing ticker: MRNA\n",
      "Files: ['MRNA_income_statement.csv', 'MRNA_balance_sheet.csv', 'MRNA_cash_flow.csv']\n",
      "Saved: MRNA_master.csv\n",
      "Processing ticker: MAA\n",
      "Files: ['MAA_balance_sheet.csv', 'MAA_income_statement.csv', 'MAA_cash_flow.csv']\n",
      "Saved: MAA_master.csv\n",
      "Processing ticker: IPG\n",
      "Files: ['IPG_cash_flow.csv', 'IPG_balance_sheet.csv', 'IPG_income_statement.csv']\n",
      "Saved: IPG_master.csv\n",
      "Processing ticker: OKE\n",
      "Files: ['OKE_income_statement.csv', 'OKE_cash_flow.csv', 'OKE_balance_sheet.csv']\n",
      "Saved: OKE_master.csv\n",
      "Processing ticker: AIZ\n",
      "Files: ['AIZ_cash_flow.csv', 'AIZ_balance_sheet.csv', 'AIZ_income_statement.csv']\n",
      "Saved: AIZ_master.csv\n",
      "Processing ticker: BLDR\n",
      "Files: ['BLDR_income_statement.csv', 'BLDR_balance_sheet.csv', 'BLDR_cash_flow.csv']\n",
      "Saved: BLDR_master.csv\n",
      "Processing ticker: SCHW\n",
      "Files: ['SCHW_income_statement.csv', 'SCHW_cash_flow.csv', 'SCHW_balance_sheet.csv']\n",
      "Saved: SCHW_master.csv\n",
      "Processing ticker: TRMB\n",
      "Files: ['TRMB_income_statement.csv', 'TRMB_balance_sheet.csv', 'TRMB_cash_flow.csv']\n",
      "Saved: TRMB_master.csv\n",
      "Processing ticker: CSGP\n",
      "Files: ['CSGP_balance_sheet.csv', 'CSGP_cash_flow.csv', 'CSGP_income_statement.csv']\n",
      "Saved: CSGP_master.csv\n",
      "Processing ticker: BBY\n",
      "Files: ['BBY_income_statement.csv', 'BBY_balance_sheet.csv', 'BBY_cash_flow.csv']\n",
      "Saved: BBY_master.csv\n",
      "Processing ticker: HON\n",
      "Files: ['HON_income_statement.csv', 'HON_cash_flow.csv', 'HON_balance_sheet.csv']\n",
      "Saved: HON_master.csv\n",
      "Processing ticker: WBD\n",
      "Files: ['WBD_income_statement.csv', 'WBD_cash_flow.csv', 'WBD_balance_sheet.csv']\n",
      "Saved: WBD_master.csv\n",
      "Processing ticker: PH\n",
      "Files: ['PH_balance_sheet.csv', 'PH_income_statement.csv', 'PH_cash_flow.csv']\n",
      "Saved: PH_master.csv\n",
      "Processing ticker: GS\n",
      "Files: ['GS_income_statement.csv', 'GS_balance_sheet.csv', 'GS_cash_flow.csv']\n",
      "Saved: GS_master.csv\n",
      "Processing ticker: ISRG\n",
      "Files: ['ISRG_cash_flow.csv', 'ISRG_balance_sheet.csv', 'ISRG_income_statement.csv']\n",
      "Saved: ISRG_master.csv\n",
      "Processing ticker: JBHT\n",
      "Files: ['JBHT_balance_sheet.csv', 'JBHT_cash_flow.csv', 'JBHT_income_statement.csv']\n",
      "Saved: JBHT_master.csv\n",
      "Processing ticker: VICI\n",
      "Files: ['VICI_income_statement.csv', 'VICI_balance_sheet.csv', 'VICI_cash_flow.csv']\n",
      "Saved: VICI_master.csv\n",
      "Processing ticker: MET\n",
      "Files: ['MET_income_statement.csv', 'MET_balance_sheet.csv', 'MET_cash_flow.csv']\n",
      "Saved: MET_master.csv\n",
      "Processing ticker: TPR\n",
      "Files: ['TPR_income_statement.csv', 'TPR_cash_flow.csv', 'TPR_balance_sheet.csv']\n",
      "Saved: TPR_master.csv\n",
      "Processing ticker: DHI\n",
      "Files: ['DHI_cash_flow.csv', 'DHI_balance_sheet.csv', 'DHI_income_statement.csv']\n",
      "Saved: DHI_master.csv\n",
      "Processing ticker: IR\n",
      "Files: ['IR_balance_sheet.csv', 'IR_income_statement.csv', 'IR_cash_flow.csv']\n",
      "Saved: IR_master.csv\n",
      "Processing ticker: APO\n",
      "Files: ['APO_income_statement.csv', 'APO_cash_flow.csv', 'APO_balance_sheet.csv']\n",
      "Saved: APO_master.csv\n",
      "Processing ticker: GEHC\n",
      "Files: ['GEHC_cash_flow.csv', 'GEHC_balance_sheet.csv', 'GEHC_income_statement.csv']\n",
      "Saved: GEHC_master.csv\n",
      "Processing ticker: PGR\n",
      "Files: ['PGR_cash_flow.csv', 'PGR_income_statement.csv', 'PGR_balance_sheet.csv']\n",
      "Saved: PGR_master.csv\n",
      "Processing ticker: DTE\n",
      "Files: ['DTE_income_statement.csv', 'DTE_cash_flow.csv', 'DTE_balance_sheet.csv']\n",
      "Saved: DTE_master.csv\n",
      "Processing ticker: BRO\n",
      "Files: ['BRO_income_statement.csv', 'BRO_cash_flow.csv', 'BRO_balance_sheet.csv']\n",
      "Saved: BRO_master.csv\n",
      "Processing ticker: LII\n",
      "Files: ['LII_cash_flow.csv', 'LII_balance_sheet.csv', 'LII_income_statement.csv']\n",
      "Saved: LII_master.csv\n",
      "Processing ticker: CMCSA\n",
      "Files: ['CMCSA_balance_sheet.csv', 'CMCSA_cash_flow.csv', 'CMCSA_income_statement.csv']\n",
      "Saved: CMCSA_master.csv\n",
      "Processing ticker: SWK\n",
      "Files: ['SWK_balance_sheet.csv', 'SWK_income_statement.csv', 'SWK_cash_flow.csv']\n",
      "Saved: SWK_master.csv\n",
      "Processing ticker: MRK\n",
      "Files: ['MRK_income_statement.csv', 'MRK_balance_sheet.csv', 'MRK_cash_flow.csv']\n",
      "Saved: MRK_master.csv\n",
      "Processing ticker: MLM\n",
      "Files: ['MLM_income_statement.csv', 'MLM_cash_flow.csv', 'MLM_balance_sheet.csv']\n",
      "Saved: MLM_master.csv\n",
      "Processing ticker: FDS\n",
      "Files: ['FDS_cash_flow.csv', 'FDS_income_statement.csv', 'FDS_balance_sheet.csv']\n",
      "Saved: FDS_master.csv\n",
      "Processing ticker: UBER\n",
      "Files: ['UBER_balance_sheet.csv', 'UBER_income_statement.csv', 'UBER_cash_flow.csv']\n",
      "Saved: UBER_master.csv\n",
      "Processing ticker: PPL\n",
      "Files: ['PPL_income_statement.csv', 'PPL_cash_flow.csv', 'PPL_balance_sheet.csv']\n",
      "Saved: PPL_master.csv\n",
      "Processing ticker: GNRC\n",
      "Files: ['GNRC_income_statement.csv', 'GNRC_balance_sheet.csv', 'GNRC_cash_flow.csv']\n",
      "Saved: GNRC_master.csv\n",
      "Processing ticker: PAYC\n",
      "Files: ['PAYC_income_statement.csv', 'PAYC_cash_flow.csv', 'PAYC_balance_sheet.csv']\n",
      "Saved: PAYC_master.csv\n",
      "Processing ticker: MAR\n",
      "Files: ['MAR_cash_flow.csv', 'MAR_income_statement.csv', 'MAR_balance_sheet.csv']\n",
      "Saved: MAR_master.csv\n",
      "Processing ticker: T\n",
      "Files: ['T_cash_flow.csv', 'T_income_statement.csv', 'T_balance_sheet.csv']\n",
      "Saved: T_master.csv\n",
      "Processing ticker: AFL\n",
      "Files: ['AFL_income_statement.csv', 'AFL_balance_sheet.csv', 'AFL_cash_flow.csv']\n",
      "Saved: AFL_master.csv\n",
      "Processing ticker: ABNB\n",
      "Files: ['ABNB_income_statement.csv', 'ABNB_cash_flow.csv', 'ABNB_balance_sheet.csv']\n",
      "Saved: ABNB_master.csv\n",
      "Processing ticker: ANSS\n",
      "Files: ['ANSS_income_statement.csv', 'ANSS_cash_flow.csv', 'ANSS_balance_sheet.csv']\n",
      "Saved: ANSS_master.csv\n",
      "Processing ticker: CBRE\n",
      "Files: ['CBRE_cash_flow.csv', 'CBRE_balance_sheet.csv', 'CBRE_income_statement.csv']\n",
      "Saved: CBRE_master.csv\n",
      "Processing ticker: UHS\n",
      "Files: ['UHS_cash_flow.csv', 'UHS_balance_sheet.csv', 'UHS_income_statement.csv']\n",
      "Saved: UHS_master.csv\n",
      "Processing ticker: CE\n",
      "Files: ['CE_cash_flow.csv', 'CE_balance_sheet.csv', 'CE_income_statement.csv']\n",
      "Saved: CE_master.csv\n",
      "Processing ticker: WMT\n",
      "Files: ['WMT_balance_sheet.csv', 'WMT_cash_flow.csv', 'WMT_income_statement.csv']\n",
      "Saved: WMT_master.csv\n",
      "Processing ticker: HIG\n",
      "Files: ['HIG_balance_sheet.csv', 'HIG_income_statement.csv', 'HIG_cash_flow.csv']\n",
      "Saved: HIG_master.csv\n",
      "Processing ticker: NTRS\n",
      "Files: ['NTRS_income_statement.csv', 'NTRS_cash_flow.csv', 'NTRS_balance_sheet.csv']\n",
      "Saved: NTRS_master.csv\n",
      "Processing ticker: LKQ\n",
      "Files: ['LKQ_income_statement.csv', 'LKQ_balance_sheet.csv', 'LKQ_cash_flow.csv']\n",
      "Saved: LKQ_master.csv\n",
      "Processing ticker: NWS\n",
      "Files: ['NWS_balance_sheet.csv', 'NWS_income_statement.csv', 'NWS_cash_flow.csv']\n",
      "Saved: NWS_master.csv\n",
      "Processing ticker: BA\n",
      "Files: ['BA_income_statement.csv', 'BA_cash_flow.csv', 'BA_balance_sheet.csv']\n",
      "Saved: BA_master.csv\n",
      "Processing ticker: AES\n",
      "Files: ['AES_cash_flow.csv', 'AES_balance_sheet.csv', 'AES_income_statement.csv']\n",
      "Saved: AES_master.csv\n",
      "Processing ticker: TMO\n",
      "Files: ['TMO_balance_sheet.csv', 'TMO_cash_flow.csv', 'TMO_income_statement.csv']\n",
      "Saved: TMO_master.csv\n",
      "Processing ticker: PARA\n",
      "Files: ['PARA_income_statement.csv', 'PARA_cash_flow.csv', 'PARA_balance_sheet.csv']\n",
      "Saved: PARA_master.csv\n",
      "Processing ticker: BDX\n",
      "Files: ['BDX_cash_flow.csv', 'BDX_income_statement.csv', 'BDX_balance_sheet.csv']\n",
      "Saved: BDX_master.csv\n",
      "Processing ticker: ES\n",
      "Files: ['ES_cash_flow.csv', 'ES_income_statement.csv', 'ES_balance_sheet.csv']\n",
      "Saved: ES_master.csv\n",
      "Processing ticker: LEN\n",
      "Files: ['LEN_income_statement.csv', 'LEN_balance_sheet.csv', 'LEN_cash_flow.csv']\n",
      "Saved: LEN_master.csv\n",
      "Processing ticker: DUK\n",
      "Files: ['DUK_cash_flow.csv', 'DUK_income_statement.csv', 'DUK_balance_sheet.csv']\n",
      "Saved: DUK_master.csv\n",
      "Processing ticker: VTR\n",
      "Files: ['VTR_income_statement.csv', 'VTR_balance_sheet.csv', 'VTR_cash_flow.csv']\n",
      "Saved: VTR_master.csv\n",
      "Processing ticker: SHW\n",
      "Files: ['SHW_balance_sheet.csv', 'SHW_cash_flow.csv', 'SHW_income_statement.csv']\n",
      "Saved: SHW_master.csv\n",
      "Processing ticker: ROST\n",
      "Files: ['ROST_income_statement.csv', 'ROST_balance_sheet.csv', 'ROST_cash_flow.csv']\n",
      "Saved: ROST_master.csv\n",
      "Processing ticker: AJG\n",
      "Files: ['AJG_income_statement.csv', 'AJG_balance_sheet.csv', 'AJG_cash_flow.csv']\n",
      "Saved: AJG_master.csv\n",
      "Processing ticker: SW\n",
      "Files: ['SW_balance_sheet.csv', 'SW_cash_flow.csv', 'SW_income_statement.csv']\n",
      "Saved: SW_master.csv\n",
      "Processing ticker: CFG\n",
      "Files: ['CFG_income_statement.csv', 'CFG_cash_flow.csv', 'CFG_balance_sheet.csv']\n",
      "Saved: CFG_master.csv\n",
      "Processing ticker: MSCI\n",
      "Files: ['MSCI_income_statement.csv', 'MSCI_balance_sheet.csv', 'MSCI_cash_flow.csv']\n",
      "Saved: MSCI_master.csv\n",
      "Processing ticker: WY\n",
      "Files: ['WY_balance_sheet.csv', 'WY_income_statement.csv', 'WY_cash_flow.csv']\n",
      "Saved: WY_master.csv\n",
      "Processing ticker: MS\n",
      "Files: ['MS_cash_flow.csv', 'MS_income_statement.csv', 'MS_balance_sheet.csv']\n",
      "Saved: MS_master.csv\n",
      "Processing ticker: ALB\n",
      "Files: ['ALB_balance_sheet.csv', 'ALB_cash_flow.csv', 'ALB_income_statement.csv']\n",
      "Saved: ALB_master.csv\n",
      "Processing ticker: WRB\n",
      "Files: ['WRB_cash_flow.csv', 'WRB_income_statement.csv', 'WRB_balance_sheet.csv']\n",
      "Saved: WRB_master.csv\n",
      "Processing ticker: SPG\n",
      "Files: ['SPG_cash_flow.csv', 'SPG_income_statement.csv', 'SPG_balance_sheet.csv']\n",
      "Saved: SPG_master.csv\n",
      "Processing ticker: APD\n",
      "Files: ['APD_balance_sheet.csv', 'APD_cash_flow.csv', 'APD_income_statement.csv']\n",
      "Saved: APD_master.csv\n",
      "Processing ticker: GM\n",
      "Files: ['GM_balance_sheet.csv', 'GM_income_statement.csv', 'GM_cash_flow.csv']\n",
      "Saved: GM_master.csv\n",
      "Processing ticker: AMP\n",
      "Files: ['AMP_balance_sheet.csv', 'AMP_cash_flow.csv', 'AMP_income_statement.csv']\n",
      "Saved: AMP_master.csv\n",
      "Processing ticker: PFE\n",
      "Files: ['PFE_income_statement.csv', 'PFE_balance_sheet.csv', 'PFE_cash_flow.csv']\n",
      "Saved: PFE_master.csv\n",
      "Processing ticker: MCK\n",
      "Files: ['MCK_income_statement.csv', 'MCK_balance_sheet.csv', 'MCK_cash_flow.csv']\n",
      "Saved: MCK_master.csv\n",
      "Processing ticker: EFX\n",
      "Files: ['EFX_income_statement.csv', 'EFX_cash_flow.csv', 'EFX_balance_sheet.csv']\n",
      "Saved: EFX_master.csv\n",
      "Processing ticker: FE\n",
      "Files: ['FE_income_statement.csv', 'FE_balance_sheet.csv', 'FE_cash_flow.csv']\n",
      "Saved: FE_master.csv\n",
      "Processing ticker: AAPL\n",
      "Files: ['AAPL_cash_flow.csv', 'AAPL_income_statement.csv', 'AAPL_balance_sheet.csv']\n",
      "Saved: AAPL_master.csv\n",
      "Processing ticker: BAC\n",
      "Files: ['BAC_cash_flow.csv', 'BAC_balance_sheet.csv', 'BAC_income_statement.csv']\n",
      "Saved: BAC_master.csv\n",
      "Processing ticker: FAST\n",
      "Files: ['FAST_balance_sheet.csv', 'FAST_income_statement.csv', 'FAST_cash_flow.csv']\n",
      "Saved: FAST_master.csv\n",
      "Processing ticker: KR\n",
      "Files: ['KR_income_statement.csv', 'KR_balance_sheet.csv', 'KR_cash_flow.csv']\n",
      "Saved: KR_master.csv\n",
      "Processing ticker: CME\n",
      "Files: ['CME_income_statement.csv', 'CME_balance_sheet.csv', 'CME_cash_flow.csv']\n",
      "Saved: CME_master.csv\n",
      "Processing ticker: AVB\n",
      "Files: ['AVB_balance_sheet.csv', 'AVB_income_statement.csv', 'AVB_cash_flow.csv']\n",
      "Saved: AVB_master.csv\n",
      "Processing ticker: EW\n",
      "Files: ['EW_cash_flow.csv', 'EW_income_statement.csv', 'EW_balance_sheet.csv']\n",
      "Saved: EW_master.csv\n",
      "Processing ticker: NEE\n",
      "Files: ['NEE_income_statement.csv', 'NEE_cash_flow.csv', 'NEE_balance_sheet.csv']\n",
      "Saved: NEE_master.csv\n",
      "Processing ticker: PM\n",
      "Files: ['PM_balance_sheet.csv', 'PM_income_statement.csv', 'PM_cash_flow.csv']\n",
      "Saved: PM_master.csv\n",
      "Processing ticker: ADP\n",
      "Files: ['ADP_cash_flow.csv', 'ADP_income_statement.csv', 'ADP_balance_sheet.csv']\n",
      "Saved: ADP_master.csv\n",
      "Processing ticker: DHR\n",
      "Files: ['DHR_income_statement.csv', 'DHR_balance_sheet.csv', 'DHR_cash_flow.csv']\n",
      "Saved: DHR_master.csv\n",
      "Processing ticker: GIS\n",
      "Files: ['GIS_cash_flow.csv', 'GIS_balance_sheet.csv', 'GIS_income_statement.csv']\n",
      "Saved: GIS_master.csv\n",
      "Processing ticker: SBAC\n",
      "Files: ['SBAC_cash_flow.csv', 'SBAC_balance_sheet.csv', 'SBAC_income_statement.csv']\n",
      "Saved: SBAC_master.csv\n",
      "Processing ticker: ZBH\n",
      "Files: ['ZBH_cash_flow.csv', 'ZBH_balance_sheet.csv', 'ZBH_income_statement.csv']\n",
      "Saved: ZBH_master.csv\n",
      "Processing ticker: PSA\n",
      "Files: ['PSA_income_statement.csv', 'PSA_cash_flow.csv', 'PSA_balance_sheet.csv']\n",
      "Saved: PSA_master.csv\n",
      "Processing ticker: NUE\n",
      "Files: ['NUE_balance_sheet.csv', 'NUE_income_statement.csv', 'NUE_cash_flow.csv']\n",
      "Saved: NUE_master.csv\n",
      "Processing ticker: TSLA\n",
      "Files: ['TSLA_income_statement.csv', 'TSLA_balance_sheet.csv', 'TSLA_cash_flow.csv']\n",
      "Saved: TSLA_master.csv\n",
      "Processing ticker: GEV\n",
      "Files: ['GEV_balance_sheet.csv', 'GEV_income_statement.csv', 'GEV_cash_flow.csv']\n",
      "Saved: GEV_master.csv\n",
      "Processing ticker: V\n",
      "Files: ['V_balance_sheet.csv', 'V_income_statement.csv', 'V_cash_flow.csv']\n",
      "Saved: V_master.csv\n",
      "Processing ticker: CAG\n",
      "Files: ['CAG_balance_sheet.csv', 'CAG_cash_flow.csv', 'CAG_income_statement.csv']\n",
      "Saved: CAG_master.csv\n",
      "Processing ticker: DVA\n",
      "Files: ['DVA_cash_flow.csv', 'DVA_balance_sheet.csv', 'DVA_income_statement.csv']\n",
      "Saved: DVA_master.csv\n",
      "Processing ticker: AMCR\n",
      "Files: ['AMCR_balance_sheet.csv', 'AMCR_cash_flow.csv', 'AMCR_income_statement.csv']\n",
      "Saved: AMCR_master.csv\n",
      "Processing ticker: HD\n",
      "Files: ['HD_income_statement.csv', 'HD_balance_sheet.csv', 'HD_cash_flow.csv']\n",
      "Saved: HD_master.csv\n",
      "Processing ticker: SBUX\n",
      "Files: ['SBUX_income_statement.csv', 'SBUX_cash_flow.csv', 'SBUX_balance_sheet.csv']\n",
      "Saved: SBUX_master.csv\n",
      "Processing ticker: GOOGL\n",
      "Files: ['GOOGL_cash_flow.csv', 'GOOGL_income_statement.csv', 'GOOGL_balance_sheet.csv']\n",
      "Saved: GOOGL_master.csv\n",
      "Processing ticker: L\n",
      "Files: ['L_balance_sheet.csv', 'L_cash_flow.csv', 'L_income_statement.csv']\n",
      "Saved: L_master.csv\n",
      "Processing ticker: VMC\n",
      "Files: ['VMC_cash_flow.csv', 'VMC_income_statement.csv', 'VMC_balance_sheet.csv']\n",
      "Saved: VMC_master.csv\n",
      "Processing ticker: PAYX\n",
      "Files: ['PAYX_income_statement.csv', 'PAYX_cash_flow.csv', 'PAYX_balance_sheet.csv']\n",
      "Saved: PAYX_master.csv\n",
      "Processing ticker: COO\n",
      "Files: ['COO_income_statement.csv', 'COO_balance_sheet.csv', 'COO_cash_flow.csv']\n",
      "Saved: COO_master.csv\n",
      "Processing ticker: AMT\n",
      "Files: ['AMT_cash_flow.csv', 'AMT_balance_sheet.csv', 'AMT_income_statement.csv']\n",
      "Saved: AMT_master.csv\n",
      "Processing ticker: TSN\n",
      "Files: ['TSN_cash_flow.csv', 'TSN_income_statement.csv', 'TSN_balance_sheet.csv']\n",
      "Saved: TSN_master.csv\n",
      "Processing ticker: DAY\n",
      "Files: ['DAY_balance_sheet.csv', 'DAY_cash_flow.csv', 'DAY_income_statement.csv']\n",
      "Saved: DAY_master.csv\n",
      "Processing ticker: ORLY\n",
      "Files: ['ORLY_income_statement.csv', 'ORLY_balance_sheet.csv', 'ORLY_cash_flow.csv']\n",
      "Saved: ORLY_master.csv\n",
      "Processing ticker: STX\n",
      "Files: ['STX_cash_flow.csv', 'STX_income_statement.csv', 'STX_balance_sheet.csv']\n",
      "Saved: STX_master.csv\n",
      "Processing ticker: PNR\n",
      "Files: ['PNR_cash_flow.csv', 'PNR_balance_sheet.csv', 'PNR_income_statement.csv']\n",
      "Saved: PNR_master.csv\n",
      "Processing ticker: KIM\n",
      "Files: ['KIM_cash_flow.csv', 'KIM_balance_sheet.csv', 'KIM_income_statement.csv']\n",
      "Saved: KIM_master.csv\n",
      "Processing ticker: URI\n",
      "Files: ['URI_balance_sheet.csv', 'URI_cash_flow.csv', 'URI_income_statement.csv']\n",
      "Saved: URI_master.csv\n",
      "Processing ticker: CMG\n",
      "Files: ['CMG_cash_flow.csv', 'CMG_income_statement.csv', 'CMG_balance_sheet.csv']\n",
      "Saved: CMG_master.csv\n",
      "Processing ticker: EXPD\n",
      "Files: ['EXPD_balance_sheet.csv', 'EXPD_cash_flow.csv', 'EXPD_income_statement.csv']\n",
      "Saved: EXPD_master.csv\n",
      "Processing ticker: MTB\n",
      "Files: ['MTB_cash_flow.csv', 'MTB_income_statement.csv', 'MTB_balance_sheet.csv']\n",
      "Saved: MTB_master.csv\n",
      "Processing ticker: J\n",
      "Files: ['J_income_statement.csv', 'J_balance_sheet.csv', 'J_cash_flow.csv']\n",
      "Saved: J_master.csv\n",
      "Processing ticker: DOC\n",
      "Files: ['DOC_balance_sheet.csv', 'DOC_cash_flow.csv', 'DOC_income_statement.csv']\n",
      "Saved: DOC_master.csv\n",
      "Processing ticker: LVS\n",
      "Files: ['LVS_cash_flow.csv', 'LVS_balance_sheet.csv', 'LVS_income_statement.csv']\n",
      "Saved: LVS_master.csv\n",
      "Processing ticker: IQV\n",
      "Files: ['IQV_cash_flow.csv', 'IQV_balance_sheet.csv', 'IQV_income_statement.csv']\n",
      "Saved: IQV_master.csv\n",
      "Processing ticker: UPS\n",
      "Files: ['UPS_income_statement.csv', 'UPS_cash_flow.csv', 'UPS_balance_sheet.csv']\n",
      "Saved: UPS_master.csv\n",
      "Processing ticker: AEP\n",
      "Files: ['AEP_cash_flow.csv', 'AEP_income_statement.csv', 'AEP_balance_sheet.csv']\n",
      "Saved: AEP_master.csv\n",
      "Processing ticker: RTX\n",
      "Files: ['RTX_income_statement.csv', 'RTX_cash_flow.csv', 'RTX_balance_sheet.csv']\n",
      "Saved: RTX_master.csv\n",
      "Processing ticker: DECK\n",
      "Files: ['DECK_cash_flow.csv', 'DECK_balance_sheet.csv', 'DECK_income_statement.csv']\n",
      "Saved: DECK_master.csv\n",
      "Processing ticker: WELL\n",
      "Files: ['WELL_balance_sheet.csv', 'WELL_income_statement.csv', 'WELL_cash_flow.csv']\n",
      "Saved: WELL_master.csv\n",
      "Processing ticker: NWSA\n",
      "Files: ['NWSA_balance_sheet.csv', 'NWSA_income_statement.csv', 'NWSA_cash_flow.csv']\n",
      "Saved: NWSA_master.csv\n",
      "Processing ticker: DLTR\n",
      "Files: ['DLTR_balance_sheet.csv', 'DLTR_cash_flow.csv', 'DLTR_income_statement.csv']\n",
      "Saved: DLTR_master.csv\n",
      "Processing ticker: DFS\n",
      "Files: ['DFS_income_statement.csv', 'DFS_balance_sheet.csv', 'DFS_cash_flow.csv']\n",
      "Saved: DFS_master.csv\n",
      "Processing ticker: WAB\n",
      "Files: ['WAB_balance_sheet.csv', 'WAB_income_statement.csv', 'WAB_cash_flow.csv']\n",
      "Saved: WAB_master.csv\n",
      "Processing ticker: META\n",
      "Files: ['META_income_statement.csv', 'META_balance_sheet.csv', 'META_cash_flow.csv']\n",
      "Saved: META_master.csv\n",
      "Processing ticker: DXCM\n",
      "Files: ['DXCM_balance_sheet.csv', 'DXCM_income_statement.csv', 'DXCM_cash_flow.csv']\n",
      "Saved: DXCM_master.csv\n",
      "Processing ticker: HPE\n",
      "Files: ['HPE_income_statement.csv', 'HPE_balance_sheet.csv', 'HPE_cash_flow.csv']\n",
      "Saved: HPE_master.csv\n",
      "Processing ticker: WTW\n",
      "Files: ['WTW_cash_flow.csv', 'WTW_balance_sheet.csv', 'WTW_income_statement.csv']\n",
      "Saved: WTW_master.csv\n",
      "Processing ticker: AMGN\n",
      "Files: ['AMGN_income_statement.csv', 'AMGN_balance_sheet.csv', 'AMGN_cash_flow.csv']\n",
      "Saved: AMGN_master.csv\n",
      "Processing ticker: LIN\n",
      "Files: ['LIN_cash_flow.csv', 'LIN_income_statement.csv', 'LIN_balance_sheet.csv']\n",
      "Saved: LIN_master.csv\n",
      "Processing ticker: DRI\n",
      "Files: ['DRI_balance_sheet.csv', 'DRI_income_statement.csv', 'DRI_cash_flow.csv']\n",
      "Saved: DRI_master.csv\n",
      "Processing ticker: LYB\n",
      "Files: ['LYB_income_statement.csv', 'LYB_cash_flow.csv', 'LYB_balance_sheet.csv']\n",
      "Saved: LYB_master.csv\n",
      "Processing ticker: LW\n",
      "Files: ['LW_cash_flow.csv', 'LW_balance_sheet.csv', 'LW_income_statement.csv']\n",
      "Saved: LW_master.csv\n",
      "Processing ticker: EXC\n",
      "Files: ['EXC_balance_sheet.csv', 'EXC_cash_flow.csv', 'EXC_income_statement.csv']\n",
      "Saved: EXC_master.csv\n",
      "Processing ticker: CRM\n",
      "Files: ['CRM_balance_sheet.csv', 'CRM_income_statement.csv', 'CRM_cash_flow.csv']\n",
      "Saved: CRM_master.csv\n",
      "Processing ticker: CTAS\n",
      "Files: ['CTAS_balance_sheet.csv', 'CTAS_cash_flow.csv', 'CTAS_income_statement.csv']\n",
      "Saved: CTAS_master.csv\n",
      "Processing ticker: CEG\n",
      "Files: ['CEG_cash_flow.csv', 'CEG_income_statement.csv', 'CEG_balance_sheet.csv']\n",
      "Saved: CEG_master.csv\n",
      "Processing ticker: PG\n",
      "Files: ['PG_cash_flow.csv', 'PG_income_statement.csv', 'PG_balance_sheet.csv']\n",
      "Saved: PG_master.csv\n",
      "Processing ticker: MSI\n",
      "Files: ['MSI_income_statement.csv', 'MSI_balance_sheet.csv', 'MSI_cash_flow.csv']\n",
      "Saved: MSI_master.csv\n",
      "Processing ticker: NVDA\n",
      "Files: ['NVDA_balance_sheet.csv', 'NVDA_cash_flow.csv', 'NVDA_income_statement.csv']\n",
      "Saved: NVDA_master.csv\n",
      "Processing ticker: TECH\n",
      "Files: ['TECH_cash_flow.csv', 'TECH_balance_sheet.csv', 'TECH_income_statement.csv']\n",
      "Saved: TECH_master.csv\n",
      "Processing ticker: DPZ\n",
      "Files: ['DPZ_income_statement.csv', 'DPZ_balance_sheet.csv', 'DPZ_cash_flow.csv']\n",
      "Saved: DPZ_master.csv\n",
      "Processing ticker: CB\n",
      "Files: ['CB_cash_flow.csv', 'CB_balance_sheet.csv', 'CB_income_statement.csv']\n",
      "Saved: CB_master.csv\n",
      "Processing ticker: INTU\n",
      "Files: ['INTU_cash_flow.csv', 'INTU_income_statement.csv', 'INTU_balance_sheet.csv']\n",
      "Saved: INTU_master.csv\n",
      "Processing ticker: FOX\n",
      "Files: ['FOX_balance_sheet.csv', 'FOX_income_statement.csv', 'FOX_cash_flow.csv']\n",
      "Saved: FOX_master.csv\n",
      "Processing ticker: ITW\n",
      "Files: ['ITW_balance_sheet.csv', 'ITW_cash_flow.csv', 'ITW_income_statement.csv']\n",
      "Saved: ITW_master.csv\n",
      "Processing ticker: ALL\n",
      "Files: ['ALL_income_statement.csv', 'ALL_cash_flow.csv', 'ALL_balance_sheet.csv']\n",
      "Saved: ALL_master.csv\n",
      "Processing ticker: CPT\n",
      "Files: ['CPT_cash_flow.csv', 'CPT_income_statement.csv', 'CPT_balance_sheet.csv']\n",
      "Saved: CPT_master.csv\n",
      "Processing ticker: FTNT\n",
      "Files: ['FTNT_cash_flow.csv', 'FTNT_income_statement.csv', 'FTNT_balance_sheet.csv']\n",
      "Saved: FTNT_master.csv\n",
      "Processing ticker: O\n",
      "Files: ['O_income_statement.csv', 'O_balance_sheet.csv', 'O_cash_flow.csv']\n",
      "Saved: O_master.csv\n",
      "Processing ticker: EA\n",
      "Files: ['EA_balance_sheet.csv', 'EA_cash_flow.csv', 'EA_income_statement.csv']\n",
      "Saved: EA_master.csv\n",
      "Processing ticker: CSX\n",
      "Files: ['CSX_income_statement.csv', 'CSX_balance_sheet.csv', 'CSX_cash_flow.csv']\n",
      "Saved: CSX_master.csv\n",
      "Processing ticker: ACN\n",
      "Files: ['ACN_balance_sheet.csv', 'ACN_income_statement.csv', 'ACN_cash_flow.csv']\n",
      "Saved: ACN_master.csv\n",
      "Processing ticker: RF\n",
      "Files: ['RF_income_statement.csv', 'RF_balance_sheet.csv', 'RF_cash_flow.csv']\n",
      "Saved: RF_master.csv\n",
      "Processing ticker: AZO\n",
      "Files: ['AZO_balance_sheet.csv', 'AZO_income_statement.csv', 'AZO_cash_flow.csv']\n",
      "Saved: AZO_master.csv\n",
      "Processing ticker: MNST\n",
      "Files: ['MNST_balance_sheet.csv', 'MNST_income_statement.csv', 'MNST_cash_flow.csv']\n",
      "Saved: MNST_master.csv\n",
      "Processing ticker: CLX\n",
      "Files: ['CLX_balance_sheet.csv', 'CLX_income_statement.csv', 'CLX_cash_flow.csv']\n",
      "Saved: CLX_master.csv\n",
      "Processing ticker: INCY\n",
      "Files: ['INCY_balance_sheet.csv', 'INCY_cash_flow.csv', 'INCY_income_statement.csv']\n",
      "Saved: INCY_master.csv\n",
      "Processing ticker: AME\n",
      "Files: ['AME_cash_flow.csv', 'AME_income_statement.csv', 'AME_balance_sheet.csv']\n",
      "Saved: AME_master.csv\n",
      "Processing ticker: ENPH\n",
      "Files: ['ENPH_cash_flow.csv', 'ENPH_income_statement.csv', 'ENPH_balance_sheet.csv']\n",
      "Saved: ENPH_master.csv\n",
      "Processing ticker: KKR\n",
      "Files: ['KKR_cash_flow.csv', 'KKR_balance_sheet.csv', 'KKR_income_statement.csv']\n",
      "Saved: KKR_master.csv\n",
      "Processing ticker: ADI\n",
      "Files: ['ADI_income_statement.csv', 'ADI_cash_flow.csv', 'ADI_balance_sheet.csv']\n",
      "Saved: ADI_master.csv\n",
      "Processing ticker: XYL\n",
      "Files: ['XYL_cash_flow.csv', 'XYL_balance_sheet.csv', 'XYL_income_statement.csv']\n",
      "Saved: XYL_master.csv\n",
      "Processing ticker: RSG\n",
      "Files: ['RSG_cash_flow.csv', 'RSG_balance_sheet.csv', 'RSG_income_statement.csv']\n",
      "Saved: RSG_master.csv\n",
      "Processing ticker: EMN\n",
      "Files: ['EMN_income_statement.csv', 'EMN_cash_flow.csv', 'EMN_balance_sheet.csv']\n",
      "Saved: EMN_master.csv\n",
      "Processing ticker: ARE\n",
      "Files: ['ARE_income_statement.csv', 'ARE_cash_flow.csv', 'ARE_balance_sheet.csv']\n",
      "Saved: ARE_master.csv\n",
      "Processing ticker: PFG\n",
      "Files: ['PFG_cash_flow.csv', 'PFG_balance_sheet.csv', 'PFG_income_statement.csv']\n",
      "Saved: PFG_master.csv\n",
      "Processing ticker: NXPI\n",
      "Files: ['NXPI_income_statement.csv', 'NXPI_cash_flow.csv', 'NXPI_balance_sheet.csv']\n",
      "Saved: NXPI_master.csv\n",
      "Processing ticker: FSLR\n",
      "Files: ['FSLR_balance_sheet.csv', 'FSLR_cash_flow.csv', 'FSLR_income_statement.csv']\n",
      "Saved: FSLR_master.csv\n",
      "Processing ticker: JCI\n",
      "Files: ['JCI_cash_flow.csv', 'JCI_balance_sheet.csv', 'JCI_income_statement.csv']\n",
      "Saved: JCI_master.csv\n",
      "Processing ticker: CL\n",
      "Files: ['CL_income_statement.csv', 'CL_cash_flow.csv', 'CL_balance_sheet.csv']\n",
      "Saved: CL_master.csv\n",
      "Processing ticker: ICE\n",
      "Files: ['ICE_cash_flow.csv', 'ICE_income_statement.csv', 'ICE_balance_sheet.csv']\n",
      "Saved: ICE_master.csv\n",
      "Processing ticker: BKR\n",
      "Files: ['BKR_balance_sheet.csv', 'BKR_cash_flow.csv', 'BKR_income_statement.csv']\n",
      "Saved: BKR_master.csv\n",
      "Processing ticker: F\n",
      "Files: ['F_cash_flow.csv', 'F_balance_sheet.csv', 'F_income_statement.csv']\n",
      "Saved: F_master.csv\n",
      "Processing ticker: BALL\n",
      "Files: ['BALL_income_statement.csv', 'BALL_cash_flow.csv', 'BALL_balance_sheet.csv']\n",
      "Saved: BALL_master.csv\n",
      "Processing ticker: HUBB\n",
      "Files: ['HUBB_income_statement.csv', 'HUBB_cash_flow.csv', 'HUBB_balance_sheet.csv']\n",
      "Saved: HUBB_master.csv\n",
      "Processing ticker: PHM\n",
      "Files: ['PHM_balance_sheet.csv', 'PHM_cash_flow.csv', 'PHM_income_statement.csv']\n",
      "Saved: PHM_master.csv\n",
      "Processing ticker: CVX\n",
      "Files: ['CVX_balance_sheet.csv', 'CVX_cash_flow.csv', 'CVX_income_statement.csv']\n",
      "Saved: CVX_master.csv\n",
      "Processing ticker: GPN\n",
      "Files: ['GPN_income_statement.csv', 'GPN_cash_flow.csv', 'GPN_balance_sheet.csv']\n",
      "Saved: GPN_master.csv\n",
      "Processing ticker: AMAT\n",
      "Files: ['AMAT_income_statement.csv', 'AMAT_cash_flow.csv', 'AMAT_balance_sheet.csv']\n",
      "Saved: AMAT_master.csv\n",
      "Processing ticker: CNP\n",
      "Files: ['CNP_balance_sheet.csv', 'CNP_cash_flow.csv', 'CNP_income_statement.csv']\n",
      "Saved: CNP_master.csv\n",
      "Processing ticker: ON\n",
      "Files: ['ON_balance_sheet.csv', 'ON_cash_flow.csv', 'ON_income_statement.csv']\n",
      "Saved: ON_master.csv\n",
      "Processing ticker: PNC\n",
      "Files: ['PNC_cash_flow.csv', 'PNC_balance_sheet.csv', 'PNC_income_statement.csv']\n",
      "Saved: PNC_master.csv\n",
      "Processing ticker: CPRT\n",
      "Files: ['CPRT_cash_flow.csv', 'CPRT_income_statement.csv', 'CPRT_balance_sheet.csv']\n",
      "Saved: CPRT_master.csv\n",
      "Processing ticker: TPL\n",
      "Files: ['TPL_income_statement.csv', 'TPL_cash_flow.csv', 'TPL_balance_sheet.csv']\n",
      "Saved: TPL_master.csv\n",
      "Processing ticker: TER\n",
      "Files: ['TER_balance_sheet.csv', 'TER_income_statement.csv', 'TER_cash_flow.csv']\n",
      "Saved: TER_master.csv\n",
      "Processing ticker: GRMN\n",
      "Files: ['GRMN_income_statement.csv', 'GRMN_balance_sheet.csv', 'GRMN_cash_flow.csv']\n",
      "Saved: GRMN_master.csv\n",
      "Processing ticker: MA\n",
      "Files: ['MA_cash_flow.csv', 'MA_balance_sheet.csv', 'MA_income_statement.csv']\n",
      "Saved: MA_master.csv\n",
      "Processing ticker: RL\n",
      "Files: ['RL_income_statement.csv', 'RL_cash_flow.csv', 'RL_balance_sheet.csv']\n",
      "Saved: RL_master.csv\n",
      "Processing ticker: CI\n",
      "Files: ['CI_income_statement.csv', 'CI_balance_sheet.csv', 'CI_cash_flow.csv']\n",
      "Saved: CI_master.csv\n",
      "Processing ticker: CINF\n",
      "Files: ['CINF_balance_sheet.csv', 'CINF_cash_flow.csv', 'CINF_income_statement.csv']\n",
      "Saved: CINF_master.csv\n",
      "Processing ticker: BAX\n",
      "Files: ['BAX_balance_sheet.csv', 'BAX_cash_flow.csv', 'BAX_income_statement.csv']\n",
      "Saved: BAX_master.csv\n",
      "Processing ticker: BKNG\n",
      "Files: ['BKNG_cash_flow.csv', 'BKNG_balance_sheet.csv', 'BKNG_income_statement.csv']\n",
      "Saved: BKNG_master.csv\n",
      "Processing ticker: DLR\n",
      "Files: ['DLR_cash_flow.csv', 'DLR_income_statement.csv', 'DLR_balance_sheet.csv']\n",
      "Saved: DLR_master.csv\n",
      "Processing ticker: LHX\n",
      "Files: ['LHX_cash_flow.csv', 'LHX_income_statement.csv', 'LHX_balance_sheet.csv']\n",
      "Saved: LHX_master.csv\n",
      "Processing ticker: IVZ\n",
      "Files: ['IVZ_balance_sheet.csv', 'IVZ_income_statement.csv', 'IVZ_cash_flow.csv']\n",
      "Saved: IVZ_master.csv\n",
      "Processing ticker: HBAN\n",
      "Files: ['HBAN_balance_sheet.csv', 'HBAN_cash_flow.csv', 'HBAN_income_statement.csv']\n",
      "Saved: HBAN_master.csv\n",
      "Processing ticker: TEL\n",
      "Files: ['TEL_balance_sheet.csv', 'TEL_income_statement.csv', 'TEL_cash_flow.csv']\n",
      "Saved: TEL_master.csv\n",
      "Processing ticker: ANET\n",
      "Files: ['ANET_balance_sheet.csv', 'ANET_income_statement.csv', 'ANET_cash_flow.csv']\n",
      "Saved: ANET_master.csv\n",
      "Processing ticker: JBL\n",
      "Files: ['JBL_income_statement.csv', 'JBL_balance_sheet.csv', 'JBL_cash_flow.csv']\n",
      "Saved: JBL_master.csv\n",
      "Processing ticker: MHK\n",
      "Files: ['MHK_balance_sheet.csv', 'MHK_cash_flow.csv', 'MHK_income_statement.csv']\n",
      "Saved: MHK_master.csv\n",
      "Processing ticker: ROL\n",
      "Files: ['ROL_income_statement.csv', 'ROL_cash_flow.csv', 'ROL_balance_sheet.csv']\n",
      "Saved: ROL_master.csv\n",
      "Processing ticker: ED\n",
      "Files: ['ED_balance_sheet.csv', 'ED_cash_flow.csv', 'ED_income_statement.csv']\n",
      "Saved: ED_master.csv\n",
      "Processing ticker: ABT\n",
      "Files: ['ABT_cash_flow.csv', 'ABT_income_statement.csv', 'ABT_balance_sheet.csv']\n",
      "Saved: ABT_master.csv\n",
      "Processing ticker: SPGI\n",
      "Files: ['SPGI_balance_sheet.csv', 'SPGI_income_statement.csv', 'SPGI_cash_flow.csv']\n",
      "Saved: SPGI_master.csv\n",
      "Processing ticker: AON\n",
      "Files: ['AON_income_statement.csv', 'AON_balance_sheet.csv', 'AON_cash_flow.csv']\n",
      "Saved: AON_master.csv\n",
      "Processing ticker: CVS\n",
      "Files: ['CVS_cash_flow.csv', 'CVS_balance_sheet.csv', 'CVS_income_statement.csv']\n",
      "Saved: CVS_master.csv\n",
      "Processing ticker: AEE\n",
      "Files: ['AEE_cash_flow.csv', 'AEE_income_statement.csv', 'AEE_balance_sheet.csv']\n",
      "Saved: AEE_master.csv\n",
      "Processing ticker: MPC\n",
      "Files: ['MPC_balance_sheet.csv', 'MPC_income_statement.csv', 'MPC_cash_flow.csv']\n",
      "Saved: MPC_master.csv\n",
      "Processing ticker: CARR\n",
      "Files: ['CARR_income_statement.csv', 'CARR_cash_flow.csv', 'CARR_balance_sheet.csv']\n",
      "Saved: CARR_master.csv\n",
      "Processing ticker: BWA\n",
      "Files: ['BWA_cash_flow.csv', 'BWA_balance_sheet.csv', 'BWA_income_statement.csv']\n",
      "Saved: BWA_master.csv\n",
      "Processing ticker: BXP\n",
      "Files: ['BXP_income_statement.csv', 'BXP_cash_flow.csv', 'BXP_balance_sheet.csv']\n",
      "Saved: BXP_master.csv\n",
      "Processing ticker: UAL\n",
      "Files: ['UAL_income_statement.csv', 'UAL_cash_flow.csv', 'UAL_balance_sheet.csv']\n",
      "Saved: UAL_master.csv\n",
      "Processing ticker: FOXA\n",
      "Files: ['FOXA_income_statement.csv', 'FOXA_balance_sheet.csv', 'FOXA_cash_flow.csv']\n",
      "Saved: FOXA_master.csv\n",
      "Processing ticker: REG\n",
      "Files: ['REG_income_statement.csv', 'REG_balance_sheet.csv', 'REG_cash_flow.csv']\n",
      "Saved: REG_master.csv\n",
      "Processing ticker: CDW\n",
      "Files: ['CDW_income_statement.csv', 'CDW_cash_flow.csv', 'CDW_balance_sheet.csv']\n",
      "Saved: CDW_master.csv\n",
      "Processing ticker: EIX\n",
      "Files: ['EIX_cash_flow.csv', 'EIX_balance_sheet.csv', 'EIX_income_statement.csv']\n",
      "Saved: EIX_master.csv\n",
      "Processing ticker: LLY\n",
      "Files: ['LLY_income_statement.csv', 'LLY_balance_sheet.csv', 'LLY_cash_flow.csv']\n",
      "Saved: LLY_master.csv\n",
      "Processing ticker: ECL\n",
      "Files: ['ECL_balance_sheet.csv', 'ECL_cash_flow.csv', 'ECL_income_statement.csv']\n",
      "Saved: ECL_master.csv\n",
      "Processing ticker: WM\n",
      "Files: ['WM_cash_flow.csv', 'WM_balance_sheet.csv', 'WM_income_statement.csv']\n",
      "Saved: WM_master.csv\n",
      "Processing ticker: LUV\n",
      "Files: ['LUV_income_statement.csv', 'LUV_cash_flow.csv', 'LUV_balance_sheet.csv']\n",
      "Saved: LUV_master.csv\n",
      "Processing ticker: PODD\n",
      "Files: ['PODD_cash_flow.csv', 'PODD_balance_sheet.csv', 'PODD_income_statement.csv']\n",
      "Saved: PODD_master.csv\n",
      "Processing ticker: NRG\n",
      "Files: ['NRG_cash_flow.csv', 'NRG_income_statement.csv', 'NRG_balance_sheet.csv']\n",
      "Saved: NRG_master.csv\n",
      "Processing ticker: RJF\n",
      "Files: ['RJF_balance_sheet.csv', 'RJF_cash_flow.csv', 'RJF_income_statement.csv']\n",
      "Saved: RJF_master.csv\n",
      "Processing ticker: AIG\n",
      "Files: ['AIG_balance_sheet.csv', 'AIG_income_statement.csv', 'AIG_cash_flow.csv']\n",
      "Saved: AIG_master.csv\n",
      "Processing ticker: WEC\n",
      "Files: ['WEC_income_statement.csv', 'WEC_cash_flow.csv', 'WEC_balance_sheet.csv']\n",
      "Saved: WEC_master.csv\n",
      "Processing ticker: SNA\n",
      "Files: ['SNA_cash_flow.csv', 'SNA_income_statement.csv', 'SNA_balance_sheet.csv']\n",
      "Saved: SNA_master.csv\n",
      "Processing ticker: MCO\n",
      "Files: ['MCO_income_statement.csv', 'MCO_balance_sheet.csv', 'MCO_cash_flow.csv']\n",
      "Saved: MCO_master.csv\n",
      "Processing ticker: GWW\n",
      "Files: ['GWW_income_statement.csv', 'GWW_balance_sheet.csv', 'GWW_cash_flow.csv']\n",
      "Saved: GWW_master.csv\n",
      "Processing ticker: FANG\n",
      "Files: ['FANG_balance_sheet.csv', 'FANG_income_statement.csv', 'FANG_cash_flow.csv']\n",
      "Saved: FANG_master.csv\n",
      "Processing ticker: MO\n",
      "Files: ['MO_cash_flow.csv', 'MO_income_statement.csv', 'MO_balance_sheet.csv']\n",
      "Saved: MO_master.csv\n",
      "Processing ticker: WDC\n",
      "Files: ['WDC_balance_sheet.csv', 'WDC_cash_flow.csv', 'WDC_income_statement.csv']\n",
      "Saved: WDC_master.csv\n",
      "Processing ticker: QCOM\n",
      "Files: ['QCOM_income_statement.csv', 'QCOM_cash_flow.csv', 'QCOM_balance_sheet.csv']\n",
      "Saved: QCOM_master.csv\n",
      "Processing ticker: EL\n",
      "Files: ['EL_income_statement.csv', 'EL_cash_flow.csv', 'EL_balance_sheet.csv']\n",
      "Saved: EL_master.csv\n",
      "Processing ticker: KEYS\n",
      "Files: ['KEYS_balance_sheet.csv', 'KEYS_cash_flow.csv', 'KEYS_income_statement.csv']\n",
      "Saved: KEYS_master.csv\n",
      "Processing ticker: IFF\n",
      "Files: ['IFF_income_statement.csv', 'IFF_cash_flow.csv', 'IFF_balance_sheet.csv']\n",
      "Saved: IFF_master.csv\n",
      "Processing ticker: ETR\n",
      "Files: ['ETR_balance_sheet.csv', 'ETR_income_statement.csv', 'ETR_cash_flow.csv']\n",
      "Saved: ETR_master.csv\n",
      "Processing ticker: TYL\n",
      "Files: ['TYL_balance_sheet.csv', 'TYL_cash_flow.csv', 'TYL_income_statement.csv']\n",
      "Saved: TYL_master.csv\n",
      "Processing ticker: COR\n",
      "Files: ['COR_cash_flow.csv', 'COR_balance_sheet.csv', 'COR_income_statement.csv']\n",
      "Saved: COR_master.csv\n",
      "Processing ticker: CZR\n",
      "Files: ['CZR_balance_sheet.csv', 'CZR_cash_flow.csv', 'CZR_income_statement.csv']\n",
      "Saved: CZR_master.csv\n",
      "Processing ticker: GE\n",
      "Files: ['GE_cash_flow.csv', 'GE_income_statement.csv', 'GE_balance_sheet.csv']\n",
      "Saved: GE_master.csv\n",
      "Processing ticker: LH\n",
      "Files: ['LH_cash_flow.csv', 'LH_balance_sheet.csv', 'LH_income_statement.csv']\n",
      "Saved: LH_master.csv\n",
      "Processing ticker: APTV\n",
      "Files: ['APTV_income_statement.csv', 'APTV_cash_flow.csv', 'APTV_balance_sheet.csv']\n",
      "Saved: APTV_master.csv\n",
      "Processing ticker: PANW\n",
      "Files: ['PANW_income_statement.csv', 'PANW_balance_sheet.csv', 'PANW_cash_flow.csv']\n",
      "Saved: PANW_master.csv\n",
      "Processing ticker: LULU\n",
      "Files: ['LULU_balance_sheet.csv', 'LULU_cash_flow.csv', 'LULU_income_statement.csv']\n",
      "Saved: LULU_master.csv\n",
      "Processing ticker: HRL\n",
      "Files: ['HRL_balance_sheet.csv', 'HRL_cash_flow.csv', 'HRL_income_statement.csv']\n",
      "Saved: HRL_master.csv\n",
      "Processing ticker: COP\n",
      "Files: ['COP_income_statement.csv', 'COP_cash_flow.csv', 'COP_balance_sheet.csv']\n",
      "Saved: COP_master.csv\n",
      "Processing ticker: IP\n",
      "Files: ['IP_balance_sheet.csv', 'IP_cash_flow.csv', 'IP_income_statement.csv']\n",
      "Saved: IP_master.csv\n",
      "Processing ticker: EQT\n",
      "Files: ['EQT_cash_flow.csv', 'EQT_balance_sheet.csv', 'EQT_income_statement.csv']\n",
      "Saved: EQT_master.csv\n",
      "Processing ticker: JKHY\n",
      "Files: ['JKHY_income_statement.csv', 'JKHY_cash_flow.csv', 'JKHY_balance_sheet.csv']\n",
      "Saved: JKHY_master.csv\n",
      "Processing ticker: PRU\n",
      "Files: ['PRU_balance_sheet.csv', 'PRU_income_statement.csv', 'PRU_cash_flow.csv']\n",
      "Saved: PRU_master.csv\n",
      "Processing ticker: MMC\n",
      "Files: ['MMC_cash_flow.csv', 'MMC_balance_sheet.csv', 'MMC_income_statement.csv']\n",
      "Saved: MMC_master.csv\n",
      "Processing ticker: NEM\n",
      "Files: ['NEM_balance_sheet.csv', 'NEM_cash_flow.csv', 'NEM_income_statement.csv']\n",
      "Saved: NEM_master.csv\n",
      "Processing ticker: PPG\n",
      "Files: ['PPG_income_statement.csv', 'PPG_balance_sheet.csv', 'PPG_cash_flow.csv']\n",
      "Saved: PPG_master.csv\n",
      "Processing ticker: BSX\n",
      "Files: ['BSX_income_statement.csv', 'BSX_balance_sheet.csv', 'BSX_cash_flow.csv']\n",
      "Saved: BSX_master.csv\n",
      "Processing ticker: AVGO\n",
      "Files: ['AVGO_cash_flow.csv', 'AVGO_income_statement.csv', 'AVGO_balance_sheet.csv']\n",
      "Saved: AVGO_master.csv\n",
      "Processing ticker: PWR\n",
      "Files: ['PWR_balance_sheet.csv', 'PWR_cash_flow.csv', 'PWR_income_statement.csv']\n",
      "Saved: PWR_master.csv\n",
      "Processing ticker: CMI\n",
      "Files: ['CMI_balance_sheet.csv', 'CMI_cash_flow.csv', 'CMI_income_statement.csv']\n",
      "Saved: CMI_master.csv\n",
      "Processing ticker: SWKS\n",
      "Files: ['SWKS_income_statement.csv', 'SWKS_cash_flow.csv', 'SWKS_balance_sheet.csv']\n",
      "Saved: SWKS_master.csv\n",
      "Processing ticker: TSCO\n",
      "Files: ['TSCO_balance_sheet.csv', 'TSCO_income_statement.csv', 'TSCO_cash_flow.csv']\n",
      "Saved: TSCO_master.csv\n",
      "Processing ticker: CNC\n",
      "Files: ['CNC_income_statement.csv', 'CNC_cash_flow.csv', 'CNC_balance_sheet.csv']\n",
      "Saved: CNC_master.csv\n",
      "Processing ticker: NDSN\n",
      "Files: ['NDSN_cash_flow.csv', 'NDSN_balance_sheet.csv', 'NDSN_income_statement.csv']\n",
      "Saved: NDSN_master.csv\n",
      "Processing ticker: TGT\n",
      "Files: ['TGT_cash_flow.csv', 'TGT_income_statement.csv', 'TGT_balance_sheet.csv']\n",
      "Saved: TGT_master.csv\n",
      "Processing ticker: GILD\n",
      "Files: ['GILD_income_statement.csv', 'GILD_cash_flow.csv', 'GILD_balance_sheet.csv']\n",
      "Saved: GILD_master.csv\n",
      "Processing ticker: UNH\n",
      "Files: ['UNH_cash_flow.csv', 'UNH_balance_sheet.csv', 'UNH_income_statement.csv']\n",
      "Saved: UNH_master.csv\n",
      "Processing ticker: ALGN\n",
      "Files: ['ALGN_income_statement.csv', 'ALGN_cash_flow.csv', 'ALGN_balance_sheet.csv']\n",
      "Saved: ALGN_master.csv\n",
      "Processing ticker: SO\n",
      "Files: ['SO_income_statement.csv', 'SO_balance_sheet.csv', 'SO_cash_flow.csv']\n",
      "Saved: SO_master.csv\n",
      "Processing ticker: LMT\n",
      "Files: ['LMT_balance_sheet.csv', 'LMT_income_statement.csv', 'LMT_cash_flow.csv']\n",
      "Saved: LMT_master.csv\n",
      "Processing ticker: HES\n",
      "Files: ['HES_cash_flow.csv', 'HES_balance_sheet.csv', 'HES_income_statement.csv']\n",
      "Saved: HES_master.csv\n",
      "Processing ticker: HUM\n",
      "Files: ['HUM_income_statement.csv', 'HUM_cash_flow.csv', 'HUM_balance_sheet.csv']\n",
      "Saved: HUM_master.csv\n",
      "Processing ticker: PCG\n",
      "Files: ['PCG_cash_flow.csv', 'PCG_income_statement.csv', 'PCG_balance_sheet.csv']\n",
      "Saved: PCG_master.csv\n",
      "Processing ticker: HCA\n",
      "Files: ['HCA_income_statement.csv', 'HCA_cash_flow.csv', 'HCA_balance_sheet.csv']\n",
      "Saved: HCA_master.csv\n",
      "Processing ticker: ELV\n",
      "Files: ['ELV_cash_flow.csv', 'ELV_income_statement.csv', 'ELV_balance_sheet.csv']\n",
      "Saved: ELV_master.csv\n",
      "Processing ticker: CTVA\n",
      "Files: ['CTVA_income_statement.csv', 'CTVA_balance_sheet.csv', 'CTVA_cash_flow.csv']\n",
      "Saved: CTVA_master.csv\n",
      "Processing ticker: MGM\n",
      "Files: ['MGM_cash_flow.csv', 'MGM_balance_sheet.csv', 'MGM_income_statement.csv']\n",
      "Saved: MGM_master.csv\n",
      "Processing ticker: RVTY\n",
      "Files: ['RVTY_balance_sheet.csv', 'RVTY_cash_flow.csv', 'RVTY_income_statement.csv']\n",
      "Saved: RVTY_master.csv\n",
      "Processing ticker: JNJ\n",
      "Files: ['JNJ_balance_sheet.csv', 'JNJ_cash_flow.csv', 'JNJ_income_statement.csv']\n",
      "Saved: JNJ_master.csv\n",
      "Processing ticker: XOM\n",
      "Files: ['XOM_cash_flow.csv', 'XOM_income_statement.csv', 'XOM_balance_sheet.csv']\n",
      "Saved: XOM_master.csv\n",
      "Processing ticker: HLT\n",
      "Files: ['HLT_cash_flow.csv', 'HLT_balance_sheet.csv', 'HLT_income_statement.csv']\n",
      "Saved: HLT_master.csv\n",
      "Processing ticker: PKG\n",
      "Files: ['PKG_cash_flow.csv', 'PKG_income_statement.csv', 'PKG_balance_sheet.csv']\n",
      "Saved: PKG_master.csv\n",
      "Processing ticker: FTV\n",
      "Files: ['FTV_cash_flow.csv', 'FTV_balance_sheet.csv', 'FTV_income_statement.csv']\n",
      "Saved: FTV_master.csv\n",
      "Processing ticker: IBM\n",
      "Files: ['IBM_income_statement.csv', 'IBM_cash_flow.csv', 'IBM_balance_sheet.csv']\n",
      "Saved: IBM_master.csv\n",
      "Processing ticker: PYPL\n",
      "Files: ['PYPL_income_statement.csv', 'PYPL_balance_sheet.csv', 'PYPL_cash_flow.csv']\n",
      "Saved: PYPL_master.csv\n",
      "Processing ticker: PEP\n",
      "Files: ['PEP_balance_sheet.csv', 'PEP_cash_flow.csv', 'PEP_income_statement.csv']\n",
      "Saved: PEP_master.csv\n",
      "Processing ticker: CSCO\n",
      "Files: ['CSCO_income_statement.csv', 'CSCO_cash_flow.csv', 'CSCO_balance_sheet.csv']\n",
      "Saved: CSCO_master.csv\n",
      "Processing ticker: TDY\n",
      "Files: ['TDY_cash_flow.csv', 'TDY_balance_sheet.csv', 'TDY_income_statement.csv']\n",
      "Saved: TDY_master.csv\n",
      "Processing ticker: OXY\n",
      "Files: ['OXY_balance_sheet.csv', 'OXY_income_statement.csv', 'OXY_cash_flow.csv']\n",
      "Saved: OXY_master.csv\n",
      "Processing ticker: STLD\n",
      "Files: ['STLD_income_statement.csv', 'STLD_balance_sheet.csv', 'STLD_cash_flow.csv']\n",
      "Saved: STLD_master.csv\n",
      "Processing ticker: TTWO\n",
      "Files: ['TTWO_balance_sheet.csv', 'TTWO_income_statement.csv', 'TTWO_cash_flow.csv']\n",
      "Saved: TTWO_master.csv\n",
      "Processing ticker: PTC\n",
      "Files: ['PTC_income_statement.csv', 'PTC_cash_flow.csv', 'PTC_balance_sheet.csv']\n",
      "Saved: PTC_master.csv\n",
      "Processing ticker: VLO\n",
      "Files: ['VLO_income_statement.csv', 'VLO_cash_flow.csv', 'VLO_balance_sheet.csv']\n",
      "Saved: VLO_master.csv\n",
      "Processing ticker: TROW\n",
      "Files: ['TROW_income_statement.csv', 'TROW_balance_sheet.csv', 'TROW_cash_flow.csv']\n",
      "Saved: TROW_master.csv\n",
      "Processing ticker: VRSK\n",
      "Files: ['VRSK_balance_sheet.csv', 'VRSK_income_statement.csv', 'VRSK_cash_flow.csv']\n",
      "Saved: VRSK_master.csv\n",
      "Processing ticker: KO\n",
      "Files: ['KO_cash_flow.csv', 'KO_balance_sheet.csv', 'KO_income_statement.csv']\n",
      "Saved: KO_master.csv\n",
      "Processing ticker: PSX\n",
      "Files: ['PSX_balance_sheet.csv', 'PSX_income_statement.csv', 'PSX_cash_flow.csv']\n",
      "Saved: PSX_master.csv\n",
      "Processing ticker: KVUE\n",
      "Files: ['KVUE_balance_sheet.csv', 'KVUE_income_statement.csv', 'KVUE_cash_flow.csv']\n",
      "Saved: KVUE_master.csv\n",
      "Processing ticker: ADBE\n",
      "Files: ['ADBE_balance_sheet.csv', 'ADBE_cash_flow.csv', 'ADBE_income_statement.csv']\n",
      "Saved: ADBE_master.csv\n",
      "Processing ticker: SNPS\n",
      "Files: ['SNPS_balance_sheet.csv', 'SNPS_cash_flow.csv', 'SNPS_income_statement.csv']\n",
      "Saved: SNPS_master.csv\n",
      "Processing ticker: TXN\n",
      "Files: ['TXN_cash_flow.csv', 'TXN_income_statement.csv', 'TXN_balance_sheet.csv']\n",
      "Saved: TXN_master.csv\n",
      "Processing ticker: GEN\n",
      "Files: ['GEN_balance_sheet.csv', 'GEN_income_statement.csv', 'GEN_cash_flow.csv']\n",
      "Saved: GEN_master.csv\n",
      "Processing ticker: ROK\n",
      "Files: ['ROK_cash_flow.csv', 'ROK_income_statement.csv', 'ROK_balance_sheet.csv']\n",
      "Saved: ROK_master.csv\n",
      "Processing ticker: KMX\n",
      "Files: ['KMX_cash_flow.csv', 'KMX_balance_sheet.csv', 'KMX_income_statement.csv']\n",
      "Saved: KMX_master.csv\n",
      "Processing ticker: DD\n",
      "Files: ['DD_income_statement.csv', 'DD_balance_sheet.csv', 'DD_cash_flow.csv']\n",
      "Saved: DD_master.csv\n",
      "Processing ticker: KHC\n",
      "Files: ['KHC_income_statement.csv', 'KHC_cash_flow.csv', 'KHC_balance_sheet.csv']\n",
      "Saved: KHC_master.csv\n",
      "Processing ticker: TMUS\n",
      "Files: ['TMUS_income_statement.csv', 'TMUS_balance_sheet.csv', 'TMUS_cash_flow.csv']\n",
      "Saved: TMUS_master.csv\n",
      "Processing ticker: EMR\n",
      "Files: ['EMR_cash_flow.csv', 'EMR_balance_sheet.csv', 'EMR_income_statement.csv']\n",
      "Saved: EMR_master.csv\n",
      "Processing ticker: PLD\n",
      "Files: ['PLD_balance_sheet.csv', 'PLD_income_statement.csv', 'PLD_cash_flow.csv']\n",
      "Saved: PLD_master.csv\n",
      "Processing ticker: TDG\n",
      "Files: ['TDG_balance_sheet.csv', 'TDG_income_statement.csv', 'TDG_cash_flow.csv']\n",
      "Saved: TDG_master.csv\n",
      "Processing ticker: NOC\n",
      "Files: ['NOC_balance_sheet.csv', 'NOC_cash_flow.csv', 'NOC_income_statement.csv']\n",
      "Saved: NOC_master.csv\n",
      "Processing ticker: HAL\n",
      "Files: ['HAL_cash_flow.csv', 'HAL_income_statement.csv', 'HAL_balance_sheet.csv']\n",
      "Saved: HAL_master.csv\n",
      "Processing ticker: LRCX\n",
      "Files: ['LRCX_balance_sheet.csv', 'LRCX_cash_flow.csv', 'LRCX_income_statement.csv']\n",
      "Saved: LRCX_master.csv\n",
      "Processing ticker: CCI\n",
      "Files: ['CCI_balance_sheet.csv', 'CCI_cash_flow.csv', 'CCI_income_statement.csv']\n",
      "Saved: CCI_master.csv\n",
      "Processing ticker: AOS\n",
      "Files: ['AOS_cash_flow.csv', 'AOS_balance_sheet.csv', 'AOS_income_statement.csv']\n",
      "Saved: AOS_master.csv\n",
      "Processing ticker: CMS\n",
      "Files: ['CMS_balance_sheet.csv', 'CMS_income_statement.csv', 'CMS_cash_flow.csv']\n",
      "Saved: CMS_master.csv\n",
      "Processing ticker: ADM\n",
      "Files: ['ADM_income_statement.csv', 'ADM_cash_flow.csv', 'ADM_balance_sheet.csv']\n",
      "Saved: ADM_master.csv\n",
      "Processing ticker: MKTX\n",
      "Files: ['MKTX_balance_sheet.csv', 'MKTX_income_statement.csv', 'MKTX_cash_flow.csv']\n",
      "Saved: MKTX_master.csv\n",
      "Processing ticker: D\n",
      "Files: ['D_income_statement.csv', 'D_cash_flow.csv', 'D_balance_sheet.csv']\n",
      "Saved: D_master.csv\n",
      "Processing ticker: LNT\n",
      "Files: ['LNT_balance_sheet.csv', 'LNT_cash_flow.csv', 'LNT_income_statement.csv']\n",
      "Saved: LNT_master.csv\n",
      "Processing ticker: ACGL\n",
      "Files: ['ACGL_cash_flow.csv', 'ACGL_income_statement.csv', 'ACGL_balance_sheet.csv']\n",
      "Saved: ACGL_master.csv\n",
      "Processing ticker: FFIV\n",
      "Files: ['FFIV_balance_sheet.csv', 'FFIV_income_statement.csv', 'FFIV_cash_flow.csv']\n",
      "Saved: FFIV_master.csv\n",
      "Processing ticker: INVH\n",
      "Files: ['INVH_balance_sheet.csv', 'INVH_income_statement.csv', 'INVH_cash_flow.csv']\n",
      "Saved: INVH_master.csv\n",
      "Processing ticker: K\n",
      "Files: ['K_cash_flow.csv', 'K_income_statement.csv', 'K_balance_sheet.csv']\n",
      "Saved: K_master.csv\n",
      "Processing ticker: GLW\n",
      "Files: ['GLW_cash_flow.csv', 'GLW_income_statement.csv', 'GLW_balance_sheet.csv']\n",
      "Saved: GLW_master.csv\n",
      "Processing ticker: CTSH\n",
      "Files: ['CTSH_income_statement.csv', 'CTSH_balance_sheet.csv', 'CTSH_cash_flow.csv']\n",
      "Saved: CTSH_master.csv\n",
      "Processing ticker: TJX\n",
      "Files: ['TJX_balance_sheet.csv', 'TJX_cash_flow.csv', 'TJX_income_statement.csv']\n",
      "Saved: TJX_master.csv\n",
      "Processing ticker: GPC\n",
      "Files: ['GPC_balance_sheet.csv', 'GPC_cash_flow.csv', 'GPC_income_statement.csv']\n",
      "Saved: GPC_master.csv\n",
      "Processing ticker: VLTO\n",
      "Files: ['VLTO_cash_flow.csv', 'VLTO_balance_sheet.csv', 'VLTO_income_statement.csv']\n",
      "Saved: VLTO_master.csv\n",
      "Processing ticker: CHD\n",
      "Files: ['CHD_cash_flow.csv', 'CHD_income_statement.csv', 'CHD_balance_sheet.csv']\n",
      "Saved: CHD_master.csv\n",
      "Processing ticker: ERIE\n",
      "Files: ['ERIE_balance_sheet.csv', 'ERIE_cash_flow.csv', 'ERIE_income_statement.csv']\n",
      "Saved: ERIE_master.csv\n",
      "Processing ticker: AXP\n",
      "Files: ['AXP_income_statement.csv', 'AXP_balance_sheet.csv', 'AXP_cash_flow.csv']\n",
      "Saved: AXP_master.csv\n",
      "Processing ticker: TAP\n",
      "Files: ['TAP_cash_flow.csv', 'TAP_income_statement.csv', 'TAP_balance_sheet.csv']\n",
      "Saved: TAP_master.csv\n",
      "Processing ticker: MTD\n",
      "Files: ['MTD_income_statement.csv', 'MTD_balance_sheet.csv', 'MTD_cash_flow.csv']\n",
      "Saved: MTD_master.csv\n",
      "Processing ticker: CCL\n",
      "Files: ['CCL_balance_sheet.csv', 'CCL_cash_flow.csv', 'CCL_income_statement.csv']\n",
      "Saved: CCL_master.csv\n",
      "Processing ticker: ABBV\n",
      "Files: ['ABBV_income_statement.csv', 'ABBV_balance_sheet.csv', 'ABBV_cash_flow.csv']\n",
      "Saved: ABBV_master.csv\n",
      "Processing ticker: BR\n",
      "Files: ['BR_balance_sheet.csv', 'BR_income_statement.csv', 'BR_cash_flow.csv']\n",
      "Saved: BR_master.csv\n",
      "Processing ticker: MKC\n",
      "Files: ['MKC_cash_flow.csv', 'MKC_income_statement.csv', 'MKC_balance_sheet.csv']\n",
      "Saved: MKC_master.csv\n",
      "Processing ticker: DVN\n",
      "Files: ['DVN_income_statement.csv', 'DVN_cash_flow.csv', 'DVN_balance_sheet.csv']\n",
      "Saved: DVN_master.csv\n",
      "Processing ticker: USB\n",
      "Files: ['USB_balance_sheet.csv', 'USB_income_statement.csv', 'USB_cash_flow.csv']\n",
      "Saved: USB_master.csv\n",
      "Processing ticker: FIS\n",
      "Files: ['FIS_cash_flow.csv', 'FIS_income_statement.csv', 'FIS_balance_sheet.csv']\n",
      "Saved: FIS_master.csv\n",
      "Processing ticker: CHRW\n",
      "Files: ['CHRW_income_statement.csv', 'CHRW_balance_sheet.csv', 'CHRW_cash_flow.csv']\n",
      "Saved: CHRW_master.csv\n",
      "Processing ticker: IT\n",
      "Files: ['IT_balance_sheet.csv', 'IT_cash_flow.csv', 'IT_income_statement.csv']\n",
      "Saved: IT_master.csv\n",
      "Processing ticker: GOOG\n",
      "Files: ['GOOG_income_statement.csv', 'GOOG_balance_sheet.csv', 'GOOG_cash_flow.csv']\n",
      "Saved: GOOG_master.csv\n",
      "Processing ticker: CAT\n",
      "Files: ['CAT_income_statement.csv', 'CAT_cash_flow.csv', 'CAT_balance_sheet.csv']\n",
      "Saved: CAT_master.csv\n",
      "Processing ticker: NOW\n",
      "Files: ['NOW_cash_flow.csv', 'NOW_balance_sheet.csv', 'NOW_income_statement.csv']\n",
      "Saved: NOW_master.csv\n",
      "Processing ticker: DOV\n",
      "Files: ['DOV_cash_flow.csv', 'DOV_balance_sheet.csv', 'DOV_income_statement.csv']\n",
      "Saved: DOV_master.csv\n",
      "Processing ticker: PNW\n",
      "Files: ['PNW_balance_sheet.csv', 'PNW_cash_flow.csv', 'PNW_income_statement.csv']\n",
      "Saved: PNW_master.csv\n",
      "Processing ticker: OTIS\n",
      "Files: ['OTIS_balance_sheet.csv', 'OTIS_cash_flow.csv', 'OTIS_income_statement.csv']\n",
      "Saved: OTIS_master.csv\n",
      "Processing ticker: HII\n",
      "Files: ['HII_cash_flow.csv', 'HII_balance_sheet.csv', 'HII_income_statement.csv']\n",
      "Saved: HII_master.csv\n",
      "Processing ticker: MPWR\n",
      "Files: ['MPWR_balance_sheet.csv', 'MPWR_income_statement.csv', 'MPWR_cash_flow.csv']\n",
      "Saved: MPWR_master.csv\n",
      "Processing ticker: KEY\n",
      "Files: ['KEY_cash_flow.csv', 'KEY_income_statement.csv', 'KEY_balance_sheet.csv']\n",
      "Saved: KEY_master.csv\n",
      "Processing ticker: OMC\n",
      "Files: ['OMC_income_statement.csv', 'OMC_cash_flow.csv', 'OMC_balance_sheet.csv']\n",
      "Saved: OMC_master.csv\n",
      "Processing ticker: TFC\n",
      "Files: ['TFC_balance_sheet.csv', 'TFC_cash_flow.csv', 'TFC_income_statement.csv']\n",
      "Saved: TFC_master.csv\n",
      "Processing ticker: BX\n",
      "Files: ['BX_income_statement.csv', 'BX_cash_flow.csv', 'BX_balance_sheet.csv']\n",
      "Saved: BX_master.csv\n",
      "Processing ticker: TT\n",
      "Files: ['TT_income_statement.csv', 'TT_cash_flow.csv', 'TT_balance_sheet.csv']\n",
      "Saved: TT_master.csv\n",
      "Processing ticker: RMD\n",
      "Files: ['RMD_cash_flow.csv', 'RMD_balance_sheet.csv', 'RMD_income_statement.csv']\n",
      "Saved: RMD_master.csv\n",
      "Processing ticker: NI\n",
      "Files: ['NI_balance_sheet.csv', 'NI_cash_flow.csv', 'NI_income_statement.csv']\n",
      "Saved: NI_master.csv\n",
      "Processing ticker: AKAM\n",
      "Files: ['AKAM_cash_flow.csv', 'AKAM_income_statement.csv', 'AKAM_balance_sheet.csv']\n",
      "Saved: AKAM_master.csv\n",
      "Processing ticker: STE\n",
      "Files: ['STE_balance_sheet.csv', 'STE_income_statement.csv', 'STE_cash_flow.csv']\n",
      "Saved: STE_master.csv\n",
      "Processing ticker: VZ\n",
      "Files: ['VZ_balance_sheet.csv', 'VZ_cash_flow.csv', 'VZ_income_statement.csv']\n",
      "Saved: VZ_master.csv\n",
      "Processing ticker: DOW\n",
      "Files: ['DOW_cash_flow.csv', 'DOW_balance_sheet.csv', 'DOW_income_statement.csv']\n",
      "Saved: DOW_master.csv\n",
      "Processing ticker: MDLZ\n",
      "Files: ['MDLZ_balance_sheet.csv', 'MDLZ_cash_flow.csv', 'MDLZ_income_statement.csv']\n",
      "Saved: MDLZ_master.csv\n",
      "Processing ticker: CPAY\n",
      "Files: ['CPAY_balance_sheet.csv', 'CPAY_cash_flow.csv', 'CPAY_income_statement.csv']\n",
      "Saved: CPAY_master.csv\n",
      "Processing ticker: MCHP\n",
      "Files: ['MCHP_balance_sheet.csv', 'MCHP_income_statement.csv', 'MCHP_cash_flow.csv']\n",
      "Saved: MCHP_master.csv\n",
      "Processing ticker: MOS\n",
      "Files: ['MOS_income_statement.csv', 'MOS_cash_flow.csv', 'MOS_balance_sheet.csv']\n",
      "Saved: MOS_master.csv\n",
      "Processing ticker: GDDY\n",
      "Files: ['GDDY_income_statement.csv', 'GDDY_cash_flow.csv', 'GDDY_balance_sheet.csv']\n",
      "Saved: GDDY_master.csv\n",
      "Processing ticker: WDAY\n",
      "Files: ['WDAY_balance_sheet.csv', 'WDAY_cash_flow.csv', 'WDAY_income_statement.csv']\n",
      "Saved: WDAY_master.csv\n",
      "Processing ticker: FCX\n",
      "Files: ['FCX_cash_flow.csv', 'FCX_balance_sheet.csv', 'FCX_income_statement.csv']\n",
      "Saved: FCX_master.csv\n",
      "Processing ticker: CDNS\n",
      "Files: ['CDNS_income_statement.csv', 'CDNS_cash_flow.csv', 'CDNS_balance_sheet.csv']\n",
      "Saved: CDNS_master.csv\n",
      "Processing ticker: JNPR\n",
      "Files: ['JNPR_cash_flow.csv', 'JNPR_balance_sheet.csv', 'JNPR_income_statement.csv']\n",
      "Saved: JNPR_master.csv\n",
      "Processing ticker: ADSK\n",
      "Files: ['ADSK_cash_flow.csv', 'ADSK_balance_sheet.csv', 'ADSK_income_statement.csv']\n",
      "Saved: ADSK_master.csv\n",
      "Processing ticker: TFX\n",
      "Files: ['TFX_balance_sheet.csv', 'TFX_cash_flow.csv', 'TFX_income_statement.csv']\n",
      "Saved: TFX_master.csv\n",
      "Processing ticker: CAH\n",
      "Files: ['CAH_balance_sheet.csv', 'CAH_income_statement.csv', 'CAH_cash_flow.csv']\n",
      "Saved: CAH_master.csv\n",
      "Processing ticker: DAL\n",
      "Files: ['DAL_balance_sheet.csv', 'DAL_income_statement.csv', 'DAL_cash_flow.csv']\n",
      "Saved: DAL_master.csv\n",
      "Processing ticker: MDT\n",
      "Files: ['MDT_income_statement.csv', 'MDT_cash_flow.csv', 'MDT_balance_sheet.csv']\n",
      "Saved: MDT_master.csv\n",
      "Processing ticker: DG\n",
      "Files: ['DG_income_statement.csv', 'DG_balance_sheet.csv', 'DG_cash_flow.csv']\n",
      "Saved: DG_master.csv\n",
      "Processing ticker: HOLX\n",
      "Files: ['HOLX_balance_sheet.csv', 'HOLX_income_statement.csv', 'HOLX_cash_flow.csv']\n",
      "Saved: HOLX_master.csv\n",
      "Processing ticker: STZ\n",
      "Files: ['STZ_balance_sheet.csv', 'STZ_income_statement.csv', 'STZ_cash_flow.csv']\n",
      "Saved: STZ_master.csv\n",
      "Processing ticker: SYY\n",
      "Files: ['SYY_cash_flow.csv', 'SYY_balance_sheet.csv', 'SYY_income_statement.csv']\n",
      "Saved: SYY_master.csv\n",
      "Processing ticker: EXR\n",
      "Files: ['EXR_balance_sheet.csv', 'EXR_cash_flow.csv', 'EXR_income_statement.csv']\n",
      "Saved: EXR_master.csv\n",
      "Processing ticker: IEX\n",
      "Files: ['IEX_cash_flow.csv', 'IEX_income_statement.csv', 'IEX_balance_sheet.csv']\n",
      "Saved: IEX_master.csv\n",
      "Processing ticker: HSIC\n",
      "Files: ['HSIC_income_statement.csv', 'HSIC_cash_flow.csv', 'HSIC_balance_sheet.csv']\n",
      "Saved: HSIC_master.csv\n",
      "Processing ticker: GD\n",
      "Files: ['GD_cash_flow.csv', 'GD_income_statement.csv', 'GD_balance_sheet.csv']\n",
      "Saved: GD_master.csv\n",
      "Processing ticker: AXON\n",
      "Files: ['AXON_balance_sheet.csv', 'AXON_cash_flow.csv', 'AXON_income_statement.csv']\n",
      "Saved: AXON_master.csv\n",
      "Processing ticker: POOL\n",
      "Files: ['POOL_cash_flow.csv', 'POOL_income_statement.csv', 'POOL_balance_sheet.csv']\n",
      "Saved: POOL_master.csv\n",
      "Processing ticker: C\n",
      "Files: ['C_balance_sheet.csv', 'C_income_statement.csv', 'C_cash_flow.csv']\n",
      "Saved: C_master.csv\n",
      "Processing ticker: MOH\n",
      "Files: ['MOH_income_statement.csv', 'MOH_cash_flow.csv', 'MOH_balance_sheet.csv']\n",
      "Saved: MOH_master.csv\n",
      "Processing ticker: ZBRA\n",
      "Files: ['ZBRA_cash_flow.csv', 'ZBRA_income_statement.csv', 'ZBRA_balance_sheet.csv']\n",
      "Saved: ZBRA_master.csv\n",
      "Processing ticker: IDXX\n",
      "Files: ['IDXX_income_statement.csv', 'IDXX_balance_sheet.csv', 'IDXX_cash_flow.csv']\n",
      "Saved: IDXX_master.csv\n",
      "Processing ticker: JPM\n",
      "Files: ['JPM_balance_sheet.csv', 'JPM_income_statement.csv', 'JPM_cash_flow.csv']\n",
      "Saved: JPM_master.csv\n",
      "Processing ticker: APH\n",
      "Files: ['APH_income_statement.csv', 'APH_cash_flow.csv', 'APH_balance_sheet.csv']\n",
      "Saved: APH_master.csv\n",
      "Processing ticker: UDR\n",
      "Files: ['UDR_cash_flow.csv', 'UDR_income_statement.csv', 'UDR_balance_sheet.csv']\n",
      "Saved: UDR_master.csv\n",
      "Processing ticker: KDP\n",
      "Files: ['KDP_income_statement.csv', 'KDP_cash_flow.csv', 'KDP_balance_sheet.csv']\n",
      "Saved: KDP_master.csv\n",
      "Processing ticker: YUM\n",
      "Files: ['YUM_income_statement.csv', 'YUM_cash_flow.csv', 'YUM_balance_sheet.csv']\n",
      "Saved: YUM_master.csv\n",
      "Processing ticker: HST\n",
      "Files: ['HST_income_statement.csv', 'HST_balance_sheet.csv', 'HST_cash_flow.csv']\n",
      "Saved: HST_master.csv\n",
      "Processing ticker: SYF\n",
      "Files: ['SYF_income_statement.csv', 'SYF_cash_flow.csv', 'SYF_balance_sheet.csv']\n",
      "Saved: SYF_master.csv\n",
      "Processing ticker: SRE\n",
      "Files: ['SRE_cash_flow.csv', 'SRE_income_statement.csv', 'SRE_balance_sheet.csv']\n",
      "Saved: SRE_master.csv\n",
      "Processing ticker: DIS\n",
      "Files: ['DIS_cash_flow.csv', 'DIS_income_statement.csv', 'DIS_balance_sheet.csv']\n",
      "Saved: DIS_master.csv\n",
      "Processing ticker: SJM\n",
      "Files: ['SJM_cash_flow.csv', 'SJM_income_statement.csv', 'SJM_balance_sheet.csv']\n",
      "Saved: SJM_master.csv\n",
      "Processing ticker: LOW\n",
      "Files: ['LOW_cash_flow.csv', 'LOW_income_statement.csv', 'LOW_balance_sheet.csv']\n",
      "Saved: LOW_master.csv\n",
      "Processing ticker: FMC\n",
      "Files: ['FMC_income_statement.csv', 'FMC_cash_flow.csv', 'FMC_balance_sheet.csv']\n",
      "Saved: FMC_master.csv\n",
      "Processing ticker: PCAR\n",
      "Files: ['PCAR_balance_sheet.csv', 'PCAR_cash_flow.csv', 'PCAR_income_statement.csv']\n",
      "Saved: PCAR_master.csv\n",
      "Processing ticker: KMB\n",
      "Files: ['KMB_balance_sheet.csv', 'KMB_cash_flow.csv', 'KMB_income_statement.csv']\n",
      "Saved: KMB_master.csv\n",
      "Processing ticker: BLK\n",
      "Files: ['BLK_income_statement.csv', 'BLK_cash_flow.csv', 'BLK_balance_sheet.csv']\n",
      "Saved: BLK_master.csv\n",
      "Processing ticker: WAT\n",
      "Files: ['WAT_income_statement.csv', 'WAT_cash_flow.csv', 'WAT_balance_sheet.csv']\n",
      "Saved: WAT_master.csv\n",
      "Processing ticker: BG\n",
      "Files: ['BG_balance_sheet.csv', 'BG_income_statement.csv', 'BG_cash_flow.csv']\n",
      "Saved: BG_master.csv\n",
      "Processing ticker: FI\n",
      "Files: ['FI_balance_sheet.csv', 'FI_cash_flow.csv', 'FI_income_statement.csv']\n",
      "Saved: FI_master.csv\n",
      "Processing ticker: MU\n",
      "Files: ['MU_income_statement.csv', 'MU_cash_flow.csv', 'MU_balance_sheet.csv']\n",
      "Saved: MU_master.csv\n",
      "Processing ticker: ULTA\n",
      "Files: ['ULTA_balance_sheet.csv', 'ULTA_cash_flow.csv', 'ULTA_income_statement.csv']\n",
      "Saved: ULTA_master.csv\n",
      "Processing ticker: BMY\n",
      "Files: ['BMY_cash_flow.csv', 'BMY_balance_sheet.csv', 'BMY_income_statement.csv']\n",
      "Saved: BMY_master.csv\n",
      "Processing ticker: NTAP\n",
      "Files: ['NTAP_income_statement.csv', 'NTAP_balance_sheet.csv', 'NTAP_cash_flow.csv']\n",
      "Saved: NTAP_master.csv\n",
      "Processing ticker: CBOE\n",
      "Files: ['CBOE_cash_flow.csv', 'CBOE_income_statement.csv', 'CBOE_balance_sheet.csv']\n",
      "Saved: CBOE_master.csv\n",
      "Processing ticker: TRGP\n",
      "Files: ['TRGP_balance_sheet.csv', 'TRGP_cash_flow.csv', 'TRGP_income_statement.csv']\n",
      "Saved: TRGP_master.csv\n",
      "Processing ticker: VTRS\n",
      "Files: ['VTRS_cash_flow.csv', 'VTRS_income_statement.csv', 'VTRS_balance_sheet.csv']\n",
      "Saved: VTRS_master.csv\n",
      "Processing ticker: TXT\n",
      "Files: ['TXT_balance_sheet.csv', 'TXT_cash_flow.csv', 'TXT_income_statement.csv']\n",
      "Saved: TXT_master.csv\n",
      "Processing ticker: MAS\n",
      "Files: ['MAS_balance_sheet.csv', 'MAS_income_statement.csv', 'MAS_cash_flow.csv']\n",
      "Saved: MAS_master.csv\n"
     ]
    }
   ],
   "source": [
    "import pandas as pd\n",
    "import os\n",
    "from collections import defaultdict\n",
    "\n",
    "# Dictionary to group files by ticker\n",
    "ticker_files = defaultdict(list)\n",
    "folder_path = \"./data/financial_statement\"\n",
    "\n",
    "# Get all CSV files in the folder\n",
    "csv_files = [f for f in os.listdir(folder_path) if f.endswith('.csv')]\n",
    "\n",
    "# Group files by ticker (part before first underscore), exclude master files\n",
    "for file in csv_files:\n",
    "    if '_' in file and not file.endswith('_master.csv'):\n",
    "        ticker = file.split('_')[0]\n",
    "        ticker_files[ticker].append(file)\n",
    "\n",
    "# Process each ticker group\n",
    "for ticker, files in ticker_files.items():\n",
    "    print(f\"Processing ticker: {ticker}\")\n",
    "    print(f\"Files: {files}\")\n",
    "    \n",
    "    # Read and merge all files for this ticker\n",
    "    merged_df = None\n",
    "    \n",
    "    for file in files:\n",
    "        file_path = os.path.join(folder_path, file)\n",
    "        df = pd.read_csv(file_path)\n",
    "        \n",
    "        if merged_df is None:\n",
    "            merged_df = df\n",
    "        else:\n",
    "            # Merge on 'frame' column\n",
    "            merged_df = pd.merge(merged_df, df, on='frame', how='outer')\n",
    "    \n",
    "    # Remove metadata columns\n",
    "    metadata_cols = [col for col in merged_df.columns if any(col.startswith(meta) for meta in ['company_name', 'end', 'unit', 'form', 'cik'])]\n",
    "    merged_df = merged_df.drop(columns=metadata_cols)\n",
    "    \n",
    "    # Save merged dataframe\n",
    "    output_file = os.path.join(folder_path, f\"{ticker}_master.csv\")\n",
    "    merged_df.to_csv(output_file, index=False)\n",
    "    print(f\"Saved: {ticker}_master.csv\")"
   ]
  },
  {
   "cell_type": "markdown",
   "metadata": {},
   "source": [
    "# mapping.json (KPIs, MOATs and Risk mapping)"
   ]
  },
  {
   "cell_type": "code",
   "execution_count": null,
   "metadata": {},
   "outputs": [],
   "source": [
    "import json\n",
    "\n",
    "# Define the new values to replace all existing values\n",
    "new_swot_values = [\"Strengths\", \"Weaknesses\", \"Opportunities\", \"Threats\"]\n",
    "new_porter_values = [\n",
    "    \"High Threat of New Entrants\",\n",
    "    \"Low Threat of New Entrants\",\n",
    "    \"High Bargaining Power of Buyers\",\n",
    "    \"Low Bargaining Power of Buyers\",\n",
    "    \"High Bargaining Power of Suppliers\",\n",
    "    \"Low Bargaining Power of Suppliers\",\n",
    "    \"High Threat of Substitute Products or Services\",\n",
    "    \"Low Threat of Substitute Products or Services\",\n",
    "    \"High Intensity of Rivalry\",\n",
    "    \"Low Intensity of Rivalry\"\n",
    "]\n",
    "\n",
    "# Read the JSON file\n",
    "with open('mapping.json', 'r') as file:\n",
    "    data = json.load(file)\n",
    "\n",
    "# Update all SWOT and Porter values\n",
    "for category, details in data.items():\n",
    "\n",
    "    # Here you need to replace the values from 'risks' and 'moats' and 'kpis'\n",
    "    if 'kpis' in details:\n",
    "        for moat in details['kpis']:\n",
    "            mapping = moat.get('mapping', {})\n",
    "            \n",
    "            # Replace SWOT values\n",
    "            if 'swot' in mapping:\n",
    "                mapping['swot'] = new_swot_values\n",
    "            if 'SWOT' in mapping:\n",
    "                mapping['SWOT'] = new_swot_values\n",
    "            \n",
    "            # Replace Porter values\n",
    "            if 'porters' in mapping:\n",
    "                mapping['porters'] = new_porter_values\n",
    "            if 'Porter' in mapping:\n",
    "                mapping['Porter'] = new_porter_values\n",
    "\n",
    "# Overwrite the original file\n",
    "with open('mapping.json', 'w') as file:\n",
    "    json.dump(data, file, indent=2)\n",
    "\n",
    "print(\"JSON file has been updated with new SWOT and Porter values\")\n",
    "\n",
    "# Verify the changes\n",
    "print(\"\\nVerifying changes:\")\n",
    "for category, details in data.items():\n",
    "    if 'risks' in details:\n",
    "        for moat in details['risks']:\n",
    "            mapping = moat.get('mapping', {})\n",
    "            swot = mapping.get('swot') or mapping.get('SWOT')\n",
    "            porter = mapping.get('porters') or mapping.get('Porter')\n",
    "            if swot or porter:\n",
    "                print(f\"Category: {category}\")\n",
    "                print(f\"SWOT: {swot}\")\n",
    "                print(f\"Porter: {porter}\")\n",
    "                print(\"-\" * 50)"
   ]
  },
  {
   "cell_type": "code",
   "execution_count": null,
   "metadata": {},
   "outputs": [
    {
     "data": {
      "text/html": [
       "<div>\n",
       "<style scoped>\n",
       "    .dataframe tbody tr th:only-of-type {\n",
       "        vertical-align: middle;\n",
       "    }\n",
       "\n",
       "    .dataframe tbody tr th {\n",
       "        vertical-align: top;\n",
       "    }\n",
       "\n",
       "    .dataframe thead th {\n",
       "        text-align: right;\n",
       "    }\n",
       "</style>\n",
       "<table border=\"1\" class=\"dataframe\">\n",
       "  <thead>\n",
       "    <tr style=\"text-align: right;\">\n",
       "      <th></th>\n",
       "      <th>ticker</th>\n",
       "      <th>filing_date</th>\n",
       "      <th>section</th>\n",
       "      <th>content</th>\n",
       "      <th>Security</th>\n",
       "      <th>GICS Sector</th>\n",
       "      <th>GICS Sub-Industry</th>\n",
       "      <th>Headquarters Location</th>\n",
       "      <th>Date added</th>\n",
       "      <th>CIK</th>\n",
       "      <th>Founded</th>\n",
       "      <th>question_number</th>\n",
       "      <th>question_formatted</th>\n",
       "      <th>question_prompt</th>\n",
       "      <th>gemini_response</th>\n",
       "    </tr>\n",
       "  </thead>\n",
       "  <tbody>\n",
       "    <tr>\n",
       "      <th>0</th>\n",
       "      <td>ACN</td>\n",
       "      <td>2024-08-31</td>\n",
       "      <td>Item 1. Business</td>\n",
       "      <td>Business 2 Business Overview Accenture is a le...</td>\n",
       "      <td>Accenture</td>\n",
       "      <td>Information Technology</td>\n",
       "      <td>IT Consulting &amp; Other Services</td>\n",
       "      <td>Dublin, Ireland</td>\n",
       "      <td>2011-07-06</td>\n",
       "      <td>1467373</td>\n",
       "      <td>1989</td>\n",
       "      <td>9.0</td>\n",
       "      <td>What is Accenture's approach to intellectual p...</td>\n",
       "      <td>As financial analysts, we are extracting finan...</td>\n",
       "      <td>```json\\n{\\n \"question\": \"What is Accenture's ...</td>\n",
       "    </tr>\n",
       "    <tr>\n",
       "      <th>1</th>\n",
       "      <td>ACN</td>\n",
       "      <td>2024-08-31</td>\n",
       "      <td>Item 1. Business</td>\n",
       "      <td>Business 2 Business Overview Accenture is a le...</td>\n",
       "      <td>Accenture</td>\n",
       "      <td>Information Technology</td>\n",
       "      <td>IT Consulting &amp; Other Services</td>\n",
       "      <td>Dublin, Ireland</td>\n",
       "      <td>2011-07-06</td>\n",
       "      <td>1467373</td>\n",
       "      <td>1989</td>\n",
       "      <td>10.0</td>\n",
       "      <td>Does Accenture disclose any key performance in...</td>\n",
       "      <td>As financial analysts, we are extracting finan...</td>\n",
       "      <td>```json\\n{\\n \"question\": \"Does Accenture discl...</td>\n",
       "    </tr>\n",
       "    <tr>\n",
       "      <th>2</th>\n",
       "      <td>ACN</td>\n",
       "      <td>2024-08-31</td>\n",
       "      <td>Item 1A. Risk Factors</td>\n",
       "      <td>Risk Factors 18 Risk Factors In addition to th...</td>\n",
       "      <td>Accenture</td>\n",
       "      <td>Information Technology</td>\n",
       "      <td>IT Consulting &amp; Other Services</td>\n",
       "      <td>Dublin, Ireland</td>\n",
       "      <td>2011-07-06</td>\n",
       "      <td>1467373</td>\n",
       "      <td>1989</td>\n",
       "      <td>1.0</td>\n",
       "      <td>What specific risks does Accenture identify re...</td>\n",
       "      <td>As financial analysts, we are extracting finan...</td>\n",
       "      <td>```json\\n{\\n \"question\": \"What specific risks ...</td>\n",
       "    </tr>\n",
       "    <tr>\n",
       "      <th>3</th>\n",
       "      <td>ACN</td>\n",
       "      <td>2024-08-31</td>\n",
       "      <td>Item 1A. Risk Factors</td>\n",
       "      <td>Risk Factors 18 Risk Factors In addition to th...</td>\n",
       "      <td>Accenture</td>\n",
       "      <td>Information Technology</td>\n",
       "      <td>IT Consulting &amp; Other Services</td>\n",
       "      <td>Dublin, Ireland</td>\n",
       "      <td>2011-07-06</td>\n",
       "      <td>1467373</td>\n",
       "      <td>1989</td>\n",
       "      <td>2.0</td>\n",
       "      <td>What risks does Accenture highlight regarding ...</td>\n",
       "      <td>As financial analysts, we are extracting finan...</td>\n",
       "      <td>```json\\n{\\n \"question\": \"What risks does Acce...</td>\n",
       "    </tr>\n",
       "    <tr>\n",
       "      <th>4</th>\n",
       "      <td>ACN</td>\n",
       "      <td>2024-08-31</td>\n",
       "      <td>Item 1A. Risk Factors</td>\n",
       "      <td>Risk Factors 18 Risk Factors In addition to th...</td>\n",
       "      <td>Accenture</td>\n",
       "      <td>Information Technology</td>\n",
       "      <td>IT Consulting &amp; Other Services</td>\n",
       "      <td>Dublin, Ireland</td>\n",
       "      <td>2011-07-06</td>\n",
       "      <td>1467373</td>\n",
       "      <td>1989</td>\n",
       "      <td>3.0</td>\n",
       "      <td>Does Accenture discuss risks associated with c...</td>\n",
       "      <td>As financial analysts, we are extracting finan...</td>\n",
       "      <td>```json\\n{\\n \"question\": \"Does Accenture discu...</td>\n",
       "    </tr>\n",
       "    <tr>\n",
       "      <th>5</th>\n",
       "      <td>ACN</td>\n",
       "      <td>2024-08-31</td>\n",
       "      <td>Item 1A. Risk Factors</td>\n",
       "      <td>Risk Factors 18 Risk Factors In addition to th...</td>\n",
       "      <td>Accenture</td>\n",
       "      <td>Information Technology</td>\n",
       "      <td>IT Consulting &amp; Other Services</td>\n",
       "      <td>Dublin, Ireland</td>\n",
       "      <td>2011-07-06</td>\n",
       "      <td>1467373</td>\n",
       "      <td>1989</td>\n",
       "      <td>4.0</td>\n",
       "      <td>What cybersecurity, data privacy, or intellect...</td>\n",
       "      <td>As financial analysts, we are extracting finan...</td>\n",
       "      <td>```json\\n{\\n \"question\": \"What cybersecurity, ...</td>\n",
       "    </tr>\n",
       "    <tr>\n",
       "      <th>6</th>\n",
       "      <td>ACN</td>\n",
       "      <td>2024-08-31</td>\n",
       "      <td>Item 1A. Risk Factors</td>\n",
       "      <td>Risk Factors 18 Risk Factors In addition to th...</td>\n",
       "      <td>Accenture</td>\n",
       "      <td>Information Technology</td>\n",
       "      <td>IT Consulting &amp; Other Services</td>\n",
       "      <td>Dublin, Ireland</td>\n",
       "      <td>2011-07-06</td>\n",
       "      <td>1467373</td>\n",
       "      <td>1989</td>\n",
       "      <td>5.0</td>\n",
       "      <td>What risks does Accenture identify related to ...</td>\n",
       "      <td>As financial analysts, we are extracting finan...</td>\n",
       "      <td>```json\\n{\\n \"question\": \"What risks does Acce...</td>\n",
       "    </tr>\n",
       "    <tr>\n",
       "      <th>7</th>\n",
       "      <td>ACN</td>\n",
       "      <td>2024-08-31</td>\n",
       "      <td>Item 1A. Risk Factors</td>\n",
       "      <td>Risk Factors 18 Risk Factors In addition to th...</td>\n",
       "      <td>Accenture</td>\n",
       "      <td>Information Technology</td>\n",
       "      <td>IT Consulting &amp; Other Services</td>\n",
       "      <td>Dublin, Ireland</td>\n",
       "      <td>2011-07-06</td>\n",
       "      <td>1467373</td>\n",
       "      <td>1989</td>\n",
       "      <td>6.0</td>\n",
       "      <td>What risks does Accenture face from intense co...</td>\n",
       "      <td>As financial analysts, we are extracting finan...</td>\n",
       "      <td>```json\\n{\\n \"question\": \"What risks does Acce...</td>\n",
       "    </tr>\n",
       "  </tbody>\n",
       "</table>\n",
       "</div>"
      ],
      "text/plain": [
       "  ticker filing_date                section  \\\n",
       "0    ACN  2024-08-31       Item 1. Business   \n",
       "1    ACN  2024-08-31       Item 1. Business   \n",
       "2    ACN  2024-08-31  Item 1A. Risk Factors   \n",
       "3    ACN  2024-08-31  Item 1A. Risk Factors   \n",
       "4    ACN  2024-08-31  Item 1A. Risk Factors   \n",
       "5    ACN  2024-08-31  Item 1A. Risk Factors   \n",
       "6    ACN  2024-08-31  Item 1A. Risk Factors   \n",
       "7    ACN  2024-08-31  Item 1A. Risk Factors   \n",
       "\n",
       "                                             content   Security  \\\n",
       "0  Business 2 Business Overview Accenture is a le...  Accenture   \n",
       "1  Business 2 Business Overview Accenture is a le...  Accenture   \n",
       "2  Risk Factors 18 Risk Factors In addition to th...  Accenture   \n",
       "3  Risk Factors 18 Risk Factors In addition to th...  Accenture   \n",
       "4  Risk Factors 18 Risk Factors In addition to th...  Accenture   \n",
       "5  Risk Factors 18 Risk Factors In addition to th...  Accenture   \n",
       "6  Risk Factors 18 Risk Factors In addition to th...  Accenture   \n",
       "7  Risk Factors 18 Risk Factors In addition to th...  Accenture   \n",
       "\n",
       "              GICS Sector               GICS Sub-Industry  \\\n",
       "0  Information Technology  IT Consulting & Other Services   \n",
       "1  Information Technology  IT Consulting & Other Services   \n",
       "2  Information Technology  IT Consulting & Other Services   \n",
       "3  Information Technology  IT Consulting & Other Services   \n",
       "4  Information Technology  IT Consulting & Other Services   \n",
       "5  Information Technology  IT Consulting & Other Services   \n",
       "6  Information Technology  IT Consulting & Other Services   \n",
       "7  Information Technology  IT Consulting & Other Services   \n",
       "\n",
       "  Headquarters Location  Date added      CIK  Founded  question_number  \\\n",
       "0       Dublin, Ireland  2011-07-06  1467373     1989              9.0   \n",
       "1       Dublin, Ireland  2011-07-06  1467373     1989             10.0   \n",
       "2       Dublin, Ireland  2011-07-06  1467373     1989              1.0   \n",
       "3       Dublin, Ireland  2011-07-06  1467373     1989              2.0   \n",
       "4       Dublin, Ireland  2011-07-06  1467373     1989              3.0   \n",
       "5       Dublin, Ireland  2011-07-06  1467373     1989              4.0   \n",
       "6       Dublin, Ireland  2011-07-06  1467373     1989              5.0   \n",
       "7       Dublin, Ireland  2011-07-06  1467373     1989              6.0   \n",
       "\n",
       "                                  question_formatted  \\\n",
       "0  What is Accenture's approach to intellectual p...   \n",
       "1  Does Accenture disclose any key performance in...   \n",
       "2  What specific risks does Accenture identify re...   \n",
       "3  What risks does Accenture highlight regarding ...   \n",
       "4  Does Accenture discuss risks associated with c...   \n",
       "5  What cybersecurity, data privacy, or intellect...   \n",
       "6  What risks does Accenture identify related to ...   \n",
       "7  What risks does Accenture face from intense co...   \n",
       "\n",
       "                                     question_prompt  \\\n",
       "0  As financial analysts, we are extracting finan...   \n",
       "1  As financial analysts, we are extracting finan...   \n",
       "2  As financial analysts, we are extracting finan...   \n",
       "3  As financial analysts, we are extracting finan...   \n",
       "4  As financial analysts, we are extracting finan...   \n",
       "5  As financial analysts, we are extracting finan...   \n",
       "6  As financial analysts, we are extracting finan...   \n",
       "7  As financial analysts, we are extracting finan...   \n",
       "\n",
       "                                     gemini_response  \n",
       "0  ```json\\n{\\n \"question\": \"What is Accenture's ...  \n",
       "1  ```json\\n{\\n \"question\": \"Does Accenture discl...  \n",
       "2  ```json\\n{\\n \"question\": \"What specific risks ...  \n",
       "3  ```json\\n{\\n \"question\": \"What risks does Acce...  \n",
       "4  ```json\\n{\\n \"question\": \"Does Accenture discu...  \n",
       "5  ```json\\n{\\n \"question\": \"What cybersecurity, ...  \n",
       "6  ```json\\n{\\n \"question\": \"What risks does Acce...  \n",
       "7  ```json\\n{\\n \"question\": \"What risks does Acce...  "
      ]
     },
     "execution_count": 17,
     "metadata": {},
     "output_type": "execute_result"
    }
   ],
   "source": [
    "import pandas as pd\n",
    "f = pd.read_csv('/Users/maseehfaizan/Desktop/Maseeh/Projects/Hybrid_Pricer/data/ticker_csvs/ACN_df_with_gemini_responses.csv')\n",
    "f.head(20)"
   ]
  }
 ],
 "metadata": {
  "kernelspec": {
   "display_name": "Python 3",
   "language": "python",
   "name": "python3"
  },
  "language_info": {
   "codemirror_mode": {
    "name": "ipython",
    "version": 3
   },
   "file_extension": ".py",
   "mimetype": "text/x-python",
   "name": "python",
   "nbconvert_exporter": "python",
   "pygments_lexer": "ipython3",
   "version": "3.13.2"
  }
 },
 "nbformat": 4,
 "nbformat_minor": 2
}
