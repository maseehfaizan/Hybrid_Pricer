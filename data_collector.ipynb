{
 "cells": [
  {
   "cell_type": "markdown",
   "metadata": {},
   "source": [
    "# Reddit Data Scraper"
   ]
  },
  {
   "cell_type": "markdown",
   "metadata": {},
   "source": [
    "### Import Libraries"
   ]
  },
  {
   "cell_type": "code",
   "execution_count": 2,
   "metadata": {},
   "outputs": [],
   "source": [
    "import os\n",
    "import time\n",
    "import datetime\n",
    "import pandas as pd\n",
    "import praw\n",
    "from dotenv import load_dotenv\n",
    "import requests\n",
    "from bs4 import BeautifulSoup\n",
    "from io import StringIO\n",
    "from datetime import datetime\n",
    "from typing import List, Dict, Any, Optional, Tuple\n",
    "import numpy as np\n",
    "from tqdm import tqdm\n",
    "import json"
   ]
  },
  {
   "cell_type": "markdown",
   "metadata": {},
   "source": [
    "## First let's get S&P 500 Tickers from Wikipedia. This way we have a scope for our analysis"
   ]
  },
  {
   "cell_type": "code",
   "execution_count": 10,
   "metadata": {},
   "outputs": [
    {
     "data": {
      "text/html": [
       "<div>\n",
       "<style scoped>\n",
       "    .dataframe tbody tr th:only-of-type {\n",
       "        vertical-align: middle;\n",
       "    }\n",
       "\n",
       "    .dataframe tbody tr th {\n",
       "        vertical-align: top;\n",
       "    }\n",
       "\n",
       "    .dataframe thead th {\n",
       "        text-align: right;\n",
       "    }\n",
       "</style>\n",
       "<table border=\"1\" class=\"dataframe\">\n",
       "  <thead>\n",
       "    <tr style=\"text-align: right;\">\n",
       "      <th></th>\n",
       "      <th>Symbol</th>\n",
       "      <th>Security</th>\n",
       "      <th>GICS Sector</th>\n",
       "      <th>GICS Sub-Industry</th>\n",
       "      <th>Headquarters Location</th>\n",
       "      <th>Date added</th>\n",
       "      <th>CIK</th>\n",
       "      <th>Founded</th>\n",
       "    </tr>\n",
       "  </thead>\n",
       "  <tbody>\n",
       "    <tr>\n",
       "      <th>0</th>\n",
       "      <td>MMM</td>\n",
       "      <td>3M</td>\n",
       "      <td>Industrials</td>\n",
       "      <td>Industrial Conglomerates</td>\n",
       "      <td>Saint Paul, Minnesota</td>\n",
       "      <td>1957-03-04</td>\n",
       "      <td>66740</td>\n",
       "      <td>1902</td>\n",
       "    </tr>\n",
       "    <tr>\n",
       "      <th>1</th>\n",
       "      <td>AOS</td>\n",
       "      <td>A. O. Smith</td>\n",
       "      <td>Industrials</td>\n",
       "      <td>Building Products</td>\n",
       "      <td>Milwaukee, Wisconsin</td>\n",
       "      <td>2017-07-26</td>\n",
       "      <td>91142</td>\n",
       "      <td>1916</td>\n",
       "    </tr>\n",
       "    <tr>\n",
       "      <th>2</th>\n",
       "      <td>ABT</td>\n",
       "      <td>Abbott Laboratories</td>\n",
       "      <td>Health Care</td>\n",
       "      <td>Health Care Equipment</td>\n",
       "      <td>North Chicago, Illinois</td>\n",
       "      <td>1957-03-04</td>\n",
       "      <td>1800</td>\n",
       "      <td>1888</td>\n",
       "    </tr>\n",
       "    <tr>\n",
       "      <th>3</th>\n",
       "      <td>ABBV</td>\n",
       "      <td>AbbVie</td>\n",
       "      <td>Health Care</td>\n",
       "      <td>Biotechnology</td>\n",
       "      <td>North Chicago, Illinois</td>\n",
       "      <td>2012-12-31</td>\n",
       "      <td>1551152</td>\n",
       "      <td>2013 (1888)</td>\n",
       "    </tr>\n",
       "    <tr>\n",
       "      <th>4</th>\n",
       "      <td>ACN</td>\n",
       "      <td>Accenture</td>\n",
       "      <td>Information Technology</td>\n",
       "      <td>IT Consulting &amp; Other Services</td>\n",
       "      <td>Dublin, Ireland</td>\n",
       "      <td>2011-07-06</td>\n",
       "      <td>1467373</td>\n",
       "      <td>1989</td>\n",
       "    </tr>\n",
       "  </tbody>\n",
       "</table>\n",
       "</div>"
      ],
      "text/plain": [
       "  Symbol             Security             GICS Sector  \\\n",
       "0    MMM                   3M             Industrials   \n",
       "1    AOS          A. O. Smith             Industrials   \n",
       "2    ABT  Abbott Laboratories             Health Care   \n",
       "3   ABBV               AbbVie             Health Care   \n",
       "4    ACN            Accenture  Information Technology   \n",
       "\n",
       "                GICS Sub-Industry    Headquarters Location  Date added  \\\n",
       "0        Industrial Conglomerates    Saint Paul, Minnesota  1957-03-04   \n",
       "1               Building Products     Milwaukee, Wisconsin  2017-07-26   \n",
       "2           Health Care Equipment  North Chicago, Illinois  1957-03-04   \n",
       "3                   Biotechnology  North Chicago, Illinois  2012-12-31   \n",
       "4  IT Consulting & Other Services          Dublin, Ireland  2011-07-06   \n",
       "\n",
       "       CIK      Founded  \n",
       "0    66740         1902  \n",
       "1    91142         1916  \n",
       "2     1800         1888  \n",
       "3  1551152  2013 (1888)  \n",
       "4  1467373         1989  "
      ]
     },
     "execution_count": 10,
     "metadata": {},
     "output_type": "execute_result"
    }
   ],
   "source": [
    "url = \"https://en.wikipedia.org/wiki/List_of_S%26P_500_companies\"\n",
    "response = requests.get(url)\n",
    "soup = BeautifulSoup(response.text)\n",
    "table = soup.find(\"table\", {\"class\": \"wikitable\"})\n",
    "sp500 = pd.read_html(StringIO(str(table)))[0]\n",
    "sp500.head()"
   ]
  },
  {
   "cell_type": "markdown",
   "metadata": {},
   "source": [
    "# Reddit API Client Initialization\n",
    "First let's load the api environment to collect all the necessary data. \n",
    "The idea is to download posts and comments from different subreddits. \n",
    "- Subreddits: 'wallstreetbets', 'stocks', 'investing', 'StockMarket'\n",
    "- General Search & Stock Specific search"
   ]
  },
  {
   "cell_type": "code",
   "execution_count": 3,
   "metadata": {},
   "outputs": [],
   "source": [
    "# First we will load the environment\n",
    "load_dotenv('api.env')\n",
    "# Import the ids and secret keys from our environment\n",
    "id = os.getenv('REDDIT_CLIENT_ID')\n",
    "secret = os.getenv('REDDIT_CLIENT_SECRET')\n",
    "agent = os.getenv('REDDIT_USER_AGENT', 'StockDataScraper v1.0')\n",
    "reddit = praw.Reddit(client_id = id,\n",
    "                     client_secret = secret,\n",
    "                     user_agent = agent)"
   ]
  },
  {
   "cell_type": "markdown",
   "metadata": {},
   "source": [
    "## Let's now collect all of the data\n",
    "#### Data Collection Function"
   ]
  },
  {
   "cell_type": "code",
   "execution_count": null,
   "metadata": {},
   "outputs": [],
   "source": [
    "def get_reddit_data(reddit, subreddit_name, data_type='posts', search_term=None, \n",
    "                   time_filter='year', limit=200, comment_limit=30):\n",
    "    \"\"\"This is the general function that I will loop through in order to download\n",
    "      all the Reddit Data\"\"\"\n",
    "    \n",
    "    subreddit = reddit.subreddit(subreddit_name)\n",
    "    posts_list = []\n",
    "    comments_list = []\n",
    "    \n",
    "    try:\n",
    "        # Determine which data to fetch\n",
    "        if data_type == 'search' and search_term:\n",
    "            print(f\"Searching for '{search_term}' in r/{subreddit_name}...\")\n",
    "            posts = subreddit.search(search_term, limit=limit)\n",
    "            search_keywords = [search_term.lower(), f\"${search_term.lower()}\"]\n",
    "        else:\n",
    "            print(f\"Getting top posts from r/{subreddit_name} for {time_filter}...\")\n",
    "            posts = subreddit.top(time_filter=time_filter, limit=limit)\n",
    "            search_keywords = None\n",
    "            \n",
    "        # Process posts\n",
    "        for i, post in enumerate(posts):\n",
    "            # Filter search results if needed\n",
    "            if search_keywords and not any(kw in (post.title + \" \" + post.selftext).lower() for kw in search_keywords):\n",
    "                continue\n",
    "                \n",
    "            # Extract post data\n",
    "            post_data = {\n",
    "                'post_id': post.id,\n",
    "                'title': post.title,\n",
    "                'selftext': post.selftext,\n",
    "                'score': post.score,\n",
    "                'upvote_ratio': post.upvote_ratio,\n",
    "                'created_utc': datetime.datetime.fromtimestamp(post.created_utc),\n",
    "                'num_comments': post.num_comments,\n",
    "                'author': str(post.author),\n",
    "                'permalink': post.permalink,\n",
    "                'url': post.url,\n",
    "                'is_self': post.is_self,\n",
    "                'flair': post.link_flair_text,\n",
    "                'subreddit': subreddit_name,\n",
    "                'category': 'stock_specific' if data_type == 'search' else 'general'\n",
    "            }\n",
    "            \n",
    "            # Add search term if applicable\n",
    "            if search_term:\n",
    "                post_data['search_term'] = search_term\n",
    "                \n",
    "            posts_list.append(post_data)\n",
    "            \n",
    "            # Get comments\n",
    "            try:\n",
    "                post.comments.replace_more(limit=0)\n",
    "                for comment in post.comments.list()[:comment_limit]:\n",
    "                    # Filter comments for search terms if needed\n",
    "                    if search_keywords and not any(kw in comment.body.lower() for kw in search_keywords):\n",
    "                        continue\n",
    "                        \n",
    "                    comment_data = {\n",
    "                        'comment_id': comment.id,\n",
    "                        'post_id': post.id,\n",
    "                        'parent_id': comment.parent_id,\n",
    "                        'body': comment.body,\n",
    "                        'score': comment.score,\n",
    "                        'created_utc': datetime.datetime.fromtimestamp(comment.created_utc),\n",
    "                        'author': str(comment.author),\n",
    "                        'subreddit': subreddit_name,\n",
    "                        'category': 'stock_specific' if data_type == 'search' else 'general'\n",
    "                    }\n",
    "                    \n",
    "                    # Add search\n",
    "                    if search_term:\n",
    "                        comment_data['search_term'] = search_term\n",
    "                        \n",
    "                    comments_list.append(comment_data)\n",
    "            except Exception as e:\n",
    "                print(f\"Error processing comments for post {post.id}: {e}\")\n",
    "                \n",
    "            # Be nice to Reddit's servers\n",
    "                \n",
    "        print(f\"Found {len(posts_list)} posts and {len(comments_list)} comments\")\n",
    "        return pd.DataFrame(posts_list) if posts_list else pd.DataFrame(), \\\n",
    "               pd.DataFrame(comments_list) if comments_list else pd.DataFrame()\n",
    "               \n",
    "    except Exception as e:\n",
    "        print(f\"Error fetching data from r/{subreddit_name}: {e}\")\n",
    "        return pd.DataFrame(), pd.DataFrame()"
   ]
  },
  {
   "cell_type": "markdown",
   "metadata": {},
   "source": [
    "#### Here we are downloading General top Posts from the following subreddits. These posts are not stock specific rather, they are the top posts a user might see when looking at the following subreddits for the past year"
   ]
  },
  {
   "cell_type": "code",
   "execution_count": 29,
   "metadata": {},
   "outputs": [
    {
     "name": "stdout",
     "output_type": "stream",
     "text": [
      "Getting top posts from r/Economics for year...\n",
      "Found 200 posts and 5935 comments\n",
      "Getting top posts from r/finance for year...\n",
      "Found 100 posts and 1870 comments\n",
      "Getting top posts from r/wallstreetbets for year...\n",
      "Found 200 posts and 6000 comments\n",
      "Getting top posts from r/stocks for year...\n",
      "Found 200 posts and 5985 comments\n",
      "Getting top posts from r/investing for year...\n",
      "Found 200 posts and 5876 comments\n"
     ]
    }
   ],
   "source": [
    "# Get S&P 500 tickers\n",
    "sp500_tickers = sp500['Symbol'].tolist()\n",
    "# List of finance subreddits\n",
    "subreddits = ['Economics','finance','wallstreetbets', 'stocks', 'investing']\n",
    "# Initialize aggregated DataFrames\n",
    "\n",
    "all_posts = pd.DataFrame()\n",
    "all_comments = pd.DataFrame()\n",
    "\n",
    "# Loop through all the subreddits defined above and collect the posts and comments data\n",
    "for subreddit in subreddits:\n",
    "    posts_df, comments_df = get_reddit_data(reddit, subreddit,data_type='posts',\n",
    "                                            limit=200,comment_limit=30)\n",
    "    all_posts = pd.concat([all_posts, posts_df],ignore_index=True)\n",
    "    all_comments = pd.concat([all_comments, comments_df],ignore_index=True)\n",
    "    time.sleep(1)"
   ]
  },
  {
   "cell_type": "code",
   "execution_count": 31,
   "metadata": {},
   "outputs": [],
   "source": [
    "# Safe all posts and comments into our file\n",
    "all_posts.to_csv('./data/reddit/general_posts.csv',index = False)\n",
    "all_comments.to_csv('./data/reddit/general_comments.csv',index = False)"
   ]
  },
  {
   "cell_type": "markdown",
   "metadata": {},
   "source": [
    "#### Let's now use the same function to collect stock specific reddit data\n",
    "\n",
    "In here we don't want to scrape data for all of the subreddits but only keeping the few popular ones. However, we will download for all the stocks in the S&P500\n",
    "I will chose r/stocks and r/wallstreetbets due to it's recent popularity"
   ]
  },
  {
   "cell_type": "code",
   "execution_count": 32,
   "metadata": {},
   "outputs": [
    {
     "name": "stdout",
     "output_type": "stream",
     "text": [
      "Searching for 'MMM' in r/stocks...\n",
      "Found 37 posts and 48 comments\n",
      "Searching for 'AOS' in r/stocks...\n",
      "Found 14 posts and 1 comments\n",
      "Searching for 'ABT' in r/stocks...\n",
      "Found 39 posts and 17 comments\n",
      "Searching for 'ABBV' in r/stocks...\n",
      "Found 43 posts and 91 comments\n",
      "Searching for 'ACN' in r/stocks...\n",
      "Found 46 posts and 3 comments\n",
      "Searching for 'ADBE' in r/stocks...\n",
      "Found 46 posts and 56 comments\n",
      "Searching for 'AMD' in r/stocks...\n",
      "Found 50 posts and 400 comments\n",
      "Searching for 'AES' in r/stocks...\n",
      "Found 23 posts and 6 comments\n",
      "Searching for 'AFL' in r/stocks...\n",
      "Found 18 posts and 5 comments\n",
      "Searching for 'A' in r/stocks...\n",
      "Found 50 posts and 919 comments\n",
      "Searching for 'APD' in r/stocks...\n",
      "Found 21 posts and 16 comments\n",
      "Searching for 'ABNB' in r/stocks...\n",
      "Found 40 posts and 74 comments\n",
      "Searching for 'AKAM' in r/stocks...\n",
      "Found 39 posts and 15 comments\n",
      "Searching for 'ALB' in r/stocks...\n",
      "Found 32 posts and 43 comments\n",
      "Searching for 'ARE' in r/stocks...\n",
      "Found 50 posts and 278 comments\n",
      "Searching for 'ALGN' in r/stocks...\n",
      "Found 43 posts and 9 comments\n",
      "Searching for 'ALLE' in r/stocks...\n",
      "Found 11 posts and 7 comments\n",
      "Searching for 'LNT' in r/stocks...\n",
      "Found 6 posts and 0 comments\n",
      "Searching for 'ALL' in r/stocks...\n",
      "Found 50 posts and 326 comments\n",
      "Searching for 'GOOGL' in r/stocks...\n",
      "Found 49 posts and 347 comments\n",
      "Searching for 'GOOG' in r/stocks...\n",
      "Found 46 posts and 345 comments\n",
      "Searching for 'MO' in r/stocks...\n",
      "Found 46 posts and 336 comments\n",
      "Searching for 'AMZN' in r/stocks...\n",
      "Found 48 posts and 111 comments\n",
      "Searching for 'AMCR' in r/stocks...\n",
      "Found 2 posts and 0 comments\n",
      "Searching for 'AEE' in r/stocks...\n",
      "Found 2 posts and 0 comments\n",
      "Searching for 'AEP' in r/stocks...\n",
      "Found 17 posts and 5 comments\n",
      "Searching for 'AXP' in r/stocks...\n",
      "Found 28 posts and 51 comments\n",
      "Searching for 'AIG' in r/stocks...\n",
      "Found 44 posts and 24 comments\n",
      "Searching for 'AMT' in r/stocks...\n",
      "Found 34 posts and 22 comments\n",
      "Searching for 'AWK' in r/stocks...\n",
      "Found 37 posts and 10 comments\n",
      "Searching for 'AMP' in r/stocks...\n",
      "Found 50 posts and 18 comments\n",
      "Searching for 'AME' in r/stocks...\n",
      "Found 25 posts and 10 comments\n",
      "Searching for 'AMGN' in r/stocks...\n",
      "Found 44 posts and 12 comments\n",
      "Searching for 'APH' in r/stocks...\n",
      "Found 21 posts and 25 comments\n",
      "Searching for 'ADI' in r/stocks...\n",
      "Found 48 posts and 18 comments\n",
      "Searching for 'ANSS' in r/stocks...\n",
      "Found 7 posts and 1 comments\n",
      "Searching for 'AON' in r/stocks...\n",
      "Found 19 posts and 8 comments\n",
      "Searching for 'APA' in r/stocks...\n",
      "Found 41 posts and 4 comments\n",
      "Searching for 'APO' in r/stocks...\n",
      "Found 32 posts and 9 comments\n",
      "Searching for 'AAPL' in r/stocks...\n",
      "Found 48 posts and 126 comments\n",
      "Searching for 'AMAT' in r/stocks...\n",
      "Found 40 posts and 70 comments\n",
      "Searching for 'APTV' in r/stocks...\n",
      "Found 20 posts and 0 comments\n",
      "Searching for 'ACGL' in r/stocks...\n",
      "Found 1 posts and 0 comments\n",
      "Searching for 'ADM' in r/stocks...\n",
      "Found 40 posts and 23 comments\n",
      "Searching for 'ANET' in r/stocks...\n",
      "Found 40 posts and 10 comments\n",
      "Searching for 'AJG' in r/stocks...\n",
      "Found 5 posts and 0 comments\n",
      "Searching for 'AIZ' in r/stocks...\n",
      "Found 2 posts and 0 comments\n",
      "Searching for 'T' in r/stocks...\n",
      "Found 50 posts and 966 comments\n",
      "Searching for 'ATO' in r/stocks...\n",
      "Found 29 posts and 30 comments\n",
      "Searching for 'ADSK' in r/stocks...\n",
      "Found 39 posts and 12 comments\n",
      "Searching for 'ADP' in r/stocks...\n",
      "Found 44 posts and 29 comments\n",
      "Searching for 'AZO' in r/stocks...\n",
      "Found 41 posts and 8 comments\n",
      "Searching for 'AVB' in r/stocks...\n",
      "Found 7 posts and 0 comments\n",
      "Searching for 'AVY' in r/stocks...\n",
      "Found 13 posts and 0 comments\n",
      "Searching for 'AXON' in r/stocks...\n",
      "Found 32 posts and 47 comments\n",
      "Searching for 'BKR' in r/stocks...\n",
      "Found 11 posts and 1 comments\n",
      "Searching for 'BALL' in r/stocks...\n",
      "Found 28 posts and 15 comments\n",
      "Searching for 'BAC' in r/stocks...\n",
      "Found 49 posts and 154 comments\n",
      "Searching for 'BAX' in r/stocks...\n",
      "Found 21 posts and 8 comments\n",
      "Searching for 'BDX' in r/stocks...\n",
      "Found 23 posts and 3 comments\n",
      "Searching for 'BRK.B' in r/stocks...\n",
      "Found 37 posts and 50 comments\n",
      "Searching for 'BBY' in r/stocks...\n",
      "Found 47 posts and 49 comments\n",
      "Searching for 'TECH' in r/stocks...\n",
      "Found 50 posts and 147 comments\n",
      "Searching for 'BIIB' in r/stocks...\n",
      "Found 48 posts and 18 comments\n",
      "Searching for 'BLK' in r/stocks...\n",
      "Found 39 posts and 23 comments\n",
      "Searching for 'BX' in r/stocks...\n",
      "Found 35 posts and 42 comments\n",
      "Searching for 'BK' in r/stocks...\n",
      "Found 38 posts and 10 comments\n",
      "Searching for 'BA' in r/stocks...\n",
      "Found 45 posts and 270 comments\n",
      "Searching for 'BKNG' in r/stocks...\n",
      "Found 43 posts and 6 comments\n",
      "Searching for 'BSX' in r/stocks...\n",
      "Found 29 posts and 1 comments\n",
      "Searching for 'BMY' in r/stocks...\n",
      "Found 43 posts and 47 comments\n",
      "Searching for 'AVGO' in r/stocks...\n",
      "Found 33 posts and 64 comments\n",
      "Searching for 'BR' in r/stocks...\n",
      "Found 42 posts and 31 comments\n",
      "Searching for 'BRO' in r/stocks...\n",
      "Found 6 posts and 7 comments\n",
      "Searching for 'BF.B' in r/stocks...\n",
      "Found 7 posts and 1 comments\n",
      "Searching for 'BLDR' in r/stocks...\n",
      "Found 29 posts and 7 comments\n",
      "Searching for 'BG' in r/stocks...\n",
      "Found 43 posts and 0 comments\n",
      "Searching for 'BXP' in r/stocks...\n",
      "Found 7 posts and 0 comments\n",
      "Searching for 'CHRW' in r/stocks...\n",
      "Found 6 posts and 0 comments\n",
      "Searching for 'CDNS' in r/stocks...\n",
      "Found 19 posts and 1 comments\n",
      "Searching for 'CZR' in r/stocks...\n",
      "Found 38 posts and 50 comments\n",
      "Searching for 'CPT' in r/stocks...\n",
      "Found 6 posts and 0 comments\n",
      "Searching for 'CPB' in r/stocks...\n",
      "Found 44 posts and 5 comments\n",
      "Searching for 'COF' in r/stocks...\n",
      "Found 40 posts and 15 comments\n",
      "Searching for 'CAH' in r/stocks...\n",
      "Found 28 posts and 1 comments\n",
      "Searching for 'KMX' in r/stocks...\n",
      "Found 50 posts and 1 comments\n",
      "Searching for 'CCL' in r/stocks...\n",
      "Found 46 posts and 149 comments\n",
      "Searching for 'CARR' in r/stocks...\n",
      "Found 33 posts and 32 comments\n",
      "Searching for 'CAT' in r/stocks...\n",
      "Found 29 posts and 94 comments\n",
      "Searching for 'CBOE' in r/stocks...\n",
      "Found 45 posts and 7 comments\n",
      "Searching for 'CBRE' in r/stocks...\n",
      "Found 9 posts and 4 comments\n",
      "Searching for 'CDW' in r/stocks...\n",
      "Found 9 posts and 1 comments\n",
      "Searching for 'COR' in r/stocks...\n",
      "Found 23 posts and 10 comments\n",
      "Searching for 'CNC' in r/stocks...\n",
      "Found 31 posts and 5 comments\n",
      "Searching for 'CNP' in r/stocks...\n",
      "Found 7 posts and 1 comments\n",
      "Searching for 'CF' in r/stocks...\n",
      "Found 44 posts and 25 comments\n",
      "Searching for 'CRL' in r/stocks...\n",
      "Found 17 posts and 5 comments\n",
      "Searching for 'SCHW' in r/stocks...\n",
      "Found 37 posts and 50 comments\n",
      "Searching for 'CHTR' in r/stocks...\n",
      "Found 20 posts and 1 comments\n",
      "Searching for 'CVX' in r/stocks...\n",
      "Found 45 posts and 48 comments\n",
      "Searching for 'CMG' in r/stocks...\n",
      "Found 41 posts and 48 comments\n",
      "Searching for 'CB' in r/stocks...\n",
      "Found 37 posts and 13 comments\n",
      "Searching for 'CHD' in r/stocks...\n",
      "Found 23 posts and 2 comments\n",
      "Searching for 'CI' in r/stocks...\n",
      "Found 44 posts and 53 comments\n",
      "Searching for 'CINF' in r/stocks...\n",
      "Found 7 posts and 3 comments\n",
      "Searching for 'CTAS' in r/stocks...\n",
      "Found 26 posts and 0 comments\n",
      "Searching for 'CSCO' in r/stocks...\n",
      "Found 43 posts and 63 comments\n",
      "Searching for 'C' in r/stocks...\n",
      "Found 50 posts and 755 comments\n",
      "Searching for 'CFG' in r/stocks...\n",
      "Found 20 posts and 0 comments\n",
      "Searching for 'CLX' in r/stocks...\n",
      "Found 40 posts and 7 comments\n",
      "Searching for 'CME' in r/stocks...\n",
      "Found 44 posts and 5 comments\n",
      "Searching for 'CMS' in r/stocks...\n",
      "Found 48 posts and 2 comments\n",
      "Searching for 'KO' in r/stocks...\n",
      "Found 43 posts and 164 comments\n",
      "Searching for 'CTSH' in r/stocks...\n",
      "Found 11 posts and 0 comments\n",
      "Searching for 'CL' in r/stocks...\n",
      "Found 45 posts and 59 comments\n",
      "Searching for 'CMCSA' in r/stocks...\n",
      "Found 45 posts and 5 comments\n",
      "Searching for 'CAG' in r/stocks...\n",
      "Found 47 posts and 3 comments\n",
      "Searching for 'COP' in r/stocks...\n",
      "Found 41 posts and 23 comments\n",
      "Searching for 'ED' in r/stocks...\n",
      "Found 49 posts and 367 comments\n",
      "Searching for 'STZ' in r/stocks...\n",
      "Found 41 posts and 22 comments\n",
      "Searching for 'CEG' in r/stocks...\n",
      "Found 10 posts and 7 comments\n",
      "Searching for 'COO' in r/stocks...\n",
      "Found 47 posts and 13 comments\n",
      "Searching for 'CPRT' in r/stocks...\n",
      "Found 21 posts and 2 comments\n",
      "Searching for 'GLW' in r/stocks...\n",
      "Found 37 posts and 12 comments\n",
      "Searching for 'CPAY' in r/stocks...\n",
      "Found 0 posts and 0 comments\n",
      "Searching for 'CTVA' in r/stocks...\n",
      "Found 4 posts and 0 comments\n",
      "Searching for 'CSGP' in r/stocks...\n",
      "Found 7 posts and 1 comments\n",
      "Searching for 'COST' in r/stocks...\n",
      "Found 50 posts and 126 comments\n",
      "Searching for 'CTRA' in r/stocks...\n",
      "Found 6 posts and 1 comments\n",
      "Searching for 'CRWD' in r/stocks...\n",
      "Found 38 posts and 86 comments\n",
      "Searching for 'CCI' in r/stocks...\n",
      "Found 37 posts and 8 comments\n",
      "Searching for 'CSX' in r/stocks...\n",
      "Found 47 posts and 16 comments\n",
      "Searching for 'CMI' in r/stocks...\n",
      "Found 29 posts and 10 comments\n",
      "Searching for 'CVS' in r/stocks...\n",
      "Found 49 posts and 279 comments\n",
      "Searching for 'DHR' in r/stocks...\n",
      "Found 39 posts and 20 comments\n",
      "Searching for 'DRI' in r/stocks...\n",
      "Found 19 posts and 7 comments\n",
      "Searching for 'DVA' in r/stocks...\n",
      "Found 9 posts and 3 comments\n",
      "Searching for 'DAY' in r/stocks...\n",
      "Found 50 posts and 169 comments\n",
      "Searching for 'DECK' in r/stocks...\n",
      "Found 38 posts and 10 comments\n",
      "Searching for 'DE' in r/stocks...\n",
      "Found 49 posts and 337 comments\n",
      "Searching for 'DELL' in r/stocks...\n",
      "Found 40 posts and 151 comments\n",
      "Searching for 'DAL' in r/stocks...\n",
      "Found 46 posts and 103 comments\n",
      "Searching for 'DVN' in r/stocks...\n",
      "Found 32 posts and 3 comments\n",
      "Searching for 'DXCM' in r/stocks...\n",
      "Found 30 posts and 12 comments\n",
      "Searching for 'FANG' in r/stocks...\n",
      "Found 38 posts and 41 comments\n",
      "Searching for 'DLR' in r/stocks...\n",
      "Found 27 posts and 12 comments\n",
      "Searching for 'DFS' in r/stocks...\n",
      "Found 47 posts and 67 comments\n",
      "Searching for 'DG' in r/stocks...\n",
      "Found 45 posts and 31 comments\n",
      "Searching for 'DLTR' in r/stocks...\n",
      "Found 43 posts and 8 comments\n",
      "Searching for 'D' in r/stocks...\n",
      "Found 50 posts and 881 comments\n",
      "Searching for 'DPZ' in r/stocks...\n",
      "Found 45 posts and 31 comments\n",
      "Searching for 'DASH' in r/stocks...\n",
      "Found 46 posts and 161 comments\n",
      "Searching for 'DOV' in r/stocks...\n",
      "Found 14 posts and 5 comments\n",
      "Searching for 'DOW' in r/stocks...\n",
      "Found 49 posts and 117 comments\n",
      "Searching for 'DHI' in r/stocks...\n",
      "Found 43 posts and 10 comments\n",
      "Searching for 'DTE' in r/stocks...\n",
      "Found 23 posts and 7 comments\n",
      "Searching for 'DUK' in r/stocks...\n",
      "Found 39 posts and 6 comments\n",
      "Searching for 'DD' in r/stocks...\n",
      "Found 47 posts and 149 comments\n",
      "Searching for 'EMN' in r/stocks...\n",
      "Found 8 posts and 2 comments\n",
      "Searching for 'ETN' in r/stocks...\n",
      "Found 46 posts and 49 comments\n",
      "Searching for 'EBAY' in r/stocks...\n",
      "Found 48 posts and 155 comments\n",
      "Searching for 'ECL' in r/stocks...\n",
      "Found 15 posts and 1 comments\n",
      "Searching for 'EIX' in r/stocks...\n",
      "Found 7 posts and 0 comments\n",
      "Searching for 'EW' in r/stocks...\n",
      "Found 41 posts and 61 comments\n",
      "Searching for 'EA' in r/stocks...\n",
      "Found 50 posts and 486 comments\n",
      "Searching for 'ELV' in r/stocks...\n",
      "Found 5 posts and 0 comments\n",
      "Searching for 'EMR' in r/stocks...\n",
      "Found 30 posts and 2 comments\n",
      "Searching for 'ENPH' in r/stocks...\n",
      "Found 42 posts and 195 comments\n",
      "Searching for 'ETR' in r/stocks...\n",
      "Found 16 posts and 0 comments\n",
      "Searching for 'EOG' in r/stocks...\n",
      "Found 24 posts and 1 comments\n",
      "Searching for 'EPAM' in r/stocks...\n",
      "Found 14 posts and 4 comments\n",
      "Searching for 'EQT' in r/stocks...\n",
      "Found 14 posts and 3 comments\n",
      "Searching for 'EFX' in r/stocks...\n",
      "Found 32 posts and 5 comments\n",
      "Searching for 'EQIX' in r/stocks...\n",
      "Found 27 posts and 5 comments\n",
      "Searching for 'EQR' in r/stocks...\n",
      "Found 8 posts and 0 comments\n",
      "Searching for 'ERIE' in r/stocks...\n",
      "Found 0 posts and 0 comments\n",
      "Searching for 'ESS' in r/stocks...\n",
      "Found 15 posts and 28 comments\n",
      "Searching for 'EL' in r/stocks...\n",
      "Found 49 posts and 245 comments\n",
      "Searching for 'EG' in r/stocks...\n",
      "Found 49 posts and 58 comments\n",
      "Searching for 'EVRG' in r/stocks...\n",
      "Found 4 posts and 0 comments\n",
      "Searching for 'ES' in r/stocks...\n",
      "Found 50 posts and 443 comments\n",
      "Searching for 'EXC' in r/stocks...\n",
      "Found 22 posts and 9 comments\n",
      "Searching for 'EXE' in r/stocks...\n",
      "Found 2 posts and 0 comments\n",
      "Searching for 'EXPE' in r/stocks...\n",
      "Found 30 posts and 27 comments\n",
      "Searching for 'EXPD' in r/stocks...\n",
      "Found 15 posts and 0 comments\n",
      "Searching for 'EXR' in r/stocks...\n",
      "Found 9 posts and 0 comments\n",
      "Searching for 'XOM' in r/stocks...\n",
      "Found 34 posts and 118 comments\n",
      "Searching for 'FFIV' in r/stocks...\n",
      "Found 16 posts and 3 comments\n",
      "Searching for 'FDS' in r/stocks...\n",
      "Found 35 posts and 0 comments\n",
      "Searching for 'FICO' in r/stocks...\n",
      "Found 43 posts and 31 comments\n",
      "Searching for 'FAST' in r/stocks...\n",
      "Found 49 posts and 45 comments\n",
      "Searching for 'FRT' in r/stocks...\n",
      "Found 18 posts and 2 comments\n",
      "Searching for 'FDX' in r/stocks...\n",
      "Found 45 posts and 21 comments\n",
      "Searching for 'FIS' in r/stocks...\n",
      "Found 27 posts and 6 comments\n",
      "Searching for 'FITB' in r/stocks...\n",
      "Found 23 posts and 3 comments\n",
      "Searching for 'FSLR' in r/stocks...\n",
      "Found 41 posts and 75 comments\n",
      "Searching for 'FE' in r/stocks...\n",
      "Found 40 posts and 71 comments\n",
      "Searching for 'FI' in r/stocks...\n",
      "Found 50 posts and 359 comments\n",
      "Searching for 'F' in r/stocks...\n",
      "Found 50 posts and 706 comments\n",
      "Searching for 'FTNT' in r/stocks...\n",
      "Found 40 posts and 7 comments\n",
      "Searching for 'FTV' in r/stocks...\n",
      "Found 12 posts and 0 comments\n",
      "Searching for 'FOXA' in r/stocks...\n",
      "Found 40 posts and 9 comments\n",
      "Searching for 'FOX' in r/stocks...\n",
      "Found 39 posts and 46 comments\n",
      "Searching for 'BEN' in r/stocks...\n",
      "Found 40 posts and 15 comments\n",
      "Searching for 'FCX' in r/stocks...\n",
      "Found 38 posts and 29 comments\n",
      "Searching for 'GRMN' in r/stocks...\n",
      "Found 35 posts and 4 comments\n",
      "Searching for 'IT' in r/stocks...\n",
      "Found 50 posts and 542 comments\n",
      "Searching for 'GE' in r/stocks...\n",
      "Found 48 posts and 369 comments\n",
      "Searching for 'GEHC' in r/stocks...\n",
      "Found 4 posts and 4 comments\n",
      "Searching for 'GEV' in r/stocks...\n",
      "Found 6 posts and 11 comments\n",
      "Searching for 'GEN' in r/stocks...\n",
      "Found 47 posts and 60 comments\n",
      "Searching for 'GNRC' in r/stocks...\n",
      "Found 41 posts and 1 comments\n",
      "Searching for 'GD' in r/stocks...\n",
      "Found 38 posts and 17 comments\n",
      "Searching for 'GIS' in r/stocks...\n",
      "Found 49 posts and 12 comments\n",
      "Searching for 'GM' in r/stocks...\n",
      "Found 50 posts and 150 comments\n",
      "Searching for 'GPC' in r/stocks...\n",
      "Found 16 posts and 1 comments\n",
      "Searching for 'GILD' in r/stocks...\n",
      "Found 47 posts and 88 comments\n",
      "Searching for 'GPN' in r/stocks...\n",
      "Found 43 posts and 12 comments\n",
      "Searching for 'GL' in r/stocks...\n",
      "Found 33 posts and 43 comments\n",
      "Searching for 'GDDY' in r/stocks...\n",
      "Found 18 posts and 0 comments\n",
      "Searching for 'GS' in r/stocks...\n",
      "Found 49 posts and 97 comments\n",
      "Searching for 'HAL' in r/stocks...\n",
      "Found 44 posts and 38 comments\n",
      "Searching for 'HIG' in r/stocks...\n",
      "Found 8 posts and 6 comments\n",
      "Searching for 'HAS' in r/stocks...\n",
      "Found 50 posts and 117 comments\n",
      "Searching for 'HCA' in r/stocks...\n",
      "Found 38 posts and 21 comments\n",
      "Searching for 'DOC' in r/stocks...\n",
      "Found 46 posts and 25 comments\n",
      "Searching for 'HSIC' in r/stocks...\n",
      "Found 10 posts and 0 comments\n",
      "Searching for 'HSY' in r/stocks...\n",
      "Found 33 posts and 16 comments\n",
      "Searching for 'HES' in r/stocks...\n",
      "Found 20 posts and 30 comments\n",
      "Searching for 'HPE' in r/stocks...\n",
      "Found 43 posts and 22 comments\n",
      "Searching for 'HLT' in r/stocks...\n",
      "Found 40 posts and 9 comments\n",
      "Searching for 'HOLX' in r/stocks...\n",
      "Found 8 posts and 0 comments\n",
      "Searching for 'HD' in r/stocks...\n",
      "Found 43 posts and 127 comments\n",
      "Searching for 'HON' in r/stocks...\n",
      "Found 37 posts and 32 comments\n",
      "Searching for 'HRL' in r/stocks...\n",
      "Found 36 posts and 1 comments\n",
      "Searching for 'HST' in r/stocks...\n",
      "Found 9 posts and 1 comments\n",
      "Searching for 'HWM' in r/stocks...\n",
      "Found 11 posts and 2 comments\n",
      "Searching for 'HPQ' in r/stocks...\n",
      "Found 40 posts and 27 comments\n",
      "Searching for 'HUBB' in r/stocks...\n",
      "Found 4 posts and 1 comments\n",
      "Searching for 'HUM' in r/stocks...\n",
      "Found 48 posts and 4 comments\n",
      "Searching for 'HBAN' in r/stocks...\n",
      "Found 9 posts and 0 comments\n",
      "Searching for 'HII' in r/stocks...\n",
      "Found 21 posts and 8 comments\n",
      "Searching for 'IBM' in r/stocks...\n",
      "Found 40 posts and 189 comments\n",
      "Searching for 'IEX' in r/stocks...\n",
      "Found 17 posts and 1 comments\n",
      "Searching for 'IDXX' in r/stocks...\n",
      "Found 16 posts and 0 comments\n",
      "Searching for 'ITW' in r/stocks...\n",
      "Found 8 posts and 2 comments\n",
      "Searching for 'INCY' in r/stocks...\n",
      "Found 23 posts and 1 comments\n",
      "Searching for 'IR' in r/stocks...\n",
      "Found 48 posts and 201 comments\n",
      "Searching for 'PODD' in r/stocks...\n",
      "Found 6 posts and 0 comments\n",
      "Searching for 'INTC' in r/stocks...\n",
      "Found 46 posts and 128 comments\n",
      "Searching for 'ICE' in r/stocks...\n",
      "Found 42 posts and 122 comments\n",
      "Searching for 'IFF' in r/stocks...\n",
      "Found 11 posts and 2 comments\n",
      "Searching for 'IP' in r/stocks...\n",
      "Found 48 posts and 102 comments\n",
      "Searching for 'IPG' in r/stocks...\n",
      "Found 15 posts and 4 comments\n",
      "Searching for 'INTU' in r/stocks...\n",
      "Found 43 posts and 20 comments\n",
      "Searching for 'ISRG' in r/stocks...\n",
      "Found 32 posts and 17 comments\n",
      "Searching for 'IVZ' in r/stocks...\n",
      "Found 13 posts and 1 comments\n",
      "Searching for 'INVH' in r/stocks...\n",
      "Found 8 posts and 1 comments\n",
      "Searching for 'IQV' in r/stocks...\n",
      "Found 10 posts and 0 comments\n",
      "Searching for 'IRM' in r/stocks...\n",
      "Found 22 posts and 12 comments\n",
      "Searching for 'JBHT' in r/stocks...\n",
      "Found 36 posts and 1 comments\n",
      "Searching for 'JBL' in r/stocks...\n",
      "Found 28 posts and 4 comments\n",
      "Searching for 'JKHY' in r/stocks...\n",
      "Found 4 posts and 0 comments\n",
      "Searching for 'J' in r/stocks...\n",
      "Found 50 posts and 251 comments\n",
      "Searching for 'JNJ' in r/stocks...\n",
      "Found 45 posts and 164 comments\n",
      "Searching for 'JCI' in r/stocks...\n",
      "Found 26 posts and 0 comments\n",
      "Searching for 'JPM' in r/stocks...\n",
      "Found 41 posts and 118 comments\n",
      "Searching for 'JNPR' in r/stocks...\n",
      "Found 35 posts and 4 comments\n",
      "Searching for 'K' in r/stocks...\n",
      "Found 50 posts and 629 comments\n",
      "Searching for 'KVUE' in r/stocks...\n",
      "Found 6 posts and 7 comments\n",
      "Searching for 'KDP' in r/stocks...\n",
      "Found 13 posts and 4 comments\n",
      "Searching for 'KEY' in r/stocks...\n",
      "Found 50 posts and 21 comments\n",
      "Searching for 'KEYS' in r/stocks...\n",
      "Found 2 posts and 5 comments\n",
      "Searching for 'KMB' in r/stocks...\n",
      "Found 37 posts and 5 comments\n",
      "Searching for 'KIM' in r/stocks...\n",
      "Found 44 posts and 17 comments\n",
      "Searching for 'KMI' in r/stocks...\n",
      "Found 34 posts and 27 comments\n",
      "Searching for 'KKR' in r/stocks...\n",
      "Found 39 posts and 9 comments\n",
      "Searching for 'KLAC' in r/stocks...\n",
      "Found 24 posts and 5 comments\n",
      "Searching for 'KHC' in r/stocks...\n",
      "Found 39 posts and 35 comments\n",
      "Searching for 'KR' in r/stocks...\n",
      "Found 44 posts and 62 comments\n",
      "Searching for 'LHX' in r/stocks...\n",
      "Found 32 posts and 8 comments\n",
      "Searching for 'LH' in r/stocks...\n",
      "Found 47 posts and 7 comments\n",
      "Searching for 'LRCX' in r/stocks...\n",
      "Found 32 posts and 23 comments\n",
      "Searching for 'LW' in r/stocks...\n",
      "Found 42 posts and 6 comments\n",
      "Searching for 'LVS' in r/stocks...\n",
      "Found 47 posts and 15 comments\n",
      "Searching for 'LDOS' in r/stocks...\n",
      "Found 17 posts and 3 comments\n",
      "Searching for 'LEN' in r/stocks...\n",
      "Found 47 posts and 37 comments\n",
      "Searching for 'LII' in r/stocks...\n",
      "Found 11 posts and 0 comments\n",
      "Searching for 'LLY' in r/stocks...\n",
      "Found 50 posts and 236 comments\n",
      "Searching for 'LIN' in r/stocks...\n",
      "Found 23 posts and 37 comments\n",
      "Searching for 'LYV' in r/stocks...\n",
      "Found 39 posts and 17 comments\n",
      "Searching for 'LKQ' in r/stocks...\n",
      "Found 13 posts and 4 comments\n",
      "Searching for 'LMT' in r/stocks...\n",
      "Found 38 posts and 74 comments\n",
      "Searching for 'L' in r/stocks...\n",
      "Found 50 posts and 723 comments\n",
      "Searching for 'LOW' in r/stocks...\n",
      "Found 50 posts and 171 comments\n",
      "Searching for 'LULU' in r/stocks...\n",
      "Found 36 posts and 140 comments\n",
      "Searching for 'LYB' in r/stocks...\n",
      "Found 15 posts and 4 comments\n",
      "Searching for 'MTB' in r/stocks...\n",
      "Found 21 posts and 4 comments\n",
      "Searching for 'MPC' in r/stocks...\n",
      "Found 45 posts and 23 comments\n",
      "Searching for 'MKTX' in r/stocks...\n",
      "Found 11 posts and 0 comments\n",
      "Searching for 'MAR' in r/stocks...\n",
      "Found 50 posts and 182 comments\n",
      "Searching for 'MMC' in r/stocks...\n",
      "Found 9 posts and 0 comments\n",
      "Searching for 'MLM' in r/stocks...\n",
      "Found 21 posts and 8 comments\n",
      "Searching for 'MAS' in r/stocks...\n",
      "Found 37 posts and 13 comments\n",
      "Searching for 'MA' in r/stocks...\n",
      "Found 49 posts and 347 comments\n",
      "Searching for 'MTCH' in r/stocks...\n",
      "Found 50 posts and 61 comments\n",
      "Searching for 'MKC' in r/stocks...\n",
      "Found 44 posts and 2 comments\n",
      "Searching for 'MCD' in r/stocks...\n",
      "Found 44 posts and 172 comments\n",
      "Searching for 'MCK' in r/stocks...\n",
      "Found 25 posts and 6 comments\n",
      "Searching for 'MDT' in r/stocks...\n",
      "Found 42 posts and 7 comments\n",
      "Searching for 'MRK' in r/stocks...\n",
      "Found 38 posts and 21 comments\n",
      "Searching for 'META' in r/stocks...\n",
      "Found 50 posts and 233 comments\n",
      "Searching for 'MET' in r/stocks...\n",
      "Found 50 posts and 44 comments\n",
      "Searching for 'MTD' in r/stocks...\n",
      "Found 48 posts and 2 comments\n",
      "Searching for 'MGM' in r/stocks...\n",
      "Found 48 posts and 185 comments\n",
      "Searching for 'MCHP' in r/stocks...\n",
      "Found 24 posts and 5 comments\n",
      "Searching for 'MU' in r/stocks...\n",
      "Found 44 posts and 199 comments\n",
      "Searching for 'MSFT' in r/stocks...\n",
      "Found 48 posts and 159 comments\n",
      "Searching for 'MAA' in r/stocks...\n",
      "Found 10 posts and 0 comments\n",
      "Searching for 'MRNA' in r/stocks...\n",
      "Found 38 posts and 100 comments\n",
      "Searching for 'MHK' in r/stocks...\n",
      "Found 2 posts and 0 comments\n",
      "Searching for 'MOH' in r/stocks...\n",
      "Found 18 posts and 2 comments\n",
      "Searching for 'TAP' in r/stocks...\n",
      "Found 49 posts and 21 comments\n",
      "Searching for 'MDLZ' in r/stocks...\n",
      "Found 29 posts and 4 comments\n",
      "Searching for 'MPWR' in r/stocks...\n",
      "Found 5 posts and 0 comments\n",
      "Searching for 'MNST' in r/stocks...\n",
      "Found 33 posts and 5 comments\n",
      "Searching for 'MCO' in r/stocks...\n",
      "Found 13 posts and 1 comments\n",
      "Searching for 'MS' in r/stocks...\n",
      "Found 50 posts and 78 comments\n",
      "Searching for 'MOS' in r/stocks...\n",
      "Found 46 posts and 64 comments\n",
      "Searching for 'MSI' in r/stocks...\n",
      "Found 25 posts and 2 comments\n",
      "Searching for 'MSCI' in r/stocks...\n",
      "Found 47 posts and 25 comments\n",
      "Searching for 'NDAQ' in r/stocks...\n",
      "Found 35 posts and 11 comments\n",
      "Searching for 'NTAP' in r/stocks...\n",
      "Found 41 posts and 1 comments\n",
      "Searching for 'NFLX' in r/stocks...\n",
      "Found 46 posts and 82 comments\n",
      "Searching for 'NEM' in r/stocks...\n",
      "Found 39 posts and 15 comments\n",
      "Searching for 'NWSA' in r/stocks...\n",
      "Found 17 posts and 2 comments\n",
      "Searching for 'NWS' in r/stocks...\n",
      "Found 4 posts and 0 comments\n",
      "Searching for 'NEE' in r/stocks...\n",
      "Found 34 posts and 69 comments\n",
      "Searching for 'NKE' in r/stocks...\n",
      "Found 42 posts and 46 comments\n",
      "Searching for 'NI' in r/stocks...\n",
      "Found 48 posts and 100 comments\n",
      "Searching for 'NDSN' in r/stocks...\n",
      "Found 13 posts and 0 comments\n",
      "Searching for 'NSC' in r/stocks...\n",
      "Found 22 posts and 2 comments\n",
      "Searching for 'NTRS' in r/stocks...\n",
      "Found 13 posts and 0 comments\n",
      "Searching for 'NOC' in r/stocks...\n",
      "Found 32 posts and 11 comments\n",
      "Searching for 'NCLH' in r/stocks...\n",
      "Found 46 posts and 69 comments\n",
      "Searching for 'NRG' in r/stocks...\n",
      "Found 29 posts and 4 comments\n",
      "Searching for 'NUE' in r/stocks...\n",
      "Found 46 posts and 15 comments\n",
      "Searching for 'NVDA' in r/stocks...\n",
      "Found 49 posts and 189 comments\n",
      "Searching for 'NVR' in r/stocks...\n",
      "Found 13 posts and 4 comments\n",
      "Searching for 'NXPI' in r/stocks...\n",
      "Found 44 posts and 15 comments\n",
      "Searching for 'ORLY' in r/stocks...\n",
      "Found 0 posts and 0 comments\n",
      "Searching for 'OXY' in r/stocks...\n",
      "Found 38 posts and 98 comments\n",
      "Searching for 'ODFL' in r/stocks...\n",
      "Found 40 posts and 14 comments\n",
      "Searching for 'OMC' in r/stocks...\n",
      "Found 14 posts and 2 comments\n",
      "Searching for 'ON' in r/stocks...\n",
      "Found 50 posts and 618 comments\n",
      "Searching for 'OKE' in r/stocks...\n",
      "Found 26 posts and 15 comments\n",
      "Searching for 'ORCL' in r/stocks...\n",
      "Found 42 posts and 20 comments\n",
      "Searching for 'OTIS' in r/stocks...\n",
      "Found 13 posts and 1 comments\n",
      "Searching for 'PCAR' in r/stocks...\n",
      "Found 12 posts and 2 comments\n",
      "Searching for 'PKG' in r/stocks...\n",
      "Found 12 posts and 1 comments\n",
      "Searching for 'PLTR' in r/stocks...\n",
      "Found 44 posts and 206 comments\n",
      "Searching for 'PANW' in r/stocks...\n",
      "Found 32 posts and 35 comments\n",
      "Searching for 'PARA' in r/stocks...\n",
      "Found 40 posts and 135 comments\n",
      "Searching for 'PH' in r/stocks...\n",
      "Found 46 posts and 42 comments\n",
      "Searching for 'PAYX' in r/stocks...\n",
      "Found 35 posts and 1 comments\n",
      "Searching for 'PAYC' in r/stocks...\n",
      "Found 30 posts and 8 comments\n",
      "Searching for 'PYPL' in r/stocks...\n",
      "Found 42 posts and 121 comments\n",
      "Searching for 'PNR' in r/stocks...\n",
      "Found 5 posts and 0 comments\n",
      "Searching for 'PEP' in r/stocks...\n",
      "Found 42 posts and 127 comments\n",
      "Searching for 'PFE' in r/stocks...\n",
      "Found 42 posts and 125 comments\n",
      "Searching for 'PCG' in r/stocks...\n",
      "Found 45 posts and 17 comments\n",
      "Searching for 'PM' in r/stocks...\n",
      "Found 43 posts and 38 comments\n",
      "Searching for 'PSX' in r/stocks...\n",
      "Found 29 posts and 4 comments\n",
      "Searching for 'PNW' in r/stocks...\n",
      "Found 7 posts and 2 comments\n",
      "Searching for 'PNC' in r/stocks...\n",
      "Found 48 posts and 5 comments\n",
      "Searching for 'POOL' in r/stocks...\n",
      "Found 48 posts and 83 comments\n",
      "Searching for 'PPG' in r/stocks...\n",
      "Found 24 posts and 5 comments\n",
      "Searching for 'PPL' in r/stocks...\n",
      "Found 31 posts and 24 comments\n",
      "Searching for 'PFG' in r/stocks...\n",
      "Found 9 posts and 0 comments\n",
      "Searching for 'PG' in r/stocks...\n",
      "Found 44 posts and 58 comments\n",
      "Searching for 'PGR' in r/stocks...\n",
      "Found 46 posts and 13 comments\n",
      "Searching for 'PLD' in r/stocks...\n",
      "Found 31 posts and 5 comments\n",
      "Searching for 'PRU' in r/stocks...\n",
      "Found 16 posts and 6 comments\n",
      "Searching for 'PEG' in r/stocks...\n",
      "Found 48 posts and 34 comments\n",
      "Searching for 'PTC' in r/stocks...\n",
      "Found 3 posts and 0 comments\n",
      "Searching for 'PSA' in r/stocks...\n",
      "Found 49 posts and 13 comments\n",
      "Searching for 'PHM' in r/stocks...\n",
      "Found 36 posts and 2 comments\n",
      "Searching for 'PWR' in r/stocks...\n",
      "Found 13 posts and 0 comments\n",
      "Searching for 'QCOM' in r/stocks...\n",
      "Found 39 posts and 78 comments\n",
      "Searching for 'DGX' in r/stocks...\n",
      "Found 30 posts and 3 comments\n",
      "Searching for 'RL' in r/stocks...\n",
      "Found 49 posts and 44 comments\n",
      "Searching for 'RJF' in r/stocks...\n",
      "Found 6 posts and 0 comments\n",
      "Searching for 'RTX' in r/stocks...\n",
      "Found 43 posts and 173 comments\n",
      "Searching for 'O' in r/stocks...\n",
      "Found 50 posts and 894 comments\n",
      "Searching for 'REG' in r/stocks...\n",
      "Found 39 posts and 16 comments\n",
      "Searching for 'REGN' in r/stocks...\n",
      "Found 44 posts and 10 comments\n",
      "Searching for 'RF' in r/stocks...\n",
      "Found 48 posts and 17 comments\n",
      "Searching for 'RSG' in r/stocks...\n",
      "Found 14 posts and 4 comments\n",
      "Searching for 'RMD' in r/stocks...\n",
      "Found 14 posts and 16 comments\n",
      "Searching for 'RVTY' in r/stocks...\n",
      "Found 0 posts and 0 comments\n",
      "Searching for 'ROK' in r/stocks...\n",
      "Found 18 posts and 4 comments\n",
      "Searching for 'ROL' in r/stocks...\n",
      "Found 10 posts and 3 comments\n",
      "Searching for 'ROP' in r/stocks...\n",
      "Found 15 posts and 6 comments\n",
      "Searching for 'ROST' in r/stocks...\n",
      "Found 32 posts and 1 comments\n",
      "Searching for 'RCL' in r/stocks...\n",
      "Found 49 posts and 76 comments\n",
      "Searching for 'SPGI' in r/stocks...\n",
      "Found 18 posts and 4 comments\n",
      "Searching for 'CRM' in r/stocks...\n",
      "Found 41 posts and 119 comments\n",
      "Searching for 'SBAC' in r/stocks...\n",
      "Found 6 posts and 0 comments\n",
      "Searching for 'SLB' in r/stocks...\n",
      "Found 41 posts and 3 comments\n",
      "Searching for 'STX' in r/stocks...\n",
      "Found 45 posts and 14 comments\n",
      "Searching for 'SRE' in r/stocks...\n",
      "Found 16 posts and 0 comments\n",
      "Searching for 'NOW' in r/stocks...\n",
      "Found 50 posts and 189 comments\n",
      "Searching for 'SHW' in r/stocks...\n",
      "Found 41 posts and 13 comments\n",
      "Searching for 'SPG' in r/stocks...\n",
      "Found 40 posts and 56 comments\n",
      "Searching for 'SWKS' in r/stocks...\n",
      "Found 46 posts and 29 comments\n",
      "Searching for 'SJM' in r/stocks...\n",
      "Found 24 posts and 4 comments\n",
      "Searching for 'SW' in r/stocks...\n",
      "Found 45 posts and 22 comments\n",
      "Searching for 'SNA' in r/stocks...\n",
      "Found 15 posts and 6 comments\n",
      "Searching for 'SOLV' in r/stocks...\n",
      "Found 38 posts and 8 comments\n",
      "Searching for 'SO' in r/stocks...\n",
      "Found 50 posts and 351 comments\n",
      "Searching for 'LUV' in r/stocks...\n",
      "Found 47 posts and 101 comments\n",
      "Searching for 'SWK' in r/stocks...\n",
      "Found 34 posts and 5 comments\n",
      "Searching for 'SBUX' in r/stocks...\n",
      "Found 48 posts and 105 comments\n",
      "Searching for 'STT' in r/stocks...\n",
      "Found 25 posts and 0 comments\n",
      "Searching for 'STLD' in r/stocks...\n",
      "Found 26 posts and 3 comments\n",
      "Searching for 'STE' in r/stocks...\n",
      "Found 7 posts and 3 comments\n",
      "Searching for 'SYK' in r/stocks...\n",
      "Found 21 posts and 4 comments\n",
      "Searching for 'SMCI' in r/stocks...\n",
      "Found 29 posts and 105 comments\n",
      "Searching for 'SYF' in r/stocks...\n",
      "Found 43 posts and 13 comments\n",
      "Searching for 'SNPS' in r/stocks...\n",
      "Found 28 posts and 8 comments\n",
      "Searching for 'SYY' in r/stocks...\n",
      "Found 47 posts and 15 comments\n",
      "Searching for 'TMUS' in r/stocks...\n",
      "Found 47 posts and 35 comments\n",
      "Searching for 'TROW' in r/stocks...\n",
      "Found 26 posts and 10 comments\n",
      "Searching for 'TTWO' in r/stocks...\n",
      "Found 46 posts and 132 comments\n",
      "Searching for 'TPR' in r/stocks...\n",
      "Found 23 posts and 1 comments\n",
      "Searching for 'TRGP' in r/stocks...\n",
      "Found 7 posts and 0 comments\n",
      "Searching for 'TGT' in r/stocks...\n",
      "Found 42 posts and 118 comments\n",
      "Searching for 'TEL' in r/stocks...\n",
      "Found 23 posts and 11 comments\n",
      "Searching for 'TDY' in r/stocks...\n",
      "Found 11 posts and 4 comments\n",
      "Searching for 'TER' in r/stocks...\n",
      "Found 43 posts and 149 comments\n",
      "Searching for 'TSLA' in r/stocks...\n",
      "Found 46 posts and 105 comments\n",
      "Searching for 'TXN' in r/stocks...\n",
      "Found 33 posts and 20 comments\n",
      "Searching for 'TPL' in r/stocks...\n",
      "Found 20 posts and 20 comments\n",
      "Searching for 'TXT' in r/stocks...\n",
      "Found 30 posts and 3 comments\n",
      "Searching for 'TMO' in r/stocks...\n",
      "Found 25 posts and 26 comments\n",
      "Searching for 'TJX' in r/stocks...\n",
      "Found 41 posts and 14 comments\n",
      "Searching for 'TKO' in r/stocks...\n",
      "Found 15 posts and 29 comments\n",
      "Searching for 'TSCO' in r/stocks...\n",
      "Found 26 posts and 3 comments\n",
      "Searching for 'TT' in r/stocks...\n",
      "Found 46 posts and 111 comments\n",
      "Searching for 'TDG' in r/stocks...\n",
      "Found 15 posts and 2 comments\n",
      "Searching for 'TRV' in r/stocks...\n",
      "Found 29 posts and 3 comments\n",
      "Searching for 'TRMB' in r/stocks...\n",
      "Found 5 posts and 0 comments\n",
      "Searching for 'TFC' in r/stocks...\n",
      "Found 14 posts and 2 comments\n",
      "Searching for 'TYL' in r/stocks...\n",
      "Found 8 posts and 4 comments\n",
      "Searching for 'TSN' in r/stocks...\n",
      "Found 42 posts and 9 comments\n",
      "Searching for 'USB' in r/stocks...\n",
      "Found 38 posts and 10 comments\n",
      "Searching for 'UBER' in r/stocks...\n",
      "Found 50 posts and 320 comments\n",
      "Searching for 'UDR' in r/stocks...\n",
      "Found 2 posts and 0 comments\n",
      "Searching for 'ULTA' in r/stocks...\n",
      "Found 40 posts and 83 comments\n",
      "Searching for 'UNP' in r/stocks...\n",
      "Found 44 posts and 34 comments\n",
      "Searching for 'UAL' in r/stocks...\n",
      "Found 48 posts and 103 comments\n",
      "Searching for 'UPS' in r/stocks...\n",
      "Found 7 posts and 10 comments\n",
      "Searching for 'URI' in r/stocks...\n",
      "Found 37 posts and 12 comments\n",
      "Searching for 'UNH' in r/stocks...\n",
      "Found 32 posts and 53 comments\n",
      "Searching for 'UHS' in r/stocks...\n",
      "Found 0 posts and 0 comments\n",
      "Searching for 'VLO' in r/stocks...\n",
      "Found 31 posts and 13 comments\n",
      "Searching for 'VTR' in r/stocks...\n",
      "Found 16 posts and 2 comments\n",
      "Searching for 'VLTO' in r/stocks...\n",
      "Found 0 posts and 0 comments\n",
      "Searching for 'VRSN' in r/stocks...\n",
      "Found 10 posts and 5 comments\n",
      "Searching for 'VRSK' in r/stocks...\n",
      "Found 5 posts and 0 comments\n",
      "Searching for 'VZ' in r/stocks...\n",
      "Found 40 posts and 113 comments\n",
      "Searching for 'VRTX' in r/stocks...\n",
      "Found 36 posts and 24 comments\n",
      "Searching for 'VTRS' in r/stocks...\n",
      "Found 14 posts and 10 comments\n",
      "Searching for 'VICI' in r/stocks...\n",
      "Found 13 posts and 10 comments\n",
      "Searching for 'V' in r/stocks...\n",
      "Found 49 posts and 585 comments\n",
      "Searching for 'VST' in r/stocks...\n",
      "Found 20 posts and 17 comments\n",
      "Searching for 'VMC' in r/stocks...\n",
      "Found 17 posts and 3 comments\n",
      "Searching for 'WRB' in r/stocks...\n",
      "Found 3 posts and 0 comments\n",
      "Searching for 'GWW' in r/stocks...\n",
      "Found 16 posts and 1 comments\n",
      "Searching for 'WAB' in r/stocks...\n",
      "Found 9 posts and 0 comments\n",
      "Searching for 'WBA' in r/stocks...\n",
      "Found 42 posts and 50 comments\n",
      "Searching for 'WMT' in r/stocks...\n",
      "Found 42 posts and 121 comments\n",
      "Searching for 'DIS' in r/stocks...\n",
      "Found 49 posts and 460 comments\n",
      "Searching for 'WBD' in r/stocks...\n",
      "Found 38 posts and 104 comments\n",
      "Searching for 'WM' in r/stocks...\n",
      "Found 34 posts and 86 comments\n",
      "Searching for 'WAT' in r/stocks...\n",
      "Found 6 posts and 1 comments\n",
      "Searching for 'WEC' in r/stocks...\n",
      "Found 8 posts and 0 comments\n",
      "Searching for 'WFC' in r/stocks...\n",
      "Found 45 posts and 68 comments\n",
      "Searching for 'WELL' in r/stocks...\n",
      "Found 47 posts and 57 comments\n",
      "Searching for 'WST' in r/stocks...\n",
      "Found 8 posts and 4 comments\n",
      "Searching for 'WDC' in r/stocks...\n",
      "Found 45 posts and 28 comments\n",
      "Searching for 'WY' in r/stocks...\n",
      "Found 39 posts and 3 comments\n",
      "Searching for 'WSM' in r/stocks...\n",
      "Found 34 posts and 6 comments\n",
      "Searching for 'WMB' in r/stocks...\n",
      "Found 12 posts and 6 comments\n",
      "Searching for 'WTW' in r/stocks...\n",
      "Found 43 posts and 10 comments\n",
      "Searching for 'WDAY' in r/stocks...\n",
      "Found 48 posts and 8 comments\n",
      "Searching for 'WYNN' in r/stocks...\n",
      "Found 46 posts and 61 comments\n",
      "Searching for 'XEL' in r/stocks...\n",
      "Found 6 posts and 2 comments\n",
      "Searching for 'XYL' in r/stocks...\n",
      "Found 9 posts and 8 comments\n",
      "Searching for 'YUM' in r/stocks...\n",
      "Found 30 posts and 19 comments\n",
      "Searching for 'ZBRA' in r/stocks...\n",
      "Found 11 posts and 1 comments\n",
      "Searching for 'ZBH' in r/stocks...\n",
      "Found 10 posts and 1 comments\n",
      "Searching for 'ZTS' in r/stocks...\n",
      "Found 20 posts and 8 comments\n",
      "Searching for 'MMM' in r/wallstreetbets...\n",
      "Found 5 posts and 2 comments\n",
      "Searching for 'AOS' in r/wallstreetbets...\n",
      "Found 6 posts and 0 comments\n",
      "Searching for 'ABT' in r/wallstreetbets...\n",
      "Found 26 posts and 15 comments\n",
      "Searching for 'ABBV' in r/wallstreetbets...\n",
      "Found 25 posts and 31 comments\n",
      "Searching for 'ACN' in r/wallstreetbets...\n",
      "Found 16 posts and 3 comments\n",
      "Searching for 'ADBE' in r/wallstreetbets...\n",
      "Found 31 posts and 27 comments\n",
      "Searching for 'AMD' in r/wallstreetbets...\n",
      "Found 49 posts and 253 comments\n",
      "Searching for 'AES' in r/wallstreetbets...\n",
      "Found 6 posts and 3 comments\n",
      "Searching for 'AFL' in r/wallstreetbets...\n",
      "Found 19 posts and 8 comments\n",
      "Searching for 'A' in r/wallstreetbets...\n",
      "Found 50 posts and 918 comments\n",
      "Searching for 'APD' in r/wallstreetbets...\n",
      "Found 26 posts and 8 comments\n",
      "Searching for 'ABNB' in r/wallstreetbets...\n",
      "Found 36 posts and 56 comments\n",
      "Searching for 'AKAM' in r/wallstreetbets...\n",
      "Found 37 posts and 25 comments\n",
      "Searching for 'ALB' in r/wallstreetbets...\n",
      "Found 32 posts and 17 comments\n",
      "Searching for 'ARE' in r/wallstreetbets...\n",
      "Found 50 posts and 192 comments\n",
      "Searching for 'ALGN' in r/wallstreetbets...\n",
      "Found 41 posts and 18 comments\n",
      "Searching for 'ALLE' in r/wallstreetbets...\n",
      "Found 0 posts and 0 comments\n",
      "Searching for 'LNT' in r/wallstreetbets...\n",
      "Found 16 posts and 0 comments\n",
      "Searching for 'ALL' in r/wallstreetbets...\n",
      "Found 50 posts and 217 comments\n",
      "Searching for 'GOOGL' in r/wallstreetbets...\n",
      "Found 48 posts and 198 comments\n",
      "Searching for 'GOOG' in r/wallstreetbets...\n",
      "Found 35 posts and 164 comments\n",
      "Searching for 'MO' in r/wallstreetbets...\n",
      "Found 31 posts and 192 comments\n",
      "Searching for 'AMZN' in r/wallstreetbets...\n",
      "Found 46 posts and 31 comments\n",
      "Searching for 'AMCR' in r/wallstreetbets...\n",
      "Found 4 posts and 0 comments\n",
      "Searching for 'AEE' in r/wallstreetbets...\n",
      "Found 13 posts and 0 comments\n",
      "Searching for 'AEP' in r/wallstreetbets...\n",
      "Found 22 posts and 6 comments\n",
      "Searching for 'AXP' in r/wallstreetbets...\n",
      "Found 24 posts and 16 comments\n",
      "Searching for 'AIG' in r/wallstreetbets...\n",
      "Found 26 posts and 24 comments\n",
      "Searching for 'AMT' in r/wallstreetbets...\n",
      "Found 17 posts and 20 comments\n",
      "Searching for 'AWK' in r/wallstreetbets...\n",
      "Found 16 posts and 7 comments\n",
      "Searching for 'AMP' in r/wallstreetbets...\n",
      "Found 42 posts and 10 comments\n",
      "Searching for 'AME' in r/wallstreetbets...\n",
      "Found 26 posts and 9 comments\n",
      "Searching for 'AMGN' in r/wallstreetbets...\n",
      "Found 18 posts and 8 comments\n",
      "Searching for 'APH' in r/wallstreetbets...\n",
      "Found 32 posts and 47 comments\n",
      "Searching for 'ADI' in r/wallstreetbets...\n",
      "Found 20 posts and 13 comments\n",
      "Searching for 'ANSS' in r/wallstreetbets...\n",
      "Found 4 posts and 0 comments\n",
      "Searching for 'AON' in r/wallstreetbets...\n",
      "Found 14 posts and 0 comments\n",
      "Searching for 'APA' in r/wallstreetbets...\n",
      "Found 43 posts and 13 comments\n",
      "Searching for 'APO' in r/wallstreetbets...\n",
      "Found 40 posts and 15 comments\n",
      "Searching for 'AAPL' in r/wallstreetbets...\n",
      "Found 46 posts and 64 comments\n",
      "Searching for 'AMAT' in r/wallstreetbets...\n",
      "Found 29 posts and 68 comments\n",
      "Searching for 'APTV' in r/wallstreetbets...\n",
      "Found 6 posts and 0 comments\n",
      "Searching for 'ACGL' in r/wallstreetbets...\n",
      "Found 5 posts and 0 comments\n",
      "Searching for 'ADM' in r/wallstreetbets...\n",
      "Found 34 posts and 18 comments\n",
      "Searching for 'ANET' in r/wallstreetbets...\n",
      "Found 35 posts and 28 comments\n",
      "Searching for 'AJG' in r/wallstreetbets...\n",
      "Found 9 posts and 0 comments\n",
      "Searching for 'AIZ' in r/wallstreetbets...\n",
      "Found 6 posts and 0 comments\n",
      "Searching for 'T' in r/wallstreetbets...\n",
      "Found 50 posts and 931 comments\n",
      "Searching for 'ATO' in r/wallstreetbets...\n",
      "Found 19 posts and 15 comments\n",
      "Searching for 'ADSK' in r/wallstreetbets...\n",
      "Found 34 posts and 7 comments\n",
      "Searching for 'ADP' in r/wallstreetbets...\n",
      "Found 32 posts and 14 comments\n",
      "Searching for 'AZO' in r/wallstreetbets...\n",
      "Found 39 posts and 36 comments\n",
      "Searching for 'AVB' in r/wallstreetbets...\n",
      "Found 10 posts and 0 comments\n",
      "Searching for 'AVY' in r/wallstreetbets...\n",
      "Found 5 posts and 0 comments\n",
      "Searching for 'AXON' in r/wallstreetbets...\n",
      "Found 36 posts and 30 comments\n",
      "Searching for 'BKR' in r/wallstreetbets...\n",
      "Found 11 posts and 2 comments\n",
      "Searching for 'BALL' in r/wallstreetbets...\n",
      "Found 42 posts and 47 comments\n",
      "Searching for 'BAC' in r/wallstreetbets...\n",
      "Found 40 posts and 114 comments\n",
      "Searching for 'BAX' in r/wallstreetbets...\n",
      "Found 17 posts and 4 comments\n",
      "Searching for 'BDX' in r/wallstreetbets...\n",
      "Found 18 posts and 0 comments\n",
      "Searching for 'BRK.B' in r/wallstreetbets...\n",
      "Found 22 posts and 29 comments\n",
      "Searching for 'BBY' in r/wallstreetbets...\n",
      "Found 46 posts and 97 comments\n",
      "Searching for 'TECH' in r/wallstreetbets...\n",
      "Found 49 posts and 83 comments\n",
      "Searching for 'BIIB' in r/wallstreetbets...\n",
      "Found 44 posts and 22 comments\n",
      "Searching for 'BLK' in r/wallstreetbets...\n",
      "Found 22 posts and 23 comments\n",
      "Searching for 'BX' in r/wallstreetbets...\n",
      "Found 30 posts and 23 comments\n",
      "Searching for 'BK' in r/wallstreetbets...\n",
      "Found 1 posts and 0 comments\n",
      "Searching for 'BA' in r/wallstreetbets...\n",
      "Found 39 posts and 156 comments\n",
      "Searching for 'BKNG' in r/wallstreetbets...\n",
      "Found 24 posts and 14 comments\n",
      "Searching for 'BSX' in r/wallstreetbets...\n",
      "Found 23 posts and 0 comments\n",
      "Searching for 'BMY' in r/wallstreetbets...\n",
      "Found 27 posts and 26 comments\n",
      "Searching for 'AVGO' in r/wallstreetbets...\n",
      "Found 36 posts and 71 comments\n",
      "Searching for 'BR' in r/wallstreetbets...\n",
      "Found 21 posts and 43 comments\n",
      "Searching for 'BRO' in r/wallstreetbets...\n",
      "Found 22 posts and 16 comments\n",
      "Searching for 'BF.B' in r/wallstreetbets...\n",
      "Found 5 posts and 3 comments\n",
      "Searching for 'BLDR' in r/wallstreetbets...\n",
      "Found 8 posts and 1 comments\n",
      "Searching for 'BG' in r/wallstreetbets...\n",
      "Found 41 posts and 32 comments\n",
      "Searching for 'BXP' in r/wallstreetbets...\n",
      "Found 19 posts and 6 comments\n",
      "Searching for 'CHRW' in r/wallstreetbets...\n",
      "Found 16 posts and 5 comments\n",
      "Searching for 'CDNS' in r/wallstreetbets...\n",
      "Found 24 posts and 7 comments\n",
      "Searching for 'CZR' in r/wallstreetbets...\n",
      "Found 39 posts and 55 comments\n",
      "Searching for 'CPT' in r/wallstreetbets...\n",
      "Found 14 posts and 6 comments\n",
      "Searching for 'CPB' in r/wallstreetbets...\n",
      "Found 39 posts and 14 comments\n",
      "Searching for 'COF' in r/wallstreetbets...\n",
      "Found 34 posts and 29 comments\n",
      "Searching for 'CAH' in r/wallstreetbets...\n",
      "Found 12 posts and 3 comments\n",
      "Searching for 'KMX' in r/wallstreetbets...\n",
      "Found 42 posts and 17 comments\n",
      "Searching for 'CCL' in r/wallstreetbets...\n",
      "Found 40 posts and 118 comments\n",
      "Searching for 'CARR' in r/wallstreetbets...\n",
      "Found 19 posts and 23 comments\n",
      "Searching for 'CAT' in r/wallstreetbets...\n",
      "Found 35 posts and 122 comments\n",
      "Searching for 'CBOE' in r/wallstreetbets...\n",
      "Found 40 posts and 35 comments\n",
      "Searching for 'CBRE' in r/wallstreetbets...\n",
      "Found 19 posts and 13 comments\n",
      "Searching for 'CDW' in r/wallstreetbets...\n",
      "Found 8 posts and 1 comments\n",
      "Searching for 'COR' in r/wallstreetbets...\n",
      "Found 19 posts and 13 comments\n",
      "Searching for 'CNC' in r/wallstreetbets...\n",
      "Found 37 posts and 4 comments\n",
      "Searching for 'CNP' in r/wallstreetbets...\n",
      "Found 12 posts and 1 comments\n",
      "Searching for 'CF' in r/wallstreetbets...\n",
      "Found 43 posts and 10 comments\n",
      "Searching for 'CRL' in r/wallstreetbets...\n",
      "Found 36 posts and 15 comments\n",
      "Searching for 'SCHW' in r/wallstreetbets...\n",
      "Found 21 posts and 70 comments\n",
      "Searching for 'CHTR' in r/wallstreetbets...\n",
      "Found 27 posts and 5 comments\n",
      "Searching for 'CVX' in r/wallstreetbets...\n",
      "Found 21 posts and 19 comments\n",
      "Searching for 'CMG' in r/wallstreetbets...\n",
      "Found 12 posts and 9 comments\n",
      "Searching for 'CB' in r/wallstreetbets...\n",
      "Found 20 posts and 1 comments\n",
      "Searching for 'CHD' in r/wallstreetbets...\n",
      "Found 25 posts and 9 comments\n",
      "Searching for 'CI' in r/wallstreetbets...\n",
      "Found 2 posts and 2 comments\n",
      "Searching for 'CINF' in r/wallstreetbets...\n",
      "Found 4 posts and 0 comments\n",
      "Searching for 'CTAS' in r/wallstreetbets...\n",
      "Found 41 posts and 4 comments\n",
      "Searching for 'CSCO' in r/wallstreetbets...\n",
      "Found 24 posts and 38 comments\n",
      "Searching for 'C' in r/wallstreetbets...\n",
      "Found 42 posts and 603 comments\n",
      "Searching for 'CFG' in r/wallstreetbets...\n",
      "Found 24 posts and 1 comments\n",
      "Searching for 'CLX' in r/wallstreetbets...\n",
      "Found 42 posts and 19 comments\n",
      "Searching for 'CME' in r/wallstreetbets...\n",
      "Found 34 posts and 22 comments\n",
      "Searching for 'CMS' in r/wallstreetbets...\n",
      "Found 49 posts and 2 comments\n",
      "Searching for 'KO' in r/wallstreetbets...\n",
      "Found 16 posts and 43 comments\n",
      "Searching for 'CTSH' in r/wallstreetbets...\n",
      "Found 16 posts and 2 comments\n",
      "Searching for 'CL' in r/wallstreetbets...\n",
      "Found 24 posts and 36 comments\n",
      "Searching for 'CMCSA' in r/wallstreetbets...\n",
      "Found 28 posts and 11 comments\n",
      "Searching for 'CAG' in r/wallstreetbets...\n",
      "Found 42 posts and 11 comments\n",
      "Searching for 'COP' in r/wallstreetbets...\n",
      "Found 13 posts and 3 comments\n",
      "Searching for 'ED' in r/wallstreetbets...\n",
      "Found 39 posts and 291 comments\n",
      "Searching for 'STZ' in r/wallstreetbets...\n",
      "Found 29 posts and 19 comments\n",
      "Searching for 'CEG' in r/wallstreetbets...\n",
      "Found 3 posts and 5 comments\n",
      "Searching for 'COO' in r/wallstreetbets...\n",
      "Found 36 posts and 19 comments\n",
      "Searching for 'CPRT' in r/wallstreetbets...\n",
      "Found 12 posts and 0 comments\n",
      "Searching for 'GLW' in r/wallstreetbets...\n",
      "Found 39 posts and 10 comments\n",
      "Searching for 'CPAY' in r/wallstreetbets...\n",
      "Found 0 posts and 0 comments\n",
      "Searching for 'CTVA' in r/wallstreetbets...\n",
      "Found 4 posts and 0 comments\n",
      "Searching for 'CSGP' in r/wallstreetbets...\n",
      "Found 2 posts and 0 comments\n",
      "Searching for 'COST' in r/wallstreetbets...\n",
      "Found 48 posts and 82 comments\n",
      "Searching for 'CTRA' in r/wallstreetbets...\n",
      "Found 8 posts and 0 comments\n",
      "Searching for 'CRWD' in r/wallstreetbets...\n",
      "Found 45 posts and 94 comments\n",
      "Searching for 'CCI' in r/wallstreetbets...\n",
      "Found 7 posts and 5 comments\n",
      "Searching for 'CSX' in r/wallstreetbets...\n",
      "Found 29 posts and 29 comments\n",
      "Searching for 'CMI' in r/wallstreetbets...\n",
      "Found 30 posts and 10 comments\n",
      "Searching for 'CVS' in r/wallstreetbets...\n",
      "Found 37 posts and 138 comments\n",
      "Searching for 'DHR' in r/wallstreetbets...\n",
      "Found 15 posts and 2 comments\n",
      "Searching for 'DRI' in r/wallstreetbets...\n",
      "Found 22 posts and 14 comments\n",
      "Searching for 'DVA' in r/wallstreetbets...\n",
      "Found 17 posts and 3 comments\n",
      "Searching for 'DAY' in r/wallstreetbets...\n",
      "Found 50 posts and 101 comments\n",
      "Searching for 'DECK' in r/wallstreetbets...\n",
      "Found 29 posts and 6 comments\n",
      "Searching for 'DE' in r/wallstreetbets...\n",
      "Found 30 posts and 184 comments\n",
      "Searching for 'DELL' in r/wallstreetbets...\n",
      "Found 37 posts and 105 comments\n",
      "Searching for 'DAL' in r/wallstreetbets...\n",
      "Found 42 posts and 91 comments\n",
      "Searching for 'DVN' in r/wallstreetbets...\n",
      "Found 25 posts and 10 comments\n",
      "Searching for 'DXCM' in r/wallstreetbets...\n",
      "Found 39 posts and 21 comments\n",
      "Searching for 'FANG' in r/wallstreetbets...\n",
      "Found 39 posts and 31 comments\n",
      "Searching for 'DLR' in r/wallstreetbets...\n",
      "Found 17 posts and 6 comments\n",
      "Searching for 'DFS' in r/wallstreetbets...\n",
      "Found 40 posts and 9 comments\n",
      "Searching for 'DG' in r/wallstreetbets...\n",
      "Found 41 posts and 97 comments\n",
      "Searching for 'DLTR' in r/wallstreetbets...\n",
      "Found 42 posts and 38 comments\n",
      "Searching for 'D' in r/wallstreetbets...\n",
      "Found 50 posts and 778 comments\n",
      "Searching for 'DPZ' in r/wallstreetbets...\n",
      "Found 39 posts and 40 comments\n",
      "Searching for 'DASH' in r/wallstreetbets...\n",
      "Found 45 posts and 113 comments\n",
      "Searching for 'DOV' in r/wallstreetbets...\n",
      "Found 16 posts and 3 comments\n",
      "Searching for 'DOW' in r/wallstreetbets...\n",
      "Found 47 posts and 93 comments\n",
      "Searching for 'DHI' in r/wallstreetbets...\n",
      "Found 40 posts and 28 comments\n",
      "Searching for 'DTE' in r/wallstreetbets...\n",
      "Found 31 posts and 39 comments\n",
      "Searching for 'DUK' in r/wallstreetbets...\n",
      "Found 23 posts and 11 comments\n",
      "Searching for 'DD' in r/wallstreetbets...\n",
      "Found 50 posts and 141 comments\n",
      "Searching for 'EMN' in r/wallstreetbets...\n",
      "Found 9 posts and 0 comments\n",
      "Searching for 'ETN' in r/wallstreetbets...\n",
      "Found 34 posts and 30 comments\n",
      "Searching for 'EBAY' in r/wallstreetbets...\n",
      "Found 45 posts and 203 comments\n",
      "Searching for 'ECL' in r/wallstreetbets...\n",
      "Found 21 posts and 4 comments\n",
      "Searching for 'EIX' in r/wallstreetbets...\n",
      "Found 5 posts and 9 comments\n",
      "Searching for 'EW' in r/wallstreetbets...\n",
      "Found 28 posts and 38 comments\n",
      "Searching for 'EA' in r/wallstreetbets...\n",
      "Found 45 posts and 392 comments\n",
      "Searching for 'ELV' in r/wallstreetbets...\n",
      "Found 12 posts and 4 comments\n",
      "Searching for 'EMR' in r/wallstreetbets...\n",
      "Found 20 posts and 6 comments\n",
      "Searching for 'ENPH' in r/wallstreetbets...\n",
      "Found 40 posts and 111 comments\n",
      "Searching for 'ETR' in r/wallstreetbets...\n",
      "Found 15 posts and 2 comments\n",
      "Searching for 'EOG' in r/wallstreetbets...\n",
      "Found 28 posts and 7 comments\n",
      "Searching for 'EPAM' in r/wallstreetbets...\n",
      "Found 9 posts and 8 comments\n",
      "Searching for 'EQT' in r/wallstreetbets...\n",
      "Found 21 posts and 8 comments\n",
      "Searching for 'EFX' in r/wallstreetbets...\n",
      "Found 49 posts and 38 comments\n",
      "Searching for 'EQIX' in r/wallstreetbets...\n",
      "Found 18 posts and 1 comments\n",
      "Searching for 'EQR' in r/wallstreetbets...\n",
      "Found 14 posts and 2 comments\n",
      "Searching for 'ERIE' in r/wallstreetbets...\n",
      "Found 14 posts and 3 comments\n",
      "Searching for 'ESS' in r/wallstreetbets...\n",
      "Found 30 posts and 40 comments\n",
      "Searching for 'EL' in r/wallstreetbets...\n",
      "Found 25 posts and 129 comments\n",
      "Searching for 'EG' in r/wallstreetbets...\n",
      "Found 1 posts and 2 comments\n",
      "Searching for 'EVRG' in r/wallstreetbets...\n",
      "Found 6 posts and 0 comments\n",
      "Searching for 'ES' in r/wallstreetbets...\n",
      "Found 40 posts and 328 comments\n",
      "Searching for 'EXC' in r/wallstreetbets...\n",
      "Found 18 posts and 8 comments\n",
      "Searching for 'EXE' in r/wallstreetbets...\n",
      "Found 18 posts and 3 comments\n",
      "Searching for 'EXPE' in r/wallstreetbets...\n",
      "Found 5 posts and 1 comments\n",
      "Searching for 'EXPD' in r/wallstreetbets...\n",
      "Found 16 posts and 1 comments\n",
      "Searching for 'EXR' in r/wallstreetbets...\n",
      "Found 9 posts and 3 comments\n",
      "Searching for 'XOM' in r/wallstreetbets...\n",
      "Found 31 posts and 74 comments\n",
      "Searching for 'FFIV' in r/wallstreetbets...\n",
      "Found 13 posts and 5 comments\n",
      "Searching for 'FDS' in r/wallstreetbets...\n",
      "Found 38 posts and 16 comments\n",
      "Searching for 'FICO' in r/wallstreetbets...\n",
      "Found 29 posts and 22 comments\n",
      "Searching for 'FAST' in r/wallstreetbets...\n",
      "Found 45 posts and 15 comments\n",
      "Searching for 'FRT' in r/wallstreetbets...\n",
      "Found 9 posts and 0 comments\n",
      "Searching for 'FDX' in r/wallstreetbets...\n",
      "Found 45 posts and 37 comments\n",
      "Searching for 'FIS' in r/wallstreetbets...\n",
      "Found 27 posts and 3 comments\n",
      "Searching for 'FITB' in r/wallstreetbets...\n",
      "Found 20 posts and 2 comments\n",
      "Searching for 'FSLR' in r/wallstreetbets...\n",
      "Found 41 posts and 75 comments\n",
      "Searching for 'FE' in r/wallstreetbets...\n",
      "Found 36 posts and 83 comments\n",
      "Searching for 'FI' in r/wallstreetbets...\n",
      "Found 20 posts and 106 comments\n",
      "Searching for 'F' in r/wallstreetbets...\n",
      "Found 50 posts and 607 comments\n",
      "Searching for 'FTNT' in r/wallstreetbets...\n",
      "Found 33 posts and 15 comments\n",
      "Searching for 'FTV' in r/wallstreetbets...\n",
      "Found 11 posts and 4 comments\n",
      "Searching for 'FOXA' in r/wallstreetbets...\n",
      "Found 37 posts and 4 comments\n",
      "Searching for 'FOX' in r/wallstreetbets...\n",
      "Found 31 posts and 41 comments\n",
      "Searching for 'BEN' in r/wallstreetbets...\n",
      "Found 26 posts and 31 comments\n",
      "Searching for 'FCX' in r/wallstreetbets...\n",
      "Found 39 posts and 38 comments\n",
      "Searching for 'GRMN' in r/wallstreetbets...\n",
      "Found 35 posts and 11 comments\n",
      "Searching for 'IT' in r/wallstreetbets...\n",
      "Found 50 posts and 479 comments\n",
      "Searching for 'GE' in r/wallstreetbets...\n",
      "Found 26 posts and 167 comments\n",
      "Searching for 'GEHC' in r/wallstreetbets...\n",
      "Found 1 posts and 0 comments\n",
      "Searching for 'GEV' in r/wallstreetbets...\n",
      "Found 1 posts and 0 comments\n",
      "Searching for 'GEN' in r/wallstreetbets...\n",
      "Found 34 posts and 44 comments\n",
      "Searching for 'GNRC' in r/wallstreetbets...\n",
      "Found 38 posts and 12 comments\n",
      "Searching for 'GD' in r/wallstreetbets...\n",
      "Found 26 posts and 10 comments\n",
      "Searching for 'GIS' in r/wallstreetbets...\n",
      "Found 43 posts and 33 comments\n",
      "Searching for 'GM' in r/wallstreetbets...\n",
      "Found 32 posts and 97 comments\n",
      "Searching for 'GPC' in r/wallstreetbets...\n",
      "Found 18 posts and 8 comments\n",
      "Searching for 'GILD' in r/wallstreetbets...\n",
      "Found 37 posts and 66 comments\n",
      "Searching for 'GPN' in r/wallstreetbets...\n",
      "Found 21 posts and 2 comments\n",
      "Searching for 'GL' in r/wallstreetbets...\n",
      "Found 20 posts and 12 comments\n",
      "Searching for 'GDDY' in r/wallstreetbets...\n",
      "Found 20 posts and 8 comments\n",
      "Searching for 'GS' in r/wallstreetbets...\n",
      "Found 13 posts and 13 comments\n",
      "Searching for 'HAL' in r/wallstreetbets...\n",
      "Found 31 posts and 39 comments\n",
      "Searching for 'HIG' in r/wallstreetbets...\n",
      "Found 19 posts and 20 comments\n",
      "Searching for 'HAS' in r/wallstreetbets...\n",
      "Found 50 posts and 51 comments\n",
      "Searching for 'HCA' in r/wallstreetbets...\n",
      "Found 28 posts and 19 comments\n",
      "Searching for 'DOC' in r/wallstreetbets...\n",
      "Found 39 posts and 17 comments\n",
      "Searching for 'HSIC' in r/wallstreetbets...\n",
      "Found 7 posts and 0 comments\n",
      "Searching for 'HSY' in r/wallstreetbets...\n",
      "Found 20 posts and 11 comments\n",
      "Searching for 'HES' in r/wallstreetbets...\n",
      "Found 5 posts and 6 comments\n",
      "Searching for 'HPE' in r/wallstreetbets...\n",
      "Found 43 posts and 83 comments\n",
      "Searching for 'HLT' in r/wallstreetbets...\n",
      "Found 44 posts and 13 comments\n",
      "Searching for 'HOLX' in r/wallstreetbets...\n",
      "Found 12 posts and 2 comments\n",
      "Searching for 'HD' in r/wallstreetbets...\n",
      "Found 24 posts and 39 comments\n",
      "Searching for 'HON' in r/wallstreetbets...\n",
      "Found 15 posts and 19 comments\n",
      "Searching for 'HRL' in r/wallstreetbets...\n",
      "Found 25 posts and 2 comments\n",
      "Searching for 'HST' in r/wallstreetbets...\n",
      "Found 2 posts and 0 comments\n",
      "Searching for 'HWM' in r/wallstreetbets...\n",
      "Found 1 posts and 0 comments\n",
      "Searching for 'HPQ' in r/wallstreetbets...\n",
      "Found 38 posts and 42 comments\n",
      "Searching for 'HUBB' in r/wallstreetbets...\n",
      "Found 3 posts and 0 comments\n",
      "Searching for 'HUM' in r/wallstreetbets...\n",
      "Found 23 posts and 7 comments\n",
      "Searching for 'HBAN' in r/wallstreetbets...\n",
      "Found 21 posts and 5 comments\n",
      "Searching for 'HII' in r/wallstreetbets...\n",
      "Found 14 posts and 7 comments\n",
      "Searching for 'IBM' in r/wallstreetbets...\n",
      "Found 32 posts and 80 comments\n",
      "Searching for 'IEX' in r/wallstreetbets...\n",
      "Found 20 posts and 18 comments\n",
      "Searching for 'IDXX' in r/wallstreetbets...\n",
      "Found 6 posts and 0 comments\n",
      "Searching for 'ITW' in r/wallstreetbets...\n",
      "Found 16 posts and 2 comments\n",
      "Searching for 'INCY' in r/wallstreetbets...\n",
      "Found 18 posts and 1 comments\n",
      "Searching for 'IR' in r/wallstreetbets...\n",
      "Found 37 posts and 186 comments\n",
      "Searching for 'PODD' in r/wallstreetbets...\n",
      "Found 8 posts and 0 comments\n",
      "Searching for 'INTC' in r/wallstreetbets...\n",
      "Found 40 posts and 84 comments\n",
      "Searching for 'ICE' in r/wallstreetbets...\n",
      "Found 29 posts and 52 comments\n",
      "Searching for 'IFF' in r/wallstreetbets...\n",
      "Found 23 posts and 10 comments\n",
      "Searching for 'IP' in r/wallstreetbets...\n",
      "Found 45 posts and 75 comments\n",
      "Searching for 'IPG' in r/wallstreetbets...\n",
      "Found 17 posts and 0 comments\n",
      "Searching for 'INTU' in r/wallstreetbets...\n",
      "Found 19 posts and 17 comments\n",
      "Searching for 'ISRG' in r/wallstreetbets...\n",
      "Found 27 posts and 13 comments\n",
      "Searching for 'IVZ' in r/wallstreetbets...\n",
      "Found 7 posts and 0 comments\n",
      "Searching for 'INVH' in r/wallstreetbets...\n",
      "Found 7 posts and 1 comments\n",
      "Searching for 'IQV' in r/wallstreetbets...\n",
      "Found 3 posts and 3 comments\n",
      "Searching for 'IRM' in r/wallstreetbets...\n",
      "Found 22 posts and 13 comments\n",
      "Searching for 'JBHT' in r/wallstreetbets...\n",
      "Found 20 posts and 3 comments\n",
      "Searching for 'JBL' in r/wallstreetbets...\n",
      "Found 26 posts and 8 comments\n",
      "Searching for 'JKHY' in r/wallstreetbets...\n",
      "Found 4 posts and 0 comments\n",
      "Searching for 'J' in r/wallstreetbets...\n",
      "Found 46 posts and 210 comments\n",
      "Searching for 'JNJ' in r/wallstreetbets...\n",
      "Found 30 posts and 43 comments\n",
      "Searching for 'JCI' in r/wallstreetbets...\n",
      "Found 13 posts and 5 comments\n",
      "Searching for 'JPM' in r/wallstreetbets...\n",
      "Found 33 posts and 48 comments\n",
      "Searching for 'JNPR' in r/wallstreetbets...\n",
      "Found 18 posts and 3 comments\n",
      "Searching for 'K' in r/wallstreetbets...\n",
      "Found 44 posts and 463 comments\n",
      "Searching for 'KVUE' in r/wallstreetbets...\n",
      "Found 4 posts and 11 comments\n",
      "Searching for 'KDP' in r/wallstreetbets...\n",
      "Found 27 posts and 9 comments\n",
      "Searching for 'KEY' in r/wallstreetbets...\n",
      "Found 45 posts and 3 comments\n",
      "Searching for 'KEYS' in r/wallstreetbets...\n",
      "Found 3 posts and 0 comments\n",
      "Searching for 'KMB' in r/wallstreetbets...\n",
      "Found 39 posts and 6 comments\n",
      "Searching for 'KIM' in r/wallstreetbets...\n",
      "Found 40 posts and 61 comments\n",
      "Searching for 'KMI' in r/wallstreetbets...\n",
      "Found 36 posts and 45 comments\n",
      "Searching for 'KKR' in r/wallstreetbets...\n",
      "Found 32 posts and 19 comments\n",
      "Searching for 'KLAC' in r/wallstreetbets...\n",
      "Found 25 posts and 2 comments\n",
      "Searching for 'KHC' in r/wallstreetbets...\n",
      "Found 38 posts and 27 comments\n",
      "Searching for 'KR' in r/wallstreetbets...\n",
      "Found 44 posts and 137 comments\n",
      "Searching for 'LHX' in r/wallstreetbets...\n",
      "Found 7 posts and 0 comments\n",
      "Searching for 'LH' in r/wallstreetbets...\n",
      "Found 35 posts and 6 comments\n",
      "Searching for 'LRCX' in r/wallstreetbets...\n",
      "Found 39 posts and 43 comments\n",
      "Searching for 'LW' in r/wallstreetbets...\n",
      "Found 44 posts and 15 comments\n",
      "Searching for 'LVS' in r/wallstreetbets...\n",
      "Found 40 posts and 43 comments\n",
      "Searching for 'LDOS' in r/wallstreetbets...\n",
      "Found 18 posts and 8 comments\n",
      "Searching for 'LEN' in r/wallstreetbets...\n",
      "Found 28 posts and 30 comments\n",
      "Searching for 'LII' in r/wallstreetbets...\n",
      "Found 9 posts and 1 comments\n",
      "Searching for 'LLY' in r/wallstreetbets...\n",
      "Found 35 posts and 129 comments\n",
      "Searching for 'LIN' in r/wallstreetbets...\n",
      "Found 16 posts and 18 comments\n",
      "Searching for 'LYV' in r/wallstreetbets...\n",
      "Found 40 posts and 36 comments\n",
      "Searching for 'LKQ' in r/wallstreetbets...\n",
      "Found 6 posts and 0 comments\n",
      "Searching for 'LMT' in r/wallstreetbets...\n",
      "Found 27 posts and 51 comments\n",
      "Searching for 'L' in r/wallstreetbets...\n",
      "Found 50 posts and 778 comments\n",
      "Searching for 'LOW' in r/wallstreetbets...\n",
      "Found 50 posts and 97 comments\n",
      "Searching for 'LULU' in r/wallstreetbets...\n",
      "Found 42 posts and 160 comments\n",
      "Searching for 'LYB' in r/wallstreetbets...\n",
      "Found 9 posts and 2 comments\n",
      "Searching for 'MTB' in r/wallstreetbets...\n",
      "Found 15 posts and 2 comments\n",
      "Searching for 'MPC' in r/wallstreetbets...\n",
      "Found 36 posts and 4 comments\n",
      "Searching for 'MKTX' in r/wallstreetbets...\n",
      "Found 12 posts and 0 comments\n",
      "Searching for 'MAR' in r/wallstreetbets...\n",
      "Found 33 posts and 61 comments\n",
      "Searching for 'MMC' in r/wallstreetbets...\n",
      "Found 8 posts and 0 comments\n",
      "Searching for 'MLM' in r/wallstreetbets...\n",
      "Found 25 posts and 12 comments\n",
      "Searching for 'MAS' in r/wallstreetbets...\n",
      "Found 31 posts and 10 comments\n",
      "Searching for 'MA' in r/wallstreetbets...\n",
      "Found 32 posts and 194 comments\n",
      "Searching for 'MTCH' in r/wallstreetbets...\n",
      "Found 39 posts and 77 comments\n",
      "Searching for 'MKC' in r/wallstreetbets...\n",
      "Found 30 posts and 5 comments\n",
      "Searching for 'MCD' in r/wallstreetbets...\n",
      "Found 30 posts and 122 comments\n",
      "Searching for 'MCK' in r/wallstreetbets...\n",
      "Found 34 posts and 23 comments\n",
      "Searching for 'MDT' in r/wallstreetbets...\n",
      "Found 23 posts and 9 comments\n",
      "Searching for 'MRK' in r/wallstreetbets...\n",
      "Found 23 posts and 16 comments\n",
      "Searching for 'META' in r/wallstreetbets...\n",
      "Found 50 posts and 135 comments\n",
      "Searching for 'MET' in r/wallstreetbets...\n",
      "Found 41 posts and 31 comments\n",
      "Searching for 'MTD' in r/wallstreetbets...\n",
      "Found 11 posts and 0 comments\n",
      "Searching for 'MGM' in r/wallstreetbets...\n",
      "Found 36 posts and 99 comments\n",
      "Searching for 'MCHP' in r/wallstreetbets...\n",
      "Found 19 posts and 7 comments\n",
      "Searching for 'MU' in r/wallstreetbets...\n",
      "Found 42 posts and 130 comments\n",
      "Searching for 'MSFT' in r/wallstreetbets...\n",
      "Found 41 posts and 92 comments\n",
      "Searching for 'MAA' in r/wallstreetbets...\n",
      "Found 20 posts and 3 comments\n",
      "Searching for 'MRNA' in r/wallstreetbets...\n",
      "Found 44 posts and 83 comments\n",
      "Searching for 'MHK' in r/wallstreetbets...\n",
      "Found 6 posts and 0 comments\n",
      "Searching for 'MOH' in r/wallstreetbets...\n",
      "Found 14 posts and 1 comments\n",
      "Searching for 'TAP' in r/wallstreetbets...\n",
      "Found 25 posts and 8 comments\n",
      "Searching for 'MDLZ' in r/wallstreetbets...\n",
      "Found 33 posts and 5 comments\n",
      "Searching for 'MPWR' in r/wallstreetbets...\n",
      "Found 5 posts and 0 comments\n",
      "Searching for 'MNST' in r/wallstreetbets...\n",
      "Found 32 posts and 27 comments\n",
      "Searching for 'MCO' in r/wallstreetbets...\n",
      "Found 13 posts and 0 comments\n",
      "Searching for 'MS' in r/wallstreetbets...\n",
      "Found 34 posts and 37 comments\n",
      "Searching for 'MOS' in r/wallstreetbets...\n",
      "Found 35 posts and 49 comments\n",
      "Searching for 'MSI' in r/wallstreetbets...\n",
      "Found 32 posts and 5 comments\n",
      "Searching for 'MSCI' in r/wallstreetbets...\n",
      "Found 34 posts and 7 comments\n",
      "Searching for 'NDAQ' in r/wallstreetbets...\n",
      "Found 29 posts and 9 comments\n",
      "Searching for 'NTAP' in r/wallstreetbets...\n",
      "Found 41 posts and 20 comments\n",
      "Searching for 'NFLX' in r/wallstreetbets...\n",
      "Found 42 posts and 41 comments\n",
      "Searching for 'NEM' in r/wallstreetbets...\n",
      "Found 34 posts and 22 comments\n",
      "Searching for 'NWSA' in r/wallstreetbets...\n",
      "Found 4 posts and 1 comments\n",
      "Searching for 'NWS' in r/wallstreetbets...\n",
      "Found 23 posts and 18 comments\n",
      "Searching for 'NEE' in r/wallstreetbets...\n",
      "Found 20 posts and 37 comments\n",
      "Searching for 'NKE' in r/wallstreetbets...\n",
      "Found 37 posts and 52 comments\n",
      "Searching for 'NI' in r/wallstreetbets...\n",
      "Found 8 posts and 44 comments\n",
      "Searching for 'NDSN' in r/wallstreetbets...\n",
      "Found 10 posts and 1 comments\n",
      "Searching for 'NSC' in r/wallstreetbets...\n",
      "Found 13 posts and 2 comments\n",
      "Searching for 'NTRS' in r/wallstreetbets...\n",
      "Found 13 posts and 1 comments\n",
      "Searching for 'NOC' in r/wallstreetbets...\n",
      "Found 33 posts and 13 comments\n",
      "Searching for 'NCLH' in r/wallstreetbets...\n",
      "Found 45 posts and 87 comments\n",
      "Searching for 'NRG' in r/wallstreetbets...\n",
      "Found 33 posts and 15 comments\n",
      "Searching for 'NUE' in r/wallstreetbets...\n",
      "Found 41 posts and 27 comments\n",
      "Searching for 'NVDA' in r/wallstreetbets...\n",
      "Found 49 posts and 106 comments\n",
      "Searching for 'NVR' in r/wallstreetbets...\n",
      "Found 19 posts and 2 comments\n",
      "Searching for 'NXPI' in r/wallstreetbets...\n",
      "Found 38 posts and 12 comments\n",
      "Searching for 'ORLY' in r/wallstreetbets...\n",
      "Found 0 posts and 0 comments\n",
      "Searching for 'OXY' in r/wallstreetbets...\n",
      "Found 28 posts and 101 comments\n",
      "Searching for 'ODFL' in r/wallstreetbets...\n",
      "Found 8 posts and 1 comments\n",
      "Searching for 'OMC' in r/wallstreetbets...\n",
      "Found 15 posts and 1 comments\n",
      "Searching for 'ON' in r/wallstreetbets...\n",
      "Found 50 posts and 510 comments\n",
      "Searching for 'OKE' in r/wallstreetbets...\n",
      "Found 20 posts and 10 comments\n",
      "Searching for 'ORCL' in r/wallstreetbets...\n",
      "Found 22 posts and 32 comments\n",
      "Searching for 'OTIS' in r/wallstreetbets...\n",
      "Found 9 posts and 6 comments\n",
      "Searching for 'PCAR' in r/wallstreetbets...\n",
      "Found 11 posts and 3 comments\n",
      "Searching for 'PKG' in r/wallstreetbets...\n",
      "Found 21 posts and 1 comments\n",
      "Searching for 'PLTR' in r/wallstreetbets...\n",
      "Found 50 posts and 181 comments\n",
      "Searching for 'PANW' in r/wallstreetbets...\n",
      "Found 35 posts and 42 comments\n",
      "Searching for 'PARA' in r/wallstreetbets...\n",
      "Found 41 posts and 95 comments\n",
      "Searching for 'PH' in r/wallstreetbets...\n",
      "Found 38 posts and 49 comments\n",
      "Searching for 'PAYX' in r/wallstreetbets...\n",
      "Found 36 posts and 12 comments\n",
      "Searching for 'PAYC' in r/wallstreetbets...\n",
      "Found 10 posts and 3 comments\n",
      "Searching for 'PYPL' in r/wallstreetbets...\n",
      "Found 41 posts and 98 comments\n",
      "Searching for 'PNR' in r/wallstreetbets...\n",
      "Found 7 posts and 0 comments\n",
      "Searching for 'PEP' in r/wallstreetbets...\n",
      "Found 29 posts and 77 comments\n",
      "Searching for 'PFE' in r/wallstreetbets...\n",
      "Found 33 posts and 82 comments\n",
      "Searching for 'PCG' in r/wallstreetbets...\n",
      "Found 46 posts and 146 comments\n",
      "Searching for 'PM' in r/wallstreetbets...\n",
      "Found 9 posts and 8 comments\n",
      "Searching for 'PSX' in r/wallstreetbets...\n",
      "Found 33 posts and 8 comments\n",
      "Searching for 'PNW' in r/wallstreetbets...\n",
      "Found 13 posts and 3 comments\n",
      "Searching for 'PNC' in r/wallstreetbets...\n",
      "Found 21 posts and 11 comments\n",
      "Searching for 'POOL' in r/wallstreetbets...\n",
      "Found 26 posts and 28 comments\n",
      "Searching for 'PPG' in r/wallstreetbets...\n",
      "Found 25 posts and 1 comments\n",
      "Searching for 'PPL' in r/wallstreetbets...\n",
      "Found 31 posts and 18 comments\n",
      "Searching for 'PFG' in r/wallstreetbets...\n",
      "Found 8 posts and 0 comments\n",
      "Searching for 'PG' in r/wallstreetbets...\n",
      "Found 24 posts and 45 comments\n",
      "Searching for 'PGR' in r/wallstreetbets...\n",
      "Found 27 posts and 11 comments\n",
      "Searching for 'PLD' in r/wallstreetbets...\n",
      "Found 22 posts and 4 comments\n",
      "Searching for 'PRU' in r/wallstreetbets...\n",
      "Found 18 posts and 3 comments\n",
      "Searching for 'PEG' in r/wallstreetbets...\n",
      "Found 22 posts and 23 comments\n",
      "Searching for 'PTC' in r/wallstreetbets...\n",
      "Found 13 posts and 4 comments\n",
      "Searching for 'PSA' in r/wallstreetbets...\n",
      "Found 49 posts and 7 comments\n",
      "Searching for 'PHM' in r/wallstreetbets...\n",
      "Found 38 posts and 12 comments\n",
      "Searching for 'PWR' in r/wallstreetbets...\n",
      "Found 18 posts and 5 comments\n",
      "Searching for 'QCOM' in r/wallstreetbets...\n",
      "Found 24 posts and 33 comments\n",
      "Searching for 'DGX' in r/wallstreetbets...\n",
      "Found 39 posts and 35 comments\n",
      "Searching for 'RL' in r/wallstreetbets...\n",
      "Found 43 posts and 47 comments\n",
      "Searching for 'RJF' in r/wallstreetbets...\n",
      "Found 6 posts and 0 comments\n",
      "Searching for 'RTX' in r/wallstreetbets...\n",
      "Found 25 posts and 39 comments\n",
      "Searching for 'O' in r/wallstreetbets...\n",
      "Found 47 posts and 852 comments\n",
      "Searching for 'REG' in r/wallstreetbets...\n",
      "Found 37 posts and 52 comments\n",
      "Searching for 'REGN' in r/wallstreetbets...\n",
      "Found 41 posts and 37 comments\n",
      "Searching for 'RF' in r/wallstreetbets...\n",
      "Found 40 posts and 24 comments\n",
      "Searching for 'RSG' in r/wallstreetbets...\n",
      "Found 9 posts and 0 comments\n",
      "Searching for 'RMD' in r/wallstreetbets...\n",
      "Found 12 posts and 0 comments\n",
      "Searching for 'RVTY' in r/wallstreetbets...\n",
      "Found 2 posts and 0 comments\n",
      "Searching for 'ROK' in r/wallstreetbets...\n",
      "Found 13 posts and 6 comments\n",
      "Searching for 'ROL' in r/wallstreetbets...\n",
      "Found 9 posts and 7 comments\n",
      "Searching for 'ROP' in r/wallstreetbets...\n",
      "Found 14 posts and 14 comments\n",
      "Searching for 'ROST' in r/wallstreetbets...\n",
      "Found 39 posts and 10 comments\n",
      "Searching for 'RCL' in r/wallstreetbets...\n",
      "Found 44 posts and 82 comments\n",
      "Searching for 'SPGI' in r/wallstreetbets...\n",
      "Found 13 posts and 1 comments\n",
      "Searching for 'CRM' in r/wallstreetbets...\n",
      "Found 30 posts and 50 comments\n",
      "Searching for 'SBAC' in r/wallstreetbets...\n",
      "Found 11 posts and 2 comments\n",
      "Searching for 'SLB' in r/wallstreetbets...\n",
      "Found 36 posts and 11 comments\n",
      "Searching for 'STX' in r/wallstreetbets...\n",
      "Found 36 posts and 27 comments\n",
      "Searching for 'SRE' in r/wallstreetbets...\n",
      "Found 15 posts and 2 comments\n",
      "Searching for 'NOW' in r/wallstreetbets...\n",
      "Found 50 posts and 127 comments\n",
      "Searching for 'SHW' in r/wallstreetbets...\n",
      "Found 19 posts and 1 comments\n",
      "Searching for 'SPG' in r/wallstreetbets...\n",
      "Found 36 posts and 48 comments\n",
      "Searching for 'SWKS' in r/wallstreetbets...\n",
      "Found 41 posts and 12 comments\n",
      "Searching for 'SJM' in r/wallstreetbets...\n",
      "Found 32 posts and 8 comments\n",
      "Searching for 'SW' in r/wallstreetbets...\n",
      "Found 38 posts and 16 comments\n",
      "Searching for 'SNA' in r/wallstreetbets...\n",
      "Found 14 posts and 12 comments\n",
      "Searching for 'SOLV' in r/wallstreetbets...\n",
      "Found 36 posts and 14 comments\n",
      "Searching for 'SO' in r/wallstreetbets...\n",
      "Found 50 posts and 187 comments\n",
      "Searching for 'LUV' in r/wallstreetbets...\n",
      "Found 19 posts and 35 comments\n",
      "Searching for 'SWK' in r/wallstreetbets...\n",
      "Found 25 posts and 4 comments\n",
      "Searching for 'SBUX' in r/wallstreetbets...\n",
      "Found 36 posts and 81 comments\n",
      "Searching for 'STT' in r/wallstreetbets...\n",
      "Found 18 posts and 0 comments\n",
      "Searching for 'STLD' in r/wallstreetbets...\n",
      "Found 38 posts and 12 comments\n",
      "Searching for 'STE' in r/wallstreetbets...\n",
      "Found 7 posts and 12 comments\n",
      "Searching for 'SYK' in r/wallstreetbets...\n",
      "Found 21 posts and 2 comments\n",
      "Searching for 'SMCI' in r/wallstreetbets...\n",
      "Found 47 posts and 116 comments\n",
      "Searching for 'SYF' in r/wallstreetbets...\n",
      "Found 22 posts and 4 comments\n",
      "Searching for 'SNPS' in r/wallstreetbets...\n",
      "Found 15 posts and 3 comments\n",
      "Searching for 'SYY' in r/wallstreetbets...\n",
      "Found 43 posts and 7 comments\n",
      "Searching for 'TMUS' in r/wallstreetbets...\n",
      "Found 30 posts and 43 comments\n",
      "Searching for 'TROW' in r/wallstreetbets...\n",
      "Found 23 posts and 10 comments\n",
      "Searching for 'TTWO' in r/wallstreetbets...\n",
      "Found 43 posts and 79 comments\n",
      "Searching for 'TPR' in r/wallstreetbets...\n",
      "Found 20 posts and 8 comments\n",
      "Searching for 'TRGP' in r/wallstreetbets...\n",
      "Found 7 posts and 0 comments\n",
      "Searching for 'TGT' in r/wallstreetbets...\n",
      "Found 38 posts and 58 comments\n",
      "Searching for 'TEL' in r/wallstreetbets...\n",
      "Found 31 posts and 22 comments\n",
      "Searching for 'TDY' in r/wallstreetbets...\n",
      "Found 9 posts and 0 comments\n",
      "Searching for 'TER' in r/wallstreetbets...\n",
      "Found 35 posts and 139 comments\n",
      "Searching for 'TSLA' in r/wallstreetbets...\n",
      "Found 50 posts and 67 comments\n",
      "Searching for 'TXN' in r/wallstreetbets...\n",
      "Found 23 posts and 18 comments\n",
      "Searching for 'TPL' in r/wallstreetbets...\n",
      "Found 18 posts and 10 comments\n",
      "Searching for 'TXT' in r/wallstreetbets...\n",
      "Found 41 posts and 11 comments\n",
      "Searching for 'TMO' in r/wallstreetbets...\n",
      "Found 11 posts and 9 comments\n",
      "Searching for 'TJX' in r/wallstreetbets...\n",
      "Found 27 posts and 23 comments\n",
      "Searching for 'TKO' in r/wallstreetbets...\n",
      "Found 18 posts and 34 comments\n",
      "Searching for 'TSCO' in r/wallstreetbets...\n",
      "Found 20 posts and 4 comments\n",
      "Searching for 'TT' in r/wallstreetbets...\n",
      "Found 32 posts and 92 comments\n",
      "Searching for 'TDG' in r/wallstreetbets...\n",
      "Found 21 posts and 1 comments\n",
      "Searching for 'TRV' in r/wallstreetbets...\n",
      "Found 34 posts and 8 comments\n",
      "Searching for 'TRMB' in r/wallstreetbets...\n",
      "Found 3 posts and 0 comments\n",
      "Searching for 'TFC' in r/wallstreetbets...\n",
      "Found 23 posts and 10 comments\n",
      "Searching for 'TYL' in r/wallstreetbets...\n",
      "Found 9 posts and 4 comments\n",
      "Searching for 'TSN' in r/wallstreetbets...\n",
      "Found 40 posts and 19 comments\n",
      "Searching for 'USB' in r/wallstreetbets...\n",
      "Found 24 posts and 18 comments\n",
      "Searching for 'UBER' in r/wallstreetbets...\n",
      "Found 37 posts and 137 comments\n",
      "Searching for 'UDR' in r/wallstreetbets...\n",
      "Found 6 posts and 0 comments\n",
      "Searching for 'ULTA' in r/wallstreetbets...\n",
      "Found 33 posts and 72 comments\n",
      "Searching for 'UNP' in r/wallstreetbets...\n",
      "Found 19 posts and 5 comments\n",
      "Searching for 'UAL' in r/wallstreetbets...\n",
      "Found 46 posts and 96 comments\n",
      "Searching for 'UPS' in r/wallstreetbets...\n",
      "Found 2 posts and 7 comments\n",
      "Searching for 'URI' in r/wallstreetbets...\n",
      "Found 37 posts and 26 comments\n",
      "Searching for 'UNH' in r/wallstreetbets...\n",
      "Found 30 posts and 64 comments\n",
      "Searching for 'UHS' in r/wallstreetbets...\n",
      "Found 0 posts and 0 comments\n",
      "Searching for 'VLO' in r/wallstreetbets...\n",
      "Found 37 posts and 18 comments\n",
      "Searching for 'VTR' in r/wallstreetbets...\n",
      "Found 12 posts and 2 comments\n",
      "Searching for 'VLTO' in r/wallstreetbets...\n",
      "Found 1 posts and 0 comments\n",
      "Searching for 'VRSN' in r/wallstreetbets...\n",
      "Found 11 posts and 3 comments\n",
      "Searching for 'VRSK' in r/wallstreetbets...\n",
      "Found 5 posts and 0 comments\n",
      "Searching for 'VZ' in r/wallstreetbets...\n",
      "Found 29 posts and 47 comments\n",
      "Searching for 'VRTX' in r/wallstreetbets...\n",
      "Found 28 posts and 12 comments\n",
      "Searching for 'VTRS' in r/wallstreetbets...\n",
      "Found 18 posts and 19 comments\n",
      "Searching for 'VICI' in r/wallstreetbets...\n",
      "Found 12 posts and 15 comments\n",
      "Searching for 'V' in r/wallstreetbets...\n",
      "Found 38 posts and 335 comments\n",
      "Searching for 'VST' in r/wallstreetbets...\n",
      "Found 29 posts and 26 comments\n",
      "Searching for 'VMC' in r/wallstreetbets...\n",
      "Found 15 posts and 1 comments\n",
      "Searching for 'WRB' in r/wallstreetbets...\n",
      "Found 1 posts and 0 comments\n",
      "Searching for 'GWW' in r/wallstreetbets...\n",
      "Found 20 posts and 1 comments\n",
      "Searching for 'WAB' in r/wallstreetbets...\n",
      "Found 15 posts and 0 comments\n",
      "Searching for 'WBA' in r/wallstreetbets...\n",
      "Found 43 posts and 56 comments\n",
      "Searching for 'WMT' in r/wallstreetbets...\n",
      "Found 22 posts and 49 comments\n",
      "Searching for 'DIS' in r/wallstreetbets...\n",
      "Found 42 posts and 220 comments\n",
      "Searching for 'WBD' in r/wallstreetbets...\n",
      "Found 35 posts and 65 comments\n",
      "Searching for 'WM' in r/wallstreetbets...\n",
      "Found 26 posts and 22 comments\n",
      "Searching for 'WAT' in r/wallstreetbets...\n",
      "Found 4 posts and 3 comments\n",
      "Searching for 'WEC' in r/wallstreetbets...\n",
      "Found 14 posts and 0 comments\n",
      "Searching for 'WFC' in r/wallstreetbets...\n",
      "Found 26 posts and 51 comments\n",
      "Searching for 'WELL' in r/wallstreetbets...\n",
      "Found 48 posts and 44 comments\n",
      "Searching for 'WST' in r/wallstreetbets...\n",
      "Found 8 posts and 0 comments\n",
      "Searching for 'WDC' in r/wallstreetbets...\n",
      "Found 45 posts and 81 comments\n",
      "Searching for 'WY' in r/wallstreetbets...\n",
      "Found 34 posts and 15 comments\n",
      "Searching for 'WSM' in r/wallstreetbets...\n",
      "Found 31 posts and 16 comments\n",
      "Searching for 'WMB' in r/wallstreetbets...\n",
      "Found 14 posts and 1 comments\n",
      "Searching for 'WTW' in r/wallstreetbets...\n",
      "Found 48 posts and 24 comments\n",
      "Searching for 'WDAY' in r/wallstreetbets...\n",
      "Found 42 posts and 27 comments\n",
      "Searching for 'WYNN' in r/wallstreetbets...\n",
      "Found 45 posts and 97 comments\n",
      "Searching for 'XEL' in r/wallstreetbets...\n",
      "Found 13 posts and 1 comments\n",
      "Searching for 'XYL' in r/wallstreetbets...\n",
      "Found 17 posts and 0 comments\n",
      "Searching for 'YUM' in r/wallstreetbets...\n",
      "Found 14 posts and 22 comments\n",
      "Searching for 'ZBRA' in r/wallstreetbets...\n",
      "Found 8 posts and 0 comments\n",
      "Searching for 'ZBH' in r/wallstreetbets...\n",
      "Found 8 posts and 0 comments\n",
      "Searching for 'ZTS' in r/wallstreetbets...\n",
      "Found 17 posts and 5 comments\n"
     ]
    }
   ],
   "source": [
    "subreddits = ['stocks','wallstreetbets']\n",
    "all_posts = pd.DataFrame()\n",
    "all_comments = pd.DataFrame()\n",
    "for subreddit in subreddits:\n",
    "    for ticker in sp500_tickers:\n",
    "        posts_df , comments_df = get_reddit_data(\n",
    "            reddit, subreddit, data_type='search',search_term=ticker,\n",
    "            limit=50, comment_limit=20\n",
    "        )\n",
    "        all_posts= pd.concat([all_posts, posts_df],ignore_index = True)\n",
    "        all_comments = pd.concat([all_comments,comments_df],ignore_index=True)\n",
    "        time.sleep(1)    "
   ]
  },
  {
   "cell_type": "code",
   "execution_count": 33,
   "metadata": {},
   "outputs": [],
   "source": [
    "all_posts.to_csv('./data/reddit/posts_stock_specific.csv')\n",
    "all_comments.to_csv('./data/reddit/comments_stock_specific.csv')"
   ]
  },
  {
   "cell_type": "markdown",
   "metadata": {},
   "source": [
    "# Financial Data Collector"
   ]
  },
  {
   "cell_type": "code",
   "execution_count": 25,
   "metadata": {},
   "outputs": [
    {
     "name": "stdout",
     "output_type": "stream",
     "text": [
      "Setup complete!\n"
     ]
    }
   ],
   "source": [
    "# Create data directory\n",
    "data_dir = \"./data/financial_data\"\n",
    "os.makedirs(data_dir, exist_ok=True)\n",
    "\n",
    "print(\"Setup complete!\")"
   ]
  },
  {
   "cell_type": "markdown",
   "metadata": {},
   "source": [
    "### API configuration & Setting up ticker to cik json file to download from edgar based on cik value with leading zeros"
   ]
  },
  {
   "cell_type": "code",
   "execution_count": 26,
   "metadata": {},
   "outputs": [
    {
     "name": "stdout",
     "output_type": "stream",
     "text": [
      "Loaded ticker data for 10046 companies\n",
      "Sample ticker data:\n",
      "API configuration set!\n"
     ]
    }
   ],
   "source": [
    "# IMPORTANT: Replace with your actual information as required by SEC\n",
    "\n",
    "\n",
    "# Set my identity for the SEC (First name last name and email)\n",
    "name = \"Maseeh\"\n",
    "surname = \"Faizan\"\n",
    "email = \"maseehfaizan@gmail.com\"\n",
    "headers = {'User-Agent': f'{name} {surname} {email}'}\n",
    "\n",
    "# Get ticker data\n",
    "ticker = requests.get('https://www.sec.gov/files/company_tickers.json', headers=headers).json()\n",
    "ticker_df = pd.DataFrame.from_dict(ticker, orient='index')\n",
    "ticker_df.rename(columns={'cik_str':'cik','title':'name'}, inplace=True)\n",
    "\n",
    "# Fill in the cik code and add the leading zeros\n",
    "ticker_df['cik'] = ticker_df['cik'].astype(str).str.zfill(10)\n",
    "\n",
    "print(f\"Loaded ticker data for {len(ticker_df)} companies\")\n",
    "print(\"Sample ticker data:\")\n",
    "\n",
    "\n",
    "# API endpoints\n",
    "COMPANY_FACTS_URL = \"https://data.sec.gov/api/xbrl/companyfacts/CIK{}.json\"\n",
    "\n",
    "print(\"API configuration set!\")"
   ]
  },
  {
   "cell_type": "code",
   "execution_count": 27,
   "metadata": {},
   "outputs": [
    {
     "name": "stdout",
     "output_type": "stream",
     "text": [
      "Ready to start downloading!\n"
     ]
    }
   ],
   "source": [
    "# Variables to track progress\n",
    "processed_companies = []\n",
    "failed_companies = []\n",
    "all_raw_data = []\n",
    "\n",
    "# Processing parameters\n",
    "delay_between_requests = 0.5  # seconds\n",
    "max_retries = 3\n",
    "\n",
    "print(\"Ready to start downloading!\")"
   ]
  },
  {
   "cell_type": "code",
   "execution_count": 28,
   "metadata": {},
   "outputs": [],
   "source": [
    "# Create a helper function to get CIK from ticker using your ticker_df\n",
    "def get_cik_from_ticker(symbol):\n",
    "    \"\"\"Get CIK for a given ticker symbol from ticker_df\"\"\"\n",
    "    result = ticker_df[ticker_df['ticker'] == symbol.upper()]\n",
    "    if not result.empty:\n",
    "        return result.iloc[0]['cik']\n",
    "    else:\n",
    "        return None"
   ]
  },
  {
   "cell_type": "markdown",
   "metadata": {},
   "source": [
    "### Main Downloading function"
   ]
  },
  {
   "cell_type": "code",
   "execution_count": null,
   "metadata": {},
   "outputs": [
    {
     "name": "stderr",
     "output_type": "stream",
     "text": [
      "Downloading financial data:   0%|          | 0/503 [00:00<?, ?it/s]"
     ]
    },
    {
     "name": "stdout",
     "output_type": "stream",
     "text": [
      "\n",
      "Processing MMM (1/503)\n",
      "Found CIK: 0000066740 for MMM\n",
      "Processing data for 3M COMPANY\n",
      "Saved 33120 records for MMM\n"
     ]
    },
    {
     "name": "stderr",
     "output_type": "stream",
     "text": [
      "Downloading financial data:   0%|          | 1/503 [00:01<14:17,  1.71s/it]"
     ]
    },
    {
     "name": "stdout",
     "output_type": "stream",
     "text": [
      "\n",
      "Processing AOS (2/503)\n",
      "Found CIK: 0000091142 for AOS\n",
      "Processing data for A. O. Smith Corporation\n",
      "Saved 19078 records for AOS\n"
     ]
    },
    {
     "name": "stderr",
     "output_type": "stream",
     "text": [
      "Downloading financial data:   0%|          | 2/503 [00:03<13:13,  1.58s/it]"
     ]
    },
    {
     "name": "stdout",
     "output_type": "stream",
     "text": [
      "\n",
      "Processing ABT (3/503)\n",
      "Found CIK: 0000001800 for ABT\n",
      "Processing data for ABBOTT LABORATORIES\n",
      "Saved 21203 records for ABT\n"
     ]
    },
    {
     "name": "stderr",
     "output_type": "stream",
     "text": [
      "Downloading financial data:   1%|          | 3/503 [00:04<11:21,  1.36s/it]"
     ]
    },
    {
     "name": "stdout",
     "output_type": "stream",
     "text": [
      "\n",
      "Processing ABBV (4/503)\n",
      "Found CIK: 0001551152 for ABBV\n",
      "Processing data for AbbVie Inc.\n",
      "Saved 18538 records for ABBV\n"
     ]
    },
    {
     "name": "stderr",
     "output_type": "stream",
     "text": [
      "Downloading financial data:   1%|          | 4/503 [00:05<11:46,  1.42s/it]"
     ]
    },
    {
     "name": "stdout",
     "output_type": "stream",
     "text": [
      "\n",
      "Processing ACN (5/503)\n",
      "Found CIK: 0001467373 for ACN\n",
      "Processing data for Accenture plc\n",
      "Saved 27113 records for ACN\n"
     ]
    },
    {
     "name": "stderr",
     "output_type": "stream",
     "text": [
      "Downloading financial data:   1%|          | 5/503 [00:07<11:12,  1.35s/it]"
     ]
    },
    {
     "name": "stdout",
     "output_type": "stream",
     "text": [
      "\n",
      "Processing ADBE (6/503)\n",
      "Found CIK: 0000796343 for ADBE\n",
      "Processing data for ADOBE INC.\n",
      "Saved 26823 records for ADBE\n"
     ]
    },
    {
     "name": "stderr",
     "output_type": "stream",
     "text": [
      "Downloading financial data:   1%|          | 6/503 [00:08<10:41,  1.29s/it]"
     ]
    },
    {
     "name": "stdout",
     "output_type": "stream",
     "text": [
      "\n",
      "Processing AMD (7/503)\n",
      "Found CIK: 0000002488 for AMD\n",
      "Processing data for ADVANCED MICRO DEVICES, INC\n",
      "Saved 21731 records for AMD\n"
     ]
    },
    {
     "name": "stderr",
     "output_type": "stream",
     "text": [
      "Downloading financial data:   1%|▏         | 7/503 [00:09<10:27,  1.27s/it]"
     ]
    },
    {
     "name": "stdout",
     "output_type": "stream",
     "text": [
      "\n",
      "Processing AES (8/503)\n",
      "Found CIK: 0000874761 for AES\n",
      "Processing data for THE AES CORPORATION\n",
      "Saved 38498 records for AES\n"
     ]
    },
    {
     "name": "stderr",
     "output_type": "stream",
     "text": [
      "Downloading financial data:   2%|▏         | 8/503 [00:10<11:00,  1.33s/it]"
     ]
    },
    {
     "name": "stdout",
     "output_type": "stream",
     "text": [
      "\n",
      "Processing AFL (9/503)\n",
      "Found CIK: 0000004977 for AFL\n",
      "Processing data for Aflac Incorporated\n",
      "Saved 32000 records for AFL\n"
     ]
    },
    {
     "name": "stderr",
     "output_type": "stream",
     "text": [
      "Downloading financial data:   2%|▏         | 9/503 [00:12<10:40,  1.30s/it]"
     ]
    },
    {
     "name": "stdout",
     "output_type": "stream",
     "text": [
      "\n",
      "Processing A (10/503)\n",
      "Found CIK: 0001090872 for A\n",
      "Processing data for AGILENT TECHNOLOGIES, INC.\n",
      "Saved 31219 records for A\n"
     ]
    },
    {
     "name": "stderr",
     "output_type": "stream",
     "text": [
      "Downloading financial data:   2%|▏         | 10/503 [00:13<10:50,  1.32s/it]"
     ]
    },
    {
     "name": "stdout",
     "output_type": "stream",
     "text": [
      "\n",
      "Processing APD (11/503)\n",
      "Found CIK: 0000002969 for APD\n",
      "Processing data for AIR PRODUCTS AND CHEMICALS, INC.\n",
      "Saved 32220 records for APD\n"
     ]
    },
    {
     "name": "stderr",
     "output_type": "stream",
     "text": [
      "Downloading financial data:   2%|▏         | 11/503 [00:14<10:48,  1.32s/it]"
     ]
    },
    {
     "name": "stdout",
     "output_type": "stream",
     "text": [
      "\n",
      "Processing ABNB (12/503)\n",
      "Found CIK: 0001559720 for ABNB\n",
      "Processing data for Airbnb, Inc.\n",
      "Saved 6160 records for ABNB\n"
     ]
    },
    {
     "name": "stderr",
     "output_type": "stream",
     "text": [
      "Downloading financial data:   2%|▏         | 12/503 [00:15<09:52,  1.21s/it]"
     ]
    },
    {
     "name": "stdout",
     "output_type": "stream",
     "text": [
      "\n",
      "Processing AKAM (13/503)\n",
      "Found CIK: 0001086222 for AKAM\n",
      "Processing data for Akamai Technologies, Inc\n",
      "Saved 23946 records for AKAM\n"
     ]
    },
    {
     "name": "stderr",
     "output_type": "stream",
     "text": [
      "Downloading financial data:   3%|▎         | 13/503 [00:16<09:43,  1.19s/it]"
     ]
    },
    {
     "name": "stdout",
     "output_type": "stream",
     "text": [
      "\n",
      "Processing ALB (14/503)\n",
      "Found CIK: 0000915913 for ALB\n",
      "Processing data for ALBEMARLE CORPORATION\n",
      "Saved 28535 records for ALB\n"
     ]
    },
    {
     "name": "stderr",
     "output_type": "stream",
     "text": [
      "Downloading financial data:   3%|▎         | 14/503 [00:18<10:01,  1.23s/it]"
     ]
    },
    {
     "name": "stdout",
     "output_type": "stream",
     "text": [
      "\n",
      "Processing ARE (15/503)\n",
      "Found CIK: 0001035443 for ARE\n",
      "Processing data for ALEXANDRIA REAL ESTATE EQUITIES, INC.\n",
      "Saved 24205 records for ARE\n"
     ]
    },
    {
     "name": "stderr",
     "output_type": "stream",
     "text": [
      "Downloading financial data:   3%|▎         | 15/503 [00:19<09:58,  1.23s/it]"
     ]
    },
    {
     "name": "stdout",
     "output_type": "stream",
     "text": [
      "\n",
      "Processing ALGN (16/503)\n",
      "Found CIK: 0001097149 for ALGN\n",
      "Processing data for ALIGN TECHNOLOGY, INC.\n",
      "Saved 20250 records for ALGN\n"
     ]
    },
    {
     "name": "stderr",
     "output_type": "stream",
     "text": [
      "Downloading financial data:   3%|▎         | 16/503 [00:20<09:42,  1.20s/it]"
     ]
    },
    {
     "name": "stdout",
     "output_type": "stream",
     "text": [
      "\n",
      "Processing ALLE (17/503)\n",
      "Found CIK: 0001579241 for ALLE\n",
      "Processing data for Allegion plc\n",
      "Saved 17510 records for ALLE\n"
     ]
    },
    {
     "name": "stderr",
     "output_type": "stream",
     "text": [
      "Downloading financial data:   3%|▎         | 17/503 [00:22<10:49,  1.34s/it]"
     ]
    },
    {
     "name": "stdout",
     "output_type": "stream",
     "text": [
      "\n",
      "Processing LNT (18/503)\n",
      "Found CIK: 0000352541 for LNT\n",
      "Processing data for ALLIANT ENERGY CORP\n",
      "Saved 21147 records for LNT\n"
     ]
    },
    {
     "name": "stderr",
     "output_type": "stream",
     "text": [
      "Downloading financial data:   4%|▎         | 18/503 [00:23<10:28,  1.30s/it]"
     ]
    },
    {
     "name": "stdout",
     "output_type": "stream",
     "text": [
      "\n",
      "Processing ALL (19/503)\n",
      "Found CIK: 0000899051 for ALL\n",
      "Processing data for ALLSTATE CORP\n",
      "Saved 36294 records for ALL\n"
     ]
    },
    {
     "name": "stderr",
     "output_type": "stream",
     "text": [
      "Downloading financial data:   4%|▍         | 19/503 [00:24<10:30,  1.30s/it]"
     ]
    },
    {
     "name": "stdout",
     "output_type": "stream",
     "text": [
      "\n",
      "Processing GOOGL (20/503)\n",
      "Found CIK: 0001652044 for GOOGL\n",
      "Processing data for Alphabet Inc.\n",
      "Saved 18118 records for GOOGL\n"
     ]
    },
    {
     "name": "stderr",
     "output_type": "stream",
     "text": [
      "Downloading financial data:   4%|▍         | 20/503 [00:25<10:05,  1.25s/it]"
     ]
    },
    {
     "name": "stdout",
     "output_type": "stream",
     "text": [
      "\n",
      "Processing GOOG (21/503)\n",
      "Found CIK: 0001652044 for GOOG\n",
      "Processing data for Alphabet Inc.\n",
      "Saved 18118 records for GOOG\n"
     ]
    },
    {
     "name": "stderr",
     "output_type": "stream",
     "text": [
      "Downloading financial data:   4%|▍         | 21/503 [00:26<09:34,  1.19s/it]"
     ]
    },
    {
     "name": "stdout",
     "output_type": "stream",
     "text": [
      "\n",
      "Processing MO (22/503)\n",
      "Found CIK: 0000764180 for MO\n",
      "Processing data for Altria Group, Inc.\n",
      "Saved 23054 records for MO\n"
     ]
    },
    {
     "name": "stderr",
     "output_type": "stream",
     "text": [
      "Downloading financial data:   4%|▍         | 22/503 [00:28<09:23,  1.17s/it]"
     ]
    },
    {
     "name": "stdout",
     "output_type": "stream",
     "text": [
      "\n",
      "Processing AMZN (23/503)\n",
      "Found CIK: 0001018724 for AMZN\n",
      "Processing data for AMAZON.COM, INC.\n",
      "Saved 27053 records for AMZN\n"
     ]
    },
    {
     "name": "stderr",
     "output_type": "stream",
     "text": [
      "Downloading financial data:   5%|▍         | 23/503 [00:29<09:53,  1.24s/it]"
     ]
    },
    {
     "name": "stdout",
     "output_type": "stream",
     "text": [
      "\n",
      "Processing AMCR (24/503)\n",
      "Found CIK: 0001748790 for AMCR\n",
      "Processing data for AMCOR PLC\n",
      "Saved 11745 records for AMCR\n"
     ]
    },
    {
     "name": "stderr",
     "output_type": "stream",
     "text": [
      "Downloading financial data:   5%|▍         | 24/503 [00:30<09:29,  1.19s/it]"
     ]
    },
    {
     "name": "stdout",
     "output_type": "stream",
     "text": [
      "\n",
      "Processing AEE (25/503)\n",
      "Found CIK: 0001002910 for AEE\n",
      "Processing data for Ameren Corporation\n",
      "Saved 25488 records for AEE\n"
     ]
    },
    {
     "name": "stderr",
     "output_type": "stream",
     "text": [
      "Downloading financial data:   5%|▍         | 25/503 [00:31<09:18,  1.17s/it]"
     ]
    },
    {
     "name": "stdout",
     "output_type": "stream",
     "text": [
      "\n",
      "Processing AEP (26/503)\n",
      "Found CIK: 0000004904 for AEP\n",
      "Processing data for AMERICAN ELECTRIC POWER CO INC.\n",
      "Saved 33605 records for AEP\n"
     ]
    },
    {
     "name": "stderr",
     "output_type": "stream",
     "text": [
      "Downloading financial data:   5%|▌         | 26/503 [00:32<09:31,  1.20s/it]"
     ]
    },
    {
     "name": "stdout",
     "output_type": "stream",
     "text": [
      "\n",
      "Processing AXP (27/503)\n",
      "Found CIK: 0000004962 for AXP\n",
      "Processing data for AMERICAN EXPRESS COMPANY\n",
      "Saved 29580 records for AXP\n"
     ]
    },
    {
     "name": "stderr",
     "output_type": "stream",
     "text": [
      "Downloading financial data:   5%|▌         | 27/503 [00:34<09:50,  1.24s/it]"
     ]
    },
    {
     "name": "stdout",
     "output_type": "stream",
     "text": [
      "\n",
      "Processing AIG (28/503)\n",
      "Found CIK: 0000005272 for AIG\n",
      "Processing data for American International Group, Inc.\n",
      "Saved 42405 records for AIG\n"
     ]
    },
    {
     "name": "stderr",
     "output_type": "stream",
     "text": [
      "Downloading financial data:   6%|▌         | 28/503 [00:35<10:30,  1.33s/it]"
     ]
    },
    {
     "name": "stdout",
     "output_type": "stream",
     "text": [
      "\n",
      "Processing AMT (29/503)\n",
      "Found CIK: 0001053507 for AMT\n",
      "Processing data for AMERICAN TOWER CORPORATION\n",
      "Saved 30069 records for AMT\n"
     ]
    },
    {
     "name": "stderr",
     "output_type": "stream",
     "text": [
      "Downloading financial data:   6%|▌         | 29/503 [00:37<10:14,  1.30s/it]"
     ]
    },
    {
     "name": "stdout",
     "output_type": "stream",
     "text": [
      "\n",
      "Processing AWK (30/503)\n",
      "Found CIK: 0001410636 for AWK\n",
      "Processing data for AMERICAN WATER WORKS COMPANY, INC.\n",
      "Saved 23903 records for AWK\n"
     ]
    },
    {
     "name": "stderr",
     "output_type": "stream",
     "text": [
      "Downloading financial data:   6%|▌         | 30/503 [00:38<10:14,  1.30s/it]"
     ]
    },
    {
     "name": "stdout",
     "output_type": "stream",
     "text": [
      "\n",
      "Processing AMP (31/503)\n",
      "Found CIK: 0000820027 for AMP\n",
      "Processing data for AMERIPRISE FINANCIAL, INC.\n",
      "Saved 30962 records for AMP\n"
     ]
    },
    {
     "name": "stderr",
     "output_type": "stream",
     "text": [
      "Downloading financial data:   6%|▌         | 31/503 [00:39<10:33,  1.34s/it]"
     ]
    },
    {
     "name": "stdout",
     "output_type": "stream",
     "text": [
      "\n",
      "Processing AME (32/503)\n",
      "Found CIK: 0001037868 for AME\n",
      "Processing data for AMETEK, Inc.\n",
      "Saved 22051 records for AME\n"
     ]
    },
    {
     "name": "stderr",
     "output_type": "stream",
     "text": [
      "Downloading financial data:   6%|▋         | 32/503 [00:40<10:14,  1.30s/it]"
     ]
    },
    {
     "name": "stdout",
     "output_type": "stream",
     "text": [
      "\n",
      "Processing AMGN (33/503)\n",
      "Found CIK: 0000318154 for AMGN\n",
      "Processing data for Amgen Inc.\n",
      "Saved 22908 records for AMGN\n"
     ]
    },
    {
     "name": "stderr",
     "output_type": "stream",
     "text": [
      "Downloading financial data:   7%|▋         | 33/503 [00:42<09:59,  1.28s/it]"
     ]
    },
    {
     "name": "stdout",
     "output_type": "stream",
     "text": [
      "\n",
      "Processing APH (34/503)\n",
      "Found CIK: 0000820313 for APH\n",
      "Processing data for AMPHENOL CORPORATION\n",
      "Saved 21667 records for APH\n"
     ]
    },
    {
     "name": "stderr",
     "output_type": "stream",
     "text": [
      "Downloading financial data:   7%|▋         | 34/503 [00:43<09:33,  1.22s/it]"
     ]
    },
    {
     "name": "stdout",
     "output_type": "stream",
     "text": [
      "\n",
      "Processing ADI (35/503)\n",
      "Found CIK: 0000006281 for ADI\n",
      "Processing data for Analog Devices, Inc.\n",
      "Saved 27652 records for ADI\n"
     ]
    },
    {
     "name": "stderr",
     "output_type": "stream",
     "text": [
      "Downloading financial data:   7%|▋         | 35/503 [00:44<09:48,  1.26s/it]"
     ]
    },
    {
     "name": "stdout",
     "output_type": "stream",
     "text": [
      "\n",
      "Processing ANSS (36/503)\n",
      "Found CIK: 0001013462 for ANSS\n",
      "Processing data for ANSYS, Inc.\n",
      "Saved 21699 records for ANSS\n"
     ]
    },
    {
     "name": "stderr",
     "output_type": "stream",
     "text": [
      "Downloading financial data:   7%|▋         | 36/503 [00:46<10:03,  1.29s/it]"
     ]
    },
    {
     "name": "stdout",
     "output_type": "stream",
     "text": [
      "\n",
      "Processing AON (37/503)\n",
      "Found CIK: 0000315293 for AON\n",
      "Processing data for Aon plc\n",
      "Saved 29349 records for AON\n"
     ]
    },
    {
     "name": "stderr",
     "output_type": "stream",
     "text": [
      "Downloading financial data:   7%|▋         | 37/503 [00:47<10:16,  1.32s/it]"
     ]
    },
    {
     "name": "stdout",
     "output_type": "stream",
     "text": [
      "\n",
      "Processing APA (38/503)\n",
      "Found CIK: 0001841666 for APA\n",
      "Processing data for APA CORPORATION\n",
      "Saved 6573 records for APA\n"
     ]
    },
    {
     "name": "stderr",
     "output_type": "stream",
     "text": [
      "Downloading financial data:   8%|▊         | 38/503 [00:48<09:29,  1.23s/it]"
     ]
    },
    {
     "name": "stdout",
     "output_type": "stream",
     "text": [
      "\n",
      "Processing APO (39/503)\n",
      "Found CIK: 0001858681 for APO\n",
      "Processing data for APOLLO GLOBAL MANAGEMENT, INC.\n",
      "Saved 6292 records for APO\n"
     ]
    },
    {
     "name": "stderr",
     "output_type": "stream",
     "text": [
      "Downloading financial data:   8%|▊         | 39/503 [00:49<09:01,  1.17s/it]"
     ]
    },
    {
     "name": "stdout",
     "output_type": "stream",
     "text": [
      "\n",
      "Processing AAPL (40/503)\n",
      "Found CIK: 0000320193 for AAPL\n",
      "Processing data for Apple Inc.\n",
      "Saved 23613 records for AAPL\n"
     ]
    },
    {
     "name": "stderr",
     "output_type": "stream",
     "text": [
      "Downloading financial data:   8%|▊         | 40/503 [00:50<09:20,  1.21s/it]"
     ]
    },
    {
     "name": "stdout",
     "output_type": "stream",
     "text": [
      "\n",
      "Processing AMAT (41/503)\n",
      "Found CIK: 0000006951 for AMAT\n",
      "Processing data for APPLIED MATERIALS INC /DE\n",
      "Saved 28189 records for AMAT\n"
     ]
    },
    {
     "name": "stderr",
     "output_type": "stream",
     "text": [
      "Downloading financial data:   8%|▊         | 41/503 [00:52<09:33,  1.24s/it]"
     ]
    },
    {
     "name": "stdout",
     "output_type": "stream",
     "text": [
      "\n",
      "Processing APTV (42/503)\n",
      "Found CIK: 0001521332 for APTV\n",
      "Processing data for APTIV PLC\n",
      "Saved 28509 records for APTV\n"
     ]
    },
    {
     "name": "stderr",
     "output_type": "stream",
     "text": [
      "Downloading financial data:   8%|▊         | 42/503 [00:53<09:39,  1.26s/it]"
     ]
    },
    {
     "name": "stdout",
     "output_type": "stream",
     "text": [
      "\n",
      "Processing ACGL (43/503)\n",
      "Found CIK: 0000947484 for ACGL\n",
      "Processing data for ARCH CAPITAL GROUP LTD.\n",
      "Saved 31476 records for ACGL\n"
     ]
    },
    {
     "name": "stderr",
     "output_type": "stream",
     "text": [
      "Downloading financial data:   9%|▊         | 43/503 [00:54<09:38,  1.26s/it]"
     ]
    },
    {
     "name": "stdout",
     "output_type": "stream",
     "text": [
      "\n",
      "Processing ADM (44/503)\n",
      "Found CIK: 0000007084 for ADM\n",
      "Processing data for ARCHER-DANIELS-MIDLAND CO\n",
      "Saved 28397 records for ADM\n"
     ]
    },
    {
     "name": "stderr",
     "output_type": "stream",
     "text": [
      "Downloading financial data:   9%|▊         | 44/503 [00:56<10:07,  1.32s/it]"
     ]
    },
    {
     "name": "stdout",
     "output_type": "stream",
     "text": [
      "\n",
      "Processing ANET (45/503)\n",
      "Found CIK: 0001596532 for ANET\n",
      "Processing data for Arista Networks, Inc.\n",
      "Saved 18477 records for ANET\n"
     ]
    },
    {
     "name": "stderr",
     "output_type": "stream",
     "text": [
      "Downloading financial data:   9%|▉         | 45/503 [00:57<09:47,  1.28s/it]"
     ]
    },
    {
     "name": "stdout",
     "output_type": "stream",
     "text": [
      "\n",
      "Processing AJG (46/503)\n",
      "Found CIK: 0000354190 for AJG\n",
      "Processing data for ARTHUR J. GALLAGHER & CO.\n",
      "Saved 24388 records for AJG\n"
     ]
    },
    {
     "name": "stderr",
     "output_type": "stream",
     "text": [
      "Downloading financial data:   9%|▉         | 46/503 [00:58<09:45,  1.28s/it]"
     ]
    },
    {
     "name": "stdout",
     "output_type": "stream",
     "text": [
      "\n",
      "Processing AIZ (47/503)\n",
      "Found CIK: 0001267238 for AIZ\n",
      "Processing data for Assurant, Inc.\n",
      "Saved 30220 records for AIZ\n"
     ]
    },
    {
     "name": "stderr",
     "output_type": "stream",
     "text": [
      "Downloading financial data:   9%|▉         | 47/503 [00:59<09:48,  1.29s/it]"
     ]
    },
    {
     "name": "stdout",
     "output_type": "stream",
     "text": [
      "\n",
      "Processing T (48/503)\n",
      "Found CIK: 0000732717 for T\n",
      "Processing data for AT&T INC.\n",
      "Saved 28537 records for T\n"
     ]
    },
    {
     "name": "stderr",
     "output_type": "stream",
     "text": [
      "Downloading financial data:  10%|▉         | 48/503 [01:01<09:39,  1.27s/it]"
     ]
    },
    {
     "name": "stdout",
     "output_type": "stream",
     "text": [
      "\n",
      "Processing ATO (49/503)\n",
      "Found CIK: 0000731802 for ATO\n",
      "Processing data for Atmos Energy Corp\n",
      "Saved 21604 records for ATO\n"
     ]
    },
    {
     "name": "stderr",
     "output_type": "stream",
     "text": [
      "Downloading financial data:  10%|▉         | 49/503 [01:02<09:33,  1.26s/it]"
     ]
    },
    {
     "name": "stdout",
     "output_type": "stream",
     "text": [
      "\n",
      "Processing ADSK (50/503)\n",
      "Found CIK: 0000769397 for ADSK\n",
      "Processing data for AUTODESK, INC.\n",
      "Saved 25220 records for ADSK\n"
     ]
    },
    {
     "name": "stderr",
     "output_type": "stream",
     "text": [
      "Downloading financial data:  10%|▉         | 50/503 [01:03<09:44,  1.29s/it]"
     ]
    },
    {
     "name": "stdout",
     "output_type": "stream",
     "text": [
      "\n",
      "Processing ADP (51/503)\n",
      "Found CIK: 0000008670 for ADP\n",
      "Processing data for AUTOMATIC DATA PROCESSING, INC.\n",
      "Saved 29939 records for ADP\n"
     ]
    },
    {
     "name": "stderr",
     "output_type": "stream",
     "text": [
      "Downloading financial data:  10%|█         | 51/503 [01:05<10:12,  1.36s/it]"
     ]
    },
    {
     "name": "stdout",
     "output_type": "stream",
     "text": [
      "\n",
      "Processing AZO (52/503)\n",
      "Found CIK: 0000866787 for AZO\n",
      "Processing data for AUTOZONE INC\n",
      "Saved 20987 records for AZO\n"
     ]
    },
    {
     "name": "stderr",
     "output_type": "stream",
     "text": [
      "Downloading financial data:  10%|█         | 52/503 [01:06<10:19,  1.37s/it]"
     ]
    },
    {
     "name": "stdout",
     "output_type": "stream",
     "text": [
      "\n",
      "Processing AVB (53/503)\n",
      "Found CIK: 0000915912 for AVB\n",
      "Processing data for AVALONBAY COMMUNITIES, INC.\n",
      "Saved 23538 records for AVB\n"
     ]
    },
    {
     "name": "stderr",
     "output_type": "stream",
     "text": [
      "Downloading financial data:  11%|█         | 53/503 [01:07<10:07,  1.35s/it]"
     ]
    },
    {
     "name": "stdout",
     "output_type": "stream",
     "text": [
      "\n",
      "Processing AVY (54/503)\n",
      "Found CIK: 0000008818 for AVY\n",
      "Processing data for AVERY DENNISON CORPORATION\n",
      "Saved 19836 records for AVY\n"
     ]
    },
    {
     "name": "stderr",
     "output_type": "stream",
     "text": [
      "Downloading financial data:  11%|█         | 54/503 [01:09<09:42,  1.30s/it]"
     ]
    },
    {
     "name": "stdout",
     "output_type": "stream",
     "text": [
      "\n",
      "Processing AXON (55/503)\n",
      "Found CIK: 0001069183 for AXON\n",
      "Processing data for Axon Enterprise, Inc.\n",
      "Saved 20530 records for AXON\n"
     ]
    },
    {
     "name": "stderr",
     "output_type": "stream",
     "text": [
      "Downloading financial data:  11%|█         | 55/503 [01:10<09:39,  1.29s/it]"
     ]
    },
    {
     "name": "stdout",
     "output_type": "stream",
     "text": [
      "\n",
      "Processing BKR (56/503)\n",
      "Found CIK: 0001701605 for BKR\n",
      "Processing data for Baker Hughes Company\n",
      "Saved 12439 records for BKR\n"
     ]
    },
    {
     "name": "stderr",
     "output_type": "stream",
     "text": [
      "Downloading financial data:  11%|█         | 56/503 [01:11<09:09,  1.23s/it]"
     ]
    },
    {
     "name": "stdout",
     "output_type": "stream",
     "text": [
      "\n",
      "Processing BALL (57/503)\n",
      "Found CIK: 0000009389 for BALL\n",
      "Processing data for BALL Corp\n",
      "Saved 24061 records for BALL\n"
     ]
    },
    {
     "name": "stderr",
     "output_type": "stream",
     "text": [
      "Downloading financial data:  11%|█▏        | 57/503 [01:12<09:14,  1.24s/it]"
     ]
    },
    {
     "name": "stdout",
     "output_type": "stream",
     "text": [
      "\n",
      "Processing BAC (58/503)\n",
      "Found CIK: 0000070858 for BAC\n",
      "Processing data for Bank of America Corporation\n",
      "Saved 41923 records for BAC\n"
     ]
    },
    {
     "name": "stderr",
     "output_type": "stream",
     "text": [
      "Downloading financial data:  12%|█▏        | 58/503 [01:14<09:42,  1.31s/it]"
     ]
    },
    {
     "name": "stdout",
     "output_type": "stream",
     "text": [
      "\n",
      "Processing BAX (59/503)\n",
      "Found CIK: 0000010456 for BAX\n",
      "Processing data for BAXTER INTERNATIONAL INC.\n",
      "Saved 28661 records for BAX\n"
     ]
    },
    {
     "name": "stderr",
     "output_type": "stream",
     "text": [
      "Downloading financial data:  12%|█▏        | 59/503 [01:15<09:42,  1.31s/it]"
     ]
    },
    {
     "name": "stdout",
     "output_type": "stream",
     "text": [
      "\n",
      "Processing BDX (60/503)\n",
      "Found CIK: 0000010795 for BDX\n",
      "Processing data for Becton, Dickinson and Company\n",
      "Saved 21282 records for BDX\n"
     ]
    },
    {
     "name": "stderr",
     "output_type": "stream",
     "text": [
      "Downloading financial data:  12%|█▏        | 60/503 [01:16<09:25,  1.28s/it]"
     ]
    },
    {
     "name": "stdout",
     "output_type": "stream",
     "text": [
      "\n",
      "Processing BRK.B (61/503)\n",
      "Could not find CIK for BRK.B\n",
      "\n",
      "Processing BBY (62/503)\n",
      "Found CIK: 0000764478 for BBY\n",
      "Processing data for BEST BUY CO., INC.\n",
      "Saved 25261 records for BBY\n"
     ]
    },
    {
     "name": "stderr",
     "output_type": "stream",
     "text": [
      "Downloading financial data:  12%|█▏        | 62/503 [01:17<07:11,  1.02it/s]"
     ]
    },
    {
     "name": "stdout",
     "output_type": "stream",
     "text": [
      "\n",
      "Processing TECH (63/503)\n",
      "Found CIK: 0000842023 for TECH\n",
      "Processing data for BIO-TECHNE Corp\n",
      "Saved 21273 records for TECH\n"
     ]
    },
    {
     "name": "stderr",
     "output_type": "stream",
     "text": [
      "Downloading financial data:  13%|█▎        | 63/503 [01:19<07:40,  1.05s/it]"
     ]
    },
    {
     "name": "stdout",
     "output_type": "stream",
     "text": [
      "\n",
      "Processing BIIB (64/503)\n",
      "Found CIK: 0000875045 for BIIB\n",
      "Processing data for BIOGEN INC.\n",
      "Saved 28695 records for BIIB\n"
     ]
    },
    {
     "name": "stderr",
     "output_type": "stream",
     "text": [
      "Downloading financial data:  13%|█▎        | 64/503 [01:20<07:59,  1.09s/it]"
     ]
    },
    {
     "name": "stdout",
     "output_type": "stream",
     "text": [
      "\n",
      "Processing BLK (65/503)\n",
      "Found CIK: 0002012383 for BLK\n",
      "Processing data for BlackRock, Inc.\n",
      "Saved 1279 records for BLK\n"
     ]
    },
    {
     "name": "stderr",
     "output_type": "stream",
     "text": [
      "Downloading financial data:  13%|█▎        | 65/503 [01:21<07:29,  1.03s/it]"
     ]
    },
    {
     "name": "stdout",
     "output_type": "stream",
     "text": [
      "\n",
      "Processing BX (66/503)\n",
      "Found CIK: 0001393818 for BX\n",
      "Processing data for Blackstone Inc.\n",
      "Saved 21649 records for BX\n"
     ]
    },
    {
     "name": "stderr",
     "output_type": "stream",
     "text": [
      "Downloading financial data:  13%|█▎        | 66/503 [01:22<08:40,  1.19s/it]"
     ]
    },
    {
     "name": "stdout",
     "output_type": "stream",
     "text": [
      "\n",
      "Processing BK (67/503)\n",
      "Found CIK: 0001390777 for BK\n",
      "Processing data for THE BANK OF NEW YORK MELLON CORPORATION\n",
      "Saved 48370 records for BK\n"
     ]
    },
    {
     "name": "stderr",
     "output_type": "stream",
     "text": [
      "Downloading financial data:  13%|█▎        | 67/503 [01:24<09:43,  1.34s/it]"
     ]
    },
    {
     "name": "stdout",
     "output_type": "stream",
     "text": [
      "\n",
      "Processing BA (68/503)\n",
      "Found CIK: 0000012927 for BA\n",
      "Processing data for THE BOEING COMPANY\n",
      "Saved 31781 records for BA\n"
     ]
    },
    {
     "name": "stderr",
     "output_type": "stream",
     "text": [
      "Downloading financial data:  14%|█▎        | 68/503 [01:25<09:36,  1.33s/it]"
     ]
    },
    {
     "name": "stdout",
     "output_type": "stream",
     "text": [
      "\n",
      "Processing BKNG (69/503)\n",
      "Found CIK: 0001075531 for BKNG\n",
      "Processing data for Booking Holdings Inc.\n",
      "Saved 20444 records for BKNG\n"
     ]
    },
    {
     "name": "stderr",
     "output_type": "stream",
     "text": [
      "Downloading financial data:  14%|█▎        | 69/503 [01:27<09:13,  1.28s/it]"
     ]
    },
    {
     "name": "stdout",
     "output_type": "stream",
     "text": [
      "\n",
      "Processing BSX (70/503)\n",
      "Found CIK: 0000885725 for BSX\n",
      "Processing data for BOSTON SCIENTIFIC CORPORATION\n",
      "Saved 29789 records for BSX\n"
     ]
    },
    {
     "name": "stderr",
     "output_type": "stream",
     "text": [
      "Downloading financial data:  14%|█▍        | 70/503 [01:28<09:14,  1.28s/it]"
     ]
    },
    {
     "name": "stdout",
     "output_type": "stream",
     "text": [
      "\n",
      "Processing BMY (71/503)\n",
      "Found CIK: 0000014272 for BMY\n",
      "Processing data for BRISTOL-MYERS SQUIBB COMPANY\n",
      "Saved 35005 records for BMY\n"
     ]
    },
    {
     "name": "stderr",
     "output_type": "stream",
     "text": [
      "Downloading financial data:  14%|█▍        | 71/503 [01:29<09:40,  1.34s/it]"
     ]
    },
    {
     "name": "stdout",
     "output_type": "stream",
     "text": [
      "\n",
      "Processing AVGO (72/503)\n",
      "Found CIK: 0001730168 for AVGO\n",
      "Processing data for Broadcom Inc.\n",
      "Saved 13050 records for AVGO\n"
     ]
    },
    {
     "name": "stderr",
     "output_type": "stream",
     "text": [
      "Downloading financial data:  14%|█▍        | 72/503 [01:30<09:13,  1.28s/it]"
     ]
    },
    {
     "name": "stdout",
     "output_type": "stream",
     "text": [
      "\n",
      "Processing BR (73/503)\n",
      "Found CIK: 0001383312 for BR\n",
      "Processing data for BROADRIDGE FINANCIAL SOLUTIONS, INC.\n",
      "Saved 22197 records for BR\n"
     ]
    },
    {
     "name": "stderr",
     "output_type": "stream",
     "text": [
      "Downloading financial data:  15%|█▍        | 73/503 [01:32<09:05,  1.27s/it]"
     ]
    },
    {
     "name": "stdout",
     "output_type": "stream",
     "text": [
      "\n",
      "Processing BRO (74/503)\n",
      "Found CIK: 0000079282 for BRO\n",
      "Processing data for BROWN & BROWN, INC.\n",
      "Saved 24273 records for BRO\n"
     ]
    },
    {
     "name": "stderr",
     "output_type": "stream",
     "text": [
      "Downloading financial data:  15%|█▍        | 74/503 [01:33<09:11,  1.29s/it]"
     ]
    },
    {
     "name": "stdout",
     "output_type": "stream",
     "text": [
      "\n",
      "Processing BF.B (75/503)\n",
      "Could not find CIK for BF.B\n",
      "\n",
      "Processing BLDR (76/503)\n",
      "Found CIK: 0001316835 for BLDR\n",
      "Processing data for BUILDERS FIRSTSOURCE, INC.\n",
      "Saved 17287 records for BLDR\n"
     ]
    },
    {
     "name": "stderr",
     "output_type": "stream",
     "text": [
      "Downloading financial data:  15%|█▌        | 76/503 [01:34<06:53,  1.03it/s]"
     ]
    },
    {
     "name": "stdout",
     "output_type": "stream",
     "text": [
      "\n",
      "Processing BG (77/503)\n",
      "Found CIK: 0001996862 for BG\n",
      "Processing data for BUNGE GLOBAL SA\n",
      "Saved 2823 records for BG\n"
     ]
    },
    {
     "name": "stderr",
     "output_type": "stream",
     "text": [
      "Downloading financial data:  15%|█▌        | 77/503 [01:35<06:44,  1.05it/s]"
     ]
    },
    {
     "name": "stdout",
     "output_type": "stream",
     "text": [
      "\n",
      "Processing BXP (78/503)\n",
      "Found CIK: 0001037540 for BXP\n",
      "Processing data for BXP, INC.\n",
      "Saved 27193 records for BXP\n"
     ]
    },
    {
     "name": "stderr",
     "output_type": "stream",
     "text": [
      "Downloading financial data:  16%|█▌        | 78/503 [01:36<07:21,  1.04s/it]"
     ]
    },
    {
     "name": "stdout",
     "output_type": "stream",
     "text": [
      "\n",
      "Processing CHRW (79/503)\n",
      "Found CIK: 0001043277 for CHRW\n",
      "Processing data for C.H. ROBINSON WORLDWIDE, INC.\n",
      "Saved 20086 records for CHRW\n"
     ]
    },
    {
     "name": "stderr",
     "output_type": "stream",
     "text": [
      "Downloading financial data:  16%|█▌        | 79/503 [01:38<07:33,  1.07s/it]"
     ]
    },
    {
     "name": "stdout",
     "output_type": "stream",
     "text": [
      "\n",
      "Processing CDNS (80/503)\n",
      "Found CIK: 0000813672 for CDNS\n",
      "Processing data for CADENCE DESIGN SYSTEMS, INC.\n",
      "Saved 22246 records for CDNS\n"
     ]
    },
    {
     "name": "stderr",
     "output_type": "stream",
     "text": [
      "Downloading financial data:  16%|█▌        | 80/503 [01:39<07:56,  1.13s/it]"
     ]
    },
    {
     "name": "stdout",
     "output_type": "stream",
     "text": [
      "\n",
      "Processing CZR (81/503)\n",
      "Found CIK: 0001590895 for CZR\n",
      "Processing data for CAESARS ENTERTAINMENT, INC.\n",
      "Saved 15917 records for CZR\n"
     ]
    },
    {
     "name": "stderr",
     "output_type": "stream",
     "text": [
      "Downloading financial data:  16%|█▌        | 81/503 [01:40<08:08,  1.16s/it]"
     ]
    },
    {
     "name": "stdout",
     "output_type": "stream",
     "text": [
      "\n",
      "Processing CPT (82/503)\n",
      "Found CIK: 0000906345 for CPT\n",
      "Processing data for CAMDEN PROPERTY TRUST\n",
      "Saved 23246 records for CPT\n"
     ]
    },
    {
     "name": "stderr",
     "output_type": "stream",
     "text": [
      "Downloading financial data:  16%|█▋        | 82/503 [01:41<08:13,  1.17s/it]"
     ]
    },
    {
     "name": "stdout",
     "output_type": "stream",
     "text": [
      "\n",
      "Processing CPB (83/503)\n",
      "Found CIK: 0000016732 for CPB\n",
      "Processing data for THE CAMPBELL'S COMPANY\n",
      "Saved 28417 records for CPB\n"
     ]
    },
    {
     "name": "stderr",
     "output_type": "stream",
     "text": [
      "Downloading financial data:  17%|█▋        | 83/503 [01:43<08:31,  1.22s/it]"
     ]
    },
    {
     "name": "stdout",
     "output_type": "stream",
     "text": [
      "\n",
      "Processing COF (84/503)\n",
      "Found CIK: 0000927628 for COF\n",
      "Processing data for CAPITAL ONE FINANCIAL CORP\n",
      "Saved 40099 records for COF\n"
     ]
    },
    {
     "name": "stderr",
     "output_type": "stream",
     "text": [
      "Downloading financial data:  17%|█▋        | 84/503 [01:44<08:55,  1.28s/it]"
     ]
    },
    {
     "name": "stdout",
     "output_type": "stream",
     "text": [
      "\n",
      "Processing CAH (85/503)\n",
      "Found CIK: 0000721371 for CAH\n",
      "Processing data for Cardinal Health, Inc.\n",
      "Saved 22819 records for CAH\n"
     ]
    },
    {
     "name": "stderr",
     "output_type": "stream",
     "text": [
      "Downloading financial data:  17%|█▋        | 85/503 [01:45<08:59,  1.29s/it]"
     ]
    },
    {
     "name": "stdout",
     "output_type": "stream",
     "text": [
      "\n",
      "Processing KMX (86/503)\n",
      "Found CIK: 0001170010 for KMX\n",
      "Processing data for CARMAX, INC.\n",
      "Saved 25038 records for KMX\n"
     ]
    },
    {
     "name": "stderr",
     "output_type": "stream",
     "text": [
      "Downloading financial data:  17%|█▋        | 86/503 [01:47<09:03,  1.30s/it]"
     ]
    },
    {
     "name": "stdout",
     "output_type": "stream",
     "text": [
      "\n",
      "Processing CCL (87/503)\n",
      "Found CIK: 0000815097 for CCL\n",
      "Processing data for Carnival Corporation\n",
      "Saved 16750 records for CCL\n"
     ]
    },
    {
     "name": "stderr",
     "output_type": "stream",
     "text": [
      "Downloading financial data:  17%|█▋        | 87/503 [01:48<08:57,  1.29s/it]"
     ]
    },
    {
     "name": "stdout",
     "output_type": "stream",
     "text": [
      "\n",
      "Processing CARR (88/503)\n",
      "Found CIK: 0001783180 for CARR\n",
      "Processing data for CARRIER GLOBAL CORPORATION\n",
      "Saved 9206 records for CARR\n"
     ]
    },
    {
     "name": "stderr",
     "output_type": "stream",
     "text": [
      "Downloading financial data:  17%|█▋        | 88/503 [01:49<08:22,  1.21s/it]"
     ]
    },
    {
     "name": "stdout",
     "output_type": "stream",
     "text": [
      "\n",
      "Processing CAT (89/503)\n",
      "Found CIK: 0000018230 for CAT\n",
      "Processing data for CATERPILLAR INC\n",
      "Saved 36741 records for CAT\n"
     ]
    },
    {
     "name": "stderr",
     "output_type": "stream",
     "text": [
      "Downloading financial data:  18%|█▊        | 89/503 [01:50<08:47,  1.27s/it]"
     ]
    },
    {
     "name": "stdout",
     "output_type": "stream",
     "text": [
      "\n",
      "Processing CBOE (90/503)\n",
      "Found CIK: 0001374310 for CBOE\n",
      "Processing data for Cboe Global Markets, Inc.\n",
      "Saved 23480 records for CBOE\n"
     ]
    },
    {
     "name": "stderr",
     "output_type": "stream",
     "text": [
      "Downloading financial data:  18%|█▊        | 90/503 [01:52<08:43,  1.27s/it]"
     ]
    },
    {
     "name": "stdout",
     "output_type": "stream",
     "text": [
      "\n",
      "Processing CBRE (91/503)\n",
      "Found CIK: 0001138118 for CBRE\n",
      "Processing data for CBRE GROUP, INC.\n",
      "Saved 25894 records for CBRE\n"
     ]
    },
    {
     "name": "stderr",
     "output_type": "stream",
     "text": [
      "Downloading financial data:  18%|█▊        | 91/503 [01:53<08:32,  1.24s/it]"
     ]
    },
    {
     "name": "stdout",
     "output_type": "stream",
     "text": [
      "\n",
      "Processing CDW (92/503)\n",
      "Found CIK: 0001402057 for CDW\n",
      "Processing data for CDW CORP\n",
      "Saved 18713 records for CDW\n"
     ]
    },
    {
     "name": "stderr",
     "output_type": "stream",
     "text": [
      "Downloading financial data:  18%|█▊        | 92/503 [01:54<08:45,  1.28s/it]"
     ]
    },
    {
     "name": "stdout",
     "output_type": "stream",
     "text": [
      "\n",
      "Processing COR (93/503)\n",
      "Found CIK: 0001140859 for COR\n",
      "Processing data for CENCORA, INC.\n",
      "Saved 23578 records for COR\n"
     ]
    },
    {
     "name": "stderr",
     "output_type": "stream",
     "text": [
      "Downloading financial data:  18%|█▊        | 93/503 [01:55<08:23,  1.23s/it]"
     ]
    },
    {
     "name": "stdout",
     "output_type": "stream",
     "text": [
      "\n",
      "Processing CNC (94/503)\n",
      "Found CIK: 0001071739 for CNC\n",
      "Processing data for CENTENE CORPORATION\n",
      "Saved 23824 records for CNC\n"
     ]
    },
    {
     "name": "stderr",
     "output_type": "stream",
     "text": [
      "Downloading financial data:  19%|█▊        | 94/503 [01:56<08:16,  1.21s/it]"
     ]
    },
    {
     "name": "stdout",
     "output_type": "stream",
     "text": [
      "\n",
      "Processing CNP (95/503)\n",
      "Found CIK: 0001130310 for CNP\n",
      "Processing data for CenterPoint Energy, Inc.\n",
      "Saved 26528 records for CNP\n"
     ]
    },
    {
     "name": "stderr",
     "output_type": "stream",
     "text": [
      "Downloading financial data:  19%|█▉        | 95/503 [01:58<08:26,  1.24s/it]"
     ]
    },
    {
     "name": "stdout",
     "output_type": "stream",
     "text": [
      "\n",
      "Processing CF (96/503)\n",
      "Found CIK: 0001324404 for CF\n",
      "Processing data for CF INDUSTRIES HOLDINGS, INC.\n",
      "Saved 25600 records for CF\n"
     ]
    },
    {
     "name": "stderr",
     "output_type": "stream",
     "text": [
      "Downloading financial data:  19%|█▉        | 96/503 [01:59<08:26,  1.24s/it]"
     ]
    },
    {
     "name": "stdout",
     "output_type": "stream",
     "text": [
      "\n",
      "Processing CRL (97/503)\n",
      "Found CIK: 0001100682 for CRL\n",
      "Processing data for CHARLES RIVER LABORATORIES INTERNATIONAL, INC.\n",
      "Saved 29034 records for CRL\n"
     ]
    },
    {
     "name": "stderr",
     "output_type": "stream",
     "text": [
      "Downloading financial data:  19%|█▉        | 97/503 [02:00<08:22,  1.24s/it]"
     ]
    },
    {
     "name": "stdout",
     "output_type": "stream",
     "text": [
      "\n",
      "Processing SCHW (98/503)\n",
      "Found CIK: 0000316709 for SCHW\n",
      "Processing data for SCHWAB CHARLES CORP\n",
      "Saved 31593 records for SCHW\n"
     ]
    },
    {
     "name": "stderr",
     "output_type": "stream",
     "text": [
      "Downloading financial data:  19%|█▉        | 98/503 [02:02<08:39,  1.28s/it]"
     ]
    },
    {
     "name": "stdout",
     "output_type": "stream",
     "text": [
      "\n",
      "Processing CHTR (99/503)\n",
      "Found CIK: 0001091667 for CHTR\n",
      "Processing data for Charter Communications, Inc.\n",
      "Saved 19538 records for CHTR\n"
     ]
    },
    {
     "name": "stderr",
     "output_type": "stream",
     "text": [
      "Downloading financial data:  20%|█▉        | 99/503 [02:03<08:19,  1.24s/it]"
     ]
    },
    {
     "name": "stdout",
     "output_type": "stream",
     "text": [
      "\n",
      "Processing CVX (100/503)\n",
      "Found CIK: 0000093410 for CVX\n",
      "Processing data for Chevron Corp\n",
      "Saved 29617 records for CVX\n"
     ]
    },
    {
     "name": "stderr",
     "output_type": "stream",
     "text": [
      "Downloading financial data:  20%|█▉        | 100/503 [02:05<09:32,  1.42s/it]"
     ]
    },
    {
     "name": "stdout",
     "output_type": "stream",
     "text": [
      "\n",
      "Processing CMG (101/503)\n",
      "Found CIK: 0001058090 for CMG\n",
      "Processing data for CHIPOTLE MEXICAN GRILL, INC.\n",
      "Saved 18514 records for CMG\n"
     ]
    },
    {
     "name": "stderr",
     "output_type": "stream",
     "text": [
      "Downloading financial data:  20%|██        | 101/503 [02:06<08:58,  1.34s/it]"
     ]
    },
    {
     "name": "stdout",
     "output_type": "stream",
     "text": [
      "\n",
      "Processing CB (102/503)\n",
      "Found CIK: 0000896159 for CB\n",
      "Processing data for CHUBB LIMITED\n",
      "Saved 33046 records for CB\n"
     ]
    },
    {
     "name": "stderr",
     "output_type": "stream",
     "text": [
      "Downloading financial data:  20%|██        | 102/503 [02:07<09:33,  1.43s/it]"
     ]
    },
    {
     "name": "stdout",
     "output_type": "stream",
     "text": [
      "\n",
      "Processing CHD (103/503)\n",
      "Found CIK: 0000313927 for CHD\n",
      "Processing data for CHURCH & DWIGHT CO., INC.\n",
      "Saved 23836 records for CHD\n"
     ]
    },
    {
     "name": "stderr",
     "output_type": "stream",
     "text": [
      "Downloading financial data:  20%|██        | 103/503 [02:09<09:17,  1.39s/it]"
     ]
    },
    {
     "name": "stdout",
     "output_type": "stream",
     "text": [
      "\n",
      "Processing CI (104/503)\n",
      "Found CIK: 0001739940 for CI\n",
      "Processing data for The Cigna Group\n",
      "Saved 10552 records for CI\n"
     ]
    },
    {
     "name": "stderr",
     "output_type": "stream",
     "text": [
      "Downloading financial data:  21%|██        | 104/503 [02:10<08:22,  1.26s/it]"
     ]
    },
    {
     "name": "stdout",
     "output_type": "stream",
     "text": [
      "\n",
      "Processing CINF (105/503)\n",
      "Found CIK: 0000020286 for CINF\n",
      "Processing data for CINCINNATI FINANCIAL CORPORATION\n",
      "Saved 26353 records for CINF\n"
     ]
    },
    {
     "name": "stderr",
     "output_type": "stream",
     "text": [
      "Downloading financial data:  21%|██        | 105/503 [02:11<08:08,  1.23s/it]"
     ]
    },
    {
     "name": "stdout",
     "output_type": "stream",
     "text": [
      "\n",
      "Processing CTAS (106/503)\n",
      "Found CIK: 0000723254 for CTAS\n",
      "Processing data for Cintas Corporation\n",
      "Saved 20891 records for CTAS\n"
     ]
    },
    {
     "name": "stderr",
     "output_type": "stream",
     "text": [
      "Downloading financial data:  21%|██        | 106/503 [02:12<07:50,  1.18s/it]"
     ]
    },
    {
     "name": "stdout",
     "output_type": "stream",
     "text": [
      "\n",
      "Processing CSCO (107/503)\n",
      "Found CIK: 0000858877 for CSCO\n",
      "Processing data for CISCO SYSTEMS, INC.\n",
      "Saved 38319 records for CSCO\n"
     ]
    },
    {
     "name": "stderr",
     "output_type": "stream",
     "text": [
      "Downloading financial data:  21%|██▏       | 107/503 [02:13<07:53,  1.20s/it]"
     ]
    },
    {
     "name": "stdout",
     "output_type": "stream",
     "text": [
      "\n",
      "Processing C (108/503)\n",
      "Found CIK: 0000831001 for C\n",
      "Processing data for Citigroup Inc\n",
      "Saved 47498 records for C\n"
     ]
    },
    {
     "name": "stderr",
     "output_type": "stream",
     "text": [
      "Downloading financial data:  21%|██▏       | 108/503 [02:15<08:30,  1.29s/it]"
     ]
    },
    {
     "name": "stdout",
     "output_type": "stream",
     "text": [
      "\n",
      "Processing CFG (109/503)\n",
      "Found CIK: 0000759944 for CFG\n",
      "Processing data for CITIZENS FINANCIAL GROUP INC/RI\n",
      "Saved 29398 records for CFG\n"
     ]
    },
    {
     "name": "stderr",
     "output_type": "stream",
     "text": [
      "Downloading financial data:  22%|██▏       | 109/503 [02:16<08:15,  1.26s/it]"
     ]
    },
    {
     "name": "stdout",
     "output_type": "stream",
     "text": [
      "\n",
      "Processing CLX (110/503)\n",
      "Found CIK: 0000021076 for CLX\n",
      "Processing data for THE CLOROX COMPANY\n",
      "Saved 23169 records for CLX\n"
     ]
    },
    {
     "name": "stderr",
     "output_type": "stream",
     "text": [
      "Downloading financial data:  22%|██▏       | 110/503 [02:17<08:02,  1.23s/it]"
     ]
    },
    {
     "name": "stdout",
     "output_type": "stream",
     "text": [
      "\n",
      "Processing CME (111/503)\n",
      "Found CIK: 0001156375 for CME\n",
      "Processing data for CME GROUP INC.\n",
      "Saved 25353 records for CME\n"
     ]
    },
    {
     "name": "stderr",
     "output_type": "stream",
     "text": [
      "Downloading financial data:  22%|██▏       | 111/503 [02:18<07:45,  1.19s/it]"
     ]
    },
    {
     "name": "stdout",
     "output_type": "stream",
     "text": [
      "\n",
      "Processing CMS (112/503)\n",
      "Found CIK: 0000811156 for CMS\n",
      "Processing data for CMS ENERGY CORPORATION\n",
      "Saved 24052 records for CMS\n"
     ]
    },
    {
     "name": "stderr",
     "output_type": "stream",
     "text": [
      "Downloading financial data:  22%|██▏       | 112/503 [02:19<07:42,  1.18s/it]"
     ]
    },
    {
     "name": "stdout",
     "output_type": "stream",
     "text": [
      "\n",
      "Processing KO (113/503)\n",
      "Found CIK: 0000021344 for KO\n",
      "Processing data for COCA COLA CO\n",
      "Saved 29965 records for KO\n"
     ]
    },
    {
     "name": "stderr",
     "output_type": "stream",
     "text": [
      "Downloading financial data:  22%|██▏       | 113/503 [02:21<07:49,  1.20s/it]"
     ]
    },
    {
     "name": "stdout",
     "output_type": "stream",
     "text": [
      "\n",
      "Processing CTSH (114/503)\n",
      "Found CIK: 0001058290 for CTSH\n",
      "Processing data for COGNIZANT TECHNOLOGY SOLUTIONS CORPORATION\n",
      "Saved 23269 records for CTSH\n"
     ]
    },
    {
     "name": "stderr",
     "output_type": "stream",
     "text": [
      "Downloading financial data:  23%|██▎       | 114/503 [02:22<08:04,  1.25s/it]"
     ]
    },
    {
     "name": "stdout",
     "output_type": "stream",
     "text": [
      "\n",
      "Processing COIN (115/503)\n",
      "Found CIK: 0001679788 for COIN\n",
      "Processing data for Coinbase Global, Inc.\n",
      "Saved 6888 records for COIN\n"
     ]
    },
    {
     "name": "stderr",
     "output_type": "stream",
     "text": [
      "Downloading financial data:  23%|██▎       | 115/503 [02:23<07:23,  1.14s/it]"
     ]
    },
    {
     "name": "stdout",
     "output_type": "stream",
     "text": [
      "\n",
      "Processing CL (116/503)\n",
      "Found CIK: 0000021665 for CL\n",
      "Processing data for COLGATE-PALMOLIVE COMPANY\n",
      "Saved 22118 records for CL\n"
     ]
    },
    {
     "name": "stderr",
     "output_type": "stream",
     "text": [
      "Downloading financial data:  23%|██▎       | 116/503 [02:24<07:27,  1.16s/it]"
     ]
    },
    {
     "name": "stdout",
     "output_type": "stream",
     "text": [
      "\n",
      "Processing CMCSA (117/503)\n",
      "Found CIK: 0001166691 for CMCSA\n",
      "Processing data for COMCAST CORPORATION\n",
      "Saved 23298 records for CMCSA\n"
     ]
    },
    {
     "name": "stderr",
     "output_type": "stream",
     "text": [
      "Downloading financial data:  23%|██▎       | 117/503 [02:25<07:24,  1.15s/it]"
     ]
    },
    {
     "name": "stdout",
     "output_type": "stream",
     "text": [
      "\n",
      "Processing CAG (118/503)\n",
      "Found CIK: 0000023217 for CAG\n",
      "Processing data for CONAGRA BRANDS, INC.\n",
      "Saved 29633 records for CAG\n"
     ]
    },
    {
     "name": "stderr",
     "output_type": "stream",
     "text": [
      "Downloading financial data:  23%|██▎       | 118/503 [02:26<07:43,  1.20s/it]"
     ]
    },
    {
     "name": "stdout",
     "output_type": "stream",
     "text": [
      "\n",
      "Processing COP (119/503)\n",
      "Found CIK: 0001163165 for COP\n",
      "Processing data for ConocoPhillips\n",
      "Saved 30740 records for COP\n"
     ]
    },
    {
     "name": "stderr",
     "output_type": "stream",
     "text": [
      "Downloading financial data:  24%|██▎       | 119/503 [02:28<07:37,  1.19s/it]"
     ]
    },
    {
     "name": "stdout",
     "output_type": "stream",
     "text": [
      "\n",
      "Processing ED (120/503)\n",
      "Found CIK: 0001047862 for ED\n",
      "Processing data for Consolidated Edison, Inc.\n",
      "Saved 25566 records for ED\n"
     ]
    },
    {
     "name": "stderr",
     "output_type": "stream",
     "text": [
      "Downloading financial data:  24%|██▍       | 120/503 [02:29<07:31,  1.18s/it]"
     ]
    },
    {
     "name": "stdout",
     "output_type": "stream",
     "text": [
      "\n",
      "Processing STZ (121/503)\n",
      "Found CIK: 0000016918 for STZ\n",
      "Processing data for CONSTELLATION BRANDS, INC.\n",
      "Saved 23247 records for STZ\n"
     ]
    },
    {
     "name": "stderr",
     "output_type": "stream",
     "text": [
      "Downloading financial data:  24%|██▍       | 121/503 [02:30<07:31,  1.18s/it]"
     ]
    },
    {
     "name": "stdout",
     "output_type": "stream",
     "text": [
      "\n",
      "Processing CEG (122/503)\n",
      "Found CIK: 0001868275 for CEG\n",
      "Processing data for CONSTELLATION ENERGY CORPORATION\n",
      "Saved 6672 records for CEG\n"
     ]
    },
    {
     "name": "stderr",
     "output_type": "stream",
     "text": [
      "Downloading financial data:  24%|██▍       | 122/503 [02:31<07:03,  1.11s/it]"
     ]
    },
    {
     "name": "stdout",
     "output_type": "stream",
     "text": [
      "\n",
      "Processing COO (123/503)\n",
      "Found CIK: 0000711404 for COO\n",
      "Processing data for The Cooper Companies, Inc.\n",
      "Saved 23287 records for COO\n"
     ]
    },
    {
     "name": "stderr",
     "output_type": "stream",
     "text": [
      "Downloading financial data:  24%|██▍       | 123/503 [02:32<07:18,  1.15s/it]"
     ]
    },
    {
     "name": "stdout",
     "output_type": "stream",
     "text": [
      "\n",
      "Processing CPRT (124/503)\n",
      "Found CIK: 0000900075 for CPRT\n",
      "Processing data for COPART, INC.\n",
      "Saved 21014 records for CPRT\n"
     ]
    },
    {
     "name": "stderr",
     "output_type": "stream",
     "text": [
      "Downloading financial data:  25%|██▍       | 124/503 [02:33<07:23,  1.17s/it]"
     ]
    },
    {
     "name": "stdout",
     "output_type": "stream",
     "text": [
      "\n",
      "Processing GLW (125/503)\n",
      "Found CIK: 0000024741 for GLW\n",
      "Processing data for CORNING INC /NY\n",
      "Saved 25400 records for GLW\n"
     ]
    },
    {
     "name": "stderr",
     "output_type": "stream",
     "text": [
      "Downloading financial data:  25%|██▍       | 125/503 [02:34<07:22,  1.17s/it]"
     ]
    },
    {
     "name": "stdout",
     "output_type": "stream",
     "text": [
      "\n",
      "Processing CPAY (126/503)\n",
      "Found CIK: 0001175454 for CPAY\n",
      "Processing data for Corpay, Inc\n",
      "Saved 22994 records for CPAY\n"
     ]
    },
    {
     "name": "stderr",
     "output_type": "stream",
     "text": [
      "Downloading financial data:  25%|██▌       | 126/503 [02:36<07:24,  1.18s/it]"
     ]
    },
    {
     "name": "stdout",
     "output_type": "stream",
     "text": [
      "\n",
      "Processing CTVA (127/503)\n",
      "Found CIK: 0001755672 for CTVA\n",
      "Processing data for Corteva, Inc.\n",
      "Saved 11914 records for CTVA\n"
     ]
    },
    {
     "name": "stderr",
     "output_type": "stream",
     "text": [
      "Downloading financial data:  25%|██▌       | 127/503 [02:37<07:04,  1.13s/it]"
     ]
    },
    {
     "name": "stdout",
     "output_type": "stream",
     "text": [
      "\n",
      "Processing CSGP (128/503)\n",
      "Found CIK: 0001057352 for CSGP\n",
      "Processing data for CoStar Group, Inc.\n",
      "Saved 20485 records for CSGP\n"
     ]
    },
    {
     "name": "stderr",
     "output_type": "stream",
     "text": [
      "Downloading financial data:  25%|██▌       | 128/503 [02:38<07:00,  1.12s/it]"
     ]
    },
    {
     "name": "stdout",
     "output_type": "stream",
     "text": [
      "\n",
      "Processing COST (129/503)\n",
      "Found CIK: 0000909832 for COST\n",
      "Processing data for COSTCO WHOLESALE CORP /NEW\n",
      "Saved 22781 records for COST\n"
     ]
    },
    {
     "name": "stderr",
     "output_type": "stream",
     "text": [
      "Downloading financial data:  26%|██▌       | 129/503 [02:39<06:57,  1.12s/it]"
     ]
    },
    {
     "name": "stdout",
     "output_type": "stream",
     "text": [
      "\n",
      "Processing CTRA (130/503)\n",
      "Found CIK: 0000858470 for CTRA\n",
      "Processing data for COTERRA ENERGY INC.\n",
      "Saved 24592 records for CTRA\n"
     ]
    },
    {
     "name": "stderr",
     "output_type": "stream",
     "text": [
      "Downloading financial data:  26%|██▌       | 130/503 [02:40<07:09,  1.15s/it]"
     ]
    },
    {
     "name": "stdout",
     "output_type": "stream",
     "text": [
      "\n",
      "Processing CRWD (131/503)\n",
      "Found CIK: 0001535527 for CRWD\n",
      "Processing data for CROWDSTRIKE HOLDINGS, INC.\n",
      "Saved 9896 records for CRWD\n"
     ]
    },
    {
     "name": "stderr",
     "output_type": "stream",
     "text": [
      "Downloading financial data:  26%|██▌       | 131/503 [02:41<06:46,  1.09s/it]"
     ]
    },
    {
     "name": "stdout",
     "output_type": "stream",
     "text": [
      "\n",
      "Processing CCI (132/503)\n",
      "Found CIK: 0001051470 for CCI\n",
      "Processing data for CROWN CASTLE INC.\n",
      "Saved 23445 records for CCI\n"
     ]
    },
    {
     "name": "stderr",
     "output_type": "stream",
     "text": [
      "Downloading financial data:  26%|██▌       | 132/503 [02:42<06:54,  1.12s/it]"
     ]
    },
    {
     "name": "stdout",
     "output_type": "stream",
     "text": [
      "\n",
      "Processing CSX (133/503)\n",
      "Found CIK: 0000277948 for CSX\n",
      "Processing data for CSX CORPORATION\n",
      "Saved 18242 records for CSX\n"
     ]
    },
    {
     "name": "stderr",
     "output_type": "stream",
     "text": [
      "Downloading financial data:  26%|██▋       | 133/503 [02:43<06:52,  1.12s/it]"
     ]
    },
    {
     "name": "stdout",
     "output_type": "stream",
     "text": [
      "\n",
      "Processing CMI (134/503)\n",
      "Found CIK: 0000026172 for CMI\n",
      "Processing data for CUMMINS INC.\n",
      "Saved 29972 records for CMI\n"
     ]
    },
    {
     "name": "stderr",
     "output_type": "stream",
     "text": [
      "Downloading financial data:  27%|██▋       | 134/503 [02:45<07:24,  1.21s/it]"
     ]
    },
    {
     "name": "stdout",
     "output_type": "stream",
     "text": [
      "\n",
      "Processing CVS (135/503)\n",
      "Found CIK: 0000064803 for CVS\n",
      "Processing data for CVS HEALTH CORPORATION\n",
      "Saved 27114 records for CVS\n"
     ]
    },
    {
     "name": "stderr",
     "output_type": "stream",
     "text": [
      "Downloading financial data:  27%|██▋       | 135/503 [02:46<07:25,  1.21s/it]"
     ]
    },
    {
     "name": "stdout",
     "output_type": "stream",
     "text": [
      "\n",
      "Processing DHR (136/503)\n",
      "Found CIK: 0000313616 for DHR\n",
      "Processing data for DANAHER CORPORATION\n",
      "Saved 28441 records for DHR\n"
     ]
    },
    {
     "name": "stderr",
     "output_type": "stream",
     "text": [
      "Downloading financial data:  27%|██▋       | 136/503 [02:47<07:53,  1.29s/it]"
     ]
    },
    {
     "name": "stdout",
     "output_type": "stream",
     "text": [
      "\n",
      "Processing DRI (137/503)\n",
      "Found CIK: 0000940944 for DRI\n",
      "Processing data for DARDEN RESTAURANTS, INC.\n",
      "Saved 25521 records for DRI\n"
     ]
    },
    {
     "name": "stderr",
     "output_type": "stream",
     "text": [
      "Downloading financial data:  27%|██▋       | 137/503 [02:49<07:46,  1.27s/it]"
     ]
    },
    {
     "name": "stdout",
     "output_type": "stream",
     "text": [
      "\n",
      "Processing DVA (138/503)\n",
      "Found CIK: 0000927066 for DVA\n",
      "Processing data for DAVITA INC.\n",
      "Saved 27850 records for DVA\n"
     ]
    },
    {
     "name": "stderr",
     "output_type": "stream",
     "text": [
      "Downloading financial data:  27%|██▋       | 138/503 [02:50<07:39,  1.26s/it]"
     ]
    },
    {
     "name": "stdout",
     "output_type": "stream",
     "text": [
      "\n",
      "Processing DAY (139/503)\n",
      "Found CIK: 0001725057 for DAY\n",
      "Processing data for Dayforce, Inc.\n",
      "Saved 11467 records for DAY\n"
     ]
    },
    {
     "name": "stderr",
     "output_type": "stream",
     "text": [
      "Downloading financial data:  28%|██▊       | 139/503 [02:51<07:11,  1.19s/it]"
     ]
    },
    {
     "name": "stdout",
     "output_type": "stream",
     "text": [
      "\n",
      "Processing DECK (140/503)\n",
      "Found CIK: 0000910521 for DECK\n",
      "Processing data for DECKERS OUTDOOR CORP\n",
      "Saved 18542 records for DECK\n"
     ]
    },
    {
     "name": "stderr",
     "output_type": "stream",
     "text": [
      "Downloading financial data:  28%|██▊       | 140/503 [02:52<07:13,  1.19s/it]"
     ]
    },
    {
     "name": "stdout",
     "output_type": "stream",
     "text": [
      "\n",
      "Processing DE (141/503)\n",
      "Found CIK: 0000315189 for DE\n",
      "Processing data for DEERE & CO\n",
      "Saved 32644 records for DE\n"
     ]
    },
    {
     "name": "stderr",
     "output_type": "stream",
     "text": [
      "Downloading financial data:  28%|██▊       | 141/503 [02:53<07:21,  1.22s/it]"
     ]
    },
    {
     "name": "stdout",
     "output_type": "stream",
     "text": [
      "\n",
      "Processing DELL (142/503)\n",
      "Found CIK: 0001571996 for DELL\n",
      "Processing data for Dell Technologies Inc.\n",
      "Saved 20268 records for DELL\n"
     ]
    },
    {
     "name": "stderr",
     "output_type": "stream",
     "text": [
      "Downloading financial data:  28%|██▊       | 142/503 [02:55<07:21,  1.22s/it]"
     ]
    },
    {
     "name": "stdout",
     "output_type": "stream",
     "text": [
      "\n",
      "Processing DAL (143/503)\n",
      "Found CIK: 0000027904 for DAL\n",
      "Processing data for DELTA AIR LINES, INC.\n",
      "Saved 20354 records for DAL\n"
     ]
    },
    {
     "name": "stderr",
     "output_type": "stream",
     "text": [
      "Downloading financial data:  28%|██▊       | 143/503 [02:56<07:16,  1.21s/it]"
     ]
    },
    {
     "name": "stdout",
     "output_type": "stream",
     "text": [
      "\n",
      "Processing DVN (144/503)\n",
      "Found CIK: 0001090012 for DVN\n",
      "Processing data for DEVON ENERGY CORP/DE\n",
      "Saved 30174 records for DVN\n"
     ]
    },
    {
     "name": "stderr",
     "output_type": "stream",
     "text": [
      "Downloading financial data:  29%|██▊       | 144/503 [02:58<08:30,  1.42s/it]"
     ]
    },
    {
     "name": "stdout",
     "output_type": "stream",
     "text": [
      "\n",
      "Processing DXCM (145/503)\n",
      "Found CIK: 0001093557 for DXCM\n",
      "Processing data for DEXCOM, INC.\n",
      "Saved 18293 records for DXCM\n"
     ]
    },
    {
     "name": "stderr",
     "output_type": "stream",
     "text": [
      "Downloading financial data:  29%|██▉       | 145/503 [02:59<07:46,  1.30s/it]"
     ]
    },
    {
     "name": "stdout",
     "output_type": "stream",
     "text": [
      "\n",
      "Processing FANG (146/503)\n",
      "Found CIK: 0001539838 for FANG\n",
      "Processing data for Diamondback Energy, Inc.\n",
      "Saved 21170 records for FANG\n"
     ]
    },
    {
     "name": "stderr",
     "output_type": "stream",
     "text": [
      "Downloading financial data:  29%|██▉       | 146/503 [03:00<07:46,  1.31s/it]"
     ]
    },
    {
     "name": "stdout",
     "output_type": "stream",
     "text": [
      "\n",
      "Processing DLR (147/503)\n",
      "Found CIK: 0001297996 for DLR\n",
      "Processing data for DIGITAL REALTY TRUST, INC.\n",
      "Saved 23130 records for DLR\n"
     ]
    },
    {
     "name": "stderr",
     "output_type": "stream",
     "text": [
      "Downloading financial data:  29%|██▉       | 147/503 [03:02<08:14,  1.39s/it]"
     ]
    },
    {
     "name": "stdout",
     "output_type": "stream",
     "text": [
      "\n",
      "Processing DG (148/503)\n",
      "Found CIK: 0000029534 for DG\n",
      "Processing data for DOLLAR GENERAL CORPORATION\n",
      "Saved 15151 records for DG\n"
     ]
    },
    {
     "name": "stderr",
     "output_type": "stream",
     "text": [
      "Downloading financial data:  29%|██▉       | 148/503 [03:03<07:34,  1.28s/it]"
     ]
    },
    {
     "name": "stdout",
     "output_type": "stream",
     "text": [
      "\n",
      "Processing DLTR (149/503)\n",
      "Found CIK: 0000935703 for DLTR\n",
      "Processing data for DOLLAR TREE, INC.\n",
      "Saved 17715 records for DLTR\n"
     ]
    },
    {
     "name": "stderr",
     "output_type": "stream",
     "text": [
      "Downloading financial data:  30%|██▉       | 149/503 [03:04<07:31,  1.28s/it]"
     ]
    },
    {
     "name": "stdout",
     "output_type": "stream",
     "text": [
      "\n",
      "Processing D (150/503)\n",
      "Found CIK: 0000715957 for D\n",
      "Processing data for DOMINION ENERGY, INC.\n",
      "Saved 35220 records for D\n"
     ]
    },
    {
     "name": "stderr",
     "output_type": "stream",
     "text": [
      "Downloading financial data:  30%|██▉       | 150/503 [03:05<07:34,  1.29s/it]"
     ]
    },
    {
     "name": "stdout",
     "output_type": "stream",
     "text": [
      "\n",
      "Processing DPZ (151/503)\n",
      "Found CIK: 0001286681 for DPZ\n",
      "Processing data for Domino’s Pizza, Inc.\n",
      "Saved 17859 records for DPZ\n"
     ]
    },
    {
     "name": "stderr",
     "output_type": "stream",
     "text": [
      "Downloading financial data:  30%|███       | 151/503 [03:07<07:34,  1.29s/it]"
     ]
    },
    {
     "name": "stdout",
     "output_type": "stream",
     "text": [
      "\n",
      "Processing DASH (152/503)\n",
      "Found CIK: 0001792789 for DASH\n",
      "Processing data for DOORDASH, INC.\n",
      "Saved 6516 records for DASH\n"
     ]
    },
    {
     "name": "stderr",
     "output_type": "stream",
     "text": [
      "Downloading financial data:  30%|███       | 152/503 [03:07<06:47,  1.16s/it]"
     ]
    },
    {
     "name": "stdout",
     "output_type": "stream",
     "text": [
      "\n",
      "Processing DOV (153/503)\n",
      "Found CIK: 0000029905 for DOV\n",
      "Processing data for DOVER Corp\n",
      "Saved 30352 records for DOV\n"
     ]
    },
    {
     "name": "stderr",
     "output_type": "stream",
     "text": [
      "Downloading financial data:  30%|███       | 153/503 [03:09<07:24,  1.27s/it]"
     ]
    },
    {
     "name": "stdout",
     "output_type": "stream",
     "text": [
      "\n",
      "Processing DOW (154/503)\n",
      "Found CIK: 0001751788 for DOW\n",
      "Processing data for Dow Inc.\n",
      "Saved 14782 records for DOW\n"
     ]
    },
    {
     "name": "stderr",
     "output_type": "stream",
     "text": [
      "Downloading financial data:  31%|███       | 154/503 [03:10<06:49,  1.17s/it]"
     ]
    },
    {
     "name": "stdout",
     "output_type": "stream",
     "text": [
      "\n",
      "Processing DHI (155/503)\n",
      "Found CIK: 0000882184 for DHI\n",
      "Processing data for D.R. Horton, Inc.\n",
      "Saved 18766 records for DHI\n"
     ]
    },
    {
     "name": "stderr",
     "output_type": "stream",
     "text": [
      "Downloading financial data:  31%|███       | 155/503 [03:11<06:31,  1.13s/it]"
     ]
    },
    {
     "name": "stdout",
     "output_type": "stream",
     "text": [
      "\n",
      "Processing DTE (156/503)\n",
      "Found CIK: 0000936340 for DTE\n",
      "Processing data for DTE Energy Co\n",
      "Saved 31086 records for DTE\n"
     ]
    },
    {
     "name": "stderr",
     "output_type": "stream",
     "text": [
      "Downloading financial data:  31%|███       | 156/503 [03:12<06:38,  1.15s/it]"
     ]
    },
    {
     "name": "stdout",
     "output_type": "stream",
     "text": [
      "\n",
      "Processing DUK (157/503)\n",
      "Found CIK: 0001326160 for DUK\n",
      "Processing data for DUKE ENERGY CORPORATION\n",
      "Saved 32899 records for DUK\n"
     ]
    },
    {
     "name": "stderr",
     "output_type": "stream",
     "text": [
      "Downloading financial data:  31%|███       | 157/503 [03:13<06:46,  1.17s/it]"
     ]
    },
    {
     "name": "stdout",
     "output_type": "stream",
     "text": [
      "\n",
      "Processing DD (158/503)\n",
      "Found CIK: 0001666700 for DD\n",
      "Processing data for DuPont de Nemours, Inc.\n",
      "Saved 18251 records for DD\n"
     ]
    },
    {
     "name": "stderr",
     "output_type": "stream",
     "text": [
      "Downloading financial data:  31%|███▏      | 158/503 [03:14<06:24,  1.11s/it]"
     ]
    },
    {
     "name": "stdout",
     "output_type": "stream",
     "text": [
      "\n",
      "Processing EMN (159/503)\n",
      "Found CIK: 0000915389 for EMN\n",
      "Processing data for EASTMAN CHEMICAL CO\n",
      "Saved 27297 records for EMN\n"
     ]
    },
    {
     "name": "stderr",
     "output_type": "stream",
     "text": [
      "Downloading financial data:  32%|███▏      | 159/503 [03:16<06:35,  1.15s/it]"
     ]
    },
    {
     "name": "stdout",
     "output_type": "stream",
     "text": [
      "\n",
      "Processing ETN (160/503)\n",
      "Found CIK: 0001551182 for ETN\n",
      "Processing data for EATON CORPORATION plc\n",
      "Saved 17666 records for ETN\n"
     ]
    },
    {
     "name": "stderr",
     "output_type": "stream",
     "text": [
      "Downloading financial data:  32%|███▏      | 160/503 [03:17<06:31,  1.14s/it]"
     ]
    },
    {
     "name": "stdout",
     "output_type": "stream",
     "text": [
      "\n",
      "Processing EBAY (161/503)\n",
      "Found CIK: 0001065088 for EBAY\n",
      "Processing data for eBay Inc.\n",
      "Saved 24945 records for EBAY\n"
     ]
    },
    {
     "name": "stderr",
     "output_type": "stream",
     "text": [
      "Downloading financial data:  32%|███▏      | 161/503 [03:18<06:23,  1.12s/it]"
     ]
    },
    {
     "name": "stdout",
     "output_type": "stream",
     "text": [
      "\n",
      "Processing ECL (162/503)\n",
      "Found CIK: 0000031462 for ECL\n",
      "Processing data for ECOLAB INC.\n",
      "Saved 27699 records for ECL\n"
     ]
    },
    {
     "name": "stderr",
     "output_type": "stream",
     "text": [
      "Downloading financial data:  32%|███▏      | 162/503 [03:19<06:32,  1.15s/it]"
     ]
    },
    {
     "name": "stdout",
     "output_type": "stream",
     "text": [
      "\n",
      "Processing EIX (163/503)\n",
      "Found CIK: 0000827052 for EIX\n",
      "Processing data for EDISON INTERNATIONAL\n",
      "Saved 25099 records for EIX\n"
     ]
    },
    {
     "name": "stderr",
     "output_type": "stream",
     "text": [
      "Downloading financial data:  32%|███▏      | 163/503 [03:20<06:40,  1.18s/it]"
     ]
    },
    {
     "name": "stdout",
     "output_type": "stream",
     "text": [
      "\n",
      "Processing EW (164/503)\n",
      "Found CIK: 0001099800 for EW\n",
      "Processing data for EDWARDS LIFESCIENCES CORPORATION\n",
      "Saved 24248 records for EW\n"
     ]
    },
    {
     "name": "stderr",
     "output_type": "stream",
     "text": [
      "Downloading financial data:  33%|███▎      | 164/503 [03:22<06:55,  1.22s/it]"
     ]
    },
    {
     "name": "stdout",
     "output_type": "stream",
     "text": [
      "\n",
      "Processing EA (165/503)\n",
      "Found CIK: 0000712515 for EA\n",
      "Processing data for ELECTRONIC ARTS INC.\n",
      "Saved 23061 records for EA\n"
     ]
    },
    {
     "name": "stderr",
     "output_type": "stream",
     "text": [
      "Downloading financial data:  33%|███▎      | 165/503 [03:23<06:49,  1.21s/it]"
     ]
    },
    {
     "name": "stdout",
     "output_type": "stream",
     "text": [
      "\n",
      "Processing ELV (166/503)\n",
      "Found CIK: 0001156039 for ELV\n",
      "Processing data for ELEVANCE HEALTH, INC.\n",
      "Saved 37331 records for ELV\n"
     ]
    },
    {
     "name": "stderr",
     "output_type": "stream",
     "text": [
      "Downloading financial data:  33%|███▎      | 166/503 [03:24<07:04,  1.26s/it]"
     ]
    },
    {
     "name": "stdout",
     "output_type": "stream",
     "text": [
      "\n",
      "Processing EMR (167/503)\n",
      "Found CIK: 0000032604 for EMR\n",
      "Processing data for EMERSON ELECTRIC CO.\n",
      "Saved 22520 records for EMR\n"
     ]
    },
    {
     "name": "stderr",
     "output_type": "stream",
     "text": [
      "Downloading financial data:  33%|███▎      | 167/503 [03:25<07:01,  1.25s/it]"
     ]
    },
    {
     "name": "stdout",
     "output_type": "stream",
     "text": [
      "\n",
      "Processing ENPH (168/503)\n",
      "Found CIK: 0001463101 for ENPH\n",
      "Processing data for Enphase Energy, Inc.\n",
      "Saved 19000 records for ENPH\n"
     ]
    },
    {
     "name": "stderr",
     "output_type": "stream",
     "text": [
      "Downloading financial data:  33%|███▎      | 168/503 [03:26<06:39,  1.19s/it]"
     ]
    },
    {
     "name": "stdout",
     "output_type": "stream",
     "text": [
      "\n",
      "Processing ETR (169/503)\n",
      "Found CIK: 0000065984 for ETR\n",
      "Processing data for ENTERGY CORPORATION\n",
      "Saved 30244 records for ETR\n"
     ]
    },
    {
     "name": "stderr",
     "output_type": "stream",
     "text": [
      "Downloading financial data:  34%|███▎      | 169/503 [03:28<06:42,  1.20s/it]"
     ]
    },
    {
     "name": "stdout",
     "output_type": "stream",
     "text": [
      "\n",
      "Processing EOG (170/503)\n",
      "Found CIK: 0000821189 for EOG\n",
      "Processing data for EOG RESOURCES, INC.\n",
      "Saved 21369 records for EOG\n"
     ]
    },
    {
     "name": "stderr",
     "output_type": "stream",
     "text": [
      "Downloading financial data:  34%|███▍      | 170/503 [03:29<06:32,  1.18s/it]"
     ]
    },
    {
     "name": "stdout",
     "output_type": "stream",
     "text": [
      "\n",
      "Processing EPAM (171/503)\n",
      "Found CIK: 0001352010 for EPAM\n",
      "Processing data for EPAM SYSTEMS, INC.\n",
      "Saved 17380 records for EPAM\n"
     ]
    },
    {
     "name": "stderr",
     "output_type": "stream",
     "text": [
      "Downloading financial data:  34%|███▍      | 171/503 [03:30<06:31,  1.18s/it]"
     ]
    },
    {
     "name": "stdout",
     "output_type": "stream",
     "text": [
      "\n",
      "Processing EQT (172/503)\n",
      "Found CIK: 0000033213 for EQT\n",
      "Processing data for EQT CORPORATION\n",
      "Saved 23501 records for EQT\n"
     ]
    },
    {
     "name": "stderr",
     "output_type": "stream",
     "text": [
      "Downloading financial data:  34%|███▍      | 172/503 [03:31<06:29,  1.18s/it]"
     ]
    },
    {
     "name": "stdout",
     "output_type": "stream",
     "text": [
      "\n",
      "Processing EFX (173/503)\n",
      "Found CIK: 0000033185 for EFX\n",
      "Processing data for EQUIFAX INC\n",
      "Saved 22712 records for EFX\n"
     ]
    },
    {
     "name": "stderr",
     "output_type": "stream",
     "text": [
      "Downloading financial data:  34%|███▍      | 173/503 [03:33<08:07,  1.48s/it]"
     ]
    },
    {
     "name": "stdout",
     "output_type": "stream",
     "text": [
      "\n",
      "Processing EQIX (174/503)\n",
      "Found CIK: 0001101239 for EQIX\n",
      "Processing data for EQUINIX, INC.\n",
      "Saved 29587 records for EQIX\n"
     ]
    },
    {
     "name": "stderr",
     "output_type": "stream",
     "text": [
      "Downloading financial data:  35%|███▍      | 174/503 [03:35<07:40,  1.40s/it]"
     ]
    },
    {
     "name": "stdout",
     "output_type": "stream",
     "text": [
      "\n",
      "Processing EQR (175/503)\n",
      "Found CIK: 0000906107 for EQR\n",
      "Processing data for EQUITY RESIDENTIAL\n",
      "Saved 30079 records for EQR\n"
     ]
    },
    {
     "name": "stderr",
     "output_type": "stream",
     "text": [
      "Downloading financial data:  35%|███▍      | 175/503 [03:36<07:26,  1.36s/it]"
     ]
    },
    {
     "name": "stdout",
     "output_type": "stream",
     "text": [
      "\n",
      "Processing ERIE (176/503)\n",
      "Found CIK: 0000922621 for ERIE\n",
      "Processing data for ERIE INDEMNITY COMPANY\n",
      "Saved 16086 records for ERIE\n"
     ]
    },
    {
     "name": "stderr",
     "output_type": "stream",
     "text": [
      "Downloading financial data:  35%|███▍      | 176/503 [03:37<07:05,  1.30s/it]"
     ]
    },
    {
     "name": "stdout",
     "output_type": "stream",
     "text": [
      "\n",
      "Processing ESS (177/503)\n",
      "Found CIK: 0000920522 for ESS\n",
      "Processing data for ESSEX PROPERTY TRUST, INC.\n",
      "Saved 22351 records for ESS\n"
     ]
    },
    {
     "name": "stderr",
     "output_type": "stream",
     "text": [
      "Downloading financial data:  35%|███▌      | 177/503 [03:38<06:40,  1.23s/it]"
     ]
    },
    {
     "name": "stdout",
     "output_type": "stream",
     "text": [
      "\n",
      "Processing EL (178/503)\n",
      "Found CIK: 0001001250 for EL\n",
      "Processing data for Estee Lauder Companies Inc\n",
      "Saved 23393 records for EL\n"
     ]
    },
    {
     "name": "stderr",
     "output_type": "stream",
     "text": [
      "Downloading financial data:  35%|███▌      | 178/503 [03:39<06:45,  1.25s/it]"
     ]
    },
    {
     "name": "stdout",
     "output_type": "stream",
     "text": [
      "\n",
      "Processing EG (179/503)\n",
      "Found CIK: 0001095073 for EG\n",
      "Processing data for EVEREST GROUP, LTD.\n",
      "Saved 28378 records for EG\n"
     ]
    },
    {
     "name": "stderr",
     "output_type": "stream",
     "text": [
      "Downloading financial data:  36%|███▌      | 179/503 [03:41<06:41,  1.24s/it]"
     ]
    },
    {
     "name": "stdout",
     "output_type": "stream",
     "text": [
      "\n",
      "Processing EVRG (180/503)\n",
      "Found CIK: 0001711269 for EVRG\n",
      "Processing data for EVERGY, INC.\n",
      "Saved 12034 records for EVRG\n"
     ]
    },
    {
     "name": "stderr",
     "output_type": "stream",
     "text": [
      "Downloading financial data:  36%|███▌      | 180/503 [03:42<06:17,  1.17s/it]"
     ]
    },
    {
     "name": "stdout",
     "output_type": "stream",
     "text": [
      "\n",
      "Processing ES (181/503)\n",
      "Found CIK: 0000072741 for ES\n",
      "Processing data for EVERSOURCE ENERGY\n",
      "Saved 23029 records for ES\n"
     ]
    },
    {
     "name": "stderr",
     "output_type": "stream",
     "text": [
      "Downloading financial data:  36%|███▌      | 181/503 [03:43<06:06,  1.14s/it]"
     ]
    },
    {
     "name": "stdout",
     "output_type": "stream",
     "text": [
      "\n",
      "Processing EXC (182/503)\n",
      "Found CIK: 0001109357 for EXC\n",
      "Processing data for EXELON CORPORATION\n",
      "Saved 33436 records for EXC\n"
     ]
    },
    {
     "name": "stderr",
     "output_type": "stream",
     "text": [
      "Downloading financial data:  36%|███▌      | 182/503 [03:44<06:08,  1.15s/it]"
     ]
    },
    {
     "name": "stdout",
     "output_type": "stream",
     "text": [
      "\n",
      "Processing EXE (183/503)\n",
      "Found CIK: 0000895126 for EXE\n",
      "Processing data for EXPAND ENERGY CORPORATION\n",
      "Saved 29700 records for EXE\n"
     ]
    },
    {
     "name": "stderr",
     "output_type": "stream",
     "text": [
      "Downloading financial data:  36%|███▋      | 183/503 [03:45<06:27,  1.21s/it]"
     ]
    },
    {
     "name": "stdout",
     "output_type": "stream",
     "text": [
      "\n",
      "Processing EXPE (184/503)\n",
      "Found CIK: 0001324424 for EXPE\n",
      "Processing data for EXPEDIA GROUP, INC.\n",
      "Saved 21106 records for EXPE\n"
     ]
    },
    {
     "name": "stderr",
     "output_type": "stream",
     "text": [
      "Downloading financial data:  37%|███▋      | 184/503 [03:46<06:16,  1.18s/it]"
     ]
    },
    {
     "name": "stdout",
     "output_type": "stream",
     "text": [
      "\n",
      "Processing EXPD (185/503)\n",
      "Found CIK: 0000746515 for EXPD\n",
      "Processing data for EXPEDITORS INTERNATIONAL OF WASHINGTON, INC.\n",
      "Saved 19724 records for EXPD\n"
     ]
    },
    {
     "name": "stderr",
     "output_type": "stream",
     "text": [
      "Downloading financial data:  37%|███▋      | 185/503 [03:47<06:05,  1.15s/it]"
     ]
    },
    {
     "name": "stdout",
     "output_type": "stream",
     "text": [
      "\n",
      "Processing EXR (186/503)\n",
      "Found CIK: 0001289490 for EXR\n",
      "Processing data for EXTRA SPACE STORAGE INC.\n",
      "Saved 20863 records for EXR\n"
     ]
    },
    {
     "name": "stderr",
     "output_type": "stream",
     "text": [
      "Downloading financial data:  37%|███▋      | 186/503 [03:48<06:03,  1.15s/it]"
     ]
    },
    {
     "name": "stdout",
     "output_type": "stream",
     "text": [
      "\n",
      "Processing XOM (187/503)\n",
      "Found CIK: 0000034088 for XOM\n",
      "Processing data for Exxon Mobil Corporation\n",
      "Saved 19275 records for XOM\n"
     ]
    },
    {
     "name": "stderr",
     "output_type": "stream",
     "text": [
      "Downloading financial data:  37%|███▋      | 187/503 [03:50<05:58,  1.13s/it]"
     ]
    },
    {
     "name": "stdout",
     "output_type": "stream",
     "text": [
      "\n",
      "Processing FFIV (188/503)\n",
      "Found CIK: 0001048695 for FFIV\n",
      "Processing data for F5, INC.\n",
      "Saved 21953 records for FFIV\n"
     ]
    },
    {
     "name": "stderr",
     "output_type": "stream",
     "text": [
      "Downloading financial data:  37%|███▋      | 188/503 [03:51<05:59,  1.14s/it]"
     ]
    },
    {
     "name": "stdout",
     "output_type": "stream",
     "text": [
      "\n",
      "Processing FDS (189/503)\n",
      "Found CIK: 0001013237 for FDS\n",
      "Processing data for FACTSET RESEARCH SYSTEMS INC.\n",
      "Saved 23662 records for FDS\n"
     ]
    },
    {
     "name": "stderr",
     "output_type": "stream",
     "text": [
      "Downloading financial data:  38%|███▊      | 189/503 [03:52<05:58,  1.14s/it]"
     ]
    },
    {
     "name": "stdout",
     "output_type": "stream",
     "text": [
      "\n",
      "Processing FICO (190/503)\n",
      "Found CIK: 0000814547 for FICO\n",
      "Processing data for Fair Isaac Corp\n",
      "Saved 20763 records for FICO\n"
     ]
    },
    {
     "name": "stderr",
     "output_type": "stream",
     "text": [
      "Downloading financial data:  38%|███▊      | 190/503 [03:53<05:53,  1.13s/it]"
     ]
    },
    {
     "name": "stdout",
     "output_type": "stream",
     "text": [
      "\n",
      "Processing FAST (191/503)\n",
      "Found CIK: 0000815556 for FAST\n",
      "Processing data for FASTENAL CO\n",
      "Saved 16613 records for FAST\n"
     ]
    },
    {
     "name": "stderr",
     "output_type": "stream",
     "text": [
      "Downloading financial data:  38%|███▊      | 191/503 [03:54<05:52,  1.13s/it]"
     ]
    },
    {
     "name": "stdout",
     "output_type": "stream",
     "text": [
      "\n",
      "Processing FRT (192/503)\n",
      "Found CIK: 0000034903 for FRT\n",
      "Processing data for FEDERAL REALTY INVESTMENT TRUST\n",
      "Saved 19889 records for FRT\n"
     ]
    },
    {
     "name": "stderr",
     "output_type": "stream",
     "text": [
      "Downloading financial data:  38%|███▊      | 192/503 [03:55<05:46,  1.12s/it]"
     ]
    },
    {
     "name": "stdout",
     "output_type": "stream",
     "text": [
      "\n",
      "Processing FDX (193/503)\n",
      "Found CIK: 0001048911 for FDX\n",
      "Processing data for FedEx Corporation\n",
      "Saved 20921 records for FDX\n"
     ]
    },
    {
     "name": "stderr",
     "output_type": "stream",
     "text": [
      "Downloading financial data:  38%|███▊      | 193/503 [03:57<07:31,  1.46s/it]"
     ]
    },
    {
     "name": "stdout",
     "output_type": "stream",
     "text": [
      "\n",
      "Processing FIS (194/503)\n",
      "Found CIK: 0001136893 for FIS\n",
      "Processing data for Fidelity National Information Services, Inc.\n",
      "Saved 27301 records for FIS\n"
     ]
    },
    {
     "name": "stderr",
     "output_type": "stream",
     "text": [
      "Downloading financial data:  39%|███▊      | 194/503 [03:59<07:12,  1.40s/it]"
     ]
    },
    {
     "name": "stdout",
     "output_type": "stream",
     "text": [
      "\n",
      "Processing FITB (195/503)\n",
      "Found CIK: 0000035527 for FITB\n",
      "Processing data for Fifth Third Bancorp\n",
      "Saved 44981 records for FITB\n"
     ]
    },
    {
     "name": "stderr",
     "output_type": "stream",
     "text": [
      "Downloading financial data:  39%|███▉      | 195/503 [04:00<07:27,  1.45s/it]"
     ]
    },
    {
     "name": "stdout",
     "output_type": "stream",
     "text": [
      "\n",
      "Processing FSLR (196/503)\n",
      "Found CIK: 0001274494 for FSLR\n",
      "Processing data for First Solar, Inc.\n",
      "Saved 29341 records for FSLR\n"
     ]
    },
    {
     "name": "stderr",
     "output_type": "stream",
     "text": [
      "Downloading financial data:  39%|███▉      | 196/503 [04:01<06:59,  1.37s/it]"
     ]
    },
    {
     "name": "stdout",
     "output_type": "stream",
     "text": [
      "\n",
      "Processing FE (197/503)\n",
      "Found CIK: 0001031296 for FE\n",
      "Processing data for FIRSTENERGY CORP.\n",
      "Saved 27997 records for FE\n"
     ]
    },
    {
     "name": "stderr",
     "output_type": "stream",
     "text": [
      "Downloading financial data:  39%|███▉      | 197/503 [04:03<06:48,  1.34s/it]"
     ]
    },
    {
     "name": "stdout",
     "output_type": "stream",
     "text": [
      "\n",
      "Processing FI (198/503)\n",
      "Found CIK: 0000798354 for FI\n",
      "Processing data for FISERV, INC.\n",
      "Saved 23156 records for FI\n"
     ]
    },
    {
     "name": "stderr",
     "output_type": "stream",
     "text": [
      "Downloading financial data:  39%|███▉      | 198/503 [04:04<07:25,  1.46s/it]"
     ]
    },
    {
     "name": "stdout",
     "output_type": "stream",
     "text": [
      "\n",
      "Processing F (199/503)\n",
      "Found CIK: 0000037996 for F\n",
      "Processing data for Ford Motor Co\n",
      "Saved 22458 records for F\n"
     ]
    },
    {
     "name": "stderr",
     "output_type": "stream",
     "text": [
      "Downloading financial data:  40%|███▉      | 199/503 [04:06<07:03,  1.39s/it]"
     ]
    },
    {
     "name": "stdout",
     "output_type": "stream",
     "text": [
      "\n",
      "Processing FTNT (200/503)\n",
      "Found CIK: 0001262039 for FTNT\n",
      "Processing data for FORTINET, INC.\n",
      "Saved 21198 records for FTNT\n"
     ]
    },
    {
     "name": "stderr",
     "output_type": "stream",
     "text": [
      "Downloading financial data:  40%|███▉      | 200/503 [04:07<06:39,  1.32s/it]"
     ]
    },
    {
     "name": "stdout",
     "output_type": "stream",
     "text": [
      "\n",
      "Processing FTV (201/503)\n",
      "Found CIK: 0001659166 for FTV\n",
      "Processing data for Fortive Corporation\n",
      "Saved 14523 records for FTV\n"
     ]
    },
    {
     "name": "stderr",
     "output_type": "stream",
     "text": [
      "Downloading financial data:  40%|███▉      | 201/503 [04:09<08:00,  1.59s/it]"
     ]
    },
    {
     "name": "stdout",
     "output_type": "stream",
     "text": [
      "\n",
      "Processing FOXA (202/503)\n",
      "Found CIK: 0001754301 for FOXA\n",
      "Processing data for FOX CORPORATION\n",
      "Saved 7848 records for FOXA\n"
     ]
    },
    {
     "name": "stderr",
     "output_type": "stream",
     "text": [
      "Downloading financial data:  40%|████      | 202/503 [04:10<07:23,  1.47s/it]"
     ]
    },
    {
     "name": "stdout",
     "output_type": "stream",
     "text": [
      "\n",
      "Processing FOX (203/503)\n",
      "Found CIK: 0001754301 for FOX\n",
      "Processing data for FOX CORPORATION\n",
      "Saved 7848 records for FOX\n"
     ]
    },
    {
     "name": "stderr",
     "output_type": "stream",
     "text": [
      "Downloading financial data:  40%|████      | 203/503 [04:11<06:52,  1.37s/it]"
     ]
    },
    {
     "name": "stdout",
     "output_type": "stream",
     "text": [
      "\n",
      "Processing BEN (204/503)\n",
      "Found CIK: 0000038777 for BEN\n",
      "Processing data for FRANKLIN RESOURCES, INC.\n",
      "Saved 26930 records for BEN\n"
     ]
    },
    {
     "name": "stderr",
     "output_type": "stream",
     "text": [
      "Downloading financial data:  41%|████      | 204/503 [04:13<06:40,  1.34s/it]"
     ]
    },
    {
     "name": "stdout",
     "output_type": "stream",
     "text": [
      "\n",
      "Processing FCX (205/503)\n",
      "Found CIK: 0000831259 for FCX\n",
      "Processing data for Freeport-McMoRan Inc.\n",
      "Saved 27116 records for FCX\n"
     ]
    },
    {
     "name": "stderr",
     "output_type": "stream",
     "text": [
      "Downloading financial data:  41%|████      | 205/503 [04:14<06:28,  1.31s/it]"
     ]
    },
    {
     "name": "stdout",
     "output_type": "stream",
     "text": [
      "\n",
      "Processing GRMN (206/503)\n",
      "Found CIK: 0001121788 for GRMN\n",
      "Processing data for GARMIN LTD\n",
      "Saved 23387 records for GRMN\n"
     ]
    },
    {
     "name": "stderr",
     "output_type": "stream",
     "text": [
      "Downloading financial data:  41%|████      | 206/503 [04:15<06:27,  1.31s/it]"
     ]
    },
    {
     "name": "stdout",
     "output_type": "stream",
     "text": [
      "\n",
      "Processing IT (207/503)\n",
      "Found CIK: 0000749251 for IT\n",
      "Processing data for Gartner, Inc.\n",
      "Saved 21836 records for IT\n"
     ]
    },
    {
     "name": "stderr",
     "output_type": "stream",
     "text": [
      "Downloading financial data:  41%|████      | 207/503 [04:16<06:15,  1.27s/it]"
     ]
    },
    {
     "name": "stdout",
     "output_type": "stream",
     "text": [
      "\n",
      "Processing GE (208/503)\n",
      "Found CIK: 0000040545 for GE\n",
      "Processing data for GENERAL ELECTRIC COMPANY\n",
      "Saved 37800 records for GE\n"
     ]
    },
    {
     "name": "stderr",
     "output_type": "stream",
     "text": [
      "Downloading financial data:  41%|████▏     | 208/503 [04:18<06:21,  1.29s/it]"
     ]
    },
    {
     "name": "stdout",
     "output_type": "stream",
     "text": [
      "\n",
      "Processing GEHC (209/503)\n",
      "Found CIK: 0001932393 for GEHC\n",
      "Processing data for GE HEALTHCARE TECHNOLOGIES INC.\n",
      "Saved 4758 records for GEHC\n"
     ]
    },
    {
     "name": "stderr",
     "output_type": "stream",
     "text": [
      "Downloading financial data:  42%|████▏     | 209/503 [04:19<06:00,  1.23s/it]"
     ]
    },
    {
     "name": "stdout",
     "output_type": "stream",
     "text": [
      "\n",
      "Processing GEV (210/503)\n",
      "Found CIK: 0001996810 for GEV\n",
      "Processing data for GE Vernova Inc.\n",
      "Saved 1956 records for GEV\n"
     ]
    },
    {
     "name": "stderr",
     "output_type": "stream",
     "text": [
      "Downloading financial data:  42%|████▏     | 210/503 [04:20<05:31,  1.13s/it]"
     ]
    },
    {
     "name": "stdout",
     "output_type": "stream",
     "text": [
      "\n",
      "Processing GEN (211/503)\n",
      "Found CIK: 0000849399 for GEN\n",
      "Processing data for Gen Digital Inc.\n",
      "Saved 25392 records for GEN\n"
     ]
    },
    {
     "name": "stderr",
     "output_type": "stream",
     "text": [
      "Downloading financial data:  42%|████▏     | 211/503 [04:21<05:37,  1.15s/it]"
     ]
    },
    {
     "name": "stdout",
     "output_type": "stream",
     "text": [
      "\n",
      "Processing GNRC (212/503)\n",
      "Found CIK: 0001474735 for GNRC\n",
      "Processing data for GENERAC HOLDINGS INC.\n",
      "Saved 21232 records for GNRC\n"
     ]
    },
    {
     "name": "stderr",
     "output_type": "stream",
     "text": [
      "Downloading financial data:  42%|████▏     | 212/503 [04:22<05:24,  1.11s/it]"
     ]
    },
    {
     "name": "stdout",
     "output_type": "stream",
     "text": [
      "\n",
      "Processing GD (213/503)\n",
      "Found CIK: 0000040533 for GD\n",
      "Processing data for GENERAL DYNAMICS CORPORATION\n",
      "Saved 22427 records for GD\n"
     ]
    },
    {
     "name": "stderr",
     "output_type": "stream",
     "text": [
      "Downloading financial data:  42%|████▏     | 213/503 [04:23<05:31,  1.14s/it]"
     ]
    },
    {
     "name": "stdout",
     "output_type": "stream",
     "text": [
      "\n",
      "Processing GIS (214/503)\n",
      "Found CIK: 0000040704 for GIS\n",
      "Processing data for GENERAL MILLS, INC.\n",
      "Saved 27043 records for GIS\n"
     ]
    },
    {
     "name": "stderr",
     "output_type": "stream",
     "text": [
      "Downloading financial data:  43%|████▎     | 214/503 [04:25<06:06,  1.27s/it]"
     ]
    },
    {
     "name": "stdout",
     "output_type": "stream",
     "text": [
      "\n",
      "Processing GM (215/503)\n",
      "Found CIK: 0001467858 for GM\n",
      "Processing data for GENERAL MOTORS COMPANY\n",
      "Saved 21426 records for GM\n"
     ]
    },
    {
     "name": "stderr",
     "output_type": "stream",
     "text": [
      "Downloading financial data:  43%|████▎     | 215/503 [04:26<06:08,  1.28s/it]"
     ]
    },
    {
     "name": "stdout",
     "output_type": "stream",
     "text": [
      "\n",
      "Processing GPC (216/503)\n",
      "Found CIK: 0000040987 for GPC\n",
      "Processing data for GENUINE PARTS CO\n",
      "Saved 20743 records for GPC\n"
     ]
    },
    {
     "name": "stderr",
     "output_type": "stream",
     "text": [
      "Downloading financial data:  43%|████▎     | 216/503 [04:27<05:59,  1.25s/it]"
     ]
    },
    {
     "name": "stdout",
     "output_type": "stream",
     "text": [
      "\n",
      "Processing GILD (217/503)\n",
      "Found CIK: 0000882095 for GILD\n",
      "Processing data for GILEAD SCIENCES, INC.\n",
      "Saved 28620 records for GILD\n"
     ]
    },
    {
     "name": "stderr",
     "output_type": "stream",
     "text": [
      "Downloading financial data:  43%|████▎     | 217/503 [04:29<06:09,  1.29s/it]"
     ]
    },
    {
     "name": "stdout",
     "output_type": "stream",
     "text": [
      "\n",
      "Processing GPN (218/503)\n",
      "Found CIK: 0001123360 for GPN\n",
      "Processing data for GLOBAL PAYMENTS INC.\n",
      "Saved 24318 records for GPN\n"
     ]
    },
    {
     "name": "stderr",
     "output_type": "stream",
     "text": [
      "Downloading financial data:  43%|████▎     | 218/503 [04:30<06:01,  1.27s/it]"
     ]
    },
    {
     "name": "stdout",
     "output_type": "stream",
     "text": [
      "\n",
      "Processing GL (219/503)\n",
      "Found CIK: 0000320335 for GL\n",
      "Processing data for GLOBE LIFE INC.\n",
      "Saved 29514 records for GL\n"
     ]
    },
    {
     "name": "stderr",
     "output_type": "stream",
     "text": [
      "Downloading financial data:  44%|████▎     | 219/503 [04:32<06:51,  1.45s/it]"
     ]
    },
    {
     "name": "stdout",
     "output_type": "stream",
     "text": [
      "\n",
      "Processing GDDY (220/503)\n",
      "Found CIK: 0001609711 for GDDY\n",
      "Processing data for GoDaddy Inc.\n",
      "Saved 13721 records for GDDY\n"
     ]
    },
    {
     "name": "stderr",
     "output_type": "stream",
     "text": [
      "Downloading financial data:  44%|████▎     | 220/503 [04:33<06:50,  1.45s/it]"
     ]
    },
    {
     "name": "stdout",
     "output_type": "stream",
     "text": [
      "\n",
      "Processing GS (221/503)\n",
      "Found CIK: 0000886982 for GS\n",
      "Processing data for The Goldman Sachs Group, Inc.\n",
      "Saved 34482 records for GS\n"
     ]
    },
    {
     "name": "stderr",
     "output_type": "stream",
     "text": [
      "Downloading financial data:  44%|████▍     | 221/503 [04:35<07:35,  1.62s/it]"
     ]
    },
    {
     "name": "stdout",
     "output_type": "stream",
     "text": [
      "\n",
      "Processing HAL (222/503)\n",
      "Found CIK: 0000045012 for HAL\n",
      "Processing data for HALLIBURTON COMPANY\n",
      "Saved 19645 records for HAL\n"
     ]
    },
    {
     "name": "stderr",
     "output_type": "stream",
     "text": [
      "Downloading financial data:  44%|████▍     | 222/503 [04:36<07:01,  1.50s/it]"
     ]
    },
    {
     "name": "stdout",
     "output_type": "stream",
     "text": [
      "\n",
      "Processing HIG (223/503)\n",
      "Found CIK: 0000874766 for HIG\n",
      "Processing data for The Hartford Insurance Group, Inc.\n",
      "Saved 36429 records for HIG\n"
     ]
    },
    {
     "name": "stderr",
     "output_type": "stream",
     "text": [
      "Downloading financial data:  44%|████▍     | 223/503 [04:38<06:45,  1.45s/it]"
     ]
    },
    {
     "name": "stdout",
     "output_type": "stream",
     "text": [
      "\n",
      "Processing HAS (224/503)\n",
      "Found CIK: 0000046080 for HAS\n",
      "Processing data for HASBRO, INC.\n",
      "Saved 24555 records for HAS\n"
     ]
    },
    {
     "name": "stderr",
     "output_type": "stream",
     "text": [
      "Downloading financial data:  45%|████▍     | 224/503 [04:40<08:01,  1.73s/it]"
     ]
    },
    {
     "name": "stdout",
     "output_type": "stream",
     "text": [
      "\n",
      "Processing HCA (225/503)\n",
      "Found CIK: 0000860730 for HCA\n",
      "Processing data for HCA Healthcare, Inc.\n",
      "Saved 22023 records for HCA\n"
     ]
    },
    {
     "name": "stderr",
     "output_type": "stream",
     "text": [
      "Downloading financial data:  45%|████▍     | 225/503 [04:41<07:32,  1.63s/it]"
     ]
    },
    {
     "name": "stdout",
     "output_type": "stream",
     "text": [
      "\n",
      "Processing DOC (226/503)\n",
      "Found CIK: 0000765880 for DOC\n",
      "Processing data for Healthpeak Properties, Inc.\n",
      "Saved 29812 records for DOC\n"
     ]
    },
    {
     "name": "stderr",
     "output_type": "stream",
     "text": [
      "Downloading financial data:  45%|████▍     | 226/503 [04:45<10:11,  2.21s/it]"
     ]
    },
    {
     "name": "stdout",
     "output_type": "stream",
     "text": [
      "\n",
      "Processing HSIC (227/503)\n",
      "Found CIK: 0001000228 for HSIC\n",
      "Processing data for Henry Schein, Inc.\n",
      "Saved 24850 records for HSIC\n"
     ]
    },
    {
     "name": "stderr",
     "output_type": "stream",
     "text": [
      "Downloading financial data:  45%|████▌     | 227/503 [04:46<09:07,  1.99s/it]"
     ]
    },
    {
     "name": "stdout",
     "output_type": "stream",
     "text": [
      "\n",
      "Processing HSY (228/503)\n",
      "Found CIK: 0000047111 for HSY\n",
      "Processing data for HERSHEY CO\n",
      "Saved 27726 records for HSY\n"
     ]
    },
    {
     "name": "stderr",
     "output_type": "stream",
     "text": [
      "Downloading financial data:  45%|████▌     | 228/503 [04:48<08:16,  1.80s/it]"
     ]
    },
    {
     "name": "stdout",
     "output_type": "stream",
     "text": [
      "\n",
      "Processing HES (229/503)\n",
      "Found CIK: 0000004447 for HES\n",
      "Processing data for HESS CORPORATION\n",
      "Saved 25562 records for HES\n"
     ]
    },
    {
     "name": "stderr",
     "output_type": "stream",
     "text": [
      "Downloading financial data:  46%|████▌     | 229/503 [04:49<07:31,  1.65s/it]"
     ]
    },
    {
     "name": "stdout",
     "output_type": "stream",
     "text": [
      "\n",
      "Processing HPE (230/503)\n",
      "Found CIK: 0001645590 for HPE\n",
      "Processing data for HEWLETT PACKARD ENTERPRISE COMPANY\n",
      "Saved 20020 records for HPE\n"
     ]
    },
    {
     "name": "stderr",
     "output_type": "stream",
     "text": [
      "Downloading financial data:  46%|████▌     | 230/503 [04:51<07:23,  1.62s/it]"
     ]
    },
    {
     "name": "stdout",
     "output_type": "stream",
     "text": [
      "\n",
      "Processing HLT (231/503)\n",
      "Found CIK: 0001585689 for HLT\n",
      "Processing data for Hilton Worldwide Holdings Inc.\n",
      "Saved 19052 records for HLT\n"
     ]
    },
    {
     "name": "stderr",
     "output_type": "stream",
     "text": [
      "Downloading financial data:  46%|████▌     | 231/503 [04:52<07:15,  1.60s/it]"
     ]
    },
    {
     "name": "stdout",
     "output_type": "stream",
     "text": [
      "\n",
      "Processing HOLX (232/503)\n",
      "Found CIK: 0000859737 for HOLX\n",
      "Processing data for HOLOGIC, INC\n",
      "Saved 28486 records for HOLX\n"
     ]
    },
    {
     "name": "stderr",
     "output_type": "stream",
     "text": [
      "Downloading financial data:  46%|████▌     | 232/503 [04:53<06:42,  1.48s/it]"
     ]
    },
    {
     "name": "stdout",
     "output_type": "stream",
     "text": [
      "\n",
      "Processing HD (233/503)\n",
      "Found CIK: 0000354950 for HD\n",
      "Processing data for HOME DEPOT, INC.\n",
      "Saved 19448 records for HD\n"
     ]
    },
    {
     "name": "stderr",
     "output_type": "stream",
     "text": [
      "Downloading financial data:  46%|████▋     | 233/503 [04:55<06:20,  1.41s/it]"
     ]
    },
    {
     "name": "stdout",
     "output_type": "stream",
     "text": [
      "\n",
      "Processing HON (234/503)\n",
      "Found CIK: 0000773840 for HON\n",
      "Processing data for Honeywell International Inc\n",
      "Saved 27686 records for HON\n"
     ]
    },
    {
     "name": "stderr",
     "output_type": "stream",
     "text": [
      "Downloading financial data:  47%|████▋     | 234/503 [04:56<06:16,  1.40s/it]"
     ]
    },
    {
     "name": "stdout",
     "output_type": "stream",
     "text": [
      "\n",
      "Processing HRL (235/503)\n",
      "Found CIK: 0000048465 for HRL\n",
      "Processing data for HORMEL FOODS CORPORATION\n",
      "Saved 20932 records for HRL\n"
     ]
    },
    {
     "name": "stderr",
     "output_type": "stream",
     "text": [
      "Downloading financial data:  47%|████▋     | 235/503 [04:57<05:58,  1.34s/it]"
     ]
    },
    {
     "name": "stdout",
     "output_type": "stream",
     "text": [
      "\n",
      "Processing HST (236/503)\n",
      "Found CIK: 0001070750 for HST\n",
      "Processing data for HOST HOTELS & RESORTS, INC.\n",
      "Saved 17925 records for HST\n"
     ]
    },
    {
     "name": "stderr",
     "output_type": "stream",
     "text": [
      "Downloading financial data:  47%|████▋     | 236/503 [04:59<05:50,  1.31s/it]"
     ]
    },
    {
     "name": "stdout",
     "output_type": "stream",
     "text": [
      "\n",
      "Processing HWM (237/503)\n",
      "Found CIK: 0000004281 for HWM\n",
      "Processing data for HOWMET AEROSPACE INC.\n",
      "Saved 30324 records for HWM\n"
     ]
    },
    {
     "name": "stderr",
     "output_type": "stream",
     "text": [
      "Downloading financial data:  47%|████▋     | 237/503 [05:01<07:09,  1.61s/it]"
     ]
    },
    {
     "name": "stdout",
     "output_type": "stream",
     "text": [
      "\n",
      "Processing HPQ (238/503)\n",
      "Found CIK: 0000047217 for HPQ\n",
      "Processing data for HP INC.\n",
      "Saved 30212 records for HPQ\n"
     ]
    },
    {
     "name": "stderr",
     "output_type": "stream",
     "text": [
      "Downloading financial data:  47%|████▋     | 238/503 [05:07<13:18,  3.01s/it]"
     ]
    },
    {
     "name": "stdout",
     "output_type": "stream",
     "text": [
      "\n",
      "Processing HUBB (239/503)\n",
      "Found CIK: 0000048898 for HUBB\n",
      "Processing data for HUBBELL INC\n",
      "Saved 23471 records for HUBB\n"
     ]
    },
    {
     "name": "stderr",
     "output_type": "stream",
     "text": [
      "Downloading financial data:  48%|████▊     | 239/503 [05:08<11:02,  2.51s/it]"
     ]
    },
    {
     "name": "stdout",
     "output_type": "stream",
     "text": [
      "\n",
      "Processing HUM (240/503)\n",
      "Found CIK: 0000049071 for HUM\n",
      "Processing data for HUMANA INC\n",
      "Saved 27442 records for HUM\n"
     ]
    },
    {
     "name": "stderr",
     "output_type": "stream",
     "text": [
      "Downloading financial data:  48%|████▊     | 240/503 [05:10<09:58,  2.28s/it]"
     ]
    },
    {
     "name": "stdout",
     "output_type": "stream",
     "text": [
      "\n",
      "Processing HBAN (241/503)\n",
      "Found CIK: 0000049196 for HBAN\n",
      "Processing data for Huntington Bancshares Incorporated\n",
      "Saved 39080 records for HBAN\n"
     ]
    },
    {
     "name": "stderr",
     "output_type": "stream",
     "text": [
      "Downloading financial data:  48%|████▊     | 241/503 [05:12<09:15,  2.12s/it]"
     ]
    },
    {
     "name": "stdout",
     "output_type": "stream",
     "text": [
      "\n",
      "Processing HII (242/503)\n",
      "Found CIK: 0001501585 for HII\n",
      "Processing data for HUNTINGTON INGALLS INDUSTRIES, INC.\n",
      "Saved 18708 records for HII\n"
     ]
    },
    {
     "name": "stderr",
     "output_type": "stream",
     "text": [
      "Downloading financial data:  48%|████▊     | 242/503 [05:14<08:34,  1.97s/it]"
     ]
    },
    {
     "name": "stdout",
     "output_type": "stream",
     "text": [
      "\n",
      "Processing IBM (243/503)\n",
      "Found CIK: 0000051143 for IBM\n",
      "Processing data for INTERNATIONAL BUSINESS MACHINES CORPORATION\n",
      "Saved 34797 records for IBM\n"
     ]
    },
    {
     "name": "stderr",
     "output_type": "stream",
     "text": [
      "Downloading financial data:  48%|████▊     | 243/503 [05:16<08:36,  1.99s/it]"
     ]
    },
    {
     "name": "stdout",
     "output_type": "stream",
     "text": [
      "\n",
      "Processing IEX (244/503)\n",
      "Found CIK: 0000832101 for IEX\n",
      "Processing data for IDEX CORP\n",
      "Saved 24051 records for IEX\n"
     ]
    },
    {
     "name": "stderr",
     "output_type": "stream",
     "text": [
      "Downloading financial data:  49%|████▊     | 244/503 [05:17<08:07,  1.88s/it]"
     ]
    },
    {
     "name": "stdout",
     "output_type": "stream",
     "text": [
      "\n",
      "Processing IDXX (245/503)\n",
      "Found CIK: 0000874716 for IDXX\n",
      "Processing data for IDEXX LABORATORIES INC /DE\n",
      "Saved 24603 records for IDXX\n"
     ]
    },
    {
     "name": "stderr",
     "output_type": "stream",
     "text": [
      "Downloading financial data:  49%|████▊     | 245/503 [05:19<07:50,  1.82s/it]"
     ]
    },
    {
     "name": "stdout",
     "output_type": "stream",
     "text": [
      "\n",
      "Processing ITW (246/503)\n",
      "Found CIK: 0000049826 for ITW\n",
      "Processing data for ILLINOIS TOOL WORKS INC\n",
      "Saved 21823 records for ITW\n"
     ]
    },
    {
     "name": "stderr",
     "output_type": "stream",
     "text": [
      "Downloading financial data:  49%|████▉     | 246/503 [05:21<07:32,  1.76s/it]"
     ]
    },
    {
     "name": "stdout",
     "output_type": "stream",
     "text": [
      "\n",
      "Processing INCY (247/503)\n",
      "Found CIK: 0000879169 for INCY\n",
      "Processing data for INCYTE CORPORATION\n",
      "Saved 17985 records for INCY\n"
     ]
    },
    {
     "name": "stderr",
     "output_type": "stream",
     "text": [
      "Downloading financial data:  49%|████▉     | 247/503 [05:22<06:47,  1.59s/it]"
     ]
    },
    {
     "name": "stdout",
     "output_type": "stream",
     "text": [
      "\n",
      "Processing IR (248/503)\n",
      "Found CIK: 0001699150 for IR\n",
      "Processing data for Ingersoll Rand Inc.\n",
      "Saved 14868 records for IR\n"
     ]
    },
    {
     "name": "stderr",
     "output_type": "stream",
     "text": [
      "Downloading financial data:  49%|████▉     | 248/503 [05:23<06:51,  1.61s/it]"
     ]
    },
    {
     "name": "stdout",
     "output_type": "stream",
     "text": [
      "\n",
      "Processing PODD (249/503)\n",
      "Found CIK: 0001145197 for PODD\n",
      "Processing data for INSULET CORPORATION\n",
      "Saved 21303 records for PODD\n"
     ]
    },
    {
     "name": "stderr",
     "output_type": "stream",
     "text": [
      "Downloading financial data:  50%|████▉     | 249/503 [05:25<06:11,  1.46s/it]"
     ]
    },
    {
     "name": "stdout",
     "output_type": "stream",
     "text": [
      "\n",
      "Processing INTC (250/503)\n",
      "Found CIK: 0000050863 for INTC\n",
      "Processing data for INTEL CORPORATION\n",
      "Saved 26226 records for INTC\n"
     ]
    },
    {
     "name": "stderr",
     "output_type": "stream",
     "text": [
      "Downloading financial data:  50%|████▉     | 250/503 [05:26<05:54,  1.40s/it]"
     ]
    },
    {
     "name": "stdout",
     "output_type": "stream",
     "text": [
      "\n",
      "Processing ICE (251/503)\n",
      "Found CIK: 0001571949 for ICE\n",
      "Processing data for INTERCONTINENTAL EXCHANGE, INC.\n",
      "Saved 21928 records for ICE\n"
     ]
    },
    {
     "name": "stderr",
     "output_type": "stream",
     "text": [
      "Downloading financial data:  50%|████▉     | 251/503 [05:27<05:30,  1.31s/it]"
     ]
    },
    {
     "name": "stdout",
     "output_type": "stream",
     "text": [
      "\n",
      "Processing IFF (252/503)\n",
      "Found CIK: 0000051253 for IFF\n",
      "Processing data for INTERNATIONAL FLAVORS & FRAGRANCES INC\n",
      "Saved 23603 records for IFF\n"
     ]
    },
    {
     "name": "stderr",
     "output_type": "stream",
     "text": [
      "Downloading financial data:  50%|█████     | 252/503 [05:28<05:21,  1.28s/it]"
     ]
    },
    {
     "name": "stdout",
     "output_type": "stream",
     "text": [
      "\n",
      "Processing IP (253/503)\n",
      "Found CIK: 0000051434 for IP\n",
      "Processing data for INTERNATIONAL PAPER COMPANY\n",
      "Saved 29805 records for IP\n"
     ]
    },
    {
     "name": "stderr",
     "output_type": "stream",
     "text": [
      "Downloading financial data:  50%|█████     | 253/503 [05:29<05:23,  1.29s/it]"
     ]
    },
    {
     "name": "stdout",
     "output_type": "stream",
     "text": [
      "\n",
      "Processing IPG (254/503)\n",
      "Found CIK: 0000051644 for IPG\n",
      "Processing data for INTERPUBLIC GROUP OF COMPANIES, INC.\n",
      "Saved 27586 records for IPG\n"
     ]
    },
    {
     "name": "stderr",
     "output_type": "stream",
     "text": [
      "Downloading financial data:  50%|█████     | 254/503 [05:31<05:24,  1.30s/it]"
     ]
    },
    {
     "name": "stdout",
     "output_type": "stream",
     "text": [
      "\n",
      "Processing INTU (255/503)\n",
      "Found CIK: 0000896878 for INTU\n",
      "Processing data for INTUIT INC.\n",
      "Saved 26577 records for INTU\n"
     ]
    },
    {
     "name": "stderr",
     "output_type": "stream",
     "text": [
      "Downloading financial data:  51%|█████     | 255/503 [05:32<05:22,  1.30s/it]"
     ]
    },
    {
     "name": "stdout",
     "output_type": "stream",
     "text": [
      "\n",
      "Processing ISRG (256/503)\n",
      "Found CIK: 0001035267 for ISRG\n",
      "Processing data for Intuitive Surgical, Inc.\n",
      "Saved 25610 records for ISRG\n"
     ]
    },
    {
     "name": "stderr",
     "output_type": "stream",
     "text": [
      "Downloading financial data:  51%|█████     | 256/503 [05:34<05:46,  1.40s/it]"
     ]
    },
    {
     "name": "stdout",
     "output_type": "stream",
     "text": [
      "\n",
      "Processing IVZ (257/503)\n",
      "Found CIK: 0000914208 for IVZ\n",
      "Processing data for Invesco Ltd.\n",
      "Saved 25818 records for IVZ\n"
     ]
    },
    {
     "name": "stderr",
     "output_type": "stream",
     "text": [
      "Downloading financial data:  51%|█████     | 257/503 [05:35<05:29,  1.34s/it]"
     ]
    },
    {
     "name": "stdout",
     "output_type": "stream",
     "text": [
      "\n",
      "Processing INVH (258/503)\n",
      "Found CIK: 0001687229 for INVH\n",
      "Processing data for Invitation Homes Inc.\n",
      "Saved 14349 records for INVH\n"
     ]
    },
    {
     "name": "stderr",
     "output_type": "stream",
     "text": [
      "Downloading financial data:  51%|█████▏    | 258/503 [05:36<05:11,  1.27s/it]"
     ]
    },
    {
     "name": "stdout",
     "output_type": "stream",
     "text": [
      "\n",
      "Processing IQV (259/503)\n",
      "Found CIK: 0001478242 for IQV\n",
      "Processing data for IQVIA HOLDINGS INC.\n",
      "Saved 19142 records for IQV\n"
     ]
    },
    {
     "name": "stderr",
     "output_type": "stream",
     "text": [
      "Downloading financial data:  51%|█████▏    | 259/503 [05:38<05:42,  1.40s/it]"
     ]
    },
    {
     "name": "stdout",
     "output_type": "stream",
     "text": [
      "\n",
      "Processing IRM (260/503)\n",
      "Found CIK: 0001020569 for IRM\n",
      "Processing data for IRON MOUNTAIN INC\n",
      "Saved 29641 records for IRM\n"
     ]
    },
    {
     "name": "stderr",
     "output_type": "stream",
     "text": [
      "Downloading financial data:  52%|█████▏    | 260/503 [05:39<05:58,  1.47s/it]"
     ]
    },
    {
     "name": "stdout",
     "output_type": "stream",
     "text": [
      "\n",
      "Processing JBHT (261/503)\n",
      "Found CIK: 0000728535 for JBHT\n",
      "Processing data for J.B. HUNT TRANSPORT SERVICES, INC.\n",
      "Saved 14504 records for JBHT\n"
     ]
    },
    {
     "name": "stderr",
     "output_type": "stream",
     "text": [
      "Downloading financial data:  52%|█████▏    | 261/503 [05:41<06:02,  1.50s/it]"
     ]
    },
    {
     "name": "stdout",
     "output_type": "stream",
     "text": [
      "\n",
      "Processing JBL (262/503)\n",
      "Found CIK: 0000898293 for JBL\n",
      "Processing data for JABIL INC\n",
      "Saved 23525 records for JBL\n"
     ]
    },
    {
     "name": "stderr",
     "output_type": "stream",
     "text": [
      "Downloading financial data:  52%|█████▏    | 262/503 [05:42<05:58,  1.49s/it]"
     ]
    },
    {
     "name": "stdout",
     "output_type": "stream",
     "text": [
      "\n",
      "Processing JKHY (263/503)\n",
      "Found CIK: 0000779152 for JKHY\n",
      "Processing data for JACK HENRY & ASSOCIATES, INC.\n",
      "Saved 20693 records for JKHY\n"
     ]
    },
    {
     "name": "stderr",
     "output_type": "stream",
     "text": [
      "Downloading financial data:  52%|█████▏    | 263/503 [05:44<05:50,  1.46s/it]"
     ]
    },
    {
     "name": "stdout",
     "output_type": "stream",
     "text": [
      "\n",
      "Processing J (264/503)\n",
      "Found CIK: 0000052988 for J\n",
      "Processing data for JACOBS SOLUTIONS INC.\n",
      "Saved 26484 records for J\n"
     ]
    },
    {
     "name": "stderr",
     "output_type": "stream",
     "text": [
      "Downloading financial data:  52%|█████▏    | 264/503 [05:45<05:37,  1.41s/it]"
     ]
    },
    {
     "name": "stdout",
     "output_type": "stream",
     "text": [
      "\n",
      "Processing JNJ (265/503)\n",
      "Found CIK: 0000200406 for JNJ\n",
      "Processing data for Johnson & Johnson\n",
      "Saved 25397 records for JNJ\n"
     ]
    },
    {
     "name": "stderr",
     "output_type": "stream",
     "text": [
      "Downloading financial data:  53%|█████▎    | 265/503 [05:46<05:31,  1.39s/it]"
     ]
    },
    {
     "name": "stdout",
     "output_type": "stream",
     "text": [
      "\n",
      "Processing JCI (266/503)\n",
      "Found CIK: 0000833444 for JCI\n",
      "Processing data for JOHNSON CONTROLS INTERNATIONAL PLC\n",
      "Saved 31252 records for JCI\n"
     ]
    },
    {
     "name": "stderr",
     "output_type": "stream",
     "text": [
      "Downloading financial data:  53%|█████▎    | 266/503 [05:48<05:41,  1.44s/it]"
     ]
    },
    {
     "name": "stdout",
     "output_type": "stream",
     "text": [
      "\n",
      "Processing JPM (267/503)\n",
      "Found CIK: 0000019617 for JPM\n",
      "Processing data for JPMorgan Chase & Co\n",
      "Saved 45865 records for JPM\n"
     ]
    },
    {
     "name": "stderr",
     "output_type": "stream",
     "text": [
      "Downloading financial data:  53%|█████▎    | 267/503 [05:50<06:35,  1.67s/it]"
     ]
    },
    {
     "name": "stdout",
     "output_type": "stream",
     "text": [
      "\n",
      "Processing JNPR (268/503)\n",
      "Found CIK: 0001043604 for JNPR\n",
      "Processing data for JUNIPER NETWORKS, INC.\n",
      "Saved 29817 records for JNPR\n"
     ]
    },
    {
     "name": "stderr",
     "output_type": "stream",
     "text": [
      "Downloading financial data:  53%|█████▎    | 268/503 [05:52<06:35,  1.68s/it]"
     ]
    },
    {
     "name": "stdout",
     "output_type": "stream",
     "text": [
      "\n",
      "Processing K (269/503)\n",
      "Found CIK: 0000055067 for K\n",
      "Processing data for Kellanova\n",
      "Saved 29396 records for K\n"
     ]
    },
    {
     "name": "stderr",
     "output_type": "stream",
     "text": [
      "Downloading financial data:  53%|█████▎    | 269/503 [05:53<06:14,  1.60s/it]"
     ]
    },
    {
     "name": "stdout",
     "output_type": "stream",
     "text": [
      "\n",
      "Processing KVUE (270/503)\n",
      "Found CIK: 0001944048 for KVUE\n",
      "Processing data for Kenvue Inc.\n",
      "Saved 3816 records for KVUE\n"
     ]
    },
    {
     "name": "stderr",
     "output_type": "stream",
     "text": [
      "Downloading financial data:  54%|█████▎    | 270/503 [05:54<05:28,  1.41s/it]"
     ]
    },
    {
     "name": "stdout",
     "output_type": "stream",
     "text": [
      "\n",
      "Processing KDP (271/503)\n",
      "Found CIK: 0001418135 for KDP\n",
      "Processing data for Keurig Dr Pepper Inc.\n",
      "Saved 31793 records for KDP\n"
     ]
    },
    {
     "name": "stderr",
     "output_type": "stream",
     "text": [
      "Downloading financial data:  54%|█████▍    | 271/503 [05:56<05:23,  1.39s/it]"
     ]
    },
    {
     "name": "stdout",
     "output_type": "stream",
     "text": [
      "\n",
      "Processing KEY (272/503)\n",
      "Found CIK: 0000091576 for KEY\n",
      "Processing data for KeyCorp\n",
      "Saved 39136 records for KEY\n"
     ]
    },
    {
     "name": "stderr",
     "output_type": "stream",
     "text": [
      "Downloading financial data:  54%|█████▍    | 272/503 [05:57<05:21,  1.39s/it]"
     ]
    },
    {
     "name": "stdout",
     "output_type": "stream",
     "text": [
      "\n",
      "Processing KEYS (273/503)\n",
      "Found CIK: 0001601046 for KEYS\n",
      "Processing data for KEYSIGHT TECHNOLOGIES, INC.\n",
      "Saved 20195 records for KEYS\n"
     ]
    },
    {
     "name": "stderr",
     "output_type": "stream",
     "text": [
      "Downloading financial data:  54%|█████▍    | 273/503 [05:58<05:14,  1.37s/it]"
     ]
    },
    {
     "name": "stdout",
     "output_type": "stream",
     "text": [
      "\n",
      "Processing KMB (274/503)\n",
      "Found CIK: 0000055785 for KMB\n",
      "Processing data for KIMBERLY-CLARK CORPORATION\n",
      "Saved 20555 records for KMB\n"
     ]
    },
    {
     "name": "stderr",
     "output_type": "stream",
     "text": [
      "Downloading financial data:  54%|█████▍    | 274/503 [05:59<04:58,  1.30s/it]"
     ]
    },
    {
     "name": "stdout",
     "output_type": "stream",
     "text": [
      "\n",
      "Processing KIM (275/503)\n",
      "Found CIK: 0000879101 for KIM\n",
      "Processing data for KIMCO REALTY CORPORATION\n",
      "Saved 29387 records for KIM\n"
     ]
    },
    {
     "name": "stderr",
     "output_type": "stream",
     "text": [
      "Downloading financial data:  55%|█████▍    | 275/503 [06:01<05:07,  1.35s/it]"
     ]
    },
    {
     "name": "stdout",
     "output_type": "stream",
     "text": [
      "\n",
      "Processing KMI (276/503)\n",
      "Found CIK: 0001506307 for KMI\n",
      "Processing data for KINDER MORGAN, INC.\n",
      "Saved 23198 records for KMI\n"
     ]
    },
    {
     "name": "stderr",
     "output_type": "stream",
     "text": [
      "Downloading financial data:  55%|█████▍    | 276/503 [06:02<05:15,  1.39s/it]"
     ]
    },
    {
     "name": "stdout",
     "output_type": "stream",
     "text": [
      "\n",
      "Processing KKR (277/503)\n",
      "Found CIK: 0001404912 for KKR\n",
      "Processing data for KKR & CO. INC.\n",
      "Saved 17999 records for KKR\n"
     ]
    },
    {
     "name": "stderr",
     "output_type": "stream",
     "text": [
      "Downloading financial data:  55%|█████▌    | 277/503 [06:04<05:04,  1.35s/it]"
     ]
    },
    {
     "name": "stdout",
     "output_type": "stream",
     "text": [
      "\n",
      "Processing KLAC (278/503)\n",
      "Found CIK: 0000319201 for KLAC\n",
      "Processing data for KLA CORP\n",
      "Saved 30309 records for KLAC\n"
     ]
    },
    {
     "name": "stderr",
     "output_type": "stream",
     "text": [
      "Downloading financial data:  55%|█████▌    | 278/503 [06:05<04:55,  1.31s/it]"
     ]
    },
    {
     "name": "stdout",
     "output_type": "stream",
     "text": [
      "\n",
      "Processing KHC (279/503)\n",
      "Found CIK: 0001637459 for KHC\n",
      "Processing data for Kraft Heinz Co\n",
      "Saved 20136 records for KHC\n"
     ]
    },
    {
     "name": "stderr",
     "output_type": "stream",
     "text": [
      "Downloading financial data:  55%|█████▌    | 279/503 [06:06<04:46,  1.28s/it]"
     ]
    },
    {
     "name": "stdout",
     "output_type": "stream",
     "text": [
      "\n",
      "Processing KR (280/503)\n",
      "Found CIK: 0000056873 for KR\n",
      "Processing data for KROGER CO\n",
      "Saved 24032 records for KR\n"
     ]
    },
    {
     "name": "stderr",
     "output_type": "stream",
     "text": [
      "Downloading financial data:  56%|█████▌    | 280/503 [06:09<06:39,  1.79s/it]"
     ]
    },
    {
     "name": "stdout",
     "output_type": "stream",
     "text": [
      "\n",
      "Processing LHX (281/503)\n",
      "Found CIK: 0000202058 for LHX\n",
      "Processing data for L3HARRIS TECHNOLOGIES, INC.\n",
      "Saved 26166 records for LHX\n"
     ]
    },
    {
     "name": "stderr",
     "output_type": "stream",
     "text": [
      "Downloading financial data:  56%|█████▌    | 281/503 [06:10<06:01,  1.63s/it]"
     ]
    },
    {
     "name": "stdout",
     "output_type": "stream",
     "text": [
      "\n",
      "Processing LH (282/503)\n",
      "Found CIK: 0000920148 for LH\n",
      "Processing data for LABCORP HOLDINGS INC.\n",
      "Saved 26815 records for LH\n"
     ]
    },
    {
     "name": "stderr",
     "output_type": "stream",
     "text": [
      "Downloading financial data:  56%|█████▌    | 282/503 [06:12<05:43,  1.56s/it]"
     ]
    },
    {
     "name": "stdout",
     "output_type": "stream",
     "text": [
      "\n",
      "Processing LRCX (283/503)\n",
      "Found CIK: 0000707549 for LRCX\n",
      "Processing data for LAM RESEARCH CORPORATION\n",
      "Saved 25170 records for LRCX\n"
     ]
    },
    {
     "name": "stderr",
     "output_type": "stream",
     "text": [
      "Downloading financial data:  56%|█████▋    | 283/503 [06:13<05:15,  1.44s/it]"
     ]
    },
    {
     "name": "stdout",
     "output_type": "stream",
     "text": [
      "\n",
      "Processing LW (284/503)\n",
      "Found CIK: 0001679273 for LW\n",
      "Processing data for LAMB WESTON HOLDINGS, INC.\n",
      "Saved 12692 records for LW\n"
     ]
    },
    {
     "name": "stderr",
     "output_type": "stream",
     "text": [
      "Downloading financial data:  56%|█████▋    | 284/503 [06:14<04:53,  1.34s/it]"
     ]
    },
    {
     "name": "stdout",
     "output_type": "stream",
     "text": [
      "\n",
      "Processing LVS (285/503)\n",
      "Found CIK: 0001300514 for LVS\n",
      "Processing data for LAS VEGAS SANDS CORP.\n",
      "Saved 22159 records for LVS\n"
     ]
    },
    {
     "name": "stderr",
     "output_type": "stream",
     "text": [
      "Downloading financial data:  57%|█████▋    | 285/503 [06:15<04:51,  1.34s/it]"
     ]
    },
    {
     "name": "stdout",
     "output_type": "stream",
     "text": [
      "\n",
      "Processing LDOS (286/503)\n",
      "Found CIK: 0001336920 for LDOS\n",
      "Processing data for Leidos Holdings, Inc.\n",
      "Saved 24521 records for LDOS\n"
     ]
    },
    {
     "name": "stderr",
     "output_type": "stream",
     "text": [
      "Downloading financial data:  57%|█████▋    | 286/503 [06:17<04:44,  1.31s/it]"
     ]
    },
    {
     "name": "stdout",
     "output_type": "stream",
     "text": [
      "\n",
      "Processing LEN (287/503)\n",
      "Found CIK: 0000920760 for LEN\n",
      "Processing data for LENNAR CORP /NEW/\n",
      "Saved 17737 records for LEN\n"
     ]
    },
    {
     "name": "stderr",
     "output_type": "stream",
     "text": [
      "Downloading financial data:  57%|█████▋    | 287/503 [06:18<04:34,  1.27s/it]"
     ]
    },
    {
     "name": "stdout",
     "output_type": "stream",
     "text": [
      "\n",
      "Processing LII (288/503)\n",
      "Found CIK: 0001069202 for LII\n",
      "Processing data for LENNOX INTERNATIONAL INC\n",
      "Saved 26600 records for LII\n"
     ]
    },
    {
     "name": "stderr",
     "output_type": "stream",
     "text": [
      "Downloading financial data:  57%|█████▋    | 288/503 [06:19<04:35,  1.28s/it]"
     ]
    },
    {
     "name": "stdout",
     "output_type": "stream",
     "text": [
      "\n",
      "Processing LLY (289/503)\n",
      "Found CIK: 0000059478 for LLY\n",
      "Processing data for ELI LILLY AND COMPANY\n",
      "Saved 21954 records for LLY\n"
     ]
    },
    {
     "name": "stderr",
     "output_type": "stream",
     "text": [
      "Downloading financial data:  57%|█████▋    | 289/503 [06:20<04:20,  1.22s/it]"
     ]
    },
    {
     "name": "stdout",
     "output_type": "stream",
     "text": [
      "\n",
      "Processing LIN (290/503)\n",
      "Found CIK: 0001707925 for LIN\n",
      "Processing data for Linde plc\n",
      "Saved 12209 records for LIN\n"
     ]
    },
    {
     "name": "stderr",
     "output_type": "stream",
     "text": [
      "Downloading financial data:  58%|█████▊    | 290/503 [06:21<04:10,  1.17s/it]"
     ]
    },
    {
     "name": "stdout",
     "output_type": "stream",
     "text": [
      "\n",
      "Processing LYV (291/503)\n",
      "Found CIK: 0001335258 for LYV\n",
      "Processing data for LIVE NATION ENTERTAINMENT, INC.\n",
      "Saved 22189 records for LYV\n"
     ]
    },
    {
     "name": "stderr",
     "output_type": "stream",
     "text": [
      "Downloading financial data:  58%|█████▊    | 291/503 [06:22<04:07,  1.17s/it]"
     ]
    },
    {
     "name": "stdout",
     "output_type": "stream",
     "text": [
      "\n",
      "Processing LKQ (292/503)\n",
      "Found CIK: 0001065696 for LKQ\n",
      "Processing data for LKQ CORPORATION\n",
      "Saved 24591 records for LKQ\n"
     ]
    },
    {
     "name": "stderr",
     "output_type": "stream",
     "text": [
      "Downloading financial data:  58%|█████▊    | 292/503 [06:23<04:06,  1.17s/it]"
     ]
    },
    {
     "name": "stdout",
     "output_type": "stream",
     "text": [
      "\n",
      "Processing LMT (293/503)\n",
      "Found CIK: 0000936468 for LMT\n",
      "Processing data for LOCKHEED MARTIN CORPORATION\n",
      "Saved 20665 records for LMT\n"
     ]
    },
    {
     "name": "stderr",
     "output_type": "stream",
     "text": [
      "Downloading financial data:  58%|█████▊    | 293/503 [06:25<04:03,  1.16s/it]"
     ]
    },
    {
     "name": "stdout",
     "output_type": "stream",
     "text": [
      "\n",
      "Processing L (294/503)\n",
      "Found CIK: 0000060086 for L\n",
      "Processing data for LOEWS CORP\n",
      "Saved 28046 records for L\n"
     ]
    },
    {
     "name": "stderr",
     "output_type": "stream",
     "text": [
      "Downloading financial data:  58%|█████▊    | 294/503 [06:26<04:08,  1.19s/it]"
     ]
    },
    {
     "name": "stdout",
     "output_type": "stream",
     "text": [
      "\n",
      "Processing LOW (295/503)\n",
      "Found CIK: 0000060667 for LOW\n",
      "Processing data for LOWE’S COMPANIES, INC\n",
      "Saved 22777 records for LOW\n"
     ]
    },
    {
     "name": "stderr",
     "output_type": "stream",
     "text": [
      "Downloading financial data:  59%|█████▊    | 295/503 [06:27<04:05,  1.18s/it]"
     ]
    },
    {
     "name": "stdout",
     "output_type": "stream",
     "text": [
      "\n",
      "Processing LULU (296/503)\n",
      "Found CIK: 0001397187 for LULU\n",
      "Processing data for lululemon athletica inc.\n",
      "Saved 17959 records for LULU\n"
     ]
    },
    {
     "name": "stderr",
     "output_type": "stream",
     "text": [
      "Downloading financial data:  59%|█████▉    | 296/503 [06:28<04:10,  1.21s/it]"
     ]
    },
    {
     "name": "stdout",
     "output_type": "stream",
     "text": [
      "\n",
      "Processing LYB (297/503)\n",
      "Found CIK: 0001489393 for LYB\n",
      "Processing data for LYONDELLBASELL INDUSTRIES N.V.\n",
      "Saved 23131 records for LYB\n"
     ]
    },
    {
     "name": "stderr",
     "output_type": "stream",
     "text": [
      "Downloading financial data:  59%|█████▉    | 297/503 [06:30<04:16,  1.25s/it]"
     ]
    },
    {
     "name": "stdout",
     "output_type": "stream",
     "text": [
      "\n",
      "Processing MTB (298/503)\n",
      "Found CIK: 0000036270 for MTB\n",
      "Processing data for M&T BANK CORPORATION\n",
      "Saved 37539 records for MTB\n"
     ]
    },
    {
     "name": "stderr",
     "output_type": "stream",
     "text": [
      "Downloading financial data:  59%|█████▉    | 298/503 [06:31<04:20,  1.27s/it]"
     ]
    },
    {
     "name": "stdout",
     "output_type": "stream",
     "text": [
      "\n",
      "Processing MPC (299/503)\n",
      "Found CIK: 0001510295 for MPC\n",
      "Processing data for Marathon Petroleum Corporation\n",
      "Saved 25822 records for MPC\n"
     ]
    },
    {
     "name": "stderr",
     "output_type": "stream",
     "text": [
      "Downloading financial data:  59%|█████▉    | 299/503 [06:32<04:24,  1.29s/it]"
     ]
    },
    {
     "name": "stdout",
     "output_type": "stream",
     "text": [
      "\n",
      "Processing MKTX (300/503)\n",
      "Found CIK: 0001278021 for MKTX\n",
      "Processing data for MARKETAXESS HOLDINGS INC\n",
      "Saved 20662 records for MKTX\n"
     ]
    },
    {
     "name": "stderr",
     "output_type": "stream",
     "text": [
      "Downloading financial data:  60%|█████▉    | 300/503 [06:34<04:29,  1.33s/it]"
     ]
    },
    {
     "name": "stdout",
     "output_type": "stream",
     "text": [
      "\n",
      "Processing MAR (301/503)\n",
      "Found CIK: 0001048286 for MAR\n",
      "Processing data for MARRIOTT INTERNATIONAL INC /MD/\n",
      "Saved 20208 records for MAR\n"
     ]
    },
    {
     "name": "stderr",
     "output_type": "stream",
     "text": [
      "Downloading financial data:  60%|█████▉    | 301/503 [06:35<04:17,  1.28s/it]"
     ]
    },
    {
     "name": "stdout",
     "output_type": "stream",
     "text": [
      "\n",
      "Processing MMC (302/503)\n",
      "Found CIK: 0000062709 for MMC\n",
      "Processing data for Marsh & McLennan Companies, Inc.\n",
      "Saved 31381 records for MMC\n"
     ]
    },
    {
     "name": "stderr",
     "output_type": "stream",
     "text": [
      "Downloading financial data:  60%|██████    | 302/503 [06:36<04:23,  1.31s/it]"
     ]
    },
    {
     "name": "stdout",
     "output_type": "stream",
     "text": [
      "\n",
      "Processing MLM (303/503)\n",
      "Found CIK: 0000916076 for MLM\n",
      "Processing data for MARTIN MARIETTA MATERIALS, INC.\n",
      "Saved 24760 records for MLM\n"
     ]
    },
    {
     "name": "stderr",
     "output_type": "stream",
     "text": [
      "Downloading financial data:  60%|██████    | 303/503 [06:37<04:15,  1.28s/it]"
     ]
    },
    {
     "name": "stdout",
     "output_type": "stream",
     "text": [
      "\n",
      "Processing MAS (304/503)\n",
      "Found CIK: 0000062996 for MAS\n",
      "Processing data for Masco Corporation\n",
      "Saved 27052 records for MAS\n"
     ]
    },
    {
     "name": "stderr",
     "output_type": "stream",
     "text": [
      "Downloading financial data:  60%|██████    | 304/503 [06:40<05:28,  1.65s/it]"
     ]
    },
    {
     "name": "stdout",
     "output_type": "stream",
     "text": [
      "\n",
      "Processing MA (305/503)\n",
      "Found CIK: 0001141391 for MA\n",
      "Processing data for Mastercard Incorporated\n",
      "Saved 25487 records for MA\n"
     ]
    },
    {
     "name": "stderr",
     "output_type": "stream",
     "text": [
      "Downloading financial data:  61%|██████    | 305/503 [06:42<05:28,  1.66s/it]"
     ]
    },
    {
     "name": "stdout",
     "output_type": "stream",
     "text": [
      "\n",
      "Processing MTCH (306/503)\n",
      "Found CIK: 0000891103 for MTCH\n",
      "Processing data for Match Group, Inc.\n",
      "Saved 28150 records for MTCH\n"
     ]
    },
    {
     "name": "stderr",
     "output_type": "stream",
     "text": [
      "Downloading financial data:  61%|██████    | 306/503 [06:43<05:02,  1.53s/it]"
     ]
    },
    {
     "name": "stdout",
     "output_type": "stream",
     "text": [
      "\n",
      "Processing MKC (307/503)\n",
      "Found CIK: 0000063754 for MKC\n",
      "Processing data for McCORMICK & COMPANY, INCORPORATED\n",
      "Saved 20455 records for MKC\n"
     ]
    },
    {
     "name": "stderr",
     "output_type": "stream",
     "text": [
      "Downloading financial data:  61%|██████    | 307/503 [06:44<04:41,  1.43s/it]"
     ]
    },
    {
     "name": "stdout",
     "output_type": "stream",
     "text": [
      "\n",
      "Processing MCD (308/503)\n",
      "Found CIK: 0000063908 for MCD\n",
      "Processing data for McDONALD’S CORPORATION\n",
      "Saved 21757 records for MCD\n"
     ]
    },
    {
     "name": "stderr",
     "output_type": "stream",
     "text": [
      "Downloading financial data:  61%|██████    | 308/503 [06:45<04:26,  1.36s/it]"
     ]
    },
    {
     "name": "stdout",
     "output_type": "stream",
     "text": [
      "\n",
      "Processing MCK (309/503)\n",
      "Found CIK: 0000927653 for MCK\n",
      "Processing data for McKESSON CORPORATION\n",
      "Saved 26393 records for MCK\n"
     ]
    },
    {
     "name": "stderr",
     "output_type": "stream",
     "text": [
      "Downloading financial data:  61%|██████▏   | 309/503 [06:47<04:18,  1.33s/it]"
     ]
    },
    {
     "name": "stdout",
     "output_type": "stream",
     "text": [
      "\n",
      "Processing MDT (310/503)\n",
      "Found CIK: 0001613103 for MDT\n",
      "Processing data for Medtronic plc\n",
      "Saved 18476 records for MDT\n"
     ]
    },
    {
     "name": "stderr",
     "output_type": "stream",
     "text": [
      "Downloading financial data:  62%|██████▏   | 310/503 [06:48<04:01,  1.25s/it]"
     ]
    },
    {
     "name": "stdout",
     "output_type": "stream",
     "text": [
      "\n",
      "Processing MRK (311/503)\n",
      "Found CIK: 0000310158 for MRK\n",
      "Processing data for Merck & Co., Inc.\n",
      "Saved 27174 records for MRK\n"
     ]
    },
    {
     "name": "stderr",
     "output_type": "stream",
     "text": [
      "Downloading financial data:  62%|██████▏   | 311/503 [06:49<03:56,  1.23s/it]"
     ]
    },
    {
     "name": "stdout",
     "output_type": "stream",
     "text": [
      "\n",
      "Processing META (312/503)\n",
      "Found CIK: 0001326801 for META\n",
      "Processing data for Meta Platforms, Inc.\n",
      "Saved 16226 records for META\n"
     ]
    },
    {
     "name": "stderr",
     "output_type": "stream",
     "text": [
      "Downloading financial data:  62%|██████▏   | 312/503 [06:50<03:48,  1.19s/it]"
     ]
    },
    {
     "name": "stdout",
     "output_type": "stream",
     "text": [
      "\n",
      "Processing MET (313/503)\n",
      "Found CIK: 0001099219 for MET\n",
      "Processing data for METLIFE INC\n",
      "Saved 57868 records for MET\n"
     ]
    },
    {
     "name": "stderr",
     "output_type": "stream",
     "text": [
      "Downloading financial data:  62%|██████▏   | 313/503 [06:51<04:06,  1.30s/it]"
     ]
    },
    {
     "name": "stdout",
     "output_type": "stream",
     "text": [
      "\n",
      "Processing MTD (314/503)\n",
      "Found CIK: 0001037646 for MTD\n",
      "Processing data for Mettler Toledo International Inc\n",
      "Saved 22489 records for MTD\n"
     ]
    },
    {
     "name": "stderr",
     "output_type": "stream",
     "text": [
      "Downloading financial data:  62%|██████▏   | 314/503 [06:53<03:59,  1.26s/it]"
     ]
    },
    {
     "name": "stdout",
     "output_type": "stream",
     "text": [
      "\n",
      "Processing MGM (315/503)\n",
      "Found CIK: 0000789570 for MGM\n",
      "Processing data for MGM Resorts International\n",
      "Saved 23604 records for MGM\n"
     ]
    },
    {
     "name": "stderr",
     "output_type": "stream",
     "text": [
      "Downloading financial data:  63%|██████▎   | 315/503 [06:54<03:56,  1.26s/it]"
     ]
    },
    {
     "name": "stdout",
     "output_type": "stream",
     "text": [
      "\n",
      "Processing MCHP (316/503)\n",
      "Found CIK: 0000827054 for MCHP\n",
      "Processing data for MICROCHIP TECHNOLOGY INCORPORATED\n",
      "Saved 26622 records for MCHP\n"
     ]
    },
    {
     "name": "stderr",
     "output_type": "stream",
     "text": [
      "Downloading financial data:  63%|██████▎   | 316/503 [06:55<03:59,  1.28s/it]"
     ]
    },
    {
     "name": "stdout",
     "output_type": "stream",
     "text": [
      "\n",
      "Processing MU (317/503)\n",
      "Found CIK: 0000723125 for MU\n",
      "Processing data for Micron Technology, Inc.\n",
      "Saved 25100 records for MU\n"
     ]
    },
    {
     "name": "stderr",
     "output_type": "stream",
     "text": [
      "Downloading financial data:  63%|██████▎   | 317/503 [06:56<03:55,  1.27s/it]"
     ]
    },
    {
     "name": "stdout",
     "output_type": "stream",
     "text": [
      "\n",
      "Processing MSFT (318/503)\n",
      "Found CIK: 0000789019 for MSFT\n",
      "Processing data for MICROSOFT CORPORATION\n",
      "Saved 30043 records for MSFT\n"
     ]
    },
    {
     "name": "stderr",
     "output_type": "stream",
     "text": [
      "Downloading financial data:  63%|██████▎   | 318/503 [06:58<04:05,  1.33s/it]"
     ]
    },
    {
     "name": "stdout",
     "output_type": "stream",
     "text": [
      "\n",
      "Processing MAA (319/503)\n",
      "Found CIK: 0000912595 for MAA\n",
      "Processing data for MID-AMERICA APARTMENT COMMUNITIES, INC.\n",
      "Saved 14812 records for MAA\n"
     ]
    },
    {
     "name": "stderr",
     "output_type": "stream",
     "text": [
      "Downloading financial data:  63%|██████▎   | 319/503 [07:00<04:17,  1.40s/it]"
     ]
    },
    {
     "name": "stdout",
     "output_type": "stream",
     "text": [
      "\n",
      "Processing MRNA (320/503)\n",
      "Found CIK: 0001682852 for MRNA\n",
      "Processing data for Moderna, Inc.\n",
      "Saved 10048 records for MRNA\n"
     ]
    },
    {
     "name": "stderr",
     "output_type": "stream",
     "text": [
      "Downloading financial data:  64%|██████▎   | 320/503 [07:01<03:55,  1.29s/it]"
     ]
    },
    {
     "name": "stdout",
     "output_type": "stream",
     "text": [
      "\n",
      "Processing MHK (321/503)\n",
      "Found CIK: 0000851968 for MHK\n",
      "Processing data for MOHAWK INDUSTRIES, INC.\n",
      "Saved 22932 records for MHK\n"
     ]
    },
    {
     "name": "stderr",
     "output_type": "stream",
     "text": [
      "Downloading financial data:  64%|██████▍   | 321/503 [07:02<03:50,  1.26s/it]"
     ]
    },
    {
     "name": "stdout",
     "output_type": "stream",
     "text": [
      "\n",
      "Processing MOH (322/503)\n",
      "Found CIK: 0001179929 for MOH\n",
      "Processing data for MOLINA HEALTHCARE, INC.\n",
      "Saved 23041 records for MOH\n"
     ]
    },
    {
     "name": "stderr",
     "output_type": "stream",
     "text": [
      "Downloading financial data:  64%|██████▍   | 322/503 [07:03<03:47,  1.26s/it]"
     ]
    },
    {
     "name": "stdout",
     "output_type": "stream",
     "text": [
      "\n",
      "Processing TAP (323/503)\n",
      "Found CIK: 0000024545 for TAP\n",
      "Processing data for Molson Coors Beverage Company\n",
      "Saved 28041 records for TAP\n"
     ]
    },
    {
     "name": "stderr",
     "output_type": "stream",
     "text": [
      "Downloading financial data:  64%|██████▍   | 323/503 [07:06<05:39,  1.89s/it]"
     ]
    },
    {
     "name": "stdout",
     "output_type": "stream",
     "text": [
      "\n",
      "Processing MDLZ (324/503)\n",
      "Found CIK: 0001103982 for MDLZ\n",
      "Processing data for Mondelez International, Inc.\n",
      "Saved 27460 records for MDLZ\n"
     ]
    },
    {
     "name": "stderr",
     "output_type": "stream",
     "text": [
      "Downloading financial data:  64%|██████▍   | 324/503 [07:08<05:03,  1.70s/it]"
     ]
    },
    {
     "name": "stdout",
     "output_type": "stream",
     "text": [
      "\n",
      "Processing MPWR (325/503)\n",
      "Found CIK: 0001280452 for MPWR\n",
      "Processing data for Monolithic Power Systems, Inc.\n",
      "Saved 21729 records for MPWR\n"
     ]
    },
    {
     "name": "stderr",
     "output_type": "stream",
     "text": [
      "Downloading financial data:  65%|██████▍   | 325/503 [07:09<04:32,  1.53s/it]"
     ]
    },
    {
     "name": "stdout",
     "output_type": "stream",
     "text": [
      "\n",
      "Processing MNST (326/503)\n",
      "Found CIK: 0000865752 for MNST\n",
      "Processing data for Monster Beverage Corp\n",
      "Saved 20097 records for MNST\n"
     ]
    },
    {
     "name": "stderr",
     "output_type": "stream",
     "text": [
      "Downloading financial data:  65%|██████▍   | 326/503 [07:10<04:07,  1.40s/it]"
     ]
    },
    {
     "name": "stdout",
     "output_type": "stream",
     "text": [
      "\n",
      "Processing MCO (327/503)\n",
      "Found CIK: 0001059556 for MCO\n",
      "Processing data for Moody’s Corporation\n",
      "Saved 32365 records for MCO\n"
     ]
    },
    {
     "name": "stderr",
     "output_type": "stream",
     "text": [
      "Downloading financial data:  65%|██████▌   | 327/503 [07:11<04:00,  1.37s/it]"
     ]
    },
    {
     "name": "stdout",
     "output_type": "stream",
     "text": [
      "\n",
      "Processing MS (328/503)\n",
      "Found CIK: 0000895421 for MS\n",
      "Processing data for MORGAN STANLEY\n",
      "Saved 42241 records for MS\n"
     ]
    },
    {
     "name": "stderr",
     "output_type": "stream",
     "text": [
      "Downloading financial data:  65%|██████▌   | 328/503 [07:12<03:57,  1.36s/it]"
     ]
    },
    {
     "name": "stdout",
     "output_type": "stream",
     "text": [
      "\n",
      "Processing MOS (329/503)\n",
      "Found CIK: 0001285785 for MOS\n",
      "Processing data for MOSAIC CO\n",
      "Saved 27267 records for MOS\n"
     ]
    },
    {
     "name": "stderr",
     "output_type": "stream",
     "text": [
      "Downloading financial data:  65%|██████▌   | 329/503 [07:14<03:51,  1.33s/it]"
     ]
    },
    {
     "name": "stdout",
     "output_type": "stream",
     "text": [
      "\n",
      "Processing MSI (330/503)\n",
      "Found CIK: 0000068505 for MSI\n",
      "Processing data for MOTOROLA SOLUTIONS, INC.\n",
      "Saved 33224 records for MSI\n"
     ]
    },
    {
     "name": "stderr",
     "output_type": "stream",
     "text": [
      "Downloading financial data:  66%|██████▌   | 330/503 [07:15<03:45,  1.30s/it]"
     ]
    },
    {
     "name": "stdout",
     "output_type": "stream",
     "text": [
      "\n",
      "Processing MSCI (331/503)\n",
      "Found CIK: 0001408198 for MSCI\n",
      "Processing data for MSCI INC.\n",
      "Saved 25307 records for MSCI\n"
     ]
    },
    {
     "name": "stderr",
     "output_type": "stream",
     "text": [
      "Downloading financial data:  66%|██████▌   | 331/503 [07:16<03:47,  1.33s/it]"
     ]
    },
    {
     "name": "stdout",
     "output_type": "stream",
     "text": [
      "\n",
      "Processing NDAQ (332/503)\n",
      "Found CIK: 0001120193 for NDAQ\n",
      "Processing data for Nasdaq, Inc.\n",
      "Saved 25949 records for NDAQ\n"
     ]
    },
    {
     "name": "stderr",
     "output_type": "stream",
     "text": [
      "Downloading financial data:  66%|██████▌   | 332/503 [07:17<03:36,  1.27s/it]"
     ]
    },
    {
     "name": "stdout",
     "output_type": "stream",
     "text": [
      "\n",
      "Processing NTAP (333/503)\n",
      "Found CIK: 0001002047 for NTAP\n",
      "Processing data for NetApp, Inc.\n",
      "Saved 26236 records for NTAP\n"
     ]
    },
    {
     "name": "stderr",
     "output_type": "stream",
     "text": [
      "Downloading financial data:  66%|██████▌   | 333/503 [07:19<03:32,  1.25s/it]"
     ]
    },
    {
     "name": "stdout",
     "output_type": "stream",
     "text": [
      "\n",
      "Processing NFLX (334/503)\n",
      "Found CIK: 0001065280 for NFLX\n",
      "Processing data for Netflix, Inc.\n",
      "Saved 21790 records for NFLX\n"
     ]
    },
    {
     "name": "stderr",
     "output_type": "stream",
     "text": [
      "Downloading financial data:  66%|██████▋   | 334/503 [07:20<03:29,  1.24s/it]"
     ]
    },
    {
     "name": "stdout",
     "output_type": "stream",
     "text": [
      "\n",
      "Processing NEM (335/503)\n",
      "Found CIK: 0001164727 for NEM\n",
      "Processing data for NEWMONT CORPORATION\n",
      "Saved 35410 records for NEM\n"
     ]
    },
    {
     "name": "stderr",
     "output_type": "stream",
     "text": [
      "Downloading financial data:  67%|██████▋   | 335/503 [07:22<03:49,  1.37s/it]"
     ]
    },
    {
     "name": "stdout",
     "output_type": "stream",
     "text": [
      "\n",
      "Processing NWSA (336/503)\n",
      "Found CIK: 0001564708 for NWSA\n",
      "Processing data for NEWS CORPORATION\n",
      "Saved 18332 records for NWSA\n"
     ]
    },
    {
     "name": "stderr",
     "output_type": "stream",
     "text": [
      "Downloading financial data:  67%|██████▋   | 336/503 [07:23<03:33,  1.28s/it]"
     ]
    },
    {
     "name": "stdout",
     "output_type": "stream",
     "text": [
      "\n",
      "Processing NWS (337/503)\n",
      "Found CIK: 0001564708 for NWS\n",
      "Processing data for NEWS CORPORATION\n",
      "Saved 18332 records for NWS\n"
     ]
    },
    {
     "name": "stderr",
     "output_type": "stream",
     "text": [
      "Downloading financial data:  67%|██████▋   | 337/503 [07:24<03:22,  1.22s/it]"
     ]
    },
    {
     "name": "stdout",
     "output_type": "stream",
     "text": [
      "\n",
      "Processing NEE (338/503)\n",
      "Found CIK: 0000753308 for NEE\n",
      "Processing data for NEXTERA ENERGY, INC.\n",
      "Saved 24611 records for NEE\n"
     ]
    },
    {
     "name": "stderr",
     "output_type": "stream",
     "text": [
      "Downloading financial data:  67%|██████▋   | 338/503 [07:25<03:26,  1.25s/it]"
     ]
    },
    {
     "name": "stdout",
     "output_type": "stream",
     "text": [
      "\n",
      "Processing NKE (339/503)\n",
      "Found CIK: 0000320187 for NKE\n",
      "Processing data for NIKE, Inc.\n",
      "Saved 18251 records for NKE\n"
     ]
    },
    {
     "name": "stderr",
     "output_type": "stream",
     "text": [
      "Downloading financial data:  67%|██████▋   | 339/503 [07:26<03:25,  1.25s/it]"
     ]
    },
    {
     "name": "stdout",
     "output_type": "stream",
     "text": [
      "\n",
      "Processing NI (340/503)\n",
      "Found CIK: 0001111711 for NI\n",
      "Processing data for NiSource Inc.\n",
      "Saved 30367 records for NI\n"
     ]
    },
    {
     "name": "stderr",
     "output_type": "stream",
     "text": [
      "Downloading financial data:  68%|██████▊   | 340/503 [07:28<03:43,  1.37s/it]"
     ]
    },
    {
     "name": "stdout",
     "output_type": "stream",
     "text": [
      "\n",
      "Processing NDSN (341/503)\n",
      "Found CIK: 0000072331 for NDSN\n",
      "Processing data for NORDSON CORPORATION\n",
      "Saved 19798 records for NDSN\n"
     ]
    },
    {
     "name": "stderr",
     "output_type": "stream",
     "text": [
      "Downloading financial data:  68%|██████▊   | 341/503 [07:29<03:40,  1.36s/it]"
     ]
    },
    {
     "name": "stdout",
     "output_type": "stream",
     "text": [
      "\n",
      "Processing NSC (342/503)\n",
      "Found CIK: 0000702165 for NSC\n",
      "Processing data for NORFOLK SOUTHERN CORP\n",
      "Saved 18883 records for NSC\n"
     ]
    },
    {
     "name": "stderr",
     "output_type": "stream",
     "text": [
      "Downloading financial data:  68%|██████▊   | 342/503 [07:31<03:33,  1.33s/it]"
     ]
    },
    {
     "name": "stdout",
     "output_type": "stream",
     "text": [
      "\n",
      "Processing NTRS (343/503)\n",
      "Found CIK: 0000073124 for NTRS\n",
      "Processing data for NORTHERN TRUST CORPORATION\n",
      "Saved 35740 records for NTRS\n"
     ]
    },
    {
     "name": "stderr",
     "output_type": "stream",
     "text": [
      "Downloading financial data:  68%|██████▊   | 343/503 [07:32<03:33,  1.34s/it]"
     ]
    },
    {
     "name": "stdout",
     "output_type": "stream",
     "text": [
      "\n",
      "Processing NOC (344/503)\n",
      "Found CIK: 0001133421 for NOC\n",
      "Processing data for NORTHROP GRUMMAN CORP /DE/\n",
      "Saved 22658 records for NOC\n"
     ]
    },
    {
     "name": "stderr",
     "output_type": "stream",
     "text": [
      "Downloading financial data:  68%|██████▊   | 344/503 [07:33<03:30,  1.32s/it]"
     ]
    },
    {
     "name": "stdout",
     "output_type": "stream",
     "text": [
      "\n",
      "Processing NCLH (345/503)\n",
      "Found CIK: 0001513761 for NCLH\n",
      "Processing data for NORWEGIAN CRUISE LINE HOLDINGS LTD.\n",
      "Saved 16307 records for NCLH\n"
     ]
    },
    {
     "name": "stderr",
     "output_type": "stream",
     "text": [
      "Downloading financial data:  69%|██████▊   | 345/503 [07:34<03:22,  1.28s/it]"
     ]
    },
    {
     "name": "stdout",
     "output_type": "stream",
     "text": [
      "\n",
      "Processing NRG (346/503)\n",
      "Found CIK: 0001013871 for NRG\n",
      "Processing data for NRG ENERGY, INC.\n",
      "Saved 31650 records for NRG\n"
     ]
    },
    {
     "name": "stderr",
     "output_type": "stream",
     "text": [
      "Downloading financial data:  69%|██████▉   | 346/503 [07:36<03:25,  1.31s/it]"
     ]
    },
    {
     "name": "stdout",
     "output_type": "stream",
     "text": [
      "\n",
      "Processing NUE (347/503)\n",
      "Found CIK: 0000073309 for NUE\n",
      "Processing data for NUCOR CORP\n",
      "Saved 24449 records for NUE\n"
     ]
    },
    {
     "name": "stderr",
     "output_type": "stream",
     "text": [
      "Downloading financial data:  69%|██████▉   | 347/503 [07:37<03:18,  1.27s/it]"
     ]
    },
    {
     "name": "stdout",
     "output_type": "stream",
     "text": [
      "\n",
      "Processing NVDA (348/503)\n",
      "Found CIK: 0001045810 for NVDA\n",
      "Processing data for NVIDIA CORP\n",
      "Saved 24802 records for NVDA\n"
     ]
    },
    {
     "name": "stderr",
     "output_type": "stream",
     "text": [
      "Downloading financial data:  69%|██████▉   | 348/503 [07:39<03:57,  1.53s/it]"
     ]
    },
    {
     "name": "stdout",
     "output_type": "stream",
     "text": [
      "\n",
      "Processing NVR (349/503)\n",
      "Found CIK: 0000906163 for NVR\n",
      "Processing data for NVR, Inc.\n",
      "Saved 12874 records for NVR\n"
     ]
    },
    {
     "name": "stderr",
     "output_type": "stream",
     "text": [
      "Downloading financial data:  69%|██████▉   | 349/503 [07:40<03:39,  1.43s/it]"
     ]
    },
    {
     "name": "stdout",
     "output_type": "stream",
     "text": [
      "\n",
      "Processing NXPI (350/503)\n",
      "Found CIK: 0001413447 for NXPI\n",
      "Processing data for NXP Semiconductors N.V.\n",
      "Saved 15433 records for NXPI\n"
     ]
    },
    {
     "name": "stderr",
     "output_type": "stream",
     "text": [
      "Downloading financial data:  70%|██████▉   | 350/503 [07:42<03:34,  1.40s/it]"
     ]
    },
    {
     "name": "stdout",
     "output_type": "stream",
     "text": [
      "\n",
      "Processing ORLY (351/503)\n",
      "Found CIK: 0000898173 for ORLY\n",
      "Processing data for O Reilly Automotive Inc\n",
      "Saved 18480 records for ORLY\n"
     ]
    },
    {
     "name": "stderr",
     "output_type": "stream",
     "text": [
      "Downloading financial data:  70%|██████▉   | 351/503 [07:43<03:31,  1.39s/it]"
     ]
    },
    {
     "name": "stdout",
     "output_type": "stream",
     "text": [
      "\n",
      "Processing OXY (352/503)\n",
      "Found CIK: 0000797468 for OXY\n",
      "Processing data for OCCIDENTAL PETROLEUM CORPORATION\n",
      "Saved 22940 records for OXY\n"
     ]
    },
    {
     "name": "stderr",
     "output_type": "stream",
     "text": [
      "Downloading financial data:  70%|██████▉   | 352/503 [07:44<03:21,  1.33s/it]"
     ]
    },
    {
     "name": "stdout",
     "output_type": "stream",
     "text": [
      "\n",
      "Processing ODFL (353/503)\n",
      "Found CIK: 0000878927 for ODFL\n",
      "Processing data for OLD DOMINION FREIGHT LINE, INC.\n",
      "Saved 14069 records for ODFL\n"
     ]
    },
    {
     "name": "stderr",
     "output_type": "stream",
     "text": [
      "Downloading financial data:  70%|███████   | 353/503 [07:45<03:09,  1.26s/it]"
     ]
    },
    {
     "name": "stdout",
     "output_type": "stream",
     "text": [
      "\n",
      "Processing OMC (354/503)\n",
      "Found CIK: 0000029989 for OMC\n",
      "Processing data for OMNICOM GROUP INC.\n",
      "Saved 23255 records for OMC\n"
     ]
    },
    {
     "name": "stderr",
     "output_type": "stream",
     "text": [
      "Downloading financial data:  70%|███████   | 354/503 [07:47<03:10,  1.28s/it]"
     ]
    },
    {
     "name": "stdout",
     "output_type": "stream",
     "text": [
      "\n",
      "Processing ON (355/503)\n",
      "Found CIK: 0001097864 for ON\n",
      "Processing data for ON SEMICONDUCTOR CORPORATION\n",
      "Saved 28414 records for ON\n"
     ]
    },
    {
     "name": "stderr",
     "output_type": "stream",
     "text": [
      "Downloading financial data:  71%|███████   | 355/503 [07:48<03:06,  1.26s/it]"
     ]
    },
    {
     "name": "stdout",
     "output_type": "stream",
     "text": [
      "\n",
      "Processing OKE (356/503)\n",
      "Found CIK: 0001039684 for OKE\n",
      "Processing data for ONEOK, Inc.\n",
      "Saved 27264 records for OKE\n"
     ]
    },
    {
     "name": "stderr",
     "output_type": "stream",
     "text": [
      "Downloading financial data:  71%|███████   | 356/503 [07:49<03:04,  1.26s/it]"
     ]
    },
    {
     "name": "stdout",
     "output_type": "stream",
     "text": [
      "\n",
      "Processing ORCL (357/503)\n",
      "Found CIK: 0001341439 for ORCL\n",
      "Processing data for Oracle Corporation\n",
      "Saved 23727 records for ORCL\n"
     ]
    },
    {
     "name": "stderr",
     "output_type": "stream",
     "text": [
      "Downloading financial data:  71%|███████   | 357/503 [07:50<03:03,  1.25s/it]"
     ]
    },
    {
     "name": "stdout",
     "output_type": "stream",
     "text": [
      "\n",
      "Processing OTIS (358/503)\n",
      "Found CIK: 0001781335 for OTIS\n",
      "Processing data for OTIS WORLDWIDE CORPORATION\n",
      "Saved 9708 records for OTIS\n"
     ]
    },
    {
     "name": "stderr",
     "output_type": "stream",
     "text": [
      "Downloading financial data:  71%|███████   | 358/503 [07:51<02:54,  1.20s/it]"
     ]
    },
    {
     "name": "stdout",
     "output_type": "stream",
     "text": [
      "\n",
      "Processing PCAR (359/503)\n",
      "Found CIK: 0000075362 for PCAR\n",
      "Processing data for PACCAR Inc\n",
      "Saved 18773 records for PCAR\n"
     ]
    },
    {
     "name": "stderr",
     "output_type": "stream",
     "text": [
      "Downloading financial data:  71%|███████▏  | 359/503 [07:53<02:51,  1.19s/it]"
     ]
    },
    {
     "name": "stdout",
     "output_type": "stream",
     "text": [
      "\n",
      "Processing PKG (360/503)\n",
      "Found CIK: 0000075677 for PKG\n",
      "Processing data for PACKAGING CORP OF AMERICA\n",
      "Saved 21817 records for PKG\n"
     ]
    },
    {
     "name": "stderr",
     "output_type": "stream",
     "text": [
      "Downloading financial data:  72%|███████▏  | 360/503 [07:54<02:58,  1.25s/it]"
     ]
    },
    {
     "name": "stdout",
     "output_type": "stream",
     "text": [
      "\n",
      "Processing PLTR (361/503)\n",
      "Found CIK: 0001321655 for PLTR\n",
      "Processing data for Palantir Technologies Inc.\n",
      "Saved 6223 records for PLTR\n"
     ]
    },
    {
     "name": "stderr",
     "output_type": "stream",
     "text": [
      "Downloading financial data:  72%|███████▏  | 361/503 [07:55<02:45,  1.17s/it]"
     ]
    },
    {
     "name": "stdout",
     "output_type": "stream",
     "text": [
      "\n",
      "Processing PANW (362/503)\n",
      "Found CIK: 0001327567 for PANW\n",
      "Processing data for PALO ALTO NETWORKS, INC\n",
      "Saved 18728 records for PANW\n"
     ]
    },
    {
     "name": "stderr",
     "output_type": "stream",
     "text": [
      "Downloading financial data:  72%|███████▏  | 362/503 [07:56<02:48,  1.19s/it]"
     ]
    },
    {
     "name": "stdout",
     "output_type": "stream",
     "text": [
      "\n",
      "Processing PARA (363/503)\n",
      "Found CIK: 0000813828 for PARA\n",
      "Processing data for Paramount Global\n",
      "Saved 29126 records for PARA\n"
     ]
    },
    {
     "name": "stderr",
     "output_type": "stream",
     "text": [
      "Downloading financial data:  72%|███████▏  | 363/503 [07:57<02:52,  1.23s/it]"
     ]
    },
    {
     "name": "stdout",
     "output_type": "stream",
     "text": [
      "\n",
      "Processing PH (364/503)\n",
      "Found CIK: 0000076334 for PH\n",
      "Processing data for PARKER-HANNIFIN CORPORATION\n",
      "Saved 24002 records for PH\n"
     ]
    },
    {
     "name": "stderr",
     "output_type": "stream",
     "text": [
      "Downloading financial data:  72%|███████▏  | 364/503 [07:59<02:54,  1.26s/it]"
     ]
    },
    {
     "name": "stdout",
     "output_type": "stream",
     "text": [
      "\n",
      "Processing PAYX (365/503)\n",
      "Found CIK: 0000723531 for PAYX\n",
      "Processing data for Paychex, Inc.\n",
      "Saved 21184 records for PAYX\n"
     ]
    },
    {
     "name": "stderr",
     "output_type": "stream",
     "text": [
      "Downloading financial data:  73%|███████▎  | 365/503 [08:00<02:44,  1.20s/it]"
     ]
    },
    {
     "name": "stdout",
     "output_type": "stream",
     "text": [
      "\n",
      "Processing PAYC (366/503)\n",
      "Found CIK: 0001590955 for PAYC\n",
      "Processing data for Paycom Software, Inc.\n",
      "Saved 13993 records for PAYC\n"
     ]
    },
    {
     "name": "stderr",
     "output_type": "stream",
     "text": [
      "Downloading financial data:  73%|███████▎  | 366/503 [08:01<02:36,  1.14s/it]"
     ]
    },
    {
     "name": "stdout",
     "output_type": "stream",
     "text": [
      "\n",
      "Processing PYPL (367/503)\n",
      "Found CIK: 0001633917 for PYPL\n",
      "Processing data for PayPal Holdings, Inc.\n",
      "Saved 17799 records for PYPL\n"
     ]
    },
    {
     "name": "stderr",
     "output_type": "stream",
     "text": [
      "Downloading financial data:  73%|███████▎  | 367/503 [08:02<02:32,  1.12s/it]"
     ]
    },
    {
     "name": "stdout",
     "output_type": "stream",
     "text": [
      "\n",
      "Processing PNR (368/503)\n",
      "Found CIK: 0000077360 for PNR\n",
      "Processing data for Pentair plc\n",
      "Saved 30555 records for PNR\n"
     ]
    },
    {
     "name": "stderr",
     "output_type": "stream",
     "text": [
      "Downloading financial data:  73%|███████▎  | 368/503 [08:03<02:38,  1.17s/it]"
     ]
    },
    {
     "name": "stdout",
     "output_type": "stream",
     "text": [
      "\n",
      "Processing PEP (369/503)\n",
      "Found CIK: 0000077476 for PEP\n",
      "Processing data for PepsiCo, Inc.\n",
      "Saved 29699 records for PEP\n"
     ]
    },
    {
     "name": "stderr",
     "output_type": "stream",
     "text": [
      "Downloading financial data:  73%|███████▎  | 369/503 [08:08<04:50,  2.17s/it]"
     ]
    },
    {
     "name": "stdout",
     "output_type": "stream",
     "text": [
      "\n",
      "Processing PFE (370/503)\n",
      "Found CIK: 0000078003 for PFE\n",
      "Processing data for PFIZER INC\n",
      "Saved 30515 records for PFE\n"
     ]
    },
    {
     "name": "stderr",
     "output_type": "stream",
     "text": [
      "Downloading financial data:  74%|███████▎  | 370/503 [08:09<04:18,  1.95s/it]"
     ]
    },
    {
     "name": "stdout",
     "output_type": "stream",
     "text": [
      "\n",
      "Processing PCG (371/503)\n",
      "Found CIK: 0001004980 for PCG\n",
      "Processing data for PG&E CORP\n",
      "Saved 20278 records for PCG\n"
     ]
    },
    {
     "name": "stderr",
     "output_type": "stream",
     "text": [
      "Downloading financial data:  74%|███████▍  | 371/503 [08:10<03:48,  1.73s/it]"
     ]
    },
    {
     "name": "stdout",
     "output_type": "stream",
     "text": [
      "\n",
      "Processing PM (372/503)\n",
      "Found CIK: 0001413329 for PM\n",
      "Processing data for Philip Morris International Inc.\n",
      "Saved 25037 records for PM\n"
     ]
    },
    {
     "name": "stderr",
     "output_type": "stream",
     "text": [
      "Downloading financial data:  74%|███████▍  | 372/503 [08:12<03:56,  1.80s/it]"
     ]
    },
    {
     "name": "stdout",
     "output_type": "stream",
     "text": [
      "\n",
      "Processing PSX (373/503)\n",
      "Found CIK: 0001534701 for PSX\n",
      "Processing data for Phillips 66\n",
      "Saved 22114 records for PSX\n"
     ]
    },
    {
     "name": "stderr",
     "output_type": "stream",
     "text": [
      "Downloading financial data:  74%|███████▍  | 373/503 [08:13<03:28,  1.60s/it]"
     ]
    },
    {
     "name": "stdout",
     "output_type": "stream",
     "text": [
      "\n",
      "Processing PNW (374/503)\n",
      "Found CIK: 0000764622 for PNW\n",
      "Processing data for PINNACLE WEST CAPITAL CORPORATION\n",
      "Saved 25657 records for PNW\n"
     ]
    },
    {
     "name": "stderr",
     "output_type": "stream",
     "text": [
      "Downloading financial data:  74%|███████▍  | 374/503 [08:15<03:17,  1.53s/it]"
     ]
    },
    {
     "name": "stdout",
     "output_type": "stream",
     "text": [
      "\n",
      "Processing PNC (375/503)\n",
      "Found CIK: 0000713676 for PNC\n",
      "Processing data for PNC Financial Services Group, Inc.\n",
      "Saved 36996 records for PNC\n"
     ]
    },
    {
     "name": "stderr",
     "output_type": "stream",
     "text": [
      "Downloading financial data:  75%|███████▍  | 375/503 [08:17<03:55,  1.84s/it]"
     ]
    },
    {
     "name": "stdout",
     "output_type": "stream",
     "text": [
      "\n",
      "Processing POOL (376/503)\n",
      "Found CIK: 0000945841 for POOL\n",
      "Processing data for POOL CORPORATION\n",
      "Saved 18783 records for POOL\n"
     ]
    },
    {
     "name": "stderr",
     "output_type": "stream",
     "text": [
      "Downloading financial data:  75%|███████▍  | 376/503 [08:19<03:39,  1.73s/it]"
     ]
    },
    {
     "name": "stdout",
     "output_type": "stream",
     "text": [
      "\n",
      "Processing PPG (377/503)\n",
      "Found CIK: 0000079879 for PPG\n",
      "Processing data for PPG INDUSTRIES INC\n",
      "Saved 34103 records for PPG\n"
     ]
    },
    {
     "name": "stderr",
     "output_type": "stream",
     "text": [
      "Downloading financial data:  75%|███████▍  | 377/503 [08:20<03:25,  1.63s/it]"
     ]
    },
    {
     "name": "stdout",
     "output_type": "stream",
     "text": [
      "\n",
      "Processing PPL (378/503)\n",
      "Found CIK: 0000922224 for PPL\n",
      "Processing data for PPL Corporation\n",
      "Saved 31567 records for PPL\n"
     ]
    },
    {
     "name": "stderr",
     "output_type": "stream",
     "text": [
      "Downloading financial data:  75%|███████▌  | 378/503 [08:22<03:17,  1.58s/it]"
     ]
    },
    {
     "name": "stdout",
     "output_type": "stream",
     "text": [
      "\n",
      "Processing PFG (379/503)\n",
      "Found CIK: 0001126328 for PFG\n",
      "Processing data for PRINCIPAL FINANCIAL GROUP, INC\n",
      "Saved 32363 records for PFG\n"
     ]
    },
    {
     "name": "stderr",
     "output_type": "stream",
     "text": [
      "Downloading financial data:  75%|███████▌  | 379/503 [08:23<03:18,  1.60s/it]"
     ]
    },
    {
     "name": "stdout",
     "output_type": "stream",
     "text": [
      "\n",
      "Processing PG (380/503)\n",
      "Found CIK: 0000080424 for PG\n",
      "Processing data for PROCTER & GAMBLE CO\n",
      "Saved 24000 records for PG\n"
     ]
    },
    {
     "name": "stderr",
     "output_type": "stream",
     "text": [
      "Downloading financial data:  76%|███████▌  | 380/503 [08:25<03:07,  1.53s/it]"
     ]
    },
    {
     "name": "stdout",
     "output_type": "stream",
     "text": [
      "\n",
      "Processing PGR (381/503)\n",
      "Found CIK: 0000080661 for PGR\n",
      "Processing data for PROGRESSIVE CORP/OH/\n",
      "Saved 32336 records for PGR\n"
     ]
    },
    {
     "name": "stderr",
     "output_type": "stream",
     "text": [
      "Downloading financial data:  76%|███████▌  | 381/503 [08:26<02:59,  1.47s/it]"
     ]
    },
    {
     "name": "stdout",
     "output_type": "stream",
     "text": [
      "\n",
      "Processing PLD (382/503)\n",
      "Found CIK: 0001045609 for PLD\n",
      "Processing data for Prologis, Inc.\n",
      "Saved 22003 records for PLD\n"
     ]
    },
    {
     "name": "stderr",
     "output_type": "stream",
     "text": [
      "Downloading financial data:  76%|███████▌  | 382/503 [08:27<02:45,  1.37s/it]"
     ]
    },
    {
     "name": "stdout",
     "output_type": "stream",
     "text": [
      "\n",
      "Processing PRU (383/503)\n",
      "Found CIK: 0001137774 for PRU\n",
      "Processing data for Prudential Financial, Inc.\n",
      "Saved 40831 records for PRU\n"
     ]
    },
    {
     "name": "stderr",
     "output_type": "stream",
     "text": [
      "Downloading financial data:  76%|███████▌  | 383/503 [08:29<02:44,  1.37s/it]"
     ]
    },
    {
     "name": "stdout",
     "output_type": "stream",
     "text": [
      "\n",
      "Processing PEG (384/503)\n",
      "Found CIK: 0000788784 for PEG\n",
      "Processing data for Public Service Enterprise Group Incorporated\n",
      "Saved 26008 records for PEG\n"
     ]
    },
    {
     "name": "stderr",
     "output_type": "stream",
     "text": [
      "Downloading financial data:  76%|███████▋  | 384/503 [08:30<02:37,  1.32s/it]"
     ]
    },
    {
     "name": "stdout",
     "output_type": "stream",
     "text": [
      "\n",
      "Processing PTC (385/503)\n",
      "Found CIK: 0000857005 for PTC\n",
      "Processing data for PTC Inc.\n",
      "Saved 23809 records for PTC\n"
     ]
    },
    {
     "name": "stderr",
     "output_type": "stream",
     "text": [
      "Downloading financial data:  77%|███████▋  | 385/503 [08:31<02:30,  1.28s/it]"
     ]
    },
    {
     "name": "stdout",
     "output_type": "stream",
     "text": [
      "\n",
      "Processing PSA (386/503)\n",
      "Found CIK: 0001393311 for PSA\n",
      "Processing data for Public Storage\n",
      "Saved 19276 records for PSA\n"
     ]
    },
    {
     "name": "stderr",
     "output_type": "stream",
     "text": [
      "Downloading financial data:  77%|███████▋  | 386/503 [08:32<02:28,  1.27s/it]"
     ]
    },
    {
     "name": "stdout",
     "output_type": "stream",
     "text": [
      "\n",
      "Processing PHM (387/503)\n",
      "Found CIK: 0000822416 for PHM\n",
      "Processing data for PULTEGROUP, INC.\n",
      "Saved 22310 records for PHM\n"
     ]
    },
    {
     "name": "stderr",
     "output_type": "stream",
     "text": [
      "Downloading financial data:  77%|███████▋  | 387/503 [08:34<02:27,  1.27s/it]"
     ]
    },
    {
     "name": "stdout",
     "output_type": "stream",
     "text": [
      "\n",
      "Processing PWR (388/503)\n",
      "Found CIK: 0001050915 for PWR\n",
      "Processing data for Quanta Services, Inc.\n",
      "Saved 29491 records for PWR\n"
     ]
    },
    {
     "name": "stderr",
     "output_type": "stream",
     "text": [
      "Downloading financial data:  77%|███████▋  | 388/503 [08:35<02:27,  1.28s/it]"
     ]
    },
    {
     "name": "stdout",
     "output_type": "stream",
     "text": [
      "\n",
      "Processing QCOM (389/503)\n",
      "Found CIK: 0000804328 for QCOM\n",
      "Processing data for QUALCOMM INC/DE\n",
      "Saved 27098 records for QCOM\n"
     ]
    },
    {
     "name": "stderr",
     "output_type": "stream",
     "text": [
      "Downloading financial data:  77%|███████▋  | 389/503 [08:36<02:26,  1.29s/it]"
     ]
    },
    {
     "name": "stdout",
     "output_type": "stream",
     "text": [
      "\n",
      "Processing DGX (390/503)\n",
      "Found CIK: 0001022079 for DGX\n",
      "Processing data for Quest Diagnostics Inc\n",
      "Saved 25597 records for DGX\n"
     ]
    },
    {
     "name": "stderr",
     "output_type": "stream",
     "text": [
      "Downloading financial data:  78%|███████▊  | 390/503 [08:38<02:34,  1.37s/it]"
     ]
    },
    {
     "name": "stdout",
     "output_type": "stream",
     "text": [
      "\n",
      "Processing RL (391/503)\n",
      "Found CIK: 0001037038 for RL\n",
      "Processing data for RALPH LAUREN CORPORATION\n",
      "Saved 25241 records for RL\n"
     ]
    },
    {
     "name": "stderr",
     "output_type": "stream",
     "text": [
      "Downloading financial data:  78%|███████▊  | 391/503 [08:39<02:31,  1.35s/it]"
     ]
    },
    {
     "name": "stdout",
     "output_type": "stream",
     "text": [
      "\n",
      "Processing RJF (392/503)\n",
      "Found CIK: 0000720005 for RJF\n",
      "Processing data for RAYMOND JAMES FINANCIAL, INC.\n",
      "Saved 33814 records for RJF\n"
     ]
    },
    {
     "name": "stderr",
     "output_type": "stream",
     "text": [
      "Downloading financial data:  78%|███████▊  | 392/503 [08:40<02:30,  1.36s/it]"
     ]
    },
    {
     "name": "stdout",
     "output_type": "stream",
     "text": [
      "\n",
      "Processing RTX (393/503)\n",
      "Found CIK: 0000101829 for RTX\n",
      "Processing data for RTX CORPORATION\n",
      "Saved 31781 records for RTX\n"
     ]
    },
    {
     "name": "stderr",
     "output_type": "stream",
     "text": [
      "Downloading financial data:  78%|███████▊  | 393/503 [08:42<02:36,  1.42s/it]"
     ]
    },
    {
     "name": "stdout",
     "output_type": "stream",
     "text": [
      "\n",
      "Processing O (394/503)\n",
      "Found CIK: 0000726728 for O\n",
      "Processing data for REALTY INCOME CORPORATION\n",
      "Saved 19510 records for O\n"
     ]
    },
    {
     "name": "stderr",
     "output_type": "stream",
     "text": [
      "Downloading financial data:  78%|███████▊  | 394/503 [08:43<02:23,  1.32s/it]"
     ]
    },
    {
     "name": "stdout",
     "output_type": "stream",
     "text": [
      "\n",
      "Processing REG (395/503)\n",
      "Found CIK: 0000910606 for REG\n",
      "Processing data for REGENCY CENTERS CORPORATION\n",
      "Saved 14275 records for REG\n"
     ]
    },
    {
     "name": "stderr",
     "output_type": "stream",
     "text": [
      "Downloading financial data:  79%|███████▊  | 395/503 [08:44<02:17,  1.27s/it]"
     ]
    },
    {
     "name": "stdout",
     "output_type": "stream",
     "text": [
      "\n",
      "Processing REGN (396/503)\n",
      "Found CIK: 0000872589 for REGN\n",
      "Processing data for REGENERON PHARMACEUTICALS, INC.\n",
      "Saved 17834 records for REGN\n"
     ]
    },
    {
     "name": "stderr",
     "output_type": "stream",
     "text": [
      "Downloading financial data:  79%|███████▊  | 396/503 [08:46<02:25,  1.36s/it]"
     ]
    },
    {
     "name": "stdout",
     "output_type": "stream",
     "text": [
      "\n",
      "Processing RF (397/503)\n",
      "Found CIK: 0001281761 for RF\n",
      "Processing data for Regions Financial Corporation\n",
      "Saved 41138 records for RF\n"
     ]
    },
    {
     "name": "stderr",
     "output_type": "stream",
     "text": [
      "Downloading financial data:  79%|███████▉  | 397/503 [08:47<02:26,  1.39s/it]"
     ]
    },
    {
     "name": "stdout",
     "output_type": "stream",
     "text": [
      "\n",
      "Processing RSG (398/503)\n",
      "Found CIK: 0001060391 for RSG\n",
      "Processing data for REPUBLIC SERVICES, INC.\n",
      "Saved 30885 records for RSG\n"
     ]
    },
    {
     "name": "stderr",
     "output_type": "stream",
     "text": [
      "Downloading financial data:  79%|███████▉  | 398/503 [08:49<02:35,  1.48s/it]"
     ]
    },
    {
     "name": "stdout",
     "output_type": "stream",
     "text": [
      "\n",
      "Processing RMD (399/503)\n",
      "Found CIK: 0000943819 for RMD\n",
      "Processing data for ResMed Inc.\n",
      "Saved 20725 records for RMD\n"
     ]
    },
    {
     "name": "stderr",
     "output_type": "stream",
     "text": [
      "Downloading financial data:  79%|███████▉  | 399/503 [08:51<02:41,  1.55s/it]"
     ]
    },
    {
     "name": "stdout",
     "output_type": "stream",
     "text": [
      "\n",
      "Processing RVTY (400/503)\n",
      "Found CIK: 0000031791 for RVTY\n",
      "Processing data for REVVITY, INC\n",
      "Saved 26669 records for RVTY\n"
     ]
    },
    {
     "name": "stderr",
     "output_type": "stream",
     "text": [
      "Downloading financial data:  80%|███████▉  | 400/503 [08:52<02:34,  1.50s/it]"
     ]
    },
    {
     "name": "stdout",
     "output_type": "stream",
     "text": [
      "\n",
      "Processing ROK (401/503)\n",
      "Found CIK: 0001024478 for ROK\n",
      "Processing data for Rockwell Automation, Inc.\n",
      "Saved 25036 records for ROK\n"
     ]
    },
    {
     "name": "stderr",
     "output_type": "stream",
     "text": [
      "Downloading financial data:  80%|███████▉  | 401/503 [08:53<02:22,  1.40s/it]"
     ]
    },
    {
     "name": "stdout",
     "output_type": "stream",
     "text": [
      "\n",
      "Processing ROL (402/503)\n",
      "Found CIK: 0000084839 for ROL\n",
      "Processing data for ROLLINS, INC.\n",
      "Saved 18015 records for ROL\n"
     ]
    },
    {
     "name": "stderr",
     "output_type": "stream",
     "text": [
      "Downloading financial data:  80%|███████▉  | 402/503 [08:54<02:11,  1.30s/it]"
     ]
    },
    {
     "name": "stdout",
     "output_type": "stream",
     "text": [
      "\n",
      "Processing ROP (403/503)\n",
      "Found CIK: 0000882835 for ROP\n",
      "Processing data for ROPER TECHNOLOGIES, INC.\n",
      "Saved 21107 records for ROP\n"
     ]
    },
    {
     "name": "stderr",
     "output_type": "stream",
     "text": [
      "Downloading financial data:  80%|████████  | 403/503 [08:55<02:08,  1.28s/it]"
     ]
    },
    {
     "name": "stdout",
     "output_type": "stream",
     "text": [
      "\n",
      "Processing ROST (404/503)\n",
      "Found CIK: 0000745732 for ROST\n",
      "Processing data for Ross Stores, Inc.\n",
      "Saved 19102 records for ROST\n"
     ]
    },
    {
     "name": "stderr",
     "output_type": "stream",
     "text": [
      "Downloading financial data:  80%|████████  | 404/503 [08:57<02:03,  1.25s/it]"
     ]
    },
    {
     "name": "stdout",
     "output_type": "stream",
     "text": [
      "\n",
      "Processing RCL (405/503)\n",
      "Found CIK: 0000884887 for RCL\n",
      "Processing data for ROYAL CARIBBEAN CRUISES LTD\n",
      "Saved 20854 records for RCL\n"
     ]
    },
    {
     "name": "stderr",
     "output_type": "stream",
     "text": [
      "Downloading financial data:  81%|████████  | 405/503 [08:58<02:09,  1.32s/it]"
     ]
    },
    {
     "name": "stdout",
     "output_type": "stream",
     "text": [
      "\n",
      "Processing SPGI (406/503)\n",
      "Found CIK: 0000064040 for SPGI\n",
      "Processing data for S&P Global Inc.\n",
      "Saved 26784 records for SPGI\n"
     ]
    },
    {
     "name": "stderr",
     "output_type": "stream",
     "text": [
      "Downloading financial data:  81%|████████  | 406/503 [08:59<02:04,  1.29s/it]"
     ]
    },
    {
     "name": "stdout",
     "output_type": "stream",
     "text": [
      "\n",
      "Processing CRM (407/503)\n",
      "Found CIK: 0001108524 for CRM\n",
      "Processing data for Salesforce, Inc.\n",
      "Saved 28789 records for CRM\n"
     ]
    },
    {
     "name": "stderr",
     "output_type": "stream",
     "text": [
      "Downloading financial data:  81%|████████  | 407/503 [09:01<02:02,  1.28s/it]"
     ]
    },
    {
     "name": "stdout",
     "output_type": "stream",
     "text": [
      "\n",
      "Processing SBAC (408/503)\n",
      "Found CIK: 0001034054 for SBAC\n",
      "Processing data for SBA COMMUNICATIONS CORPORATION\n",
      "Saved 24472 records for SBAC\n"
     ]
    },
    {
     "name": "stderr",
     "output_type": "stream",
     "text": [
      "Downloading financial data:  81%|████████  | 408/503 [09:02<02:01,  1.28s/it]"
     ]
    },
    {
     "name": "stdout",
     "output_type": "stream",
     "text": [
      "\n",
      "Processing SLB (409/503)\n",
      "Found CIK: 0000087347 for SLB\n",
      "Processing data for SCHLUMBERGER LIMITED/NV\n",
      "Saved 23810 records for SLB\n"
     ]
    },
    {
     "name": "stderr",
     "output_type": "stream",
     "text": [
      "Downloading financial data:  81%|████████▏ | 409/503 [09:03<01:57,  1.25s/it]"
     ]
    },
    {
     "name": "stdout",
     "output_type": "stream",
     "text": [
      "\n",
      "Processing STX (410/503)\n",
      "Found CIK: 0001137789 for STX\n",
      "Processing data for Seagate Technology Holdings plc\n",
      "Saved 22854 records for STX\n"
     ]
    },
    {
     "name": "stderr",
     "output_type": "stream",
     "text": [
      "Downloading financial data:  82%|████████▏ | 410/503 [09:04<01:51,  1.20s/it]"
     ]
    },
    {
     "name": "stdout",
     "output_type": "stream",
     "text": [
      "\n",
      "Processing SRE (411/503)\n",
      "Found CIK: 0001032208 for SRE\n",
      "Processing data for SEMPRA\n",
      "Saved 31112 records for SRE\n"
     ]
    },
    {
     "name": "stderr",
     "output_type": "stream",
     "text": [
      "Downloading financial data:  82%|████████▏ | 411/503 [09:06<01:56,  1.26s/it]"
     ]
    },
    {
     "name": "stdout",
     "output_type": "stream",
     "text": [
      "\n",
      "Processing NOW (412/503)\n",
      "Found CIK: 0001373715 for NOW\n",
      "Processing data for SERVICENOW, INC.\n",
      "Saved 19561 records for NOW\n"
     ]
    },
    {
     "name": "stderr",
     "output_type": "stream",
     "text": [
      "Downloading financial data:  82%|████████▏ | 412/503 [09:09<02:49,  1.86s/it]"
     ]
    },
    {
     "name": "stdout",
     "output_type": "stream",
     "text": [
      "\n",
      "Processing SHW (413/503)\n",
      "Found CIK: 0000089800 for SHW\n",
      "Processing data for THE SHERWIN-WILLIAMS COMPANY\n",
      "Saved 27775 records for SHW\n"
     ]
    },
    {
     "name": "stderr",
     "output_type": "stream",
     "text": [
      "Downloading financial data:  82%|████████▏ | 413/503 [09:10<02:34,  1.71s/it]"
     ]
    },
    {
     "name": "stdout",
     "output_type": "stream",
     "text": [
      "\n",
      "Processing SPG (414/503)\n",
      "Found CIK: 0001063761 for SPG\n",
      "Processing data for SIMON PROPERTY GROUP, INC.\n",
      "Saved 20018 records for SPG\n"
     ]
    },
    {
     "name": "stderr",
     "output_type": "stream",
     "text": [
      "Downloading financial data:  82%|████████▏ | 414/503 [09:12<02:27,  1.66s/it]"
     ]
    },
    {
     "name": "stdout",
     "output_type": "stream",
     "text": [
      "\n",
      "Processing SWKS (415/503)\n",
      "Found CIK: 0000004127 for SWKS\n",
      "Processing data for Skyworks Solutions, Inc.\n",
      "Saved 19820 records for SWKS\n"
     ]
    },
    {
     "name": "stderr",
     "output_type": "stream",
     "text": [
      "Downloading financial data:  83%|████████▎ | 415/503 [09:13<02:22,  1.62s/it]"
     ]
    },
    {
     "name": "stdout",
     "output_type": "stream",
     "text": [
      "\n",
      "Processing SJM (416/503)\n",
      "Found CIK: 0000091419 for SJM\n",
      "Processing data for J M SMUCKER Co\n",
      "Saved 21115 records for SJM\n"
     ]
    },
    {
     "name": "stderr",
     "output_type": "stream",
     "text": [
      "Downloading financial data:  83%|████████▎ | 416/503 [09:15<02:15,  1.56s/it]"
     ]
    },
    {
     "name": "stdout",
     "output_type": "stream",
     "text": [
      "\n",
      "Processing SW (417/503)\n",
      "Found CIK: 0002005951 for SW\n",
      "Processing data for Smurfit Westrock plc\n",
      "Saved 1447 records for SW\n"
     ]
    },
    {
     "name": "stderr",
     "output_type": "stream",
     "text": [
      "Downloading financial data:  83%|████████▎ | 417/503 [09:16<02:00,  1.40s/it]"
     ]
    },
    {
     "name": "stdout",
     "output_type": "stream",
     "text": [
      "\n",
      "Processing SNA (418/503)\n",
      "Found CIK: 0000091440 for SNA\n",
      "Processing data for Snap-on Inc\n",
      "Saved 26908 records for SNA\n"
     ]
    },
    {
     "name": "stderr",
     "output_type": "stream",
     "text": [
      "Downloading financial data:  83%|████████▎ | 418/503 [09:17<01:55,  1.36s/it]"
     ]
    },
    {
     "name": "stdout",
     "output_type": "stream",
     "text": [
      "\n",
      "Processing SOLV (419/503)\n",
      "Found CIK: 0001964738 for SOLV\n",
      "Processing data for SOLVENTUM CORPORATION\n",
      "Saved 1473 records for SOLV\n"
     ]
    },
    {
     "name": "stderr",
     "output_type": "stream",
     "text": [
      "Downloading financial data:  83%|████████▎ | 419/503 [09:18<01:48,  1.30s/it]"
     ]
    },
    {
     "name": "stdout",
     "output_type": "stream",
     "text": [
      "\n",
      "Processing SO (420/503)\n",
      "Found CIK: 0000092122 for SO\n",
      "Processing data for The Southern Company\n",
      "Saved 25814 records for SO\n"
     ]
    },
    {
     "name": "stderr",
     "output_type": "stream",
     "text": [
      "Downloading financial data:  83%|████████▎ | 420/503 [09:19<01:47,  1.30s/it]"
     ]
    },
    {
     "name": "stdout",
     "output_type": "stream",
     "text": [
      "\n",
      "Processing LUV (421/503)\n",
      "Found CIK: 0000092380 for LUV\n",
      "Processing data for SOUTHWEST AIRLINES CO.\n",
      "Saved 24937 records for LUV\n"
     ]
    },
    {
     "name": "stderr",
     "output_type": "stream",
     "text": [
      "Downloading financial data:  84%|████████▎ | 421/503 [09:21<01:45,  1.29s/it]"
     ]
    },
    {
     "name": "stdout",
     "output_type": "stream",
     "text": [
      "\n",
      "Processing SWK (422/503)\n",
      "Found CIK: 0000093556 for SWK\n",
      "Processing data for Stanley Black & Decker, Inc.\n",
      "Saved 31834 records for SWK\n"
     ]
    },
    {
     "name": "stderr",
     "output_type": "stream",
     "text": [
      "Downloading financial data:  84%|████████▍ | 422/503 [09:22<01:47,  1.32s/it]"
     ]
    },
    {
     "name": "stdout",
     "output_type": "stream",
     "text": [
      "\n",
      "Processing SBUX (423/503)\n",
      "Found CIK: 0000829224 for SBUX\n",
      "Processing data for Starbucks Corporation\n",
      "Saved 25793 records for SBUX\n"
     ]
    },
    {
     "name": "stderr",
     "output_type": "stream",
     "text": [
      "Downloading financial data:  84%|████████▍ | 423/503 [09:24<01:49,  1.36s/it]"
     ]
    },
    {
     "name": "stdout",
     "output_type": "stream",
     "text": [
      "\n",
      "Processing STT (424/503)\n",
      "Found CIK: 0000093751 for STT\n",
      "Processing data for STATE STREET CORPORATION\n",
      "Saved 37734 records for STT\n"
     ]
    },
    {
     "name": "stderr",
     "output_type": "stream",
     "text": [
      "Downloading financial data:  84%|████████▍ | 424/503 [09:25<01:52,  1.42s/it]"
     ]
    },
    {
     "name": "stdout",
     "output_type": "stream",
     "text": [
      "\n",
      "Processing STLD (425/503)\n",
      "Found CIK: 0001022671 for STLD\n",
      "Processing data for Steel Dynamics, Inc.\n",
      "Saved 20169 records for STLD\n"
     ]
    },
    {
     "name": "stderr",
     "output_type": "stream",
     "text": [
      "Downloading financial data:  84%|████████▍ | 425/503 [09:26<01:48,  1.39s/it]"
     ]
    },
    {
     "name": "stdout",
     "output_type": "stream",
     "text": [
      "\n",
      "Processing STE (426/503)\n",
      "Found CIK: 0001757898 for STE\n",
      "Processing data for STERIS plc\n",
      "Saved 12171 records for STE\n"
     ]
    },
    {
     "name": "stderr",
     "output_type": "stream",
     "text": [
      "Downloading financial data:  85%|████████▍ | 426/503 [09:27<01:38,  1.28s/it]"
     ]
    },
    {
     "name": "stdout",
     "output_type": "stream",
     "text": [
      "\n",
      "Processing SYK (427/503)\n",
      "Found CIK: 0000310764 for SYK\n",
      "Processing data for STRYKER CORP\n",
      "Saved 22894 records for SYK\n"
     ]
    },
    {
     "name": "stderr",
     "output_type": "stream",
     "text": [
      "Downloading financial data:  85%|████████▍ | 427/503 [09:29<01:40,  1.33s/it]"
     ]
    },
    {
     "name": "stdout",
     "output_type": "stream",
     "text": [
      "\n",
      "Processing SMCI (428/503)\n",
      "Found CIK: 0001375365 for SMCI\n",
      "Processing data for Super Micro Computer, Inc.\n",
      "Saved 21819 records for SMCI\n"
     ]
    },
    {
     "name": "stderr",
     "output_type": "stream",
     "text": [
      "Downloading financial data:  85%|████████▌ | 428/503 [09:30<01:34,  1.27s/it]"
     ]
    },
    {
     "name": "stdout",
     "output_type": "stream",
     "text": [
      "\n",
      "Processing SYF (429/503)\n",
      "Found CIK: 0001601712 for SYF\n",
      "Processing data for SYNCHRONY FINANCIAL\n",
      "Saved 16563 records for SYF\n"
     ]
    },
    {
     "name": "stderr",
     "output_type": "stream",
     "text": [
      "Downloading financial data:  85%|████████▌ | 429/503 [09:31<01:29,  1.21s/it]"
     ]
    },
    {
     "name": "stdout",
     "output_type": "stream",
     "text": [
      "\n",
      "Processing SNPS (430/503)\n",
      "Found CIK: 0000883241 for SNPS\n",
      "Processing data for SYNOPSYS, INC\n",
      "Saved 25147 records for SNPS\n"
     ]
    },
    {
     "name": "stderr",
     "output_type": "stream",
     "text": [
      "Downloading financial data:  85%|████████▌ | 430/503 [09:32<01:32,  1.27s/it]"
     ]
    },
    {
     "name": "stdout",
     "output_type": "stream",
     "text": [
      "\n",
      "Processing SYY (431/503)\n",
      "Found CIK: 0000096021 for SYY\n",
      "Processing data for Sysco Corporation\n",
      "Saved 24385 records for SYY\n"
     ]
    },
    {
     "name": "stderr",
     "output_type": "stream",
     "text": [
      "Downloading financial data:  86%|████████▌ | 431/503 [09:34<01:31,  1.27s/it]"
     ]
    },
    {
     "name": "stdout",
     "output_type": "stream",
     "text": [
      "\n",
      "Processing TMUS (432/503)\n",
      "Found CIK: 0001283699 for TMUS\n",
      "Processing data for T-MOBILE US, INC.\n",
      "Saved 27285 records for TMUS\n"
     ]
    },
    {
     "name": "stderr",
     "output_type": "stream",
     "text": [
      "Downloading financial data:  86%|████████▌ | 432/503 [09:35<01:27,  1.23s/it]"
     ]
    },
    {
     "name": "stdout",
     "output_type": "stream",
     "text": [
      "\n",
      "Processing TROW (433/503)\n",
      "Found CIK: 0001113169 for TROW\n",
      "Processing data for PRICE T ROWE GROUP INC\n",
      "Saved 18131 records for TROW\n"
     ]
    },
    {
     "name": "stderr",
     "output_type": "stream",
     "text": [
      "Downloading financial data:  86%|████████▌ | 433/503 [09:36<01:26,  1.23s/it]"
     ]
    },
    {
     "name": "stdout",
     "output_type": "stream",
     "text": [
      "\n",
      "Processing TTWO (434/503)\n",
      "Found CIK: 0000946581 for TTWO\n",
      "Processing data for TAKE-TWO INTERACTIVE SOFTWARE, INC.\n",
      "Saved 20355 records for TTWO\n"
     ]
    },
    {
     "name": "stderr",
     "output_type": "stream",
     "text": [
      "Downloading financial data:  86%|████████▋ | 434/503 [09:37<01:21,  1.18s/it]"
     ]
    },
    {
     "name": "stdout",
     "output_type": "stream",
     "text": [
      "\n",
      "Processing TPR (435/503)\n",
      "Found CIK: 0001116132 for TPR\n",
      "Processing data for Tapestry, Inc.\n",
      "Saved 23574 records for TPR\n"
     ]
    },
    {
     "name": "stderr",
     "output_type": "stream",
     "text": [
      "Downloading financial data:  86%|████████▋ | 435/503 [09:38<01:19,  1.18s/it]"
     ]
    },
    {
     "name": "stdout",
     "output_type": "stream",
     "text": [
      "\n",
      "Processing TRGP (436/503)\n",
      "Found CIK: 0001389170 for TRGP\n",
      "Processing data for TARGA RESOURCES CORP.\n",
      "Saved 23899 records for TRGP\n"
     ]
    },
    {
     "name": "stderr",
     "output_type": "stream",
     "text": [
      "Downloading financial data:  87%|████████▋ | 436/503 [09:40<01:19,  1.19s/it]"
     ]
    },
    {
     "name": "stdout",
     "output_type": "stream",
     "text": [
      "\n",
      "Processing TGT (437/503)\n",
      "Found CIK: 0000027419 for TGT\n",
      "Processing data for TARGET CORPORATION\n",
      "Saved 23239 records for TGT\n"
     ]
    },
    {
     "name": "stderr",
     "output_type": "stream",
     "text": [
      "Downloading financial data:  87%|████████▋ | 437/503 [09:41<01:20,  1.23s/it]"
     ]
    },
    {
     "name": "stdout",
     "output_type": "stream",
     "text": [
      "\n",
      "Processing TEL (438/503)\n",
      "Found CIK: 0001385157 for TEL\n",
      "Processing data for TE CONNECTIVITY PLC\n",
      "Saved 24485 records for TEL\n"
     ]
    },
    {
     "name": "stderr",
     "output_type": "stream",
     "text": [
      "Downloading financial data:  87%|████████▋ | 438/503 [09:42<01:18,  1.21s/it]"
     ]
    },
    {
     "name": "stdout",
     "output_type": "stream",
     "text": [
      "\n",
      "Processing TDY (439/503)\n",
      "Found CIK: 0001094285 for TDY\n",
      "Processing data for TELEDYNE TECHNOLOGIES INC\n",
      "Saved 21593 records for TDY\n"
     ]
    },
    {
     "name": "stderr",
     "output_type": "stream",
     "text": [
      "Downloading financial data:  87%|████████▋ | 439/503 [09:43<01:21,  1.27s/it]"
     ]
    },
    {
     "name": "stdout",
     "output_type": "stream",
     "text": [
      "\n",
      "Processing TER (440/503)\n",
      "Found CIK: 0000097210 for TER\n",
      "Processing data for TERADYNE, INC.\n",
      "Saved 31318 records for TER\n"
     ]
    },
    {
     "name": "stderr",
     "output_type": "stream",
     "text": [
      "Downloading financial data:  87%|████████▋ | 440/503 [09:45<01:20,  1.28s/it]"
     ]
    },
    {
     "name": "stdout",
     "output_type": "stream",
     "text": [
      "\n",
      "Processing TSLA (441/503)\n",
      "Found CIK: 0001318605 for TSLA\n",
      "Processing data for Tesla, Inc.\n",
      "Saved 21967 records for TSLA\n"
     ]
    },
    {
     "name": "stderr",
     "output_type": "stream",
     "text": [
      "Downloading financial data:  88%|████████▊ | 441/503 [09:46<01:18,  1.27s/it]"
     ]
    },
    {
     "name": "stdout",
     "output_type": "stream",
     "text": [
      "\n",
      "Processing TXN (442/503)\n",
      "Found CIK: 0000097476 for TXN\n",
      "Processing data for TEXAS INSTRUMENTS INCORPORATED\n",
      "Saved 22680 records for TXN\n"
     ]
    },
    {
     "name": "stderr",
     "output_type": "stream",
     "text": [
      "Downloading financial data:  88%|████████▊ | 442/503 [09:47<01:16,  1.26s/it]"
     ]
    },
    {
     "name": "stdout",
     "output_type": "stream",
     "text": [
      "\n",
      "Processing TPL (443/503)\n",
      "Found CIK: 0001811074 for TPL\n",
      "Processing data for Texas Pacific Land Corporation\n",
      "Saved 5167 records for TPL\n"
     ]
    },
    {
     "name": "stderr",
     "output_type": "stream",
     "text": [
      "Downloading financial data:  88%|████████▊ | 443/503 [09:48<01:09,  1.16s/it]"
     ]
    },
    {
     "name": "stdout",
     "output_type": "stream",
     "text": [
      "\n",
      "Processing TXT (444/503)\n",
      "Found CIK: 0000217346 for TXT\n",
      "Processing data for Textron Inc.\n",
      "Saved 21488 records for TXT\n"
     ]
    },
    {
     "name": "stderr",
     "output_type": "stream",
     "text": [
      "Downloading financial data:  88%|████████▊ | 444/503 [09:49<01:08,  1.16s/it]"
     ]
    },
    {
     "name": "stdout",
     "output_type": "stream",
     "text": [
      "\n",
      "Processing TMO (445/503)\n",
      "Found CIK: 0000097745 for TMO\n",
      "Processing data for THERMO FISHER SCIENTIFIC INC.\n",
      "Saved 32281 records for TMO\n"
     ]
    },
    {
     "name": "stderr",
     "output_type": "stream",
     "text": [
      "Downloading financial data:  88%|████████▊ | 445/503 [09:51<01:12,  1.25s/it]"
     ]
    },
    {
     "name": "stdout",
     "output_type": "stream",
     "text": [
      "\n",
      "Processing TJX (446/503)\n",
      "Found CIK: 0000109198 for TJX\n",
      "Processing data for The TJX Companies, Inc.\n",
      "Saved 22464 records for TJX\n"
     ]
    },
    {
     "name": "stderr",
     "output_type": "stream",
     "text": [
      "Downloading financial data:  89%|████████▊ | 446/503 [09:52<01:10,  1.24s/it]"
     ]
    },
    {
     "name": "stdout",
     "output_type": "stream",
     "text": [
      "\n",
      "Processing TKO (447/503)\n",
      "Found CIK: 0001973266 for TKO\n",
      "Processing data for TKO GROUP HOLDINGS, INC.\n",
      "Saved 3630 records for TKO\n"
     ]
    },
    {
     "name": "stderr",
     "output_type": "stream",
     "text": [
      "Downloading financial data:  89%|████████▉ | 447/503 [09:53<01:04,  1.16s/it]"
     ]
    },
    {
     "name": "stdout",
     "output_type": "stream",
     "text": [
      "\n",
      "Processing TSCO (448/503)\n",
      "Found CIK: 0000916365 for TSCO\n",
      "Processing data for TRACTOR SUPPLY CO /DE/\n",
      "Saved 19783 records for TSCO\n"
     ]
    },
    {
     "name": "stderr",
     "output_type": "stream",
     "text": [
      "Downloading financial data:  89%|████████▉ | 448/503 [09:55<01:12,  1.31s/it]"
     ]
    },
    {
     "name": "stdout",
     "output_type": "stream",
     "text": [
      "\n",
      "Processing TT (449/503)\n",
      "Found CIK: 0001466258 for TT\n",
      "Processing data for TRANE TECHNOLOGIES PLC\n",
      "Saved 26705 records for TT\n"
     ]
    },
    {
     "name": "stderr",
     "output_type": "stream",
     "text": [
      "Downloading financial data:  89%|████████▉ | 449/503 [09:56<01:14,  1.38s/it]"
     ]
    },
    {
     "name": "stdout",
     "output_type": "stream",
     "text": [
      "\n",
      "Processing TDG (450/503)\n",
      "Found CIK: 0001260221 for TDG\n",
      "Processing data for TransDigm Group Incorporated\n",
      "Saved 20280 records for TDG\n"
     ]
    },
    {
     "name": "stderr",
     "output_type": "stream",
     "text": [
      "Downloading financial data:  89%|████████▉ | 450/503 [09:57<01:12,  1.36s/it]"
     ]
    },
    {
     "name": "stdout",
     "output_type": "stream",
     "text": [
      "\n",
      "Processing TRV (451/503)\n",
      "Found CIK: 0000086312 for TRV\n",
      "Processing data for Travelers Companies, Inc.\n",
      "Saved 26933 records for TRV\n"
     ]
    },
    {
     "name": "stderr",
     "output_type": "stream",
     "text": [
      "Downloading financial data:  90%|████████▉ | 451/503 [09:59<01:08,  1.31s/it]"
     ]
    },
    {
     "name": "stdout",
     "output_type": "stream",
     "text": [
      "\n",
      "Processing TRMB (452/503)\n",
      "Found CIK: 0000864749 for TRMB\n",
      "Processing data for TRIMBLE INC.\n",
      "Saved 23702 records for TRMB\n"
     ]
    },
    {
     "name": "stderr",
     "output_type": "stream",
     "text": [
      "Downloading financial data:  90%|████████▉ | 452/503 [10:00<01:04,  1.26s/it]"
     ]
    },
    {
     "name": "stdout",
     "output_type": "stream",
     "text": [
      "\n",
      "Processing TFC (453/503)\n",
      "Found CIK: 0000092230 for TFC\n",
      "Processing data for TRUIST FINANCIAL CORPORATION\n",
      "Saved 36778 records for TFC\n"
     ]
    },
    {
     "name": "stderr",
     "output_type": "stream",
     "text": [
      "Downloading financial data:  90%|█████████ | 453/503 [10:01<01:06,  1.34s/it]"
     ]
    },
    {
     "name": "stdout",
     "output_type": "stream",
     "text": [
      "\n",
      "Processing TYL (454/503)\n",
      "Found CIK: 0000860731 for TYL\n",
      "Processing data for TYLER TECHNOLOGIES, INC.\n",
      "Saved 18227 records for TYL\n"
     ]
    },
    {
     "name": "stderr",
     "output_type": "stream",
     "text": [
      "Downloading financial data:  90%|█████████ | 454/503 [10:02<01:02,  1.28s/it]"
     ]
    },
    {
     "name": "stdout",
     "output_type": "stream",
     "text": [
      "\n",
      "Processing TSN (455/503)\n",
      "Found CIK: 0000100493 for TSN\n",
      "Processing data for TYSON FOODS, INC.\n",
      "Saved 21818 records for TSN\n"
     ]
    },
    {
     "name": "stderr",
     "output_type": "stream",
     "text": [
      "Downloading financial data:  90%|█████████ | 455/503 [10:04<01:02,  1.29s/it]"
     ]
    },
    {
     "name": "stdout",
     "output_type": "stream",
     "text": [
      "\n",
      "Processing USB (456/503)\n",
      "Found CIK: 0000036104 for USB\n",
      "Processing data for US BANCORP \\DE\\\n",
      "Saved 40651 records for USB\n"
     ]
    },
    {
     "name": "stderr",
     "output_type": "stream",
     "text": [
      "Downloading financial data:  91%|█████████ | 456/503 [10:05<01:00,  1.29s/it]"
     ]
    },
    {
     "name": "stdout",
     "output_type": "stream",
     "text": [
      "\n",
      "Processing UBER (457/503)\n",
      "Found CIK: 0001543151 for UBER\n",
      "Processing data for UBER TECHNOLOGIES, INC.\n",
      "Saved 11303 records for UBER\n"
     ]
    },
    {
     "name": "stderr",
     "output_type": "stream",
     "text": [
      "Downloading financial data:  91%|█████████ | 457/503 [10:06<00:57,  1.26s/it]"
     ]
    },
    {
     "name": "stdout",
     "output_type": "stream",
     "text": [
      "\n",
      "Processing UDR (458/503)\n",
      "Found CIK: 0000074208 for UDR\n",
      "Processing data for UDR, Inc.\n",
      "Saved 25345 records for UDR\n"
     ]
    },
    {
     "name": "stderr",
     "output_type": "stream",
     "text": [
      "Downloading financial data:  91%|█████████ | 458/503 [10:08<00:57,  1.27s/it]"
     ]
    },
    {
     "name": "stdout",
     "output_type": "stream",
     "text": [
      "\n",
      "Processing ULTA (459/503)\n",
      "Found CIK: 0001403568 for ULTA\n",
      "Processing data for ULTA BEAUTY, INC.\n",
      "Saved 15151 records for ULTA\n"
     ]
    },
    {
     "name": "stderr",
     "output_type": "stream",
     "text": [
      "Downloading financial data:  91%|█████████▏| 459/503 [10:09<00:53,  1.22s/it]"
     ]
    },
    {
     "name": "stdout",
     "output_type": "stream",
     "text": [
      "\n",
      "Processing UNP (460/503)\n",
      "Found CIK: 0000100885 for UNP\n",
      "Processing data for UNION PACIFIC CORP\n",
      "Saved 22202 records for UNP\n"
     ]
    },
    {
     "name": "stderr",
     "output_type": "stream",
     "text": [
      "Downloading financial data:  91%|█████████▏| 460/503 [10:10<00:52,  1.22s/it]"
     ]
    },
    {
     "name": "stdout",
     "output_type": "stream",
     "text": [
      "\n",
      "Processing UAL (461/503)\n",
      "Found CIK: 0000100517 for UAL\n",
      "Processing data for United Airlines Holdings, Inc.\n",
      "Saved 21848 records for UAL\n"
     ]
    },
    {
     "name": "stderr",
     "output_type": "stream",
     "text": [
      "Downloading financial data:  92%|█████████▏| 461/503 [10:13<01:20,  1.91s/it]"
     ]
    },
    {
     "name": "stdout",
     "output_type": "stream",
     "text": [
      "\n",
      "Processing UPS (462/503)\n",
      "Found CIK: 0001090727 for UPS\n",
      "Processing data for United Parcel Service, Inc.\n",
      "Saved 24470 records for UPS\n"
     ]
    },
    {
     "name": "stderr",
     "output_type": "stream",
     "text": [
      "Downloading financial data:  92%|█████████▏| 462/503 [10:15<01:09,  1.70s/it]"
     ]
    },
    {
     "name": "stdout",
     "output_type": "stream",
     "text": [
      "\n",
      "Processing URI (463/503)\n",
      "Found CIK: 0001067701 for URI\n",
      "Processing data for United Rentals, Inc.\n",
      "Saved 17319 records for URI\n"
     ]
    },
    {
     "name": "stderr",
     "output_type": "stream",
     "text": [
      "Downloading financial data:  92%|█████████▏| 463/503 [10:16<01:03,  1.58s/it]"
     ]
    },
    {
     "name": "stdout",
     "output_type": "stream",
     "text": [
      "\n",
      "Processing UNH (464/503)\n",
      "Found CIK: 0000731766 for UNH\n",
      "Processing data for UnitedHealth Group Incorporated\n",
      "Saved 26913 records for UNH\n"
     ]
    },
    {
     "name": "stderr",
     "output_type": "stream",
     "text": [
      "Downloading financial data:  92%|█████████▏| 464/503 [10:17<00:56,  1.45s/it]"
     ]
    },
    {
     "name": "stdout",
     "output_type": "stream",
     "text": [
      "\n",
      "Processing UHS (465/503)\n",
      "Found CIK: 0000352915 for UHS\n",
      "Processing data for UNIVERSAL HEALTH SERVICES, INC.\n",
      "Saved 21414 records for UHS\n"
     ]
    },
    {
     "name": "stderr",
     "output_type": "stream",
     "text": [
      "Downloading financial data:  92%|█████████▏| 465/503 [10:18<00:51,  1.35s/it]"
     ]
    },
    {
     "name": "stdout",
     "output_type": "stream",
     "text": [
      "\n",
      "Processing VLO (466/503)\n",
      "Found CIK: 0001035002 for VLO\n",
      "Processing data for VALERO ENERGY CORP/TX\n",
      "Saved 25180 records for VLO\n"
     ]
    },
    {
     "name": "stderr",
     "output_type": "stream",
     "text": [
      "Downloading financial data:  93%|█████████▎| 466/503 [10:19<00:49,  1.33s/it]"
     ]
    },
    {
     "name": "stdout",
     "output_type": "stream",
     "text": [
      "\n",
      "Processing VTR (467/503)\n",
      "Found CIK: 0000740260 for VTR\n",
      "Processing data for Ventas, Inc.\n",
      "Saved 28271 records for VTR\n"
     ]
    },
    {
     "name": "stderr",
     "output_type": "stream",
     "text": [
      "Downloading financial data:  93%|█████████▎| 467/503 [10:21<00:50,  1.40s/it]"
     ]
    },
    {
     "name": "stdout",
     "output_type": "stream",
     "text": [
      "\n",
      "Processing VLTO (468/503)\n",
      "Found CIK: 0001967680 for VLTO\n",
      "Processing data for VERALTO CORPORATION\n",
      "Saved 2185 records for VLTO\n"
     ]
    },
    {
     "name": "stderr",
     "output_type": "stream",
     "text": [
      "Downloading financial data:  93%|█████████▎| 468/503 [10:22<00:44,  1.27s/it]"
     ]
    },
    {
     "name": "stdout",
     "output_type": "stream",
     "text": [
      "\n",
      "Processing VRSN (469/503)\n",
      "Found CIK: 0001014473 for VRSN\n",
      "Processing data for VERISIGN INC/CA\n",
      "Saved 20617 records for VRSN\n"
     ]
    },
    {
     "name": "stderr",
     "output_type": "stream",
     "text": [
      "Downloading financial data:  93%|█████████▎| 469/503 [10:23<00:40,  1.20s/it]"
     ]
    },
    {
     "name": "stdout",
     "output_type": "stream",
     "text": [
      "\n",
      "Processing VRSK (470/503)\n",
      "Found CIK: 0001442145 for VRSK\n",
      "Processing data for Verisk Analytics, Inc.\n",
      "Saved 28422 records for VRSK\n"
     ]
    },
    {
     "name": "stderr",
     "output_type": "stream",
     "text": [
      "Downloading financial data:  93%|█████████▎| 470/503 [10:24<00:40,  1.22s/it]"
     ]
    },
    {
     "name": "stdout",
     "output_type": "stream",
     "text": [
      "\n",
      "Processing VZ (471/503)\n",
      "Found CIK: 0000732712 for VZ\n",
      "Processing data for Verizon Communications Inc.\n",
      "Saved 26721 records for VZ\n"
     ]
    },
    {
     "name": "stderr",
     "output_type": "stream",
     "text": [
      "Downloading financial data:  94%|█████████▎| 471/503 [10:26<00:38,  1.21s/it]"
     ]
    },
    {
     "name": "stdout",
     "output_type": "stream",
     "text": [
      "\n",
      "Processing VRTX (472/503)\n",
      "Found CIK: 0000875320 for VRTX\n",
      "Processing data for VERTEX PHARMACEUTICALS INC / MA\n",
      "Saved 24035 records for VRTX\n"
     ]
    },
    {
     "name": "stderr",
     "output_type": "stream",
     "text": [
      "Downloading financial data:  94%|█████████▍| 472/503 [10:27<00:39,  1.28s/it]"
     ]
    },
    {
     "name": "stdout",
     "output_type": "stream",
     "text": [
      "\n",
      "Processing VTRS (473/503)\n",
      "Found CIK: 0001792044 for VTRS\n",
      "Processing data for VIATRIS INC.\n",
      "Saved 8312 records for VTRS\n"
     ]
    },
    {
     "name": "stderr",
     "output_type": "stream",
     "text": [
      "Downloading financial data:  94%|█████████▍| 473/503 [10:28<00:35,  1.20s/it]"
     ]
    },
    {
     "name": "stdout",
     "output_type": "stream",
     "text": [
      "\n",
      "Processing VICI (474/503)\n",
      "Found CIK: 0001705696 for VICI\n",
      "Processing data for VICI Properties Inc.\n",
      "Saved 9841 records for VICI\n"
     ]
    },
    {
     "name": "stderr",
     "output_type": "stream",
     "text": [
      "Downloading financial data:  94%|█████████▍| 474/503 [10:29<00:32,  1.12s/it]"
     ]
    },
    {
     "name": "stdout",
     "output_type": "stream",
     "text": [
      "\n",
      "Processing V (475/503)\n",
      "Found CIK: 0001403161 for V\n",
      "Processing data for VISA INC.\n",
      "Saved 21771 records for V\n"
     ]
    },
    {
     "name": "stderr",
     "output_type": "stream",
     "text": [
      "Downloading financial data:  94%|█████████▍| 475/503 [10:30<00:33,  1.20s/it]"
     ]
    },
    {
     "name": "stdout",
     "output_type": "stream",
     "text": [
      "\n",
      "Processing VST (476/503)\n",
      "Found CIK: 0001692819 for VST\n",
      "Processing data for Vistra Corp.\n",
      "Saved 14782 records for VST\n"
     ]
    },
    {
     "name": "stderr",
     "output_type": "stream",
     "text": [
      "Downloading financial data:  95%|█████████▍| 476/503 [10:31<00:31,  1.16s/it]"
     ]
    },
    {
     "name": "stdout",
     "output_type": "stream",
     "text": [
      "\n",
      "Processing VMC (477/503)\n",
      "Found CIK: 0001396009 for VMC\n",
      "Processing data for VULCAN MATERIALS COMPANY\n",
      "Saved 31942 records for VMC\n"
     ]
    },
    {
     "name": "stderr",
     "output_type": "stream",
     "text": [
      "Downloading financial data:  95%|█████████▍| 477/503 [10:33<00:32,  1.26s/it]"
     ]
    },
    {
     "name": "stdout",
     "output_type": "stream",
     "text": [
      "\n",
      "Processing WRB (478/503)\n",
      "Found CIK: 0000011544 for WRB\n",
      "Processing data for W. R. BERKLEY CORP\n",
      "Saved 27727 records for WRB\n"
     ]
    },
    {
     "name": "stderr",
     "output_type": "stream",
     "text": [
      "Downloading financial data:  95%|█████████▌| 478/503 [10:34<00:30,  1.22s/it]"
     ]
    },
    {
     "name": "stdout",
     "output_type": "stream",
     "text": [
      "\n",
      "Processing GWW (479/503)\n",
      "Found CIK: 0000277135 for GWW\n",
      "Processing data for W.W. Grainger, Inc.\n",
      "Saved 22487 records for GWW\n"
     ]
    },
    {
     "name": "stderr",
     "output_type": "stream",
     "text": [
      "Downloading financial data:  95%|█████████▌| 479/503 [10:35<00:29,  1.23s/it]"
     ]
    },
    {
     "name": "stdout",
     "output_type": "stream",
     "text": [
      "\n",
      "Processing WAB (480/503)\n",
      "Found CIK: 0000943452 for WAB\n",
      "Processing data for WESTINGHOUSE AIR BRAKE TECHNOLOGIES CORPORATION\n",
      "Saved 25880 records for WAB\n"
     ]
    },
    {
     "name": "stderr",
     "output_type": "stream",
     "text": [
      "Downloading financial data:  95%|█████████▌| 480/503 [10:36<00:28,  1.24s/it]"
     ]
    },
    {
     "name": "stdout",
     "output_type": "stream",
     "text": [
      "\n",
      "Processing WBA (481/503)\n",
      "Found CIK: 0001618921 for WBA\n",
      "Processing data for WALGREENS BOOTS ALLIANCE, INC.\n",
      "Saved 17815 records for WBA\n"
     ]
    },
    {
     "name": "stderr",
     "output_type": "stream",
     "text": [
      "Downloading financial data:  96%|█████████▌| 481/503 [10:38<00:29,  1.33s/it]"
     ]
    },
    {
     "name": "stdout",
     "output_type": "stream",
     "text": [
      "\n",
      "Processing WMT (482/503)\n",
      "Found CIK: 0000104169 for WMT\n",
      "Processing data for Walmart Inc.\n",
      "Saved 23036 records for WMT\n"
     ]
    },
    {
     "name": "stderr",
     "output_type": "stream",
     "text": [
      "Downloading financial data:  96%|█████████▌| 482/503 [10:39<00:27,  1.30s/it]"
     ]
    },
    {
     "name": "stdout",
     "output_type": "stream",
     "text": [
      "\n",
      "Processing DIS (483/503)\n",
      "Found CIK: 0001744489 for DIS\n",
      "Processing data for WALT DISNEY CO/\n",
      "Saved 14182 records for DIS\n"
     ]
    },
    {
     "name": "stderr",
     "output_type": "stream",
     "text": [
      "Downloading financial data:  96%|█████████▌| 483/503 [10:40<00:24,  1.22s/it]"
     ]
    },
    {
     "name": "stdout",
     "output_type": "stream",
     "text": [
      "\n",
      "Processing WBD (484/503)\n",
      "Found CIK: 0001437107 for WBD\n",
      "Processing data for Warner Bros. Discovery, Inc.\n",
      "Saved 29627 records for WBD\n"
     ]
    },
    {
     "name": "stderr",
     "output_type": "stream",
     "text": [
      "Downloading financial data:  96%|█████████▌| 484/503 [10:42<00:25,  1.33s/it]"
     ]
    },
    {
     "name": "stdout",
     "output_type": "stream",
     "text": [
      "\n",
      "Processing WM (485/503)\n",
      "Found CIK: 0000823768 for WM\n",
      "Processing data for Waste Management, Inc\n",
      "Saved 22480 records for WM\n"
     ]
    },
    {
     "name": "stderr",
     "output_type": "stream",
     "text": [
      "Downloading financial data:  96%|█████████▋| 485/503 [10:43<00:23,  1.29s/it]"
     ]
    },
    {
     "name": "stdout",
     "output_type": "stream",
     "text": [
      "\n",
      "Processing WAT (486/503)\n",
      "Found CIK: 0001000697 for WAT\n",
      "Processing data for Waters Corporation\n",
      "Saved 27414 records for WAT\n"
     ]
    },
    {
     "name": "stderr",
     "output_type": "stream",
     "text": [
      "Downloading financial data:  97%|█████████▋| 486/503 [10:44<00:21,  1.25s/it]"
     ]
    },
    {
     "name": "stdout",
     "output_type": "stream",
     "text": [
      "\n",
      "Processing WEC (487/503)\n",
      "Found CIK: 0000783325 for WEC\n",
      "Processing data for WEC ENERGY GROUP, INC.\n",
      "Saved 25132 records for WEC\n"
     ]
    },
    {
     "name": "stderr",
     "output_type": "stream",
     "text": [
      "Downloading financial data:  97%|█████████▋| 487/503 [10:45<00:19,  1.20s/it]"
     ]
    },
    {
     "name": "stdout",
     "output_type": "stream",
     "text": [
      "\n",
      "Processing WFC (488/503)\n",
      "Found CIK: 0000072971 for WFC\n",
      "Processing data for WELLS FARGO & COMPANY/MN\n",
      "Saved 48362 records for WFC\n"
     ]
    },
    {
     "name": "stderr",
     "output_type": "stream",
     "text": [
      "Downloading financial data:  97%|█████████▋| 488/503 [10:47<00:19,  1.29s/it]"
     ]
    },
    {
     "name": "stdout",
     "output_type": "stream",
     "text": [
      "\n",
      "Processing WELL (489/503)\n",
      "Found CIK: 0000766704 for WELL\n",
      "Processing data for WELLTOWER INC.\n",
      "Saved 34163 records for WELL\n"
     ]
    },
    {
     "name": "stderr",
     "output_type": "stream",
     "text": [
      "Downloading financial data:  97%|█████████▋| 489/503 [10:48<00:18,  1.33s/it]"
     ]
    },
    {
     "name": "stdout",
     "output_type": "stream",
     "text": [
      "\n",
      "Processing WST (490/503)\n",
      "Found CIK: 0000105770 for WST\n",
      "Processing data for WEST PHARMACEUTICAL SERVICES, INC.\n",
      "Saved 25218 records for WST\n"
     ]
    },
    {
     "name": "stderr",
     "output_type": "stream",
     "text": [
      "Downloading financial data:  97%|█████████▋| 490/503 [10:49<00:16,  1.27s/it]"
     ]
    },
    {
     "name": "stdout",
     "output_type": "stream",
     "text": [
      "\n",
      "Processing WDC (491/503)\n",
      "Found CIK: 0000106040 for WDC\n",
      "Processing data for WESTERN DIGITAL CORPORATION\n",
      "Saved 25310 records for WDC\n"
     ]
    },
    {
     "name": "stderr",
     "output_type": "stream",
     "text": [
      "Downloading financial data:  98%|█████████▊| 491/503 [10:50<00:14,  1.22s/it]"
     ]
    },
    {
     "name": "stdout",
     "output_type": "stream",
     "text": [
      "\n",
      "Processing WY (492/503)\n",
      "Found CIK: 0000106535 for WY\n",
      "Processing data for WEYERHAEUSER COMPANY\n",
      "Saved 21057 records for WY\n"
     ]
    },
    {
     "name": "stderr",
     "output_type": "stream",
     "text": [
      "Downloading financial data:  98%|█████████▊| 492/503 [10:52<00:13,  1.19s/it]"
     ]
    },
    {
     "name": "stdout",
     "output_type": "stream",
     "text": [
      "\n",
      "Processing WSM (493/503)\n",
      "Found CIK: 0000719955 for WSM\n",
      "Processing data for WILLIAMS-SONOMA, INC.\n",
      "Saved 18415 records for WSM\n"
     ]
    },
    {
     "name": "stderr",
     "output_type": "stream",
     "text": [
      "Downloading financial data:  98%|█████████▊| 493/503 [10:53<00:11,  1.15s/it]"
     ]
    },
    {
     "name": "stdout",
     "output_type": "stream",
     "text": [
      "\n",
      "Processing WMB (494/503)\n",
      "Found CIK: 0000107263 for WMB\n",
      "Processing data for Williams Companies, Inc.\n",
      "Saved 30618 records for WMB\n"
     ]
    },
    {
     "name": "stderr",
     "output_type": "stream",
     "text": [
      "Downloading financial data:  98%|█████████▊| 494/503 [10:54<00:11,  1.23s/it]"
     ]
    },
    {
     "name": "stdout",
     "output_type": "stream",
     "text": [
      "\n",
      "Processing WTW (495/503)\n",
      "Found CIK: 0001140536 for WTW\n",
      "Processing data for Willis Towers Watson PLC\n",
      "Saved 31143 records for WTW\n"
     ]
    },
    {
     "name": "stderr",
     "output_type": "stream",
     "text": [
      "Downloading financial data:  98%|█████████▊| 495/503 [10:56<00:10,  1.29s/it]"
     ]
    },
    {
     "name": "stdout",
     "output_type": "stream",
     "text": [
      "\n",
      "Processing WDAY (496/503)\n",
      "Found CIK: 0001327811 for WDAY\n",
      "Processing data for WORKDAY, INC.\n",
      "Saved 20140 records for WDAY\n"
     ]
    },
    {
     "name": "stderr",
     "output_type": "stream",
     "text": [
      "Downloading financial data:  99%|█████████▊| 496/503 [10:57<00:08,  1.27s/it]"
     ]
    },
    {
     "name": "stdout",
     "output_type": "stream",
     "text": [
      "\n",
      "Processing WYNN (497/503)\n",
      "Found CIK: 0001174922 for WYNN\n",
      "Processing data for WYNN RESORTS, LIMITED\n",
      "Saved 23175 records for WYNN\n"
     ]
    },
    {
     "name": "stderr",
     "output_type": "stream",
     "text": [
      "Downloading financial data:  99%|█████████▉| 497/503 [10:58<00:07,  1.23s/it]"
     ]
    },
    {
     "name": "stdout",
     "output_type": "stream",
     "text": [
      "\n",
      "Processing XEL (498/503)\n",
      "Found CIK: 0000072903 for XEL\n",
      "Processing data for Xcel Energy Inc.\n",
      "Saved 26916 records for XEL\n"
     ]
    },
    {
     "name": "stderr",
     "output_type": "stream",
     "text": [
      "Downloading financial data:  99%|█████████▉| 498/503 [10:59<00:06,  1.28s/it]"
     ]
    },
    {
     "name": "stdout",
     "output_type": "stream",
     "text": [
      "\n",
      "Processing XYL (499/503)\n",
      "Found CIK: 0001524472 for XYL\n",
      "Processing data for Xylem Inc.\n",
      "Saved 23758 records for XYL\n"
     ]
    },
    {
     "name": "stderr",
     "output_type": "stream",
     "text": [
      "Downloading financial data:  99%|█████████▉| 499/503 [11:01<00:05,  1.28s/it]"
     ]
    },
    {
     "name": "stdout",
     "output_type": "stream",
     "text": [
      "\n",
      "Processing YUM (500/503)\n",
      "Found CIK: 0001041061 for YUM\n",
      "Processing data for YUM! BRANDS, INC.\n",
      "Saved 21980 records for YUM\n"
     ]
    },
    {
     "name": "stderr",
     "output_type": "stream",
     "text": [
      "Downloading financial data:  99%|█████████▉| 500/503 [11:02<00:03,  1.27s/it]"
     ]
    },
    {
     "name": "stdout",
     "output_type": "stream",
     "text": [
      "\n",
      "Processing ZBRA (501/503)\n",
      "Found CIK: 0000877212 for ZBRA\n",
      "Processing data for Zebra Technologies Corporation\n",
      "Saved 27171 records for ZBRA\n"
     ]
    },
    {
     "name": "stderr",
     "output_type": "stream",
     "text": [
      "Downloading financial data: 100%|█████████▉| 501/503 [11:03<00:02,  1.25s/it]"
     ]
    },
    {
     "name": "stdout",
     "output_type": "stream",
     "text": [
      "\n",
      "Processing ZBH (502/503)\n",
      "Found CIK: 0001136869 for ZBH\n",
      "Processing data for ZIMMER BIOMET HOLDINGS, INC.\n",
      "Saved 25638 records for ZBH\n"
     ]
    },
    {
     "name": "stderr",
     "output_type": "stream",
     "text": [
      "Downloading financial data: 100%|█████████▉| 502/503 [11:04<00:01,  1.22s/it]"
     ]
    },
    {
     "name": "stdout",
     "output_type": "stream",
     "text": [
      "\n",
      "Processing ZTS (503/503)\n",
      "Found CIK: 0001555280 for ZTS\n",
      "Processing data for Zoetis Inc.\n",
      "Saved 21406 records for ZTS\n"
     ]
    },
    {
     "name": "stderr",
     "output_type": "stream",
     "text": [
      "Downloading financial data: 100%|██████████| 503/503 [11:05<00:00,  1.32s/it]"
     ]
    },
    {
     "name": "stdout",
     "output_type": "stream",
     "text": [
      "\n",
      "Download complete!\n",
      "Successfully processed: 501 companies\n",
      "Failed: 2 companies\n"
     ]
    },
    {
     "name": "stderr",
     "output_type": "stream",
     "text": [
      "\n"
     ]
    }
   ],
   "source": [
    "company_symbols = sp500['Symbol'].tolist()\n",
    "for i, symbol in enumerate(tqdm(company_symbols, desc=\"Downloading financial data\")):\n",
    "    print(f\"\\nProcessing {symbol} ({i+1}/{len(company_symbols)})\")\n",
    "    \n",
    "    # Get CIK for the symbol using your ticker_df\n",
    "    cik = get_cik_from_ticker(symbol)\n",
    "    \n",
    "    if not cik:\n",
    "        print(f\"Could not find CIK for {symbol}\")\n",
    "        failed_companies.append(symbol)\n",
    "        continue\n",
    "    \n",
    "    print(f\"Found CIK: {cik} for {symbol}\")\n",
    "    \n",
    "    # Download company facts with retries\n",
    "    facts_data = None\n",
    "    for attempt in range(max_retries):\n",
    "        try:\n",
    "            url = COMPANY_FACTS_URL.format(cik)\n",
    "            response = requests.get(url, headers=headers)\n",
    "            \n",
    "            if response.status_code == 429:\n",
    "                print(\"Rate limit hit, waiting 10 seconds...\")\n",
    "                time.sleep(10)\n",
    "                response = requests.get(url, headers=headers)\n",
    "            \n",
    "            if response.status_code == 200:\n",
    "                facts_data = response.json()\n",
    "                break\n",
    "            else:\n",
    "                print(f\"Attempt {attempt+1}: Status code {response.status_code}\")\n",
    "                \n",
    "        except Exception as e:\n",
    "            print(f\"Attempt {attempt+1} failed: {e}\")\n",
    "        \n",
    "        if attempt < max_retries - 1:\n",
    "            time.sleep(delay_between_requests * (2 ** attempt))\n",
    "    \n",
    "    if not facts_data:\n",
    "        print(f\"Failed to get data for {symbol} after {max_retries} attempts\")\n",
    "        failed_companies.append(symbol)\n",
    "        continue\n",
    "    \n",
    "    # Extract raw financial data\n",
    "    if 'facts' in facts_data and 'us-gaap' in facts_data['facts']:\n",
    "        company_name = facts_data.get('entityName', 'Unknown')\n",
    "        print(f\"Processing data for {company_name}\")\n",
    "        \n",
    "        us_gaap_facts = facts_data['facts']['us-gaap']\n",
    "        \n",
    "        company_records = []\n",
    "        for concept, concept_data in us_gaap_facts.items():\n",
    "            units = concept_data.get('units', {})\n",
    "            \n",
    "            for unit_type, values in units.items():\n",
    "                for value_data in values:\n",
    "                    record = {\n",
    "                        'symbol': symbol,\n",
    "                        'cik': cik,\n",
    "                        'company_name': company_name,\n",
    "                        'concept': concept,\n",
    "                        'unit': unit_type,\n",
    "                        'start': value_data.get('start', None),\n",
    "                        'end': value_data.get('end', None),\n",
    "                        'filed': value_data.get('filed', None),\n",
    "                        'form': value_data.get('form', None),\n",
    "                        'frame': value_data.get('frame', None),\n",
    "                        'value': value_data.get('val', None)\n",
    "                    }\n",
    "                    company_records.append(record)\n",
    "        \n",
    "        if company_records:\n",
    "            # Convert to DataFrame and save individual company file\n",
    "            company_df = pd.DataFrame(company_records)\n",
    "            \n",
    "            # Convert dates\n",
    "            for date_col in ['start', 'end', 'filed']:\n",
    "                company_df[date_col] = pd.to_datetime(company_df[date_col], errors='coerce')\n",
    "            \n",
    "            # Save individual company raw data\n",
    "            company_file = os.path.join(data_dir, f\"{symbol}_raw_financials.csv\")\n",
    "            company_df.to_csv(company_file, index=False)\n",
    "            \n",
    "            # Add to master list\n",
    "            all_raw_data.extend(company_records)\n",
    "            processed_companies.append(symbol)\n",
    "            \n",
    "            print(f\"Saved {len(company_records)} records for {symbol}\")\n",
    "        else:\n",
    "            print(f\"No financial data found for {symbol}\")\n",
    "            failed_companies.append(symbol)\n",
    "    else:\n",
    "        print(f\"No US-GAAP facts found for {symbol}\")\n",
    "        failed_companies.append(symbol)\n",
    "    \n",
    "    # Wait between requests\n",
    "    time.sleep(delay_between_requests)\n",
    "\n",
    "print(f\"\\nDownload complete!\")\n",
    "print(f\"Successfully processed: {len(processed_companies)} companies\")\n",
    "print(f\"Failed: {len(failed_companies)} companies\")"
   ]
  },
  {
   "cell_type": "markdown",
   "metadata": {},
   "source": [
    "# This section is to parse text data from the HTML format and categorize each section\n",
    "\n",
    "\n",
    "The idea here is First I will find any text that has the starting pattern (i.e Item 1 Business). It also needs to have the ending pattern i.e Item 1A. When that is the case then the text in between is the text that is part of Item 1. This approach works for most of the companies tested.\n",
    "Same for all the other parts.\n",
    "\n",
    "I am also making sure the longest text is the main text, (This way it ignores table of contents or other anomalies)"
   ]
  },
  {
   "cell_type": "code",
   "execution_count": null,
   "metadata": {},
   "outputs": [],
   "source": [
    "import os\n",
    "import requests\n",
    "import pandas as pd\n",
    "import time\n",
    "\n",
    "# Headers for SEC API requests\n",
    "headers = {\n",
    "    'User-Agent': 'Maseeh Faizan maseeh.faizan@unil.ch'\n",
    "}\n",
    "\n",
    "# Base URL for SEC data\n",
    "base_url = \"https://data.sec.gov\"\n",
    "\n",
    "# Create directory for storing filings\n",
    "os.makedirs('./data/sec_filings', exist_ok=True)\n",
    "\n",
    "# Loop through all companies in the dataframe\n",
    "for _, row in sp500.iterrows():\n",
    "    company = row['Symbol']\n",
    "    cik = row['CIK']\n",
    "\n",
    "    print(f\"Processing {company} (CIK: {cik})...\")\n",
    "\n",
    "    try:\n",
    "        # Get company submissions\n",
    "        submissions_url = f\"{base_url}/submissions/CIK{cik:010d}.json\"\n",
    "        response = requests.get(submissions_url, headers=headers)\n",
    "        response.raise_for_status()\n",
    "        submissions = response.json()\n",
    "\n",
    "        # Convert to DataFrame\n",
    "        submissions_df = pd.DataFrame(submissions['filings']['recent'])\n",
    "\n",
    "        # Filter for 10-K filings\n",
    "        submissions_df = submissions_df[submissions_df['form'] == '10-K']\n",
    "\n",
    "        # Create document URLs\n",
    "        submissions_df['doc_url'] = submissions_df.apply(\n",
    "            lambda x: f\"https://www.sec.gov/Archives/edgar/data/{cik}/{x['accessionNumber'].replace('-', '')}/{x['primaryDocument']}\",\n",
    "            axis=1\n",
    "        )\n",
    "\n",
    "        # Skip if no 10-K filings found\n",
    "        if len(submissions_df) == 0:\n",
    "            print(f\"No 10-K filings found for {company}\")\n",
    "            continue\n",
    "\n",
    "        # Download each filing\n",
    "        for idx, filing_row in submissions_df.iterrows():\n",
    "            url = filing_row['doc_url']\n",
    "            form = filing_row['form']\n",
    "            date = filing_row['reportDate']\n",
    "\n",
    "            # Create filename with company symbol\n",
    "            filename = f\"{company}_{form}_{date}.html\"\n",
    "            file_path = os.path.join('sec_filings', filename)\n",
    "\n",
    "            try:\n",
    "                response = requests.get(url, headers=headers)\n",
    "                with open(file_path, 'w', encoding='utf-8') as f:\n",
    "                    f.write(response.text)\n",
    "                print(f\"Downloaded: {filename}\")\n",
    "            except Exception as e:\n",
    "                print(f\"Error downloading {filename}: {e}\")\n",
    "\n",
    "        print(f\"Completed {company} ({len(submissions_df)} filings)\")\n",
    "\n",
    "        # Add a small delay to be respectful of SEC's servers\n",
    "        time.sleep(0.1)\n",
    "\n",
    "    except Exception as e:\n",
    "        print(f\"Error processing {company}: {e}\")\n",
    "\n",
    "print(\"All companies processed!\")"
   ]
  }
 ],
 "metadata": {
  "kernelspec": {
   "display_name": "Python 3",
   "language": "python",
   "name": "python3"
  },
  "language_info": {
   "codemirror_mode": {
    "name": "ipython",
    "version": 3
   },
   "file_extension": ".py",
   "mimetype": "text/x-python",
   "name": "python",
   "nbconvert_exporter": "python",
   "pygments_lexer": "ipython3",
   "version": "3.13.2"
  }
 },
 "nbformat": 4,
 "nbformat_minor": 2
}
